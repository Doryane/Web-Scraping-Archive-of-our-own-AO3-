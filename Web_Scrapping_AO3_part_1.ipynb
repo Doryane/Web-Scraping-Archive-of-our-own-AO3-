{
  "nbformat": 4,
  "nbformat_minor": 0,
  "metadata": {
    "colab": {
      "provenance": [],
      "authorship_tag": "ABX9TyPd2CRHrbiAg2xSLuo8WvxR",
      "include_colab_link": true
    },
    "kernelspec": {
      "name": "python3",
      "display_name": "Python 3"
    },
    "language_info": {
      "name": "python"
    }
  },
  "cells": [
    {
      "cell_type": "markdown",
      "metadata": {
        "id": "view-in-github",
        "colab_type": "text"
      },
      "source": [
        "<a href=\"https://colab.research.google.com/github/Doryane/Web-Scrapping-Archive-of-our-own-AO3-/blob/main/Web_Scrapping_AO3_part_1.ipynb\" target=\"_parent\"><img src=\"https://colab.research.google.com/assets/colab-badge.svg\" alt=\"Open In Colab\"/></a>"
      ]
    },
    {
      "cell_type": "code",
      "source": [
        "import time\n",
        "start_time = time.time()\n",
        "#main()"
      ],
      "metadata": {
        "id": "P_5iqIbHFMl2"
      },
      "execution_count": 1,
      "outputs": []
    },
    {
      "cell_type": "markdown",
      "source": [
        "Web Scripping pour AO3 based on following code :\n",
        "https://github.com/kenalba/ao3-scraper/blob/main/scraper.py"
      ],
      "metadata": {
        "id": "q6jA7M3M_Yp1"
      }
    },
    {
      "cell_type": "markdown",
      "source": [
        "So the first code is a detail list of how to append the data, it's quite long and not optimize.\n",
        "The idea here is if you just want to append some data (like only the date and the ID) you can shape it as you want."
      ],
      "metadata": {
        "id": "DaMdhSrBTwQ8"
      }
    },
    {
      "cell_type": "markdown",
      "source": [
        "\n",
        "\n",
        "---\n",
        "\n",
        "# What this code do ?\n",
        "\n",
        "With this code you can append the following information from AO3 and put it into a data frame from a certain page to another\n",
        "\n",
        "*  Story IDS of the work\n",
        "*  Updated date of the work\n",
        "*  Title and author of the work\n",
        "*  Language of the work\n",
        "*  Number of words in the work\n",
        "*  Number of chapter in the work\n",
        "*  Number of hits \n",
        "*  Requiered tags \n",
        "*  Additionnal tags\n",
        "\n",
        "At the end of the code, you can find some graph and histogram on time and published work.\n",
        "\n",
        "Then you'll have a section on how to find a tag in works if needed."
      ],
      "metadata": {
        "id": "1er_IHhgyxwX"
      }
    },
    {
      "cell_type": "markdown",
      "source": [
        "\n",
        "\n",
        "---\n",
        "# How to use the code ?\n",
        "\n",
        "**Step 1 : Set the parameters**\n",
        "\n",
        "You want to append the data from wich page to wich page and from wich fandom.\n",
        "\n",
        "If you want to append a lot of data use the **SAME interval** of page from one to another. It's for part 3.\n",
        "\n",
        "**Step 2 : Verify the library**\n",
        "\n",
        "Check if every package is download.\n",
        "\n",
        "**Step 3 : Run the code multiple time with different parameter**\n",
        "\n",
        "If you want to download multiple page of data work from AO3 *you can't do it in one time*.\n",
        "\n",
        "Once you've done this step you must have a bunch of file called *per example* \"base_page_0_to_31\",\"base_page_30_to_61\",...\"base_page_90_to_121\".\n",
        "\n",
        "Use the part 3 code to mash up every base and you got a unique database of all the work you wanted from AO3."
      ],
      "metadata": {
        "id": "9Sh3ZD8wyd8x"
      }
    },
    {
      "cell_type": "markdown",
      "source": [
        "\n",
        "\n",
        "---\n",
        "# ⚠ WARNING ⚠\n",
        "Two important thing to understand when you download **many files** of data :\n",
        "\n",
        "\n",
        "1.   **You can't append more than 70 pages in one time**\n",
        "\n",
        "  If you want to append a lot of data I suggest 50 page by 50 page. I mean if you want to try to append more that's your choice but the code is optimized to append 50 by 50 (or less).\n",
        "\n",
        "  Also, one page is 20 work, so each time you run the code you can append at max 1400 works.\n",
        "\n",
        "2.   **You need to have the SAME interval of page between files**\n",
        "\n",
        "  Per example, you want to append the work from a ertain fandom, you have 457 pages in total. I would suggest to append page 1 to 50 (base_page_0_to_51), then 50 to 100 (base_page_50_to_101), ... , then 400 to 450 (base_page_400_to_450 and finally page 450 to 456 (base_page_450_to_457).\n",
        "\n",
        "  For the last one you input 456 as Number_page but its append untill page 457 because my code is WEIRD.\n",
        "\n",
        "\n"
      ],
      "metadata": {
        "id": "VwT4S6J65FIn"
      }
    },
    {
      "cell_type": "markdown",
      "source": [
        "**Sumary :**\n",
        "\n",
        "I. Initialization \n",
        "  1. Library\n",
        "  2. Parameters\n",
        "  3. Download and Soupify\n",
        "  4. The directory_urls\n",
        "\n",
        "II. Data to append\n",
        "  1. Story IDS\n",
        "  2. Data updated\n",
        "  3. Title and author of the work\n",
        "  4. Language of the work\n",
        "  5. Number of Words\n",
        "  6. Number of Chapters\n",
        "  7. Number of hits\n",
        "  8. Requiered Tags\n",
        "  9. Additionnal Tags\n",
        "\n",
        "III. The Data Frame\n",
        "  1. Inside a Data Frame\n",
        "  2. Basic graph and histogram\n",
        "  3. Find tags in works\n",
        "  4. Download a DataFrame\n"
      ],
      "metadata": {
        "id": "NN15Gk8aUHx3"
      }
    },
    {
      "cell_type": "markdown",
      "source": [
        "# Initialization"
      ],
      "metadata": {
        "id": "jnKpu4l5Uu18"
      }
    },
    {
      "cell_type": "markdown",
      "source": [
        "**Library**"
      ],
      "metadata": {
        "id": "Y-Z58CnE_xY8"
      }
    },
    {
      "cell_type": "code",
      "source": [
        "from bs4 import BeautifulSoup\n",
        "import urllib.request\n",
        "import csv\n",
        "from time import sleep\n",
        "import pickle\n",
        "from os import path\n",
        "import pandas as pd\n",
        "import datetime\n",
        "import random\n",
        "import matplotlib.pyplot as plt\n",
        "from urllib.parse import urlparse\n",
        "from google.colab import files\n",
        "\n",
        "# for whatever reason, ao3_api imports as AO3. Don't look at me.\n",
        "# import AO3"
      ],
      "metadata": {
        "id": "mO-IOSFVAZ9i"
      },
      "execution_count": 2,
      "outputs": []
    },
    {
      "cell_type": "markdown",
      "source": [
        "**Parameters**"
      ],
      "metadata": {
        "id": "NNUd4fvM_tdU"
      }
    },
    {
      "cell_type": "markdown",
      "source": [
        "We ask you to pick an URL from a fandom, it must be on the following form : \n",
        "\"https://archiveofourown.org/tags/*fandom*/\"\n",
        "I don't know if a other tag work like a ship or a character name but I'm not sure.\n",
        "Also I tried with small fandom (less than 20 work) and it bug, it's because the scrab is used with multiple pages.\n",
        "\n",
        "We can't scrab everything, some fandom are too large so we ask you to pick a number of page for use (I need to fix this latter)\n",
        "\n",
        "Edit : So tags do work but without filters"
      ],
      "metadata": {
        "id": "WqvlHOCaAnFP"
      }
    },
    {
      "cell_type": "code",
      "execution_count": 3,
      "metadata": {
        "colab": {
          "base_uri": "https://localhost:8080/",
          "height": 54
        },
        "id": "jYvzW_9u_I_5",
        "outputId": "7638f5e8-d955-44e1-bdc7-946e21de6c14"
      },
      "outputs": [
        {
          "output_type": "execute_result",
          "data": {
            "text/plain": [
              "\"\\nChoose the URL from the fandom of you choice, must be like the same form as the example up there\\nYes I'm a stranger things fan\\nPlease don't judge\\n\""
            ],
            "application/vnd.google.colaboratory.intrinsic+json": {
              "type": "string"
            }
          },
          "metadata": {},
          "execution_count": 3
        }
      ],
      "source": [
        "TEST_URL = \"https://archiveofourown.org/tags/Stranger%20Things%20(TV%202016)/\"\n",
        "#TEST_URL = \"https://archiveofourown.org/tags/Argyle*s*Jonathan%20Byers/\"\n",
        "#TEST_URL = \"https://archiveofourown.org/tags/Will%20Byers%20Needs%20a%20Hug/\"\n",
        "\n",
        "\"\"\"\n",
        "Choose the URL from the fandom of you choice, must be like the same form as the example up there\n",
        "Yes I'm a stranger things fan\n",
        "Please don't judge\n",
        "\"\"\""
      ]
    },
    {
      "cell_type": "code",
      "source": [
        "Beginning_Page = 1\n",
        "\n",
        "\"\"\"\n",
        "Beginning_Page is like the name indicate, the beginning of the page you want to append the works\n",
        "By default it's one and ITS MUST BE UNDER Number_page\n",
        "Otherwise I would be sad\n",
        "\"\"\""
      ],
      "metadata": {
        "colab": {
          "base_uri": "https://localhost:8080/",
          "height": 54
        },
        "id": "zDA9O9x9JdZh",
        "outputId": "e6c98916-607b-4de7-8e70-a7d4391a0fac"
      },
      "execution_count": 4,
      "outputs": [
        {
          "output_type": "execute_result",
          "data": {
            "text/plain": [
              "\"\\nBeginning_Page is like the name indicate, the beginning of the page you want to append the works\\nBy default it's one and ITS MUST BE UNDER Number_page\\nOtherwise I would be sad\\n\""
            ],
            "application/vnd.google.colaboratory.intrinsic+json": {
              "type": "string"
            }
          },
          "metadata": {},
          "execution_count": 4
        }
      ]
    },
    {
      "cell_type": "code",
      "source": [
        "Number_page = 100\n",
        "Number_page = Number_page + 1\n",
        "\n",
        "\"\"\"\n",
        "With the function below we can't scrab everything, so we ask you a number of page to scrab\n",
        "Remember that one page is 20 works, so 5 page would be 100 works\n",
        "Please verify the total number of page from the fandom, Number_page must be below the maximum of page\n",
        "\n",
        "Also I'm adding a page because in python index starts at 0 so if you want 5 pages I'm just gonna add one more but it's still 5 pages\n",
        "\n",
        "EDIT : This is a stupid reasoning btw but I let that slide\n",
        "\"\"\""
      ],
      "metadata": {
        "colab": {
          "base_uri": "https://localhost:8080/",
          "height": 91
        },
        "id": "m-YEPJNJB-40",
        "outputId": "bd08e163-95b6-47ce-860a-9e1737c66466"
      },
      "execution_count": 5,
      "outputs": [
        {
          "output_type": "execute_result",
          "data": {
            "text/plain": [
              "\"\\nWith the function below we can't scrab everything, so we ask you a number of page to scrab\\nRemember that one page is 20 works, so 5 page would be 100 works\\nPlease verify the total number of page from the fandom, Number_page must be below the maximum of page\\n\\nAlso I'm adding a page because in python index starts at 0 so if you want 5 pages I'm just gonna add one more but it's still 5 pages\\n\\nEDIT : This is a stupid reasoning btw but I let that slide\\n\""
            ],
            "application/vnd.google.colaboratory.intrinsic+json": {
              "type": "string"
            }
          },
          "metadata": {},
          "execution_count": 5
        }
      ]
    },
    {
      "cell_type": "markdown",
      "source": [
        "**Download and Soupify**"
      ],
      "metadata": {
        "id": "SkCoayvkC9hv"
      }
    },
    {
      "cell_type": "markdown",
      "source": [
        "This function allow us to download the html page.\n",
        "You don't have anything to do here just run the code.\n",
        "Honeslty I don't get everything but it works so that's find (i guess)."
      ],
      "metadata": {
        "id": "-zEKhx6eDCqC"
      }
    },
    {
      "cell_type": "code",
      "source": [
        "def download_and_soupify(url, parser=\"html.parser\"):\n",
        "\t\"\"\"\n",
        "\tGiven a URL, downloads the site and turns it into beautiful soup.\n",
        "\t\"\"\"\n",
        "\n",
        "\tfull_url = url + \"works\"\n",
        "\tresponse = urllib.request.urlopen(full_url)\n",
        "\tdirectory_html = response.read()\n",
        "\tindex_soup = BeautifulSoup(directory_html, parser)\n",
        "\n",
        "\treturn index_soup"
      ],
      "metadata": {
        "id": "ZE9RiNQBGS-U"
      },
      "execution_count": 6,
      "outputs": []
    },
    {
      "cell_type": "code",
      "source": [
        "index_soup = download_and_soupify(TEST_URL)\n",
        "\n",
        "\"\"\"\n",
        "We putting the soup inside of an object to use it later (to get the directory_urls)\n",
        "\"\"\""
      ],
      "metadata": {
        "colab": {
          "base_uri": "https://localhost:8080/",
          "height": 36
        },
        "id": "2wub9509EF2r",
        "outputId": "d946a45e-3321-4d19-ec09-d9b94cd86ea8"
      },
      "execution_count": 7,
      "outputs": [
        {
          "output_type": "execute_result",
          "data": {
            "text/plain": [
              "'\\nWe putting the soup inside of an object to use it later (to get the directory_urls)\\n'"
            ],
            "application/vnd.google.colaboratory.intrinsic+json": {
              "type": "string"
            }
          },
          "metadata": {},
          "execution_count": 7
        }
      ]
    },
    {
      "cell_type": "markdown",
      "source": [
        "**The directory_urls**"
      ],
      "metadata": {
        "id": "AgF_urqBEkw3"
      }
    },
    {
      "cell_type": "markdown",
      "source": [
        "We're getting every url from every page, so a url for a page.\n",
        "We are keeping every page because I'm too lazy to change the code and I still hope to find a way to scrap everything with one code, but the choose of number of page come later.\n",
        "Yeah and sorry english isn't my first language, but it's not like in AO3 that means I really suck.\n",
        "\n",
        "EDIT : I didn't find a way to scrap everything it's the same error each time \"too many request\" sorry\n",
        "\n",
        "EDIT 2 : See for part 3 if you want to scrap every page"
      ],
      "metadata": {
        "id": "v-Yu82AGEqSm"
      }
    },
    {
      "cell_type": "code",
      "source": [
        "def get_directory_urls(url, index_soup):\n",
        "\t\"\"\"\n",
        "\tGiven the base directory as soup, figure out how many pages there are,\n",
        "\tand return a list of the URLs of each directory page.\n",
        "\t\"\"\"\n",
        "\n",
        "\tpage_numbers = index_soup.find_all(\"ol\", class_=\"pagination actions\")\n",
        "\n",
        "\tli_entries = page_numbers[0].find_all(\"li\")\n",
        "\n",
        "\tli_texts = [number.text for number in li_entries]\n",
        "\tli_digits = [int(number) for number in li_texts if number.isdigit()]\n",
        "\tsorted_page_numbers = sorted(li_digits)\n",
        "\n",
        "\tnumber_of_pages = sorted_page_numbers[-1]\n",
        "\n",
        "\turl_prefix = url + \"works?page=\"\n",
        "\tdirectory_urls = [(url_prefix + str(page_number)) for page_number in range(0, number_of_pages+1)]\n",
        "\n",
        "\treturn directory_urls"
      ],
      "metadata": {
        "id": "JEXck9AaEhZs"
      },
      "execution_count": 8,
      "outputs": []
    },
    {
      "cell_type": "code",
      "source": [
        "directory_urls = get_directory_urls(TEST_URL,index_soup)\n",
        "# print(directory_urls)\n",
        "print(len(directory_urls))\n",
        "\n",
        "\"\"\"\n",
        "So we putting the directory urls inside of an object to use it later.\n",
        "We can see the lenght of directory_urls is actually the number of page the fandom contains.\n",
        "Please verify is len(directory_urls) = of the number of page from the fandom you're scrapping.\n",
        "\"\"\""
      ],
      "metadata": {
        "id": "BukBK03vFbWP"
      },
      "execution_count": null,
      "outputs": []
    },
    {
      "cell_type": "markdown",
      "source": [
        "# Data to append"
      ],
      "metadata": {
        "id": "wdo_y7f04qnw"
      }
    },
    {
      "cell_type": "markdown",
      "source": [
        "**Story IDS**"
      ],
      "metadata": {
        "id": "yucd7hXBGKCX"
      }
    },
    {
      "cell_type": "markdown",
      "source": [
        "So whatever reason you want to scrap AO3 something you'll need before anything else is the ID of the works, every work have one unique ID.\n",
        "We'll check also the number of ID we got aftermath, to check if the dimension choosen in the beggining are correct."
      ],
      "metadata": {
        "id": "Yj8eh61VGOlc"
      }
    },
    {
      "cell_type": "code",
      "source": [
        "def get_story_ids(directory_url):\n",
        "\t\"\"\"\n",
        "\tGiven a single directory URL, get all stories from that URL. Returns a list of story IDs.\n",
        "\t\"\"\"\n",
        "\n",
        "\tdir_soup = download_and_soupify(directory_url)\n",
        "\tdir_links = dir_soup.find_all(\"a\", href=True)\n",
        "\n",
        "\tdir_hrefs = [link.attrs['href'] for link in dir_links]\n",
        "\twork_hrefs = [link for link in dir_hrefs if \"/works/\" in link]\n",
        "\tpotential_ids = [work.split(\"/\")[2] for work in work_hrefs]\n",
        "\tid_list = [int(work_id) for work_id in potential_ids if work_id.isdigit()]\n",
        "\n",
        "\tstory_ids = list(set(id_list))\n",
        "\n",
        "\treturn story_ids"
      ],
      "metadata": {
        "id": "0qlsxEQwGJLS"
      },
      "execution_count": 10,
      "outputs": []
    },
    {
      "cell_type": "code",
      "source": [
        "story_ids = []\n",
        "for i in range(Beginning_Page,Number_page):\n",
        "  print(get_story_ids(directory_urls[i]))\n",
        "\n",
        "  story_ids.append(get_story_ids(directory_urls[i]))\n",
        "\n",
        "\"\"\"\n",
        "Btw sorry for the print but we need to check if the ID are different from row to row\n",
        "\"\"\""
      ],
      "metadata": {
        "id": "Mcj5Ism4Jgbh"
      },
      "execution_count": null,
      "outputs": []
    },
    {
      "cell_type": "code",
      "source": [
        "story_ids_2 = []\n",
        "for i in range(0,len(story_ids)):\n",
        " story_ids_2 = story_ids_2 + story_ids[i]\n",
        "\n",
        "print(story_ids_2)\n",
        "len(story_ids_2)\n",
        "\n",
        "\"\"\"\n",
        "This code is just use to put every ID in the same list\n",
        "Yeah I know it's quite a long code for what it do\n",
        "\"\"\""
      ],
      "metadata": {
        "colab": {
          "base_uri": "https://localhost:8080/",
          "height": 74
        },
        "id": "RZ1A4yTiKEfd",
        "outputId": "26f4cb7c-ad51-4604-aa0a-c79b38fedaa3"
      },
      "execution_count": 12,
      "outputs": [
        {
          "output_type": "stream",
          "name": "stdout",
          "text": [
            "[44157319, 44733832, 21311245, 44511886, 43212331, 44731969, 44731972, 44719444, 44709079, 40278624, 44733922, 43918179, 44674918, 41122407, 43966569, 40441965, 44732017, 43787893, 44043262, 44690431, 44728339, 40414356, 44729254, 44633647, 44730547, 44730424, 44385724, 39914823, 44471242, 44729293, 44730070, 44597209, 43106268, 43879902, 44201449, 44731375, 43690483, 42417525, 40012152, 44710138, 44727187, 44653972, 44105112, 44678296, 44726296, 44567962, 44727853, 44105782, 44726455, 44728006, 41383011, 42574950, 44728426, 42423789, 42620142, 44726386, 41134326, 44727289, 44728318, 44728063, 41164800, 44216197, 44723089, 43251858, 43957531, 44724646, 44724136, 44374447, 44667571, 44213569, 44724547, 44245705, 43583691, 44479567, 42906837, 43547607, 40622556, 44724466, 44725876, 43404024, 43761672, 44235784, 44723212, 44713501, 44591269, 44723623, 44723116, 44722480, 43395129, 44620615, 44723530, 44721610, 39625044, 44722900, 44653402, 44700253, 44722144, 44441830, 42697584, 41058033, 44720395, 44414611, 44719000, 44713501, 43909536, 41386917, 42877992, 44721322, 43436076, 44719789, 43756729, 44721487, 44720848, 44720209, 41316693, 44721256, 44720239, 44721523, 44698618, 44078334, 44718352, 44481826, 43006371, 44562991, 40383798, 44718523, 44719678, 44717890, 44718412, 44719447, 44425561, 44718556, 44718697, 44000361, 44716137, 44718700, 43106541, 44717806, 44718712, 44286078, 44715427, 44566183, 43934505, 44716714, 43997233, 44716339, 44716211, 43297845, 43738561, 44715589, 44717638, 44716501, 44102361, 42344670, 44312167, 44610151, 44717548, 41514105, 42933882, 41002749, 44032774, 44702344, 43123212, 44714134, 44023069, 44660257, 43576995, 44713636, 44713408, 44516545, 40104771, 42911946, 44374744, 43216612, 43129321, 44713453, 44265466, 42675069, 44714494, 40105215, 44537218, 44703631, 44703376, 40236687, 44434450, 43778322, 43179546, 44712235, 42676527, 44711857, 40658868, 44101834, 40664523, 43731663, 43646814, 44713312, 44711794, 44596981, 44711800, 44631550, 41231748, 44664460, 44708878, 44709007, 44708494, 44710162, 41599635, 44470810, 40699053, 43002159, 43995444, 44689210, 44133186, 44301382, 42699474, 44710360, 43613790, 43027041, 44710006, 44709112, 43424641, 43627144, 40681233, 41394456, 44706226, 43482036, 44706364, 44619337, 44707276, 43856850, 43778146, 43325667, 44707174, 43326567, 44328424, 44689897, 43995243, 44557291, 44707312, 44154226, 44714119, 44704915, 44705047, 44704153, 42517023, 44553763, 44677681, 43072182, 44705977, 44704828, 44651965, 44546620, 44691901, 44058048, 44702527, 44706115, 40116426, 42328020, 44404198, 42254187, 44073609, 44700427, 44702095, 44701468, 44703397, 43238056, 44700466, 44701498, 44700859, 40945596, 44653390, 44701519, 44331346, 44702932, 44702302, 44703730, 44514421, 44702200, 43406073, 44703358, 44254465, 44699014, 44698765, 44700202, 43623732, 40096059, 42362562, 41554758, 44698321, 44699602, 44700244, 44698966, 41656410, 44699887, 43301359, 44222575, 44594929, 42856821, 44699125, 41262078, 44694016, 44695561, 44459533, 44083728, 43607445, 44698141, 44695588, 42930729, 43268650, 44695726, 44591536, 44155060, 44336698, 41456829, 44419135, 44695879, 42479181, 43386577, 43577818, 44696416, 44695303, 43885581, 40971534, 43835151, 44694178, 44693416, 43218996, 44693563, 40751166, 44693962, 41841486, 43638745, 44693731, 44693734, 44694889, 44693737, 44693104, 44666614, 44694265, 42711420, 40397706, 44522896, 44027928, 42966168, 44691739, 43910820, 44547112, 44691886, 44659759, 40468272, 44690485, 44497852, 43999038, 44692039, 44691655, 37461841, 42431571, 44402908, 44691811, 41497854, 44689411, 40208772, 44441866, 44689039, 43213456, 44350870, 42475173, 41961897, 44689714, 44385076, 43887547, 44604091, 44689876, 43327191, 41464407, 44690137, 43802986, 44689399, 43727737, 43857147, 44688514, 44688649, 44133651, 44687383, 44634529, 44688034, 44688550, 44688553, 44686639, 44575666, 43629243, 34453564, 44688064, 43732044, 44686804, 44687317, 44688862, 40389990, 43577971, 44688505, 44681095, 44686345, 44686486, 44686231, 44686876, 42876195, 42424113, 42123954, 42276672, 44640964, 44040775, 43702987, 44117838, 44667994, 42602718, 44498284, 44684401, 42660084, 44569972, 39996279, 44682244, 43335430, 44681608, 42847758, 44683279, 44436751, 42392475, 44668198, 42986919, 44140201, 43326637, 44683318, 42626880, 44181322, 44683090, 43289694, 40981995, 44681452, 42318192, 44681458, 44400271, 44543761, 44188690, 44404129, 43845039, 44507059, 40063413, 44304442, 43145544, 44597578, 44360530, 44240339, 44572759, 44681176, 44680669, 44357473, 44685160, 44201065, 44249722, 42342267, 42188166, 44029575, 43693707, 44678029, 40867470, 41656476, 42955806, 42846111, 44193055, 44678971, 44392147, 44593750, 41369820, 44679907, 40110183, 41290344, 39343722, 41151474, 41975544, 40808958, 44677636, 43787013, 44676742, 39789339, 44395549, 44436769, 44677420, 39973815, 41350725, 44677702, 44677834, 43492170, 43546843, 41043678, 44677729, 44313577, 44677867, 44677612, 44252143, 44596474, 44363266, 44674822, 43916299, 44674831, 44542096, 44674840, 43778205, 44673958, 43547439, 44673844, 44051008, 43386445, 44675680, 44277985, 44673376, 41818596, 44673511, 43704429, 42825462, 44506111, 44673295, 44671759, 44671249, 44672791, 44673433, 43691043, 43204131, 44576422, 44588074, 44671918, 44361007, 39954360, 44670790, 42525258, 44159314, 44011603, 43184727, 44671717, 44493418, 44119914, 44670337, 40287750, 44669191, 44670991, 44669986, 44668843, 44067246, 39704883, 44670901, 44669110, 44668471, 44536120, 44669248, 44669005, 44668495, 44482396, 42636258, 42540777, 44669686, 19983097, 44666890, 44668555, 44667427, 44561191, 41374377, 44142507, 44336560, 44666548, 44334520, 44667202, 44666437, 44668615, 44498248, 44668105, 44251858, 44667877, 44666599, 39762030, 44666737, 44666359, 40475904, 42615684, 44228620, 42904353, 44665249, 44666026, 44296363, 44663212, 43770288, 44665669, 44665030, 44594386, 44663893, 42326997, 44664796, 43795296, 44101092, 41268843, 44664304, 44499583, 44167939, 43280160, 41186982, 43925164, 44663983, 44470339, 43402821, 44663626, 42142590, 44588641, 40632162, 44663530, 44663917, 44397934, 44663152, 44663026, 44662654, 44633845, 44663548, 44323582, 41742867, 44661784, 44308378, 41936412, 44571043, 44657317, 44548006, 41077161, 44643115, 41788971, 41273397, 44372923, 44661442, 44330437, 44661190, 44521672, 44635111, 39558003, 44661367, 44053245, 40731399, 40932999, 43712397, 44659351, 44659747, 41335098, 44659390, 44532670, 44650309, 44620159, 44136403, 43432158, 41827299, 40954854, 44659174, 44179816, 44659441, 44659057, 42412533, 44660479, 44454667, 44650525, 44655775, 43101477, 44273062, 44212651, 44368558, 43900215, 41869368, 43237053, 41736894, 42852684, 43714260, 42669141, 44669401, 43119345, 44524789, 43399288, 44624509, 44657662, 44500864, 44454667, 44655124, 42326040, 42406557, 44167852, 44654512, 44091058, 40684101, 44050125, 42963663, 43898448, 43751250, 40249173, 43877463, 44654824, 44306668, 44423149, 44654968, 44094846, 44653189, 43707168, 44653099, 42934956, 44427949, 44653870, 43904431, 44652922, 42229302, 44651578, 44652355, 44650822, 43503057, 44654290, 43496545, 41639649, 44653048, 44621305, 44651770, 44651899, 44650756, 43760389, 44647564, 44356621, 44650393, 44648887, 44615737, 43973316, 42101835, 44649169, 44649301, 41822937, 43081050, 44004828, 43089630, 41904621, 42232944, 41692401, 43611636, 40753791, 44647552, 44499331, 44474374, 44647561, 42454287, 44646934, 44044569, 43921308, 44646685, 43521825, 44454052, 42782646, 41146809, 44647753, 44540116, 41992155, 44060898, 44195818, 40692861, 44646910, 44427523, 40817049, 44359456, 44646703, 41642160, 44645551, 44645554, 44644534, 40310076, 44645191, 40486218, 44646613, 44645599, 44644708, 40266216, 43892590, 44645614, 42137334, 44614135, 44646013, 43622784, 44644225, 42756750, 44643487, 44643256, 44532931, 44643916, 44419405, 44643409, 44644690, 43609041, 44642257, 40493781, 43723491, 44643691, 44644081, 43543669, 43863414, 44499451, 44593276, 43924224, 28158084, 38993034, 44214796, 44617999, 44302354, 44640667, 44020380, 42717603, 44640163, 44639926, 44641081, 44420410, 44640700, 41935431, 44119755, 44640976, 39788499, 43076694, 40297599, 43993218, 44638597, 42488463, 41042835, 44639767, 44639395, 44041764, 44638393, 44639674, 41065920, 42100932, 42268101, 41254869, 44637142, 41700438, 44638306, 41452137, 44638450, 41980665, 44511484, 44637955, 44602513, 43772946, 44464162, 44636329, 44635951, 44636464, 44637112, 44636476, 43772736, 44638276, 44139591, 44616904, 44232265, 44330584, 44636392, 38104555, 44290543, 44636539, 43593852, 44612224, 44538511, 44377999, 44468116, 42017049, 44635420, 40944939, 40753074, 42069942, 40299066, 43757898, 42952530, 40157913, 42660699, 44633437, 44635492, 44353771, 44470252, 36060529, 43124349, 44514691, 44629381, 44442634, 44077069, 40328223, 44350756, 44629414, 44434858, 44629165, 44632252, 43798591, 40994625, 44632144, 44115936, 44569444, 41335911, 44210536, 43597929, 44139630, 44631163, 44497813, 44303638, 44310934, 44609560, 42557853, 43121310, 44475040, 44437540, 44142118, 41223081, 43595958, 44629051, 42896964, 44484292, 41626965, 44152026, 43866978, 44157799, 43940082, 44628346, 43710081, 44427778, 40475397, 44135814, 44492680, 44446348, 42727821, 39981198, 44623630, 44178076, 44626732, 43357101, 41863608, 43429308, 41616972, 44625121, 39637092, 43216500, 42357624, 42037500, 44621698, 44519812, 44622859, 43659663, 43324053, 40224666, 42279711, 44620192, 44620066, 44621875, 44082114, 40812738, 44209876, 44621434, 42668508, 44622700, 42299634, 44623477, 44620282, 44623357, 41238912, 44617732, 43702150, 44617996, 42223641, 44618014, 44264734, 44616484, 44617255, 44557507, 44401738, 44127051, 42756816, 44619088, 44619346, 44617048, 44618842, 44619484, 44618464, 42976995, 44614537, 44615953, 44616085, 43398550, 44614684, 44615461, 44615083, 43669815, 44351161, 43895613, 44304454, 44615632, 40487889, 44614114, 44615014, 44164969, 44614507, 44498158, 44126064, 42863484, 44191891, 44612503, 43974043, 40127388, 44612776, 40662441, 44613049, 44613691, 42147909, 44612938, 44613082, 43692507, 42702813, 44612839, 44613997, 42426480, 44612593, 44082546, 43661556, 42018423, 40596489, 41669130, 44611216, 44611882, 44610607, 43999665, 44610616, 44046396, 43950652, 44470591, 44612287, 44612290, 44591944, 44139213, 44608480, 44612071, 44611957, 44612221, 43925118, 41487999, 44553985, 44604946, 44297362, 44608408, 44608666, 44609563, 42939549, 43277853, 44609575, 44610370, 42796356, 41731269, 42194760, 44608201, 44610388, 44609620, 44610778, 44607841, 44411767, 44609791, 44246272, 40780041, 44229133, 44604313, 44601505, 44606626, 44604331, 44606254, 44606002, 44605369, 44605522, 43098195, 44420701, 43057887, 44605162, 40845933, 41662197, 43379704, 42427773, 44607103, 43433605, 42019719, 42903306, 44601493, 44603683, 44592421, 43983654, 44346538, 44094513, 44435263, 44602579, 42878424, 44498656, 44602981, 44601832, 44599912, 44261494, 43751800, 44603770, 43750654, 42900609, 41924355, 42281874, 44406934, 44549533, 44598304, 42991797, 44078649, 44497213, 43415358, 44594239, 44269903, 44597842, 43331283, 44551648, 44125929, 44600299, 40090482, 43410933, 44598013, 44516353, 44502025, 44594323, 43773204, 44595997, 44594464, 44108460, 44595757, 43931187, 44595508, 43061556, 44594230, 40220340, 43424317, 44594368, 44003535, 44594518, 23896432, 41033595, 44595838, 41413257, 44592661, 44512534, 44593699, 21277862, 44593216, 44310214, 44590162, 44007891, 44590804, 44112220, 44593756, 44074467, 44593261, 44590708, 44589685, 44145142, 43541239, 44592253, 42180351, 43753728, 41057664, 44588038, 44588551, 44190883, 44587555, 44062245, 44588590, 44587834, 43276356, 43800393, 44323147, 43873111, 44575831, 40476000, 44588644, 44588005, 44252782, 44588272, 44118906, 43605651, 43586710, 44149785, 44586394, 44586526, 44586037, 41256246, 44585272, 42223041, 44540356, 44117193, 44586697, 44586571, 40983243, 44462926, 44576470, 43876837, 44586598, 42947187, 44299258, 42587397, 43977861, 44583685, 44560522, 44583058, 40168851, 44585236, 44582932, 43231006, 41449515, 40431147, 41200944, 43121331, 42732240, 44020434, 43412050, 44541010, 44496988, 44581234, 42836346, 43899010, 43146756, 44568598, 41365272, 44561824, 40559139, 44580646, 44117928, 44474410, 44580148, 44581051, 43734076, 13479756, 19745485, 43819087, 40643154, 42675033, 44420215, 44582266, 42794493, 41309964, 43868179, 43844376, 43081113, 44579740, 44018475, 43421361, 44577469, 44578750, 44542405, 44532304, 44579287, 43371108, 44577127, 44579818, 44577898, 41359338, 43400685, 41090415, 44579326, 43757323, 44576398, 44214031, 43907475, 43527957, 44077605, 40755879, 44576812, 44414509, 44574895, 39626034, 44575813, 41877843, 44252758, 44576857, 40628190, 44263777, 44509540, 39779301, 44540410, 41967750, 44518540, 42967440, 44149524, 44573464, 44574235, 44573086, 42323493, 42853290, 44571961, 42535365, 44561359, 40213200, 44031960, 40906329, 44533468, 40819941, 35098471, 44570989, 42927615, 44568448, 44224643, 44083605, 44569501, 44570026, 43523247, 42366384, 44568250, 44568508, 44568391, 44569678, 44570191, 44569297, 44147929, 43487712, 44566753, 43781347, 44570470, 21812077, 44569468, 44566408, 41732493, 44565262, 44568079, 42499233, 44568229, 44567719, 44213419, 44278702, 44568241, 44567992, 39720120, 43637308, 44142153, 44307916, 44567635, 41063004, 43677411, 43626345, 44565751, 40524549, 44563723, 44061711, 44563729, 44563861, 41036955, 44563489, 44563105, 42588972, 43416243, 44563774, 39755454, 44564932, 44563654, 44247892, 44033247, 42992100, 39733224, 34373113, 44548348, 44561152, 44561026, 44560132, 40301976, 44395933, 42494883, 44561833, 44521003, 44562874, 44560324, 44563279, 44544847, 44562913, 44560486, 44561767, 44560744, 42909678, 43776883, 44560891, 43985277, 44559367, 44558233, 44557084, 44558500, 41032101, 44559793, 43344435, 44557498, 44558401, 44557381, 41422923, 42513228, 44554957, 44225239, 41131737, 44557279, 42153321, 44021617, 43316341, 44559094, 44110980, 44555530, 41639949, 43991437, 40875039, 44554402, 44555944, 44555434, 44552629, 44553283, 40847319, 44116824, 44537305, 44498653, 44145504, 44223073, 44555494, 42895974, 44368753, 44474746, 44551429, 44550922, 40043928, 40677408, 44549794, 44551978, 40991286, 44551606, 44549560, 43666230, 44549692, 44549437, 43278144, 42606657, 42063552, 43548993, 44551120, 44506714, 44506588, 44170717, 44548108, 44547484, 40197282, 44546614, 44126649, 41201082, 43955008, 44547649, 41974083, 44405326, 44548180, 44547553, 42412263, 44548969, 44546668, 44547058, 44548987, 44546173, 42439806, 43166847, 44545153, 43887489, 44425477, 44543752, 43306248, 44545423, 44544784, 44545300, 41648538, 44545456, 41724729, 43542586, 44544322, 44545108, 44545621, 43866462, 44545504, 44545897, 44545909, 44544892, 43658886, 44544016, 43298583, 44281778, 44449591, 44542903, 43349059, 44542276, 44544070, 44542663, 44543443, 44543446, 44474200, 41990619, 44542975, 44542819, 44543605, 44542198, 44544253, 44192767, 44541697, 44468611, 43647754, 44539789, 41667726, 44429206, 44522401, 44540197, 40132011, 40157739, 44539315, 44540725, 41108028, 44400703, 40721991, 41876430, 40722024, 36315499, 44532592, 41576568, 43951362, 44537233, 44538775, 43541886, 44532772, 43883175, 44534440, 42884403, 44537014, 43100856, 44539198, 44537794, 42968658, 44536531, 44232922, 40222689, 44536042, 44537458, 43936891, 43639294, 41360514, 44072838, 42547590, 39753609, 44531347, 44535583, 44535076, 44529580, 40970418, 43542219, 43974219, 44130379, 43952728, 44535256, 41596377, 44531683, 42872937, 44530933, 44534776, 41074557, 44222851, 41116950, 40949655, 43725208, 44526880, 41008419, 44529337, 43607994, 44528830, 44358463, 44202175, 44528335, 43422417, 44438098, 44529109, 40425690, 40358883, 43178725, 42708459, 44529652, 44524561, 44527507, 44006685, 43301793, 43512495, 39689784, 44053957, 42860616, 44525641, 44268364, 43223251, 44524888, 44524897, 44524642, 40597089, 44527612, 44525551, 44525431, 44502652, 44231806, 44522245, 44521354, 40023051, 44130193, 41825448, 44523433, 44522803, 44521921, 42324930, 44520388, 44522053, 43326798, 44523349, 43850838, 44520022, 44520415, 42555360, 40653171, 43752948, 44375419, 44519680, 44247808, 41963523, 42500484, 40895373, 42277665, 44517031, 43840173, 44517826, 44519551, 43082706, 44517844, 44471641, 44249050, 44519521, 42840294, 44440300, 43820526, 44519290, 43623423, 44514688, 44041857, 40430739, 44516638, 44515123, 39922869, 43564989, 44516158, 44515261, 44513860, 44515909, 44482501, 44516302, 44516176, 42696027, 44515684, 44516590, 43058286, 44514031, 42356721, 44512003, 43242378, 44513548, 44511901, 40774308, 44178982, 44511913, 44512042, 44501932, 44512579, 40265163, 44510158, 44511448, 40173150, 44213860, 44509798, 44512759, 43500666, 44511997, 44513278, 44510467, 44511118, 41718672, 44508697, 44511133, 44509597, 41239584, 44509234, 42492219, 16911174, 40166988, 44510158, 44509903, 44510422, 44509402, 44509405, 44509408, 41541474, 44508412, 44508541, 43414279, 41985543, 42716940, 43808269, 40285716, 44506798, 44125491, 43742388, 41406783, 44408770, 44406856, 44495182, 44009934, 44508241, 44494162, 42845406, 43700832, 44491879, 43045479, 44026990, 44506762, 44452108, 40620951, 44504740, 44506414, 44505391, 44502715, 44503744, 43335631, 43203921, 40546131, 44503126, 44504791, 44506072, 39338073, 39654753, 43821291, 44505196, 43021167, 44211454, 44502400, 44501902, 39270171, 44501029, 43288104, 43819690, 44500531, 44501695, 44502082, 41060805, 43593165, 44502607, 44502358, 44502235, 44499682, 39466212, 40957926, 44311402, 44501239, 44502649, 44496517, 44497927, 44498191, 42993168, 44496019, 44306590, 44497822, 41092647, 44220205, 44497072, 43899312, 44286642, 44496583, 44496328, 44497876, 44403673, 44474857, 44497009, 44497396, 44497783, 44338699, 41336214, 44493463, 44495641, 44494618, 44492446, 43848478, 44443936, 43331617, 44493097, 43479210, 44494903, 44494669, 44429020, 42907998, 38910432, 44494822, 44494063, 44492656, 44494579, 44223747, 44457094, 44492053, 41847717, 44489002, 43190955, 44298796, 40834614, 44486587, 44490556, 44488900, 44489935, 44486866, 43849818, 44488291, 44029416, 43826547, 44365429, 44371957, 41382015, 16876677, 44486923, 44487052, 44181646, 43893786, 44486683, 39565092, 41706168, 42144315, 42848958, 44145858, 44099142, 44480842, 42317517, 43422045, 44023798, 41118711, 44485240, 43364985, 44487931, 44483077, 44482186, 43059594, 44399380, 44482075, 42756513, 44482087, 17794088, 43855402, 44482609, 41631813, 44117320, 43610442, 44084046, 43204819, 44395348, 44478676, 44415454, 41417448, 41611518, 44478850, 41589507, 44315149, 44480143, 43530768, 42370590, 41351841, 44478373, 44478760, 44380720, 43781061, 44478406, 44480458, 43340236, 44478286, 42093012, 42839766, 44479837, 44478709, 44479990, 44191747, 44476039, 44477194, 41981709, 44477851, 44478115, 44475811, 44475688, 44476987, 43932348, 44478268, 44478142, 41964228, 44477389, 44364241, 44478040, 44475739, 44316514, 44129386, 44473846, 42266112, 39730050, 44475142, 44070678, 44473240, 44006680, 44475550, 44311459, 44474689, 44475076, 44152396, 44474446, 44473936, 44474194, 44472661, 44474842, 44475226, 44475622, 40112112, 44473468, 44469766, 44471176, 43826703, 44035219, 44471965, 40343199, 44143011, 44469799, 43983276, 44470450, 41745204, 41392449, 44472643, 42779589, 41297100, 44471629, 44471773, 40450149, 43337968, 42534513, 44469382, 44414218, 43244685, 42543633, 44467474, 44469403, 44467999, 40099743, 39784740, 43017129, 40160169, 44468395, 44469049, 44468425, 44296906, 44468695, 43908450, 41519598, 44449534, 44468863, 44465155, 40778628, 44465167, 44465578, 44466994, 44465332, 44467126, 44249014, 44467012, 44464708, 43905865, 44465875, 44466265, 40871646, 40467435, 42958833, 44465014, 44464375, 41440122, 44465275, 44195347, 42023316, 42566805, 44460823, 42566811, 44377000, 44029359, 44463289, 44068923, 44462398, 44447422, 44462914, 41915844, 42362952, 44213833, 44318299, 40882788, 44463469, 44462842, 40308990]\n"
          ]
        },
        {
          "output_type": "execute_result",
          "data": {
            "text/plain": [
              "\"\\nThis code is just use to put every ID in the same list\\nYeah I know it's quite a long code for what it do\\n\""
            ],
            "application/vnd.google.colaboratory.intrinsic+json": {
              "type": "string"
            }
          },
          "metadata": {},
          "execution_count": 12
        }
      ]
    },
    {
      "cell_type": "markdown",
      "source": [
        "**Date updated**"
      ],
      "metadata": {
        "id": "y0BOiQBUG_hu"
      }
    },
    {
      "cell_type": "markdown",
      "source": [
        "Ok so the main reason I'm doing this is to check how the add of work evolve throught time so I'm adding the datetime to it.\n",
        "The function is actually made by myself so if it doesn't work you know why."
      ],
      "metadata": {
        "id": "vAZiLGNGHBrY"
      }
    },
    {
      "cell_type": "code",
      "source": [
        "def datetime(directory_url):\n",
        "  dir_soup = download_and_soupify(directory_url)\n",
        "  for x in dir_soup.findAll(\"p\",{\"class\":\"datetime\"}):\n",
        "    text=x.get_text()\n",
        "    date_work.append(str(text))\n",
        "\n",
        "    \"\"\"\n",
        "    I know you gonna ask me 'But Doryane, date_work isn't define that doesn't make sens' and you right, but I define it after so no worry\n",
        "    Jeez my commentary are useless sorry for that\n",
        "    I'm just really bored at work and taping a lot make people think I'm working hard (I'm not)\n",
        "    \"\"\""
      ],
      "metadata": {
        "id": "01rJHeqyHRs3"
      },
      "execution_count": 13,
      "outputs": []
    },
    {
      "cell_type": "code",
      "source": [
        "date_work = []\n",
        "for i in range(Beginning_Page,Number_page):\n",
        "  date_work.append(datetime(directory_urls[i]))\n",
        "\n",
        "print(date_work)\n",
        "len(date_work)"
      ],
      "metadata": {
        "colab": {
          "base_uri": "https://localhost:8080/"
        },
        "id": "DdU4VRDYIAwm",
        "outputId": "1fa5d921-341c-4683-fb2f-e1848502029c"
      },
      "execution_count": 14,
      "outputs": [
        {
          "output_type": "stream",
          "name": "stdout",
          "text": [
            "['02 Feb 2023', '02 Feb 2023', '02 Feb 2023', '02 Feb 2023', '02 Feb 2023', '02 Feb 2023', '02 Feb 2023', '02 Feb 2023', '02 Feb 2023', '02 Feb 2023', '02 Feb 2023', '02 Feb 2023', '02 Feb 2023', '02 Feb 2023', '02 Feb 2023', '02 Feb 2023', '02 Feb 2023', '02 Feb 2023', '02 Feb 2023', '02 Feb 2023', None, '02 Feb 2023', '02 Feb 2023', '02 Feb 2023', '02 Feb 2023', '02 Feb 2023', '02 Feb 2023', '02 Feb 2023', '02 Feb 2023', '02 Feb 2023', '02 Feb 2023', '02 Feb 2023', '02 Feb 2023', '02 Feb 2023', '02 Feb 2023', '02 Feb 2023', '02 Feb 2023', '02 Feb 2023', '02 Feb 2023', '02 Feb 2023', '02 Feb 2023', None, '02 Feb 2023', '02 Feb 2023', '02 Feb 2023', '02 Feb 2023', '02 Feb 2023', '02 Feb 2023', '02 Feb 2023', '02 Feb 2023', '01 Feb 2023', '02 Feb 2023', '02 Feb 2023', '02 Feb 2023', '02 Feb 2023', '02 Feb 2023', '02 Feb 2023', '02 Feb 2023', '02 Feb 2023', '02 Feb 2023', '02 Feb 2023', '02 Feb 2023', None, '02 Feb 2023', '02 Feb 2023', '02 Feb 2023', '02 Feb 2023', '02 Feb 2023', '02 Feb 2023', '01 Feb 2023', '02 Feb 2023', '01 Feb 2023', '01 Feb 2023', '02 Feb 2023', '01 Feb 2023', '02 Feb 2023', '02 Feb 2023', '02 Feb 2023', '02 Feb 2023', '02 Feb 2023', '02 Feb 2023', '01 Feb 2023', '01 Feb 2023', None, '02 Feb 2023', '01 Feb 2023', '02 Feb 2023', '02 Feb 2023', '02 Feb 2023', '02 Feb 2023', '02 Feb 2023', '02 Feb 2023', '02 Feb 2023', '02 Feb 2023', '02 Feb 2023', '01 Feb 2023', '02 Feb 2023', '01 Feb 2023', '02 Feb 2023', '02 Feb 2023', '01 Feb 2023', '02 Feb 2023', '02 Feb 2023', '02 Feb 2023', None, '02 Feb 2023', '02 Feb 2023', '02 Feb 2023', '01 Feb 2023', '02 Feb 2023', '02 Feb 2023', '02 Feb 2023', '02 Feb 2023', '02 Feb 2023', '01 Feb 2023', '02 Feb 2023', '02 Feb 2023', '01 Feb 2023', '02 Feb 2023', '01 Feb 2023', '02 Feb 2023', '02 Feb 2023', '02 Feb 2023', '01 Feb 2023', '01 Feb 2023', None, '02 Feb 2023', '02 Feb 2023', '02 Feb 2023', '01 Feb 2023', '01 Feb 2023', '01 Feb 2023', '01 Feb 2023', '01 Feb 2023', '01 Feb 2023', '01 Feb 2023', '01 Feb 2023', '01 Feb 2023', '01 Feb 2023', '02 Feb 2023', '01 Feb 2023', '01 Feb 2023', '01 Feb 2023', '02 Feb 2023', '01 Feb 2023', '01 Feb 2023', None, '01 Feb 2023', '01 Feb 2023', '01 Feb 2023', '01 Feb 2023', '01 Feb 2023', '01 Feb 2023', '01 Feb 2023', '01 Feb 2023', '01 Feb 2023', '01 Feb 2023', '01 Feb 2023', '01 Feb 2023', '01 Feb 2023', '01 Feb 2023', '01 Feb 2023', '01 Feb 2023', '01 Feb 2023', '01 Feb 2023', '01 Feb 2023', '01 Feb 2023', None, '01 Feb 2023', '01 Feb 2023', '01 Feb 2023', '01 Feb 2023', '01 Feb 2023', '01 Feb 2023', '01 Feb 2023', '01 Feb 2023', '01 Feb 2023', '01 Feb 2023', '01 Feb 2023', '01 Feb 2023', '01 Feb 2023', '01 Feb 2023', '01 Feb 2023', '01 Feb 2023', '01 Feb 2023', '01 Feb 2023', '01 Feb 2023', '01 Feb 2023', None, '01 Feb 2023', '01 Feb 2023', '01 Feb 2023', '01 Feb 2023', '01 Feb 2023', '01 Feb 2023', '01 Feb 2023', '01 Feb 2023', '01 Feb 2023', '01 Feb 2023', '01 Feb 2023', '01 Feb 2023', '01 Feb 2023', '01 Feb 2023', '01 Feb 2023', '01 Feb 2023', '01 Feb 2023', '01 Feb 2023', '01 Feb 2023', '01 Feb 2023', None, '01 Feb 2023', '01 Feb 2023', '01 Feb 2023', '01 Feb 2023', '01 Feb 2023', '01 Feb 2023', '01 Feb 2023', '01 Feb 2023', '01 Feb 2023', '01 Feb 2023', '01 Feb 2023', '01 Feb 2023', '01 Feb 2023', '01 Feb 2023', '01 Feb 2023', '01 Feb 2023', '01 Feb 2023', '01 Feb 2023', '02 Feb 2023', '01 Feb 2023', None, '01 Feb 2023', '01 Feb 2023', '01 Feb 2023', '01 Feb 2023', '01 Feb 2023', '01 Feb 2023', '01 Feb 2023', '01 Feb 2023', '01 Feb 2023', '01 Feb 2023', '01 Feb 2023', '01 Feb 2023', '01 Feb 2023', '01 Feb 2023', '01 Feb 2023', '01 Feb 2023', '01 Feb 2023', '01 Feb 2023', '01 Feb 2023', '01 Feb 2023', None, '01 Feb 2023', '01 Feb 2023', '01 Feb 2023', '01 Feb 2023', '01 Feb 2023', '01 Feb 2023', '01 Feb 2023', '01 Feb 2023', '01 Feb 2023', '01 Feb 2023', '01 Feb 2023', '01 Feb 2023', '01 Feb 2023', '01 Feb 2023', '01 Feb 2023', '01 Feb 2023', '01 Feb 2023', '01 Feb 2023', '01 Feb 2023', '01 Feb 2023', None, '01 Feb 2023', '01 Feb 2023', '01 Feb 2023', '01 Feb 2023', '01 Feb 2023', '01 Feb 2023', '01 Feb 2023', '01 Feb 2023', '01 Feb 2023', '01 Feb 2023', '01 Feb 2023', '01 Feb 2023', '01 Feb 2023', '01 Feb 2023', '01 Feb 2023', '01 Feb 2023', '01 Feb 2023', '01 Feb 2023', '01 Feb 2023', '01 Feb 2023', None, '31 Jan 2023', '01 Feb 2023', '01 Feb 2023', '01 Feb 2023', '01 Feb 2023', '01 Feb 2023', '01 Feb 2023', '01 Feb 2023', '01 Feb 2023', '01 Feb 2023', '01 Feb 2023', '31 Jan 2023', '31 Jan 2023', '01 Feb 2023', '31 Jan 2023', '31 Jan 2023', '31 Jan 2023', '01 Feb 2023', '31 Jan 2023', '01 Feb 2023', None, '01 Feb 2023', '31 Jan 2023', '01 Feb 2023', '31 Jan 2023', '31 Jan 2023', '01 Feb 2023', '01 Feb 2023', '01 Feb 2023', '31 Jan 2023', '01 Feb 2023', '01 Feb 2023', '31 Jan 2023', '01 Feb 2023', '01 Feb 2023', '31 Jan 2023', '31 Jan 2023', '01 Feb 2023', '31 Jan 2023', '31 Jan 2023', '31 Jan 2023', None, '01 Feb 2023', '01 Feb 2023', '01 Feb 2023', '01 Feb 2023', '01 Feb 2023', '31 Jan 2023', '01 Feb 2023', '01 Feb 2023', '01 Feb 2023', '01 Feb 2023', '31 Jan 2023', '31 Jan 2023', '31 Jan 2023', '31 Jan 2023', '31 Jan 2023', '31 Jan 2023', '31 Jan 2023', '31 Jan 2023', '31 Jan 2023', '31 Jan 2023', None, '31 Jan 2023', '31 Jan 2023', '31 Jan 2023', '31 Jan 2023', '31 Jan 2023', '31 Jan 2023', '31 Jan 2023', '31 Jan 2023', '31 Jan 2023', '31 Jan 2023', '31 Jan 2023', '31 Jan 2023', '31 Jan 2023', '31 Jan 2023', '31 Jan 2023', '31 Jan 2023', '31 Jan 2023', '31 Jan 2023', '31 Jan 2023', '31 Jan 2023', None, '31 Jan 2023', '31 Jan 2023', '31 Jan 2023', '31 Jan 2023', '31 Jan 2023', '31 Jan 2023', '31 Jan 2023', '31 Jan 2023', '31 Jan 2023', '31 Jan 2023', '31 Jan 2023', '31 Jan 2023', '31 Jan 2023', '31 Jan 2023', '31 Jan 2023', '31 Jan 2023', '31 Jan 2023', '31 Jan 2023', '31 Jan 2023', '31 Jan 2023', None, '31 Jan 2023', '31 Jan 2023', '31 Jan 2023', '31 Jan 2023', '31 Jan 2023', '31 Jan 2023', '31 Jan 2023', '31 Jan 2023', '31 Jan 2023', '31 Jan 2023', '31 Jan 2023', '31 Jan 2023', '31 Jan 2023', '31 Jan 2023', '31 Jan 2023', '31 Jan 2023', '01 Feb 2023', '31 Jan 2023', '31 Jan 2023', '31 Jan 2023', None, '31 Jan 2023', '31 Jan 2023', '31 Jan 2023', '31 Jan 2023', '31 Jan 2023', '31 Jan 2023', '31 Jan 2023', '31 Jan 2023', '31 Jan 2023', '31 Jan 2023', '31 Jan 2023', '31 Jan 2023', '31 Jan 2023', '31 Jan 2023', '31 Jan 2023', '31 Jan 2023', '31 Jan 2023', '31 Jan 2023', '31 Jan 2023', '31 Jan 2023', None, '31 Jan 2023', '31 Jan 2023', '31 Jan 2023', '31 Jan 2023', '31 Jan 2023', '31 Jan 2023', '31 Jan 2023', '31 Jan 2023', '31 Jan 2023', '31 Jan 2023', '31 Jan 2023', '31 Jan 2023', '31 Jan 2023', '31 Jan 2023', '31 Jan 2023', '31 Jan 2023', '01 Feb 2023', '31 Jan 2023', '31 Jan 2023', '31 Jan 2023', None, '31 Jan 2023', '31 Jan 2023', '31 Jan 2023', '31 Jan 2023', '31 Jan 2023', '31 Jan 2023', '31 Jan 2023', '31 Jan 2023', '31 Jan 2023', '31 Jan 2023', '31 Jan 2023', '31 Jan 2023', '31 Jan 2023', '31 Jan 2023', '31 Jan 2023', '31 Jan 2023', '31 Jan 2023', '31 Jan 2023', '31 Jan 2023', '31 Jan 2023', None, '31 Jan 2023', '31 Jan 2023', '31 Jan 2023', '31 Jan 2023', '31 Jan 2023', '31 Jan 2023', '31 Jan 2023', '31 Jan 2023', '31 Jan 2023', '31 Jan 2023', '31 Jan 2023', '31 Jan 2023', '31 Jan 2023', '31 Jan 2023', '31 Jan 2023', '31 Jan 2023', '31 Jan 2023', '31 Jan 2023', '31 Jan 2023', '31 Jan 2023', None, '31 Jan 2023', '31 Jan 2023', '31 Jan 2023', '31 Jan 2023', '31 Jan 2023', '31 Jan 2023', '31 Jan 2023', '31 Jan 2023', '31 Jan 2023', '31 Jan 2023', '31 Jan 2023', '30 Jan 2023', '31 Jan 2023', '31 Jan 2023', '31 Jan 2023', '31 Jan 2023', '31 Jan 2023', '31 Jan 2023', '31 Jan 2023', '31 Jan 2023', None, '31 Jan 2023', '31 Jan 2023', '30 Jan 2023', '31 Jan 2023', '31 Jan 2023', '31 Jan 2023', '31 Jan 2023', '31 Jan 2023', '30 Jan 2023', '30 Jan 2023', '30 Jan 2023', '31 Jan 2023', '31 Jan 2023', '30 Jan 2023', '31 Jan 2023', '31 Jan 2023', '31 Jan 2023', '30 Jan 2023', '30 Jan 2023', '31 Jan 2023', None, '30 Jan 2023', '30 Jan 2023', '31 Jan 2023', '30 Jan 2023', '31 Jan 2023', '31 Jan 2023', '31 Jan 2023', '31 Jan 2023', '31 Jan 2023', '31 Jan 2023', '31 Jan 2023', '30 Jan 2023', '31 Jan 2023', '30 Jan 2023', '31 Jan 2023', '31 Jan 2023', '31 Jan 2023', '31 Jan 2023', '31 Jan 2023', '30 Jan 2023', None, '31 Jan 2023', '31 Jan 2023', '31 Jan 2023', '31 Jan 2023', '30 Jan 2023', '31 Jan 2023', '31 Jan 2023', '31 Jan 2023', '31 Jan 2023', '30 Jan 2023', '30 Jan 2023', '31 Jan 2023', '30 Jan 2023', '30 Jan 2023', '31 Jan 2023', '30 Jan 2023', '31 Jan 2023', '30 Jan 2023', '31 Jan 2023', '31 Jan 2023', None, '31 Jan 2023', '30 Jan 2023', '31 Jan 2023', '31 Jan 2023', '30 Jan 2023', '30 Jan 2023', '30 Jan 2023', '30 Jan 2023', '30 Jan 2023', '30 Jan 2023', '30 Jan 2023', '30 Jan 2023', '30 Jan 2023', '30 Jan 2023', '30 Jan 2023', '30 Jan 2023', '30 Jan 2023', '30 Jan 2023', '30 Jan 2023', '30 Jan 2023', None, '30 Jan 2023', '30 Jan 2023', '30 Jan 2023', '30 Jan 2023', '30 Jan 2023', '30 Jan 2023', '30 Jan 2023', '30 Jan 2023', '30 Jan 2023', '30 Jan 2023', '30 Jan 2023', '30 Jan 2023', '30 Jan 2023', '30 Jan 2023', '30 Jan 2023', '30 Jan 2023', '30 Jan 2023', '30 Jan 2023', '30 Jan 2023', '30 Jan 2023', None, '30 Jan 2023', '30 Jan 2023', '31 Jan 2023', '30 Jan 2023', '30 Jan 2023', '30 Jan 2023', '30 Jan 2023', '30 Jan 2023', '30 Jan 2023', '30 Jan 2023', '30 Jan 2023', '30 Jan 2023', '30 Jan 2023', '30 Jan 2023', '30 Jan 2023', '30 Jan 2023', '30 Jan 2023', '30 Jan 2023', '30 Jan 2023', '30 Jan 2023', None, '30 Jan 2023', '30 Jan 2023', '30 Jan 2023', '30 Jan 2023', '30 Jan 2023', '30 Jan 2023', '30 Jan 2023', '30 Jan 2023', '30 Jan 2023', '30 Jan 2023', '30 Jan 2023', '30 Jan 2023', '30 Jan 2023', '30 Jan 2023', '30 Jan 2023', '30 Jan 2023', '30 Jan 2023', '30 Jan 2023', '30 Jan 2023', '30 Jan 2023', None, '30 Jan 2023', '30 Jan 2023', '30 Jan 2023', '30 Jan 2023', '30 Jan 2023', '30 Jan 2023', '31 Jan 2023', '30 Jan 2023', '30 Jan 2023', '30 Jan 2023', '30 Jan 2023', '30 Jan 2023', '30 Jan 2023', '30 Jan 2023', '30 Jan 2023', '30 Jan 2023', '30 Jan 2023', '30 Jan 2023', '30 Jan 2023', '30 Jan 2023', None, '30 Jan 2023', '30 Jan 2023', '30 Jan 2023', '30 Jan 2023', '30 Jan 2023', '30 Jan 2023', '30 Jan 2023', '30 Jan 2023', '30 Jan 2023', '30 Jan 2023', '30 Jan 2023', '30 Jan 2023', '30 Jan 2023', '30 Jan 2023', '30 Jan 2023', '30 Jan 2023', '30 Jan 2023', '30 Jan 2023', '30 Jan 2023', '30 Jan 2023', None, '30 Jan 2023', '30 Jan 2023', '30 Jan 2023', '30 Jan 2023', '30 Jan 2023', '30 Jan 2023', '30 Jan 2023', '30 Jan 2023', '30 Jan 2023', '30 Jan 2023', '30 Jan 2023', '30 Jan 2023', '30 Jan 2023', '30 Jan 2023', '31 Jan 2023', '30 Jan 2023', '30 Jan 2023', '30 Jan 2023', '30 Jan 2023', '30 Jan 2023', None, '30 Jan 2023', '30 Jan 2023', '30 Jan 2023', '30 Jan 2023', '30 Jan 2023', '30 Jan 2023', '30 Jan 2023', '30 Jan 2023', '30 Jan 2023', '30 Jan 2023', '30 Jan 2023', '30 Jan 2023', '30 Jan 2023', '30 Jan 2023', '30 Jan 2023', '30 Jan 2023', '30 Jan 2023', '30 Jan 2023', '30 Jan 2023', '30 Jan 2023', None, '30 Jan 2023', '30 Jan 2023', '30 Jan 2023', '30 Jan 2023', '30 Jan 2023', '30 Jan 2023', '30 Jan 2023', '30 Jan 2023', '30 Jan 2023', '30 Jan 2023', '29 Jan 2023', '29 Jan 2023', '30 Jan 2023', '30 Jan 2023', '29 Jan 2023', '30 Jan 2023', '30 Jan 2023', '30 Jan 2023', '30 Jan 2023', '30 Jan 2023', None, '30 Jan 2023', '30 Jan 2023', '30 Jan 2023', '29 Jan 2023', '30 Jan 2023', '29 Jan 2023', '29 Jan 2023', '29 Jan 2023', '30 Jan 2023', '29 Jan 2023', '29 Jan 2023', '30 Jan 2023', '30 Jan 2023', '30 Jan 2023', '30 Jan 2023', '30 Jan 2023', '29 Jan 2023', '29 Jan 2023', '30 Jan 2023', '30 Jan 2023', None, '30 Jan 2023', '30 Jan 2023', '29 Jan 2023', '30 Jan 2023', '30 Jan 2023', '30 Jan 2023', '30 Jan 2023', '30 Jan 2023', '30 Jan 2023', '29 Jan 2023', '30 Jan 2023', '29 Jan 2023', '30 Jan 2023', '30 Jan 2023', '29 Jan 2023', '30 Jan 2023', '29 Jan 2023', '30 Jan 2023', '29 Jan 2023', '29 Jan 2023', None, '29 Jan 2023', '29 Jan 2023', '30 Jan 2023', '30 Jan 2023', '30 Jan 2023', '29 Jan 2023', '29 Jan 2023', '30 Jan 2023', '30 Jan 2023', '29 Jan 2023', '30 Jan 2023', '29 Jan 2023', '29 Jan 2023', '30 Jan 2023', '29 Jan 2023', '29 Jan 2023', '29 Jan 2023', '29 Jan 2023', '29 Jan 2023', '29 Jan 2023', None, '29 Jan 2023', '29 Jan 2023', '29 Jan 2023', '29 Jan 2023', '29 Jan 2023', '29 Jan 2023', '29 Jan 2023', '29 Jan 2023', '29 Jan 2023', '29 Jan 2023', '29 Jan 2023', '29 Jan 2023', '29 Jan 2023', '29 Jan 2023', '29 Jan 2023', '29 Jan 2023', '29 Jan 2023', '29 Jan 2023', '29 Jan 2023', '29 Jan 2023', None, '29 Jan 2023', '29 Jan 2023', '29 Jan 2023', '29 Jan 2023', '29 Jan 2023', '29 Jan 2023', '29 Jan 2023', '29 Jan 2023', '29 Jan 2023', '29 Jan 2023', '29 Jan 2023', '29 Jan 2023', '29 Jan 2023', '29 Jan 2023', '29 Jan 2023', '29 Jan 2023', '29 Jan 2023', '30 Jan 2023', '29 Jan 2023', '29 Jan 2023', None, '29 Jan 2023', '29 Jan 2023', '29 Jan 2023', '29 Jan 2023', '29 Jan 2023', '29 Jan 2023', '29 Jan 2023', '29 Jan 2023', '29 Jan 2023', '29 Jan 2023', '29 Jan 2023', '29 Jan 2023', '29 Jan 2023', '29 Jan 2023', '29 Jan 2023', '29 Jan 2023', '29 Jan 2023', '29 Jan 2023', '29 Jan 2023', '29 Jan 2023', None, '29 Jan 2023', '29 Jan 2023', '29 Jan 2023', '29 Jan 2023', '29 Jan 2023', '29 Jan 2023', '30 Jan 2023', '29 Jan 2023', '30 Jan 2023', '29 Jan 2023', '29 Jan 2023', '29 Jan 2023', '29 Jan 2023', '29 Jan 2023', '29 Jan 2023', '29 Jan 2023', '29 Jan 2023', '29 Jan 2023', '29 Jan 2023', '29 Jan 2023', None, '29 Jan 2023', '29 Jan 2023', '29 Jan 2023', '29 Jan 2023', '29 Jan 2023', '29 Jan 2023', '29 Jan 2023', '29 Jan 2023', '29 Jan 2023', '29 Jan 2023', '29 Jan 2023', '29 Jan 2023', '29 Jan 2023', '29 Jan 2023', '29 Jan 2023', '29 Jan 2023', '29 Jan 2023', '29 Jan 2023', '29 Jan 2023', '29 Jan 2023', None, '29 Jan 2023', '29 Jan 2023', '29 Jan 2023', '29 Jan 2023', '29 Jan 2023', '29 Jan 2023', '29 Jan 2023', '29 Jan 2023', '29 Jan 2023', '29 Jan 2023', '29 Jan 2023', '29 Jan 2023', '29 Jan 2023', '29 Jan 2023', '29 Jan 2023', '29 Jan 2023', '29 Jan 2023', '29 Jan 2023', '29 Jan 2023', '29 Jan 2023', None, '29 Jan 2023', '29 Jan 2023', '29 Jan 2023', '29 Jan 2023', '29 Jan 2023', '29 Jan 2023', '29 Jan 2023', '29 Jan 2023', '29 Jan 2023', '29 Jan 2023', '29 Jan 2023', '29 Jan 2023', '29 Jan 2023', '29 Jan 2023', '28 Jan 2023', '29 Jan 2023', '29 Jan 2023', '29 Jan 2023', '29 Jan 2023', '29 Jan 2023', None, '29 Jan 2023', '29 Jan 2023', '29 Jan 2023', '28 Jan 2023', '29 Jan 2023', '29 Jan 2023', '29 Jan 2023', '29 Jan 2023', '29 Jan 2023', '29 Jan 2023', '29 Jan 2023', '29 Jan 2023', '29 Jan 2023', '29 Jan 2023', '28 Jan 2023', '29 Jan 2023', '29 Jan 2023', '29 Jan 2023', '28 Jan 2023', '28 Jan 2023', None, '29 Jan 2023', '29 Jan 2023', '29 Jan 2023', '29 Jan 2023', '29 Jan 2023', '28 Jan 2023', '29 Jan 2023', '29 Jan 2023', '29 Jan 2023', '29 Jan 2023', '29 Jan 2023', '29 Jan 2023', '28 Jan 2023', '29 Jan 2023', '29 Jan 2023', '29 Jan 2023', '29 Jan 2023', '28 Jan 2023', '28 Jan 2023', '29 Jan 2023', None, '29 Jan 2023', '29 Jan 2023', '29 Jan 2023', '29 Jan 2023', '28 Jan 2023', '29 Jan 2023', '29 Jan 2023', '29 Jan 2023', '29 Jan 2023', '29 Jan 2023', '29 Jan 2023', '29 Jan 2023', '29 Jan 2023', '29 Jan 2023', '28 Jan 2023', '28 Jan 2023', '28 Jan 2023', '29 Jan 2023', '28 Jan 2023', '29 Jan 2023', None, '29 Jan 2023', '29 Jan 2023', '29 Jan 2023', '29 Jan 2023', '29 Jan 2023', '29 Jan 2023', '29 Jan 2023', '29 Jan 2023', '29 Jan 2023', '28 Jan 2023', '28 Jan 2023', '28 Jan 2023', '28 Jan 2023', '28 Jan 2023', '28 Jan 2023', '28 Jan 2023', '28 Jan 2023', '28 Jan 2023', '28 Jan 2023', '28 Jan 2023', None, '28 Jan 2023', '28 Jan 2023', '28 Jan 2023', '28 Jan 2023', '28 Jan 2023', '29 Jan 2023', '28 Jan 2023', '28 Jan 2023', '28 Jan 2023', '28 Jan 2023', '28 Jan 2023', '28 Jan 2023', '28 Jan 2023', '28 Jan 2023', '28 Jan 2023', '28 Jan 2023', '28 Jan 2023', '28 Jan 2023', '28 Jan 2023', '28 Jan 2023', None, '28 Jan 2023', '28 Jan 2023', '28 Jan 2023', '28 Jan 2023', '28 Jan 2023', '28 Jan 2023', '28 Jan 2023', '28 Jan 2023', '28 Jan 2023', '28 Jan 2023', '28 Jan 2023', '28 Jan 2023', '28 Jan 2023', '28 Jan 2023', '28 Jan 2023', '28 Jan 2023', '28 Jan 2023', '29 Jan 2023', '28 Jan 2023', '28 Jan 2023', None, '29 Jan 2023', '28 Jan 2023', '28 Jan 2023', '28 Jan 2023', '28 Jan 2023', '28 Jan 2023', '28 Jan 2023', '28 Jan 2023', '28 Jan 2023', '28 Jan 2023', '28 Jan 2023', '28 Jan 2023', '28 Jan 2023', '28 Jan 2023', '28 Jan 2023', '28 Jan 2023', '28 Jan 2023', '28 Jan 2023', '28 Jan 2023', '28 Jan 2023', None, '28 Jan 2023', '28 Jan 2023', '28 Jan 2023', '28 Jan 2023', '28 Jan 2023', '28 Jan 2023', '28 Jan 2023', '28 Jan 2023', '28 Jan 2023', '28 Jan 2023', '28 Jan 2023', '28 Jan 2023', '28 Jan 2023', '28 Jan 2023', '28 Jan 2023', '28 Jan 2023', '28 Jan 2023', '28 Jan 2023', '28 Jan 2023', '28 Jan 2023', None, '28 Jan 2023', '28 Jan 2023', '28 Jan 2023', '28 Jan 2023', '28 Jan 2023', '28 Jan 2023', '28 Jan 2023', '28 Jan 2023', '28 Jan 2023', '28 Jan 2023', '28 Jan 2023', '28 Jan 2023', '28 Jan 2023', '28 Jan 2023', '28 Jan 2023', '28 Jan 2023', '28 Jan 2023', '28 Jan 2023', '28 Jan 2023', '28 Jan 2023', None, '28 Jan 2023', '28 Jan 2023', '28 Jan 2023', '28 Jan 2023', '28 Jan 2023', '28 Jan 2023', '28 Jan 2023', '28 Jan 2023', '28 Jan 2023', '28 Jan 2023', '28 Jan 2023', '28 Jan 2023', '28 Jan 2023', '28 Jan 2023', '28 Jan 2023', '28 Jan 2023', '28 Jan 2023', '28 Jan 2023', '28 Jan 2023', '28 Jan 2023', None, '28 Jan 2023', '28 Jan 2023', '28 Jan 2023', '28 Jan 2023', '28 Jan 2023', '28 Jan 2023', '28 Jan 2023', '27 Jan 2023', '27 Jan 2023', '28 Jan 2023', '28 Jan 2023', '28 Jan 2023', '28 Jan 2023', '28 Jan 2023', '28 Jan 2023', '27 Jan 2023', '27 Jan 2023', '28 Jan 2023', '28 Jan 2023', '28 Jan 2023', None, '27 Jan 2023', '28 Jan 2023', '28 Jan 2023', '28 Jan 2023', '28 Jan 2023', '27 Jan 2023', '28 Jan 2023', '28 Jan 2023', '27 Jan 2023', '27 Jan 2023', '28 Jan 2023', '27 Jan 2023', '28 Jan 2023', '28 Jan 2023', '28 Jan 2023', '28 Jan 2023', '28 Jan 2023', '28 Jan 2023', '28 Jan 2023', '27 Jan 2023', None, '28 Jan 2023', '28 Jan 2023', '28 Jan 2023', '27 Jan 2023', '27 Jan 2023', '27 Jan 2023', '27 Jan 2023', '27 Jan 2023', '27 Jan 2023', '27 Jan 2023', '27 Jan 2023', '27 Jan 2023', '27 Jan 2023', '27 Jan 2023', '27 Jan 2023', '27 Jan 2023', '27 Jan 2023', '27 Jan 2023', '27 Jan 2023', '27 Jan 2023', None, '27 Jan 2023', '27 Jan 2023', '27 Jan 2023', '27 Jan 2023', '27 Jan 2023', '27 Jan 2023', '27 Jan 2023', '27 Jan 2023', '27 Jan 2023', '27 Jan 2023', '27 Jan 2023', '27 Jan 2023', '27 Jan 2023', '27 Jan 2023', '27 Jan 2023', '27 Jan 2023', '27 Jan 2023', '27 Jan 2023', '27 Jan 2023', '27 Jan 2023', None, '27 Jan 2023', '27 Jan 2023', '27 Jan 2023', '27 Jan 2023', '27 Jan 2023', '27 Jan 2023', '27 Jan 2023', '27 Jan 2023', '27 Jan 2023', '27 Jan 2023', '27 Jan 2023', '27 Jan 2023', '27 Jan 2023', '27 Jan 2023', '27 Jan 2023', '27 Jan 2023', '27 Jan 2023', '27 Jan 2023', '27 Jan 2023', '27 Jan 2023', None, '27 Jan 2023', '27 Jan 2023', '27 Jan 2023', '27 Jan 2023', '27 Jan 2023', '27 Jan 2023', '27 Jan 2023', '27 Jan 2023', '27 Jan 2023', '27 Jan 2023', '27 Jan 2023', '27 Jan 2023', '27 Jan 2023', '27 Jan 2023', '27 Jan 2023', '27 Jan 2023', '27 Jan 2023', '27 Jan 2023', '27 Jan 2023', '27 Jan 2023', None, '27 Jan 2023', '27 Jan 2023', '27 Jan 2023', '27 Jan 2023', '27 Jan 2023', '27 Jan 2023', '27 Jan 2023', '27 Jan 2023', '27 Jan 2023', '27 Jan 2023', '27 Jan 2023', '27 Jan 2023', '27 Jan 2023', '27 Jan 2023', '27 Jan 2023', '27 Jan 2023', '27 Jan 2023', '27 Jan 2023', '27 Jan 2023', '27 Jan 2023', None, '27 Jan 2023', '27 Jan 2023', '27 Jan 2023', '27 Jan 2023', '27 Jan 2023', '27 Jan 2023', '27 Jan 2023', '27 Jan 2023', '27 Jan 2023', '27 Jan 2023', '27 Jan 2023', '27 Jan 2023', '27 Jan 2023', '27 Jan 2023', '27 Jan 2023', '27 Jan 2023', '27 Jan 2023', '27 Jan 2023', '27 Jan 2023', '27 Jan 2023', None, '27 Jan 2023', '27 Jan 2023', '27 Jan 2023', '27 Jan 2023', '27 Jan 2023', '27 Jan 2023', '27 Jan 2023', '27 Jan 2023', '27 Jan 2023', '27 Jan 2023', '27 Jan 2023', '27 Jan 2023', '27 Jan 2023', '26 Jan 2023', '26 Jan 2023', '26 Jan 2023', '27 Jan 2023', '27 Jan 2023', '27 Jan 2023', '27 Jan 2023', None, '27 Jan 2023', '26 Jan 2023', '27 Jan 2023', '26 Jan 2023', '26 Jan 2023', '26 Jan 2023', '26 Jan 2023', '27 Jan 2023', '27 Jan 2023', '27 Jan 2023', '26 Jan 2023', '27 Jan 2023', '27 Jan 2023', '26 Jan 2023', '27 Jan 2023', '27 Jan 2023', '27 Jan 2023', '27 Jan 2023', '27 Jan 2023', '27 Jan 2023', None, '26 Jan 2023', '27 Jan 2023', '27 Jan 2023', '27 Jan 2023', '27 Jan 2023', '27 Jan 2023', '26 Jan 2023', '27 Jan 2023', '26 Jan 2023', '26 Jan 2023', '26 Jan 2023', '27 Jan 2023', '26 Jan 2023', '26 Jan 2023', '26 Jan 2023', '26 Jan 2023', '26 Jan 2023', '26 Jan 2023', '26 Jan 2023', '26 Jan 2023', None, '26 Jan 2023', '26 Jan 2023', '26 Jan 2023', '26 Jan 2023', '26 Jan 2023', '26 Jan 2023', '26 Jan 2023', '26 Jan 2023', '26 Jan 2023', '26 Jan 2023', '26 Jan 2023', '26 Jan 2023', '26 Jan 2023', '26 Jan 2023', '26 Jan 2023', '26 Jan 2023', '26 Jan 2023', '26 Jan 2023', '26 Jan 2023', '26 Jan 2023', None, '26 Jan 2023', '26 Jan 2023', '26 Jan 2023', '26 Jan 2023', '26 Jan 2023', '26 Jan 2023', '26 Jan 2023', '26 Jan 2023', '26 Jan 2023', '26 Jan 2023', '26 Jan 2023', '26 Jan 2023', '26 Jan 2023', '26 Jan 2023', '26 Jan 2023', '26 Jan 2023', '26 Jan 2023', '26 Jan 2023', '26 Jan 2023', '26 Jan 2023', None, '26 Jan 2023', '26 Jan 2023', '26 Jan 2023', '26 Jan 2023', '26 Jan 2023', '26 Jan 2023', '26 Jan 2023', '26 Jan 2023', '26 Jan 2023', '26 Jan 2023', '26 Jan 2023', '26 Jan 2023', '26 Jan 2023', '26 Jan 2023', '26 Jan 2023', '26 Jan 2023', '26 Jan 2023', '26 Jan 2023', '26 Jan 2023', '26 Jan 2023', None, '26 Jan 2023', '26 Jan 2023', '26 Jan 2023', '26 Jan 2023', '26 Jan 2023', '26 Jan 2023', '26 Jan 2023', '26 Jan 2023', '26 Jan 2023', '26 Jan 2023', '26 Jan 2023', '26 Jan 2023', '26 Jan 2023', '26 Jan 2023', '26 Jan 2023', '26 Jan 2023', '26 Jan 2023', '26 Jan 2023', '26 Jan 2023', '26 Jan 2023', None, '26 Jan 2023', '25 Jan 2023', '26 Jan 2023', '26 Jan 2023', '25 Jan 2023', '26 Jan 2023', '26 Jan 2023', '26 Jan 2023', '26 Jan 2023', '26 Jan 2023', '26 Jan 2023', '26 Jan 2023', '26 Jan 2023', '26 Jan 2023', '25 Jan 2023', '26 Jan 2023', '26 Jan 2023', '26 Jan 2023', '26 Jan 2023', '25 Jan 2023', None, '25 Jan 2023', '26 Jan 2023', '26 Jan 2023', '25 Jan 2023', '25 Jan 2023', '26 Jan 2023', '26 Jan 2023', '25 Jan 2023', '26 Jan 2023', '26 Jan 2023', '26 Jan 2023', '26 Jan 2023', '25 Jan 2023', '25 Jan 2023', '26 Jan 2023', '26 Jan 2023', '25 Jan 2023', '26 Jan 2023', '25 Jan 2023', '26 Jan 2023', None, '26 Jan 2023', '26 Jan 2023', '25 Jan 2023', '25 Jan 2023', '26 Jan 2023', '26 Jan 2023', '26 Jan 2023', '26 Jan 2023', '25 Jan 2023', '26 Jan 2023', '26 Jan 2023', '26 Jan 2023', '26 Jan 2023', '25 Jan 2023', '26 Jan 2023', '26 Jan 2023', '26 Jan 2023', '26 Jan 2023', '25 Jan 2023', '25 Jan 2023', None, '25 Jan 2023', '26 Jan 2023', '25 Jan 2023', '25 Jan 2023', '25 Jan 2023', '25 Jan 2023', '25 Jan 2023', '25 Jan 2023', '25 Jan 2023', '25 Jan 2023', '25 Jan 2023', '25 Jan 2023', '25 Jan 2023', '25 Jan 2023', '25 Jan 2023', '25 Jan 2023', '25 Jan 2023', '25 Jan 2023', '25 Jan 2023', '25 Jan 2023', None, '25 Jan 2023', '25 Jan 2023', '25 Jan 2023', '25 Jan 2023', '25 Jan 2023', '25 Jan 2023', '25 Jan 2023', '25 Jan 2023', '25 Jan 2023', '25 Jan 2023', '25 Jan 2023', '25 Jan 2023', '25 Jan 2023', '25 Jan 2023', '25 Jan 2023', '25 Jan 2023', '25 Jan 2023', '25 Jan 2023', '25 Jan 2023', '25 Jan 2023', None, '25 Jan 2023', '25 Jan 2023', '25 Jan 2023', '25 Jan 2023', '25 Jan 2023', '25 Jan 2023', '25 Jan 2023', '25 Jan 2023', '25 Jan 2023', '25 Jan 2023', '25 Jan 2023', '25 Jan 2023', '25 Jan 2023', '25 Jan 2023', '25 Jan 2023', '25 Jan 2023', '25 Jan 2023', '25 Jan 2023', '25 Jan 2023', '25 Jan 2023', None, '25 Jan 2023', '25 Jan 2023', '25 Jan 2023', '25 Jan 2023', '25 Jan 2023', '25 Jan 2023', '25 Jan 2023', '25 Jan 2023', '25 Jan 2023', '25 Jan 2023', '25 Jan 2023', '25 Jan 2023', '25 Jan 2023', '25 Jan 2023', '25 Jan 2023', '25 Jan 2023', '25 Jan 2023', '25 Jan 2023', '25 Jan 2023', '25 Jan 2023', None, '25 Jan 2023', '25 Jan 2023', '25 Jan 2023', '25 Jan 2023', '25 Jan 2023', '25 Jan 2023', '25 Jan 2023', '25 Jan 2023', '25 Jan 2023', '25 Jan 2023', '25 Jan 2023', '25 Jan 2023', '25 Jan 2023', '25 Jan 2023', '25 Jan 2023', '25 Jan 2023', '25 Jan 2023', '25 Jan 2023', '24 Jan 2023', '24 Jan 2023', None, '24 Jan 2023', '25 Jan 2023', '25 Jan 2023', '24 Jan 2023', '25 Jan 2023', '25 Jan 2023', '25 Jan 2023', '25 Jan 2023', '25 Jan 2023', '24 Jan 2023', '25 Jan 2023', '24 Jan 2023', '25 Jan 2023', '25 Jan 2023', '24 Jan 2023', '25 Jan 2023', '24 Jan 2023', '24 Jan 2023', '25 Jan 2023', '24 Jan 2023', None, '25 Jan 2023', '25 Jan 2023', '25 Jan 2023', '24 Jan 2023', '25 Jan 2023', '24 Jan 2023', '25 Jan 2023', '24 Jan 2023', '24 Jan 2023', '24 Jan 2023', '24 Jan 2023', '24 Jan 2023', '24 Jan 2023', '24 Jan 2023', '24 Jan 2023', '24 Jan 2023', '24 Jan 2023', '24 Jan 2023', '24 Jan 2023', '24 Jan 2023', None, '24 Jan 2023', '24 Jan 2023', '24 Jan 2023', '24 Jan 2023', '24 Jan 2023', '24 Jan 2023', '24 Jan 2023', '24 Jan 2023', '24 Jan 2023', '24 Jan 2023', '24 Jan 2023', '24 Jan 2023', '24 Jan 2023', '24 Jan 2023', '24 Jan 2023', '24 Jan 2023', '24 Jan 2023', '24 Jan 2023', '24 Jan 2023', '24 Jan 2023', None, '24 Jan 2023', '24 Jan 2023', '24 Jan 2023', '24 Jan 2023', '24 Jan 2023', '24 Jan 2023', '24 Jan 2023', '24 Jan 2023', '24 Jan 2023', '24 Jan 2023', '24 Jan 2023', '24 Jan 2023', '24 Jan 2023', '24 Jan 2023', '24 Jan 2023', '24 Jan 2023', '24 Jan 2023', '24 Jan 2023', '24 Jan 2023', '24 Jan 2023', None, '24 Jan 2023', '24 Jan 2023', '24 Jan 2023', '24 Jan 2023', '24 Jan 2023', '24 Jan 2023', '24 Jan 2023', '24 Jan 2023', '24 Jan 2023', '24 Jan 2023', '24 Jan 2023', '24 Jan 2023', '24 Jan 2023', '24 Jan 2023', '24 Jan 2023', '24 Jan 2023', '24 Jan 2023', '24 Jan 2023', '24 Jan 2023', '24 Jan 2023', None, '24 Jan 2023', '24 Jan 2023', '24 Jan 2023', '24 Jan 2023', '24 Jan 2023', '24 Jan 2023', '24 Jan 2023', '24 Jan 2023', '24 Jan 2023', '24 Jan 2023', '24 Jan 2023', '24 Jan 2023', '24 Jan 2023', '24 Jan 2023', '24 Jan 2023', '24 Jan 2023', '24 Jan 2023', '24 Jan 2023', '24 Jan 2023', '24 Jan 2023', None, '24 Jan 2023', '24 Jan 2023', '24 Jan 2023', '24 Jan 2023', '24 Jan 2023', '24 Jan 2023', '24 Jan 2023', '24 Jan 2023', '24 Jan 2023', '24 Jan 2023', '24 Jan 2023', '24 Jan 2023', '24 Jan 2023', '24 Jan 2023', '24 Jan 2023', '24 Jan 2023', '23 Jan 2023', '23 Jan 2023', '24 Jan 2023', '23 Jan 2023', None, '24 Jan 2023', '24 Jan 2023', '23 Jan 2023', '24 Jan 2023', '24 Jan 2023', '23 Jan 2023', '24 Jan 2023', '23 Jan 2023', '24 Jan 2023', '24 Jan 2023', '24 Jan 2023', '24 Jan 2023', '23 Jan 2023', '24 Jan 2023', '24 Jan 2023', '23 Jan 2023', '24 Jan 2023', '23 Jan 2023', '24 Jan 2023', '24 Jan 2023', None, '24 Jan 2023', '24 Jan 2023', '24 Jan 2023', '24 Jan 2023', '24 Jan 2023', '24 Jan 2023', '24 Jan 2023', '24 Jan 2023', '24 Jan 2023', '24 Jan 2023', '24 Jan 2023', '24 Jan 2023', '23 Jan 2023', '24 Jan 2023', '24 Jan 2023', '23 Jan 2023', '23 Jan 2023', '23 Jan 2023', '23 Jan 2023', '23 Jan 2023', None, '24 Jan 2023', '23 Jan 2023', '23 Jan 2023', '23 Jan 2023', '23 Jan 2023', '23 Jan 2023', '23 Jan 2023', '23 Jan 2023', '23 Jan 2023', '23 Jan 2023', '23 Jan 2023', '23 Jan 2023', '23 Jan 2023', '23 Jan 2023', '23 Jan 2023', '23 Jan 2023', '23 Jan 2023', '23 Jan 2023', '23 Jan 2023', '23 Jan 2023', None, '23 Jan 2023', '23 Jan 2023', '23 Jan 2023', '23 Jan 2023', '23 Jan 2023', '23 Jan 2023', '23 Jan 2023', '23 Jan 2023', '23 Jan 2023', '23 Jan 2023', '24 Jan 2023', '23 Jan 2023', '23 Jan 2023', '23 Jan 2023', '23 Jan 2023', '23 Jan 2023', '23 Jan 2023', '23 Jan 2023', '23 Jan 2023', '23 Jan 2023', None, '23 Jan 2023', '23 Jan 2023', '23 Jan 2023', '23 Jan 2023', '23 Jan 2023', '23 Jan 2023', '23 Jan 2023', '23 Jan 2023', '23 Jan 2023', '23 Jan 2023', '23 Jan 2023', '23 Jan 2023', '23 Jan 2023', '23 Jan 2023', '23 Jan 2023', '23 Jan 2023', '23 Jan 2023', '23 Jan 2023', '23 Jan 2023', '23 Jan 2023', None, '23 Jan 2023', '23 Jan 2023', '23 Jan 2023', '23 Jan 2023', '23 Jan 2023', '23 Jan 2023', '23 Jan 2023', '23 Jan 2023', '23 Jan 2023', '23 Jan 2023', '23 Jan 2023', '23 Jan 2023', '23 Jan 2023', '23 Jan 2023', '23 Jan 2023', '23 Jan 2023', '23 Jan 2023', '23 Jan 2023', '23 Jan 2023', '23 Jan 2023', None, '23 Jan 2023', '23 Jan 2023', '23 Jan 2023', '23 Jan 2023', '23 Jan 2023', '23 Jan 2023', '23 Jan 2023', '23 Jan 2023', '23 Jan 2023', '23 Jan 2023', '23 Jan 2023', '23 Jan 2023', '23 Jan 2023', '22 Jan 2023', '23 Jan 2023', '23 Jan 2023', '23 Jan 2023', '23 Jan 2023', '23 Jan 2023', '23 Jan 2023', None, '22 Jan 2023', '22 Jan 2023', '23 Jan 2023', '23 Jan 2023', '23 Jan 2023', '23 Jan 2023', '23 Jan 2023', '22 Jan 2023', '23 Jan 2023', '22 Jan 2023', '23 Jan 2023', '23 Jan 2023', '23 Jan 2023', '22 Jan 2023', '23 Jan 2023', '23 Jan 2023', '22 Jan 2023', '23 Jan 2023', '22 Jan 2023', '22 Jan 2023', None, '22 Jan 2023', '22 Jan 2023', '23 Jan 2023', '23 Jan 2023', '23 Jan 2023', '23 Jan 2023', '22 Jan 2023', '23 Jan 2023', '23 Jan 2023', '22 Jan 2023', '22 Jan 2023', '23 Jan 2023', '22 Jan 2023', '22 Jan 2023', '23 Jan 2023', '23 Jan 2023', '22 Jan 2023', '23 Jan 2023', '22 Jan 2023', '23 Jan 2023', None, '23 Jan 2023', '23 Jan 2023', '22 Jan 2023', '23 Jan 2023', '23 Jan 2023', '23 Jan 2023', '22 Jan 2023', '22 Jan 2023', '22 Jan 2023', '22 Jan 2023', '22 Jan 2023', '22 Jan 2023', '22 Jan 2023', '22 Jan 2023', '22 Jan 2023', '22 Jan 2023', '22 Jan 2023', '23 Jan 2023', '22 Jan 2023', '22 Jan 2023', None, '22 Jan 2023', '22 Jan 2023', '22 Jan 2023', '22 Jan 2023', '22 Jan 2023', '22 Jan 2023', '22 Jan 2023', '22 Jan 2023', '22 Jan 2023', '22 Jan 2023', '22 Jan 2023', '22 Jan 2023', '22 Jan 2023', '22 Jan 2023', '22 Jan 2023', '22 Jan 2023', '22 Jan 2023', '22 Jan 2023', '22 Jan 2023', '22 Jan 2023', None, '22 Jan 2023', '22 Jan 2023', '22 Jan 2023', '22 Jan 2023', '22 Jan 2023', '22 Jan 2023', '22 Jan 2023', '22 Jan 2023', '22 Jan 2023', '22 Jan 2023', '22 Jan 2023', '22 Jan 2023', '22 Jan 2023', '22 Jan 2023', '22 Jan 2023', '22 Jan 2023', '22 Jan 2023', '22 Jan 2023', '23 Jan 2023', '22 Jan 2023', None, '22 Jan 2023', '22 Jan 2023', '22 Jan 2023', '22 Jan 2023', '22 Jan 2023', '22 Jan 2023', '22 Jan 2023', '22 Jan 2023', '22 Jan 2023', '22 Jan 2023', '22 Jan 2023', '22 Jan 2023', '22 Jan 2023', '22 Jan 2023', '22 Jan 2023', '22 Jan 2023', '22 Jan 2023', '22 Jan 2023', '22 Jan 2023', '22 Jan 2023', None]\n"
          ]
        },
        {
          "output_type": "execute_result",
          "data": {
            "text/plain": [
              "2100"
            ]
          },
          "metadata": {},
          "execution_count": 14
        }
      ]
    },
    {
      "cell_type": "code",
      "source": [
        "date_work_2 = []\n",
        "for val in date_work:\n",
        "    if val != None :\n",
        "        date_work_2.append(val)\n",
        "\n",
        "\"\"\"\n",
        "So I'm doing the last loop because otherwise we'll have more value thant the ID.\n",
        "I didn't find it in the html code but I guess there another datetime or nothing but it just add an empty value to the list.\n",
        "That's why I had to drop it.\n",
        "\n",
        "EDIT : actually there's a better way to remove the None on the list (date_work.remove(None)) but it seems to take more time than this.\n",
        "\"\"\"\n",
        "\n",
        "len(date_work_2)"
      ],
      "metadata": {
        "colab": {
          "base_uri": "https://localhost:8080/"
        },
        "id": "HnYJPvCl60a9",
        "outputId": "e8e26e91-9dda-4c53-f50a-704f35c424c9"
      },
      "execution_count": 15,
      "outputs": [
        {
          "output_type": "execute_result",
          "data": {
            "text/plain": [
              "2000"
            ]
          },
          "metadata": {},
          "execution_count": 15
        }
      ]
    },
    {
      "cell_type": "markdown",
      "source": [
        "**Title and author of the work**"
      ],
      "metadata": {
        "id": "dpdk0lAn0e5-"
      }
    },
    {
      "cell_type": "markdown",
      "source": [
        "Ok so I tried to seperate it (no) but it come with one data.\n",
        "So we have first the title of the work (some are really fun) and the author name (a lot are REALLY fun) it separate by \"by\" so if you want to make two data of it it's very simple but personnaly I'm not gonna use the title or author name later."
      ],
      "metadata": {
        "id": "_maklRRl0pvQ"
      }
    },
    {
      "cell_type": "code",
      "source": [
        "def worktitle(directory_url):\n",
        "  \n",
        "  dir_soup = download_and_soupify(directory_url)\n",
        "  for x in dir_soup.findAll(\"h4\",attrs={\"class\": \"heading\"}):  \n",
        "    text=x.get_text()\n",
        "    work_title_authors.append(str(text))\n",
        "\n",
        "  work_title_authors.remove('\\n            Include\\n          ')\n",
        "  work_title_authors.remove('\\n            Exclude\\n          ')\n",
        "  work_title_authors.remove('More Options')\n",
        "  work_title_authors.remove('Pages Navigation')\n",
        "  work_title_authors.remove('About the Archive')\n",
        "  work_title_authors.remove('Pages Navigation')\n",
        "  work_title_authors.remove('Contact Us')\n",
        "  work_title_authors.remove('Development')\n",
        "\n",
        "  (work_title_authors)\n",
        "\n",
        "# It quit the same as the other function \n",
        "# Exept this time we need to remove a lot of stuff by page to clean the text\n"
      ],
      "metadata": {
        "id": "7n3Dcjc81EDB"
      },
      "execution_count": 16,
      "outputs": []
    },
    {
      "cell_type": "code",
      "source": [
        "work_title_authors = []\n",
        "for i in range(Beginning_Page,Number_page):\n",
        "    #print(get_story_ids(directory_urls[i]))\n",
        "    work_title_authors.append(worktitle(directory_urls[i]))\n",
        "    \n",
        "len(work_title_authors)\n",
        "\n",
        "# Same as before for dates we can see the append take a \"None\" value each iteration (page)\n",
        "# Usually the size of work_title_authors is (Number_page * 20) + Number_page"
      ],
      "metadata": {
        "colab": {
          "base_uri": "https://localhost:8080/"
        },
        "id": "OxXgNrq_1k_D",
        "outputId": "71d5c7a7-9ebf-492b-fe2b-454e2c9de23a"
      },
      "execution_count": 17,
      "outputs": [
        {
          "output_type": "execute_result",
          "data": {
            "text/plain": [
              "2100"
            ]
          },
          "metadata": {},
          "execution_count": 17
        }
      ]
    },
    {
      "cell_type": "code",
      "source": [
        "work_title_authors_2 = []\n",
        "for val in work_title_authors:\n",
        "    if val != None :\n",
        "        work_title_authors_2.append(val)\n",
        "\n",
        "# We take out the None value of work_title_authors and put it into work_title_authors_2"
      ],
      "metadata": {
        "id": "XEYdK6Eb1-ba"
      },
      "execution_count": 18,
      "outputs": []
    },
    {
      "cell_type": "code",
      "source": [
        "for work in range(len(work_title_authors_2)):\n",
        "    work_title_authors_2[work] = work_title_authors_2[work].replace('\\n',' ')\n",
        "    work_title_authors_2[work] = work_title_authors_2[work].replace('       ',' ')\n",
        "    work_title_authors_2[work] = work_title_authors_2[work].replace('     ',' ')\n",
        "\n",
        "len(work_title_authors_2)\n",
        "\n",
        "# Just cleaning some text then putting it back into work_title_authors_2\n",
        "# len of (work_title_authors_2) should be Number_page * 20 now, so the number total of work append"
      ],
      "metadata": {
        "colab": {
          "base_uri": "https://localhost:8080/"
        },
        "id": "O-K5sJrm2ZxK",
        "outputId": "1cc46780-30b9-4468-d847-346575c38b20"
      },
      "execution_count": 19,
      "outputs": [
        {
          "output_type": "execute_result",
          "data": {
            "text/plain": [
              "2000"
            ]
          },
          "metadata": {},
          "execution_count": 19
        }
      ]
    },
    {
      "cell_type": "markdown",
      "source": [
        "**Language of the work**"
      ],
      "metadata": {
        "id": "xXxJzzi32_Vd"
      }
    },
    {
      "cell_type": "markdown",
      "source": [
        "Usually it's English even from non english speaker (always the best fics).\n",
        "\n",
        "I'm doing the same as before but not at the end where I need to drop each object at the end of one page (each 20 object of a list) since it append every language possible on the site."
      ],
      "metadata": {
        "id": "CuxCsDb23E0I"
      }
    },
    {
      "cell_type": "code",
      "source": [
        "def worklanguage(directory_url):\n",
        "  \n",
        "  dir_soup = download_and_soupify(directory_url)\n",
        "  for x in dir_soup.findAll(\"dd\",attrs={\"class\": \"language\"}):  \n",
        "    text=x.get_text()\n",
        "    work_language.append(str(text))\n",
        "\n",
        "  (work_language)\n",
        "\n",
        "# I guess you know how it works now"
      ],
      "metadata": {
        "id": "6JmOzD9k4DtH"
      },
      "execution_count": 20,
      "outputs": []
    },
    {
      "cell_type": "code",
      "source": [
        "work_language = []\n",
        "for i in range(Beginning_Page,Number_page):\n",
        "    work_language.append(worklanguage(directory_urls[i]))\n",
        "len(work_language)\n",
        "\n",
        "# len of work_language is the same as before (Number_page * 20) + Number_page*2\n",
        "# Because of the None again and the all language object by page"
      ],
      "metadata": {
        "colab": {
          "base_uri": "https://localhost:8080/"
        },
        "id": "4gtHKgFa4M7E",
        "outputId": "52ef7091-987b-49d1-84ed-879d63514737"
      },
      "execution_count": 21,
      "outputs": [
        {
          "output_type": "execute_result",
          "data": {
            "text/plain": [
              "2200"
            ]
          },
          "metadata": {},
          "execution_count": 21
        }
      ]
    },
    {
      "cell_type": "code",
      "source": [
        "work_language_2 = []\n",
        "for val in work_language:\n",
        "    if val != None :\n",
        "        work_language_2.append(val)\n",
        "len(work_language_2)\n",
        "\n",
        "# We kick off the None object"
      ],
      "metadata": {
        "colab": {
          "base_uri": "https://localhost:8080/"
        },
        "id": "lKBIIiMD4ve6",
        "outputId": "a1d2fa81-c39a-4461-b686-12e46b40358f"
      },
      "execution_count": 22,
      "outputs": [
        {
          "output_type": "execute_result",
          "data": {
            "text/plain": [
              "2100"
            ]
          },
          "metadata": {},
          "execution_count": 22
        }
      ]
    },
    {
      "cell_type": "code",
      "source": [
        "Number_page_bis = Number_page - Beginning_Page\n",
        "Number_page_bis = Number_page_bis\n",
        "Drop_language_setting = []\n",
        "for i in range(Number_page_bis):\n",
        "  Drop_language_setting_bis = 20\n",
        "  Drop_language_setting_bis = Drop_language_setting_bis + i*20\n",
        "  Drop_language_setting.append(Drop_language_setting_bis)\n",
        "Drop_language_setting\n",
        "\n",
        "# Okay so this one is really different from other\n",
        "# I just needed an interval like [20,40,60,...,x] and x is the number of work we want to append\n",
        "# I'm sur there is a way more simple than that but I'm a dumbass so"
      ],
      "metadata": {
        "colab": {
          "base_uri": "https://localhost:8080/"
        },
        "id": "rNFlZKBJ46rK",
        "outputId": "8354d43b-022b-4e6d-e69b-ed26d8463f5c"
      },
      "execution_count": 23,
      "outputs": [
        {
          "output_type": "execute_result",
          "data": {
            "text/plain": [
              "[20,\n",
              " 40,\n",
              " 60,\n",
              " 80,\n",
              " 100,\n",
              " 120,\n",
              " 140,\n",
              " 160,\n",
              " 180,\n",
              " 200,\n",
              " 220,\n",
              " 240,\n",
              " 260,\n",
              " 280,\n",
              " 300,\n",
              " 320,\n",
              " 340,\n",
              " 360,\n",
              " 380,\n",
              " 400,\n",
              " 420,\n",
              " 440,\n",
              " 460,\n",
              " 480,\n",
              " 500,\n",
              " 520,\n",
              " 540,\n",
              " 560,\n",
              " 580,\n",
              " 600,\n",
              " 620,\n",
              " 640,\n",
              " 660,\n",
              " 680,\n",
              " 700,\n",
              " 720,\n",
              " 740,\n",
              " 760,\n",
              " 780,\n",
              " 800,\n",
              " 820,\n",
              " 840,\n",
              " 860,\n",
              " 880,\n",
              " 900,\n",
              " 920,\n",
              " 940,\n",
              " 960,\n",
              " 980,\n",
              " 1000,\n",
              " 1020,\n",
              " 1040,\n",
              " 1060,\n",
              " 1080,\n",
              " 1100,\n",
              " 1120,\n",
              " 1140,\n",
              " 1160,\n",
              " 1180,\n",
              " 1200,\n",
              " 1220,\n",
              " 1240,\n",
              " 1260,\n",
              " 1280,\n",
              " 1300,\n",
              " 1320,\n",
              " 1340,\n",
              " 1360,\n",
              " 1380,\n",
              " 1400,\n",
              " 1420,\n",
              " 1440,\n",
              " 1460,\n",
              " 1480,\n",
              " 1500,\n",
              " 1520,\n",
              " 1540,\n",
              " 1560,\n",
              " 1580,\n",
              " 1600,\n",
              " 1620,\n",
              " 1640,\n",
              " 1660,\n",
              " 1680,\n",
              " 1700,\n",
              " 1720,\n",
              " 1740,\n",
              " 1760,\n",
              " 1780,\n",
              " 1800,\n",
              " 1820,\n",
              " 1840,\n",
              " 1860,\n",
              " 1880,\n",
              " 1900,\n",
              " 1920,\n",
              " 1940,\n",
              " 1960,\n",
              " 1980,\n",
              " 2000]"
            ]
          },
          "metadata": {},
          "execution_count": 23
        }
      ]
    },
    {
      "cell_type": "code",
      "source": [
        "for i in Drop_language_setting:\n",
        "  work_language_2.remove(work_language_2[i])\n",
        "print(work_language_2)\n",
        "len(work_language_2)\n",
        "\n",
        "# Now we had remove every language setting possible\n",
        "# len of work_language_2 must be the same as the number of fix we're trying to append"
      ],
      "metadata": {
        "colab": {
          "base_uri": "https://localhost:8080/"
        },
        "id": "kLtW-wXR5fpS",
        "outputId": "20c7e934-ad32-4568-e2fc-3504bc087670"
      },
      "execution_count": 24,
      "outputs": [
        {
          "output_type": "stream",
          "name": "stdout",
          "text": [
            "['English', 'English', 'English', 'English', 'English', 'English', 'English', 'English', 'English', 'English', 'English', 'English', 'English', 'English', 'English', 'English', 'English', 'English', 'English', 'English', 'English', 'English', 'English', 'English', 'English', 'English', 'English', 'English', 'English', 'English', 'English', 'English', 'English', 'English', 'English', 'English', 'English', 'English', 'English', 'English', 'English', 'English', 'English', 'English', 'English', 'English', 'English', 'English', 'English', 'English', 'English', 'English', 'English', 'English', 'English', 'English', 'English', 'English', 'English', 'English', 'English', 'English', 'English', 'English', 'English', 'English', 'English', 'English', 'English', 'English', 'English', 'English', 'English', 'English', 'English', 'English', 'English', 'English', 'English', 'English', 'English', 'English', 'English', 'English', 'English', 'English', 'English', 'English', 'English', 'English', 'English', 'English', 'English', 'English', 'English', 'English', 'English', 'English', 'English', 'English', 'English', 'English', 'English', 'English', 'English', 'English', 'English', 'English', 'English', 'English', 'English', 'English', 'English', 'English', 'English', 'English', 'English', 'English', 'English', 'English', 'English', 'English', 'English', 'English', 'English', 'English', 'English', 'English', 'English', 'English', 'English', 'English', 'English', 'English', 'English', 'English', 'English', 'English', 'English', 'English', 'English', 'English', 'English', 'English', 'English', 'English', 'English', 'English', 'English', 'English', 'English', 'English', 'English', 'English', 'English', 'English', 'English', 'English', 'English', 'English', 'English', 'English', 'English', 'Français', 'English', 'English', 'English', 'English', 'Русский', 'English', 'English', 'English', 'English', 'English', 'English', 'English', 'English', 'English', 'Español', 'English', 'English', 'English', 'English', 'English', 'English', 'Русский', 'English', 'English', 'English', 'English', 'English', 'English', 'English', 'English', 'English', 'English', 'English', 'English', 'English', 'English', 'English', 'English', 'English', 'English', 'English', 'English', 'English', 'English', 'English', 'English', 'English', 'English', 'English', 'English', 'English', 'English', 'English', 'English', 'English', 'English', 'English', 'English', 'English', 'English', 'English', 'English', 'English', 'English', 'English', 'English', 'English', 'English', 'English', 'English', 'English', 'English', 'English', 'English', 'English', 'English', 'English', 'English', 'English', 'English', 'English', 'English', 'English', 'English', 'English', 'English', 'English', 'Русский', 'English', 'English', 'English', 'English', 'English', 'English', 'English', 'English', 'English', 'English', 'English', 'English', 'English', 'English', 'English', 'English', 'English', 'English', 'English', 'English', 'English', 'English', 'English', 'English', 'English', 'English', 'English', 'English', 'English', 'English', 'English', 'English', 'English', 'English', 'English', 'English', 'English', 'English', 'English', 'English', 'English', 'English', 'English', 'English', 'English', 'English', 'English', 'English', 'English', 'English', 'English', 'English', 'English', 'English', 'English', 'English', 'English', 'English', 'English', 'English', 'English', 'English', 'English', 'English', 'English', 'English', 'English', 'English', 'English', 'English', 'English', 'English', 'English', 'English', 'English', 'English', 'English', 'English', 'English', 'English', 'English', 'English', 'English', 'English', 'English', 'English', 'English', 'English', 'English', 'English', 'English', 'English', 'English', 'English', 'English', 'English', 'English', 'English', 'English', 'English', 'English', 'English', 'English', 'English', 'English', 'English', 'English', 'English', 'English', 'English', 'English', 'English', 'English', 'English', 'English', 'English', 'English', 'English', 'English', 'English', 'English', 'English', 'English', 'English', 'English', 'English', 'English', 'English', 'English', 'English', 'English', 'English', 'English', 'English', 'English', 'English', 'English', 'English', 'English', 'English', 'English', 'English', 'English', 'English', 'English', 'English', 'English', 'English', 'English', 'English', 'English', 'English', 'English', 'English', 'English', 'English', 'English', 'English', 'English', 'English', 'English', 'English', 'English', 'English', 'English', 'English', 'English', 'English', 'English', 'English', 'English', 'English', 'English', 'English', 'English', 'English', 'English', 'English', 'English', 'Deutsch', 'English', 'English', 'English', 'English', 'English', 'English', 'English', 'English', 'English', 'English', 'English', 'English', 'English', 'English', 'English', 'English', 'English', 'English', 'English', 'English', 'English', 'English', 'English', 'English', 'English', 'English', 'English', 'English', 'English', 'English', 'English', 'English', 'English', 'English', 'English', 'English', 'English', 'Italiano', 'English', 'English', 'English', 'English', 'English', 'English', 'English', 'English', 'English', 'English', 'English', 'English', 'English', 'English', 'English', 'English', 'English', 'English', 'English', 'English', 'English', 'English', 'English', 'English', 'English', 'English', 'English', 'English', 'English', 'English', 'English', 'English', 'English', 'English', 'English', 'English', 'English', 'English', 'English', 'English', 'English', 'English', 'English', 'English', 'English', 'English', 'English', 'English', 'English', 'English', 'English', 'English', 'English', 'English', 'English', 'English', 'English', 'English', 'English', 'English', 'English', 'English', 'English', 'English', 'English', 'English', 'English', 'English', 'English', 'English', 'English', 'English', 'English', 'English', 'English', 'English', 'English', 'English', 'English', 'English', 'English', 'English', 'English', 'English', 'English', 'English', 'English', 'English', 'English', 'English', 'English', 'English', 'English', 'English', 'English', 'English', 'English', 'English', 'English', 'English', 'English', 'English', 'English', 'English', 'English', 'English', 'English', 'English', 'English', 'English', 'English', 'English', 'English', 'English', 'English', 'English', 'English', 'English', 'English', 'English', 'English', 'English', 'English', 'English', 'English', 'English', 'English', 'English', 'English', 'English', 'English', 'English', 'English', 'English', 'English', 'English', 'English', 'English', 'English', 'English', 'English', 'English', 'English', 'English', 'English', 'English', 'English', 'English', 'English', 'English', 'English', 'English', 'English', 'English', 'English', 'English', 'English', 'English', 'English', 'English', 'English', 'English', 'English', 'English', 'English', 'English', 'Español', 'English', 'English', 'English', 'English', 'English', 'English', 'English', 'English', 'English', 'English', 'English', 'English', 'English', 'English', 'English', 'English', 'English', 'English', 'English', 'English', 'English', 'English', 'English', 'English', 'English', 'English', 'English', 'English', 'English', 'English', 'English', 'English', 'English', 'English', 'English', 'English', 'English', 'English', 'English', 'English', 'English', 'English', 'English', 'English', 'English', 'English', 'English', 'English', 'English', 'English', 'English', 'English', 'English', 'English', 'English', 'English', 'English', 'English', 'English', 'English', 'English', 'English', 'English', 'English', 'English', 'English', 'English', 'English', 'English', 'English', 'English', 'English', 'English', 'English', 'English', 'English', 'English', 'English', 'English', 'English', 'English', 'English', 'English', 'English', 'English', 'English', 'English', 'English', 'English', 'English', 'English', 'English', 'English', 'English', 'English', 'English', 'English', 'English', 'English', 'English', 'English', 'English', 'English', 'English', 'English', 'English', 'English', 'English', 'English', 'English', 'English', 'English', 'English', 'English', 'English', 'English', 'English', 'English', 'English', 'English', 'English', 'English', 'English', 'English', 'English', 'English', 'English', 'English', 'English', 'English', 'English', 'English', 'English', 'English', 'English', 'English', 'English', 'English', 'English', 'English', 'English', 'English', 'English', 'English', 'English', 'English', 'English', 'English', 'English', 'English', 'English', 'English', 'English', 'English', 'English', 'English', 'English', 'English', 'English', 'English', 'English', 'English', 'English', 'English', 'English', 'English', 'English', 'English', 'English', 'English', 'English', 'English', 'English', 'English', 'English', 'English', 'English', 'Español', 'English', 'English', 'English', 'English', 'English', 'English', 'English', 'English', 'English', 'English', 'English', 'English', 'English', 'English', 'English', 'English', 'English', 'English', 'English', 'English', 'English', 'English', 'English', 'English', 'English', 'English', 'English', 'English', 'English', 'English', 'English', 'English', 'English', 'English', 'English', 'English', 'English', 'English', 'English', 'English', 'English', 'English', 'English', 'English', 'English', 'English', 'English', 'English', 'English', 'English', 'Español', 'English', 'English', 'English', 'English', 'English', 'English', 'English', 'English', 'English', 'English', 'Español', 'English', 'English', 'English', 'English', 'English', 'English', 'English', 'English', 'Français', 'English', 'English', 'English', 'English', 'English', 'English', 'English', 'English', 'English', 'English', 'English', 'English', 'English', 'English', 'English', 'English', 'English', 'English', 'English', 'English', 'English', 'English', 'English', 'English', 'English', 'English', 'English', 'English', 'English', 'English', 'English', 'English', 'English', 'English', 'English', 'English', 'English', 'English', 'English', 'English', 'English', 'English', 'English', 'English', 'English', 'English', 'English', 'English', 'Русский', 'English', 'English', 'English', 'English', 'English', 'English', 'English', 'English', 'English', 'English', 'English', 'English', 'Español', 'English', 'English', 'English', 'English', 'English', 'English', 'English', 'English', 'English', 'English', 'English', 'English', 'English', 'English', 'English', 'English', 'English', 'English', 'English', 'English', 'English', 'English', 'English', 'English', 'English', 'English', 'English', 'English', 'English', 'English', 'English', 'English', 'English', 'English', 'English', 'English', 'English', 'English', 'English', 'English', 'English', 'English', 'English', 'English', 'English', 'English', 'English', 'English', 'English', 'English', 'English', 'English', 'English', 'English', 'English', 'English', 'English', 'English', 'English', 'English', 'English', 'English', 'English', 'English', 'English', 'English', 'English', 'English', 'English', 'English', 'English', 'English', 'English', 'English', 'English', 'English', 'English', 'English', 'English', 'English', 'English', 'English', 'English', 'English', 'English', 'English', 'English', 'English', 'English', 'English', 'English', 'English', 'English', 'English', 'English', 'English', 'English', 'English', 'English', 'English', 'English', 'English', 'English', 'English', 'English', 'English', 'English', 'English', 'English', 'English', 'English', 'English', 'English', 'English', 'English', 'English', 'English', 'Русский', 'English', 'Français', 'English', 'English', 'English', 'Русский', 'English', 'Français', 'English', 'English', 'English', 'English', 'English', 'English', 'English', 'English', 'English', 'English', 'English', 'English', 'English', 'English', 'English', 'English', 'English', 'English', 'English', 'English', 'English', 'English', 'English', 'English', 'English', 'English', 'English', 'English', 'English', 'English', 'English', 'English', 'English', 'English', 'English', 'English', 'English', 'English', 'English', 'Русский', 'English', 'English', 'English', 'English', 'English', 'English', 'English', 'English', 'English', 'English', 'English', 'English', 'English', 'English', 'English', 'English', 'English', 'English', 'English', 'English', 'English', 'English', 'English', 'English', 'English', 'English', 'English', 'English', 'English', 'English', 'English', 'English', 'English', 'English', 'English', 'English', 'English', 'English', 'English', 'English', 'English', 'English', 'English', 'English', 'English', 'English', 'English', 'English', 'English', 'English', 'English', 'English', 'English', 'English', 'English', 'English', 'English', 'English', 'English', 'English', 'English', 'English', 'English', 'English', 'English', 'English', 'English', 'English', 'English', 'English', 'English', 'English', 'English', 'English', 'English', 'English', 'English', 'English', 'English', 'English', 'English', 'English', 'English', 'English', 'English', 'English', 'English', 'English', 'English', 'English', 'English', 'English', 'English', 'English', 'English', 'English', 'English', 'English', 'English', 'English', 'English', 'English', 'English', 'English', 'English', 'English', 'English', 'English', 'English', 'English', 'English', 'English', 'English', 'English', 'English', 'English', 'English', 'English', 'English', 'English', 'English', 'English', 'English', 'English', 'English', 'English', 'English', 'English', 'English', 'English', 'English', 'English', 'English', 'English', 'English', 'English', 'English', 'English', 'Русский', 'English', 'English', 'English', 'English', 'English', 'English', 'English', 'English', 'English', 'English', 'English', 'English', 'English', 'English', 'English', 'English', 'English', 'English', 'English', 'Italiano', 'English', 'English', 'English', 'English', 'English', 'English', 'English', 'English', 'English', 'English', 'English', 'English', 'English', 'English', 'English', 'English', 'English', 'English', 'English', 'English', 'English', 'English', 'English', 'English', 'English', 'English', 'English', 'English', 'English', 'English', 'English', 'English', 'English', 'English', 'English', 'English', 'English', 'English', 'English', 'English', 'English', 'English', 'English', 'English', 'English', 'English', 'English', 'English', 'English', 'English', 'English', 'English', 'English', 'English', 'English', 'English', 'English', 'English', 'English', 'English', 'English', 'English', 'English', 'English', 'English', 'English', 'English', 'English', 'English', 'English', 'English', 'English', 'English', 'English', 'English', 'English', 'English', 'English', 'English', 'English', 'Español', 'English', 'English', 'English', 'English', 'English', 'English', 'English', 'English', 'English', 'English', 'English', 'English', 'English', 'English', 'English', 'English', 'English', 'English', 'English', 'Українська', 'English', 'English', 'English', 'English', 'English', 'English', 'English', 'English', 'English', 'English', 'English', 'English', 'English', 'English', 'English', 'Español', 'English', 'English', 'English', 'English', 'English', 'English', 'English', 'English', 'English', 'English', 'English', 'English', 'English', 'English', 'English', 'English', 'English', 'English', 'English', 'English', 'English', 'English', 'English', 'English', 'English', 'English', 'English', 'English', 'English', 'English', 'English', 'English', 'English', 'English', 'English', 'English', 'English', 'English', 'English', 'English', 'English', 'English', 'English', 'English', 'English', 'English', 'English', 'English', 'English', 'English', 'English', 'English', 'English', 'English', 'English', 'English', 'English', 'English', 'English', 'English', 'English', 'English', 'English', 'English', 'English', 'English', 'English', 'English', 'English', 'English', 'English', 'English', 'English', 'English', 'English', 'English', 'English', 'English', 'English', 'English', 'English', 'English', 'English', 'English', 'English', 'English', 'English', 'English', 'English', 'English', 'English', 'English', 'English', 'English', 'English', 'English', 'English', 'English', 'English', 'English', 'English', 'English', 'English', 'English', 'English', 'English', 'Français', 'English', 'English', 'English', 'English', 'English', 'English', 'English', 'English', 'English', 'English', 'English', 'English', 'English', 'English', 'English', 'English', 'English', 'English', 'English', 'English', 'English', 'English', 'English', 'English', 'English', 'English', 'English', 'English', 'English', 'English', 'English', 'English', 'English', 'English', 'English', 'English', 'English', 'English', 'English', 'English', 'English', 'English', 'English', 'English', 'English', 'English', 'Русский', 'English', 'English', 'English', 'English', 'English', 'English', 'English', 'English', 'English', 'English', 'English', 'English', 'English', 'English', 'English', 'English', 'English', 'English', 'English', 'English', 'English', 'English', 'English', 'English', 'English', 'English', 'English', 'English', 'English', 'English', 'English', 'English', 'English', 'English', 'English', 'English', 'English', 'English', 'English', 'English', 'English', 'English', 'English', 'English', 'English', 'English', 'English', 'English', 'English', 'English', 'English', 'English', 'English', 'English', 'English', 'English', 'English', 'English', 'English', 'English', 'English', 'English', 'English', 'English', 'English', 'English', 'English', 'English', 'English', 'English', 'English', 'English', 'English', 'English', 'English', 'English', 'English', 'English', 'English', 'English', 'English', 'English', 'English', 'English', 'English', 'English', 'English', 'English', 'English', 'English', 'English', 'English', 'English', 'English', 'English', 'English', 'English', 'English', 'English', 'English', 'English', 'English', 'English', 'English', 'English', 'English', 'English', 'English', 'English', 'English', 'English', 'English', 'English', 'English', 'English', 'English', 'English', 'English', 'English', 'English', 'English', 'English', 'English', 'English', 'English', 'English', 'English', 'English', 'Français', 'English', 'English', 'English', 'English', 'English', 'English', 'English', 'English', 'English', 'English', 'English', 'English', 'English', 'English', 'English', 'English', 'English', 'English', 'English', 'English', 'English', 'English', 'English', 'English', 'English', 'English', 'English', 'English', 'English', 'English', 'English', 'English', 'English', 'English', 'English', 'English', 'English', 'English', 'Español', 'English', 'English', 'English', 'English', 'English', 'English', 'English', 'English', 'English', 'English', 'English', 'English', 'English', 'English', 'English', 'English', 'English', 'English', 'English', 'English', 'English', 'English', 'English', 'English', 'English', 'English', 'English', 'English', 'English', 'English', 'English', 'English', 'Français', 'English', 'English', 'English', 'English', 'English', 'English', 'English', 'English', 'English', 'English', 'English', 'English', 'English', 'English', 'English', 'English', 'English', 'English', 'English', 'English', 'English', 'English', 'English', 'English', 'English', 'English', 'English', 'English', 'English', 'English', 'English', 'English', 'English', 'English', 'English', 'English', 'English', 'English', 'English', 'English', 'English', 'English', 'English', 'English', 'English', 'English', 'English', 'English', 'English', 'English', 'English', 'English', 'English', 'English', 'English', 'English', 'English', 'English', 'English', 'English', 'English', 'English', 'Português europeu', 'English', 'English', 'English', 'English', 'English', 'English', 'English', 'English', 'English', 'English', 'English', 'English', 'English', 'English', 'English', 'English', 'English', 'English', 'English', 'English', 'English', 'English', 'English', 'English', 'English', 'English', 'English', 'English', 'English', 'English', 'English', 'English', 'English', 'English', 'English', 'English', 'English', 'English', 'English', 'English', 'English', 'English', 'English', 'English', 'English', 'English', 'English', 'English', 'English', 'English', 'English', 'English', 'English', 'English', 'English', 'English', 'English', 'English', 'English', 'English', 'English', 'English', 'English', 'English', 'English', 'English', 'English', 'English', 'English', 'English', 'English', 'English', 'English', 'English', 'English', 'English', 'English', 'English', 'English', 'English', 'English', 'English', 'English', 'English', 'English', 'English', 'English', 'English', 'English', 'English', 'English', 'English', 'English', 'English', 'English', 'English', 'English', 'English', 'English', 'English', 'English', 'English', 'English', 'English', 'English', 'English', 'English', 'English', 'English', 'English', 'English', 'English', 'English', 'English', 'English', 'English', 'English', 'English', 'English', 'English', 'English', 'English', 'English', 'English', 'English', 'English', 'English', 'English', 'English', 'English', 'English', 'English', 'English', 'English', 'English', 'English', 'English', 'English', 'English', 'English', 'English', 'English', 'English', 'English', 'English', 'English', 'English', 'English', 'English', 'English', 'English', 'English', 'English', 'English', 'English', 'English', 'English', 'English', 'English', 'English', 'English', 'English', 'English', 'English', 'English', 'English', 'English', 'English', 'English', 'English', 'English', 'English', 'English', 'English', 'English', 'English', 'Русский', 'English', 'English', 'English', 'English', 'English', 'English', 'English', 'Español', 'English', 'English', 'English', 'English', 'English', 'English', 'English']\n"
          ]
        },
        {
          "output_type": "execute_result",
          "data": {
            "text/plain": [
              "2000"
            ]
          },
          "metadata": {},
          "execution_count": 24
        }
      ]
    },
    {
      "cell_type": "markdown",
      "source": [
        "**Number of Words**"
      ],
      "metadata": {
        "id": "YG1VQpxb53ir"
      }
    },
    {
      "cell_type": "markdown",
      "source": [
        "Haha I knew you were expecting that !\n",
        "Maybe one of the most interesting stat of the work.\n",
        "You can see if your fandom is based by one shot fic or very long 500k work divided betweet 30 part."
      ],
      "metadata": {
        "id": "5j39iQOP58Px"
      }
    },
    {
      "cell_type": "markdown",
      "source": [
        "Btw I'm sorry for my stupid comment I'm having a lot of fun doing this."
      ],
      "metadata": {
        "id": "g5f7o7-r6UKn"
      }
    },
    {
      "cell_type": "code",
      "source": [
        "def NumberofWords(directory_url):\n",
        "  \n",
        "  dir_soup = download_and_soupify(directory_url)\n",
        "  for x in dir_soup.findAll(\"dd\",attrs={\"class\": \"words\"}):  \n",
        "    text=x.get_text()\n",
        "    Nbr_words.append(str(text))"
      ],
      "metadata": {
        "id": "zdRkvdg454xm"
      },
      "execution_count": 25,
      "outputs": []
    },
    {
      "cell_type": "code",
      "source": [
        "Nbr_words = []\n",
        "for i in range(Beginning_Page,Number_page):\n",
        "    Nbr_words.append(NumberofWords(directory_urls[i]))\n",
        "len(Nbr_words)"
      ],
      "metadata": {
        "colab": {
          "base_uri": "https://localhost:8080/"
        },
        "id": "oj0GeXXC6eVe",
        "outputId": "a0c3627a-968a-4893-9bb2-319bc8e4f92d"
      },
      "execution_count": 26,
      "outputs": [
        {
          "output_type": "execute_result",
          "data": {
            "text/plain": [
              "2100"
            ]
          },
          "metadata": {},
          "execution_count": 26
        }
      ]
    },
    {
      "cell_type": "code",
      "source": [
        "Nbr_words_2 = []\n",
        "for val in Nbr_words:\n",
        "    if val != None :\n",
        "        Nbr_words_2.append(val)\n",
        "len(Nbr_words_2)\n",
        "\n",
        "# Told you the code is very simple\n",
        "# We just had to delete the None value and everything is right"
      ],
      "metadata": {
        "colab": {
          "base_uri": "https://localhost:8080/"
        },
        "id": "Wnld372w6frO",
        "outputId": "1e0b9bec-3183-4a12-b383-c25728d4d304"
      },
      "execution_count": 27,
      "outputs": [
        {
          "output_type": "execute_result",
          "data": {
            "text/plain": [
              "2000"
            ]
          },
          "metadata": {},
          "execution_count": 27
        }
      ]
    },
    {
      "cell_type": "markdown",
      "source": [
        "**Number of Chapter**"
      ],
      "metadata": {
        "id": "2_AMN36vQ9PK"
      }
    },
    {
      "cell_type": "markdown",
      "source": [
        "I'm not gonna lie these one wasn't really hard to append, but I really don't know why I had to use a different method to drop all the None value ? Otherwise the loop was infinite.\n",
        "\n"
      ],
      "metadata": {
        "id": "2MG6UR5wR9F9"
      }
    },
    {
      "cell_type": "code",
      "source": [
        "def NumberofChapter(directory_url):\n",
        "  \n",
        "  dir_soup = download_and_soupify(directory_url)\n",
        "  for x in dir_soup.findAll(\"dd\",attrs={\"class\": \"chapters\"}):  \n",
        "    text=x.get_text()\n",
        "    Nbr_chapter.append(str(text))"
      ],
      "metadata": {
        "id": "NGYH2nL2R8Sj"
      },
      "execution_count": 28,
      "outputs": []
    },
    {
      "cell_type": "code",
      "source": [
        "Nbr_chapter = []\n",
        "for i in range(Beginning_Page,Number_page):\n",
        "    Nbr_chapter.append(NumberofChapter(directory_urls[i]))\n",
        "    Nbr_chapter.remove(None)\n",
        "len(Nbr_chapter)\n",
        "\n",
        "# yes it's just there that I realize we can remove the None values from the object directcly"
      ],
      "metadata": {
        "colab": {
          "base_uri": "https://localhost:8080/"
        },
        "id": "fldJCekBSHud",
        "outputId": "da0ba977-7d65-4466-e08a-bfa15918237c"
      },
      "execution_count": 29,
      "outputs": [
        {
          "output_type": "execute_result",
          "data": {
            "text/plain": [
              "2000"
            ]
          },
          "metadata": {},
          "execution_count": 29
        }
      ]
    },
    {
      "cell_type": "markdown",
      "source": [
        "**Number of hits**"
      ],
      "metadata": {
        "id": "bvKpwvKkRKez"
      }
    },
    {
      "cell_type": "code",
      "source": [
        "def NumberofHits(directory_url):\n",
        "  \n",
        "  dir_soup = download_and_soupify(directory_url)\n",
        "  for x in dir_soup.findAll(\"dd\",attrs={\"class\": \"hits\"}):  \n",
        "    text=x.get_text()\n",
        "    Nbr_hits.append(str(text))"
      ],
      "metadata": {
        "id": "davQxgx7SadG"
      },
      "execution_count": 30,
      "outputs": []
    },
    {
      "cell_type": "code",
      "source": [
        "Nbr_hits = []\n",
        "for i in range(Beginning_Page,Number_page):\n",
        "    Nbr_hits.append(NumberofHits(directory_urls[i]))\n",
        "    Nbr_hits.remove(None)\n",
        "len(Nbr_hits)\n",
        "\n",
        "# Everything it's quite the same at this point so I let it run"
      ],
      "metadata": {
        "colab": {
          "base_uri": "https://localhost:8080/"
        },
        "id": "jPBTEz-RSfuQ",
        "outputId": "bafcbcbc-edb9-43de-ee63-1fcbd4b8a78e"
      },
      "execution_count": 31,
      "outputs": [
        {
          "output_type": "execute_result",
          "data": {
            "text/plain": [
              "2000"
            ]
          },
          "metadata": {},
          "execution_count": 31
        }
      ]
    },
    {
      "cell_type": "markdown",
      "source": [
        "**Requiered Tags**"
      ],
      "metadata": {
        "id": "NP_9yAhoRTkE"
      }
    },
    {
      "cell_type": "code",
      "source": [
        "def tags_req(directory_url):\n",
        "  \n",
        "  dir_soup = download_and_soupify(directory_url)\n",
        "  for x in dir_soup.findAll(\"ul\",attrs={\"class\": \"required-tags\"}):  \n",
        "    text=x.get_text()\n",
        "    tags_requiered.append(str(text))\n",
        "\n",
        "# Same as usual"
      ],
      "metadata": {
        "id": "dcxumPHES_bg"
      },
      "execution_count": 32,
      "outputs": []
    },
    {
      "cell_type": "code",
      "source": [
        "tags_requiered = []\n",
        "for i in range(Beginning_Page,Number_page):\n",
        "    tags_requiered.append(tags_req(directory_urls[i]))\n",
        "    tags_requiered.remove(None)\n",
        "len(tags_requiered)"
      ],
      "metadata": {
        "colab": {
          "base_uri": "https://localhost:8080/"
        },
        "id": "s2TzhP4cTBvC",
        "outputId": "911363fb-29c2-4911-bce2-d7dc6c4fd394"
      },
      "execution_count": 33,
      "outputs": [
        {
          "output_type": "execute_result",
          "data": {
            "text/plain": [
              "2000"
            ]
          },
          "metadata": {},
          "execution_count": 33
        }
      ]
    },
    {
      "cell_type": "code",
      "source": [
        "tags_requiered_2 = tags_requiered\n",
        "for i in range(len(tags_requiered_2)):\n",
        "  tags_requiered_2[i] = tags_requiered_2[i].replace(\"\\n\",\"|\")\n",
        "\n",
        "# We just change the \\n by |\n",
        "# All requiered table are in one data\n",
        "# But like author and title we can divide it latter if needed"
      ],
      "metadata": {
        "id": "v6XWvQd1USTL"
      },
      "execution_count": null,
      "outputs": []
    },
    {
      "cell_type": "markdown",
      "source": [
        "**Additionnal Tags**"
      ],
      "metadata": {
        "id": "I-UJ8fbnRXKp"
      }
    },
    {
      "cell_type": "code",
      "source": [
        "def tags(directory_url):\n",
        "  \n",
        "  dir_soup = download_and_soupify(directory_url)\n",
        "  for x in dir_soup.findAll(\"ul\",attrs={\"class\": \"tags commas\"}):  \n",
        "    text=x.get_text()\n",
        "    tags_add.append(str(text))"
      ],
      "metadata": {
        "id": "myToBCBxRD9s"
      },
      "execution_count": 35,
      "outputs": []
    },
    {
      "cell_type": "code",
      "source": [
        "tags_add = []\n",
        "for i in range(Beginning_Page,Number_page):\n",
        "    tags_add.append(tags(directory_urls[i]))\n",
        "    tags_add.remove(None)\n",
        "len(tags_add)"
      ],
      "metadata": {
        "colab": {
          "base_uri": "https://localhost:8080/"
        },
        "id": "hpwvyeMeTRNi",
        "outputId": "ce3cc01f-0229-46d2-c363-fb118afb350c"
      },
      "execution_count": 36,
      "outputs": [
        {
          "output_type": "execute_result",
          "data": {
            "text/plain": [
              "2000"
            ]
          },
          "metadata": {},
          "execution_count": 36
        }
      ]
    },
    {
      "cell_type": "code",
      "source": [
        "tags_add_2 = tags_add\n",
        "for i in range(len(tags_add_2)):\n",
        "  tags_add_2[i] = tags_add_2[i].replace(\"\\n\",\"|\")\n",
        "  backslash = '\"\\\\\"'\n",
        "  tags_add_2[i] = tags_add_2[i].replace(backslash,'')\n",
        "\n",
        "# Sorry for the backlash\n",
        "# Every tag is not that clean but I'ts better than nothing"
      ],
      "metadata": {
        "id": "hBIvvqEVZmAa"
      },
      "execution_count": 37,
      "outputs": []
    },
    {
      "cell_type": "markdown",
      "source": [
        "# The Data Frame"
      ],
      "metadata": {
        "id": "LFfp56FRVx3q"
      }
    },
    {
      "cell_type": "markdown",
      "source": [
        "**Inside a data frame**"
      ],
      "metadata": {
        "id": "xyB_LsjbKRhN"
      }
    },
    {
      "cell_type": "markdown",
      "source": [
        "Finally we can put everything on a date frame.\n",
        "Data frame sorry, here we don't have anyone to date (indeed we scrapping fanfiction)\n",
        "I really want to add other stuff, I'll do it later.\n",
        "The most difficult but the most interesting will be the non requiry tags. "
      ],
      "metadata": {
        "id": "1UvWOztXKZ0X"
      }
    },
    {
      "cell_type": "code",
      "source": [
        "# I'd like to add an index to know wich work is on wich page an add an independant index ?\n",
        "index_page = []\n",
        "for i in range(Beginning_Page,Number_page):\n",
        "  for j in range(20):\n",
        "    index_page.append(i)\n",
        "len(index_page)"
      ],
      "metadata": {
        "colab": {
          "base_uri": "https://localhost:8080/"
        },
        "id": "l_rgI9dzMox2",
        "outputId": "b88cc286-5807-4457-d72b-38aabec51a95"
      },
      "execution_count": 38,
      "outputs": [
        {
          "output_type": "execute_result",
          "data": {
            "text/plain": [
              "2000"
            ]
          },
          "metadata": {},
          "execution_count": 38
        }
      ]
    },
    {
      "cell_type": "code",
      "source": [
        "# Yeah maybe we need the tag where the data is from\n",
        "tag= urlparse(TEST_URL)\n",
        "tag = tag.path\n",
        "tag_2 = tag\n",
        "tag_2 = tag_2.replace('tags','')\n",
        "tag_2 = tag_2.replace('/','')\n",
        "tag_2 = tag_2.replace('%20',' ')\n",
        "tag_2 = tag_2.replace('*s*',' and ')\n",
        "tag_2 = tag_2.replace('doryane','/')\n",
        "# The last one is too verify if there is no character asked to be replaced it's still work\n",
        "# RIP english\n",
        "\n",
        "print(tag,tag_2)\n",
        "\n"
      ],
      "metadata": {
        "colab": {
          "base_uri": "https://localhost:8080/"
        },
        "id": "eBEcBorB0IV0",
        "outputId": "1092a0aa-7c61-4a1d-fb27-25f615df2e5e"
      },
      "execution_count": 39,
      "outputs": [
        {
          "output_type": "stream",
          "name": "stdout",
          "text": [
            "/tags/Stranger%20Things%20(TV%202016)/ Stranger Things (TV 2016)\n"
          ]
        }
      ]
    },
    {
      "cell_type": "code",
      "source": [
        "import pandas as pd\n",
        "base1 = {'Index_page' : index_page, 'ID' :story_ids_2,'Date_publication' : date_work_2, 'Title_and_author' : work_title_authors_2, 'Language_of_the_work' : work_language_2, 'Word' : Nbr_words_2, 'Chapter' : Nbr_chapter, 'Hits' : Nbr_hits, 'Requiered_tags' : tags_requiered_2, 'Additionnal_tags' : tags_add}\n",
        "base1 = pd.DataFrame(data=base1)\n",
        "tag_2\n",
        "base1.head()"
      ],
      "metadata": {
        "id": "TX6FxUGALg1A",
        "colab": {
          "base_uri": "https://localhost:8080/",
          "height": 424
        },
        "outputId": "d03fe3f2-b59a-41cb-f3e7-b3c091a34bef"
      },
      "execution_count": 57,
      "outputs": [
        {
          "output_type": "execute_result",
          "data": {
            "text/plain": [
              "   Index_page        ID Date_publication  \\\n",
              "0           1  44157319      02 Feb 2023   \n",
              "1           1  44733832      02 Feb 2023   \n",
              "2           1  21311245      02 Feb 2023   \n",
              "3           1  44511886      02 Feb 2023   \n",
              "4           1  43212331      02 Feb 2023   \n",
              "\n",
              "                                    Title_and_author Language_of_the_work  \\\n",
              "0                 Harringrove Stuff by wrecked_fuse               English   \n",
              "1   The Past, The Future and The Present by Sodap...              English   \n",
              "2   Like Magnets by Pondermoniums  for wrecked_fuse               English   \n",
              "3                Be Patient by TATAMONIQUELAGINETTE               English   \n",
              "4   Midnight (Belongs to You and Me) by Polkadotd...              English   \n",
              "\n",
              "     Word Chapter    Hits                                     Requiered_tags  \\\n",
              "0       0   60/60  111004  | Explicit| Choose Not To Use Archive Warnings...   \n",
              "1   2,278     1/2       0  | Explicit| Underage| M/M, Multi| Work in Prog...   \n",
              "2  25,522    18/?    7588  | Teen And Up Audiences| No Archive Warnings A...   \n",
              "3   2,395     1/1       0  | Explicit| No Archive Warnings Apply| F/F| Co...   \n",
              "4  24,448     4/?    1254  | Explicit| Choose Not To Use Archive Warnings...   \n",
              "\n",
              "                                    Additionnal_tags  \n",
              "0  |Creator Chose Not To Use Archive Warnings No ...  \n",
              "1  |UnderageWill Byers/Mike Wheeler Mike Wheeler/...  \n",
              "2  |No Archive Warnings ApplyBilly Hargrove/Steve...  \n",
              "3  |No Archive Warnings ApplyRobin Buckley/Nancy ...  \n",
              "4  |Creator Chose Not To Use Archive WarningsChri...  "
            ],
            "text/html": [
              "\n",
              "  <div id=\"df-d78b3d2a-87eb-4aab-8e75-ff87129ec784\">\n",
              "    <div class=\"colab-df-container\">\n",
              "      <div>\n",
              "<style scoped>\n",
              "    .dataframe tbody tr th:only-of-type {\n",
              "        vertical-align: middle;\n",
              "    }\n",
              "\n",
              "    .dataframe tbody tr th {\n",
              "        vertical-align: top;\n",
              "    }\n",
              "\n",
              "    .dataframe thead th {\n",
              "        text-align: right;\n",
              "    }\n",
              "</style>\n",
              "<table border=\"1\" class=\"dataframe\">\n",
              "  <thead>\n",
              "    <tr style=\"text-align: right;\">\n",
              "      <th></th>\n",
              "      <th>Index_page</th>\n",
              "      <th>ID</th>\n",
              "      <th>Date_publication</th>\n",
              "      <th>Title_and_author</th>\n",
              "      <th>Language_of_the_work</th>\n",
              "      <th>Word</th>\n",
              "      <th>Chapter</th>\n",
              "      <th>Hits</th>\n",
              "      <th>Requiered_tags</th>\n",
              "      <th>Additionnal_tags</th>\n",
              "    </tr>\n",
              "  </thead>\n",
              "  <tbody>\n",
              "    <tr>\n",
              "      <th>0</th>\n",
              "      <td>1</td>\n",
              "      <td>44157319</td>\n",
              "      <td>02 Feb 2023</td>\n",
              "      <td>Harringrove Stuff by wrecked_fuse</td>\n",
              "      <td>English</td>\n",
              "      <td>0</td>\n",
              "      <td>60/60</td>\n",
              "      <td>111004</td>\n",
              "      <td>| Explicit| Choose Not To Use Archive Warnings...</td>\n",
              "      <td>|Creator Chose Not To Use Archive Warnings No ...</td>\n",
              "    </tr>\n",
              "    <tr>\n",
              "      <th>1</th>\n",
              "      <td>1</td>\n",
              "      <td>44733832</td>\n",
              "      <td>02 Feb 2023</td>\n",
              "      <td>The Past, The Future and The Present by Sodap...</td>\n",
              "      <td>English</td>\n",
              "      <td>2,278</td>\n",
              "      <td>1/2</td>\n",
              "      <td>0</td>\n",
              "      <td>| Explicit| Underage| M/M, Multi| Work in Prog...</td>\n",
              "      <td>|UnderageWill Byers/Mike Wheeler Mike Wheeler/...</td>\n",
              "    </tr>\n",
              "    <tr>\n",
              "      <th>2</th>\n",
              "      <td>1</td>\n",
              "      <td>21311245</td>\n",
              "      <td>02 Feb 2023</td>\n",
              "      <td>Like Magnets by Pondermoniums  for wrecked_fuse</td>\n",
              "      <td>English</td>\n",
              "      <td>25,522</td>\n",
              "      <td>18/?</td>\n",
              "      <td>7588</td>\n",
              "      <td>| Teen And Up Audiences| No Archive Warnings A...</td>\n",
              "      <td>|No Archive Warnings ApplyBilly Hargrove/Steve...</td>\n",
              "    </tr>\n",
              "    <tr>\n",
              "      <th>3</th>\n",
              "      <td>1</td>\n",
              "      <td>44511886</td>\n",
              "      <td>02 Feb 2023</td>\n",
              "      <td>Be Patient by TATAMONIQUELAGINETTE</td>\n",
              "      <td>English</td>\n",
              "      <td>2,395</td>\n",
              "      <td>1/1</td>\n",
              "      <td>0</td>\n",
              "      <td>| Explicit| No Archive Warnings Apply| F/F| Co...</td>\n",
              "      <td>|No Archive Warnings ApplyRobin Buckley/Nancy ...</td>\n",
              "    </tr>\n",
              "    <tr>\n",
              "      <th>4</th>\n",
              "      <td>1</td>\n",
              "      <td>43212331</td>\n",
              "      <td>02 Feb 2023</td>\n",
              "      <td>Midnight (Belongs to You and Me) by Polkadotd...</td>\n",
              "      <td>English</td>\n",
              "      <td>24,448</td>\n",
              "      <td>4/?</td>\n",
              "      <td>1254</td>\n",
              "      <td>| Explicit| Choose Not To Use Archive Warnings...</td>\n",
              "      <td>|Creator Chose Not To Use Archive WarningsChri...</td>\n",
              "    </tr>\n",
              "  </tbody>\n",
              "</table>\n",
              "</div>\n",
              "      <button class=\"colab-df-convert\" onclick=\"convertToInteractive('df-d78b3d2a-87eb-4aab-8e75-ff87129ec784')\"\n",
              "              title=\"Convert this dataframe to an interactive table.\"\n",
              "              style=\"display:none;\">\n",
              "        \n",
              "  <svg xmlns=\"http://www.w3.org/2000/svg\" height=\"24px\"viewBox=\"0 0 24 24\"\n",
              "       width=\"24px\">\n",
              "    <path d=\"M0 0h24v24H0V0z\" fill=\"none\"/>\n",
              "    <path d=\"M18.56 5.44l.94 2.06.94-2.06 2.06-.94-2.06-.94-.94-2.06-.94 2.06-2.06.94zm-11 1L8.5 8.5l.94-2.06 2.06-.94-2.06-.94L8.5 2.5l-.94 2.06-2.06.94zm10 10l.94 2.06.94-2.06 2.06-.94-2.06-.94-.94-2.06-.94 2.06-2.06.94z\"/><path d=\"M17.41 7.96l-1.37-1.37c-.4-.4-.92-.59-1.43-.59-.52 0-1.04.2-1.43.59L10.3 9.45l-7.72 7.72c-.78.78-.78 2.05 0 2.83L4 21.41c.39.39.9.59 1.41.59.51 0 1.02-.2 1.41-.59l7.78-7.78 2.81-2.81c.8-.78.8-2.07 0-2.86zM5.41 20L4 18.59l7.72-7.72 1.47 1.35L5.41 20z\"/>\n",
              "  </svg>\n",
              "      </button>\n",
              "      \n",
              "  <style>\n",
              "    .colab-df-container {\n",
              "      display:flex;\n",
              "      flex-wrap:wrap;\n",
              "      gap: 12px;\n",
              "    }\n",
              "\n",
              "    .colab-df-convert {\n",
              "      background-color: #E8F0FE;\n",
              "      border: none;\n",
              "      border-radius: 50%;\n",
              "      cursor: pointer;\n",
              "      display: none;\n",
              "      fill: #1967D2;\n",
              "      height: 32px;\n",
              "      padding: 0 0 0 0;\n",
              "      width: 32px;\n",
              "    }\n",
              "\n",
              "    .colab-df-convert:hover {\n",
              "      background-color: #E2EBFA;\n",
              "      box-shadow: 0px 1px 2px rgba(60, 64, 67, 0.3), 0px 1px 3px 1px rgba(60, 64, 67, 0.15);\n",
              "      fill: #174EA6;\n",
              "    }\n",
              "\n",
              "    [theme=dark] .colab-df-convert {\n",
              "      background-color: #3B4455;\n",
              "      fill: #D2E3FC;\n",
              "    }\n",
              "\n",
              "    [theme=dark] .colab-df-convert:hover {\n",
              "      background-color: #434B5C;\n",
              "      box-shadow: 0px 1px 3px 1px rgba(0, 0, 0, 0.15);\n",
              "      filter: drop-shadow(0px 1px 2px rgba(0, 0, 0, 0.3));\n",
              "      fill: #FFFFFF;\n",
              "    }\n",
              "  </style>\n",
              "\n",
              "      <script>\n",
              "        const buttonEl =\n",
              "          document.querySelector('#df-d78b3d2a-87eb-4aab-8e75-ff87129ec784 button.colab-df-convert');\n",
              "        buttonEl.style.display =\n",
              "          google.colab.kernel.accessAllowed ? 'block' : 'none';\n",
              "\n",
              "        async function convertToInteractive(key) {\n",
              "          const element = document.querySelector('#df-d78b3d2a-87eb-4aab-8e75-ff87129ec784');\n",
              "          const dataTable =\n",
              "            await google.colab.kernel.invokeFunction('convertToInteractive',\n",
              "                                                     [key], {});\n",
              "          if (!dataTable) return;\n",
              "\n",
              "          const docLinkHtml = 'Like what you see? Visit the ' +\n",
              "            '<a target=\"_blank\" href=https://colab.research.google.com/notebooks/data_table.ipynb>data table notebook</a>'\n",
              "            + ' to learn more about interactive tables.';\n",
              "          element.innerHTML = '';\n",
              "          dataTable['output_type'] = 'display_data';\n",
              "          await google.colab.output.renderOutput(dataTable, element);\n",
              "          const docLink = document.createElement('div');\n",
              "          docLink.innerHTML = docLinkHtml;\n",
              "          element.appendChild(docLink);\n",
              "        }\n",
              "      </script>\n",
              "    </div>\n",
              "  </div>\n",
              "  "
            ]
          },
          "metadata": {},
          "execution_count": 57
        }
      ]
    },
    {
      "cell_type": "code",
      "source": [
        "print(\"--- %s seconds ---\" % (time.time() - start_time))"
      ],
      "metadata": {
        "colab": {
          "base_uri": "https://localhost:8080/"
        },
        "id": "iPBjpjyzFDjJ",
        "outputId": "a6e2fb55-ff29-4712-ccfb-b8d94c168069"
      },
      "execution_count": 41,
      "outputs": [
        {
          "output_type": "stream",
          "name": "stdout",
          "text": [
            "--- 395.04031896591187 seconds ---\n"
          ]
        }
      ]
    },
    {
      "cell_type": "markdown",
      "source": [
        "**Basic graph and histogram**"
      ],
      "metadata": {
        "id": "Z0fe2hraf-kD"
      }
    },
    {
      "cell_type": "markdown",
      "source": [
        "So what we trying to do is visual the data and what better than graph and histogram.\n",
        "At this point we just have the ID and Date of publication of the works.\n",
        "Later, if I'm not lazy or I found myself unemployed I will append other data."
      ],
      "metadata": {
        "id": "CNpNK_eEilS7"
      }
    },
    {
      "cell_type": "markdown",
      "source": [
        "First thing first, we need to modify the data base :"
      ],
      "metadata": {
        "id": "JZG0KKNmjHWW"
      }
    },
    {
      "cell_type": "code",
      "source": [
        "base_graph = base1"
      ],
      "metadata": {
        "id": "cooApIDAjGy1"
      },
      "execution_count": 42,
      "outputs": []
    },
    {
      "cell_type": "code",
      "source": [
        "# We're trying to transform dates as real dates (not romantic one I don't know what this things is)\n",
        "# EDIT : you already made this joke we get it\n",
        "base_graph[\"Date_publication\"] = pd.to_datetime(base_graph[\"Date_publication\"])\n",
        "\n",
        "# As so the months associated \n",
        "base_graph[\"Month\"] = base_graph[\"Date_publication\"].dt.month\n",
        "base_graph[\"Month\"] = str(base_graph[\"Month\"])\n",
        "\n",
        "# In this house, the ID aren't numeric\n",
        "str(base_graph[\"ID\"])\n",
        "\n",
        "# Here the idea is to map the data as how it evolve throught time\n",
        "base_graph = base_graph.sort_values(by=['Date_publication'])\n",
        "\n",
        "# Index are not in the chronogical order, so we're gonna make them by ourself\n",
        "Index = list(range(0,len(story_ids_2)))\n",
        "base_graph[\"Index\"] = Index\n",
        "base_graph.head()\n"
      ],
      "metadata": {
        "id": "fLk9E0i4jmMO",
        "colab": {
          "base_uri": "https://localhost:8080/",
          "height": 597
        },
        "outputId": "8f79ce93-f690-42d6-e955-37e523b63235"
      },
      "execution_count": 56,
      "outputs": [
        {
          "output_type": "execute_result",
          "data": {
            "text/plain": [
              "      Index_page        ID Date_publication  \\\n",
              "1999         100  40308990       2023-01-22   \n",
              "1995         100  44318299       2023-01-22   \n",
              "1994         100  44213833       2023-01-22   \n",
              "1993         100  42362952       2023-01-22   \n",
              "1997         100  44463469       2023-01-22   \n",
              "\n",
              "                                       Title_and_author Language_of_the_work  \\\n",
              "1999   hum along 'til the feelings gone, forever by ...              English   \n",
              "1995   something happens and i'm head over heels by ...              English   \n",
              "1994             one winter night by disembodiedhottie               English   \n",
              "1993   I would like, if I may, to take you on a stra...              English   \n",
              "1997                  Home by the Sea by WreakingHavok               English   \n",
              "\n",
              "        Word Chapter  Hits                                     Requiered_tags  \\\n",
              "1999  22,012     4/4  2758  | Explicit| Choose Not To Use Archive Warnings...   \n",
              "1995  12,694     5/?  1063  | Explicit| Choose Not To Use Archive Warnings...   \n",
              "1994   2,042     1/1    82  | General Audiences| No Archive Warnings Apply...   \n",
              "1993   1,516     1/?    44  | Mature| No Archive Warnings Apply| M/M| Work...   \n",
              "1997  11,716     4/5  1965  | General Audiences| Choose Not To Use Archive...   \n",
              "\n",
              "                                       Additionnal_tags  \\\n",
              "1999  |Creator Chose Not To Use Archive WarningsStev...   \n",
              "1995  |Creator Chose Not To Use Archive WarningsStev...   \n",
              "1994  |No Archive Warnings ApplyEddie Munson/Reader ...   \n",
              "1993  |No Archive Warnings ApplySteve Harrington/Edd...   \n",
              "1997  |Creator Chose Not To Use Archive WarningsWill...   \n",
              "\n",
              "                                                  Month  Index  \n",
              "1999  1999    1\\n1931    1\\n1932    1\\n1933    1\\n19...      0  \n",
              "1995  1999    1\\n1931    1\\n1932    1\\n1933    1\\n19...      1  \n",
              "1994  1999    1\\n1931    1\\n1932    1\\n1933    1\\n19...      2  \n",
              "1993  1999    1\\n1931    1\\n1932    1\\n1933    1\\n19...      3  \n",
              "1997  1999    1\\n1931    1\\n1932    1\\n1933    1\\n19...      4  "
            ],
            "text/html": [
              "\n",
              "  <div id=\"df-58ee265a-b3fd-4af6-af90-1a15362c39d9\">\n",
              "    <div class=\"colab-df-container\">\n",
              "      <div>\n",
              "<style scoped>\n",
              "    .dataframe tbody tr th:only-of-type {\n",
              "        vertical-align: middle;\n",
              "    }\n",
              "\n",
              "    .dataframe tbody tr th {\n",
              "        vertical-align: top;\n",
              "    }\n",
              "\n",
              "    .dataframe thead th {\n",
              "        text-align: right;\n",
              "    }\n",
              "</style>\n",
              "<table border=\"1\" class=\"dataframe\">\n",
              "  <thead>\n",
              "    <tr style=\"text-align: right;\">\n",
              "      <th></th>\n",
              "      <th>Index_page</th>\n",
              "      <th>ID</th>\n",
              "      <th>Date_publication</th>\n",
              "      <th>Title_and_author</th>\n",
              "      <th>Language_of_the_work</th>\n",
              "      <th>Word</th>\n",
              "      <th>Chapter</th>\n",
              "      <th>Hits</th>\n",
              "      <th>Requiered_tags</th>\n",
              "      <th>Additionnal_tags</th>\n",
              "      <th>Month</th>\n",
              "      <th>Index</th>\n",
              "    </tr>\n",
              "  </thead>\n",
              "  <tbody>\n",
              "    <tr>\n",
              "      <th>1999</th>\n",
              "      <td>100</td>\n",
              "      <td>40308990</td>\n",
              "      <td>2023-01-22</td>\n",
              "      <td>hum along 'til the feelings gone, forever by ...</td>\n",
              "      <td>English</td>\n",
              "      <td>22,012</td>\n",
              "      <td>4/4</td>\n",
              "      <td>2758</td>\n",
              "      <td>| Explicit| Choose Not To Use Archive Warnings...</td>\n",
              "      <td>|Creator Chose Not To Use Archive WarningsStev...</td>\n",
              "      <td>1999    1\\n1931    1\\n1932    1\\n1933    1\\n19...</td>\n",
              "      <td>0</td>\n",
              "    </tr>\n",
              "    <tr>\n",
              "      <th>1995</th>\n",
              "      <td>100</td>\n",
              "      <td>44318299</td>\n",
              "      <td>2023-01-22</td>\n",
              "      <td>something happens and i'm head over heels by ...</td>\n",
              "      <td>English</td>\n",
              "      <td>12,694</td>\n",
              "      <td>5/?</td>\n",
              "      <td>1063</td>\n",
              "      <td>| Explicit| Choose Not To Use Archive Warnings...</td>\n",
              "      <td>|Creator Chose Not To Use Archive WarningsStev...</td>\n",
              "      <td>1999    1\\n1931    1\\n1932    1\\n1933    1\\n19...</td>\n",
              "      <td>1</td>\n",
              "    </tr>\n",
              "    <tr>\n",
              "      <th>1994</th>\n",
              "      <td>100</td>\n",
              "      <td>44213833</td>\n",
              "      <td>2023-01-22</td>\n",
              "      <td>one winter night by disembodiedhottie</td>\n",
              "      <td>English</td>\n",
              "      <td>2,042</td>\n",
              "      <td>1/1</td>\n",
              "      <td>82</td>\n",
              "      <td>| General Audiences| No Archive Warnings Apply...</td>\n",
              "      <td>|No Archive Warnings ApplyEddie Munson/Reader ...</td>\n",
              "      <td>1999    1\\n1931    1\\n1932    1\\n1933    1\\n19...</td>\n",
              "      <td>2</td>\n",
              "    </tr>\n",
              "    <tr>\n",
              "      <th>1993</th>\n",
              "      <td>100</td>\n",
              "      <td>42362952</td>\n",
              "      <td>2023-01-22</td>\n",
              "      <td>I would like, if I may, to take you on a stra...</td>\n",
              "      <td>English</td>\n",
              "      <td>1,516</td>\n",
              "      <td>1/?</td>\n",
              "      <td>44</td>\n",
              "      <td>| Mature| No Archive Warnings Apply| M/M| Work...</td>\n",
              "      <td>|No Archive Warnings ApplySteve Harrington/Edd...</td>\n",
              "      <td>1999    1\\n1931    1\\n1932    1\\n1933    1\\n19...</td>\n",
              "      <td>3</td>\n",
              "    </tr>\n",
              "    <tr>\n",
              "      <th>1997</th>\n",
              "      <td>100</td>\n",
              "      <td>44463469</td>\n",
              "      <td>2023-01-22</td>\n",
              "      <td>Home by the Sea by WreakingHavok</td>\n",
              "      <td>English</td>\n",
              "      <td>11,716</td>\n",
              "      <td>4/5</td>\n",
              "      <td>1965</td>\n",
              "      <td>| General Audiences| Choose Not To Use Archive...</td>\n",
              "      <td>|Creator Chose Not To Use Archive WarningsWill...</td>\n",
              "      <td>1999    1\\n1931    1\\n1932    1\\n1933    1\\n19...</td>\n",
              "      <td>4</td>\n",
              "    </tr>\n",
              "  </tbody>\n",
              "</table>\n",
              "</div>\n",
              "      <button class=\"colab-df-convert\" onclick=\"convertToInteractive('df-58ee265a-b3fd-4af6-af90-1a15362c39d9')\"\n",
              "              title=\"Convert this dataframe to an interactive table.\"\n",
              "              style=\"display:none;\">\n",
              "        \n",
              "  <svg xmlns=\"http://www.w3.org/2000/svg\" height=\"24px\"viewBox=\"0 0 24 24\"\n",
              "       width=\"24px\">\n",
              "    <path d=\"M0 0h24v24H0V0z\" fill=\"none\"/>\n",
              "    <path d=\"M18.56 5.44l.94 2.06.94-2.06 2.06-.94-2.06-.94-.94-2.06-.94 2.06-2.06.94zm-11 1L8.5 8.5l.94-2.06 2.06-.94-2.06-.94L8.5 2.5l-.94 2.06-2.06.94zm10 10l.94 2.06.94-2.06 2.06-.94-2.06-.94-.94-2.06-.94 2.06-2.06.94z\"/><path d=\"M17.41 7.96l-1.37-1.37c-.4-.4-.92-.59-1.43-.59-.52 0-1.04.2-1.43.59L10.3 9.45l-7.72 7.72c-.78.78-.78 2.05 0 2.83L4 21.41c.39.39.9.59 1.41.59.51 0 1.02-.2 1.41-.59l7.78-7.78 2.81-2.81c.8-.78.8-2.07 0-2.86zM5.41 20L4 18.59l7.72-7.72 1.47 1.35L5.41 20z\"/>\n",
              "  </svg>\n",
              "      </button>\n",
              "      \n",
              "  <style>\n",
              "    .colab-df-container {\n",
              "      display:flex;\n",
              "      flex-wrap:wrap;\n",
              "      gap: 12px;\n",
              "    }\n",
              "\n",
              "    .colab-df-convert {\n",
              "      background-color: #E8F0FE;\n",
              "      border: none;\n",
              "      border-radius: 50%;\n",
              "      cursor: pointer;\n",
              "      display: none;\n",
              "      fill: #1967D2;\n",
              "      height: 32px;\n",
              "      padding: 0 0 0 0;\n",
              "      width: 32px;\n",
              "    }\n",
              "\n",
              "    .colab-df-convert:hover {\n",
              "      background-color: #E2EBFA;\n",
              "      box-shadow: 0px 1px 2px rgba(60, 64, 67, 0.3), 0px 1px 3px 1px rgba(60, 64, 67, 0.15);\n",
              "      fill: #174EA6;\n",
              "    }\n",
              "\n",
              "    [theme=dark] .colab-df-convert {\n",
              "      background-color: #3B4455;\n",
              "      fill: #D2E3FC;\n",
              "    }\n",
              "\n",
              "    [theme=dark] .colab-df-convert:hover {\n",
              "      background-color: #434B5C;\n",
              "      box-shadow: 0px 1px 3px 1px rgba(0, 0, 0, 0.15);\n",
              "      filter: drop-shadow(0px 1px 2px rgba(0, 0, 0, 0.3));\n",
              "      fill: #FFFFFF;\n",
              "    }\n",
              "  </style>\n",
              "\n",
              "      <script>\n",
              "        const buttonEl =\n",
              "          document.querySelector('#df-58ee265a-b3fd-4af6-af90-1a15362c39d9 button.colab-df-convert');\n",
              "        buttonEl.style.display =\n",
              "          google.colab.kernel.accessAllowed ? 'block' : 'none';\n",
              "\n",
              "        async function convertToInteractive(key) {\n",
              "          const element = document.querySelector('#df-58ee265a-b3fd-4af6-af90-1a15362c39d9');\n",
              "          const dataTable =\n",
              "            await google.colab.kernel.invokeFunction('convertToInteractive',\n",
              "                                                     [key], {});\n",
              "          if (!dataTable) return;\n",
              "\n",
              "          const docLinkHtml = 'Like what you see? Visit the ' +\n",
              "            '<a target=\"_blank\" href=https://colab.research.google.com/notebooks/data_table.ipynb>data table notebook</a>'\n",
              "            + ' to learn more about interactive tables.';\n",
              "          element.innerHTML = '';\n",
              "          dataTable['output_type'] = 'display_data';\n",
              "          await google.colab.output.renderOutput(dataTable, element);\n",
              "          const docLink = document.createElement('div');\n",
              "          docLink.innerHTML = docLinkHtml;\n",
              "          element.appendChild(docLink);\n",
              "        }\n",
              "      </script>\n",
              "    </div>\n",
              "  </div>\n",
              "  "
            ]
          },
          "metadata": {},
          "execution_count": 56
        }
      ]
    },
    {
      "cell_type": "markdown",
      "source": [
        "Time graph :"
      ],
      "metadata": {
        "id": "monjjbhBvcNh"
      }
    },
    {
      "cell_type": "code",
      "source": [
        "# x and y of course\n",
        "x = base_graph['Date_publication']\n",
        "y = base_graph['Index']\n",
        "\n",
        "# plot\n",
        "plt.plot(x,y)\n",
        "\n",
        "ylabel = \"Works with the tag :\" + tag_2\n",
        "\n",
        "plt.xlabel(\"Time\")\n",
        "plt.ylabel(ylabel)\n",
        "\n",
        "# beautify the x-labels\n",
        "plt.gcf().autofmt_xdate()\n",
        "\n",
        "plt.show()"
      ],
      "metadata": {
        "colab": {
          "base_uri": "https://localhost:8080/",
          "height": 303
        },
        "id": "LfA7_K6FvJxs",
        "outputId": "5b5628f3-bd28-4760-8b87-755e0ff424eb"
      },
      "execution_count": 44,
      "outputs": [
        {
          "output_type": "display_data",
          "data": {
            "text/plain": [
              "<Figure size 432x288 with 1 Axes>"
            ],
            "image/png": "[encoded data removed]"
          },
          "metadata": {
            "needs_background": "light"
          }
        }
      ]
    },
    {
      "cell_type": "markdown",
      "source": [
        "So the problem here is when there is too much data there's not enought dates so it became an ugly stair and serve no purpose."
      ],
      "metadata": {
        "id": "GvSOvIBCR2U0"
      }
    },
    {
      "cell_type": "markdown",
      "source": [
        "*Histogram* :"
      ],
      "metadata": {
        "id": "wpKrmLiMSrSV"
      }
    },
    {
      "cell_type": "code",
      "source": [
        "print(base_graph.hist(\"Date_publication\"))"
      ],
      "metadata": {
        "colab": {
          "base_uri": "https://localhost:8080/",
          "height": 299
        },
        "id": "yG7V-ol9Seo9",
        "outputId": "58ad6aab-92ac-4d63-89b5-c6c8e183a66e"
      },
      "execution_count": 45,
      "outputs": [
        {
          "output_type": "stream",
          "name": "stdout",
          "text": [
            "[[<matplotlib.axes._subplots.AxesSubplot object at 0x7fae56e39790>]]\n"
          ]
        },
        {
          "output_type": "display_data",
          "data": {
            "text/plain": [
              "<Figure size 432x288 with 1 Axes>"
            ],
            "image/png": "[encoded data removed]"
          },
          "metadata": {
            "needs_background": "light"
          }
        }
      ]
    },
    {
      "cell_type": "markdown",
      "source": [
        "**Find tags in works**"
      ],
      "metadata": {
        "id": "aGOkXJFRRgq2"
      }
    },
    {
      "cell_type": "markdown",
      "source": [
        "Ok so I try to make a function where you can find a tag in the dataset so you don't have to append every tag independently."
      ],
      "metadata": {
        "id": "8nJSQr0NcIpD"
      }
    },
    {
      "cell_type": "markdown",
      "source": [
        "*Parameters*\n",
        "\n",
        "So I'm just asking you wich tag you want to search and on wich variable.\n",
        "The tag is just the word or name of the character, all you need is to respect uppercase and space.\n"
      ],
      "metadata": {
        "id": "4UExsyhLerKu"
      }
    },
    {
      "cell_type": "code",
      "source": [
        "tag_search = \"Will Byers\"\n",
        "\n",
        "# Just an exemple\n",
        "# Will fans are so toxic omg\n",
        "# (True)"
      ],
      "metadata": {
        "id": "KlHBD_u5epYt"
      },
      "execution_count": 46,
      "outputs": []
    },
    {
      "cell_type": "markdown",
      "source": [
        "\n",
        "And for wich variable you can choose between the requiered tag or the additional tag."
      ],
      "metadata": {
        "id": "EB3rScqyN2C3"
      }
    },
    {
      "cell_type": "code",
      "source": [
        "Variable_search_tag = 'Requiered_tags'\n",
        "\n",
        "Variable_search_tag = 'Additionnal_tags'\n",
        "\n",
        "# Please look first which tag you want to search INTO the database\n",
        "# A tag \"F/F\" won't exist in the Additionnal_tags"
      ],
      "metadata": {
        "id": "uPZY4q_Kf1AY"
      },
      "execution_count": 47,
      "outputs": []
    },
    {
      "cell_type": "code",
      "source": [
        "base2 = base1\n",
        "random_page = (random.randint(0,len(base2)))\n",
        "print(random_page)\n",
        "base2['Additionnal_tags'][random_page]\n",
        "\n",
        "# If you want to look at a specific tag"
      ],
      "metadata": {
        "id": "fyFY5LtjjH7B",
        "colab": {
          "base_uri": "https://localhost:8080/",
          "height": 73
        },
        "outputId": "c53a5430-ad2a-4a49-abfb-fc1dec876642"
      },
      "execution_count": 48,
      "outputs": [
        {
          "output_type": "stream",
          "name": "stdout",
          "text": [
            "108\n"
          ]
        },
        {
          "output_type": "execute_result",
          "data": {
            "text/plain": [
              "'|Creator Chose Not To Use Archive WarningsBilly Hargrove & Maxine \"Max\" MayfieldBilly Hargrove Maxine \"Max\" MayfieldDrabble Witness Protection they could\\'ve been siblings No Dialogue Not Beta Read|'"
            ],
            "application/vnd.google.colaboratory.intrinsic+json": {
              "type": "string"
            }
          },
          "metadata": {},
          "execution_count": 48
        }
      ]
    },
    {
      "cell_type": "markdown",
      "source": [
        "So what we doing here is using the *find* function, the output is the placement of the caracter we searching, or at least the beginning.\n",
        "But, if the caracter or the string of caracter doesn't exist the output is \"-1\" .\n",
        "We using it to find the tag in our variable."
      ],
      "metadata": {
        "id": "L2ZVw0gvgHE7"
      }
    },
    {
      "cell_type": "code",
      "source": [
        "def find_tag(full_tag,tag):\n",
        "  tag_here = full_tag.find(tag)\n",
        "  if tag_here != -1:\n",
        "    tag_present = \"tag is present\"\n",
        "  else:\n",
        "    tag_present = \"tag isn't present\"\n",
        "  # print(tag_present)\n",
        "  tag_present_2.append(str(tag_present))\n",
        "\n",
        "# And we append the tag is present or not and place it in \"tag_present_2\""
      ],
      "metadata": {
        "id": "myI95McnRnCV"
      },
      "execution_count": 49,
      "outputs": []
    },
    {
      "cell_type": "code",
      "source": [
        "tag_present_2 = []\n",
        "for i in range(len(base1[Variable_search_tag])):\n",
        "  find_tag(base1[Variable_search_tag][i],tag_search)"
      ],
      "metadata": {
        "id": "PG5gSu_rdFwk"
      },
      "execution_count": 50,
      "outputs": []
    },
    {
      "cell_type": "code",
      "source": [
        "tag_present_3 = \"tag_present_\" + tag_search"
      ],
      "metadata": {
        "id": "FsbZhnk5hl4u"
      },
      "execution_count": 51,
      "outputs": []
    },
    {
      "cell_type": "code",
      "source": [
        "base_tag = base1\n",
        "base_tag[tag_present_3] = tag_present_2\n",
        "base_tag.head()\n",
        "\n",
        "# Please note that it's add to the database\n",
        "# If you did a first search on a tag and then search for another it will stay on the data base"
      ],
      "metadata": {
        "id": "-_n7kXNFiVob",
        "colab": {
          "base_uri": "https://localhost:8080/",
          "height": 530
        },
        "outputId": "c67510e8-3af0-4f0c-8f1e-028f04682e9e"
      },
      "execution_count": 58,
      "outputs": [
        {
          "output_type": "execute_result",
          "data": {
            "text/plain": [
              "   Index_page        ID Date_publication  \\\n",
              "0           1  44157319      02 Feb 2023   \n",
              "1           1  44733832      02 Feb 2023   \n",
              "2           1  21311245      02 Feb 2023   \n",
              "3           1  44511886      02 Feb 2023   \n",
              "4           1  43212331      02 Feb 2023   \n",
              "\n",
              "                                    Title_and_author Language_of_the_work  \\\n",
              "0                 Harringrove Stuff by wrecked_fuse               English   \n",
              "1   The Past, The Future and The Present by Sodap...              English   \n",
              "2   Like Magnets by Pondermoniums  for wrecked_fuse               English   \n",
              "3                Be Patient by TATAMONIQUELAGINETTE               English   \n",
              "4   Midnight (Belongs to You and Me) by Polkadotd...              English   \n",
              "\n",
              "     Word Chapter    Hits                                     Requiered_tags  \\\n",
              "0       0   60/60  111004  | Explicit| Choose Not To Use Archive Warnings...   \n",
              "1   2,278     1/2       0  | Explicit| Underage| M/M, Multi| Work in Prog...   \n",
              "2  25,522    18/?    7588  | Teen And Up Audiences| No Archive Warnings A...   \n",
              "3   2,395     1/1       0  | Explicit| No Archive Warnings Apply| F/F| Co...   \n",
              "4  24,448     4/?    1254  | Explicit| Choose Not To Use Archive Warnings...   \n",
              "\n",
              "                                    Additionnal_tags tag_present_Will Byers  \n",
              "0  |Creator Chose Not To Use Archive Warnings No ...      tag isn't present  \n",
              "1  |UnderageWill Byers/Mike Wheeler Mike Wheeler/...         tag is present  \n",
              "2  |No Archive Warnings ApplyBilly Hargrove/Steve...      tag isn't present  \n",
              "3  |No Archive Warnings ApplyRobin Buckley/Nancy ...      tag isn't present  \n",
              "4  |Creator Chose Not To Use Archive WarningsChri...      tag isn't present  "
            ],
            "text/html": [
              "\n",
              "  <div id=\"df-5292bb0b-48f5-4459-bf5f-64a0b16b9740\">\n",
              "    <div class=\"colab-df-container\">\n",
              "      <div>\n",
              "<style scoped>\n",
              "    .dataframe tbody tr th:only-of-type {\n",
              "        vertical-align: middle;\n",
              "    }\n",
              "\n",
              "    .dataframe tbody tr th {\n",
              "        vertical-align: top;\n",
              "    }\n",
              "\n",
              "    .dataframe thead th {\n",
              "        text-align: right;\n",
              "    }\n",
              "</style>\n",
              "<table border=\"1\" class=\"dataframe\">\n",
              "  <thead>\n",
              "    <tr style=\"text-align: right;\">\n",
              "      <th></th>\n",
              "      <th>Index_page</th>\n",
              "      <th>ID</th>\n",
              "      <th>Date_publication</th>\n",
              "      <th>Title_and_author</th>\n",
              "      <th>Language_of_the_work</th>\n",
              "      <th>Word</th>\n",
              "      <th>Chapter</th>\n",
              "      <th>Hits</th>\n",
              "      <th>Requiered_tags</th>\n",
              "      <th>Additionnal_tags</th>\n",
              "      <th>tag_present_Will Byers</th>\n",
              "    </tr>\n",
              "  </thead>\n",
              "  <tbody>\n",
              "    <tr>\n",
              "      <th>0</th>\n",
              "      <td>1</td>\n",
              "      <td>44157319</td>\n",
              "      <td>02 Feb 2023</td>\n",
              "      <td>Harringrove Stuff by wrecked_fuse</td>\n",
              "      <td>English</td>\n",
              "      <td>0</td>\n",
              "      <td>60/60</td>\n",
              "      <td>111004</td>\n",
              "      <td>| Explicit| Choose Not To Use Archive Warnings...</td>\n",
              "      <td>|Creator Chose Not To Use Archive Warnings No ...</td>\n",
              "      <td>tag isn't present</td>\n",
              "    </tr>\n",
              "    <tr>\n",
              "      <th>1</th>\n",
              "      <td>1</td>\n",
              "      <td>44733832</td>\n",
              "      <td>02 Feb 2023</td>\n",
              "      <td>The Past, The Future and The Present by Sodap...</td>\n",
              "      <td>English</td>\n",
              "      <td>2,278</td>\n",
              "      <td>1/2</td>\n",
              "      <td>0</td>\n",
              "      <td>| Explicit| Underage| M/M, Multi| Work in Prog...</td>\n",
              "      <td>|UnderageWill Byers/Mike Wheeler Mike Wheeler/...</td>\n",
              "      <td>tag is present</td>\n",
              "    </tr>\n",
              "    <tr>\n",
              "      <th>2</th>\n",
              "      <td>1</td>\n",
              "      <td>21311245</td>\n",
              "      <td>02 Feb 2023</td>\n",
              "      <td>Like Magnets by Pondermoniums  for wrecked_fuse</td>\n",
              "      <td>English</td>\n",
              "      <td>25,522</td>\n",
              "      <td>18/?</td>\n",
              "      <td>7588</td>\n",
              "      <td>| Teen And Up Audiences| No Archive Warnings A...</td>\n",
              "      <td>|No Archive Warnings ApplyBilly Hargrove/Steve...</td>\n",
              "      <td>tag isn't present</td>\n",
              "    </tr>\n",
              "    <tr>\n",
              "      <th>3</th>\n",
              "      <td>1</td>\n",
              "      <td>44511886</td>\n",
              "      <td>02 Feb 2023</td>\n",
              "      <td>Be Patient by TATAMONIQUELAGINETTE</td>\n",
              "      <td>English</td>\n",
              "      <td>2,395</td>\n",
              "      <td>1/1</td>\n",
              "      <td>0</td>\n",
              "      <td>| Explicit| No Archive Warnings Apply| F/F| Co...</td>\n",
              "      <td>|No Archive Warnings ApplyRobin Buckley/Nancy ...</td>\n",
              "      <td>tag isn't present</td>\n",
              "    </tr>\n",
              "    <tr>\n",
              "      <th>4</th>\n",
              "      <td>1</td>\n",
              "      <td>43212331</td>\n",
              "      <td>02 Feb 2023</td>\n",
              "      <td>Midnight (Belongs to You and Me) by Polkadotd...</td>\n",
              "      <td>English</td>\n",
              "      <td>24,448</td>\n",
              "      <td>4/?</td>\n",
              "      <td>1254</td>\n",
              "      <td>| Explicit| Choose Not To Use Archive Warnings...</td>\n",
              "      <td>|Creator Chose Not To Use Archive WarningsChri...</td>\n",
              "      <td>tag isn't present</td>\n",
              "    </tr>\n",
              "  </tbody>\n",
              "</table>\n",
              "</div>\n",
              "      <button class=\"colab-df-convert\" onclick=\"convertToInteractive('df-5292bb0b-48f5-4459-bf5f-64a0b16b9740')\"\n",
              "              title=\"Convert this dataframe to an interactive table.\"\n",
              "              style=\"display:none;\">\n",
              "        \n",
              "  <svg xmlns=\"http://www.w3.org/2000/svg\" height=\"24px\"viewBox=\"0 0 24 24\"\n",
              "       width=\"24px\">\n",
              "    <path d=\"M0 0h24v24H0V0z\" fill=\"none\"/>\n",
              "    <path d=\"M18.56 5.44l.94 2.06.94-2.06 2.06-.94-2.06-.94-.94-2.06-.94 2.06-2.06.94zm-11 1L8.5 8.5l.94-2.06 2.06-.94-2.06-.94L8.5 2.5l-.94 2.06-2.06.94zm10 10l.94 2.06.94-2.06 2.06-.94-2.06-.94-.94-2.06-.94 2.06-2.06.94z\"/><path d=\"M17.41 7.96l-1.37-1.37c-.4-.4-.92-.59-1.43-.59-.52 0-1.04.2-1.43.59L10.3 9.45l-7.72 7.72c-.78.78-.78 2.05 0 2.83L4 21.41c.39.39.9.59 1.41.59.51 0 1.02-.2 1.41-.59l7.78-7.78 2.81-2.81c.8-.78.8-2.07 0-2.86zM5.41 20L4 18.59l7.72-7.72 1.47 1.35L5.41 20z\"/>\n",
              "  </svg>\n",
              "      </button>\n",
              "      \n",
              "  <style>\n",
              "    .colab-df-container {\n",
              "      display:flex;\n",
              "      flex-wrap:wrap;\n",
              "      gap: 12px;\n",
              "    }\n",
              "\n",
              "    .colab-df-convert {\n",
              "      background-color: #E8F0FE;\n",
              "      border: none;\n",
              "      border-radius: 50%;\n",
              "      cursor: pointer;\n",
              "      display: none;\n",
              "      fill: #1967D2;\n",
              "      height: 32px;\n",
              "      padding: 0 0 0 0;\n",
              "      width: 32px;\n",
              "    }\n",
              "\n",
              "    .colab-df-convert:hover {\n",
              "      background-color: #E2EBFA;\n",
              "      box-shadow: 0px 1px 2px rgba(60, 64, 67, 0.3), 0px 1px 3px 1px rgba(60, 64, 67, 0.15);\n",
              "      fill: #174EA6;\n",
              "    }\n",
              "\n",
              "    [theme=dark] .colab-df-convert {\n",
              "      background-color: #3B4455;\n",
              "      fill: #D2E3FC;\n",
              "    }\n",
              "\n",
              "    [theme=dark] .colab-df-convert:hover {\n",
              "      background-color: #434B5C;\n",
              "      box-shadow: 0px 1px 3px 1px rgba(0, 0, 0, 0.15);\n",
              "      filter: drop-shadow(0px 1px 2px rgba(0, 0, 0, 0.3));\n",
              "      fill: #FFFFFF;\n",
              "    }\n",
              "  </style>\n",
              "\n",
              "      <script>\n",
              "        const buttonEl =\n",
              "          document.querySelector('#df-5292bb0b-48f5-4459-bf5f-64a0b16b9740 button.colab-df-convert');\n",
              "        buttonEl.style.display =\n",
              "          google.colab.kernel.accessAllowed ? 'block' : 'none';\n",
              "\n",
              "        async function convertToInteractive(key) {\n",
              "          const element = document.querySelector('#df-5292bb0b-48f5-4459-bf5f-64a0b16b9740');\n",
              "          const dataTable =\n",
              "            await google.colab.kernel.invokeFunction('convertToInteractive',\n",
              "                                                     [key], {});\n",
              "          if (!dataTable) return;\n",
              "\n",
              "          const docLinkHtml = 'Like what you see? Visit the ' +\n",
              "            '<a target=\"_blank\" href=https://colab.research.google.com/notebooks/data_table.ipynb>data table notebook</a>'\n",
              "            + ' to learn more about interactive tables.';\n",
              "          element.innerHTML = '';\n",
              "          dataTable['output_type'] = 'display_data';\n",
              "          await google.colab.output.renderOutput(dataTable, element);\n",
              "          const docLink = document.createElement('div');\n",
              "          docLink.innerHTML = docLinkHtml;\n",
              "          element.appendChild(docLink);\n",
              "        }\n",
              "      </script>\n",
              "    </div>\n",
              "  </div>\n",
              "  "
            ]
          },
          "metadata": {},
          "execution_count": 58
        }
      ]
    },
    {
      "cell_type": "code",
      "source": [
        "'''\n",
        "Clean the database from the \"Tag is present\" variables\n",
        "'''\n",
        "\n",
        "drop_col = []\n",
        "for i in range(11,len(base_tag.columns)):\n",
        "  drop_col.append(base_tag.columns[i])\n",
        "base_tag.drop(columns = drop_col).head()"
      ],
      "metadata": {
        "id": "laIrqegvPFfy",
        "colab": {
          "base_uri": "https://localhost:8080/",
          "height": 530
        },
        "outputId": "66ae17d7-1e7f-45e7-8b37-4de716e1320a"
      },
      "execution_count": 59,
      "outputs": [
        {
          "output_type": "execute_result",
          "data": {
            "text/plain": [
              "   Index_page        ID Date_publication  \\\n",
              "0           1  44157319      02 Feb 2023   \n",
              "1           1  44733832      02 Feb 2023   \n",
              "2           1  21311245      02 Feb 2023   \n",
              "3           1  44511886      02 Feb 2023   \n",
              "4           1  43212331      02 Feb 2023   \n",
              "\n",
              "                                    Title_and_author Language_of_the_work  \\\n",
              "0                 Harringrove Stuff by wrecked_fuse               English   \n",
              "1   The Past, The Future and The Present by Sodap...              English   \n",
              "2   Like Magnets by Pondermoniums  for wrecked_fuse               English   \n",
              "3                Be Patient by TATAMONIQUELAGINETTE               English   \n",
              "4   Midnight (Belongs to You and Me) by Polkadotd...              English   \n",
              "\n",
              "     Word Chapter    Hits                                     Requiered_tags  \\\n",
              "0       0   60/60  111004  | Explicit| Choose Not To Use Archive Warnings...   \n",
              "1   2,278     1/2       0  | Explicit| Underage| M/M, Multi| Work in Prog...   \n",
              "2  25,522    18/?    7588  | Teen And Up Audiences| No Archive Warnings A...   \n",
              "3   2,395     1/1       0  | Explicit| No Archive Warnings Apply| F/F| Co...   \n",
              "4  24,448     4/?    1254  | Explicit| Choose Not To Use Archive Warnings...   \n",
              "\n",
              "                                    Additionnal_tags tag_present_Will Byers  \n",
              "0  |Creator Chose Not To Use Archive Warnings No ...      tag isn't present  \n",
              "1  |UnderageWill Byers/Mike Wheeler Mike Wheeler/...         tag is present  \n",
              "2  |No Archive Warnings ApplyBilly Hargrove/Steve...      tag isn't present  \n",
              "3  |No Archive Warnings ApplyRobin Buckley/Nancy ...      tag isn't present  \n",
              "4  |Creator Chose Not To Use Archive WarningsChri...      tag isn't present  "
            ],
            "text/html": [
              "\n",
              "  <div id=\"df-6754c644-1a19-4478-a257-4cd35f4b35de\">\n",
              "    <div class=\"colab-df-container\">\n",
              "      <div>\n",
              "<style scoped>\n",
              "    .dataframe tbody tr th:only-of-type {\n",
              "        vertical-align: middle;\n",
              "    }\n",
              "\n",
              "    .dataframe tbody tr th {\n",
              "        vertical-align: top;\n",
              "    }\n",
              "\n",
              "    .dataframe thead th {\n",
              "        text-align: right;\n",
              "    }\n",
              "</style>\n",
              "<table border=\"1\" class=\"dataframe\">\n",
              "  <thead>\n",
              "    <tr style=\"text-align: right;\">\n",
              "      <th></th>\n",
              "      <th>Index_page</th>\n",
              "      <th>ID</th>\n",
              "      <th>Date_publication</th>\n",
              "      <th>Title_and_author</th>\n",
              "      <th>Language_of_the_work</th>\n",
              "      <th>Word</th>\n",
              "      <th>Chapter</th>\n",
              "      <th>Hits</th>\n",
              "      <th>Requiered_tags</th>\n",
              "      <th>Additionnal_tags</th>\n",
              "      <th>tag_present_Will Byers</th>\n",
              "    </tr>\n",
              "  </thead>\n",
              "  <tbody>\n",
              "    <tr>\n",
              "      <th>0</th>\n",
              "      <td>1</td>\n",
              "      <td>44157319</td>\n",
              "      <td>02 Feb 2023</td>\n",
              "      <td>Harringrove Stuff by wrecked_fuse</td>\n",
              "      <td>English</td>\n",
              "      <td>0</td>\n",
              "      <td>60/60</td>\n",
              "      <td>111004</td>\n",
              "      <td>| Explicit| Choose Not To Use Archive Warnings...</td>\n",
              "      <td>|Creator Chose Not To Use Archive Warnings No ...</td>\n",
              "      <td>tag isn't present</td>\n",
              "    </tr>\n",
              "    <tr>\n",
              "      <th>1</th>\n",
              "      <td>1</td>\n",
              "      <td>44733832</td>\n",
              "      <td>02 Feb 2023</td>\n",
              "      <td>The Past, The Future and The Present by Sodap...</td>\n",
              "      <td>English</td>\n",
              "      <td>2,278</td>\n",
              "      <td>1/2</td>\n",
              "      <td>0</td>\n",
              "      <td>| Explicit| Underage| M/M, Multi| Work in Prog...</td>\n",
              "      <td>|UnderageWill Byers/Mike Wheeler Mike Wheeler/...</td>\n",
              "      <td>tag is present</td>\n",
              "    </tr>\n",
              "    <tr>\n",
              "      <th>2</th>\n",
              "      <td>1</td>\n",
              "      <td>21311245</td>\n",
              "      <td>02 Feb 2023</td>\n",
              "      <td>Like Magnets by Pondermoniums  for wrecked_fuse</td>\n",
              "      <td>English</td>\n",
              "      <td>25,522</td>\n",
              "      <td>18/?</td>\n",
              "      <td>7588</td>\n",
              "      <td>| Teen And Up Audiences| No Archive Warnings A...</td>\n",
              "      <td>|No Archive Warnings ApplyBilly Hargrove/Steve...</td>\n",
              "      <td>tag isn't present</td>\n",
              "    </tr>\n",
              "    <tr>\n",
              "      <th>3</th>\n",
              "      <td>1</td>\n",
              "      <td>44511886</td>\n",
              "      <td>02 Feb 2023</td>\n",
              "      <td>Be Patient by TATAMONIQUELAGINETTE</td>\n",
              "      <td>English</td>\n",
              "      <td>2,395</td>\n",
              "      <td>1/1</td>\n",
              "      <td>0</td>\n",
              "      <td>| Explicit| No Archive Warnings Apply| F/F| Co...</td>\n",
              "      <td>|No Archive Warnings ApplyRobin Buckley/Nancy ...</td>\n",
              "      <td>tag isn't present</td>\n",
              "    </tr>\n",
              "    <tr>\n",
              "      <th>4</th>\n",
              "      <td>1</td>\n",
              "      <td>43212331</td>\n",
              "      <td>02 Feb 2023</td>\n",
              "      <td>Midnight (Belongs to You and Me) by Polkadotd...</td>\n",
              "      <td>English</td>\n",
              "      <td>24,448</td>\n",
              "      <td>4/?</td>\n",
              "      <td>1254</td>\n",
              "      <td>| Explicit| Choose Not To Use Archive Warnings...</td>\n",
              "      <td>|Creator Chose Not To Use Archive WarningsChri...</td>\n",
              "      <td>tag isn't present</td>\n",
              "    </tr>\n",
              "  </tbody>\n",
              "</table>\n",
              "</div>\n",
              "      <button class=\"colab-df-convert\" onclick=\"convertToInteractive('df-6754c644-1a19-4478-a257-4cd35f4b35de')\"\n",
              "              title=\"Convert this dataframe to an interactive table.\"\n",
              "              style=\"display:none;\">\n",
              "        \n",
              "  <svg xmlns=\"http://www.w3.org/2000/svg\" height=\"24px\"viewBox=\"0 0 24 24\"\n",
              "       width=\"24px\">\n",
              "    <path d=\"M0 0h24v24H0V0z\" fill=\"none\"/>\n",
              "    <path d=\"M18.56 5.44l.94 2.06.94-2.06 2.06-.94-2.06-.94-.94-2.06-.94 2.06-2.06.94zm-11 1L8.5 8.5l.94-2.06 2.06-.94-2.06-.94L8.5 2.5l-.94 2.06-2.06.94zm10 10l.94 2.06.94-2.06 2.06-.94-2.06-.94-.94-2.06-.94 2.06-2.06.94z\"/><path d=\"M17.41 7.96l-1.37-1.37c-.4-.4-.92-.59-1.43-.59-.52 0-1.04.2-1.43.59L10.3 9.45l-7.72 7.72c-.78.78-.78 2.05 0 2.83L4 21.41c.39.39.9.59 1.41.59.51 0 1.02-.2 1.41-.59l7.78-7.78 2.81-2.81c.8-.78.8-2.07 0-2.86zM5.41 20L4 18.59l7.72-7.72 1.47 1.35L5.41 20z\"/>\n",
              "  </svg>\n",
              "      </button>\n",
              "      \n",
              "  <style>\n",
              "    .colab-df-container {\n",
              "      display:flex;\n",
              "      flex-wrap:wrap;\n",
              "      gap: 12px;\n",
              "    }\n",
              "\n",
              "    .colab-df-convert {\n",
              "      background-color: #E8F0FE;\n",
              "      border: none;\n",
              "      border-radius: 50%;\n",
              "      cursor: pointer;\n",
              "      display: none;\n",
              "      fill: #1967D2;\n",
              "      height: 32px;\n",
              "      padding: 0 0 0 0;\n",
              "      width: 32px;\n",
              "    }\n",
              "\n",
              "    .colab-df-convert:hover {\n",
              "      background-color: #E2EBFA;\n",
              "      box-shadow: 0px 1px 2px rgba(60, 64, 67, 0.3), 0px 1px 3px 1px rgba(60, 64, 67, 0.15);\n",
              "      fill: #174EA6;\n",
              "    }\n",
              "\n",
              "    [theme=dark] .colab-df-convert {\n",
              "      background-color: #3B4455;\n",
              "      fill: #D2E3FC;\n",
              "    }\n",
              "\n",
              "    [theme=dark] .colab-df-convert:hover {\n",
              "      background-color: #434B5C;\n",
              "      box-shadow: 0px 1px 3px 1px rgba(0, 0, 0, 0.15);\n",
              "      filter: drop-shadow(0px 1px 2px rgba(0, 0, 0, 0.3));\n",
              "      fill: #FFFFFF;\n",
              "    }\n",
              "  </style>\n",
              "\n",
              "      <script>\n",
              "        const buttonEl =\n",
              "          document.querySelector('#df-6754c644-1a19-4478-a257-4cd35f4b35de button.colab-df-convert');\n",
              "        buttonEl.style.display =\n",
              "          google.colab.kernel.accessAllowed ? 'block' : 'none';\n",
              "\n",
              "        async function convertToInteractive(key) {\n",
              "          const element = document.querySelector('#df-6754c644-1a19-4478-a257-4cd35f4b35de');\n",
              "          const dataTable =\n",
              "            await google.colab.kernel.invokeFunction('convertToInteractive',\n",
              "                                                     [key], {});\n",
              "          if (!dataTable) return;\n",
              "\n",
              "          const docLinkHtml = 'Like what you see? Visit the ' +\n",
              "            '<a target=\"_blank\" href=https://colab.research.google.com/notebooks/data_table.ipynb>data table notebook</a>'\n",
              "            + ' to learn more about interactive tables.';\n",
              "          element.innerHTML = '';\n",
              "          dataTable['output_type'] = 'display_data';\n",
              "          await google.colab.output.renderOutput(dataTable, element);\n",
              "          const docLink = document.createElement('div');\n",
              "          docLink.innerHTML = docLinkHtml;\n",
              "          element.appendChild(docLink);\n",
              "        }\n",
              "      </script>\n",
              "    </div>\n",
              "  </div>\n",
              "  "
            ]
          },
          "metadata": {},
          "execution_count": 59
        }
      ]
    },
    {
      "cell_type": "markdown",
      "source": [
        "**Download a DataFrame**"
      ],
      "metadata": {
        "id": "X1e5sxSYWNn4"
      }
    },
    {
      "cell_type": "markdown",
      "source": [
        "Once again I don't know what you want to do but if you want to append a lot of data on big fandom you can't do it in one time."
      ],
      "metadata": {
        "id": "dqoQzPNaWSRM"
      }
    },
    {
      "cell_type": "markdown",
      "source": [
        "If you're insane like me you can download a database 50 page by 50 page, I'm posting another code to how create a full database. (part 3)"
      ],
      "metadata": {
        "id": "BMtn7TKWXU-y"
      }
    },
    {
      "cell_type": "markdown",
      "source": [
        "For exemple, in Stranger Things for today (25/01/2023) the fandom have ~ 63 000 works, around 3126 pages so my insane little brain and I run the code 3126/50 = 62 times then mash up every data."
      ],
      "metadata": {
        "id": "_5NANvvTXfjw"
      }
    },
    {
      "cell_type": "code",
      "source": [
        "base_export = base1\n",
        "Name_base = \"base_page_\" + str(Beginning_Page) + \"_to_\" + str(Number_page) + \".csv\"\n",
        "Name_base"
      ],
      "metadata": {
        "colab": {
          "base_uri": "https://localhost:8080/",
          "height": 36
        },
        "id": "tCG0x5Czfkey",
        "outputId": "0e17fc01-5983-4231-bc1b-c06118a52e4f"
      },
      "execution_count": 54,
      "outputs": [
        {
          "output_type": "execute_result",
          "data": {
            "text/plain": [
              "'base_page_1_to_101.csv'"
            ],
            "application/vnd.google.colaboratory.intrinsic+json": {
              "type": "string"
            }
          },
          "metadata": {},
          "execution_count": 54
        }
      ]
    },
    {
      "cell_type": "code",
      "source": [
        "\"\"\"\n",
        "base_export.to_csv(Name_base) \n",
        "files.download(Name_base)\n",
        "\"\"\"\n",
        "\n",
        "# Take off the quote if you want to download the base"
      ],
      "metadata": {
        "colab": {
          "base_uri": "https://localhost:8080/",
          "height": 36
        },
        "id": "LLsDnkvygooQ",
        "outputId": "a2a58962-312d-4252-9ced-4919b38cf709"
      },
      "execution_count": 55,
      "outputs": [
        {
          "output_type": "execute_result",
          "data": {
            "text/plain": [
              "'\\nbase_export.to_csv(Name_base) \\nfiles.download(Name_base)\\n'"
            ],
            "application/vnd.google.colaboratory.intrinsic+json": {
              "type": "string"
            }
          },
          "metadata": {},
          "execution_count": 55
        }
      ]
    },
    {
      "cell_type": "markdown",
      "source": [
        "Thanks for reading my little comment hope this code helped you in anyway."
      ],
      "metadata": {
        "id": "9DoPxwA5mNvb"
      }
    }
  ]
}