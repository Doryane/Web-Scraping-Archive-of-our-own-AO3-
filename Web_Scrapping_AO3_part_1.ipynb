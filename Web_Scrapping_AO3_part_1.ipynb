{
  "nbformat": 4,
  "nbformat_minor": 0,
  "metadata": {
    "colab": {
      "provenance": [],
      "authorship_tag": "ABX9TyPy8pKdmJU0Bv2ietJ9PnS5",
      "include_colab_link": true
    },
    "kernelspec": {
      "name": "python3",
      "display_name": "Python 3"
    },
    "language_info": {
      "name": "python"
    }
  },
  "cells": [
    {
      "cell_type": "markdown",
      "metadata": {
        "id": "view-in-github",
        "colab_type": "text"
      },
      "source": [
        "<a href=\"https://colab.research.google.com/github/Doryane/Web-Scrapping-Archive-of-our-own-AO3-/blob/main/Web_Scrapping_AO3_part_1.ipynb\" target=\"_parent\"><img src=\"https://colab.research.google.com/assets/colab-badge.svg\" alt=\"Open In Colab\"/></a>"
      ]
    },
    {
      "cell_type": "code",
      "source": [
        "import time\n",
        "start_time = time.time()\n",
        "#main()"
      ],
      "metadata": {
        "id": "P_5iqIbHFMl2"
      },
      "execution_count": 1,
      "outputs": []
    },
    {
      "cell_type": "markdown",
      "source": [
        "Web Scripping pour AO3 based on following code :\n",
        "https://github.com/kenalba/ao3-scraper/blob/main/scraper.py"
      ],
      "metadata": {
        "id": "q6jA7M3M_Yp1"
      }
    },
    {
      "cell_type": "markdown",
      "source": [
        "So the first code is a detail list of how to append the data, it's quite long and not optimize.\n",
        "The idea here is if you just want to append some data (like only the date and the ID) you can shape it as you want."
      ],
      "metadata": {
        "id": "DaMdhSrBTwQ8"
      }
    },
    {
      "cell_type": "markdown",
      "source": [
        "\n",
        "\n",
        "---\n",
        "\n",
        "# What this code do ?\n",
        "\n",
        "With this code you can append the following information from AO3 and put it into a data frame from a certain page to another\n",
        "\n",
        "*  Story IDS of the work\n",
        "*  Updated date of the work\n",
        "*  Title and author of the work\n",
        "*  Language of the work\n",
        "*  Number of words in the work\n",
        "*  Number of chapter in the work\n",
        "*  Number of hits \n",
        "*  Requiered tags \n",
        "*  Additionnal tags\n",
        "\n",
        "At the end of the code, you can find some graph and histogram on time and published work.\n",
        "\n",
        "Then you'll have a section on how to find a tag in works if needed."
      ],
      "metadata": {
        "id": "1er_IHhgyxwX"
      }
    },
    {
      "cell_type": "markdown",
      "source": [
        "\n",
        "\n",
        "---\n",
        "# How to use the code ?\n",
        "\n",
        "**Step 1 : Set the parameters**\n",
        "\n",
        "You want to append the data from wich page to wich page and from wich fandom.\n",
        "\n",
        "If you want to append a lot of data use the **SAME interval** of page from one to another. It's for part 3.\n",
        "\n",
        "**Step 2 : Verify the library**\n",
        "\n",
        "Check if every package is download.\n",
        "\n",
        "**Step 3 : Run the code multiple time with different parameter**\n",
        "\n",
        "If you want to download multiple page of data work from AO3 *you can't do it in one time*.\n",
        "\n",
        "Once you've done this step you must have a bunch of file called *per example* \"base_page_0_to_31\",\"base_page_30_to_61\",...\"base_page_90_to_121\".\n",
        "\n",
        "Use the part 3 code to mash up every base and you got a unique database of all the work you wanted from AO3."
      ],
      "metadata": {
        "id": "9Sh3ZD8wyd8x"
      }
    },
    {
      "cell_type": "markdown",
      "source": [
        "\n",
        "\n",
        "---\n",
        "# ⚠ WARNING ⚠\n",
        "Two important thing to understand when you download **many files** of data :\n",
        "\n",
        "\n",
        "1.   **You can't append more than 70 pages in one time**\n",
        "\n",
        "  If you want to append a lot of data I suggest 50 page by 50 page. I mean if you want to try to append more that's your choice but the code is optimized to append 50 by 50 (or less).\n",
        "\n",
        "  Also, one page is 20 work, so each time you run the code you can append at max 1400 works.\n",
        "\n",
        "2.   **You need to have the SAME interval of page between files**\n",
        "\n",
        "  Per example, you want to append the work from a ertain fandom, you have 457 pages in total. I would suggest to append page 1 to 50 (base_page_0_to_51), then 50 to 100 (base_page_50_to_101), ... , then 400 to 450 (base_page_400_to_450 and finally page 450 to 456 (base_page_450_to_457).\n",
        "\n",
        "  For the last one you input 456 as Number_page but its append untill page 457 because my code is WEIRD.\n",
        "\n",
        "\n"
      ],
      "metadata": {
        "id": "VwT4S6J65FIn"
      }
    },
    {
      "cell_type": "markdown",
      "source": [
        "**Sumary :**\n",
        "\n",
        "I. Initialization \n",
        "  1. Library\n",
        "  2. Parameters\n",
        "  3. Download and Soupify\n",
        "  4. The directory_urls\n",
        "\n",
        "II. Data to append\n",
        "  1. Story IDS\n",
        "  2. Data updated\n",
        "  3. Title and author of the work\n",
        "  4. Language of the work\n",
        "  5. Number of Words\n",
        "  6. Number of Chapters\n",
        "  7. Number of hits\n",
        "  8. Requiered Tags\n",
        "  9. Additionnal Tags\n",
        "\n",
        "III. The Data Frame\n",
        "  1. Inside a Data Frame\n",
        "  2. Basic graph and histogram\n",
        "  3. Find tags in works\n",
        "  4. Download a DataFrame\n"
      ],
      "metadata": {
        "id": "NN15Gk8aUHx3"
      }
    },
    {
      "cell_type": "markdown",
      "source": [
        "# Initialization"
      ],
      "metadata": {
        "id": "jnKpu4l5Uu18"
      }
    },
    {
      "cell_type": "markdown",
      "source": [
        "**Library**"
      ],
      "metadata": {
        "id": "Y-Z58CnE_xY8"
      }
    },
    {
      "cell_type": "code",
      "source": [
        "from bs4 import BeautifulSoup\n",
        "import urllib.request\n",
        "import csv\n",
        "from time import sleep\n",
        "import pickle\n",
        "from os import path\n",
        "import pandas as pd\n",
        "import datetime\n",
        "import random\n",
        "import matplotlib.pyplot as plt\n",
        "from urllib.parse import urlparse\n",
        "from google.colab import files\n",
        "\n",
        "# for whatever reason, ao3_api imports as AO3. Don't look at me.\n",
        "# import AO3"
      ],
      "metadata": {
        "id": "mO-IOSFVAZ9i"
      },
      "execution_count": 2,
      "outputs": []
    },
    {
      "cell_type": "markdown",
      "source": [
        "**Parameters**"
      ],
      "metadata": {
        "id": "NNUd4fvM_tdU"
      }
    },
    {
      "cell_type": "markdown",
      "source": [
        "We ask you to pick an URL from a fandom, it must be on the following form : \n",
        "\"https://archiveofourown.org/tags/*fandom*/\"\n",
        "I don't know if a other tag work like a ship or a character name but I'm not sure.\n",
        "Also I tried with small fandom (less than 20 work) and it bug, it's because the scrab is used with multiple pages.\n",
        "\n",
        "We can't scrab everything, some fandom are too large so we ask you to pick a number of page for use (I need to fix this latter)\n",
        "\n",
        "Edit : So tags do work but without filters"
      ],
      "metadata": {
        "id": "WqvlHOCaAnFP"
      }
    },
    {
      "cell_type": "code",
      "execution_count": 3,
      "metadata": {
        "colab": {
          "base_uri": "https://localhost:8080/",
          "height": 54
        },
        "id": "jYvzW_9u_I_5",
        "outputId": "7638f5e8-d955-44e1-bdc7-946e21de6c14"
      },
      "outputs": [
        {
          "output_type": "execute_result",
          "data": {
            "text/plain": [
              "\"\\nChoose the URL from the fandom of you choice, must be like the same form as the example up there\\nYes I'm a stranger things fan\\nPlease don't judge\\n\""
            ],
            "application/vnd.google.colaboratory.intrinsic+json": {
              "type": "string"
            }
          },
          "metadata": {},
          "execution_count": 3
        }
      ],
      "source": [
        "TEST_URL = \"https://archiveofourown.org/tags/Stranger%20Things%20(TV%202016)/\"\n",
        "#TEST_URL = \"https://archiveofourown.org/tags/Argyle*s*Jonathan%20Byers/\"\n",
        "#TEST_URL = \"https://archiveofourown.org/tags/Will%20Byers%20Needs%20a%20Hug/\"\n",
        "\n",
        "\"\"\"\n",
        "Choose the URL from the fandom of you choice, must be like the same form as the example up there\n",
        "Yes I'm a stranger things fan\n",
        "Please don't judge\n",
        "\"\"\""
      ]
    },
    {
      "cell_type": "code",
      "source": [
        "Beginning_Page = 1\n",
        "\n",
        "\"\"\"\n",
        "Beginning_Page is like the name indicate, the beginning of the page you want to append the works\n",
        "By default it's one and ITS MUST BE UNDER Number_page\n",
        "Otherwise I would be sad\n",
        "\"\"\""
      ],
      "metadata": {
        "colab": {
          "base_uri": "https://localhost:8080/",
          "height": 54
        },
        "id": "zDA9O9x9JdZh",
        "outputId": "e6c98916-607b-4de7-8e70-a7d4391a0fac"
      },
      "execution_count": 4,
      "outputs": [
        {
          "output_type": "execute_result",
          "data": {
            "text/plain": [
              "\"\\nBeginning_Page is like the name indicate, the beginning of the page you want to append the works\\nBy default it's one and ITS MUST BE UNDER Number_page\\nOtherwise I would be sad\\n\""
            ],
            "application/vnd.google.colaboratory.intrinsic+json": {
              "type": "string"
            }
          },
          "metadata": {},
          "execution_count": 4
        }
      ]
    },
    {
      "cell_type": "code",
      "source": [
        "Number_page = 100\n",
        "Number_page = Number_page + 1\n",
        "\n",
        "\"\"\"\n",
        "With the function below we can't scrab everything, so we ask you a number of page to scrab\n",
        "Remember that one page is 20 works, so 5 page would be 100 works\n",
        "Please verify the total number of page from the fandom, Number_page must be below the maximum of page\n",
        "\n",
        "Also I'm adding a page because in python index starts at 0 so if you want 5 pages I'm just gonna add one more but it's still 5 pages\n",
        "\n",
        "EDIT : This is a stupid reasoning btw but I let that slide\n",
        "\"\"\""
      ],
      "metadata": {
        "colab": {
          "base_uri": "https://localhost:8080/",
          "height": 91
        },
        "id": "m-YEPJNJB-40",
        "outputId": "bd08e163-95b6-47ce-860a-9e1737c66466"
      },
      "execution_count": 5,
      "outputs": [
        {
          "output_type": "execute_result",
          "data": {
            "text/plain": [
              "\"\\nWith the function below we can't scrab everything, so we ask you a number of page to scrab\\nRemember that one page is 20 works, so 5 page would be 100 works\\nPlease verify the total number of page from the fandom, Number_page must be below the maximum of page\\n\\nAlso I'm adding a page because in python index starts at 0 so if you want 5 pages I'm just gonna add one more but it's still 5 pages\\n\\nEDIT : This is a stupid reasoning btw but I let that slide\\n\""
            ],
            "application/vnd.google.colaboratory.intrinsic+json": {
              "type": "string"
            }
          },
          "metadata": {},
          "execution_count": 5
        }
      ]
    },
    {
      "cell_type": "markdown",
      "source": [
        "**Download and Soupify**"
      ],
      "metadata": {
        "id": "SkCoayvkC9hv"
      }
    },
    {
      "cell_type": "markdown",
      "source": [
        "This function allow us to download the html page.\n",
        "You don't have anything to do here just run the code.\n",
        "Honeslty I don't get everything but it works so that's find (i guess)."
      ],
      "metadata": {
        "id": "-zEKhx6eDCqC"
      }
    },
    {
      "cell_type": "code",
      "source": [
        "def download_and_soupify(url, parser=\"html.parser\"):\n",
        "\t\"\"\"\n",
        "\tGiven a URL, downloads the site and turns it into beautiful soup.\n",
        "\t\"\"\"\n",
        "\n",
        "\tfull_url = url + \"works\"\n",
        "\tresponse = urllib.request.urlopen(full_url)\n",
        "\tdirectory_html = response.read()\n",
        "\tindex_soup = BeautifulSoup(directory_html, parser)\n",
        "\n",
        "\treturn index_soup"
      ],
      "metadata": {
        "id": "ZE9RiNQBGS-U"
      },
      "execution_count": 6,
      "outputs": []
    },
    {
      "cell_type": "code",
      "source": [
        "index_soup = download_and_soupify(TEST_URL)\n",
        "\n",
        "\"\"\"\n",
        "We putting the soup inside of an object to use it later (to get the directory_urls)\n",
        "\"\"\""
      ],
      "metadata": {
        "colab": {
          "base_uri": "https://localhost:8080/",
          "height": 36
        },
        "id": "2wub9509EF2r",
        "outputId": "d946a45e-3321-4d19-ec09-d9b94cd86ea8"
      },
      "execution_count": 7,
      "outputs": [
        {
          "output_type": "execute_result",
          "data": {
            "text/plain": [
              "'\\nWe putting the soup inside of an object to use it later (to get the directory_urls)\\n'"
            ],
            "application/vnd.google.colaboratory.intrinsic+json": {
              "type": "string"
            }
          },
          "metadata": {},
          "execution_count": 7
        }
      ]
    },
    {
      "cell_type": "markdown",
      "source": [
        "**The directory_urls**"
      ],
      "metadata": {
        "id": "AgF_urqBEkw3"
      }
    },
    {
      "cell_type": "markdown",
      "source": [
        "We're getting every url from every page, so a url for a page.\n",
        "We are keeping every page because I'm too lazy to change the code and I still hope to find a way to scrap everything with one code, but the choose of number of page come later.\n",
        "Yeah and sorry english isn't my first language, but it's not like in AO3 that means I really suck.\n",
        "\n",
        "EDIT : I didn't find a way to scrap everything it's the same error each time \"too many request\" sorry\n",
        "\n",
        "EDIT 2 : See for part 3 if you want to scrap every page"
      ],
      "metadata": {
        "id": "v-Yu82AGEqSm"
      }
    },
    {
      "cell_type": "code",
      "source": [
        "def get_directory_urls(url, index_soup):\n",
        "\t\"\"\"\n",
        "\tGiven the base directory as soup, figure out how many pages there are,\n",
        "\tand return a list of the URLs of each directory page.\n",
        "\t\"\"\"\n",
        "\n",
        "\tpage_numbers = index_soup.find_all(\"ol\", class_=\"pagination actions\")\n",
        "\n",
        "\tli_entries = page_numbers[0].find_all(\"li\")\n",
        "\n",
        "\tli_texts = [number.text for number in li_entries]\n",
        "\tli_digits = [int(number) for number in li_texts if number.isdigit()]\n",
        "\tsorted_page_numbers = sorted(li_digits)\n",
        "\n",
        "\tnumber_of_pages = sorted_page_numbers[-1]\n",
        "\n",
        "\turl_prefix = url + \"works?page=\"\n",
        "\tdirectory_urls = [(url_prefix + str(page_number)) for page_number in range(0, number_of_pages+1)]\n",
        "\n",
        "\treturn directory_urls"
      ],
      "metadata": {
        "id": "JEXck9AaEhZs"
      },
      "execution_count": 8,
      "outputs": []
    },
    {
      "cell_type": "code",
      "source": [
        "directory_urls = get_directory_urls(TEST_URL,index_soup)\n",
        "print(directory_urls)\n",
        "print(len(directory_urls))\n",
        "\n",
        "\"\"\"\n",
        "So we putting the directory urls inside of an object to use it later.\n",
        "We can see the lenght of directory_urls is actually the number of page the fandom contains.\n",
        "Please verify is len(directory_urls) = of the number of page from the fandom you're scrapping.\n",
        "\"\"\""
      ],
      "metadata": {
        "colab": {
          "base_uri": "https://localhost:8080/",
          "height": 111
        },
        "id": "BukBK03vFbWP",
        "outputId": "1f7cc9ec-054a-45fc-b01a-7ff8fb4cfc44"
      },
      "execution_count": 9,
      "outputs": [
        {
          "output_type": "stream",
          "name": "stdout",
          "text": [
            "['https://archiveofourown.org/tags/Stranger%20Things%20(TV%202016)/works?page=0', 'https://archiveofourown.org/tags/Stranger%20Things%20(TV%202016)/works?page=1', 'https://archiveofourown.org/tags/Stranger%20Things%20(TV%202016)/works?page=2', 'https://archiveofourown.org/tags/Stranger%20Things%20(TV%202016)/works?page=3', 'https://archiveofourown.org/tags/Stranger%20Things%20(TV%202016)/works?page=4', 'https://archiveofourown.org/tags/Stranger%20Things%20(TV%202016)/works?page=5', 'https://archiveofourown.org/tags/Stranger%20Things%20(TV%202016)/works?page=6', 'https://archiveofourown.org/tags/Stranger%20Things%20(TV%202016)/works?page=7', 'https://archiveofourown.org/tags/Stranger%20Things%20(TV%202016)/works?page=8', 'https://archiveofourown.org/tags/Stranger%20Things%20(TV%202016)/works?page=9', 'https://archiveofourown.org/tags/Stranger%20Things%20(TV%202016)/works?page=10', 'https://archiveofourown.org/tags/Stranger%20Things%20(TV%202016)/works?page=11', 'https://archiveofourown.org/tags/Stranger%20Things%20(TV%202016)/works?page=12', 'https://archiveofourown.org/tags/Stranger%20Things%20(TV%202016)/works?page=13', 'https://archiveofourown.org/tags/Stranger%20Things%20(TV%202016)/works?page=14', 'https://archiveofourown.org/tags/Stranger%20Things%20(TV%202016)/works?page=15', 'https://archiveofourown.org/tags/Stranger%20Things%20(TV%202016)/works?page=16', 'https://archiveofourown.org/tags/Stranger%20Things%20(TV%202016)/works?page=17', 'https://archiveofourown.org/tags/Stranger%20Things%20(TV%202016)/works?page=18', 'https://archiveofourown.org/tags/Stranger%20Things%20(TV%202016)/works?page=19', 'https://archiveofourown.org/tags/Stranger%20Things%20(TV%202016)/works?page=20', 'https://archiveofourown.org/tags/Stranger%20Things%20(TV%202016)/works?page=21', 'https://archiveofourown.org/tags/Stranger%20Things%20(TV%202016)/works?page=22', 'https://archiveofourown.org/tags/Stranger%20Things%20(TV%202016)/works?page=23', 'https://archiveofourown.org/tags/Stranger%20Things%20(TV%202016)/works?page=24', 'https://archiveofourown.org/tags/Stranger%20Things%20(TV%202016)/works?page=25', 'https://archiveofourown.org/tags/Stranger%20Things%20(TV%202016)/works?page=26', 'https://archiveofourown.org/tags/Stranger%20Things%20(TV%202016)/works?page=27', 'https://archiveofourown.org/tags/Stranger%20Things%20(TV%202016)/works?page=28', 'https://archiveofourown.org/tags/Stranger%20Things%20(TV%202016)/works?page=29', 'https://archiveofourown.org/tags/Stranger%20Things%20(TV%202016)/works?page=30', 'https://archiveofourown.org/tags/Stranger%20Things%20(TV%202016)/works?page=31', 'https://archiveofourown.org/tags/Stranger%20Things%20(TV%202016)/works?page=32', 'https://archiveofourown.org/tags/Stranger%20Things%20(TV%202016)/works?page=33', 'https://archiveofourown.org/tags/Stranger%20Things%20(TV%202016)/works?page=34', 'https://archiveofourown.org/tags/Stranger%20Things%20(TV%202016)/works?page=35', 'https://archiveofourown.org/tags/Stranger%20Things%20(TV%202016)/works?page=36', 'https://archiveofourown.org/tags/Stranger%20Things%20(TV%202016)/works?page=37', 'https://archiveofourown.org/tags/Stranger%20Things%20(TV%202016)/works?page=38', 'https://archiveofourown.org/tags/Stranger%20Things%20(TV%202016)/works?page=39', 'https://archiveofourown.org/tags/Stranger%20Things%20(TV%202016)/works?page=40', 'https://archiveofourown.org/tags/Stranger%20Things%20(TV%202016)/works?page=41', 'https://archiveofourown.org/tags/Stranger%20Things%20(TV%202016)/works?page=42', 'https://archiveofourown.org/tags/Stranger%20Things%20(TV%202016)/works?page=43', 'https://archiveofourown.org/tags/Stranger%20Things%20(TV%202016)/works?page=44', 'https://archiveofourown.org/tags/Stranger%20Things%20(TV%202016)/works?page=45', 'https://archiveofourown.org/tags/Stranger%20Things%20(TV%202016)/works?page=46', 'https://archiveofourown.org/tags/Stranger%20Things%20(TV%202016)/works?page=47', 'https://archiveofourown.org/tags/Stranger%20Things%20(TV%202016)/works?page=48', 'https://archiveofourown.org/tags/Stranger%20Things%20(TV%202016)/works?page=49', 'https://archiveofourown.org/tags/Stranger%20Things%20(TV%202016)/works?page=50', 'https://archiveofourown.org/tags/Stranger%20Things%20(TV%202016)/works?page=51', 'https://archiveofourown.org/tags/Stranger%20Things%20(TV%202016)/works?page=52', 'https://archiveofourown.org/tags/Stranger%20Things%20(TV%202016)/works?page=53', 'https://archiveofourown.org/tags/Stranger%20Things%20(TV%202016)/works?page=54', 'https://archiveofourown.org/tags/Stranger%20Things%20(TV%202016)/works?page=55', 'https://archiveofourown.org/tags/Stranger%20Things%20(TV%202016)/works?page=56', 'https://archiveofourown.org/tags/Stranger%20Things%20(TV%202016)/works?page=57', 'https://archiveofourown.org/tags/Stranger%20Things%20(TV%202016)/works?page=58', 'https://archiveofourown.org/tags/Stranger%20Things%20(TV%202016)/works?page=59', 'https://archiveofourown.org/tags/Stranger%20Things%20(TV%202016)/works?page=60', 'https://archiveofourown.org/tags/Stranger%20Things%20(TV%202016)/works?page=61', 'https://archiveofourown.org/tags/Stranger%20Things%20(TV%202016)/works?page=62', 'https://archiveofourown.org/tags/Stranger%20Things%20(TV%202016)/works?page=63', 'https://archiveofourown.org/tags/Stranger%20Things%20(TV%202016)/works?page=64', 'https://archiveofourown.org/tags/Stranger%20Things%20(TV%202016)/works?page=65', 'https://archiveofourown.org/tags/Stranger%20Things%20(TV%202016)/works?page=66', 'https://archiveofourown.org/tags/Stranger%20Things%20(TV%202016)/works?page=67', 'https://archiveofourown.org/tags/Stranger%20Things%20(TV%202016)/works?page=68', 'https://archiveofourown.org/tags/Stranger%20Things%20(TV%202016)/works?page=69', 'https://archiveofourown.org/tags/Stranger%20Things%20(TV%202016)/works?page=70', 'https://archiveofourown.org/tags/Stranger%20Things%20(TV%202016)/works?page=71', 'https://archiveofourown.org/tags/Stranger%20Things%20(TV%202016)/works?page=72', 'https://archiveofourown.org/tags/Stranger%20Things%20(TV%202016)/works?page=73', 'https://archiveofourown.org/tags/Stranger%20Things%20(TV%202016)/works?page=74', 'https://archiveofourown.org/tags/Stranger%20Things%20(TV%202016)/works?page=75', 'https://archiveofourown.org/tags/Stranger%20Things%20(TV%202016)/works?page=76', 'https://archiveofourown.org/tags/Stranger%20Things%20(TV%202016)/works?page=77', 'https://archiveofourown.org/tags/Stranger%20Things%20(TV%202016)/works?page=78', 'https://archiveofourown.org/tags/Stranger%20Things%20(TV%202016)/works?page=79', 'https://archiveofourown.org/tags/Stranger%20Things%20(TV%202016)/works?page=80', 'https://archiveofourown.org/tags/Stranger%20Things%20(TV%202016)/works?page=81', 'https://archiveofourown.org/tags/Stranger%20Things%20(TV%202016)/works?page=82', 'https://archiveofourown.org/tags/Stranger%20Things%20(TV%202016)/works?page=83', 'https://archiveofourown.org/tags/Stranger%20Things%20(TV%202016)/works?page=84', 'https://archiveofourown.org/tags/Stranger%20Things%20(TV%202016)/works?page=85', 'https://archiveofourown.org/tags/Stranger%20Things%20(TV%202016)/works?page=86', 'https://archiveofourown.org/tags/Stranger%20Things%20(TV%202016)/works?page=87', 'https://archiveofourown.org/tags/Stranger%20Things%20(TV%202016)/works?page=88', 'https://archiveofourown.org/tags/Stranger%20Things%20(TV%202016)/works?page=89', 'https://archiveofourown.org/tags/Stranger%20Things%20(TV%202016)/works?page=90', 'https://archiveofourown.org/tags/Stranger%20Things%20(TV%202016)/works?page=91', 'https://archiveofourown.org/tags/Stranger%20Things%20(TV%202016)/works?page=92', 'https://archiveofourown.org/tags/Stranger%20Things%20(TV%202016)/works?page=93', 'https://archiveofourown.org/tags/Stranger%20Things%20(TV%202016)/works?page=94', 'https://archiveofourown.org/tags/Stranger%20Things%20(TV%202016)/works?page=95', 'https://archiveofourown.org/tags/Stranger%20Things%20(TV%202016)/works?page=96', 'https://archiveofourown.org/tags/Stranger%20Things%20(TV%202016)/works?page=97', 'https://archiveofourown.org/tags/Stranger%20Things%20(TV%202016)/works?page=98', 'https://archiveofourown.org/tags/Stranger%20Things%20(TV%202016)/works?page=99', 'https://archiveofourown.org/tags/Stranger%20Things%20(TV%202016)/works?page=100', 'https://archiveofourown.org/tags/Stranger%20Things%20(TV%202016)/works?page=101', 'https://archiveofourown.org/tags/Stranger%20Things%20(TV%202016)/works?page=102', 'https://archiveofourown.org/tags/Stranger%20Things%20(TV%202016)/works?page=103', 'https://archiveofourown.org/tags/Stranger%20Things%20(TV%202016)/works?page=104', 'https://archiveofourown.org/tags/Stranger%20Things%20(TV%202016)/works?page=105', 'https://archiveofourown.org/tags/Stranger%20Things%20(TV%202016)/works?page=106', 'https://archiveofourown.org/tags/Stranger%20Things%20(TV%202016)/works?page=107', 'https://archiveofourown.org/tags/Stranger%20Things%20(TV%202016)/works?page=108', 'https://archiveofourown.org/tags/Stranger%20Things%20(TV%202016)/works?page=109', 'https://archiveofourown.org/tags/Stranger%20Things%20(TV%202016)/works?page=110', 'https://archiveofourown.org/tags/Stranger%20Things%20(TV%202016)/works?page=111', 'https://archiveofourown.org/tags/Stranger%20Things%20(TV%202016)/works?page=112', 'https://archiveofourown.org/tags/Stranger%20Things%20(TV%202016)/works?page=113', 'https://archiveofourown.org/tags/Stranger%20Things%20(TV%202016)/works?page=114', 'https://archiveofourown.org/tags/Stranger%20Things%20(TV%202016)/works?page=115', 'https://archiveofourown.org/tags/Stranger%20Things%20(TV%202016)/works?page=116', 'https://archiveofourown.org/tags/Stranger%20Things%20(TV%202016)/works?page=117', 'https://archiveofourown.org/tags/Stranger%20Things%20(TV%202016)/works?page=118', 'https://archiveofourown.org/tags/Stranger%20Things%20(TV%202016)/works?page=119', 'https://archiveofourown.org/tags/Stranger%20Things%20(TV%202016)/works?page=120', 'https://archiveofourown.org/tags/Stranger%20Things%20(TV%202016)/works?page=121', 'https://archiveofourown.org/tags/Stranger%20Things%20(TV%202016)/works?page=122', 'https://archiveofourown.org/tags/Stranger%20Things%20(TV%202016)/works?page=123', 'https://archiveofourown.org/tags/Stranger%20Things%20(TV%202016)/works?page=124', 'https://archiveofourown.org/tags/Stranger%20Things%20(TV%202016)/works?page=125', 'https://archiveofourown.org/tags/Stranger%20Things%20(TV%202016)/works?page=126', 'https://archiveofourown.org/tags/Stranger%20Things%20(TV%202016)/works?page=127', 'https://archiveofourown.org/tags/Stranger%20Things%20(TV%202016)/works?page=128', 'https://archiveofourown.org/tags/Stranger%20Things%20(TV%202016)/works?page=129', 'https://archiveofourown.org/tags/Stranger%20Things%20(TV%202016)/works?page=130', 'https://archiveofourown.org/tags/Stranger%20Things%20(TV%202016)/works?page=131', 'https://archiveofourown.org/tags/Stranger%20Things%20(TV%202016)/works?page=132', 'https://archiveofourown.org/tags/Stranger%20Things%20(TV%202016)/works?page=133', 'https://archiveofourown.org/tags/Stranger%20Things%20(TV%202016)/works?page=134', 'https://archiveofourown.org/tags/Stranger%20Things%20(TV%202016)/works?page=135', 'https://archiveofourown.org/tags/Stranger%20Things%20(TV%202016)/works?page=136', 'https://archiveofourown.org/tags/Stranger%20Things%20(TV%202016)/works?page=137', 'https://archiveofourown.org/tags/Stranger%20Things%20(TV%202016)/works?page=138', 'https://archiveofourown.org/tags/Stranger%20Things%20(TV%202016)/works?page=139', 'https://archiveofourown.org/tags/Stranger%20Things%20(TV%202016)/works?page=140', 'https://archiveofourown.org/tags/Stranger%20Things%20(TV%202016)/works?page=141', 'https://archiveofourown.org/tags/Stranger%20Things%20(TV%202016)/works?page=142', 'https://archiveofourown.org/tags/Stranger%20Things%20(TV%202016)/works?page=143', 'https://archiveofourown.org/tags/Stranger%20Things%20(TV%202016)/works?page=144', 'https://archiveofourown.org/tags/Stranger%20Things%20(TV%202016)/works?page=145', 'https://archiveofourown.org/tags/Stranger%20Things%20(TV%202016)/works?page=146', 'https://archiveofourown.org/tags/Stranger%20Things%20(TV%202016)/works?page=147', 'https://archiveofourown.org/tags/Stranger%20Things%20(TV%202016)/works?page=148', 'https://archiveofourown.org/tags/Stranger%20Things%20(TV%202016)/works?page=149', 'https://archiveofourown.org/tags/Stranger%20Things%20(TV%202016)/works?page=150', 'https://archiveofourown.org/tags/Stranger%20Things%20(TV%202016)/works?page=151', 'https://archiveofourown.org/tags/Stranger%20Things%20(TV%202016)/works?page=152', 'https://archiveofourown.org/tags/Stranger%20Things%20(TV%202016)/works?page=153', 'https://archiveofourown.org/tags/Stranger%20Things%20(TV%202016)/works?page=154', 'https://archiveofourown.org/tags/Stranger%20Things%20(TV%202016)/works?page=155', 'https://archiveofourown.org/tags/Stranger%20Things%20(TV%202016)/works?page=156', 'https://archiveofourown.org/tags/Stranger%20Things%20(TV%202016)/works?page=157', 'https://archiveofourown.org/tags/Stranger%20Things%20(TV%202016)/works?page=158', 'https://archiveofourown.org/tags/Stranger%20Things%20(TV%202016)/works?page=159', 'https://archiveofourown.org/tags/Stranger%20Things%20(TV%202016)/works?page=160', 'https://archiveofourown.org/tags/Stranger%20Things%20(TV%202016)/works?page=161', 'https://archiveofourown.org/tags/Stranger%20Things%20(TV%202016)/works?page=162', 'https://archiveofourown.org/tags/Stranger%20Things%20(TV%202016)/works?page=163', 'https://archiveofourown.org/tags/Stranger%20Things%20(TV%202016)/works?page=164', 'https://archiveofourown.org/tags/Stranger%20Things%20(TV%202016)/works?page=165', 'https://archiveofourown.org/tags/Stranger%20Things%20(TV%202016)/works?page=166', 'https://archiveofourown.org/tags/Stranger%20Things%20(TV%202016)/works?page=167', 'https://archiveofourown.org/tags/Stranger%20Things%20(TV%202016)/works?page=168', 'https://archiveofourown.org/tags/Stranger%20Things%20(TV%202016)/works?page=169', 'https://archiveofourown.org/tags/Stranger%20Things%20(TV%202016)/works?page=170', 'https://archiveofourown.org/tags/Stranger%20Things%20(TV%202016)/works?page=171', 'https://archiveofourown.org/tags/Stranger%20Things%20(TV%202016)/works?page=172', 'https://archiveofourown.org/tags/Stranger%20Things%20(TV%202016)/works?page=173', 'https://archiveofourown.org/tags/Stranger%20Things%20(TV%202016)/works?page=174', 'https://archiveofourown.org/tags/Stranger%20Things%20(TV%202016)/works?page=175', 'https://archiveofourown.org/tags/Stranger%20Things%20(TV%202016)/works?page=176', 'https://archiveofourown.org/tags/Stranger%20Things%20(TV%202016)/works?page=177', 'https://archiveofourown.org/tags/Stranger%20Things%20(TV%202016)/works?page=178', 'https://archiveofourown.org/tags/Stranger%20Things%20(TV%202016)/works?page=179', 'https://archiveofourown.org/tags/Stranger%20Things%20(TV%202016)/works?page=180', 'https://archiveofourown.org/tags/Stranger%20Things%20(TV%202016)/works?page=181', 'https://archiveofourown.org/tags/Stranger%20Things%20(TV%202016)/works?page=182', 'https://archiveofourown.org/tags/Stranger%20Things%20(TV%202016)/works?page=183', 'https://archiveofourown.org/tags/Stranger%20Things%20(TV%202016)/works?page=184', 'https://archiveofourown.org/tags/Stranger%20Things%20(TV%202016)/works?page=185', 'https://archiveofourown.org/tags/Stranger%20Things%20(TV%202016)/works?page=186', 'https://archiveofourown.org/tags/Stranger%20Things%20(TV%202016)/works?page=187', 'https://archiveofourown.org/tags/Stranger%20Things%20(TV%202016)/works?page=188', 'https://archiveofourown.org/tags/Stranger%20Things%20(TV%202016)/works?page=189', 'https://archiveofourown.org/tags/Stranger%20Things%20(TV%202016)/works?page=190', 'https://archiveofourown.org/tags/Stranger%20Things%20(TV%202016)/works?page=191', 'https://archiveofourown.org/tags/Stranger%20Things%20(TV%202016)/works?page=192', 'https://archiveofourown.org/tags/Stranger%20Things%20(TV%202016)/works?page=193', 'https://archiveofourown.org/tags/Stranger%20Things%20(TV%202016)/works?page=194', 'https://archiveofourown.org/tags/Stranger%20Things%20(TV%202016)/works?page=195', 'https://archiveofourown.org/tags/Stranger%20Things%20(TV%202016)/works?page=196', 'https://archiveofourown.org/tags/Stranger%20Things%20(TV%202016)/works?page=197', 'https://archiveofourown.org/tags/Stranger%20Things%20(TV%202016)/works?page=198', 'https://archiveofourown.org/tags/Stranger%20Things%20(TV%202016)/works?page=199', 'https://archiveofourown.org/tags/Stranger%20Things%20(TV%202016)/works?page=200', 'https://archiveofourown.org/tags/Stranger%20Things%20(TV%202016)/works?page=201', 'https://archiveofourown.org/tags/Stranger%20Things%20(TV%202016)/works?page=202', 'https://archiveofourown.org/tags/Stranger%20Things%20(TV%202016)/works?page=203', 'https://archiveofourown.org/tags/Stranger%20Things%20(TV%202016)/works?page=204', 'https://archiveofourown.org/tags/Stranger%20Things%20(TV%202016)/works?page=205', 'https://archiveofourown.org/tags/Stranger%20Things%20(TV%202016)/works?page=206', 'https://archiveofourown.org/tags/Stranger%20Things%20(TV%202016)/works?page=207', 'https://archiveofourown.org/tags/Stranger%20Things%20(TV%202016)/works?page=208', 'https://archiveofourown.org/tags/Stranger%20Things%20(TV%202016)/works?page=209', 'https://archiveofourown.org/tags/Stranger%20Things%20(TV%202016)/works?page=210', 'https://archiveofourown.org/tags/Stranger%20Things%20(TV%202016)/works?page=211', 'https://archiveofourown.org/tags/Stranger%20Things%20(TV%202016)/works?page=212', 'https://archiveofourown.org/tags/Stranger%20Things%20(TV%202016)/works?page=213', 'https://archiveofourown.org/tags/Stranger%20Things%20(TV%202016)/works?page=214', 'https://archiveofourown.org/tags/Stranger%20Things%20(TV%202016)/works?page=215', 'https://archiveofourown.org/tags/Stranger%20Things%20(TV%202016)/works?page=216', 'https://archiveofourown.org/tags/Stranger%20Things%20(TV%202016)/works?page=217', 'https://archiveofourown.org/tags/Stranger%20Things%20(TV%202016)/works?page=218', 'https://archiveofourown.org/tags/Stranger%20Things%20(TV%202016)/works?page=219', 'https://archiveofourown.org/tags/Stranger%20Things%20(TV%202016)/works?page=220', 'https://archiveofourown.org/tags/Stranger%20Things%20(TV%202016)/works?page=221', 'https://archiveofourown.org/tags/Stranger%20Things%20(TV%202016)/works?page=222', 'https://archiveofourown.org/tags/Stranger%20Things%20(TV%202016)/works?page=223', 'https://archiveofourown.org/tags/Stranger%20Things%20(TV%202016)/works?page=224', 'https://archiveofourown.org/tags/Stranger%20Things%20(TV%202016)/works?page=225', 'https://archiveofourown.org/tags/Stranger%20Things%20(TV%202016)/works?page=226', 'https://archiveofourown.org/tags/Stranger%20Things%20(TV%202016)/works?page=227', 'https://archiveofourown.org/tags/Stranger%20Things%20(TV%202016)/works?page=228', 'https://archiveofourown.org/tags/Stranger%20Things%20(TV%202016)/works?page=229', 'https://archiveofourown.org/tags/Stranger%20Things%20(TV%202016)/works?page=230', 'https://archiveofourown.org/tags/Stranger%20Things%20(TV%202016)/works?page=231', 'https://archiveofourown.org/tags/Stranger%20Things%20(TV%202016)/works?page=232', 'https://archiveofourown.org/tags/Stranger%20Things%20(TV%202016)/works?page=233', 'https://archiveofourown.org/tags/Stranger%20Things%20(TV%202016)/works?page=234', 'https://archiveofourown.org/tags/Stranger%20Things%20(TV%202016)/works?page=235', 'https://archiveofourown.org/tags/Stranger%20Things%20(TV%202016)/works?page=236', 'https://archiveofourown.org/tags/Stranger%20Things%20(TV%202016)/works?page=237', 'https://archiveofourown.org/tags/Stranger%20Things%20(TV%202016)/works?page=238', 'https://archiveofourown.org/tags/Stranger%20Things%20(TV%202016)/works?page=239', 'https://archiveofourown.org/tags/Stranger%20Things%20(TV%202016)/works?page=240', 'https://archiveofourown.org/tags/Stranger%20Things%20(TV%202016)/works?page=241', 'https://archiveofourown.org/tags/Stranger%20Things%20(TV%202016)/works?page=242', 'https://archiveofourown.org/tags/Stranger%20Things%20(TV%202016)/works?page=243', 'https://archiveofourown.org/tags/Stranger%20Things%20(TV%202016)/works?page=244', 'https://archiveofourown.org/tags/Stranger%20Things%20(TV%202016)/works?page=245', 'https://archiveofourown.org/tags/Stranger%20Things%20(TV%202016)/works?page=246', 'https://archiveofourown.org/tags/Stranger%20Things%20(TV%202016)/works?page=247', 'https://archiveofourown.org/tags/Stranger%20Things%20(TV%202016)/works?page=248', 'https://archiveofourown.org/tags/Stranger%20Things%20(TV%202016)/works?page=249', 'https://archiveofourown.org/tags/Stranger%20Things%20(TV%202016)/works?page=250', 'https://archiveofourown.org/tags/Stranger%20Things%20(TV%202016)/works?page=251', 'https://archiveofourown.org/tags/Stranger%20Things%20(TV%202016)/works?page=252', 'https://archiveofourown.org/tags/Stranger%20Things%20(TV%202016)/works?page=253', 'https://archiveofourown.org/tags/Stranger%20Things%20(TV%202016)/works?page=254', 'https://archiveofourown.org/tags/Stranger%20Things%20(TV%202016)/works?page=255', 'https://archiveofourown.org/tags/Stranger%20Things%20(TV%202016)/works?page=256', 'https://archiveofourown.org/tags/Stranger%20Things%20(TV%202016)/works?page=257', 'https://archiveofourown.org/tags/Stranger%20Things%20(TV%202016)/works?page=258', 'https://archiveofourown.org/tags/Stranger%20Things%20(TV%202016)/works?page=259', 'https://archiveofourown.org/tags/Stranger%20Things%20(TV%202016)/works?page=260', 'https://archiveofourown.org/tags/Stranger%20Things%20(TV%202016)/works?page=261', 'https://archiveofourown.org/tags/Stranger%20Things%20(TV%202016)/works?page=262', 'https://archiveofourown.org/tags/Stranger%20Things%20(TV%202016)/works?page=263', 'https://archiveofourown.org/tags/Stranger%20Things%20(TV%202016)/works?page=264', 'https://archiveofourown.org/tags/Stranger%20Things%20(TV%202016)/works?page=265', 'https://archiveofourown.org/tags/Stranger%20Things%20(TV%202016)/works?page=266', 'https://archiveofourown.org/tags/Stranger%20Things%20(TV%202016)/works?page=267', 'https://archiveofourown.org/tags/Stranger%20Things%20(TV%202016)/works?page=268', 'https://archiveofourown.org/tags/Stranger%20Things%20(TV%202016)/works?page=269', 'https://archiveofourown.org/tags/Stranger%20Things%20(TV%202016)/works?page=270', 'https://archiveofourown.org/tags/Stranger%20Things%20(TV%202016)/works?page=271', 'https://archiveofourown.org/tags/Stranger%20Things%20(TV%202016)/works?page=272', 'https://archiveofourown.org/tags/Stranger%20Things%20(TV%202016)/works?page=273', 'https://archiveofourown.org/tags/Stranger%20Things%20(TV%202016)/works?page=274', 'https://archiveofourown.org/tags/Stranger%20Things%20(TV%202016)/works?page=275', 'https://archiveofourown.org/tags/Stranger%20Things%20(TV%202016)/works?page=276', 'https://archiveofourown.org/tags/Stranger%20Things%20(TV%202016)/works?page=277', 'https://archiveofourown.org/tags/Stranger%20Things%20(TV%202016)/works?page=278', 'https://archiveofourown.org/tags/Stranger%20Things%20(TV%202016)/works?page=279', 'https://archiveofourown.org/tags/Stranger%20Things%20(TV%202016)/works?page=280', 'https://archiveofourown.org/tags/Stranger%20Things%20(TV%202016)/works?page=281', 'https://archiveofourown.org/tags/Stranger%20Things%20(TV%202016)/works?page=282', 'https://archiveofourown.org/tags/Stranger%20Things%20(TV%202016)/works?page=283', 'https://archiveofourown.org/tags/Stranger%20Things%20(TV%202016)/works?page=284', 'https://archiveofourown.org/tags/Stranger%20Things%20(TV%202016)/works?page=285', 'https://archiveofourown.org/tags/Stranger%20Things%20(TV%202016)/works?page=286', 'https://archiveofourown.org/tags/Stranger%20Things%20(TV%202016)/works?page=287', 'https://archiveofourown.org/tags/Stranger%20Things%20(TV%202016)/works?page=288', 'https://archiveofourown.org/tags/Stranger%20Things%20(TV%202016)/works?page=289', 'https://archiveofourown.org/tags/Stranger%20Things%20(TV%202016)/works?page=290', 'https://archiveofourown.org/tags/Stranger%20Things%20(TV%202016)/works?page=291', 'https://archiveofourown.org/tags/Stranger%20Things%20(TV%202016)/works?page=292', 'https://archiveofourown.org/tags/Stranger%20Things%20(TV%202016)/works?page=293', 'https://archiveofourown.org/tags/Stranger%20Things%20(TV%202016)/works?page=294', 'https://archiveofourown.org/tags/Stranger%20Things%20(TV%202016)/works?page=295', 'https://archiveofourown.org/tags/Stranger%20Things%20(TV%202016)/works?page=296', 'https://archiveofourown.org/tags/Stranger%20Things%20(TV%202016)/works?page=297', 'https://archiveofourown.org/tags/Stranger%20Things%20(TV%202016)/works?page=298', 'https://archiveofourown.org/tags/Stranger%20Things%20(TV%202016)/works?page=299', 'https://archiveofourown.org/tags/Stranger%20Things%20(TV%202016)/works?page=300', 'https://archiveofourown.org/tags/Stranger%20Things%20(TV%202016)/works?page=301', 'https://archiveofourown.org/tags/Stranger%20Things%20(TV%202016)/works?page=302', 'https://archiveofourown.org/tags/Stranger%20Things%20(TV%202016)/works?page=303', 'https://archiveofourown.org/tags/Stranger%20Things%20(TV%202016)/works?page=304', 'https://archiveofourown.org/tags/Stranger%20Things%20(TV%202016)/works?page=305', 'https://archiveofourown.org/tags/Stranger%20Things%20(TV%202016)/works?page=306', 'https://archiveofourown.org/tags/Stranger%20Things%20(TV%202016)/works?page=307', 'https://archiveofourown.org/tags/Stranger%20Things%20(TV%202016)/works?page=308', 'https://archiveofourown.org/tags/Stranger%20Things%20(TV%202016)/works?page=309', 'https://archiveofourown.org/tags/Stranger%20Things%20(TV%202016)/works?page=310', 'https://archiveofourown.org/tags/Stranger%20Things%20(TV%202016)/works?page=311', 'https://archiveofourown.org/tags/Stranger%20Things%20(TV%202016)/works?page=312', 'https://archiveofourown.org/tags/Stranger%20Things%20(TV%202016)/works?page=313', 'https://archiveofourown.org/tags/Stranger%20Things%20(TV%202016)/works?page=314', 'https://archiveofourown.org/tags/Stranger%20Things%20(TV%202016)/works?page=315', 'https://archiveofourown.org/tags/Stranger%20Things%20(TV%202016)/works?page=316', 'https://archiveofourown.org/tags/Stranger%20Things%20(TV%202016)/works?page=317', 'https://archiveofourown.org/tags/Stranger%20Things%20(TV%202016)/works?page=318', 'https://archiveofourown.org/tags/Stranger%20Things%20(TV%202016)/works?page=319', 'https://archiveofourown.org/tags/Stranger%20Things%20(TV%202016)/works?page=320', 'https://archiveofourown.org/tags/Stranger%20Things%20(TV%202016)/works?page=321', 'https://archiveofourown.org/tags/Stranger%20Things%20(TV%202016)/works?page=322', 'https://archiveofourown.org/tags/Stranger%20Things%20(TV%202016)/works?page=323', 'https://archiveofourown.org/tags/Stranger%20Things%20(TV%202016)/works?page=324', 'https://archiveofourown.org/tags/Stranger%20Things%20(TV%202016)/works?page=325', 'https://archiveofourown.org/tags/Stranger%20Things%20(TV%202016)/works?page=326', 'https://archiveofourown.org/tags/Stranger%20Things%20(TV%202016)/works?page=327', 'https://archiveofourown.org/tags/Stranger%20Things%20(TV%202016)/works?page=328', 'https://archiveofourown.org/tags/Stranger%20Things%20(TV%202016)/works?page=329', 'https://archiveofourown.org/tags/Stranger%20Things%20(TV%202016)/works?page=330', 'https://archiveofourown.org/tags/Stranger%20Things%20(TV%202016)/works?page=331', 'https://archiveofourown.org/tags/Stranger%20Things%20(TV%202016)/works?page=332', 'https://archiveofourown.org/tags/Stranger%20Things%20(TV%202016)/works?page=333', 'https://archiveofourown.org/tags/Stranger%20Things%20(TV%202016)/works?page=334', 'https://archiveofourown.org/tags/Stranger%20Things%20(TV%202016)/works?page=335', 'https://archiveofourown.org/tags/Stranger%20Things%20(TV%202016)/works?page=336', 'https://archiveofourown.org/tags/Stranger%20Things%20(TV%202016)/works?page=337', 'https://archiveofourown.org/tags/Stranger%20Things%20(TV%202016)/works?page=338', 'https://archiveofourown.org/tags/Stranger%20Things%20(TV%202016)/works?page=339', 'https://archiveofourown.org/tags/Stranger%20Things%20(TV%202016)/works?page=340', 'https://archiveofourown.org/tags/Stranger%20Things%20(TV%202016)/works?page=341', 'https://archiveofourown.org/tags/Stranger%20Things%20(TV%202016)/works?page=342', 'https://archiveofourown.org/tags/Stranger%20Things%20(TV%202016)/works?page=343', 'https://archiveofourown.org/tags/Stranger%20Things%20(TV%202016)/works?page=344', 'https://archiveofourown.org/tags/Stranger%20Things%20(TV%202016)/works?page=345', 'https://archiveofourown.org/tags/Stranger%20Things%20(TV%202016)/works?page=346', 'https://archiveofourown.org/tags/Stranger%20Things%20(TV%202016)/works?page=347', 'https://archiveofourown.org/tags/Stranger%20Things%20(TV%202016)/works?page=348', 'https://archiveofourown.org/tags/Stranger%20Things%20(TV%202016)/works?page=349', 'https://archiveofourown.org/tags/Stranger%20Things%20(TV%202016)/works?page=350', 'https://archiveofourown.org/tags/Stranger%20Things%20(TV%202016)/works?page=351', 'https://archiveofourown.org/tags/Stranger%20Things%20(TV%202016)/works?page=352', 'https://archiveofourown.org/tags/Stranger%20Things%20(TV%202016)/works?page=353', 'https://archiveofourown.org/tags/Stranger%20Things%20(TV%202016)/works?page=354', 'https://archiveofourown.org/tags/Stranger%20Things%20(TV%202016)/works?page=355', 'https://archiveofourown.org/tags/Stranger%20Things%20(TV%202016)/works?page=356', 'https://archiveofourown.org/tags/Stranger%20Things%20(TV%202016)/works?page=357', 'https://archiveofourown.org/tags/Stranger%20Things%20(TV%202016)/works?page=358', 'https://archiveofourown.org/tags/Stranger%20Things%20(TV%202016)/works?page=359', 'https://archiveofourown.org/tags/Stranger%20Things%20(TV%202016)/works?page=360', 'https://archiveofourown.org/tags/Stranger%20Things%20(TV%202016)/works?page=361', 'https://archiveofourown.org/tags/Stranger%20Things%20(TV%202016)/works?page=362', 'https://archiveofourown.org/tags/Stranger%20Things%20(TV%202016)/works?page=363', 'https://archiveofourown.org/tags/Stranger%20Things%20(TV%202016)/works?page=364', 'https://archiveofourown.org/tags/Stranger%20Things%20(TV%202016)/works?page=365', 'https://archiveofourown.org/tags/Stranger%20Things%20(TV%202016)/works?page=366', 'https://archiveofourown.org/tags/Stranger%20Things%20(TV%202016)/works?page=367', 'https://archiveofourown.org/tags/Stranger%20Things%20(TV%202016)/works?page=368', 'https://archiveofourown.org/tags/Stranger%20Things%20(TV%202016)/works?page=369', 'https://archiveofourown.org/tags/Stranger%20Things%20(TV%202016)/works?page=370', 'https://archiveofourown.org/tags/Stranger%20Things%20(TV%202016)/works?page=371', 'https://archiveofourown.org/tags/Stranger%20Things%20(TV%202016)/works?page=372', 'https://archiveofourown.org/tags/Stranger%20Things%20(TV%202016)/works?page=373', 'https://archiveofourown.org/tags/Stranger%20Things%20(TV%202016)/works?page=374', 'https://archiveofourown.org/tags/Stranger%20Things%20(TV%202016)/works?page=375', 'https://archiveofourown.org/tags/Stranger%20Things%20(TV%202016)/works?page=376', 'https://archiveofourown.org/tags/Stranger%20Things%20(TV%202016)/works?page=377', 'https://archiveofourown.org/tags/Stranger%20Things%20(TV%202016)/works?page=378', 'https://archiveofourown.org/tags/Stranger%20Things%20(TV%202016)/works?page=379', 'https://archiveofourown.org/tags/Stranger%20Things%20(TV%202016)/works?page=380', 'https://archiveofourown.org/tags/Stranger%20Things%20(TV%202016)/works?page=381', 'https://archiveofourown.org/tags/Stranger%20Things%20(TV%202016)/works?page=382', 'https://archiveofourown.org/tags/Stranger%20Things%20(TV%202016)/works?page=383', 'https://archiveofourown.org/tags/Stranger%20Things%20(TV%202016)/works?page=384', 'https://archiveofourown.org/tags/Stranger%20Things%20(TV%202016)/works?page=385', 'https://archiveofourown.org/tags/Stranger%20Things%20(TV%202016)/works?page=386', 'https://archiveofourown.org/tags/Stranger%20Things%20(TV%202016)/works?page=387', 'https://archiveofourown.org/tags/Stranger%20Things%20(TV%202016)/works?page=388', 'https://archiveofourown.org/tags/Stranger%20Things%20(TV%202016)/works?page=389', 'https://archiveofourown.org/tags/Stranger%20Things%20(TV%202016)/works?page=390', 'https://archiveofourown.org/tags/Stranger%20Things%20(TV%202016)/works?page=391', 'https://archiveofourown.org/tags/Stranger%20Things%20(TV%202016)/works?page=392', 'https://archiveofourown.org/tags/Stranger%20Things%20(TV%202016)/works?page=393', 'https://archiveofourown.org/tags/Stranger%20Things%20(TV%202016)/works?page=394', 'https://archiveofourown.org/tags/Stranger%20Things%20(TV%202016)/works?page=395', 'https://archiveofourown.org/tags/Stranger%20Things%20(TV%202016)/works?page=396', 'https://archiveofourown.org/tags/Stranger%20Things%20(TV%202016)/works?page=397', 'https://archiveofourown.org/tags/Stranger%20Things%20(TV%202016)/works?page=398', 'https://archiveofourown.org/tags/Stranger%20Things%20(TV%202016)/works?page=399', 'https://archiveofourown.org/tags/Stranger%20Things%20(TV%202016)/works?page=400', 'https://archiveofourown.org/tags/Stranger%20Things%20(TV%202016)/works?page=401', 'https://archiveofourown.org/tags/Stranger%20Things%20(TV%202016)/works?page=402', 'https://archiveofourown.org/tags/Stranger%20Things%20(TV%202016)/works?page=403', 'https://archiveofourown.org/tags/Stranger%20Things%20(TV%202016)/works?page=404', 'https://archiveofourown.org/tags/Stranger%20Things%20(TV%202016)/works?page=405', 'https://archiveofourown.org/tags/Stranger%20Things%20(TV%202016)/works?page=406', 'https://archiveofourown.org/tags/Stranger%20Things%20(TV%202016)/works?page=407', 'https://archiveofourown.org/tags/Stranger%20Things%20(TV%202016)/works?page=408', 'https://archiveofourown.org/tags/Stranger%20Things%20(TV%202016)/works?page=409', 'https://archiveofourown.org/tags/Stranger%20Things%20(TV%202016)/works?page=410', 'https://archiveofourown.org/tags/Stranger%20Things%20(TV%202016)/works?page=411', 'https://archiveofourown.org/tags/Stranger%20Things%20(TV%202016)/works?page=412', 'https://archiveofourown.org/tags/Stranger%20Things%20(TV%202016)/works?page=413', 'https://archiveofourown.org/tags/Stranger%20Things%20(TV%202016)/works?page=414', 'https://archiveofourown.org/tags/Stranger%20Things%20(TV%202016)/works?page=415', 'https://archiveofourown.org/tags/Stranger%20Things%20(TV%202016)/works?page=416', 'https://archiveofourown.org/tags/Stranger%20Things%20(TV%202016)/works?page=417', 'https://archiveofourown.org/tags/Stranger%20Things%20(TV%202016)/works?page=418', 'https://archiveofourown.org/tags/Stranger%20Things%20(TV%202016)/works?page=419', 'https://archiveofourown.org/tags/Stranger%20Things%20(TV%202016)/works?page=420', 'https://archiveofourown.org/tags/Stranger%20Things%20(TV%202016)/works?page=421', 'https://archiveofourown.org/tags/Stranger%20Things%20(TV%202016)/works?page=422', 'https://archiveofourown.org/tags/Stranger%20Things%20(TV%202016)/works?page=423', 'https://archiveofourown.org/tags/Stranger%20Things%20(TV%202016)/works?page=424', 'https://archiveofourown.org/tags/Stranger%20Things%20(TV%202016)/works?page=425', 'https://archiveofourown.org/tags/Stranger%20Things%20(TV%202016)/works?page=426', 'https://archiveofourown.org/tags/Stranger%20Things%20(TV%202016)/works?page=427', 'https://archiveofourown.org/tags/Stranger%20Things%20(TV%202016)/works?page=428', 'https://archiveofourown.org/tags/Stranger%20Things%20(TV%202016)/works?page=429', 'https://archiveofourown.org/tags/Stranger%20Things%20(TV%202016)/works?page=430', 'https://archiveofourown.org/tags/Stranger%20Things%20(TV%202016)/works?page=431', 'https://archiveofourown.org/tags/Stranger%20Things%20(TV%202016)/works?page=432', 'https://archiveofourown.org/tags/Stranger%20Things%20(TV%202016)/works?page=433', 'https://archiveofourown.org/tags/Stranger%20Things%20(TV%202016)/works?page=434', 'https://archiveofourown.org/tags/Stranger%20Things%20(TV%202016)/works?page=435', 'https://archiveofourown.org/tags/Stranger%20Things%20(TV%202016)/works?page=436', 'https://archiveofourown.org/tags/Stranger%20Things%20(TV%202016)/works?page=437', 'https://archiveofourown.org/tags/Stranger%20Things%20(TV%202016)/works?page=438', 'https://archiveofourown.org/tags/Stranger%20Things%20(TV%202016)/works?page=439', 'https://archiveofourown.org/tags/Stranger%20Things%20(TV%202016)/works?page=440', 'https://archiveofourown.org/tags/Stranger%20Things%20(TV%202016)/works?page=441', 'https://archiveofourown.org/tags/Stranger%20Things%20(TV%202016)/works?page=442', 'https://archiveofourown.org/tags/Stranger%20Things%20(TV%202016)/works?page=443', 'https://archiveofourown.org/tags/Stranger%20Things%20(TV%202016)/works?page=444', 'https://archiveofourown.org/tags/Stranger%20Things%20(TV%202016)/works?page=445', 'https://archiveofourown.org/tags/Stranger%20Things%20(TV%202016)/works?page=446', 'https://archiveofourown.org/tags/Stranger%20Things%20(TV%202016)/works?page=447', 'https://archiveofourown.org/tags/Stranger%20Things%20(TV%202016)/works?page=448', 'https://archiveofourown.org/tags/Stranger%20Things%20(TV%202016)/works?page=449', 'https://archiveofourown.org/tags/Stranger%20Things%20(TV%202016)/works?page=450', 'https://archiveofourown.org/tags/Stranger%20Things%20(TV%202016)/works?page=451', 'https://archiveofourown.org/tags/Stranger%20Things%20(TV%202016)/works?page=452', 'https://archiveofourown.org/tags/Stranger%20Things%20(TV%202016)/works?page=453', 'https://archiveofourown.org/tags/Stranger%20Things%20(TV%202016)/works?page=454', 'https://archiveofourown.org/tags/Stranger%20Things%20(TV%202016)/works?page=455', 'https://archiveofourown.org/tags/Stranger%20Things%20(TV%202016)/works?page=456', 'https://archiveofourown.org/tags/Stranger%20Things%20(TV%202016)/works?page=457', 'https://archiveofourown.org/tags/Stranger%20Things%20(TV%202016)/works?page=458', 'https://archiveofourown.org/tags/Stranger%20Things%20(TV%202016)/works?page=459', 'https://archiveofourown.org/tags/Stranger%20Things%20(TV%202016)/works?page=460', 'https://archiveofourown.org/tags/Stranger%20Things%20(TV%202016)/works?page=461', 'https://archiveofourown.org/tags/Stranger%20Things%20(TV%202016)/works?page=462', 'https://archiveofourown.org/tags/Stranger%20Things%20(TV%202016)/works?page=463', 'https://archiveofourown.org/tags/Stranger%20Things%20(TV%202016)/works?page=464', 'https://archiveofourown.org/tags/Stranger%20Things%20(TV%202016)/works?page=465', 'https://archiveofourown.org/tags/Stranger%20Things%20(TV%202016)/works?page=466', 'https://archiveofourown.org/tags/Stranger%20Things%20(TV%202016)/works?page=467', 'https://archiveofourown.org/tags/Stranger%20Things%20(TV%202016)/works?page=468', 'https://archiveofourown.org/tags/Stranger%20Things%20(TV%202016)/works?page=469', 'https://archiveofourown.org/tags/Stranger%20Things%20(TV%202016)/works?page=470', 'https://archiveofourown.org/tags/Stranger%20Things%20(TV%202016)/works?page=471', 'https://archiveofourown.org/tags/Stranger%20Things%20(TV%202016)/works?page=472', 'https://archiveofourown.org/tags/Stranger%20Things%20(TV%202016)/works?page=473', 'https://archiveofourown.org/tags/Stranger%20Things%20(TV%202016)/works?page=474', 'https://archiveofourown.org/tags/Stranger%20Things%20(TV%202016)/works?page=475', 'https://archiveofourown.org/tags/Stranger%20Things%20(TV%202016)/works?page=476', 'https://archiveofourown.org/tags/Stranger%20Things%20(TV%202016)/works?page=477', 'https://archiveofourown.org/tags/Stranger%20Things%20(TV%202016)/works?page=478', 'https://archiveofourown.org/tags/Stranger%20Things%20(TV%202016)/works?page=479', 'https://archiveofourown.org/tags/Stranger%20Things%20(TV%202016)/works?page=480', 'https://archiveofourown.org/tags/Stranger%20Things%20(TV%202016)/works?page=481', 'https://archiveofourown.org/tags/Stranger%20Things%20(TV%202016)/works?page=482', 'https://archiveofourown.org/tags/Stranger%20Things%20(TV%202016)/works?page=483', 'https://archiveofourown.org/tags/Stranger%20Things%20(TV%202016)/works?page=484', 'https://archiveofourown.org/tags/Stranger%20Things%20(TV%202016)/works?page=485', 'https://archiveofourown.org/tags/Stranger%20Things%20(TV%202016)/works?page=486', 'https://archiveofourown.org/tags/Stranger%20Things%20(TV%202016)/works?page=487', 'https://archiveofourown.org/tags/Stranger%20Things%20(TV%202016)/works?page=488', 'https://archiveofourown.org/tags/Stranger%20Things%20(TV%202016)/works?page=489', 'https://archiveofourown.org/tags/Stranger%20Things%20(TV%202016)/works?page=490', 'https://archiveofourown.org/tags/Stranger%20Things%20(TV%202016)/works?page=491', 'https://archiveofourown.org/tags/Stranger%20Things%20(TV%202016)/works?page=492', 'https://archiveofourown.org/tags/Stranger%20Things%20(TV%202016)/works?page=493', 'https://archiveofourown.org/tags/Stranger%20Things%20(TV%202016)/works?page=494', 'https://archiveofourown.org/tags/Stranger%20Things%20(TV%202016)/works?page=495', 'https://archiveofourown.org/tags/Stranger%20Things%20(TV%202016)/works?page=496', 'https://archiveofourown.org/tags/Stranger%20Things%20(TV%202016)/works?page=497', 'https://archiveofourown.org/tags/Stranger%20Things%20(TV%202016)/works?page=498', 'https://archiveofourown.org/tags/Stranger%20Things%20(TV%202016)/works?page=499', 'https://archiveofourown.org/tags/Stranger%20Things%20(TV%202016)/works?page=500', 'https://archiveofourown.org/tags/Stranger%20Things%20(TV%202016)/works?page=501', 'https://archiveofourown.org/tags/Stranger%20Things%20(TV%202016)/works?page=502', 'https://archiveofourown.org/tags/Stranger%20Things%20(TV%202016)/works?page=503', 'https://archiveofourown.org/tags/Stranger%20Things%20(TV%202016)/works?page=504', 'https://archiveofourown.org/tags/Stranger%20Things%20(TV%202016)/works?page=505', 'https://archiveofourown.org/tags/Stranger%20Things%20(TV%202016)/works?page=506', 'https://archiveofourown.org/tags/Stranger%20Things%20(TV%202016)/works?page=507', 'https://archiveofourown.org/tags/Stranger%20Things%20(TV%202016)/works?page=508', 'https://archiveofourown.org/tags/Stranger%20Things%20(TV%202016)/works?page=509', 'https://archiveofourown.org/tags/Stranger%20Things%20(TV%202016)/works?page=510', 'https://archiveofourown.org/tags/Stranger%20Things%20(TV%202016)/works?page=511', 'https://archiveofourown.org/tags/Stranger%20Things%20(TV%202016)/works?page=512', 'https://archiveofourown.org/tags/Stranger%20Things%20(TV%202016)/works?page=513', 'https://archiveofourown.org/tags/Stranger%20Things%20(TV%202016)/works?page=514', 'https://archiveofourown.org/tags/Stranger%20Things%20(TV%202016)/works?page=515', 'https://archiveofourown.org/tags/Stranger%20Things%20(TV%202016)/works?page=516', 'https://archiveofourown.org/tags/Stranger%20Things%20(TV%202016)/works?page=517', 'https://archiveofourown.org/tags/Stranger%20Things%20(TV%202016)/works?page=518', 'https://archiveofourown.org/tags/Stranger%20Things%20(TV%202016)/works?page=519', 'https://archiveofourown.org/tags/Stranger%20Things%20(TV%202016)/works?page=520', 'https://archiveofourown.org/tags/Stranger%20Things%20(TV%202016)/works?page=521', 'https://archiveofourown.org/tags/Stranger%20Things%20(TV%202016)/works?page=522', 'https://archiveofourown.org/tags/Stranger%20Things%20(TV%202016)/works?page=523', 'https://archiveofourown.org/tags/Stranger%20Things%20(TV%202016)/works?page=524', 'https://archiveofourown.org/tags/Stranger%20Things%20(TV%202016)/works?page=525', 'https://archiveofourown.org/tags/Stranger%20Things%20(TV%202016)/works?page=526', 'https://archiveofourown.org/tags/Stranger%20Things%20(TV%202016)/works?page=527', 'https://archiveofourown.org/tags/Stranger%20Things%20(TV%202016)/works?page=528', 'https://archiveofourown.org/tags/Stranger%20Things%20(TV%202016)/works?page=529', 'https://archiveofourown.org/tags/Stranger%20Things%20(TV%202016)/works?page=530', 'https://archiveofourown.org/tags/Stranger%20Things%20(TV%202016)/works?page=531', 'https://archiveofourown.org/tags/Stranger%20Things%20(TV%202016)/works?page=532', 'https://archiveofourown.org/tags/Stranger%20Things%20(TV%202016)/works?page=533', 'https://archiveofourown.org/tags/Stranger%20Things%20(TV%202016)/works?page=534', 'https://archiveofourown.org/tags/Stranger%20Things%20(TV%202016)/works?page=535', 'https://archiveofourown.org/tags/Stranger%20Things%20(TV%202016)/works?page=536', 'https://archiveofourown.org/tags/Stranger%20Things%20(TV%202016)/works?page=537', 'https://archiveofourown.org/tags/Stranger%20Things%20(TV%202016)/works?page=538', 'https://archiveofourown.org/tags/Stranger%20Things%20(TV%202016)/works?page=539', 'https://archiveofourown.org/tags/Stranger%20Things%20(TV%202016)/works?page=540', 'https://archiveofourown.org/tags/Stranger%20Things%20(TV%202016)/works?page=541', 'https://archiveofourown.org/tags/Stranger%20Things%20(TV%202016)/works?page=542', 'https://archiveofourown.org/tags/Stranger%20Things%20(TV%202016)/works?page=543', 'https://archiveofourown.org/tags/Stranger%20Things%20(TV%202016)/works?page=544', 'https://archiveofourown.org/tags/Stranger%20Things%20(TV%202016)/works?page=545', 'https://archiveofourown.org/tags/Stranger%20Things%20(TV%202016)/works?page=546', 'https://archiveofourown.org/tags/Stranger%20Things%20(TV%202016)/works?page=547', 'https://archiveofourown.org/tags/Stranger%20Things%20(TV%202016)/works?page=548', 'https://archiveofourown.org/tags/Stranger%20Things%20(TV%202016)/works?page=549', 'https://archiveofourown.org/tags/Stranger%20Things%20(TV%202016)/works?page=550', 'https://archiveofourown.org/tags/Stranger%20Things%20(TV%202016)/works?page=551', 'https://archiveofourown.org/tags/Stranger%20Things%20(TV%202016)/works?page=552', 'https://archiveofourown.org/tags/Stranger%20Things%20(TV%202016)/works?page=553', 'https://archiveofourown.org/tags/Stranger%20Things%20(TV%202016)/works?page=554', 'https://archiveofourown.org/tags/Stranger%20Things%20(TV%202016)/works?page=555', 'https://archiveofourown.org/tags/Stranger%20Things%20(TV%202016)/works?page=556', 'https://archiveofourown.org/tags/Stranger%20Things%20(TV%202016)/works?page=557', 'https://archiveofourown.org/tags/Stranger%20Things%20(TV%202016)/works?page=558', 'https://archiveofourown.org/tags/Stranger%20Things%20(TV%202016)/works?page=559', 'https://archiveofourown.org/tags/Stranger%20Things%20(TV%202016)/works?page=560', 'https://archiveofourown.org/tags/Stranger%20Things%20(TV%202016)/works?page=561', 'https://archiveofourown.org/tags/Stranger%20Things%20(TV%202016)/works?page=562', 'https://archiveofourown.org/tags/Stranger%20Things%20(TV%202016)/works?page=563', 'https://archiveofourown.org/tags/Stranger%20Things%20(TV%202016)/works?page=564', 'https://archiveofourown.org/tags/Stranger%20Things%20(TV%202016)/works?page=565', 'https://archiveofourown.org/tags/Stranger%20Things%20(TV%202016)/works?page=566', 'https://archiveofourown.org/tags/Stranger%20Things%20(TV%202016)/works?page=567', 'https://archiveofourown.org/tags/Stranger%20Things%20(TV%202016)/works?page=568', 'https://archiveofourown.org/tags/Stranger%20Things%20(TV%202016)/works?page=569', 'https://archiveofourown.org/tags/Stranger%20Things%20(TV%202016)/works?page=570', 'https://archiveofourown.org/tags/Stranger%20Things%20(TV%202016)/works?page=571', 'https://archiveofourown.org/tags/Stranger%20Things%20(TV%202016)/works?page=572', 'https://archiveofourown.org/tags/Stranger%20Things%20(TV%202016)/works?page=573', 'https://archiveofourown.org/tags/Stranger%20Things%20(TV%202016)/works?page=574', 'https://archiveofourown.org/tags/Stranger%20Things%20(TV%202016)/works?page=575', 'https://archiveofourown.org/tags/Stranger%20Things%20(TV%202016)/works?page=576', 'https://archiveofourown.org/tags/Stranger%20Things%20(TV%202016)/works?page=577', 'https://archiveofourown.org/tags/Stranger%20Things%20(TV%202016)/works?page=578', 'https://archiveofourown.org/tags/Stranger%20Things%20(TV%202016)/works?page=579', 'https://archiveofourown.org/tags/Stranger%20Things%20(TV%202016)/works?page=580', 'https://archiveofourown.org/tags/Stranger%20Things%20(TV%202016)/works?page=581', 'https://archiveofourown.org/tags/Stranger%20Things%20(TV%202016)/works?page=582', 'https://archiveofourown.org/tags/Stranger%20Things%20(TV%202016)/works?page=583', 'https://archiveofourown.org/tags/Stranger%20Things%20(TV%202016)/works?page=584', 'https://archiveofourown.org/tags/Stranger%20Things%20(TV%202016)/works?page=585', 'https://archiveofourown.org/tags/Stranger%20Things%20(TV%202016)/works?page=586', 'https://archiveofourown.org/tags/Stranger%20Things%20(TV%202016)/works?page=587', 'https://archiveofourown.org/tags/Stranger%20Things%20(TV%202016)/works?page=588', 'https://archiveofourown.org/tags/Stranger%20Things%20(TV%202016)/works?page=589', 'https://archiveofourown.org/tags/Stranger%20Things%20(TV%202016)/works?page=590', 'https://archiveofourown.org/tags/Stranger%20Things%20(TV%202016)/works?page=591', 'https://archiveofourown.org/tags/Stranger%20Things%20(TV%202016)/works?page=592', 'https://archiveofourown.org/tags/Stranger%20Things%20(TV%202016)/works?page=593', 'https://archiveofourown.org/tags/Stranger%20Things%20(TV%202016)/works?page=594', 'https://archiveofourown.org/tags/Stranger%20Things%20(TV%202016)/works?page=595', 'https://archiveofourown.org/tags/Stranger%20Things%20(TV%202016)/works?page=596', 'https://archiveofourown.org/tags/Stranger%20Things%20(TV%202016)/works?page=597', 'https://archiveofourown.org/tags/Stranger%20Things%20(TV%202016)/works?page=598', 'https://archiveofourown.org/tags/Stranger%20Things%20(TV%202016)/works?page=599', 'https://archiveofourown.org/tags/Stranger%20Things%20(TV%202016)/works?page=600', 'https://archiveofourown.org/tags/Stranger%20Things%20(TV%202016)/works?page=601', 'https://archiveofourown.org/tags/Stranger%20Things%20(TV%202016)/works?page=602', 'https://archiveofourown.org/tags/Stranger%20Things%20(TV%202016)/works?page=603', 'https://archiveofourown.org/tags/Stranger%20Things%20(TV%202016)/works?page=604', 'https://archiveofourown.org/tags/Stranger%20Things%20(TV%202016)/works?page=605', 'https://archiveofourown.org/tags/Stranger%20Things%20(TV%202016)/works?page=606', 'https://archiveofourown.org/tags/Stranger%20Things%20(TV%202016)/works?page=607', 'https://archiveofourown.org/tags/Stranger%20Things%20(TV%202016)/works?page=608', 'https://archiveofourown.org/tags/Stranger%20Things%20(TV%202016)/works?page=609', 'https://archiveofourown.org/tags/Stranger%20Things%20(TV%202016)/works?page=610', 'https://archiveofourown.org/tags/Stranger%20Things%20(TV%202016)/works?page=611', 'https://archiveofourown.org/tags/Stranger%20Things%20(TV%202016)/works?page=612', 'https://archiveofourown.org/tags/Stranger%20Things%20(TV%202016)/works?page=613', 'https://archiveofourown.org/tags/Stranger%20Things%20(TV%202016)/works?page=614', 'https://archiveofourown.org/tags/Stranger%20Things%20(TV%202016)/works?page=615', 'https://archiveofourown.org/tags/Stranger%20Things%20(TV%202016)/works?page=616', 'https://archiveofourown.org/tags/Stranger%20Things%20(TV%202016)/works?page=617', 'https://archiveofourown.org/tags/Stranger%20Things%20(TV%202016)/works?page=618', 'https://archiveofourown.org/tags/Stranger%20Things%20(TV%202016)/works?page=619', 'https://archiveofourown.org/tags/Stranger%20Things%20(TV%202016)/works?page=620', 'https://archiveofourown.org/tags/Stranger%20Things%20(TV%202016)/works?page=621', 'https://archiveofourown.org/tags/Stranger%20Things%20(TV%202016)/works?page=622', 'https://archiveofourown.org/tags/Stranger%20Things%20(TV%202016)/works?page=623', 'https://archiveofourown.org/tags/Stranger%20Things%20(TV%202016)/works?page=624', 'https://archiveofourown.org/tags/Stranger%20Things%20(TV%202016)/works?page=625', 'https://archiveofourown.org/tags/Stranger%20Things%20(TV%202016)/works?page=626', 'https://archiveofourown.org/tags/Stranger%20Things%20(TV%202016)/works?page=627', 'https://archiveofourown.org/tags/Stranger%20Things%20(TV%202016)/works?page=628', 'https://archiveofourown.org/tags/Stranger%20Things%20(TV%202016)/works?page=629', 'https://archiveofourown.org/tags/Stranger%20Things%20(TV%202016)/works?page=630', 'https://archiveofourown.org/tags/Stranger%20Things%20(TV%202016)/works?page=631', 'https://archiveofourown.org/tags/Stranger%20Things%20(TV%202016)/works?page=632', 'https://archiveofourown.org/tags/Stranger%20Things%20(TV%202016)/works?page=633', 'https://archiveofourown.org/tags/Stranger%20Things%20(TV%202016)/works?page=634', 'https://archiveofourown.org/tags/Stranger%20Things%20(TV%202016)/works?page=635', 'https://archiveofourown.org/tags/Stranger%20Things%20(TV%202016)/works?page=636', 'https://archiveofourown.org/tags/Stranger%20Things%20(TV%202016)/works?page=637', 'https://archiveofourown.org/tags/Stranger%20Things%20(TV%202016)/works?page=638', 'https://archiveofourown.org/tags/Stranger%20Things%20(TV%202016)/works?page=639', 'https://archiveofourown.org/tags/Stranger%20Things%20(TV%202016)/works?page=640', 'https://archiveofourown.org/tags/Stranger%20Things%20(TV%202016)/works?page=641', 'https://archiveofourown.org/tags/Stranger%20Things%20(TV%202016)/works?page=642', 'https://archiveofourown.org/tags/Stranger%20Things%20(TV%202016)/works?page=643', 'https://archiveofourown.org/tags/Stranger%20Things%20(TV%202016)/works?page=644', 'https://archiveofourown.org/tags/Stranger%20Things%20(TV%202016)/works?page=645', 'https://archiveofourown.org/tags/Stranger%20Things%20(TV%202016)/works?page=646', 'https://archiveofourown.org/tags/Stranger%20Things%20(TV%202016)/works?page=647', 'https://archiveofourown.org/tags/Stranger%20Things%20(TV%202016)/works?page=648', 'https://archiveofourown.org/tags/Stranger%20Things%20(TV%202016)/works?page=649', 'https://archiveofourown.org/tags/Stranger%20Things%20(TV%202016)/works?page=650', 'https://archiveofourown.org/tags/Stranger%20Things%20(TV%202016)/works?page=651', 'https://archiveofourown.org/tags/Stranger%20Things%20(TV%202016)/works?page=652', 'https://archiveofourown.org/tags/Stranger%20Things%20(TV%202016)/works?page=653', 'https://archiveofourown.org/tags/Stranger%20Things%20(TV%202016)/works?page=654', 'https://archiveofourown.org/tags/Stranger%20Things%20(TV%202016)/works?page=655', 'https://archiveofourown.org/tags/Stranger%20Things%20(TV%202016)/works?page=656', 'https://archiveofourown.org/tags/Stranger%20Things%20(TV%202016)/works?page=657', 'https://archiveofourown.org/tags/Stranger%20Things%20(TV%202016)/works?page=658', 'https://archiveofourown.org/tags/Stranger%20Things%20(TV%202016)/works?page=659', 'https://archiveofourown.org/tags/Stranger%20Things%20(TV%202016)/works?page=660', 'https://archiveofourown.org/tags/Stranger%20Things%20(TV%202016)/works?page=661', 'https://archiveofourown.org/tags/Stranger%20Things%20(TV%202016)/works?page=662', 'https://archiveofourown.org/tags/Stranger%20Things%20(TV%202016)/works?page=663', 'https://archiveofourown.org/tags/Stranger%20Things%20(TV%202016)/works?page=664', 'https://archiveofourown.org/tags/Stranger%20Things%20(TV%202016)/works?page=665', 'https://archiveofourown.org/tags/Stranger%20Things%20(TV%202016)/works?page=666', 'https://archiveofourown.org/tags/Stranger%20Things%20(TV%202016)/works?page=667', 'https://archiveofourown.org/tags/Stranger%20Things%20(TV%202016)/works?page=668', 'https://archiveofourown.org/tags/Stranger%20Things%20(TV%202016)/works?page=669', 'https://archiveofourown.org/tags/Stranger%20Things%20(TV%202016)/works?page=670', 'https://archiveofourown.org/tags/Stranger%20Things%20(TV%202016)/works?page=671', 'https://archiveofourown.org/tags/Stranger%20Things%20(TV%202016)/works?page=672', 'https://archiveofourown.org/tags/Stranger%20Things%20(TV%202016)/works?page=673', 'https://archiveofourown.org/tags/Stranger%20Things%20(TV%202016)/works?page=674', 'https://archiveofourown.org/tags/Stranger%20Things%20(TV%202016)/works?page=675', 'https://archiveofourown.org/tags/Stranger%20Things%20(TV%202016)/works?page=676', 'https://archiveofourown.org/tags/Stranger%20Things%20(TV%202016)/works?page=677', 'https://archiveofourown.org/tags/Stranger%20Things%20(TV%202016)/works?page=678', 'https://archiveofourown.org/tags/Stranger%20Things%20(TV%202016)/works?page=679', 'https://archiveofourown.org/tags/Stranger%20Things%20(TV%202016)/works?page=680', 'https://archiveofourown.org/tags/Stranger%20Things%20(TV%202016)/works?page=681', 'https://archiveofourown.org/tags/Stranger%20Things%20(TV%202016)/works?page=682', 'https://archiveofourown.org/tags/Stranger%20Things%20(TV%202016)/works?page=683', 'https://archiveofourown.org/tags/Stranger%20Things%20(TV%202016)/works?page=684', 'https://archiveofourown.org/tags/Stranger%20Things%20(TV%202016)/works?page=685', 'https://archiveofourown.org/tags/Stranger%20Things%20(TV%202016)/works?page=686', 'https://archiveofourown.org/tags/Stranger%20Things%20(TV%202016)/works?page=687', 'https://archiveofourown.org/tags/Stranger%20Things%20(TV%202016)/works?page=688', 'https://archiveofourown.org/tags/Stranger%20Things%20(TV%202016)/works?page=689', 'https://archiveofourown.org/tags/Stranger%20Things%20(TV%202016)/works?page=690', 'https://archiveofourown.org/tags/Stranger%20Things%20(TV%202016)/works?page=691', 'https://archiveofourown.org/tags/Stranger%20Things%20(TV%202016)/works?page=692', 'https://archiveofourown.org/tags/Stranger%20Things%20(TV%202016)/works?page=693', 'https://archiveofourown.org/tags/Stranger%20Things%20(TV%202016)/works?page=694', 'https://archiveofourown.org/tags/Stranger%20Things%20(TV%202016)/works?page=695', 'https://archiveofourown.org/tags/Stranger%20Things%20(TV%202016)/works?page=696', 'https://archiveofourown.org/tags/Stranger%20Things%20(TV%202016)/works?page=697', 'https://archiveofourown.org/tags/Stranger%20Things%20(TV%202016)/works?page=698', 'https://archiveofourown.org/tags/Stranger%20Things%20(TV%202016)/works?page=699', 'https://archiveofourown.org/tags/Stranger%20Things%20(TV%202016)/works?page=700', 'https://archiveofourown.org/tags/Stranger%20Things%20(TV%202016)/works?page=701', 'https://archiveofourown.org/tags/Stranger%20Things%20(TV%202016)/works?page=702', 'https://archiveofourown.org/tags/Stranger%20Things%20(TV%202016)/works?page=703', 'https://archiveofourown.org/tags/Stranger%20Things%20(TV%202016)/works?page=704', 'https://archiveofourown.org/tags/Stranger%20Things%20(TV%202016)/works?page=705', 'https://archiveofourown.org/tags/Stranger%20Things%20(TV%202016)/works?page=706', 'https://archiveofourown.org/tags/Stranger%20Things%20(TV%202016)/works?page=707', 'https://archiveofourown.org/tags/Stranger%20Things%20(TV%202016)/works?page=708', 'https://archiveofourown.org/tags/Stranger%20Things%20(TV%202016)/works?page=709', 'https://archiveofourown.org/tags/Stranger%20Things%20(TV%202016)/works?page=710', 'https://archiveofourown.org/tags/Stranger%20Things%20(TV%202016)/works?page=711', 'https://archiveofourown.org/tags/Stranger%20Things%20(TV%202016)/works?page=712', 'https://archiveofourown.org/tags/Stranger%20Things%20(TV%202016)/works?page=713', 'https://archiveofourown.org/tags/Stranger%20Things%20(TV%202016)/works?page=714', 'https://archiveofourown.org/tags/Stranger%20Things%20(TV%202016)/works?page=715', 'https://archiveofourown.org/tags/Stranger%20Things%20(TV%202016)/works?page=716', 'https://archiveofourown.org/tags/Stranger%20Things%20(TV%202016)/works?page=717', 'https://archiveofourown.org/tags/Stranger%20Things%20(TV%202016)/works?page=718', 'https://archiveofourown.org/tags/Stranger%20Things%20(TV%202016)/works?page=719', 'https://archiveofourown.org/tags/Stranger%20Things%20(TV%202016)/works?page=720', 'https://archiveofourown.org/tags/Stranger%20Things%20(TV%202016)/works?page=721', 'https://archiveofourown.org/tags/Stranger%20Things%20(TV%202016)/works?page=722', 'https://archiveofourown.org/tags/Stranger%20Things%20(TV%202016)/works?page=723', 'https://archiveofourown.org/tags/Stranger%20Things%20(TV%202016)/works?page=724', 'https://archiveofourown.org/tags/Stranger%20Things%20(TV%202016)/works?page=725', 'https://archiveofourown.org/tags/Stranger%20Things%20(TV%202016)/works?page=726', 'https://archiveofourown.org/tags/Stranger%20Things%20(TV%202016)/works?page=727', 'https://archiveofourown.org/tags/Stranger%20Things%20(TV%202016)/works?page=728', 'https://archiveofourown.org/tags/Stranger%20Things%20(TV%202016)/works?page=729', 'https://archiveofourown.org/tags/Stranger%20Things%20(TV%202016)/works?page=730', 'https://archiveofourown.org/tags/Stranger%20Things%20(TV%202016)/works?page=731', 'https://archiveofourown.org/tags/Stranger%20Things%20(TV%202016)/works?page=732', 'https://archiveofourown.org/tags/Stranger%20Things%20(TV%202016)/works?page=733', 'https://archiveofourown.org/tags/Stranger%20Things%20(TV%202016)/works?page=734', 'https://archiveofourown.org/tags/Stranger%20Things%20(TV%202016)/works?page=735', 'https://archiveofourown.org/tags/Stranger%20Things%20(TV%202016)/works?page=736', 'https://archiveofourown.org/tags/Stranger%20Things%20(TV%202016)/works?page=737', 'https://archiveofourown.org/tags/Stranger%20Things%20(TV%202016)/works?page=738', 'https://archiveofourown.org/tags/Stranger%20Things%20(TV%202016)/works?page=739', 'https://archiveofourown.org/tags/Stranger%20Things%20(TV%202016)/works?page=740', 'https://archiveofourown.org/tags/Stranger%20Things%20(TV%202016)/works?page=741', 'https://archiveofourown.org/tags/Stranger%20Things%20(TV%202016)/works?page=742', 'https://archiveofourown.org/tags/Stranger%20Things%20(TV%202016)/works?page=743', 'https://archiveofourown.org/tags/Stranger%20Things%20(TV%202016)/works?page=744', 'https://archiveofourown.org/tags/Stranger%20Things%20(TV%202016)/works?page=745', 'https://archiveofourown.org/tags/Stranger%20Things%20(TV%202016)/works?page=746', 'https://archiveofourown.org/tags/Stranger%20Things%20(TV%202016)/works?page=747', 'https://archiveofourown.org/tags/Stranger%20Things%20(TV%202016)/works?page=748', 'https://archiveofourown.org/tags/Stranger%20Things%20(TV%202016)/works?page=749', 'https://archiveofourown.org/tags/Stranger%20Things%20(TV%202016)/works?page=750', 'https://archiveofourown.org/tags/Stranger%20Things%20(TV%202016)/works?page=751', 'https://archiveofourown.org/tags/Stranger%20Things%20(TV%202016)/works?page=752', 'https://archiveofourown.org/tags/Stranger%20Things%20(TV%202016)/works?page=753', 'https://archiveofourown.org/tags/Stranger%20Things%20(TV%202016)/works?page=754', 'https://archiveofourown.org/tags/Stranger%20Things%20(TV%202016)/works?page=755', 'https://archiveofourown.org/tags/Stranger%20Things%20(TV%202016)/works?page=756', 'https://archiveofourown.org/tags/Stranger%20Things%20(TV%202016)/works?page=757', 'https://archiveofourown.org/tags/Stranger%20Things%20(TV%202016)/works?page=758', 'https://archiveofourown.org/tags/Stranger%20Things%20(TV%202016)/works?page=759', 'https://archiveofourown.org/tags/Stranger%20Things%20(TV%202016)/works?page=760', 'https://archiveofourown.org/tags/Stranger%20Things%20(TV%202016)/works?page=761', 'https://archiveofourown.org/tags/Stranger%20Things%20(TV%202016)/works?page=762', 'https://archiveofourown.org/tags/Stranger%20Things%20(TV%202016)/works?page=763', 'https://archiveofourown.org/tags/Stranger%20Things%20(TV%202016)/works?page=764', 'https://archiveofourown.org/tags/Stranger%20Things%20(TV%202016)/works?page=765', 'https://archiveofourown.org/tags/Stranger%20Things%20(TV%202016)/works?page=766', 'https://archiveofourown.org/tags/Stranger%20Things%20(TV%202016)/works?page=767', 'https://archiveofourown.org/tags/Stranger%20Things%20(TV%202016)/works?page=768', 'https://archiveofourown.org/tags/Stranger%20Things%20(TV%202016)/works?page=769', 'https://archiveofourown.org/tags/Stranger%20Things%20(TV%202016)/works?page=770', 'https://archiveofourown.org/tags/Stranger%20Things%20(TV%202016)/works?page=771', 'https://archiveofourown.org/tags/Stranger%20Things%20(TV%202016)/works?page=772', 'https://archiveofourown.org/tags/Stranger%20Things%20(TV%202016)/works?page=773', 'https://archiveofourown.org/tags/Stranger%20Things%20(TV%202016)/works?page=774', 'https://archiveofourown.org/tags/Stranger%20Things%20(TV%202016)/works?page=775', 'https://archiveofourown.org/tags/Stranger%20Things%20(TV%202016)/works?page=776', 'https://archiveofourown.org/tags/Stranger%20Things%20(TV%202016)/works?page=777', 'https://archiveofourown.org/tags/Stranger%20Things%20(TV%202016)/works?page=778', 'https://archiveofourown.org/tags/Stranger%20Things%20(TV%202016)/works?page=779', 'https://archiveofourown.org/tags/Stranger%20Things%20(TV%202016)/works?page=780', 'https://archiveofourown.org/tags/Stranger%20Things%20(TV%202016)/works?page=781', 'https://archiveofourown.org/tags/Stranger%20Things%20(TV%202016)/works?page=782', 'https://archiveofourown.org/tags/Stranger%20Things%20(TV%202016)/works?page=783', 'https://archiveofourown.org/tags/Stranger%20Things%20(TV%202016)/works?page=784', 'https://archiveofourown.org/tags/Stranger%20Things%20(TV%202016)/works?page=785', 'https://archiveofourown.org/tags/Stranger%20Things%20(TV%202016)/works?page=786', 'https://archiveofourown.org/tags/Stranger%20Things%20(TV%202016)/works?page=787', 'https://archiveofourown.org/tags/Stranger%20Things%20(TV%202016)/works?page=788', 'https://archiveofourown.org/tags/Stranger%20Things%20(TV%202016)/works?page=789', 'https://archiveofourown.org/tags/Stranger%20Things%20(TV%202016)/works?page=790', 'https://archiveofourown.org/tags/Stranger%20Things%20(TV%202016)/works?page=791', 'https://archiveofourown.org/tags/Stranger%20Things%20(TV%202016)/works?page=792', 'https://archiveofourown.org/tags/Stranger%20Things%20(TV%202016)/works?page=793', 'https://archiveofourown.org/tags/Stranger%20Things%20(TV%202016)/works?page=794', 'https://archiveofourown.org/tags/Stranger%20Things%20(TV%202016)/works?page=795', 'https://archiveofourown.org/tags/Stranger%20Things%20(TV%202016)/works?page=796', 'https://archiveofourown.org/tags/Stranger%20Things%20(TV%202016)/works?page=797', 'https://archiveofourown.org/tags/Stranger%20Things%20(TV%202016)/works?page=798', 'https://archiveofourown.org/tags/Stranger%20Things%20(TV%202016)/works?page=799', 'https://archiveofourown.org/tags/Stranger%20Things%20(TV%202016)/works?page=800', 'https://archiveofourown.org/tags/Stranger%20Things%20(TV%202016)/works?page=801', 'https://archiveofourown.org/tags/Stranger%20Things%20(TV%202016)/works?page=802', 'https://archiveofourown.org/tags/Stranger%20Things%20(TV%202016)/works?page=803', 'https://archiveofourown.org/tags/Stranger%20Things%20(TV%202016)/works?page=804', 'https://archiveofourown.org/tags/Stranger%20Things%20(TV%202016)/works?page=805', 'https://archiveofourown.org/tags/Stranger%20Things%20(TV%202016)/works?page=806', 'https://archiveofourown.org/tags/Stranger%20Things%20(TV%202016)/works?page=807', 'https://archiveofourown.org/tags/Stranger%20Things%20(TV%202016)/works?page=808', 'https://archiveofourown.org/tags/Stranger%20Things%20(TV%202016)/works?page=809', 'https://archiveofourown.org/tags/Stranger%20Things%20(TV%202016)/works?page=810', 'https://archiveofourown.org/tags/Stranger%20Things%20(TV%202016)/works?page=811', 'https://archiveofourown.org/tags/Stranger%20Things%20(TV%202016)/works?page=812', 'https://archiveofourown.org/tags/Stranger%20Things%20(TV%202016)/works?page=813', 'https://archiveofourown.org/tags/Stranger%20Things%20(TV%202016)/works?page=814', 'https://archiveofourown.org/tags/Stranger%20Things%20(TV%202016)/works?page=815', 'https://archiveofourown.org/tags/Stranger%20Things%20(TV%202016)/works?page=816', 'https://archiveofourown.org/tags/Stranger%20Things%20(TV%202016)/works?page=817', 'https://archiveofourown.org/tags/Stranger%20Things%20(TV%202016)/works?page=818', 'https://archiveofourown.org/tags/Stranger%20Things%20(TV%202016)/works?page=819', 'https://archiveofourown.org/tags/Stranger%20Things%20(TV%202016)/works?page=820', 'https://archiveofourown.org/tags/Stranger%20Things%20(TV%202016)/works?page=821', 'https://archiveofourown.org/tags/Stranger%20Things%20(TV%202016)/works?page=822', 'https://archiveofourown.org/tags/Stranger%20Things%20(TV%202016)/works?page=823', 'https://archiveofourown.org/tags/Stranger%20Things%20(TV%202016)/works?page=824', 'https://archiveofourown.org/tags/Stranger%20Things%20(TV%202016)/works?page=825', 'https://archiveofourown.org/tags/Stranger%20Things%20(TV%202016)/works?page=826', 'https://archiveofourown.org/tags/Stranger%20Things%20(TV%202016)/works?page=827', 'https://archiveofourown.org/tags/Stranger%20Things%20(TV%202016)/works?page=828', 'https://archiveofourown.org/tags/Stranger%20Things%20(TV%202016)/works?page=829', 'https://archiveofourown.org/tags/Stranger%20Things%20(TV%202016)/works?page=830', 'https://archiveofourown.org/tags/Stranger%20Things%20(TV%202016)/works?page=831', 'https://archiveofourown.org/tags/Stranger%20Things%20(TV%202016)/works?page=832', 'https://archiveofourown.org/tags/Stranger%20Things%20(TV%202016)/works?page=833', 'https://archiveofourown.org/tags/Stranger%20Things%20(TV%202016)/works?page=834', 'https://archiveofourown.org/tags/Stranger%20Things%20(TV%202016)/works?page=835', 'https://archiveofourown.org/tags/Stranger%20Things%20(TV%202016)/works?page=836', 'https://archiveofourown.org/tags/Stranger%20Things%20(TV%202016)/works?page=837', 'https://archiveofourown.org/tags/Stranger%20Things%20(TV%202016)/works?page=838', 'https://archiveofourown.org/tags/Stranger%20Things%20(TV%202016)/works?page=839', 'https://archiveofourown.org/tags/Stranger%20Things%20(TV%202016)/works?page=840', 'https://archiveofourown.org/tags/Stranger%20Things%20(TV%202016)/works?page=841', 'https://archiveofourown.org/tags/Stranger%20Things%20(TV%202016)/works?page=842', 'https://archiveofourown.org/tags/Stranger%20Things%20(TV%202016)/works?page=843', 'https://archiveofourown.org/tags/Stranger%20Things%20(TV%202016)/works?page=844', 'https://archiveofourown.org/tags/Stranger%20Things%20(TV%202016)/works?page=845', 'https://archiveofourown.org/tags/Stranger%20Things%20(TV%202016)/works?page=846', 'https://archiveofourown.org/tags/Stranger%20Things%20(TV%202016)/works?page=847', 'https://archiveofourown.org/tags/Stranger%20Things%20(TV%202016)/works?page=848', 'https://archiveofourown.org/tags/Stranger%20Things%20(TV%202016)/works?page=849', 'https://archiveofourown.org/tags/Stranger%20Things%20(TV%202016)/works?page=850', 'https://archiveofourown.org/tags/Stranger%20Things%20(TV%202016)/works?page=851', 'https://archiveofourown.org/tags/Stranger%20Things%20(TV%202016)/works?page=852', 'https://archiveofourown.org/tags/Stranger%20Things%20(TV%202016)/works?page=853', 'https://archiveofourown.org/tags/Stranger%20Things%20(TV%202016)/works?page=854', 'https://archiveofourown.org/tags/Stranger%20Things%20(TV%202016)/works?page=855', 'https://archiveofourown.org/tags/Stranger%20Things%20(TV%202016)/works?page=856', 'https://archiveofourown.org/tags/Stranger%20Things%20(TV%202016)/works?page=857', 'https://archiveofourown.org/tags/Stranger%20Things%20(TV%202016)/works?page=858', 'https://archiveofourown.org/tags/Stranger%20Things%20(TV%202016)/works?page=859', 'https://archiveofourown.org/tags/Stranger%20Things%20(TV%202016)/works?page=860', 'https://archiveofourown.org/tags/Stranger%20Things%20(TV%202016)/works?page=861', 'https://archiveofourown.org/tags/Stranger%20Things%20(TV%202016)/works?page=862', 'https://archiveofourown.org/tags/Stranger%20Things%20(TV%202016)/works?page=863', 'https://archiveofourown.org/tags/Stranger%20Things%20(TV%202016)/works?page=864', 'https://archiveofourown.org/tags/Stranger%20Things%20(TV%202016)/works?page=865', 'https://archiveofourown.org/tags/Stranger%20Things%20(TV%202016)/works?page=866', 'https://archiveofourown.org/tags/Stranger%20Things%20(TV%202016)/works?page=867', 'https://archiveofourown.org/tags/Stranger%20Things%20(TV%202016)/works?page=868', 'https://archiveofourown.org/tags/Stranger%20Things%20(TV%202016)/works?page=869', 'https://archiveofourown.org/tags/Stranger%20Things%20(TV%202016)/works?page=870', 'https://archiveofourown.org/tags/Stranger%20Things%20(TV%202016)/works?page=871', 'https://archiveofourown.org/tags/Stranger%20Things%20(TV%202016)/works?page=872', 'https://archiveofourown.org/tags/Stranger%20Things%20(TV%202016)/works?page=873', 'https://archiveofourown.org/tags/Stranger%20Things%20(TV%202016)/works?page=874', 'https://archiveofourown.org/tags/Stranger%20Things%20(TV%202016)/works?page=875', 'https://archiveofourown.org/tags/Stranger%20Things%20(TV%202016)/works?page=876', 'https://archiveofourown.org/tags/Stranger%20Things%20(TV%202016)/works?page=877', 'https://archiveofourown.org/tags/Stranger%20Things%20(TV%202016)/works?page=878', 'https://archiveofourown.org/tags/Stranger%20Things%20(TV%202016)/works?page=879', 'https://archiveofourown.org/tags/Stranger%20Things%20(TV%202016)/works?page=880', 'https://archiveofourown.org/tags/Stranger%20Things%20(TV%202016)/works?page=881', 'https://archiveofourown.org/tags/Stranger%20Things%20(TV%202016)/works?page=882', 'https://archiveofourown.org/tags/Stranger%20Things%20(TV%202016)/works?page=883', 'https://archiveofourown.org/tags/Stranger%20Things%20(TV%202016)/works?page=884', 'https://archiveofourown.org/tags/Stranger%20Things%20(TV%202016)/works?page=885', 'https://archiveofourown.org/tags/Stranger%20Things%20(TV%202016)/works?page=886', 'https://archiveofourown.org/tags/Stranger%20Things%20(TV%202016)/works?page=887', 'https://archiveofourown.org/tags/Stranger%20Things%20(TV%202016)/works?page=888', 'https://archiveofourown.org/tags/Stranger%20Things%20(TV%202016)/works?page=889', 'https://archiveofourown.org/tags/Stranger%20Things%20(TV%202016)/works?page=890', 'https://archiveofourown.org/tags/Stranger%20Things%20(TV%202016)/works?page=891', 'https://archiveofourown.org/tags/Stranger%20Things%20(TV%202016)/works?page=892', 'https://archiveofourown.org/tags/Stranger%20Things%20(TV%202016)/works?page=893', 'https://archiveofourown.org/tags/Stranger%20Things%20(TV%202016)/works?page=894', 'https://archiveofourown.org/tags/Stranger%20Things%20(TV%202016)/works?page=895', 'https://archiveofourown.org/tags/Stranger%20Things%20(TV%202016)/works?page=896', 'https://archiveofourown.org/tags/Stranger%20Things%20(TV%202016)/works?page=897', 'https://archiveofourown.org/tags/Stranger%20Things%20(TV%202016)/works?page=898', 'https://archiveofourown.org/tags/Stranger%20Things%20(TV%202016)/works?page=899', 'https://archiveofourown.org/tags/Stranger%20Things%20(TV%202016)/works?page=900', 'https://archiveofourown.org/tags/Stranger%20Things%20(TV%202016)/works?page=901', 'https://archiveofourown.org/tags/Stranger%20Things%20(TV%202016)/works?page=902', 'https://archiveofourown.org/tags/Stranger%20Things%20(TV%202016)/works?page=903', 'https://archiveofourown.org/tags/Stranger%20Things%20(TV%202016)/works?page=904', 'https://archiveofourown.org/tags/Stranger%20Things%20(TV%202016)/works?page=905', 'https://archiveofourown.org/tags/Stranger%20Things%20(TV%202016)/works?page=906', 'https://archiveofourown.org/tags/Stranger%20Things%20(TV%202016)/works?page=907', 'https://archiveofourown.org/tags/Stranger%20Things%20(TV%202016)/works?page=908', 'https://archiveofourown.org/tags/Stranger%20Things%20(TV%202016)/works?page=909', 'https://archiveofourown.org/tags/Stranger%20Things%20(TV%202016)/works?page=910', 'https://archiveofourown.org/tags/Stranger%20Things%20(TV%202016)/works?page=911', 'https://archiveofourown.org/tags/Stranger%20Things%20(TV%202016)/works?page=912', 'https://archiveofourown.org/tags/Stranger%20Things%20(TV%202016)/works?page=913', 'https://archiveofourown.org/tags/Stranger%20Things%20(TV%202016)/works?page=914', 'https://archiveofourown.org/tags/Stranger%20Things%20(TV%202016)/works?page=915', 'https://archiveofourown.org/tags/Stranger%20Things%20(TV%202016)/works?page=916', 'https://archiveofourown.org/tags/Stranger%20Things%20(TV%202016)/works?page=917', 'https://archiveofourown.org/tags/Stranger%20Things%20(TV%202016)/works?page=918', 'https://archiveofourown.org/tags/Stranger%20Things%20(TV%202016)/works?page=919', 'https://archiveofourown.org/tags/Stranger%20Things%20(TV%202016)/works?page=920', 'https://archiveofourown.org/tags/Stranger%20Things%20(TV%202016)/works?page=921', 'https://archiveofourown.org/tags/Stranger%20Things%20(TV%202016)/works?page=922', 'https://archiveofourown.org/tags/Stranger%20Things%20(TV%202016)/works?page=923', 'https://archiveofourown.org/tags/Stranger%20Things%20(TV%202016)/works?page=924', 'https://archiveofourown.org/tags/Stranger%20Things%20(TV%202016)/works?page=925', 'https://archiveofourown.org/tags/Stranger%20Things%20(TV%202016)/works?page=926', 'https://archiveofourown.org/tags/Stranger%20Things%20(TV%202016)/works?page=927', 'https://archiveofourown.org/tags/Stranger%20Things%20(TV%202016)/works?page=928', 'https://archiveofourown.org/tags/Stranger%20Things%20(TV%202016)/works?page=929', 'https://archiveofourown.org/tags/Stranger%20Things%20(TV%202016)/works?page=930', 'https://archiveofourown.org/tags/Stranger%20Things%20(TV%202016)/works?page=931', 'https://archiveofourown.org/tags/Stranger%20Things%20(TV%202016)/works?page=932', 'https://archiveofourown.org/tags/Stranger%20Things%20(TV%202016)/works?page=933', 'https://archiveofourown.org/tags/Stranger%20Things%20(TV%202016)/works?page=934', 'https://archiveofourown.org/tags/Stranger%20Things%20(TV%202016)/works?page=935', 'https://archiveofourown.org/tags/Stranger%20Things%20(TV%202016)/works?page=936', 'https://archiveofourown.org/tags/Stranger%20Things%20(TV%202016)/works?page=937', 'https://archiveofourown.org/tags/Stranger%20Things%20(TV%202016)/works?page=938', 'https://archiveofourown.org/tags/Stranger%20Things%20(TV%202016)/works?page=939', 'https://archiveofourown.org/tags/Stranger%20Things%20(TV%202016)/works?page=940', 'https://archiveofourown.org/tags/Stranger%20Things%20(TV%202016)/works?page=941', 'https://archiveofourown.org/tags/Stranger%20Things%20(TV%202016)/works?page=942', 'https://archiveofourown.org/tags/Stranger%20Things%20(TV%202016)/works?page=943', 'https://archiveofourown.org/tags/Stranger%20Things%20(TV%202016)/works?page=944', 'https://archiveofourown.org/tags/Stranger%20Things%20(TV%202016)/works?page=945', 'https://archiveofourown.org/tags/Stranger%20Things%20(TV%202016)/works?page=946', 'https://archiveofourown.org/tags/Stranger%20Things%20(TV%202016)/works?page=947', 'https://archiveofourown.org/tags/Stranger%20Things%20(TV%202016)/works?page=948', 'https://archiveofourown.org/tags/Stranger%20Things%20(TV%202016)/works?page=949', 'https://archiveofourown.org/tags/Stranger%20Things%20(TV%202016)/works?page=950', 'https://archiveofourown.org/tags/Stranger%20Things%20(TV%202016)/works?page=951', 'https://archiveofourown.org/tags/Stranger%20Things%20(TV%202016)/works?page=952', 'https://archiveofourown.org/tags/Stranger%20Things%20(TV%202016)/works?page=953', 'https://archiveofourown.org/tags/Stranger%20Things%20(TV%202016)/works?page=954', 'https://archiveofourown.org/tags/Stranger%20Things%20(TV%202016)/works?page=955', 'https://archiveofourown.org/tags/Stranger%20Things%20(TV%202016)/works?page=956', 'https://archiveofourown.org/tags/Stranger%20Things%20(TV%202016)/works?page=957', 'https://archiveofourown.org/tags/Stranger%20Things%20(TV%202016)/works?page=958', 'https://archiveofourown.org/tags/Stranger%20Things%20(TV%202016)/works?page=959', 'https://archiveofourown.org/tags/Stranger%20Things%20(TV%202016)/works?page=960', 'https://archiveofourown.org/tags/Stranger%20Things%20(TV%202016)/works?page=961', 'https://archiveofourown.org/tags/Stranger%20Things%20(TV%202016)/works?page=962', 'https://archiveofourown.org/tags/Stranger%20Things%20(TV%202016)/works?page=963', 'https://archiveofourown.org/tags/Stranger%20Things%20(TV%202016)/works?page=964', 'https://archiveofourown.org/tags/Stranger%20Things%20(TV%202016)/works?page=965', 'https://archiveofourown.org/tags/Stranger%20Things%20(TV%202016)/works?page=966', 'https://archiveofourown.org/tags/Stranger%20Things%20(TV%202016)/works?page=967', 'https://archiveofourown.org/tags/Stranger%20Things%20(TV%202016)/works?page=968', 'https://archiveofourown.org/tags/Stranger%20Things%20(TV%202016)/works?page=969', 'https://archiveofourown.org/tags/Stranger%20Things%20(TV%202016)/works?page=970', 'https://archiveofourown.org/tags/Stranger%20Things%20(TV%202016)/works?page=971', 'https://archiveofourown.org/tags/Stranger%20Things%20(TV%202016)/works?page=972', 'https://archiveofourown.org/tags/Stranger%20Things%20(TV%202016)/works?page=973', 'https://archiveofourown.org/tags/Stranger%20Things%20(TV%202016)/works?page=974', 'https://archiveofourown.org/tags/Stranger%20Things%20(TV%202016)/works?page=975', 'https://archiveofourown.org/tags/Stranger%20Things%20(TV%202016)/works?page=976', 'https://archiveofourown.org/tags/Stranger%20Things%20(TV%202016)/works?page=977', 'https://archiveofourown.org/tags/Stranger%20Things%20(TV%202016)/works?page=978', 'https://archiveofourown.org/tags/Stranger%20Things%20(TV%202016)/works?page=979', 'https://archiveofourown.org/tags/Stranger%20Things%20(TV%202016)/works?page=980', 'https://archiveofourown.org/tags/Stranger%20Things%20(TV%202016)/works?page=981', 'https://archiveofourown.org/tags/Stranger%20Things%20(TV%202016)/works?page=982', 'https://archiveofourown.org/tags/Stranger%20Things%20(TV%202016)/works?page=983', 'https://archiveofourown.org/tags/Stranger%20Things%20(TV%202016)/works?page=984', 'https://archiveofourown.org/tags/Stranger%20Things%20(TV%202016)/works?page=985', 'https://archiveofourown.org/tags/Stranger%20Things%20(TV%202016)/works?page=986', 'https://archiveofourown.org/tags/Stranger%20Things%20(TV%202016)/works?page=987', 'https://archiveofourown.org/tags/Stranger%20Things%20(TV%202016)/works?page=988', 'https://archiveofourown.org/tags/Stranger%20Things%20(TV%202016)/works?page=989', 'https://archiveofourown.org/tags/Stranger%20Things%20(TV%202016)/works?page=990', 'https://archiveofourown.org/tags/Stranger%20Things%20(TV%202016)/works?page=991', 'https://archiveofourown.org/tags/Stranger%20Things%20(TV%202016)/works?page=992', 'https://archiveofourown.org/tags/Stranger%20Things%20(TV%202016)/works?page=993', 'https://archiveofourown.org/tags/Stranger%20Things%20(TV%202016)/works?page=994', 'https://archiveofourown.org/tags/Stranger%20Things%20(TV%202016)/works?page=995', 'https://archiveofourown.org/tags/Stranger%20Things%20(TV%202016)/works?page=996', 'https://archiveofourown.org/tags/Stranger%20Things%20(TV%202016)/works?page=997', 'https://archiveofourown.org/tags/Stranger%20Things%20(TV%202016)/works?page=998', 'https://archiveofourown.org/tags/Stranger%20Things%20(TV%202016)/works?page=999', 'https://archiveofourown.org/tags/Stranger%20Things%20(TV%202016)/works?page=1000', 'https://archiveofourown.org/tags/Stranger%20Things%20(TV%202016)/works?page=1001', 'https://archiveofourown.org/tags/Stranger%20Things%20(TV%202016)/works?page=1002', 'https://archiveofourown.org/tags/Stranger%20Things%20(TV%202016)/works?page=1003', 'https://archiveofourown.org/tags/Stranger%20Things%20(TV%202016)/works?page=1004', 'https://archiveofourown.org/tags/Stranger%20Things%20(TV%202016)/works?page=1005', 'https://archiveofourown.org/tags/Stranger%20Things%20(TV%202016)/works?page=1006', 'https://archiveofourown.org/tags/Stranger%20Things%20(TV%202016)/works?page=1007', 'https://archiveofourown.org/tags/Stranger%20Things%20(TV%202016)/works?page=1008', 'https://archiveofourown.org/tags/Stranger%20Things%20(TV%202016)/works?page=1009', 'https://archiveofourown.org/tags/Stranger%20Things%20(TV%202016)/works?page=1010', 'https://archiveofourown.org/tags/Stranger%20Things%20(TV%202016)/works?page=1011', 'https://archiveofourown.org/tags/Stranger%20Things%20(TV%202016)/works?page=1012', 'https://archiveofourown.org/tags/Stranger%20Things%20(TV%202016)/works?page=1013', 'https://archiveofourown.org/tags/Stranger%20Things%20(TV%202016)/works?page=1014', 'https://archiveofourown.org/tags/Stranger%20Things%20(TV%202016)/works?page=1015', 'https://archiveofourown.org/tags/Stranger%20Things%20(TV%202016)/works?page=1016', 'https://archiveofourown.org/tags/Stranger%20Things%20(TV%202016)/works?page=1017', 'https://archiveofourown.org/tags/Stranger%20Things%20(TV%202016)/works?page=1018', 'https://archiveofourown.org/tags/Stranger%20Things%20(TV%202016)/works?page=1019', 'https://archiveofourown.org/tags/Stranger%20Things%20(TV%202016)/works?page=1020', 'https://archiveofourown.org/tags/Stranger%20Things%20(TV%202016)/works?page=1021', 'https://archiveofourown.org/tags/Stranger%20Things%20(TV%202016)/works?page=1022', 'https://archiveofourown.org/tags/Stranger%20Things%20(TV%202016)/works?page=1023', 'https://archiveofourown.org/tags/Stranger%20Things%20(TV%202016)/works?page=1024', 'https://archiveofourown.org/tags/Stranger%20Things%20(TV%202016)/works?page=1025', 'https://archiveofourown.org/tags/Stranger%20Things%20(TV%202016)/works?page=1026', 'https://archiveofourown.org/tags/Stranger%20Things%20(TV%202016)/works?page=1027', 'https://archiveofourown.org/tags/Stranger%20Things%20(TV%202016)/works?page=1028', 'https://archiveofourown.org/tags/Stranger%20Things%20(TV%202016)/works?page=1029', 'https://archiveofourown.org/tags/Stranger%20Things%20(TV%202016)/works?page=1030', 'https://archiveofourown.org/tags/Stranger%20Things%20(TV%202016)/works?page=1031', 'https://archiveofourown.org/tags/Stranger%20Things%20(TV%202016)/works?page=1032', 'https://archiveofourown.org/tags/Stranger%20Things%20(TV%202016)/works?page=1033', 'https://archiveofourown.org/tags/Stranger%20Things%20(TV%202016)/works?page=1034', 'https://archiveofourown.org/tags/Stranger%20Things%20(TV%202016)/works?page=1035', 'https://archiveofourown.org/tags/Stranger%20Things%20(TV%202016)/works?page=1036', 'https://archiveofourown.org/tags/Stranger%20Things%20(TV%202016)/works?page=1037', 'https://archiveofourown.org/tags/Stranger%20Things%20(TV%202016)/works?page=1038', 'https://archiveofourown.org/tags/Stranger%20Things%20(TV%202016)/works?page=1039', 'https://archiveofourown.org/tags/Stranger%20Things%20(TV%202016)/works?page=1040', 'https://archiveofourown.org/tags/Stranger%20Things%20(TV%202016)/works?page=1041', 'https://archiveofourown.org/tags/Stranger%20Things%20(TV%202016)/works?page=1042', 'https://archiveofourown.org/tags/Stranger%20Things%20(TV%202016)/works?page=1043', 'https://archiveofourown.org/tags/Stranger%20Things%20(TV%202016)/works?page=1044', 'https://archiveofourown.org/tags/Stranger%20Things%20(TV%202016)/works?page=1045', 'https://archiveofourown.org/tags/Stranger%20Things%20(TV%202016)/works?page=1046', 'https://archiveofourown.org/tags/Stranger%20Things%20(TV%202016)/works?page=1047', 'https://archiveofourown.org/tags/Stranger%20Things%20(TV%202016)/works?page=1048', 'https://archiveofourown.org/tags/Stranger%20Things%20(TV%202016)/works?page=1049', 'https://archiveofourown.org/tags/Stranger%20Things%20(TV%202016)/works?page=1050', 'https://archiveofourown.org/tags/Stranger%20Things%20(TV%202016)/works?page=1051', 'https://archiveofourown.org/tags/Stranger%20Things%20(TV%202016)/works?page=1052', 'https://archiveofourown.org/tags/Stranger%20Things%20(TV%202016)/works?page=1053', 'https://archiveofourown.org/tags/Stranger%20Things%20(TV%202016)/works?page=1054', 'https://archiveofourown.org/tags/Stranger%20Things%20(TV%202016)/works?page=1055', 'https://archiveofourown.org/tags/Stranger%20Things%20(TV%202016)/works?page=1056', 'https://archiveofourown.org/tags/Stranger%20Things%20(TV%202016)/works?page=1057', 'https://archiveofourown.org/tags/Stranger%20Things%20(TV%202016)/works?page=1058', 'https://archiveofourown.org/tags/Stranger%20Things%20(TV%202016)/works?page=1059', 'https://archiveofourown.org/tags/Stranger%20Things%20(TV%202016)/works?page=1060', 'https://archiveofourown.org/tags/Stranger%20Things%20(TV%202016)/works?page=1061', 'https://archiveofourown.org/tags/Stranger%20Things%20(TV%202016)/works?page=1062', 'https://archiveofourown.org/tags/Stranger%20Things%20(TV%202016)/works?page=1063', 'https://archiveofourown.org/tags/Stranger%20Things%20(TV%202016)/works?page=1064', 'https://archiveofourown.org/tags/Stranger%20Things%20(TV%202016)/works?page=1065', 'https://archiveofourown.org/tags/Stranger%20Things%20(TV%202016)/works?page=1066', 'https://archiveofourown.org/tags/Stranger%20Things%20(TV%202016)/works?page=1067', 'https://archiveofourown.org/tags/Stranger%20Things%20(TV%202016)/works?page=1068', 'https://archiveofourown.org/tags/Stranger%20Things%20(TV%202016)/works?page=1069', 'https://archiveofourown.org/tags/Stranger%20Things%20(TV%202016)/works?page=1070', 'https://archiveofourown.org/tags/Stranger%20Things%20(TV%202016)/works?page=1071', 'https://archiveofourown.org/tags/Stranger%20Things%20(TV%202016)/works?page=1072', 'https://archiveofourown.org/tags/Stranger%20Things%20(TV%202016)/works?page=1073', 'https://archiveofourown.org/tags/Stranger%20Things%20(TV%202016)/works?page=1074', 'https://archiveofourown.org/tags/Stranger%20Things%20(TV%202016)/works?page=1075', 'https://archiveofourown.org/tags/Stranger%20Things%20(TV%202016)/works?page=1076', 'https://archiveofourown.org/tags/Stranger%20Things%20(TV%202016)/works?page=1077', 'https://archiveofourown.org/tags/Stranger%20Things%20(TV%202016)/works?page=1078', 'https://archiveofourown.org/tags/Stranger%20Things%20(TV%202016)/works?page=1079', 'https://archiveofourown.org/tags/Stranger%20Things%20(TV%202016)/works?page=1080', 'https://archiveofourown.org/tags/Stranger%20Things%20(TV%202016)/works?page=1081', 'https://archiveofourown.org/tags/Stranger%20Things%20(TV%202016)/works?page=1082', 'https://archiveofourown.org/tags/Stranger%20Things%20(TV%202016)/works?page=1083', 'https://archiveofourown.org/tags/Stranger%20Things%20(TV%202016)/works?page=1084', 'https://archiveofourown.org/tags/Stranger%20Things%20(TV%202016)/works?page=1085', 'https://archiveofourown.org/tags/Stranger%20Things%20(TV%202016)/works?page=1086', 'https://archiveofourown.org/tags/Stranger%20Things%20(TV%202016)/works?page=1087', 'https://archiveofourown.org/tags/Stranger%20Things%20(TV%202016)/works?page=1088', 'https://archiveofourown.org/tags/Stranger%20Things%20(TV%202016)/works?page=1089', 'https://archiveofourown.org/tags/Stranger%20Things%20(TV%202016)/works?page=1090', 'https://archiveofourown.org/tags/Stranger%20Things%20(TV%202016)/works?page=1091', 'https://archiveofourown.org/tags/Stranger%20Things%20(TV%202016)/works?page=1092', 'https://archiveofourown.org/tags/Stranger%20Things%20(TV%202016)/works?page=1093', 'https://archiveofourown.org/tags/Stranger%20Things%20(TV%202016)/works?page=1094', 'https://archiveofourown.org/tags/Stranger%20Things%20(TV%202016)/works?page=1095', 'https://archiveofourown.org/tags/Stranger%20Things%20(TV%202016)/works?page=1096', 'https://archiveofourown.org/tags/Stranger%20Things%20(TV%202016)/works?page=1097', 'https://archiveofourown.org/tags/Stranger%20Things%20(TV%202016)/works?page=1098', 'https://archiveofourown.org/tags/Stranger%20Things%20(TV%202016)/works?page=1099', 'https://archiveofourown.org/tags/Stranger%20Things%20(TV%202016)/works?page=1100', 'https://archiveofourown.org/tags/Stranger%20Things%20(TV%202016)/works?page=1101', 'https://archiveofourown.org/tags/Stranger%20Things%20(TV%202016)/works?page=1102', 'https://archiveofourown.org/tags/Stranger%20Things%20(TV%202016)/works?page=1103', 'https://archiveofourown.org/tags/Stranger%20Things%20(TV%202016)/works?page=1104', 'https://archiveofourown.org/tags/Stranger%20Things%20(TV%202016)/works?page=1105', 'https://archiveofourown.org/tags/Stranger%20Things%20(TV%202016)/works?page=1106', 'https://archiveofourown.org/tags/Stranger%20Things%20(TV%202016)/works?page=1107', 'https://archiveofourown.org/tags/Stranger%20Things%20(TV%202016)/works?page=1108', 'https://archiveofourown.org/tags/Stranger%20Things%20(TV%202016)/works?page=1109', 'https://archiveofourown.org/tags/Stranger%20Things%20(TV%202016)/works?page=1110', 'https://archiveofourown.org/tags/Stranger%20Things%20(TV%202016)/works?page=1111', 'https://archiveofourown.org/tags/Stranger%20Things%20(TV%202016)/works?page=1112', 'https://archiveofourown.org/tags/Stranger%20Things%20(TV%202016)/works?page=1113', 'https://archiveofourown.org/tags/Stranger%20Things%20(TV%202016)/works?page=1114', 'https://archiveofourown.org/tags/Stranger%20Things%20(TV%202016)/works?page=1115', 'https://archiveofourown.org/tags/Stranger%20Things%20(TV%202016)/works?page=1116', 'https://archiveofourown.org/tags/Stranger%20Things%20(TV%202016)/works?page=1117', 'https://archiveofourown.org/tags/Stranger%20Things%20(TV%202016)/works?page=1118', 'https://archiveofourown.org/tags/Stranger%20Things%20(TV%202016)/works?page=1119', 'https://archiveofourown.org/tags/Stranger%20Things%20(TV%202016)/works?page=1120', 'https://archiveofourown.org/tags/Stranger%20Things%20(TV%202016)/works?page=1121', 'https://archiveofourown.org/tags/Stranger%20Things%20(TV%202016)/works?page=1122', 'https://archiveofourown.org/tags/Stranger%20Things%20(TV%202016)/works?page=1123', 'https://archiveofourown.org/tags/Stranger%20Things%20(TV%202016)/works?page=1124', 'https://archiveofourown.org/tags/Stranger%20Things%20(TV%202016)/works?page=1125', 'https://archiveofourown.org/tags/Stranger%20Things%20(TV%202016)/works?page=1126', 'https://archiveofourown.org/tags/Stranger%20Things%20(TV%202016)/works?page=1127', 'https://archiveofourown.org/tags/Stranger%20Things%20(TV%202016)/works?page=1128', 'https://archiveofourown.org/tags/Stranger%20Things%20(TV%202016)/works?page=1129', 'https://archiveofourown.org/tags/Stranger%20Things%20(TV%202016)/works?page=1130', 'https://archiveofourown.org/tags/Stranger%20Things%20(TV%202016)/works?page=1131', 'https://archiveofourown.org/tags/Stranger%20Things%20(TV%202016)/works?page=1132', 'https://archiveofourown.org/tags/Stranger%20Things%20(TV%202016)/works?page=1133', 'https://archiveofourown.org/tags/Stranger%20Things%20(TV%202016)/works?page=1134', 'https://archiveofourown.org/tags/Stranger%20Things%20(TV%202016)/works?page=1135', 'https://archiveofourown.org/tags/Stranger%20Things%20(TV%202016)/works?page=1136', 'https://archiveofourown.org/tags/Stranger%20Things%20(TV%202016)/works?page=1137', 'https://archiveofourown.org/tags/Stranger%20Things%20(TV%202016)/works?page=1138', 'https://archiveofourown.org/tags/Stranger%20Things%20(TV%202016)/works?page=1139', 'https://archiveofourown.org/tags/Stranger%20Things%20(TV%202016)/works?page=1140', 'https://archiveofourown.org/tags/Stranger%20Things%20(TV%202016)/works?page=1141', 'https://archiveofourown.org/tags/Stranger%20Things%20(TV%202016)/works?page=1142', 'https://archiveofourown.org/tags/Stranger%20Things%20(TV%202016)/works?page=1143', 'https://archiveofourown.org/tags/Stranger%20Things%20(TV%202016)/works?page=1144', 'https://archiveofourown.org/tags/Stranger%20Things%20(TV%202016)/works?page=1145', 'https://archiveofourown.org/tags/Stranger%20Things%20(TV%202016)/works?page=1146', 'https://archiveofourown.org/tags/Stranger%20Things%20(TV%202016)/works?page=1147', 'https://archiveofourown.org/tags/Stranger%20Things%20(TV%202016)/works?page=1148', 'https://archiveofourown.org/tags/Stranger%20Things%20(TV%202016)/works?page=1149', 'https://archiveofourown.org/tags/Stranger%20Things%20(TV%202016)/works?page=1150', 'https://archiveofourown.org/tags/Stranger%20Things%20(TV%202016)/works?page=1151', 'https://archiveofourown.org/tags/Stranger%20Things%20(TV%202016)/works?page=1152', 'https://archiveofourown.org/tags/Stranger%20Things%20(TV%202016)/works?page=1153', 'https://archiveofourown.org/tags/Stranger%20Things%20(TV%202016)/works?page=1154', 'https://archiveofourown.org/tags/Stranger%20Things%20(TV%202016)/works?page=1155', 'https://archiveofourown.org/tags/Stranger%20Things%20(TV%202016)/works?page=1156', 'https://archiveofourown.org/tags/Stranger%20Things%20(TV%202016)/works?page=1157', 'https://archiveofourown.org/tags/Stranger%20Things%20(TV%202016)/works?page=1158', 'https://archiveofourown.org/tags/Stranger%20Things%20(TV%202016)/works?page=1159', 'https://archiveofourown.org/tags/Stranger%20Things%20(TV%202016)/works?page=1160', 'https://archiveofourown.org/tags/Stranger%20Things%20(TV%202016)/works?page=1161', 'https://archiveofourown.org/tags/Stranger%20Things%20(TV%202016)/works?page=1162', 'https://archiveofourown.org/tags/Stranger%20Things%20(TV%202016)/works?page=1163', 'https://archiveofourown.org/tags/Stranger%20Things%20(TV%202016)/works?page=1164', 'https://archiveofourown.org/tags/Stranger%20Things%20(TV%202016)/works?page=1165', 'https://archiveofourown.org/tags/Stranger%20Things%20(TV%202016)/works?page=1166', 'https://archiveofourown.org/tags/Stranger%20Things%20(TV%202016)/works?page=1167', 'https://archiveofourown.org/tags/Stranger%20Things%20(TV%202016)/works?page=1168', 'https://archiveofourown.org/tags/Stranger%20Things%20(TV%202016)/works?page=1169', 'https://archiveofourown.org/tags/Stranger%20Things%20(TV%202016)/works?page=1170', 'https://archiveofourown.org/tags/Stranger%20Things%20(TV%202016)/works?page=1171', 'https://archiveofourown.org/tags/Stranger%20Things%20(TV%202016)/works?page=1172', 'https://archiveofourown.org/tags/Stranger%20Things%20(TV%202016)/works?page=1173', 'https://archiveofourown.org/tags/Stranger%20Things%20(TV%202016)/works?page=1174', 'https://archiveofourown.org/tags/Stranger%20Things%20(TV%202016)/works?page=1175', 'https://archiveofourown.org/tags/Stranger%20Things%20(TV%202016)/works?page=1176', 'https://archiveofourown.org/tags/Stranger%20Things%20(TV%202016)/works?page=1177', 'https://archiveofourown.org/tags/Stranger%20Things%20(TV%202016)/works?page=1178', 'https://archiveofourown.org/tags/Stranger%20Things%20(TV%202016)/works?page=1179', 'https://archiveofourown.org/tags/Stranger%20Things%20(TV%202016)/works?page=1180', 'https://archiveofourown.org/tags/Stranger%20Things%20(TV%202016)/works?page=1181', 'https://archiveofourown.org/tags/Stranger%20Things%20(TV%202016)/works?page=1182', 'https://archiveofourown.org/tags/Stranger%20Things%20(TV%202016)/works?page=1183', 'https://archiveofourown.org/tags/Stranger%20Things%20(TV%202016)/works?page=1184', 'https://archiveofourown.org/tags/Stranger%20Things%20(TV%202016)/works?page=1185', 'https://archiveofourown.org/tags/Stranger%20Things%20(TV%202016)/works?page=1186', 'https://archiveofourown.org/tags/Stranger%20Things%20(TV%202016)/works?page=1187', 'https://archiveofourown.org/tags/Stranger%20Things%20(TV%202016)/works?page=1188', 'https://archiveofourown.org/tags/Stranger%20Things%20(TV%202016)/works?page=1189', 'https://archiveofourown.org/tags/Stranger%20Things%20(TV%202016)/works?page=1190', 'https://archiveofourown.org/tags/Stranger%20Things%20(TV%202016)/works?page=1191', 'https://archiveofourown.org/tags/Stranger%20Things%20(TV%202016)/works?page=1192', 'https://archiveofourown.org/tags/Stranger%20Things%20(TV%202016)/works?page=1193', 'https://archiveofourown.org/tags/Stranger%20Things%20(TV%202016)/works?page=1194', 'https://archiveofourown.org/tags/Stranger%20Things%20(TV%202016)/works?page=1195', 'https://archiveofourown.org/tags/Stranger%20Things%20(TV%202016)/works?page=1196', 'https://archiveofourown.org/tags/Stranger%20Things%20(TV%202016)/works?page=1197', 'https://archiveofourown.org/tags/Stranger%20Things%20(TV%202016)/works?page=1198', 'https://archiveofourown.org/tags/Stranger%20Things%20(TV%202016)/works?page=1199', 'https://archiveofourown.org/tags/Stranger%20Things%20(TV%202016)/works?page=1200', 'https://archiveofourown.org/tags/Stranger%20Things%20(TV%202016)/works?page=1201', 'https://archiveofourown.org/tags/Stranger%20Things%20(TV%202016)/works?page=1202', 'https://archiveofourown.org/tags/Stranger%20Things%20(TV%202016)/works?page=1203', 'https://archiveofourown.org/tags/Stranger%20Things%20(TV%202016)/works?page=1204', 'https://archiveofourown.org/tags/Stranger%20Things%20(TV%202016)/works?page=1205', 'https://archiveofourown.org/tags/Stranger%20Things%20(TV%202016)/works?page=1206', 'https://archiveofourown.org/tags/Stranger%20Things%20(TV%202016)/works?page=1207', 'https://archiveofourown.org/tags/Stranger%20Things%20(TV%202016)/works?page=1208', 'https://archiveofourown.org/tags/Stranger%20Things%20(TV%202016)/works?page=1209', 'https://archiveofourown.org/tags/Stranger%20Things%20(TV%202016)/works?page=1210', 'https://archiveofourown.org/tags/Stranger%20Things%20(TV%202016)/works?page=1211', 'https://archiveofourown.org/tags/Stranger%20Things%20(TV%202016)/works?page=1212', 'https://archiveofourown.org/tags/Stranger%20Things%20(TV%202016)/works?page=1213', 'https://archiveofourown.org/tags/Stranger%20Things%20(TV%202016)/works?page=1214', 'https://archiveofourown.org/tags/Stranger%20Things%20(TV%202016)/works?page=1215', 'https://archiveofourown.org/tags/Stranger%20Things%20(TV%202016)/works?page=1216', 'https://archiveofourown.org/tags/Stranger%20Things%20(TV%202016)/works?page=1217', 'https://archiveofourown.org/tags/Stranger%20Things%20(TV%202016)/works?page=1218', 'https://archiveofourown.org/tags/Stranger%20Things%20(TV%202016)/works?page=1219', 'https://archiveofourown.org/tags/Stranger%20Things%20(TV%202016)/works?page=1220', 'https://archiveofourown.org/tags/Stranger%20Things%20(TV%202016)/works?page=1221', 'https://archiveofourown.org/tags/Stranger%20Things%20(TV%202016)/works?page=1222', 'https://archiveofourown.org/tags/Stranger%20Things%20(TV%202016)/works?page=1223', 'https://archiveofourown.org/tags/Stranger%20Things%20(TV%202016)/works?page=1224', 'https://archiveofourown.org/tags/Stranger%20Things%20(TV%202016)/works?page=1225', 'https://archiveofourown.org/tags/Stranger%20Things%20(TV%202016)/works?page=1226', 'https://archiveofourown.org/tags/Stranger%20Things%20(TV%202016)/works?page=1227', 'https://archiveofourown.org/tags/Stranger%20Things%20(TV%202016)/works?page=1228', 'https://archiveofourown.org/tags/Stranger%20Things%20(TV%202016)/works?page=1229', 'https://archiveofourown.org/tags/Stranger%20Things%20(TV%202016)/works?page=1230', 'https://archiveofourown.org/tags/Stranger%20Things%20(TV%202016)/works?page=1231', 'https://archiveofourown.org/tags/Stranger%20Things%20(TV%202016)/works?page=1232', 'https://archiveofourown.org/tags/Stranger%20Things%20(TV%202016)/works?page=1233', 'https://archiveofourown.org/tags/Stranger%20Things%20(TV%202016)/works?page=1234', 'https://archiveofourown.org/tags/Stranger%20Things%20(TV%202016)/works?page=1235', 'https://archiveofourown.org/tags/Stranger%20Things%20(TV%202016)/works?page=1236', 'https://archiveofourown.org/tags/Stranger%20Things%20(TV%202016)/works?page=1237', 'https://archiveofourown.org/tags/Stranger%20Things%20(TV%202016)/works?page=1238', 'https://archiveofourown.org/tags/Stranger%20Things%20(TV%202016)/works?page=1239', 'https://archiveofourown.org/tags/Stranger%20Things%20(TV%202016)/works?page=1240', 'https://archiveofourown.org/tags/Stranger%20Things%20(TV%202016)/works?page=1241', 'https://archiveofourown.org/tags/Stranger%20Things%20(TV%202016)/works?page=1242', 'https://archiveofourown.org/tags/Stranger%20Things%20(TV%202016)/works?page=1243', 'https://archiveofourown.org/tags/Stranger%20Things%20(TV%202016)/works?page=1244', 'https://archiveofourown.org/tags/Stranger%20Things%20(TV%202016)/works?page=1245', 'https://archiveofourown.org/tags/Stranger%20Things%20(TV%202016)/works?page=1246', 'https://archiveofourown.org/tags/Stranger%20Things%20(TV%202016)/works?page=1247', 'https://archiveofourown.org/tags/Stranger%20Things%20(TV%202016)/works?page=1248', 'https://archiveofourown.org/tags/Stranger%20Things%20(TV%202016)/works?page=1249', 'https://archiveofourown.org/tags/Stranger%20Things%20(TV%202016)/works?page=1250', 'https://archiveofourown.org/tags/Stranger%20Things%20(TV%202016)/works?page=1251', 'https://archiveofourown.org/tags/Stranger%20Things%20(TV%202016)/works?page=1252', 'https://archiveofourown.org/tags/Stranger%20Things%20(TV%202016)/works?page=1253', 'https://archiveofourown.org/tags/Stranger%20Things%20(TV%202016)/works?page=1254', 'https://archiveofourown.org/tags/Stranger%20Things%20(TV%202016)/works?page=1255', 'https://archiveofourown.org/tags/Stranger%20Things%20(TV%202016)/works?page=1256', 'https://archiveofourown.org/tags/Stranger%20Things%20(TV%202016)/works?page=1257', 'https://archiveofourown.org/tags/Stranger%20Things%20(TV%202016)/works?page=1258', 'https://archiveofourown.org/tags/Stranger%20Things%20(TV%202016)/works?page=1259', 'https://archiveofourown.org/tags/Stranger%20Things%20(TV%202016)/works?page=1260', 'https://archiveofourown.org/tags/Stranger%20Things%20(TV%202016)/works?page=1261', 'https://archiveofourown.org/tags/Stranger%20Things%20(TV%202016)/works?page=1262', 'https://archiveofourown.org/tags/Stranger%20Things%20(TV%202016)/works?page=1263', 'https://archiveofourown.org/tags/Stranger%20Things%20(TV%202016)/works?page=1264', 'https://archiveofourown.org/tags/Stranger%20Things%20(TV%202016)/works?page=1265', 'https://archiveofourown.org/tags/Stranger%20Things%20(TV%202016)/works?page=1266', 'https://archiveofourown.org/tags/Stranger%20Things%20(TV%202016)/works?page=1267', 'https://archiveofourown.org/tags/Stranger%20Things%20(TV%202016)/works?page=1268', 'https://archiveofourown.org/tags/Stranger%20Things%20(TV%202016)/works?page=1269', 'https://archiveofourown.org/tags/Stranger%20Things%20(TV%202016)/works?page=1270', 'https://archiveofourown.org/tags/Stranger%20Things%20(TV%202016)/works?page=1271', 'https://archiveofourown.org/tags/Stranger%20Things%20(TV%202016)/works?page=1272', 'https://archiveofourown.org/tags/Stranger%20Things%20(TV%202016)/works?page=1273', 'https://archiveofourown.org/tags/Stranger%20Things%20(TV%202016)/works?page=1274', 'https://archiveofourown.org/tags/Stranger%20Things%20(TV%202016)/works?page=1275', 'https://archiveofourown.org/tags/Stranger%20Things%20(TV%202016)/works?page=1276', 'https://archiveofourown.org/tags/Stranger%20Things%20(TV%202016)/works?page=1277', 'https://archiveofourown.org/tags/Stranger%20Things%20(TV%202016)/works?page=1278', 'https://archiveofourown.org/tags/Stranger%20Things%20(TV%202016)/works?page=1279', 'https://archiveofourown.org/tags/Stranger%20Things%20(TV%202016)/works?page=1280', 'https://archiveofourown.org/tags/Stranger%20Things%20(TV%202016)/works?page=1281', 'https://archiveofourown.org/tags/Stranger%20Things%20(TV%202016)/works?page=1282', 'https://archiveofourown.org/tags/Stranger%20Things%20(TV%202016)/works?page=1283', 'https://archiveofourown.org/tags/Stranger%20Things%20(TV%202016)/works?page=1284', 'https://archiveofourown.org/tags/Stranger%20Things%20(TV%202016)/works?page=1285', 'https://archiveofourown.org/tags/Stranger%20Things%20(TV%202016)/works?page=1286', 'https://archiveofourown.org/tags/Stranger%20Things%20(TV%202016)/works?page=1287', 'https://archiveofourown.org/tags/Stranger%20Things%20(TV%202016)/works?page=1288', 'https://archiveofourown.org/tags/Stranger%20Things%20(TV%202016)/works?page=1289', 'https://archiveofourown.org/tags/Stranger%20Things%20(TV%202016)/works?page=1290', 'https://archiveofourown.org/tags/Stranger%20Things%20(TV%202016)/works?page=1291', 'https://archiveofourown.org/tags/Stranger%20Things%20(TV%202016)/works?page=1292', 'https://archiveofourown.org/tags/Stranger%20Things%20(TV%202016)/works?page=1293', 'https://archiveofourown.org/tags/Stranger%20Things%20(TV%202016)/works?page=1294', 'https://archiveofourown.org/tags/Stranger%20Things%20(TV%202016)/works?page=1295', 'https://archiveofourown.org/tags/Stranger%20Things%20(TV%202016)/works?page=1296', 'https://archiveofourown.org/tags/Stranger%20Things%20(TV%202016)/works?page=1297', 'https://archiveofourown.org/tags/Stranger%20Things%20(TV%202016)/works?page=1298', 'https://archiveofourown.org/tags/Stranger%20Things%20(TV%202016)/works?page=1299', 'https://archiveofourown.org/tags/Stranger%20Things%20(TV%202016)/works?page=1300', 'https://archiveofourown.org/tags/Stranger%20Things%20(TV%202016)/works?page=1301', 'https://archiveofourown.org/tags/Stranger%20Things%20(TV%202016)/works?page=1302', 'https://archiveofourown.org/tags/Stranger%20Things%20(TV%202016)/works?page=1303', 'https://archiveofourown.org/tags/Stranger%20Things%20(TV%202016)/works?page=1304', 'https://archiveofourown.org/tags/Stranger%20Things%20(TV%202016)/works?page=1305', 'https://archiveofourown.org/tags/Stranger%20Things%20(TV%202016)/works?page=1306', 'https://archiveofourown.org/tags/Stranger%20Things%20(TV%202016)/works?page=1307', 'https://archiveofourown.org/tags/Stranger%20Things%20(TV%202016)/works?page=1308', 'https://archiveofourown.org/tags/Stranger%20Things%20(TV%202016)/works?page=1309', 'https://archiveofourown.org/tags/Stranger%20Things%20(TV%202016)/works?page=1310', 'https://archiveofourown.org/tags/Stranger%20Things%20(TV%202016)/works?page=1311', 'https://archiveofourown.org/tags/Stranger%20Things%20(TV%202016)/works?page=1312', 'https://archiveofourown.org/tags/Stranger%20Things%20(TV%202016)/works?page=1313', 'https://archiveofourown.org/tags/Stranger%20Things%20(TV%202016)/works?page=1314', 'https://archiveofourown.org/tags/Stranger%20Things%20(TV%202016)/works?page=1315', 'https://archiveofourown.org/tags/Stranger%20Things%20(TV%202016)/works?page=1316', 'https://archiveofourown.org/tags/Stranger%20Things%20(TV%202016)/works?page=1317', 'https://archiveofourown.org/tags/Stranger%20Things%20(TV%202016)/works?page=1318', 'https://archiveofourown.org/tags/Stranger%20Things%20(TV%202016)/works?page=1319', 'https://archiveofourown.org/tags/Stranger%20Things%20(TV%202016)/works?page=1320', 'https://archiveofourown.org/tags/Stranger%20Things%20(TV%202016)/works?page=1321', 'https://archiveofourown.org/tags/Stranger%20Things%20(TV%202016)/works?page=1322', 'https://archiveofourown.org/tags/Stranger%20Things%20(TV%202016)/works?page=1323', 'https://archiveofourown.org/tags/Stranger%20Things%20(TV%202016)/works?page=1324', 'https://archiveofourown.org/tags/Stranger%20Things%20(TV%202016)/works?page=1325', 'https://archiveofourown.org/tags/Stranger%20Things%20(TV%202016)/works?page=1326', 'https://archiveofourown.org/tags/Stranger%20Things%20(TV%202016)/works?page=1327', 'https://archiveofourown.org/tags/Stranger%20Things%20(TV%202016)/works?page=1328', 'https://archiveofourown.org/tags/Stranger%20Things%20(TV%202016)/works?page=1329', 'https://archiveofourown.org/tags/Stranger%20Things%20(TV%202016)/works?page=1330', 'https://archiveofourown.org/tags/Stranger%20Things%20(TV%202016)/works?page=1331', 'https://archiveofourown.org/tags/Stranger%20Things%20(TV%202016)/works?page=1332', 'https://archiveofourown.org/tags/Stranger%20Things%20(TV%202016)/works?page=1333', 'https://archiveofourown.org/tags/Stranger%20Things%20(TV%202016)/works?page=1334', 'https://archiveofourown.org/tags/Stranger%20Things%20(TV%202016)/works?page=1335', 'https://archiveofourown.org/tags/Stranger%20Things%20(TV%202016)/works?page=1336', 'https://archiveofourown.org/tags/Stranger%20Things%20(TV%202016)/works?page=1337', 'https://archiveofourown.org/tags/Stranger%20Things%20(TV%202016)/works?page=1338', 'https://archiveofourown.org/tags/Stranger%20Things%20(TV%202016)/works?page=1339', 'https://archiveofourown.org/tags/Stranger%20Things%20(TV%202016)/works?page=1340', 'https://archiveofourown.org/tags/Stranger%20Things%20(TV%202016)/works?page=1341', 'https://archiveofourown.org/tags/Stranger%20Things%20(TV%202016)/works?page=1342', 'https://archiveofourown.org/tags/Stranger%20Things%20(TV%202016)/works?page=1343', 'https://archiveofourown.org/tags/Stranger%20Things%20(TV%202016)/works?page=1344', 'https://archiveofourown.org/tags/Stranger%20Things%20(TV%202016)/works?page=1345', 'https://archiveofourown.org/tags/Stranger%20Things%20(TV%202016)/works?page=1346', 'https://archiveofourown.org/tags/Stranger%20Things%20(TV%202016)/works?page=1347', 'https://archiveofourown.org/tags/Stranger%20Things%20(TV%202016)/works?page=1348', 'https://archiveofourown.org/tags/Stranger%20Things%20(TV%202016)/works?page=1349', 'https://archiveofourown.org/tags/Stranger%20Things%20(TV%202016)/works?page=1350', 'https://archiveofourown.org/tags/Stranger%20Things%20(TV%202016)/works?page=1351', 'https://archiveofourown.org/tags/Stranger%20Things%20(TV%202016)/works?page=1352', 'https://archiveofourown.org/tags/Stranger%20Things%20(TV%202016)/works?page=1353', 'https://archiveofourown.org/tags/Stranger%20Things%20(TV%202016)/works?page=1354', 'https://archiveofourown.org/tags/Stranger%20Things%20(TV%202016)/works?page=1355', 'https://archiveofourown.org/tags/Stranger%20Things%20(TV%202016)/works?page=1356', 'https://archiveofourown.org/tags/Stranger%20Things%20(TV%202016)/works?page=1357', 'https://archiveofourown.org/tags/Stranger%20Things%20(TV%202016)/works?page=1358', 'https://archiveofourown.org/tags/Stranger%20Things%20(TV%202016)/works?page=1359', 'https://archiveofourown.org/tags/Stranger%20Things%20(TV%202016)/works?page=1360', 'https://archiveofourown.org/tags/Stranger%20Things%20(TV%202016)/works?page=1361', 'https://archiveofourown.org/tags/Stranger%20Things%20(TV%202016)/works?page=1362', 'https://archiveofourown.org/tags/Stranger%20Things%20(TV%202016)/works?page=1363', 'https://archiveofourown.org/tags/Stranger%20Things%20(TV%202016)/works?page=1364', 'https://archiveofourown.org/tags/Stranger%20Things%20(TV%202016)/works?page=1365', 'https://archiveofourown.org/tags/Stranger%20Things%20(TV%202016)/works?page=1366', 'https://archiveofourown.org/tags/Stranger%20Things%20(TV%202016)/works?page=1367', 'https://archiveofourown.org/tags/Stranger%20Things%20(TV%202016)/works?page=1368', 'https://archiveofourown.org/tags/Stranger%20Things%20(TV%202016)/works?page=1369', 'https://archiveofourown.org/tags/Stranger%20Things%20(TV%202016)/works?page=1370', 'https://archiveofourown.org/tags/Stranger%20Things%20(TV%202016)/works?page=1371', 'https://archiveofourown.org/tags/Stranger%20Things%20(TV%202016)/works?page=1372', 'https://archiveofourown.org/tags/Stranger%20Things%20(TV%202016)/works?page=1373', 'https://archiveofourown.org/tags/Stranger%20Things%20(TV%202016)/works?page=1374', 'https://archiveofourown.org/tags/Stranger%20Things%20(TV%202016)/works?page=1375', 'https://archiveofourown.org/tags/Stranger%20Things%20(TV%202016)/works?page=1376', 'https://archiveofourown.org/tags/Stranger%20Things%20(TV%202016)/works?page=1377', 'https://archiveofourown.org/tags/Stranger%20Things%20(TV%202016)/works?page=1378', 'https://archiveofourown.org/tags/Stranger%20Things%20(TV%202016)/works?page=1379', 'https://archiveofourown.org/tags/Stranger%20Things%20(TV%202016)/works?page=1380', 'https://archiveofourown.org/tags/Stranger%20Things%20(TV%202016)/works?page=1381', 'https://archiveofourown.org/tags/Stranger%20Things%20(TV%202016)/works?page=1382', 'https://archiveofourown.org/tags/Stranger%20Things%20(TV%202016)/works?page=1383', 'https://archiveofourown.org/tags/Stranger%20Things%20(TV%202016)/works?page=1384', 'https://archiveofourown.org/tags/Stranger%20Things%20(TV%202016)/works?page=1385', 'https://archiveofourown.org/tags/Stranger%20Things%20(TV%202016)/works?page=1386', 'https://archiveofourown.org/tags/Stranger%20Things%20(TV%202016)/works?page=1387', 'https://archiveofourown.org/tags/Stranger%20Things%20(TV%202016)/works?page=1388', 'https://archiveofourown.org/tags/Stranger%20Things%20(TV%202016)/works?page=1389', 'https://archiveofourown.org/tags/Stranger%20Things%20(TV%202016)/works?page=1390', 'https://archiveofourown.org/tags/Stranger%20Things%20(TV%202016)/works?page=1391', 'https://archiveofourown.org/tags/Stranger%20Things%20(TV%202016)/works?page=1392', 'https://archiveofourown.org/tags/Stranger%20Things%20(TV%202016)/works?page=1393', 'https://archiveofourown.org/tags/Stranger%20Things%20(TV%202016)/works?page=1394', 'https://archiveofourown.org/tags/Stranger%20Things%20(TV%202016)/works?page=1395', 'https://archiveofourown.org/tags/Stranger%20Things%20(TV%202016)/works?page=1396', 'https://archiveofourown.org/tags/Stranger%20Things%20(TV%202016)/works?page=1397', 'https://archiveofourown.org/tags/Stranger%20Things%20(TV%202016)/works?page=1398', 'https://archiveofourown.org/tags/Stranger%20Things%20(TV%202016)/works?page=1399', 'https://archiveofourown.org/tags/Stranger%20Things%20(TV%202016)/works?page=1400', 'https://archiveofourown.org/tags/Stranger%20Things%20(TV%202016)/works?page=1401', 'https://archiveofourown.org/tags/Stranger%20Things%20(TV%202016)/works?page=1402', 'https://archiveofourown.org/tags/Stranger%20Things%20(TV%202016)/works?page=1403', 'https://archiveofourown.org/tags/Stranger%20Things%20(TV%202016)/works?page=1404', 'https://archiveofourown.org/tags/Stranger%20Things%20(TV%202016)/works?page=1405', 'https://archiveofourown.org/tags/Stranger%20Things%20(TV%202016)/works?page=1406', 'https://archiveofourown.org/tags/Stranger%20Things%20(TV%202016)/works?page=1407', 'https://archiveofourown.org/tags/Stranger%20Things%20(TV%202016)/works?page=1408', 'https://archiveofourown.org/tags/Stranger%20Things%20(TV%202016)/works?page=1409', 'https://archiveofourown.org/tags/Stranger%20Things%20(TV%202016)/works?page=1410', 'https://archiveofourown.org/tags/Stranger%20Things%20(TV%202016)/works?page=1411', 'https://archiveofourown.org/tags/Stranger%20Things%20(TV%202016)/works?page=1412', 'https://archiveofourown.org/tags/Stranger%20Things%20(TV%202016)/works?page=1413', 'https://archiveofourown.org/tags/Stranger%20Things%20(TV%202016)/works?page=1414', 'https://archiveofourown.org/tags/Stranger%20Things%20(TV%202016)/works?page=1415', 'https://archiveofourown.org/tags/Stranger%20Things%20(TV%202016)/works?page=1416', 'https://archiveofourown.org/tags/Stranger%20Things%20(TV%202016)/works?page=1417', 'https://archiveofourown.org/tags/Stranger%20Things%20(TV%202016)/works?page=1418', 'https://archiveofourown.org/tags/Stranger%20Things%20(TV%202016)/works?page=1419', 'https://archiveofourown.org/tags/Stranger%20Things%20(TV%202016)/works?page=1420', 'https://archiveofourown.org/tags/Stranger%20Things%20(TV%202016)/works?page=1421', 'https://archiveofourown.org/tags/Stranger%20Things%20(TV%202016)/works?page=1422', 'https://archiveofourown.org/tags/Stranger%20Things%20(TV%202016)/works?page=1423', 'https://archiveofourown.org/tags/Stranger%20Things%20(TV%202016)/works?page=1424', 'https://archiveofourown.org/tags/Stranger%20Things%20(TV%202016)/works?page=1425', 'https://archiveofourown.org/tags/Stranger%20Things%20(TV%202016)/works?page=1426', 'https://archiveofourown.org/tags/Stranger%20Things%20(TV%202016)/works?page=1427', 'https://archiveofourown.org/tags/Stranger%20Things%20(TV%202016)/works?page=1428', 'https://archiveofourown.org/tags/Stranger%20Things%20(TV%202016)/works?page=1429', 'https://archiveofourown.org/tags/Stranger%20Things%20(TV%202016)/works?page=1430', 'https://archiveofourown.org/tags/Stranger%20Things%20(TV%202016)/works?page=1431', 'https://archiveofourown.org/tags/Stranger%20Things%20(TV%202016)/works?page=1432', 'https://archiveofourown.org/tags/Stranger%20Things%20(TV%202016)/works?page=1433', 'https://archiveofourown.org/tags/Stranger%20Things%20(TV%202016)/works?page=1434', 'https://archiveofourown.org/tags/Stranger%20Things%20(TV%202016)/works?page=1435', 'https://archiveofourown.org/tags/Stranger%20Things%20(TV%202016)/works?page=1436', 'https://archiveofourown.org/tags/Stranger%20Things%20(TV%202016)/works?page=1437', 'https://archiveofourown.org/tags/Stranger%20Things%20(TV%202016)/works?page=1438', 'https://archiveofourown.org/tags/Stranger%20Things%20(TV%202016)/works?page=1439', 'https://archiveofourown.org/tags/Stranger%20Things%20(TV%202016)/works?page=1440', 'https://archiveofourown.org/tags/Stranger%20Things%20(TV%202016)/works?page=1441', 'https://archiveofourown.org/tags/Stranger%20Things%20(TV%202016)/works?page=1442', 'https://archiveofourown.org/tags/Stranger%20Things%20(TV%202016)/works?page=1443', 'https://archiveofourown.org/tags/Stranger%20Things%20(TV%202016)/works?page=1444', 'https://archiveofourown.org/tags/Stranger%20Things%20(TV%202016)/works?page=1445', 'https://archiveofourown.org/tags/Stranger%20Things%20(TV%202016)/works?page=1446', 'https://archiveofourown.org/tags/Stranger%20Things%20(TV%202016)/works?page=1447', 'https://archiveofourown.org/tags/Stranger%20Things%20(TV%202016)/works?page=1448', 'https://archiveofourown.org/tags/Stranger%20Things%20(TV%202016)/works?page=1449', 'https://archiveofourown.org/tags/Stranger%20Things%20(TV%202016)/works?page=1450', 'https://archiveofourown.org/tags/Stranger%20Things%20(TV%202016)/works?page=1451', 'https://archiveofourown.org/tags/Stranger%20Things%20(TV%202016)/works?page=1452', 'https://archiveofourown.org/tags/Stranger%20Things%20(TV%202016)/works?page=1453', 'https://archiveofourown.org/tags/Stranger%20Things%20(TV%202016)/works?page=1454', 'https://archiveofourown.org/tags/Stranger%20Things%20(TV%202016)/works?page=1455', 'https://archiveofourown.org/tags/Stranger%20Things%20(TV%202016)/works?page=1456', 'https://archiveofourown.org/tags/Stranger%20Things%20(TV%202016)/works?page=1457', 'https://archiveofourown.org/tags/Stranger%20Things%20(TV%202016)/works?page=1458', 'https://archiveofourown.org/tags/Stranger%20Things%20(TV%202016)/works?page=1459', 'https://archiveofourown.org/tags/Stranger%20Things%20(TV%202016)/works?page=1460', 'https://archiveofourown.org/tags/Stranger%20Things%20(TV%202016)/works?page=1461', 'https://archiveofourown.org/tags/Stranger%20Things%20(TV%202016)/works?page=1462', 'https://archiveofourown.org/tags/Stranger%20Things%20(TV%202016)/works?page=1463', 'https://archiveofourown.org/tags/Stranger%20Things%20(TV%202016)/works?page=1464', 'https://archiveofourown.org/tags/Stranger%20Things%20(TV%202016)/works?page=1465', 'https://archiveofourown.org/tags/Stranger%20Things%20(TV%202016)/works?page=1466', 'https://archiveofourown.org/tags/Stranger%20Things%20(TV%202016)/works?page=1467', 'https://archiveofourown.org/tags/Stranger%20Things%20(TV%202016)/works?page=1468', 'https://archiveofourown.org/tags/Stranger%20Things%20(TV%202016)/works?page=1469', 'https://archiveofourown.org/tags/Stranger%20Things%20(TV%202016)/works?page=1470', 'https://archiveofourown.org/tags/Stranger%20Things%20(TV%202016)/works?page=1471', 'https://archiveofourown.org/tags/Stranger%20Things%20(TV%202016)/works?page=1472', 'https://archiveofourown.org/tags/Stranger%20Things%20(TV%202016)/works?page=1473', 'https://archiveofourown.org/tags/Stranger%20Things%20(TV%202016)/works?page=1474', 'https://archiveofourown.org/tags/Stranger%20Things%20(TV%202016)/works?page=1475', 'https://archiveofourown.org/tags/Stranger%20Things%20(TV%202016)/works?page=1476', 'https://archiveofourown.org/tags/Stranger%20Things%20(TV%202016)/works?page=1477', 'https://archiveofourown.org/tags/Stranger%20Things%20(TV%202016)/works?page=1478', 'https://archiveofourown.org/tags/Stranger%20Things%20(TV%202016)/works?page=1479', 'https://archiveofourown.org/tags/Stranger%20Things%20(TV%202016)/works?page=1480', 'https://archiveofourown.org/tags/Stranger%20Things%20(TV%202016)/works?page=1481', 'https://archiveofourown.org/tags/Stranger%20Things%20(TV%202016)/works?page=1482', 'https://archiveofourown.org/tags/Stranger%20Things%20(TV%202016)/works?page=1483', 'https://archiveofourown.org/tags/Stranger%20Things%20(TV%202016)/works?page=1484', 'https://archiveofourown.org/tags/Stranger%20Things%20(TV%202016)/works?page=1485', 'https://archiveofourown.org/tags/Stranger%20Things%20(TV%202016)/works?page=1486', 'https://archiveofourown.org/tags/Stranger%20Things%20(TV%202016)/works?page=1487', 'https://archiveofourown.org/tags/Stranger%20Things%20(TV%202016)/works?page=1488', 'https://archiveofourown.org/tags/Stranger%20Things%20(TV%202016)/works?page=1489', 'https://archiveofourown.org/tags/Stranger%20Things%20(TV%202016)/works?page=1490', 'https://archiveofourown.org/tags/Stranger%20Things%20(TV%202016)/works?page=1491', 'https://archiveofourown.org/tags/Stranger%20Things%20(TV%202016)/works?page=1492', 'https://archiveofourown.org/tags/Stranger%20Things%20(TV%202016)/works?page=1493', 'https://archiveofourown.org/tags/Stranger%20Things%20(TV%202016)/works?page=1494', 'https://archiveofourown.org/tags/Stranger%20Things%20(TV%202016)/works?page=1495', 'https://archiveofourown.org/tags/Stranger%20Things%20(TV%202016)/works?page=1496', 'https://archiveofourown.org/tags/Stranger%20Things%20(TV%202016)/works?page=1497', 'https://archiveofourown.org/tags/Stranger%20Things%20(TV%202016)/works?page=1498', 'https://archiveofourown.org/tags/Stranger%20Things%20(TV%202016)/works?page=1499', 'https://archiveofourown.org/tags/Stranger%20Things%20(TV%202016)/works?page=1500', 'https://archiveofourown.org/tags/Stranger%20Things%20(TV%202016)/works?page=1501', 'https://archiveofourown.org/tags/Stranger%20Things%20(TV%202016)/works?page=1502', 'https://archiveofourown.org/tags/Stranger%20Things%20(TV%202016)/works?page=1503', 'https://archiveofourown.org/tags/Stranger%20Things%20(TV%202016)/works?page=1504', 'https://archiveofourown.org/tags/Stranger%20Things%20(TV%202016)/works?page=1505', 'https://archiveofourown.org/tags/Stranger%20Things%20(TV%202016)/works?page=1506', 'https://archiveofourown.org/tags/Stranger%20Things%20(TV%202016)/works?page=1507', 'https://archiveofourown.org/tags/Stranger%20Things%20(TV%202016)/works?page=1508', 'https://archiveofourown.org/tags/Stranger%20Things%20(TV%202016)/works?page=1509', 'https://archiveofourown.org/tags/Stranger%20Things%20(TV%202016)/works?page=1510', 'https://archiveofourown.org/tags/Stranger%20Things%20(TV%202016)/works?page=1511', 'https://archiveofourown.org/tags/Stranger%20Things%20(TV%202016)/works?page=1512', 'https://archiveofourown.org/tags/Stranger%20Things%20(TV%202016)/works?page=1513', 'https://archiveofourown.org/tags/Stranger%20Things%20(TV%202016)/works?page=1514', 'https://archiveofourown.org/tags/Stranger%20Things%20(TV%202016)/works?page=1515', 'https://archiveofourown.org/tags/Stranger%20Things%20(TV%202016)/works?page=1516', 'https://archiveofourown.org/tags/Stranger%20Things%20(TV%202016)/works?page=1517', 'https://archiveofourown.org/tags/Stranger%20Things%20(TV%202016)/works?page=1518', 'https://archiveofourown.org/tags/Stranger%20Things%20(TV%202016)/works?page=1519', 'https://archiveofourown.org/tags/Stranger%20Things%20(TV%202016)/works?page=1520', 'https://archiveofourown.org/tags/Stranger%20Things%20(TV%202016)/works?page=1521', 'https://archiveofourown.org/tags/Stranger%20Things%20(TV%202016)/works?page=1522', 'https://archiveofourown.org/tags/Stranger%20Things%20(TV%202016)/works?page=1523', 'https://archiveofourown.org/tags/Stranger%20Things%20(TV%202016)/works?page=1524', 'https://archiveofourown.org/tags/Stranger%20Things%20(TV%202016)/works?page=1525', 'https://archiveofourown.org/tags/Stranger%20Things%20(TV%202016)/works?page=1526', 'https://archiveofourown.org/tags/Stranger%20Things%20(TV%202016)/works?page=1527', 'https://archiveofourown.org/tags/Stranger%20Things%20(TV%202016)/works?page=1528', 'https://archiveofourown.org/tags/Stranger%20Things%20(TV%202016)/works?page=1529', 'https://archiveofourown.org/tags/Stranger%20Things%20(TV%202016)/works?page=1530', 'https://archiveofourown.org/tags/Stranger%20Things%20(TV%202016)/works?page=1531', 'https://archiveofourown.org/tags/Stranger%20Things%20(TV%202016)/works?page=1532', 'https://archiveofourown.org/tags/Stranger%20Things%20(TV%202016)/works?page=1533', 'https://archiveofourown.org/tags/Stranger%20Things%20(TV%202016)/works?page=1534', 'https://archiveofourown.org/tags/Stranger%20Things%20(TV%202016)/works?page=1535', 'https://archiveofourown.org/tags/Stranger%20Things%20(TV%202016)/works?page=1536', 'https://archiveofourown.org/tags/Stranger%20Things%20(TV%202016)/works?page=1537', 'https://archiveofourown.org/tags/Stranger%20Things%20(TV%202016)/works?page=1538', 'https://archiveofourown.org/tags/Stranger%20Things%20(TV%202016)/works?page=1539', 'https://archiveofourown.org/tags/Stranger%20Things%20(TV%202016)/works?page=1540', 'https://archiveofourown.org/tags/Stranger%20Things%20(TV%202016)/works?page=1541', 'https://archiveofourown.org/tags/Stranger%20Things%20(TV%202016)/works?page=1542', 'https://archiveofourown.org/tags/Stranger%20Things%20(TV%202016)/works?page=1543', 'https://archiveofourown.org/tags/Stranger%20Things%20(TV%202016)/works?page=1544', 'https://archiveofourown.org/tags/Stranger%20Things%20(TV%202016)/works?page=1545', 'https://archiveofourown.org/tags/Stranger%20Things%20(TV%202016)/works?page=1546', 'https://archiveofourown.org/tags/Stranger%20Things%20(TV%202016)/works?page=1547', 'https://archiveofourown.org/tags/Stranger%20Things%20(TV%202016)/works?page=1548', 'https://archiveofourown.org/tags/Stranger%20Things%20(TV%202016)/works?page=1549', 'https://archiveofourown.org/tags/Stranger%20Things%20(TV%202016)/works?page=1550', 'https://archiveofourown.org/tags/Stranger%20Things%20(TV%202016)/works?page=1551', 'https://archiveofourown.org/tags/Stranger%20Things%20(TV%202016)/works?page=1552', 'https://archiveofourown.org/tags/Stranger%20Things%20(TV%202016)/works?page=1553', 'https://archiveofourown.org/tags/Stranger%20Things%20(TV%202016)/works?page=1554', 'https://archiveofourown.org/tags/Stranger%20Things%20(TV%202016)/works?page=1555', 'https://archiveofourown.org/tags/Stranger%20Things%20(TV%202016)/works?page=1556', 'https://archiveofourown.org/tags/Stranger%20Things%20(TV%202016)/works?page=1557', 'https://archiveofourown.org/tags/Stranger%20Things%20(TV%202016)/works?page=1558', 'https://archiveofourown.org/tags/Stranger%20Things%20(TV%202016)/works?page=1559', 'https://archiveofourown.org/tags/Stranger%20Things%20(TV%202016)/works?page=1560', 'https://archiveofourown.org/tags/Stranger%20Things%20(TV%202016)/works?page=1561', 'https://archiveofourown.org/tags/Stranger%20Things%20(TV%202016)/works?page=1562', 'https://archiveofourown.org/tags/Stranger%20Things%20(TV%202016)/works?page=1563', 'https://archiveofourown.org/tags/Stranger%20Things%20(TV%202016)/works?page=1564', 'https://archiveofourown.org/tags/Stranger%20Things%20(TV%202016)/works?page=1565', 'https://archiveofourown.org/tags/Stranger%20Things%20(TV%202016)/works?page=1566', 'https://archiveofourown.org/tags/Stranger%20Things%20(TV%202016)/works?page=1567', 'https://archiveofourown.org/tags/Stranger%20Things%20(TV%202016)/works?page=1568', 'https://archiveofourown.org/tags/Stranger%20Things%20(TV%202016)/works?page=1569', 'https://archiveofourown.org/tags/Stranger%20Things%20(TV%202016)/works?page=1570', 'https://archiveofourown.org/tags/Stranger%20Things%20(TV%202016)/works?page=1571', 'https://archiveofourown.org/tags/Stranger%20Things%20(TV%202016)/works?page=1572', 'https://archiveofourown.org/tags/Stranger%20Things%20(TV%202016)/works?page=1573', 'https://archiveofourown.org/tags/Stranger%20Things%20(TV%202016)/works?page=1574', 'https://archiveofourown.org/tags/Stranger%20Things%20(TV%202016)/works?page=1575', 'https://archiveofourown.org/tags/Stranger%20Things%20(TV%202016)/works?page=1576', 'https://archiveofourown.org/tags/Stranger%20Things%20(TV%202016)/works?page=1577', 'https://archiveofourown.org/tags/Stranger%20Things%20(TV%202016)/works?page=1578', 'https://archiveofourown.org/tags/Stranger%20Things%20(TV%202016)/works?page=1579', 'https://archiveofourown.org/tags/Stranger%20Things%20(TV%202016)/works?page=1580', 'https://archiveofourown.org/tags/Stranger%20Things%20(TV%202016)/works?page=1581', 'https://archiveofourown.org/tags/Stranger%20Things%20(TV%202016)/works?page=1582', 'https://archiveofourown.org/tags/Stranger%20Things%20(TV%202016)/works?page=1583', 'https://archiveofourown.org/tags/Stranger%20Things%20(TV%202016)/works?page=1584', 'https://archiveofourown.org/tags/Stranger%20Things%20(TV%202016)/works?page=1585', 'https://archiveofourown.org/tags/Stranger%20Things%20(TV%202016)/works?page=1586', 'https://archiveofourown.org/tags/Stranger%20Things%20(TV%202016)/works?page=1587', 'https://archiveofourown.org/tags/Stranger%20Things%20(TV%202016)/works?page=1588', 'https://archiveofourown.org/tags/Stranger%20Things%20(TV%202016)/works?page=1589', 'https://archiveofourown.org/tags/Stranger%20Things%20(TV%202016)/works?page=1590', 'https://archiveofourown.org/tags/Stranger%20Things%20(TV%202016)/works?page=1591', 'https://archiveofourown.org/tags/Stranger%20Things%20(TV%202016)/works?page=1592', 'https://archiveofourown.org/tags/Stranger%20Things%20(TV%202016)/works?page=1593', 'https://archiveofourown.org/tags/Stranger%20Things%20(TV%202016)/works?page=1594', 'https://archiveofourown.org/tags/Stranger%20Things%20(TV%202016)/works?page=1595', 'https://archiveofourown.org/tags/Stranger%20Things%20(TV%202016)/works?page=1596', 'https://archiveofourown.org/tags/Stranger%20Things%20(TV%202016)/works?page=1597', 'https://archiveofourown.org/tags/Stranger%20Things%20(TV%202016)/works?page=1598', 'https://archiveofourown.org/tags/Stranger%20Things%20(TV%202016)/works?page=1599', 'https://archiveofourown.org/tags/Stranger%20Things%20(TV%202016)/works?page=1600', 'https://archiveofourown.org/tags/Stranger%20Things%20(TV%202016)/works?page=1601', 'https://archiveofourown.org/tags/Stranger%20Things%20(TV%202016)/works?page=1602', 'https://archiveofourown.org/tags/Stranger%20Things%20(TV%202016)/works?page=1603', 'https://archiveofourown.org/tags/Stranger%20Things%20(TV%202016)/works?page=1604', 'https://archiveofourown.org/tags/Stranger%20Things%20(TV%202016)/works?page=1605', 'https://archiveofourown.org/tags/Stranger%20Things%20(TV%202016)/works?page=1606', 'https://archiveofourown.org/tags/Stranger%20Things%20(TV%202016)/works?page=1607', 'https://archiveofourown.org/tags/Stranger%20Things%20(TV%202016)/works?page=1608', 'https://archiveofourown.org/tags/Stranger%20Things%20(TV%202016)/works?page=1609', 'https://archiveofourown.org/tags/Stranger%20Things%20(TV%202016)/works?page=1610', 'https://archiveofourown.org/tags/Stranger%20Things%20(TV%202016)/works?page=1611', 'https://archiveofourown.org/tags/Stranger%20Things%20(TV%202016)/works?page=1612', 'https://archiveofourown.org/tags/Stranger%20Things%20(TV%202016)/works?page=1613', 'https://archiveofourown.org/tags/Stranger%20Things%20(TV%202016)/works?page=1614', 'https://archiveofourown.org/tags/Stranger%20Things%20(TV%202016)/works?page=1615', 'https://archiveofourown.org/tags/Stranger%20Things%20(TV%202016)/works?page=1616', 'https://archiveofourown.org/tags/Stranger%20Things%20(TV%202016)/works?page=1617', 'https://archiveofourown.org/tags/Stranger%20Things%20(TV%202016)/works?page=1618', 'https://archiveofourown.org/tags/Stranger%20Things%20(TV%202016)/works?page=1619', 'https://archiveofourown.org/tags/Stranger%20Things%20(TV%202016)/works?page=1620', 'https://archiveofourown.org/tags/Stranger%20Things%20(TV%202016)/works?page=1621', 'https://archiveofourown.org/tags/Stranger%20Things%20(TV%202016)/works?page=1622', 'https://archiveofourown.org/tags/Stranger%20Things%20(TV%202016)/works?page=1623', 'https://archiveofourown.org/tags/Stranger%20Things%20(TV%202016)/works?page=1624', 'https://archiveofourown.org/tags/Stranger%20Things%20(TV%202016)/works?page=1625', 'https://archiveofourown.org/tags/Stranger%20Things%20(TV%202016)/works?page=1626', 'https://archiveofourown.org/tags/Stranger%20Things%20(TV%202016)/works?page=1627', 'https://archiveofourown.org/tags/Stranger%20Things%20(TV%202016)/works?page=1628', 'https://archiveofourown.org/tags/Stranger%20Things%20(TV%202016)/works?page=1629', 'https://archiveofourown.org/tags/Stranger%20Things%20(TV%202016)/works?page=1630', 'https://archiveofourown.org/tags/Stranger%20Things%20(TV%202016)/works?page=1631', 'https://archiveofourown.org/tags/Stranger%20Things%20(TV%202016)/works?page=1632', 'https://archiveofourown.org/tags/Stranger%20Things%20(TV%202016)/works?page=1633', 'https://archiveofourown.org/tags/Stranger%20Things%20(TV%202016)/works?page=1634', 'https://archiveofourown.org/tags/Stranger%20Things%20(TV%202016)/works?page=1635', 'https://archiveofourown.org/tags/Stranger%20Things%20(TV%202016)/works?page=1636', 'https://archiveofourown.org/tags/Stranger%20Things%20(TV%202016)/works?page=1637', 'https://archiveofourown.org/tags/Stranger%20Things%20(TV%202016)/works?page=1638', 'https://archiveofourown.org/tags/Stranger%20Things%20(TV%202016)/works?page=1639', 'https://archiveofourown.org/tags/Stranger%20Things%20(TV%202016)/works?page=1640', 'https://archiveofourown.org/tags/Stranger%20Things%20(TV%202016)/works?page=1641', 'https://archiveofourown.org/tags/Stranger%20Things%20(TV%202016)/works?page=1642', 'https://archiveofourown.org/tags/Stranger%20Things%20(TV%202016)/works?page=1643', 'https://archiveofourown.org/tags/Stranger%20Things%20(TV%202016)/works?page=1644', 'https://archiveofourown.org/tags/Stranger%20Things%20(TV%202016)/works?page=1645', 'https://archiveofourown.org/tags/Stranger%20Things%20(TV%202016)/works?page=1646', 'https://archiveofourown.org/tags/Stranger%20Things%20(TV%202016)/works?page=1647', 'https://archiveofourown.org/tags/Stranger%20Things%20(TV%202016)/works?page=1648', 'https://archiveofourown.org/tags/Stranger%20Things%20(TV%202016)/works?page=1649', 'https://archiveofourown.org/tags/Stranger%20Things%20(TV%202016)/works?page=1650', 'https://archiveofourown.org/tags/Stranger%20Things%20(TV%202016)/works?page=1651', 'https://archiveofourown.org/tags/Stranger%20Things%20(TV%202016)/works?page=1652', 'https://archiveofourown.org/tags/Stranger%20Things%20(TV%202016)/works?page=1653', 'https://archiveofourown.org/tags/Stranger%20Things%20(TV%202016)/works?page=1654', 'https://archiveofourown.org/tags/Stranger%20Things%20(TV%202016)/works?page=1655', 'https://archiveofourown.org/tags/Stranger%20Things%20(TV%202016)/works?page=1656', 'https://archiveofourown.org/tags/Stranger%20Things%20(TV%202016)/works?page=1657', 'https://archiveofourown.org/tags/Stranger%20Things%20(TV%202016)/works?page=1658', 'https://archiveofourown.org/tags/Stranger%20Things%20(TV%202016)/works?page=1659', 'https://archiveofourown.org/tags/Stranger%20Things%20(TV%202016)/works?page=1660', 'https://archiveofourown.org/tags/Stranger%20Things%20(TV%202016)/works?page=1661', 'https://archiveofourown.org/tags/Stranger%20Things%20(TV%202016)/works?page=1662', 'https://archiveofourown.org/tags/Stranger%20Things%20(TV%202016)/works?page=1663', 'https://archiveofourown.org/tags/Stranger%20Things%20(TV%202016)/works?page=1664', 'https://archiveofourown.org/tags/Stranger%20Things%20(TV%202016)/works?page=1665', 'https://archiveofourown.org/tags/Stranger%20Things%20(TV%202016)/works?page=1666', 'https://archiveofourown.org/tags/Stranger%20Things%20(TV%202016)/works?page=1667', 'https://archiveofourown.org/tags/Stranger%20Things%20(TV%202016)/works?page=1668', 'https://archiveofourown.org/tags/Stranger%20Things%20(TV%202016)/works?page=1669', 'https://archiveofourown.org/tags/Stranger%20Things%20(TV%202016)/works?page=1670', 'https://archiveofourown.org/tags/Stranger%20Things%20(TV%202016)/works?page=1671', 'https://archiveofourown.org/tags/Stranger%20Things%20(TV%202016)/works?page=1672', 'https://archiveofourown.org/tags/Stranger%20Things%20(TV%202016)/works?page=1673', 'https://archiveofourown.org/tags/Stranger%20Things%20(TV%202016)/works?page=1674', 'https://archiveofourown.org/tags/Stranger%20Things%20(TV%202016)/works?page=1675', 'https://archiveofourown.org/tags/Stranger%20Things%20(TV%202016)/works?page=1676', 'https://archiveofourown.org/tags/Stranger%20Things%20(TV%202016)/works?page=1677', 'https://archiveofourown.org/tags/Stranger%20Things%20(TV%202016)/works?page=1678', 'https://archiveofourown.org/tags/Stranger%20Things%20(TV%202016)/works?page=1679', 'https://archiveofourown.org/tags/Stranger%20Things%20(TV%202016)/works?page=1680', 'https://archiveofourown.org/tags/Stranger%20Things%20(TV%202016)/works?page=1681', 'https://archiveofourown.org/tags/Stranger%20Things%20(TV%202016)/works?page=1682', 'https://archiveofourown.org/tags/Stranger%20Things%20(TV%202016)/works?page=1683', 'https://archiveofourown.org/tags/Stranger%20Things%20(TV%202016)/works?page=1684', 'https://archiveofourown.org/tags/Stranger%20Things%20(TV%202016)/works?page=1685', 'https://archiveofourown.org/tags/Stranger%20Things%20(TV%202016)/works?page=1686', 'https://archiveofourown.org/tags/Stranger%20Things%20(TV%202016)/works?page=1687', 'https://archiveofourown.org/tags/Stranger%20Things%20(TV%202016)/works?page=1688', 'https://archiveofourown.org/tags/Stranger%20Things%20(TV%202016)/works?page=1689', 'https://archiveofourown.org/tags/Stranger%20Things%20(TV%202016)/works?page=1690', 'https://archiveofourown.org/tags/Stranger%20Things%20(TV%202016)/works?page=1691', 'https://archiveofourown.org/tags/Stranger%20Things%20(TV%202016)/works?page=1692', 'https://archiveofourown.org/tags/Stranger%20Things%20(TV%202016)/works?page=1693', 'https://archiveofourown.org/tags/Stranger%20Things%20(TV%202016)/works?page=1694', 'https://archiveofourown.org/tags/Stranger%20Things%20(TV%202016)/works?page=1695', 'https://archiveofourown.org/tags/Stranger%20Things%20(TV%202016)/works?page=1696', 'https://archiveofourown.org/tags/Stranger%20Things%20(TV%202016)/works?page=1697', 'https://archiveofourown.org/tags/Stranger%20Things%20(TV%202016)/works?page=1698', 'https://archiveofourown.org/tags/Stranger%20Things%20(TV%202016)/works?page=1699', 'https://archiveofourown.org/tags/Stranger%20Things%20(TV%202016)/works?page=1700', 'https://archiveofourown.org/tags/Stranger%20Things%20(TV%202016)/works?page=1701', 'https://archiveofourown.org/tags/Stranger%20Things%20(TV%202016)/works?page=1702', 'https://archiveofourown.org/tags/Stranger%20Things%20(TV%202016)/works?page=1703', 'https://archiveofourown.org/tags/Stranger%20Things%20(TV%202016)/works?page=1704', 'https://archiveofourown.org/tags/Stranger%20Things%20(TV%202016)/works?page=1705', 'https://archiveofourown.org/tags/Stranger%20Things%20(TV%202016)/works?page=1706', 'https://archiveofourown.org/tags/Stranger%20Things%20(TV%202016)/works?page=1707', 'https://archiveofourown.org/tags/Stranger%20Things%20(TV%202016)/works?page=1708', 'https://archiveofourown.org/tags/Stranger%20Things%20(TV%202016)/works?page=1709', 'https://archiveofourown.org/tags/Stranger%20Things%20(TV%202016)/works?page=1710', 'https://archiveofourown.org/tags/Stranger%20Things%20(TV%202016)/works?page=1711', 'https://archiveofourown.org/tags/Stranger%20Things%20(TV%202016)/works?page=1712', 'https://archiveofourown.org/tags/Stranger%20Things%20(TV%202016)/works?page=1713', 'https://archiveofourown.org/tags/Stranger%20Things%20(TV%202016)/works?page=1714', 'https://archiveofourown.org/tags/Stranger%20Things%20(TV%202016)/works?page=1715', 'https://archiveofourown.org/tags/Stranger%20Things%20(TV%202016)/works?page=1716', 'https://archiveofourown.org/tags/Stranger%20Things%20(TV%202016)/works?page=1717', 'https://archiveofourown.org/tags/Stranger%20Things%20(TV%202016)/works?page=1718', 'https://archiveofourown.org/tags/Stranger%20Things%20(TV%202016)/works?page=1719', 'https://archiveofourown.org/tags/Stranger%20Things%20(TV%202016)/works?page=1720', 'https://archiveofourown.org/tags/Stranger%20Things%20(TV%202016)/works?page=1721', 'https://archiveofourown.org/tags/Stranger%20Things%20(TV%202016)/works?page=1722', 'https://archiveofourown.org/tags/Stranger%20Things%20(TV%202016)/works?page=1723', 'https://archiveofourown.org/tags/Stranger%20Things%20(TV%202016)/works?page=1724', 'https://archiveofourown.org/tags/Stranger%20Things%20(TV%202016)/works?page=1725', 'https://archiveofourown.org/tags/Stranger%20Things%20(TV%202016)/works?page=1726', 'https://archiveofourown.org/tags/Stranger%20Things%20(TV%202016)/works?page=1727', 'https://archiveofourown.org/tags/Stranger%20Things%20(TV%202016)/works?page=1728', 'https://archiveofourown.org/tags/Stranger%20Things%20(TV%202016)/works?page=1729', 'https://archiveofourown.org/tags/Stranger%20Things%20(TV%202016)/works?page=1730', 'https://archiveofourown.org/tags/Stranger%20Things%20(TV%202016)/works?page=1731', 'https://archiveofourown.org/tags/Stranger%20Things%20(TV%202016)/works?page=1732', 'https://archiveofourown.org/tags/Stranger%20Things%20(TV%202016)/works?page=1733', 'https://archiveofourown.org/tags/Stranger%20Things%20(TV%202016)/works?page=1734', 'https://archiveofourown.org/tags/Stranger%20Things%20(TV%202016)/works?page=1735', 'https://archiveofourown.org/tags/Stranger%20Things%20(TV%202016)/works?page=1736', 'https://archiveofourown.org/tags/Stranger%20Things%20(TV%202016)/works?page=1737', 'https://archiveofourown.org/tags/Stranger%20Things%20(TV%202016)/works?page=1738', 'https://archiveofourown.org/tags/Stranger%20Things%20(TV%202016)/works?page=1739', 'https://archiveofourown.org/tags/Stranger%20Things%20(TV%202016)/works?page=1740', 'https://archiveofourown.org/tags/Stranger%20Things%20(TV%202016)/works?page=1741', 'https://archiveofourown.org/tags/Stranger%20Things%20(TV%202016)/works?page=1742', 'https://archiveofourown.org/tags/Stranger%20Things%20(TV%202016)/works?page=1743', 'https://archiveofourown.org/tags/Stranger%20Things%20(TV%202016)/works?page=1744', 'https://archiveofourown.org/tags/Stranger%20Things%20(TV%202016)/works?page=1745', 'https://archiveofourown.org/tags/Stranger%20Things%20(TV%202016)/works?page=1746', 'https://archiveofourown.org/tags/Stranger%20Things%20(TV%202016)/works?page=1747', 'https://archiveofourown.org/tags/Stranger%20Things%20(TV%202016)/works?page=1748', 'https://archiveofourown.org/tags/Stranger%20Things%20(TV%202016)/works?page=1749', 'https://archiveofourown.org/tags/Stranger%20Things%20(TV%202016)/works?page=1750', 'https://archiveofourown.org/tags/Stranger%20Things%20(TV%202016)/works?page=1751', 'https://archiveofourown.org/tags/Stranger%20Things%20(TV%202016)/works?page=1752', 'https://archiveofourown.org/tags/Stranger%20Things%20(TV%202016)/works?page=1753', 'https://archiveofourown.org/tags/Stranger%20Things%20(TV%202016)/works?page=1754', 'https://archiveofourown.org/tags/Stranger%20Things%20(TV%202016)/works?page=1755', 'https://archiveofourown.org/tags/Stranger%20Things%20(TV%202016)/works?page=1756', 'https://archiveofourown.org/tags/Stranger%20Things%20(TV%202016)/works?page=1757', 'https://archiveofourown.org/tags/Stranger%20Things%20(TV%202016)/works?page=1758', 'https://archiveofourown.org/tags/Stranger%20Things%20(TV%202016)/works?page=1759', 'https://archiveofourown.org/tags/Stranger%20Things%20(TV%202016)/works?page=1760', 'https://archiveofourown.org/tags/Stranger%20Things%20(TV%202016)/works?page=1761', 'https://archiveofourown.org/tags/Stranger%20Things%20(TV%202016)/works?page=1762', 'https://archiveofourown.org/tags/Stranger%20Things%20(TV%202016)/works?page=1763', 'https://archiveofourown.org/tags/Stranger%20Things%20(TV%202016)/works?page=1764', 'https://archiveofourown.org/tags/Stranger%20Things%20(TV%202016)/works?page=1765', 'https://archiveofourown.org/tags/Stranger%20Things%20(TV%202016)/works?page=1766', 'https://archiveofourown.org/tags/Stranger%20Things%20(TV%202016)/works?page=1767', 'https://archiveofourown.org/tags/Stranger%20Things%20(TV%202016)/works?page=1768', 'https://archiveofourown.org/tags/Stranger%20Things%20(TV%202016)/works?page=1769', 'https://archiveofourown.org/tags/Stranger%20Things%20(TV%202016)/works?page=1770', 'https://archiveofourown.org/tags/Stranger%20Things%20(TV%202016)/works?page=1771', 'https://archiveofourown.org/tags/Stranger%20Things%20(TV%202016)/works?page=1772', 'https://archiveofourown.org/tags/Stranger%20Things%20(TV%202016)/works?page=1773', 'https://archiveofourown.org/tags/Stranger%20Things%20(TV%202016)/works?page=1774', 'https://archiveofourown.org/tags/Stranger%20Things%20(TV%202016)/works?page=1775', 'https://archiveofourown.org/tags/Stranger%20Things%20(TV%202016)/works?page=1776', 'https://archiveofourown.org/tags/Stranger%20Things%20(TV%202016)/works?page=1777', 'https://archiveofourown.org/tags/Stranger%20Things%20(TV%202016)/works?page=1778', 'https://archiveofourown.org/tags/Stranger%20Things%20(TV%202016)/works?page=1779', 'https://archiveofourown.org/tags/Stranger%20Things%20(TV%202016)/works?page=1780', 'https://archiveofourown.org/tags/Stranger%20Things%20(TV%202016)/works?page=1781', 'https://archiveofourown.org/tags/Stranger%20Things%20(TV%202016)/works?page=1782', 'https://archiveofourown.org/tags/Stranger%20Things%20(TV%202016)/works?page=1783', 'https://archiveofourown.org/tags/Stranger%20Things%20(TV%202016)/works?page=1784', 'https://archiveofourown.org/tags/Stranger%20Things%20(TV%202016)/works?page=1785', 'https://archiveofourown.org/tags/Stranger%20Things%20(TV%202016)/works?page=1786', 'https://archiveofourown.org/tags/Stranger%20Things%20(TV%202016)/works?page=1787', 'https://archiveofourown.org/tags/Stranger%20Things%20(TV%202016)/works?page=1788', 'https://archiveofourown.org/tags/Stranger%20Things%20(TV%202016)/works?page=1789', 'https://archiveofourown.org/tags/Stranger%20Things%20(TV%202016)/works?page=1790', 'https://archiveofourown.org/tags/Stranger%20Things%20(TV%202016)/works?page=1791', 'https://archiveofourown.org/tags/Stranger%20Things%20(TV%202016)/works?page=1792', 'https://archiveofourown.org/tags/Stranger%20Things%20(TV%202016)/works?page=1793', 'https://archiveofourown.org/tags/Stranger%20Things%20(TV%202016)/works?page=1794', 'https://archiveofourown.org/tags/Stranger%20Things%20(TV%202016)/works?page=1795', 'https://archiveofourown.org/tags/Stranger%20Things%20(TV%202016)/works?page=1796', 'https://archiveofourown.org/tags/Stranger%20Things%20(TV%202016)/works?page=1797', 'https://archiveofourown.org/tags/Stranger%20Things%20(TV%202016)/works?page=1798', 'https://archiveofourown.org/tags/Stranger%20Things%20(TV%202016)/works?page=1799', 'https://archiveofourown.org/tags/Stranger%20Things%20(TV%202016)/works?page=1800', 'https://archiveofourown.org/tags/Stranger%20Things%20(TV%202016)/works?page=1801', 'https://archiveofourown.org/tags/Stranger%20Things%20(TV%202016)/works?page=1802', 'https://archiveofourown.org/tags/Stranger%20Things%20(TV%202016)/works?page=1803', 'https://archiveofourown.org/tags/Stranger%20Things%20(TV%202016)/works?page=1804', 'https://archiveofourown.org/tags/Stranger%20Things%20(TV%202016)/works?page=1805', 'https://archiveofourown.org/tags/Stranger%20Things%20(TV%202016)/works?page=1806', 'https://archiveofourown.org/tags/Stranger%20Things%20(TV%202016)/works?page=1807', 'https://archiveofourown.org/tags/Stranger%20Things%20(TV%202016)/works?page=1808', 'https://archiveofourown.org/tags/Stranger%20Things%20(TV%202016)/works?page=1809', 'https://archiveofourown.org/tags/Stranger%20Things%20(TV%202016)/works?page=1810', 'https://archiveofourown.org/tags/Stranger%20Things%20(TV%202016)/works?page=1811', 'https://archiveofourown.org/tags/Stranger%20Things%20(TV%202016)/works?page=1812', 'https://archiveofourown.org/tags/Stranger%20Things%20(TV%202016)/works?page=1813', 'https://archiveofourown.org/tags/Stranger%20Things%20(TV%202016)/works?page=1814', 'https://archiveofourown.org/tags/Stranger%20Things%20(TV%202016)/works?page=1815', 'https://archiveofourown.org/tags/Stranger%20Things%20(TV%202016)/works?page=1816', 'https://archiveofourown.org/tags/Stranger%20Things%20(TV%202016)/works?page=1817', 'https://archiveofourown.org/tags/Stranger%20Things%20(TV%202016)/works?page=1818', 'https://archiveofourown.org/tags/Stranger%20Things%20(TV%202016)/works?page=1819', 'https://archiveofourown.org/tags/Stranger%20Things%20(TV%202016)/works?page=1820', 'https://archiveofourown.org/tags/Stranger%20Things%20(TV%202016)/works?page=1821', 'https://archiveofourown.org/tags/Stranger%20Things%20(TV%202016)/works?page=1822', 'https://archiveofourown.org/tags/Stranger%20Things%20(TV%202016)/works?page=1823', 'https://archiveofourown.org/tags/Stranger%20Things%20(TV%202016)/works?page=1824', 'https://archiveofourown.org/tags/Stranger%20Things%20(TV%202016)/works?page=1825', 'https://archiveofourown.org/tags/Stranger%20Things%20(TV%202016)/works?page=1826', 'https://archiveofourown.org/tags/Stranger%20Things%20(TV%202016)/works?page=1827', 'https://archiveofourown.org/tags/Stranger%20Things%20(TV%202016)/works?page=1828', 'https://archiveofourown.org/tags/Stranger%20Things%20(TV%202016)/works?page=1829', 'https://archiveofourown.org/tags/Stranger%20Things%20(TV%202016)/works?page=1830', 'https://archiveofourown.org/tags/Stranger%20Things%20(TV%202016)/works?page=1831', 'https://archiveofourown.org/tags/Stranger%20Things%20(TV%202016)/works?page=1832', 'https://archiveofourown.org/tags/Stranger%20Things%20(TV%202016)/works?page=1833', 'https://archiveofourown.org/tags/Stranger%20Things%20(TV%202016)/works?page=1834', 'https://archiveofourown.org/tags/Stranger%20Things%20(TV%202016)/works?page=1835', 'https://archiveofourown.org/tags/Stranger%20Things%20(TV%202016)/works?page=1836', 'https://archiveofourown.org/tags/Stranger%20Things%20(TV%202016)/works?page=1837', 'https://archiveofourown.org/tags/Stranger%20Things%20(TV%202016)/works?page=1838', 'https://archiveofourown.org/tags/Stranger%20Things%20(TV%202016)/works?page=1839', 'https://archiveofourown.org/tags/Stranger%20Things%20(TV%202016)/works?page=1840', 'https://archiveofourown.org/tags/Stranger%20Things%20(TV%202016)/works?page=1841', 'https://archiveofourown.org/tags/Stranger%20Things%20(TV%202016)/works?page=1842', 'https://archiveofourown.org/tags/Stranger%20Things%20(TV%202016)/works?page=1843', 'https://archiveofourown.org/tags/Stranger%20Things%20(TV%202016)/works?page=1844', 'https://archiveofourown.org/tags/Stranger%20Things%20(TV%202016)/works?page=1845', 'https://archiveofourown.org/tags/Stranger%20Things%20(TV%202016)/works?page=1846', 'https://archiveofourown.org/tags/Stranger%20Things%20(TV%202016)/works?page=1847', 'https://archiveofourown.org/tags/Stranger%20Things%20(TV%202016)/works?page=1848', 'https://archiveofourown.org/tags/Stranger%20Things%20(TV%202016)/works?page=1849', 'https://archiveofourown.org/tags/Stranger%20Things%20(TV%202016)/works?page=1850', 'https://archiveofourown.org/tags/Stranger%20Things%20(TV%202016)/works?page=1851', 'https://archiveofourown.org/tags/Stranger%20Things%20(TV%202016)/works?page=1852', 'https://archiveofourown.org/tags/Stranger%20Things%20(TV%202016)/works?page=1853', 'https://archiveofourown.org/tags/Stranger%20Things%20(TV%202016)/works?page=1854', 'https://archiveofourown.org/tags/Stranger%20Things%20(TV%202016)/works?page=1855', 'https://archiveofourown.org/tags/Stranger%20Things%20(TV%202016)/works?page=1856', 'https://archiveofourown.org/tags/Stranger%20Things%20(TV%202016)/works?page=1857', 'https://archiveofourown.org/tags/Stranger%20Things%20(TV%202016)/works?page=1858', 'https://archiveofourown.org/tags/Stranger%20Things%20(TV%202016)/works?page=1859', 'https://archiveofourown.org/tags/Stranger%20Things%20(TV%202016)/works?page=1860', 'https://archiveofourown.org/tags/Stranger%20Things%20(TV%202016)/works?page=1861', 'https://archiveofourown.org/tags/Stranger%20Things%20(TV%202016)/works?page=1862', 'https://archiveofourown.org/tags/Stranger%20Things%20(TV%202016)/works?page=1863', 'https://archiveofourown.org/tags/Stranger%20Things%20(TV%202016)/works?page=1864', 'https://archiveofourown.org/tags/Stranger%20Things%20(TV%202016)/works?page=1865', 'https://archiveofourown.org/tags/Stranger%20Things%20(TV%202016)/works?page=1866', 'https://archiveofourown.org/tags/Stranger%20Things%20(TV%202016)/works?page=1867', 'https://archiveofourown.org/tags/Stranger%20Things%20(TV%202016)/works?page=1868', 'https://archiveofourown.org/tags/Stranger%20Things%20(TV%202016)/works?page=1869', 'https://archiveofourown.org/tags/Stranger%20Things%20(TV%202016)/works?page=1870', 'https://archiveofourown.org/tags/Stranger%20Things%20(TV%202016)/works?page=1871', 'https://archiveofourown.org/tags/Stranger%20Things%20(TV%202016)/works?page=1872', 'https://archiveofourown.org/tags/Stranger%20Things%20(TV%202016)/works?page=1873', 'https://archiveofourown.org/tags/Stranger%20Things%20(TV%202016)/works?page=1874', 'https://archiveofourown.org/tags/Stranger%20Things%20(TV%202016)/works?page=1875', 'https://archiveofourown.org/tags/Stranger%20Things%20(TV%202016)/works?page=1876', 'https://archiveofourown.org/tags/Stranger%20Things%20(TV%202016)/works?page=1877', 'https://archiveofourown.org/tags/Stranger%20Things%20(TV%202016)/works?page=1878', 'https://archiveofourown.org/tags/Stranger%20Things%20(TV%202016)/works?page=1879', 'https://archiveofourown.org/tags/Stranger%20Things%20(TV%202016)/works?page=1880', 'https://archiveofourown.org/tags/Stranger%20Things%20(TV%202016)/works?page=1881', 'https://archiveofourown.org/tags/Stranger%20Things%20(TV%202016)/works?page=1882', 'https://archiveofourown.org/tags/Stranger%20Things%20(TV%202016)/works?page=1883', 'https://archiveofourown.org/tags/Stranger%20Things%20(TV%202016)/works?page=1884', 'https://archiveofourown.org/tags/Stranger%20Things%20(TV%202016)/works?page=1885', 'https://archiveofourown.org/tags/Stranger%20Things%20(TV%202016)/works?page=1886', 'https://archiveofourown.org/tags/Stranger%20Things%20(TV%202016)/works?page=1887', 'https://archiveofourown.org/tags/Stranger%20Things%20(TV%202016)/works?page=1888', 'https://archiveofourown.org/tags/Stranger%20Things%20(TV%202016)/works?page=1889', 'https://archiveofourown.org/tags/Stranger%20Things%20(TV%202016)/works?page=1890', 'https://archiveofourown.org/tags/Stranger%20Things%20(TV%202016)/works?page=1891', 'https://archiveofourown.org/tags/Stranger%20Things%20(TV%202016)/works?page=1892', 'https://archiveofourown.org/tags/Stranger%20Things%20(TV%202016)/works?page=1893', 'https://archiveofourown.org/tags/Stranger%20Things%20(TV%202016)/works?page=1894', 'https://archiveofourown.org/tags/Stranger%20Things%20(TV%202016)/works?page=1895', 'https://archiveofourown.org/tags/Stranger%20Things%20(TV%202016)/works?page=1896', 'https://archiveofourown.org/tags/Stranger%20Things%20(TV%202016)/works?page=1897', 'https://archiveofourown.org/tags/Stranger%20Things%20(TV%202016)/works?page=1898', 'https://archiveofourown.org/tags/Stranger%20Things%20(TV%202016)/works?page=1899', 'https://archiveofourown.org/tags/Stranger%20Things%20(TV%202016)/works?page=1900', 'https://archiveofourown.org/tags/Stranger%20Things%20(TV%202016)/works?page=1901', 'https://archiveofourown.org/tags/Stranger%20Things%20(TV%202016)/works?page=1902', 'https://archiveofourown.org/tags/Stranger%20Things%20(TV%202016)/works?page=1903', 'https://archiveofourown.org/tags/Stranger%20Things%20(TV%202016)/works?page=1904', 'https://archiveofourown.org/tags/Stranger%20Things%20(TV%202016)/works?page=1905', 'https://archiveofourown.org/tags/Stranger%20Things%20(TV%202016)/works?page=1906', 'https://archiveofourown.org/tags/Stranger%20Things%20(TV%202016)/works?page=1907', 'https://archiveofourown.org/tags/Stranger%20Things%20(TV%202016)/works?page=1908', 'https://archiveofourown.org/tags/Stranger%20Things%20(TV%202016)/works?page=1909', 'https://archiveofourown.org/tags/Stranger%20Things%20(TV%202016)/works?page=1910', 'https://archiveofourown.org/tags/Stranger%20Things%20(TV%202016)/works?page=1911', 'https://archiveofourown.org/tags/Stranger%20Things%20(TV%202016)/works?page=1912', 'https://archiveofourown.org/tags/Stranger%20Things%20(TV%202016)/works?page=1913', 'https://archiveofourown.org/tags/Stranger%20Things%20(TV%202016)/works?page=1914', 'https://archiveofourown.org/tags/Stranger%20Things%20(TV%202016)/works?page=1915', 'https://archiveofourown.org/tags/Stranger%20Things%20(TV%202016)/works?page=1916', 'https://archiveofourown.org/tags/Stranger%20Things%20(TV%202016)/works?page=1917', 'https://archiveofourown.org/tags/Stranger%20Things%20(TV%202016)/works?page=1918', 'https://archiveofourown.org/tags/Stranger%20Things%20(TV%202016)/works?page=1919', 'https://archiveofourown.org/tags/Stranger%20Things%20(TV%202016)/works?page=1920', 'https://archiveofourown.org/tags/Stranger%20Things%20(TV%202016)/works?page=1921', 'https://archiveofourown.org/tags/Stranger%20Things%20(TV%202016)/works?page=1922', 'https://archiveofourown.org/tags/Stranger%20Things%20(TV%202016)/works?page=1923', 'https://archiveofourown.org/tags/Stranger%20Things%20(TV%202016)/works?page=1924', 'https://archiveofourown.org/tags/Stranger%20Things%20(TV%202016)/works?page=1925', 'https://archiveofourown.org/tags/Stranger%20Things%20(TV%202016)/works?page=1926', 'https://archiveofourown.org/tags/Stranger%20Things%20(TV%202016)/works?page=1927', 'https://archiveofourown.org/tags/Stranger%20Things%20(TV%202016)/works?page=1928', 'https://archiveofourown.org/tags/Stranger%20Things%20(TV%202016)/works?page=1929', 'https://archiveofourown.org/tags/Stranger%20Things%20(TV%202016)/works?page=1930', 'https://archiveofourown.org/tags/Stranger%20Things%20(TV%202016)/works?page=1931', 'https://archiveofourown.org/tags/Stranger%20Things%20(TV%202016)/works?page=1932', 'https://archiveofourown.org/tags/Stranger%20Things%20(TV%202016)/works?page=1933', 'https://archiveofourown.org/tags/Stranger%20Things%20(TV%202016)/works?page=1934', 'https://archiveofourown.org/tags/Stranger%20Things%20(TV%202016)/works?page=1935', 'https://archiveofourown.org/tags/Stranger%20Things%20(TV%202016)/works?page=1936', 'https://archiveofourown.org/tags/Stranger%20Things%20(TV%202016)/works?page=1937', 'https://archiveofourown.org/tags/Stranger%20Things%20(TV%202016)/works?page=1938', 'https://archiveofourown.org/tags/Stranger%20Things%20(TV%202016)/works?page=1939', 'https://archiveofourown.org/tags/Stranger%20Things%20(TV%202016)/works?page=1940', 'https://archiveofourown.org/tags/Stranger%20Things%20(TV%202016)/works?page=1941', 'https://archiveofourown.org/tags/Stranger%20Things%20(TV%202016)/works?page=1942', 'https://archiveofourown.org/tags/Stranger%20Things%20(TV%202016)/works?page=1943', 'https://archiveofourown.org/tags/Stranger%20Things%20(TV%202016)/works?page=1944', 'https://archiveofourown.org/tags/Stranger%20Things%20(TV%202016)/works?page=1945', 'https://archiveofourown.org/tags/Stranger%20Things%20(TV%202016)/works?page=1946', 'https://archiveofourown.org/tags/Stranger%20Things%20(TV%202016)/works?page=1947', 'https://archiveofourown.org/tags/Stranger%20Things%20(TV%202016)/works?page=1948', 'https://archiveofourown.org/tags/Stranger%20Things%20(TV%202016)/works?page=1949', 'https://archiveofourown.org/tags/Stranger%20Things%20(TV%202016)/works?page=1950', 'https://archiveofourown.org/tags/Stranger%20Things%20(TV%202016)/works?page=1951', 'https://archiveofourown.org/tags/Stranger%20Things%20(TV%202016)/works?page=1952', 'https://archiveofourown.org/tags/Stranger%20Things%20(TV%202016)/works?page=1953', 'https://archiveofourown.org/tags/Stranger%20Things%20(TV%202016)/works?page=1954', 'https://archiveofourown.org/tags/Stranger%20Things%20(TV%202016)/works?page=1955', 'https://archiveofourown.org/tags/Stranger%20Things%20(TV%202016)/works?page=1956', 'https://archiveofourown.org/tags/Stranger%20Things%20(TV%202016)/works?page=1957', 'https://archiveofourown.org/tags/Stranger%20Things%20(TV%202016)/works?page=1958', 'https://archiveofourown.org/tags/Stranger%20Things%20(TV%202016)/works?page=1959', 'https://archiveofourown.org/tags/Stranger%20Things%20(TV%202016)/works?page=1960', 'https://archiveofourown.org/tags/Stranger%20Things%20(TV%202016)/works?page=1961', 'https://archiveofourown.org/tags/Stranger%20Things%20(TV%202016)/works?page=1962', 'https://archiveofourown.org/tags/Stranger%20Things%20(TV%202016)/works?page=1963', 'https://archiveofourown.org/tags/Stranger%20Things%20(TV%202016)/works?page=1964', 'https://archiveofourown.org/tags/Stranger%20Things%20(TV%202016)/works?page=1965', 'https://archiveofourown.org/tags/Stranger%20Things%20(TV%202016)/works?page=1966', 'https://archiveofourown.org/tags/Stranger%20Things%20(TV%202016)/works?page=1967', 'https://archiveofourown.org/tags/Stranger%20Things%20(TV%202016)/works?page=1968', 'https://archiveofourown.org/tags/Stranger%20Things%20(TV%202016)/works?page=1969', 'https://archiveofourown.org/tags/Stranger%20Things%20(TV%202016)/works?page=1970', 'https://archiveofourown.org/tags/Stranger%20Things%20(TV%202016)/works?page=1971', 'https://archiveofourown.org/tags/Stranger%20Things%20(TV%202016)/works?page=1972', 'https://archiveofourown.org/tags/Stranger%20Things%20(TV%202016)/works?page=1973', 'https://archiveofourown.org/tags/Stranger%20Things%20(TV%202016)/works?page=1974', 'https://archiveofourown.org/tags/Stranger%20Things%20(TV%202016)/works?page=1975', 'https://archiveofourown.org/tags/Stranger%20Things%20(TV%202016)/works?page=1976', 'https://archiveofourown.org/tags/Stranger%20Things%20(TV%202016)/works?page=1977', 'https://archiveofourown.org/tags/Stranger%20Things%20(TV%202016)/works?page=1978', 'https://archiveofourown.org/tags/Stranger%20Things%20(TV%202016)/works?page=1979', 'https://archiveofourown.org/tags/Stranger%20Things%20(TV%202016)/works?page=1980', 'https://archiveofourown.org/tags/Stranger%20Things%20(TV%202016)/works?page=1981', 'https://archiveofourown.org/tags/Stranger%20Things%20(TV%202016)/works?page=1982', 'https://archiveofourown.org/tags/Stranger%20Things%20(TV%202016)/works?page=1983', 'https://archiveofourown.org/tags/Stranger%20Things%20(TV%202016)/works?page=1984', 'https://archiveofourown.org/tags/Stranger%20Things%20(TV%202016)/works?page=1985', 'https://archiveofourown.org/tags/Stranger%20Things%20(TV%202016)/works?page=1986', 'https://archiveofourown.org/tags/Stranger%20Things%20(TV%202016)/works?page=1987', 'https://archiveofourown.org/tags/Stranger%20Things%20(TV%202016)/works?page=1988', 'https://archiveofourown.org/tags/Stranger%20Things%20(TV%202016)/works?page=1989', 'https://archiveofourown.org/tags/Stranger%20Things%20(TV%202016)/works?page=1990', 'https://archiveofourown.org/tags/Stranger%20Things%20(TV%202016)/works?page=1991', 'https://archiveofourown.org/tags/Stranger%20Things%20(TV%202016)/works?page=1992', 'https://archiveofourown.org/tags/Stranger%20Things%20(TV%202016)/works?page=1993', 'https://archiveofourown.org/tags/Stranger%20Things%20(TV%202016)/works?page=1994', 'https://archiveofourown.org/tags/Stranger%20Things%20(TV%202016)/works?page=1995', 'https://archiveofourown.org/tags/Stranger%20Things%20(TV%202016)/works?page=1996', 'https://archiveofourown.org/tags/Stranger%20Things%20(TV%202016)/works?page=1997', 'https://archiveofourown.org/tags/Stranger%20Things%20(TV%202016)/works?page=1998', 'https://archiveofourown.org/tags/Stranger%20Things%20(TV%202016)/works?page=1999', 'https://archiveofourown.org/tags/Stranger%20Things%20(TV%202016)/works?page=2000', 'https://archiveofourown.org/tags/Stranger%20Things%20(TV%202016)/works?page=2001', 'https://archiveofourown.org/tags/Stranger%20Things%20(TV%202016)/works?page=2002', 'https://archiveofourown.org/tags/Stranger%20Things%20(TV%202016)/works?page=2003', 'https://archiveofourown.org/tags/Stranger%20Things%20(TV%202016)/works?page=2004', 'https://archiveofourown.org/tags/Stranger%20Things%20(TV%202016)/works?page=2005', 'https://archiveofourown.org/tags/Stranger%20Things%20(TV%202016)/works?page=2006', 'https://archiveofourown.org/tags/Stranger%20Things%20(TV%202016)/works?page=2007', 'https://archiveofourown.org/tags/Stranger%20Things%20(TV%202016)/works?page=2008', 'https://archiveofourown.org/tags/Stranger%20Things%20(TV%202016)/works?page=2009', 'https://archiveofourown.org/tags/Stranger%20Things%20(TV%202016)/works?page=2010', 'https://archiveofourown.org/tags/Stranger%20Things%20(TV%202016)/works?page=2011', 'https://archiveofourown.org/tags/Stranger%20Things%20(TV%202016)/works?page=2012', 'https://archiveofourown.org/tags/Stranger%20Things%20(TV%202016)/works?page=2013', 'https://archiveofourown.org/tags/Stranger%20Things%20(TV%202016)/works?page=2014', 'https://archiveofourown.org/tags/Stranger%20Things%20(TV%202016)/works?page=2015', 'https://archiveofourown.org/tags/Stranger%20Things%20(TV%202016)/works?page=2016', 'https://archiveofourown.org/tags/Stranger%20Things%20(TV%202016)/works?page=2017', 'https://archiveofourown.org/tags/Stranger%20Things%20(TV%202016)/works?page=2018', 'https://archiveofourown.org/tags/Stranger%20Things%20(TV%202016)/works?page=2019', 'https://archiveofourown.org/tags/Stranger%20Things%20(TV%202016)/works?page=2020', 'https://archiveofourown.org/tags/Stranger%20Things%20(TV%202016)/works?page=2021', 'https://archiveofourown.org/tags/Stranger%20Things%20(TV%202016)/works?page=2022', 'https://archiveofourown.org/tags/Stranger%20Things%20(TV%202016)/works?page=2023', 'https://archiveofourown.org/tags/Stranger%20Things%20(TV%202016)/works?page=2024', 'https://archiveofourown.org/tags/Stranger%20Things%20(TV%202016)/works?page=2025', 'https://archiveofourown.org/tags/Stranger%20Things%20(TV%202016)/works?page=2026', 'https://archiveofourown.org/tags/Stranger%20Things%20(TV%202016)/works?page=2027', 'https://archiveofourown.org/tags/Stranger%20Things%20(TV%202016)/works?page=2028', 'https://archiveofourown.org/tags/Stranger%20Things%20(TV%202016)/works?page=2029', 'https://archiveofourown.org/tags/Stranger%20Things%20(TV%202016)/works?page=2030', 'https://archiveofourown.org/tags/Stranger%20Things%20(TV%202016)/works?page=2031', 'https://archiveofourown.org/tags/Stranger%20Things%20(TV%202016)/works?page=2032', 'https://archiveofourown.org/tags/Stranger%20Things%20(TV%202016)/works?page=2033', 'https://archiveofourown.org/tags/Stranger%20Things%20(TV%202016)/works?page=2034', 'https://archiveofourown.org/tags/Stranger%20Things%20(TV%202016)/works?page=2035', 'https://archiveofourown.org/tags/Stranger%20Things%20(TV%202016)/works?page=2036', 'https://archiveofourown.org/tags/Stranger%20Things%20(TV%202016)/works?page=2037', 'https://archiveofourown.org/tags/Stranger%20Things%20(TV%202016)/works?page=2038', 'https://archiveofourown.org/tags/Stranger%20Things%20(TV%202016)/works?page=2039', 'https://archiveofourown.org/tags/Stranger%20Things%20(TV%202016)/works?page=2040', 'https://archiveofourown.org/tags/Stranger%20Things%20(TV%202016)/works?page=2041', 'https://archiveofourown.org/tags/Stranger%20Things%20(TV%202016)/works?page=2042', 'https://archiveofourown.org/tags/Stranger%20Things%20(TV%202016)/works?page=2043', 'https://archiveofourown.org/tags/Stranger%20Things%20(TV%202016)/works?page=2044', 'https://archiveofourown.org/tags/Stranger%20Things%20(TV%202016)/works?page=2045', 'https://archiveofourown.org/tags/Stranger%20Things%20(TV%202016)/works?page=2046', 'https://archiveofourown.org/tags/Stranger%20Things%20(TV%202016)/works?page=2047', 'https://archiveofourown.org/tags/Stranger%20Things%20(TV%202016)/works?page=2048', 'https://archiveofourown.org/tags/Stranger%20Things%20(TV%202016)/works?page=2049', 'https://archiveofourown.org/tags/Stranger%20Things%20(TV%202016)/works?page=2050', 'https://archiveofourown.org/tags/Stranger%20Things%20(TV%202016)/works?page=2051', 'https://archiveofourown.org/tags/Stranger%20Things%20(TV%202016)/works?page=2052', 'https://archiveofourown.org/tags/Stranger%20Things%20(TV%202016)/works?page=2053', 'https://archiveofourown.org/tags/Stranger%20Things%20(TV%202016)/works?page=2054', 'https://archiveofourown.org/tags/Stranger%20Things%20(TV%202016)/works?page=2055', 'https://archiveofourown.org/tags/Stranger%20Things%20(TV%202016)/works?page=2056', 'https://archiveofourown.org/tags/Stranger%20Things%20(TV%202016)/works?page=2057', 'https://archiveofourown.org/tags/Stranger%20Things%20(TV%202016)/works?page=2058', 'https://archiveofourown.org/tags/Stranger%20Things%20(TV%202016)/works?page=2059', 'https://archiveofourown.org/tags/Stranger%20Things%20(TV%202016)/works?page=2060', 'https://archiveofourown.org/tags/Stranger%20Things%20(TV%202016)/works?page=2061', 'https://archiveofourown.org/tags/Stranger%20Things%20(TV%202016)/works?page=2062', 'https://archiveofourown.org/tags/Stranger%20Things%20(TV%202016)/works?page=2063', 'https://archiveofourown.org/tags/Stranger%20Things%20(TV%202016)/works?page=2064', 'https://archiveofourown.org/tags/Stranger%20Things%20(TV%202016)/works?page=2065', 'https://archiveofourown.org/tags/Stranger%20Things%20(TV%202016)/works?page=2066', 'https://archiveofourown.org/tags/Stranger%20Things%20(TV%202016)/works?page=2067', 'https://archiveofourown.org/tags/Stranger%20Things%20(TV%202016)/works?page=2068', 'https://archiveofourown.org/tags/Stranger%20Things%20(TV%202016)/works?page=2069', 'https://archiveofourown.org/tags/Stranger%20Things%20(TV%202016)/works?page=2070', 'https://archiveofourown.org/tags/Stranger%20Things%20(TV%202016)/works?page=2071', 'https://archiveofourown.org/tags/Stranger%20Things%20(TV%202016)/works?page=2072', 'https://archiveofourown.org/tags/Stranger%20Things%20(TV%202016)/works?page=2073', 'https://archiveofourown.org/tags/Stranger%20Things%20(TV%202016)/works?page=2074', 'https://archiveofourown.org/tags/Stranger%20Things%20(TV%202016)/works?page=2075', 'https://archiveofourown.org/tags/Stranger%20Things%20(TV%202016)/works?page=2076', 'https://archiveofourown.org/tags/Stranger%20Things%20(TV%202016)/works?page=2077', 'https://archiveofourown.org/tags/Stranger%20Things%20(TV%202016)/works?page=2078', 'https://archiveofourown.org/tags/Stranger%20Things%20(TV%202016)/works?page=2079', 'https://archiveofourown.org/tags/Stranger%20Things%20(TV%202016)/works?page=2080', 'https://archiveofourown.org/tags/Stranger%20Things%20(TV%202016)/works?page=2081', 'https://archiveofourown.org/tags/Stranger%20Things%20(TV%202016)/works?page=2082', 'https://archiveofourown.org/tags/Stranger%20Things%20(TV%202016)/works?page=2083', 'https://archiveofourown.org/tags/Stranger%20Things%20(TV%202016)/works?page=2084', 'https://archiveofourown.org/tags/Stranger%20Things%20(TV%202016)/works?page=2085', 'https://archiveofourown.org/tags/Stranger%20Things%20(TV%202016)/works?page=2086', 'https://archiveofourown.org/tags/Stranger%20Things%20(TV%202016)/works?page=2087', 'https://archiveofourown.org/tags/Stranger%20Things%20(TV%202016)/works?page=2088', 'https://archiveofourown.org/tags/Stranger%20Things%20(TV%202016)/works?page=2089', 'https://archiveofourown.org/tags/Stranger%20Things%20(TV%202016)/works?page=2090', 'https://archiveofourown.org/tags/Stranger%20Things%20(TV%202016)/works?page=2091', 'https://archiveofourown.org/tags/Stranger%20Things%20(TV%202016)/works?page=2092', 'https://archiveofourown.org/tags/Stranger%20Things%20(TV%202016)/works?page=2093', 'https://archiveofourown.org/tags/Stranger%20Things%20(TV%202016)/works?page=2094', 'https://archiveofourown.org/tags/Stranger%20Things%20(TV%202016)/works?page=2095', 'https://archiveofourown.org/tags/Stranger%20Things%20(TV%202016)/works?page=2096', 'https://archiveofourown.org/tags/Stranger%20Things%20(TV%202016)/works?page=2097', 'https://archiveofourown.org/tags/Stranger%20Things%20(TV%202016)/works?page=2098', 'https://archiveofourown.org/tags/Stranger%20Things%20(TV%202016)/works?page=2099', 'https://archiveofourown.org/tags/Stranger%20Things%20(TV%202016)/works?page=2100', 'https://archiveofourown.org/tags/Stranger%20Things%20(TV%202016)/works?page=2101', 'https://archiveofourown.org/tags/Stranger%20Things%20(TV%202016)/works?page=2102', 'https://archiveofourown.org/tags/Stranger%20Things%20(TV%202016)/works?page=2103', 'https://archiveofourown.org/tags/Stranger%20Things%20(TV%202016)/works?page=2104', 'https://archiveofourown.org/tags/Stranger%20Things%20(TV%202016)/works?page=2105', 'https://archiveofourown.org/tags/Stranger%20Things%20(TV%202016)/works?page=2106', 'https://archiveofourown.org/tags/Stranger%20Things%20(TV%202016)/works?page=2107', 'https://archiveofourown.org/tags/Stranger%20Things%20(TV%202016)/works?page=2108', 'https://archiveofourown.org/tags/Stranger%20Things%20(TV%202016)/works?page=2109', 'https://archiveofourown.org/tags/Stranger%20Things%20(TV%202016)/works?page=2110', 'https://archiveofourown.org/tags/Stranger%20Things%20(TV%202016)/works?page=2111', 'https://archiveofourown.org/tags/Stranger%20Things%20(TV%202016)/works?page=2112', 'https://archiveofourown.org/tags/Stranger%20Things%20(TV%202016)/works?page=2113', 'https://archiveofourown.org/tags/Stranger%20Things%20(TV%202016)/works?page=2114', 'https://archiveofourown.org/tags/Stranger%20Things%20(TV%202016)/works?page=2115', 'https://archiveofourown.org/tags/Stranger%20Things%20(TV%202016)/works?page=2116', 'https://archiveofourown.org/tags/Stranger%20Things%20(TV%202016)/works?page=2117', 'https://archiveofourown.org/tags/Stranger%20Things%20(TV%202016)/works?page=2118', 'https://archiveofourown.org/tags/Stranger%20Things%20(TV%202016)/works?page=2119', 'https://archiveofourown.org/tags/Stranger%20Things%20(TV%202016)/works?page=2120', 'https://archiveofourown.org/tags/Stranger%20Things%20(TV%202016)/works?page=2121', 'https://archiveofourown.org/tags/Stranger%20Things%20(TV%202016)/works?page=2122', 'https://archiveofourown.org/tags/Stranger%20Things%20(TV%202016)/works?page=2123', 'https://archiveofourown.org/tags/Stranger%20Things%20(TV%202016)/works?page=2124', 'https://archiveofourown.org/tags/Stranger%20Things%20(TV%202016)/works?page=2125', 'https://archiveofourown.org/tags/Stranger%20Things%20(TV%202016)/works?page=2126', 'https://archiveofourown.org/tags/Stranger%20Things%20(TV%202016)/works?page=2127', 'https://archiveofourown.org/tags/Stranger%20Things%20(TV%202016)/works?page=2128', 'https://archiveofourown.org/tags/Stranger%20Things%20(TV%202016)/works?page=2129', 'https://archiveofourown.org/tags/Stranger%20Things%20(TV%202016)/works?page=2130', 'https://archiveofourown.org/tags/Stranger%20Things%20(TV%202016)/works?page=2131', 'https://archiveofourown.org/tags/Stranger%20Things%20(TV%202016)/works?page=2132', 'https://archiveofourown.org/tags/Stranger%20Things%20(TV%202016)/works?page=2133', 'https://archiveofourown.org/tags/Stranger%20Things%20(TV%202016)/works?page=2134', 'https://archiveofourown.org/tags/Stranger%20Things%20(TV%202016)/works?page=2135', 'https://archiveofourown.org/tags/Stranger%20Things%20(TV%202016)/works?page=2136', 'https://archiveofourown.org/tags/Stranger%20Things%20(TV%202016)/works?page=2137', 'https://archiveofourown.org/tags/Stranger%20Things%20(TV%202016)/works?page=2138', 'https://archiveofourown.org/tags/Stranger%20Things%20(TV%202016)/works?page=2139', 'https://archiveofourown.org/tags/Stranger%20Things%20(TV%202016)/works?page=2140', 'https://archiveofourown.org/tags/Stranger%20Things%20(TV%202016)/works?page=2141', 'https://archiveofourown.org/tags/Stranger%20Things%20(TV%202016)/works?page=2142', 'https://archiveofourown.org/tags/Stranger%20Things%20(TV%202016)/works?page=2143', 'https://archiveofourown.org/tags/Stranger%20Things%20(TV%202016)/works?page=2144', 'https://archiveofourown.org/tags/Stranger%20Things%20(TV%202016)/works?page=2145', 'https://archiveofourown.org/tags/Stranger%20Things%20(TV%202016)/works?page=2146', 'https://archiveofourown.org/tags/Stranger%20Things%20(TV%202016)/works?page=2147', 'https://archiveofourown.org/tags/Stranger%20Things%20(TV%202016)/works?page=2148', 'https://archiveofourown.org/tags/Stranger%20Things%20(TV%202016)/works?page=2149', 'https://archiveofourown.org/tags/Stranger%20Things%20(TV%202016)/works?page=2150', 'https://archiveofourown.org/tags/Stranger%20Things%20(TV%202016)/works?page=2151', 'https://archiveofourown.org/tags/Stranger%20Things%20(TV%202016)/works?page=2152', 'https://archiveofourown.org/tags/Stranger%20Things%20(TV%202016)/works?page=2153', 'https://archiveofourown.org/tags/Stranger%20Things%20(TV%202016)/works?page=2154', 'https://archiveofourown.org/tags/Stranger%20Things%20(TV%202016)/works?page=2155', 'https://archiveofourown.org/tags/Stranger%20Things%20(TV%202016)/works?page=2156', 'https://archiveofourown.org/tags/Stranger%20Things%20(TV%202016)/works?page=2157', 'https://archiveofourown.org/tags/Stranger%20Things%20(TV%202016)/works?page=2158', 'https://archiveofourown.org/tags/Stranger%20Things%20(TV%202016)/works?page=2159', 'https://archiveofourown.org/tags/Stranger%20Things%20(TV%202016)/works?page=2160', 'https://archiveofourown.org/tags/Stranger%20Things%20(TV%202016)/works?page=2161', 'https://archiveofourown.org/tags/Stranger%20Things%20(TV%202016)/works?page=2162', 'https://archiveofourown.org/tags/Stranger%20Things%20(TV%202016)/works?page=2163', 'https://archiveofourown.org/tags/Stranger%20Things%20(TV%202016)/works?page=2164', 'https://archiveofourown.org/tags/Stranger%20Things%20(TV%202016)/works?page=2165', 'https://archiveofourown.org/tags/Stranger%20Things%20(TV%202016)/works?page=2166', 'https://archiveofourown.org/tags/Stranger%20Things%20(TV%202016)/works?page=2167', 'https://archiveofourown.org/tags/Stranger%20Things%20(TV%202016)/works?page=2168', 'https://archiveofourown.org/tags/Stranger%20Things%20(TV%202016)/works?page=2169', 'https://archiveofourown.org/tags/Stranger%20Things%20(TV%202016)/works?page=2170', 'https://archiveofourown.org/tags/Stranger%20Things%20(TV%202016)/works?page=2171', 'https://archiveofourown.org/tags/Stranger%20Things%20(TV%202016)/works?page=2172', 'https://archiveofourown.org/tags/Stranger%20Things%20(TV%202016)/works?page=2173', 'https://archiveofourown.org/tags/Stranger%20Things%20(TV%202016)/works?page=2174', 'https://archiveofourown.org/tags/Stranger%20Things%20(TV%202016)/works?page=2175', 'https://archiveofourown.org/tags/Stranger%20Things%20(TV%202016)/works?page=2176', 'https://archiveofourown.org/tags/Stranger%20Things%20(TV%202016)/works?page=2177', 'https://archiveofourown.org/tags/Stranger%20Things%20(TV%202016)/works?page=2178', 'https://archiveofourown.org/tags/Stranger%20Things%20(TV%202016)/works?page=2179', 'https://archiveofourown.org/tags/Stranger%20Things%20(TV%202016)/works?page=2180', 'https://archiveofourown.org/tags/Stranger%20Things%20(TV%202016)/works?page=2181', 'https://archiveofourown.org/tags/Stranger%20Things%20(TV%202016)/works?page=2182', 'https://archiveofourown.org/tags/Stranger%20Things%20(TV%202016)/works?page=2183', 'https://archiveofourown.org/tags/Stranger%20Things%20(TV%202016)/works?page=2184', 'https://archiveofourown.org/tags/Stranger%20Things%20(TV%202016)/works?page=2185', 'https://archiveofourown.org/tags/Stranger%20Things%20(TV%202016)/works?page=2186', 'https://archiveofourown.org/tags/Stranger%20Things%20(TV%202016)/works?page=2187', 'https://archiveofourown.org/tags/Stranger%20Things%20(TV%202016)/works?page=2188', 'https://archiveofourown.org/tags/Stranger%20Things%20(TV%202016)/works?page=2189', 'https://archiveofourown.org/tags/Stranger%20Things%20(TV%202016)/works?page=2190', 'https://archiveofourown.org/tags/Stranger%20Things%20(TV%202016)/works?page=2191', 'https://archiveofourown.org/tags/Stranger%20Things%20(TV%202016)/works?page=2192', 'https://archiveofourown.org/tags/Stranger%20Things%20(TV%202016)/works?page=2193', 'https://archiveofourown.org/tags/Stranger%20Things%20(TV%202016)/works?page=2194', 'https://archiveofourown.org/tags/Stranger%20Things%20(TV%202016)/works?page=2195', 'https://archiveofourown.org/tags/Stranger%20Things%20(TV%202016)/works?page=2196', 'https://archiveofourown.org/tags/Stranger%20Things%20(TV%202016)/works?page=2197', 'https://archiveofourown.org/tags/Stranger%20Things%20(TV%202016)/works?page=2198', 'https://archiveofourown.org/tags/Stranger%20Things%20(TV%202016)/works?page=2199', 'https://archiveofourown.org/tags/Stranger%20Things%20(TV%202016)/works?page=2200', 'https://archiveofourown.org/tags/Stranger%20Things%20(TV%202016)/works?page=2201', 'https://archiveofourown.org/tags/Stranger%20Things%20(TV%202016)/works?page=2202', 'https://archiveofourown.org/tags/Stranger%20Things%20(TV%202016)/works?page=2203', 'https://archiveofourown.org/tags/Stranger%20Things%20(TV%202016)/works?page=2204', 'https://archiveofourown.org/tags/Stranger%20Things%20(TV%202016)/works?page=2205', 'https://archiveofourown.org/tags/Stranger%20Things%20(TV%202016)/works?page=2206', 'https://archiveofourown.org/tags/Stranger%20Things%20(TV%202016)/works?page=2207', 'https://archiveofourown.org/tags/Stranger%20Things%20(TV%202016)/works?page=2208', 'https://archiveofourown.org/tags/Stranger%20Things%20(TV%202016)/works?page=2209', 'https://archiveofourown.org/tags/Stranger%20Things%20(TV%202016)/works?page=2210', 'https://archiveofourown.org/tags/Stranger%20Things%20(TV%202016)/works?page=2211', 'https://archiveofourown.org/tags/Stranger%20Things%20(TV%202016)/works?page=2212', 'https://archiveofourown.org/tags/Stranger%20Things%20(TV%202016)/works?page=2213', 'https://archiveofourown.org/tags/Stranger%20Things%20(TV%202016)/works?page=2214', 'https://archiveofourown.org/tags/Stranger%20Things%20(TV%202016)/works?page=2215', 'https://archiveofourown.org/tags/Stranger%20Things%20(TV%202016)/works?page=2216', 'https://archiveofourown.org/tags/Stranger%20Things%20(TV%202016)/works?page=2217', 'https://archiveofourown.org/tags/Stranger%20Things%20(TV%202016)/works?page=2218', 'https://archiveofourown.org/tags/Stranger%20Things%20(TV%202016)/works?page=2219', 'https://archiveofourown.org/tags/Stranger%20Things%20(TV%202016)/works?page=2220', 'https://archiveofourown.org/tags/Stranger%20Things%20(TV%202016)/works?page=2221', 'https://archiveofourown.org/tags/Stranger%20Things%20(TV%202016)/works?page=2222', 'https://archiveofourown.org/tags/Stranger%20Things%20(TV%202016)/works?page=2223', 'https://archiveofourown.org/tags/Stranger%20Things%20(TV%202016)/works?page=2224', 'https://archiveofourown.org/tags/Stranger%20Things%20(TV%202016)/works?page=2225', 'https://archiveofourown.org/tags/Stranger%20Things%20(TV%202016)/works?page=2226', 'https://archiveofourown.org/tags/Stranger%20Things%20(TV%202016)/works?page=2227', 'https://archiveofourown.org/tags/Stranger%20Things%20(TV%202016)/works?page=2228', 'https://archiveofourown.org/tags/Stranger%20Things%20(TV%202016)/works?page=2229', 'https://archiveofourown.org/tags/Stranger%20Things%20(TV%202016)/works?page=2230', 'https://archiveofourown.org/tags/Stranger%20Things%20(TV%202016)/works?page=2231', 'https://archiveofourown.org/tags/Stranger%20Things%20(TV%202016)/works?page=2232', 'https://archiveofourown.org/tags/Stranger%20Things%20(TV%202016)/works?page=2233', 'https://archiveofourown.org/tags/Stranger%20Things%20(TV%202016)/works?page=2234', 'https://archiveofourown.org/tags/Stranger%20Things%20(TV%202016)/works?page=2235', 'https://archiveofourown.org/tags/Stranger%20Things%20(TV%202016)/works?page=2236', 'https://archiveofourown.org/tags/Stranger%20Things%20(TV%202016)/works?page=2237', 'https://archiveofourown.org/tags/Stranger%20Things%20(TV%202016)/works?page=2238', 'https://archiveofourown.org/tags/Stranger%20Things%20(TV%202016)/works?page=2239', 'https://archiveofourown.org/tags/Stranger%20Things%20(TV%202016)/works?page=2240', 'https://archiveofourown.org/tags/Stranger%20Things%20(TV%202016)/works?page=2241', 'https://archiveofourown.org/tags/Stranger%20Things%20(TV%202016)/works?page=2242', 'https://archiveofourown.org/tags/Stranger%20Things%20(TV%202016)/works?page=2243', 'https://archiveofourown.org/tags/Stranger%20Things%20(TV%202016)/works?page=2244', 'https://archiveofourown.org/tags/Stranger%20Things%20(TV%202016)/works?page=2245', 'https://archiveofourown.org/tags/Stranger%20Things%20(TV%202016)/works?page=2246', 'https://archiveofourown.org/tags/Stranger%20Things%20(TV%202016)/works?page=2247', 'https://archiveofourown.org/tags/Stranger%20Things%20(TV%202016)/works?page=2248', 'https://archiveofourown.org/tags/Stranger%20Things%20(TV%202016)/works?page=2249', 'https://archiveofourown.org/tags/Stranger%20Things%20(TV%202016)/works?page=2250', 'https://archiveofourown.org/tags/Stranger%20Things%20(TV%202016)/works?page=2251', 'https://archiveofourown.org/tags/Stranger%20Things%20(TV%202016)/works?page=2252', 'https://archiveofourown.org/tags/Stranger%20Things%20(TV%202016)/works?page=2253', 'https://archiveofourown.org/tags/Stranger%20Things%20(TV%202016)/works?page=2254', 'https://archiveofourown.org/tags/Stranger%20Things%20(TV%202016)/works?page=2255', 'https://archiveofourown.org/tags/Stranger%20Things%20(TV%202016)/works?page=2256', 'https://archiveofourown.org/tags/Stranger%20Things%20(TV%202016)/works?page=2257', 'https://archiveofourown.org/tags/Stranger%20Things%20(TV%202016)/works?page=2258', 'https://archiveofourown.org/tags/Stranger%20Things%20(TV%202016)/works?page=2259', 'https://archiveofourown.org/tags/Stranger%20Things%20(TV%202016)/works?page=2260', 'https://archiveofourown.org/tags/Stranger%20Things%20(TV%202016)/works?page=2261', 'https://archiveofourown.org/tags/Stranger%20Things%20(TV%202016)/works?page=2262', 'https://archiveofourown.org/tags/Stranger%20Things%20(TV%202016)/works?page=2263', 'https://archiveofourown.org/tags/Stranger%20Things%20(TV%202016)/works?page=2264', 'https://archiveofourown.org/tags/Stranger%20Things%20(TV%202016)/works?page=2265', 'https://archiveofourown.org/tags/Stranger%20Things%20(TV%202016)/works?page=2266', 'https://archiveofourown.org/tags/Stranger%20Things%20(TV%202016)/works?page=2267', 'https://archiveofourown.org/tags/Stranger%20Things%20(TV%202016)/works?page=2268', 'https://archiveofourown.org/tags/Stranger%20Things%20(TV%202016)/works?page=2269', 'https://archiveofourown.org/tags/Stranger%20Things%20(TV%202016)/works?page=2270', 'https://archiveofourown.org/tags/Stranger%20Things%20(TV%202016)/works?page=2271', 'https://archiveofourown.org/tags/Stranger%20Things%20(TV%202016)/works?page=2272', 'https://archiveofourown.org/tags/Stranger%20Things%20(TV%202016)/works?page=2273', 'https://archiveofourown.org/tags/Stranger%20Things%20(TV%202016)/works?page=2274', 'https://archiveofourown.org/tags/Stranger%20Things%20(TV%202016)/works?page=2275', 'https://archiveofourown.org/tags/Stranger%20Things%20(TV%202016)/works?page=2276', 'https://archiveofourown.org/tags/Stranger%20Things%20(TV%202016)/works?page=2277', 'https://archiveofourown.org/tags/Stranger%20Things%20(TV%202016)/works?page=2278', 'https://archiveofourown.org/tags/Stranger%20Things%20(TV%202016)/works?page=2279', 'https://archiveofourown.org/tags/Stranger%20Things%20(TV%202016)/works?page=2280', 'https://archiveofourown.org/tags/Stranger%20Things%20(TV%202016)/works?page=2281', 'https://archiveofourown.org/tags/Stranger%20Things%20(TV%202016)/works?page=2282', 'https://archiveofourown.org/tags/Stranger%20Things%20(TV%202016)/works?page=2283', 'https://archiveofourown.org/tags/Stranger%20Things%20(TV%202016)/works?page=2284', 'https://archiveofourown.org/tags/Stranger%20Things%20(TV%202016)/works?page=2285', 'https://archiveofourown.org/tags/Stranger%20Things%20(TV%202016)/works?page=2286', 'https://archiveofourown.org/tags/Stranger%20Things%20(TV%202016)/works?page=2287', 'https://archiveofourown.org/tags/Stranger%20Things%20(TV%202016)/works?page=2288', 'https://archiveofourown.org/tags/Stranger%20Things%20(TV%202016)/works?page=2289', 'https://archiveofourown.org/tags/Stranger%20Things%20(TV%202016)/works?page=2290', 'https://archiveofourown.org/tags/Stranger%20Things%20(TV%202016)/works?page=2291', 'https://archiveofourown.org/tags/Stranger%20Things%20(TV%202016)/works?page=2292', 'https://archiveofourown.org/tags/Stranger%20Things%20(TV%202016)/works?page=2293', 'https://archiveofourown.org/tags/Stranger%20Things%20(TV%202016)/works?page=2294', 'https://archiveofourown.org/tags/Stranger%20Things%20(TV%202016)/works?page=2295', 'https://archiveofourown.org/tags/Stranger%20Things%20(TV%202016)/works?page=2296', 'https://archiveofourown.org/tags/Stranger%20Things%20(TV%202016)/works?page=2297', 'https://archiveofourown.org/tags/Stranger%20Things%20(TV%202016)/works?page=2298', 'https://archiveofourown.org/tags/Stranger%20Things%20(TV%202016)/works?page=2299', 'https://archiveofourown.org/tags/Stranger%20Things%20(TV%202016)/works?page=2300', 'https://archiveofourown.org/tags/Stranger%20Things%20(TV%202016)/works?page=2301', 'https://archiveofourown.org/tags/Stranger%20Things%20(TV%202016)/works?page=2302', 'https://archiveofourown.org/tags/Stranger%20Things%20(TV%202016)/works?page=2303', 'https://archiveofourown.org/tags/Stranger%20Things%20(TV%202016)/works?page=2304', 'https://archiveofourown.org/tags/Stranger%20Things%20(TV%202016)/works?page=2305', 'https://archiveofourown.org/tags/Stranger%20Things%20(TV%202016)/works?page=2306', 'https://archiveofourown.org/tags/Stranger%20Things%20(TV%202016)/works?page=2307', 'https://archiveofourown.org/tags/Stranger%20Things%20(TV%202016)/works?page=2308', 'https://archiveofourown.org/tags/Stranger%20Things%20(TV%202016)/works?page=2309', 'https://archiveofourown.org/tags/Stranger%20Things%20(TV%202016)/works?page=2310', 'https://archiveofourown.org/tags/Stranger%20Things%20(TV%202016)/works?page=2311', 'https://archiveofourown.org/tags/Stranger%20Things%20(TV%202016)/works?page=2312', 'https://archiveofourown.org/tags/Stranger%20Things%20(TV%202016)/works?page=2313', 'https://archiveofourown.org/tags/Stranger%20Things%20(TV%202016)/works?page=2314', 'https://archiveofourown.org/tags/Stranger%20Things%20(TV%202016)/works?page=2315', 'https://archiveofourown.org/tags/Stranger%20Things%20(TV%202016)/works?page=2316', 'https://archiveofourown.org/tags/Stranger%20Things%20(TV%202016)/works?page=2317', 'https://archiveofourown.org/tags/Stranger%20Things%20(TV%202016)/works?page=2318', 'https://archiveofourown.org/tags/Stranger%20Things%20(TV%202016)/works?page=2319', 'https://archiveofourown.org/tags/Stranger%20Things%20(TV%202016)/works?page=2320', 'https://archiveofourown.org/tags/Stranger%20Things%20(TV%202016)/works?page=2321', 'https://archiveofourown.org/tags/Stranger%20Things%20(TV%202016)/works?page=2322', 'https://archiveofourown.org/tags/Stranger%20Things%20(TV%202016)/works?page=2323', 'https://archiveofourown.org/tags/Stranger%20Things%20(TV%202016)/works?page=2324', 'https://archiveofourown.org/tags/Stranger%20Things%20(TV%202016)/works?page=2325', 'https://archiveofourown.org/tags/Stranger%20Things%20(TV%202016)/works?page=2326', 'https://archiveofourown.org/tags/Stranger%20Things%20(TV%202016)/works?page=2327', 'https://archiveofourown.org/tags/Stranger%20Things%20(TV%202016)/works?page=2328', 'https://archiveofourown.org/tags/Stranger%20Things%20(TV%202016)/works?page=2329', 'https://archiveofourown.org/tags/Stranger%20Things%20(TV%202016)/works?page=2330', 'https://archiveofourown.org/tags/Stranger%20Things%20(TV%202016)/works?page=2331', 'https://archiveofourown.org/tags/Stranger%20Things%20(TV%202016)/works?page=2332', 'https://archiveofourown.org/tags/Stranger%20Things%20(TV%202016)/works?page=2333', 'https://archiveofourown.org/tags/Stranger%20Things%20(TV%202016)/works?page=2334', 'https://archiveofourown.org/tags/Stranger%20Things%20(TV%202016)/works?page=2335', 'https://archiveofourown.org/tags/Stranger%20Things%20(TV%202016)/works?page=2336', 'https://archiveofourown.org/tags/Stranger%20Things%20(TV%202016)/works?page=2337', 'https://archiveofourown.org/tags/Stranger%20Things%20(TV%202016)/works?page=2338', 'https://archiveofourown.org/tags/Stranger%20Things%20(TV%202016)/works?page=2339', 'https://archiveofourown.org/tags/Stranger%20Things%20(TV%202016)/works?page=2340', 'https://archiveofourown.org/tags/Stranger%20Things%20(TV%202016)/works?page=2341', 'https://archiveofourown.org/tags/Stranger%20Things%20(TV%202016)/works?page=2342', 'https://archiveofourown.org/tags/Stranger%20Things%20(TV%202016)/works?page=2343', 'https://archiveofourown.org/tags/Stranger%20Things%20(TV%202016)/works?page=2344', 'https://archiveofourown.org/tags/Stranger%20Things%20(TV%202016)/works?page=2345', 'https://archiveofourown.org/tags/Stranger%20Things%20(TV%202016)/works?page=2346', 'https://archiveofourown.org/tags/Stranger%20Things%20(TV%202016)/works?page=2347', 'https://archiveofourown.org/tags/Stranger%20Things%20(TV%202016)/works?page=2348', 'https://archiveofourown.org/tags/Stranger%20Things%20(TV%202016)/works?page=2349', 'https://archiveofourown.org/tags/Stranger%20Things%20(TV%202016)/works?page=2350', 'https://archiveofourown.org/tags/Stranger%20Things%20(TV%202016)/works?page=2351', 'https://archiveofourown.org/tags/Stranger%20Things%20(TV%202016)/works?page=2352', 'https://archiveofourown.org/tags/Stranger%20Things%20(TV%202016)/works?page=2353', 'https://archiveofourown.org/tags/Stranger%20Things%20(TV%202016)/works?page=2354', 'https://archiveofourown.org/tags/Stranger%20Things%20(TV%202016)/works?page=2355', 'https://archiveofourown.org/tags/Stranger%20Things%20(TV%202016)/works?page=2356', 'https://archiveofourown.org/tags/Stranger%20Things%20(TV%202016)/works?page=2357', 'https://archiveofourown.org/tags/Stranger%20Things%20(TV%202016)/works?page=2358', 'https://archiveofourown.org/tags/Stranger%20Things%20(TV%202016)/works?page=2359', 'https://archiveofourown.org/tags/Stranger%20Things%20(TV%202016)/works?page=2360', 'https://archiveofourown.org/tags/Stranger%20Things%20(TV%202016)/works?page=2361', 'https://archiveofourown.org/tags/Stranger%20Things%20(TV%202016)/works?page=2362', 'https://archiveofourown.org/tags/Stranger%20Things%20(TV%202016)/works?page=2363', 'https://archiveofourown.org/tags/Stranger%20Things%20(TV%202016)/works?page=2364', 'https://archiveofourown.org/tags/Stranger%20Things%20(TV%202016)/works?page=2365', 'https://archiveofourown.org/tags/Stranger%20Things%20(TV%202016)/works?page=2366', 'https://archiveofourown.org/tags/Stranger%20Things%20(TV%202016)/works?page=2367', 'https://archiveofourown.org/tags/Stranger%20Things%20(TV%202016)/works?page=2368', 'https://archiveofourown.org/tags/Stranger%20Things%20(TV%202016)/works?page=2369', 'https://archiveofourown.org/tags/Stranger%20Things%20(TV%202016)/works?page=2370', 'https://archiveofourown.org/tags/Stranger%20Things%20(TV%202016)/works?page=2371', 'https://archiveofourown.org/tags/Stranger%20Things%20(TV%202016)/works?page=2372', 'https://archiveofourown.org/tags/Stranger%20Things%20(TV%202016)/works?page=2373', 'https://archiveofourown.org/tags/Stranger%20Things%20(TV%202016)/works?page=2374', 'https://archiveofourown.org/tags/Stranger%20Things%20(TV%202016)/works?page=2375', 'https://archiveofourown.org/tags/Stranger%20Things%20(TV%202016)/works?page=2376', 'https://archiveofourown.org/tags/Stranger%20Things%20(TV%202016)/works?page=2377', 'https://archiveofourown.org/tags/Stranger%20Things%20(TV%202016)/works?page=2378', 'https://archiveofourown.org/tags/Stranger%20Things%20(TV%202016)/works?page=2379', 'https://archiveofourown.org/tags/Stranger%20Things%20(TV%202016)/works?page=2380', 'https://archiveofourown.org/tags/Stranger%20Things%20(TV%202016)/works?page=2381', 'https://archiveofourown.org/tags/Stranger%20Things%20(TV%202016)/works?page=2382', 'https://archiveofourown.org/tags/Stranger%20Things%20(TV%202016)/works?page=2383', 'https://archiveofourown.org/tags/Stranger%20Things%20(TV%202016)/works?page=2384', 'https://archiveofourown.org/tags/Stranger%20Things%20(TV%202016)/works?page=2385', 'https://archiveofourown.org/tags/Stranger%20Things%20(TV%202016)/works?page=2386', 'https://archiveofourown.org/tags/Stranger%20Things%20(TV%202016)/works?page=2387', 'https://archiveofourown.org/tags/Stranger%20Things%20(TV%202016)/works?page=2388', 'https://archiveofourown.org/tags/Stranger%20Things%20(TV%202016)/works?page=2389', 'https://archiveofourown.org/tags/Stranger%20Things%20(TV%202016)/works?page=2390', 'https://archiveofourown.org/tags/Stranger%20Things%20(TV%202016)/works?page=2391', 'https://archiveofourown.org/tags/Stranger%20Things%20(TV%202016)/works?page=2392', 'https://archiveofourown.org/tags/Stranger%20Things%20(TV%202016)/works?page=2393', 'https://archiveofourown.org/tags/Stranger%20Things%20(TV%202016)/works?page=2394', 'https://archiveofourown.org/tags/Stranger%20Things%20(TV%202016)/works?page=2395', 'https://archiveofourown.org/tags/Stranger%20Things%20(TV%202016)/works?page=2396', 'https://archiveofourown.org/tags/Stranger%20Things%20(TV%202016)/works?page=2397', 'https://archiveofourown.org/tags/Stranger%20Things%20(TV%202016)/works?page=2398', 'https://archiveofourown.org/tags/Stranger%20Things%20(TV%202016)/works?page=2399', 'https://archiveofourown.org/tags/Stranger%20Things%20(TV%202016)/works?page=2400', 'https://archiveofourown.org/tags/Stranger%20Things%20(TV%202016)/works?page=2401', 'https://archiveofourown.org/tags/Stranger%20Things%20(TV%202016)/works?page=2402', 'https://archiveofourown.org/tags/Stranger%20Things%20(TV%202016)/works?page=2403', 'https://archiveofourown.org/tags/Stranger%20Things%20(TV%202016)/works?page=2404', 'https://archiveofourown.org/tags/Stranger%20Things%20(TV%202016)/works?page=2405', 'https://archiveofourown.org/tags/Stranger%20Things%20(TV%202016)/works?page=2406', 'https://archiveofourown.org/tags/Stranger%20Things%20(TV%202016)/works?page=2407', 'https://archiveofourown.org/tags/Stranger%20Things%20(TV%202016)/works?page=2408', 'https://archiveofourown.org/tags/Stranger%20Things%20(TV%202016)/works?page=2409', 'https://archiveofourown.org/tags/Stranger%20Things%20(TV%202016)/works?page=2410', 'https://archiveofourown.org/tags/Stranger%20Things%20(TV%202016)/works?page=2411', 'https://archiveofourown.org/tags/Stranger%20Things%20(TV%202016)/works?page=2412', 'https://archiveofourown.org/tags/Stranger%20Things%20(TV%202016)/works?page=2413', 'https://archiveofourown.org/tags/Stranger%20Things%20(TV%202016)/works?page=2414', 'https://archiveofourown.org/tags/Stranger%20Things%20(TV%202016)/works?page=2415', 'https://archiveofourown.org/tags/Stranger%20Things%20(TV%202016)/works?page=2416', 'https://archiveofourown.org/tags/Stranger%20Things%20(TV%202016)/works?page=2417', 'https://archiveofourown.org/tags/Stranger%20Things%20(TV%202016)/works?page=2418', 'https://archiveofourown.org/tags/Stranger%20Things%20(TV%202016)/works?page=2419', 'https://archiveofourown.org/tags/Stranger%20Things%20(TV%202016)/works?page=2420', 'https://archiveofourown.org/tags/Stranger%20Things%20(TV%202016)/works?page=2421', 'https://archiveofourown.org/tags/Stranger%20Things%20(TV%202016)/works?page=2422', 'https://archiveofourown.org/tags/Stranger%20Things%20(TV%202016)/works?page=2423', 'https://archiveofourown.org/tags/Stranger%20Things%20(TV%202016)/works?page=2424', 'https://archiveofourown.org/tags/Stranger%20Things%20(TV%202016)/works?page=2425', 'https://archiveofourown.org/tags/Stranger%20Things%20(TV%202016)/works?page=2426', 'https://archiveofourown.org/tags/Stranger%20Things%20(TV%202016)/works?page=2427', 'https://archiveofourown.org/tags/Stranger%20Things%20(TV%202016)/works?page=2428', 'https://archiveofourown.org/tags/Stranger%20Things%20(TV%202016)/works?page=2429', 'https://archiveofourown.org/tags/Stranger%20Things%20(TV%202016)/works?page=2430', 'https://archiveofourown.org/tags/Stranger%20Things%20(TV%202016)/works?page=2431', 'https://archiveofourown.org/tags/Stranger%20Things%20(TV%202016)/works?page=2432', 'https://archiveofourown.org/tags/Stranger%20Things%20(TV%202016)/works?page=2433', 'https://archiveofourown.org/tags/Stranger%20Things%20(TV%202016)/works?page=2434', 'https://archiveofourown.org/tags/Stranger%20Things%20(TV%202016)/works?page=2435', 'https://archiveofourown.org/tags/Stranger%20Things%20(TV%202016)/works?page=2436', 'https://archiveofourown.org/tags/Stranger%20Things%20(TV%202016)/works?page=2437', 'https://archiveofourown.org/tags/Stranger%20Things%20(TV%202016)/works?page=2438', 'https://archiveofourown.org/tags/Stranger%20Things%20(TV%202016)/works?page=2439', 'https://archiveofourown.org/tags/Stranger%20Things%20(TV%202016)/works?page=2440', 'https://archiveofourown.org/tags/Stranger%20Things%20(TV%202016)/works?page=2441', 'https://archiveofourown.org/tags/Stranger%20Things%20(TV%202016)/works?page=2442', 'https://archiveofourown.org/tags/Stranger%20Things%20(TV%202016)/works?page=2443', 'https://archiveofourown.org/tags/Stranger%20Things%20(TV%202016)/works?page=2444', 'https://archiveofourown.org/tags/Stranger%20Things%20(TV%202016)/works?page=2445', 'https://archiveofourown.org/tags/Stranger%20Things%20(TV%202016)/works?page=2446', 'https://archiveofourown.org/tags/Stranger%20Things%20(TV%202016)/works?page=2447', 'https://archiveofourown.org/tags/Stranger%20Things%20(TV%202016)/works?page=2448', 'https://archiveofourown.org/tags/Stranger%20Things%20(TV%202016)/works?page=2449', 'https://archiveofourown.org/tags/Stranger%20Things%20(TV%202016)/works?page=2450', 'https://archiveofourown.org/tags/Stranger%20Things%20(TV%202016)/works?page=2451', 'https://archiveofourown.org/tags/Stranger%20Things%20(TV%202016)/works?page=2452', 'https://archiveofourown.org/tags/Stranger%20Things%20(TV%202016)/works?page=2453', 'https://archiveofourown.org/tags/Stranger%20Things%20(TV%202016)/works?page=2454', 'https://archiveofourown.org/tags/Stranger%20Things%20(TV%202016)/works?page=2455', 'https://archiveofourown.org/tags/Stranger%20Things%20(TV%202016)/works?page=2456', 'https://archiveofourown.org/tags/Stranger%20Things%20(TV%202016)/works?page=2457', 'https://archiveofourown.org/tags/Stranger%20Things%20(TV%202016)/works?page=2458', 'https://archiveofourown.org/tags/Stranger%20Things%20(TV%202016)/works?page=2459', 'https://archiveofourown.org/tags/Stranger%20Things%20(TV%202016)/works?page=2460', 'https://archiveofourown.org/tags/Stranger%20Things%20(TV%202016)/works?page=2461', 'https://archiveofourown.org/tags/Stranger%20Things%20(TV%202016)/works?page=2462', 'https://archiveofourown.org/tags/Stranger%20Things%20(TV%202016)/works?page=2463', 'https://archiveofourown.org/tags/Stranger%20Things%20(TV%202016)/works?page=2464', 'https://archiveofourown.org/tags/Stranger%20Things%20(TV%202016)/works?page=2465', 'https://archiveofourown.org/tags/Stranger%20Things%20(TV%202016)/works?page=2466', 'https://archiveofourown.org/tags/Stranger%20Things%20(TV%202016)/works?page=2467', 'https://archiveofourown.org/tags/Stranger%20Things%20(TV%202016)/works?page=2468', 'https://archiveofourown.org/tags/Stranger%20Things%20(TV%202016)/works?page=2469', 'https://archiveofourown.org/tags/Stranger%20Things%20(TV%202016)/works?page=2470', 'https://archiveofourown.org/tags/Stranger%20Things%20(TV%202016)/works?page=2471', 'https://archiveofourown.org/tags/Stranger%20Things%20(TV%202016)/works?page=2472', 'https://archiveofourown.org/tags/Stranger%20Things%20(TV%202016)/works?page=2473', 'https://archiveofourown.org/tags/Stranger%20Things%20(TV%202016)/works?page=2474', 'https://archiveofourown.org/tags/Stranger%20Things%20(TV%202016)/works?page=2475', 'https://archiveofourown.org/tags/Stranger%20Things%20(TV%202016)/works?page=2476', 'https://archiveofourown.org/tags/Stranger%20Things%20(TV%202016)/works?page=2477', 'https://archiveofourown.org/tags/Stranger%20Things%20(TV%202016)/works?page=2478', 'https://archiveofourown.org/tags/Stranger%20Things%20(TV%202016)/works?page=2479', 'https://archiveofourown.org/tags/Stranger%20Things%20(TV%202016)/works?page=2480', 'https://archiveofourown.org/tags/Stranger%20Things%20(TV%202016)/works?page=2481', 'https://archiveofourown.org/tags/Stranger%20Things%20(TV%202016)/works?page=2482', 'https://archiveofourown.org/tags/Stranger%20Things%20(TV%202016)/works?page=2483', 'https://archiveofourown.org/tags/Stranger%20Things%20(TV%202016)/works?page=2484', 'https://archiveofourown.org/tags/Stranger%20Things%20(TV%202016)/works?page=2485', 'https://archiveofourown.org/tags/Stranger%20Things%20(TV%202016)/works?page=2486', 'https://archiveofourown.org/tags/Stranger%20Things%20(TV%202016)/works?page=2487', 'https://archiveofourown.org/tags/Stranger%20Things%20(TV%202016)/works?page=2488', 'https://archiveofourown.org/tags/Stranger%20Things%20(TV%202016)/works?page=2489', 'https://archiveofourown.org/tags/Stranger%20Things%20(TV%202016)/works?page=2490', 'https://archiveofourown.org/tags/Stranger%20Things%20(TV%202016)/works?page=2491', 'https://archiveofourown.org/tags/Stranger%20Things%20(TV%202016)/works?page=2492', 'https://archiveofourown.org/tags/Stranger%20Things%20(TV%202016)/works?page=2493', 'https://archiveofourown.org/tags/Stranger%20Things%20(TV%202016)/works?page=2494', 'https://archiveofourown.org/tags/Stranger%20Things%20(TV%202016)/works?page=2495', 'https://archiveofourown.org/tags/Stranger%20Things%20(TV%202016)/works?page=2496', 'https://archiveofourown.org/tags/Stranger%20Things%20(TV%202016)/works?page=2497', 'https://archiveofourown.org/tags/Stranger%20Things%20(TV%202016)/works?page=2498', 'https://archiveofourown.org/tags/Stranger%20Things%20(TV%202016)/works?page=2499', 'https://archiveofourown.org/tags/Stranger%20Things%20(TV%202016)/works?page=2500', 'https://archiveofourown.org/tags/Stranger%20Things%20(TV%202016)/works?page=2501', 'https://archiveofourown.org/tags/Stranger%20Things%20(TV%202016)/works?page=2502', 'https://archiveofourown.org/tags/Stranger%20Things%20(TV%202016)/works?page=2503', 'https://archiveofourown.org/tags/Stranger%20Things%20(TV%202016)/works?page=2504', 'https://archiveofourown.org/tags/Stranger%20Things%20(TV%202016)/works?page=2505', 'https://archiveofourown.org/tags/Stranger%20Things%20(TV%202016)/works?page=2506', 'https://archiveofourown.org/tags/Stranger%20Things%20(TV%202016)/works?page=2507', 'https://archiveofourown.org/tags/Stranger%20Things%20(TV%202016)/works?page=2508', 'https://archiveofourown.org/tags/Stranger%20Things%20(TV%202016)/works?page=2509', 'https://archiveofourown.org/tags/Stranger%20Things%20(TV%202016)/works?page=2510', 'https://archiveofourown.org/tags/Stranger%20Things%20(TV%202016)/works?page=2511', 'https://archiveofourown.org/tags/Stranger%20Things%20(TV%202016)/works?page=2512', 'https://archiveofourown.org/tags/Stranger%20Things%20(TV%202016)/works?page=2513', 'https://archiveofourown.org/tags/Stranger%20Things%20(TV%202016)/works?page=2514', 'https://archiveofourown.org/tags/Stranger%20Things%20(TV%202016)/works?page=2515', 'https://archiveofourown.org/tags/Stranger%20Things%20(TV%202016)/works?page=2516', 'https://archiveofourown.org/tags/Stranger%20Things%20(TV%202016)/works?page=2517', 'https://archiveofourown.org/tags/Stranger%20Things%20(TV%202016)/works?page=2518', 'https://archiveofourown.org/tags/Stranger%20Things%20(TV%202016)/works?page=2519', 'https://archiveofourown.org/tags/Stranger%20Things%20(TV%202016)/works?page=2520', 'https://archiveofourown.org/tags/Stranger%20Things%20(TV%202016)/works?page=2521', 'https://archiveofourown.org/tags/Stranger%20Things%20(TV%202016)/works?page=2522', 'https://archiveofourown.org/tags/Stranger%20Things%20(TV%202016)/works?page=2523', 'https://archiveofourown.org/tags/Stranger%20Things%20(TV%202016)/works?page=2524', 'https://archiveofourown.org/tags/Stranger%20Things%20(TV%202016)/works?page=2525', 'https://archiveofourown.org/tags/Stranger%20Things%20(TV%202016)/works?page=2526', 'https://archiveofourown.org/tags/Stranger%20Things%20(TV%202016)/works?page=2527', 'https://archiveofourown.org/tags/Stranger%20Things%20(TV%202016)/works?page=2528', 'https://archiveofourown.org/tags/Stranger%20Things%20(TV%202016)/works?page=2529', 'https://archiveofourown.org/tags/Stranger%20Things%20(TV%202016)/works?page=2530', 'https://archiveofourown.org/tags/Stranger%20Things%20(TV%202016)/works?page=2531', 'https://archiveofourown.org/tags/Stranger%20Things%20(TV%202016)/works?page=2532', 'https://archiveofourown.org/tags/Stranger%20Things%20(TV%202016)/works?page=2533', 'https://archiveofourown.org/tags/Stranger%20Things%20(TV%202016)/works?page=2534', 'https://archiveofourown.org/tags/Stranger%20Things%20(TV%202016)/works?page=2535', 'https://archiveofourown.org/tags/Stranger%20Things%20(TV%202016)/works?page=2536', 'https://archiveofourown.org/tags/Stranger%20Things%20(TV%202016)/works?page=2537', 'https://archiveofourown.org/tags/Stranger%20Things%20(TV%202016)/works?page=2538', 'https://archiveofourown.org/tags/Stranger%20Things%20(TV%202016)/works?page=2539', 'https://archiveofourown.org/tags/Stranger%20Things%20(TV%202016)/works?page=2540', 'https://archiveofourown.org/tags/Stranger%20Things%20(TV%202016)/works?page=2541', 'https://archiveofourown.org/tags/Stranger%20Things%20(TV%202016)/works?page=2542', 'https://archiveofourown.org/tags/Stranger%20Things%20(TV%202016)/works?page=2543', 'https://archiveofourown.org/tags/Stranger%20Things%20(TV%202016)/works?page=2544', 'https://archiveofourown.org/tags/Stranger%20Things%20(TV%202016)/works?page=2545', 'https://archiveofourown.org/tags/Stranger%20Things%20(TV%202016)/works?page=2546', 'https://archiveofourown.org/tags/Stranger%20Things%20(TV%202016)/works?page=2547', 'https://archiveofourown.org/tags/Stranger%20Things%20(TV%202016)/works?page=2548', 'https://archiveofourown.org/tags/Stranger%20Things%20(TV%202016)/works?page=2549', 'https://archiveofourown.org/tags/Stranger%20Things%20(TV%202016)/works?page=2550', 'https://archiveofourown.org/tags/Stranger%20Things%20(TV%202016)/works?page=2551', 'https://archiveofourown.org/tags/Stranger%20Things%20(TV%202016)/works?page=2552', 'https://archiveofourown.org/tags/Stranger%20Things%20(TV%202016)/works?page=2553', 'https://archiveofourown.org/tags/Stranger%20Things%20(TV%202016)/works?page=2554', 'https://archiveofourown.org/tags/Stranger%20Things%20(TV%202016)/works?page=2555', 'https://archiveofourown.org/tags/Stranger%20Things%20(TV%202016)/works?page=2556', 'https://archiveofourown.org/tags/Stranger%20Things%20(TV%202016)/works?page=2557', 'https://archiveofourown.org/tags/Stranger%20Things%20(TV%202016)/works?page=2558', 'https://archiveofourown.org/tags/Stranger%20Things%20(TV%202016)/works?page=2559', 'https://archiveofourown.org/tags/Stranger%20Things%20(TV%202016)/works?page=2560', 'https://archiveofourown.org/tags/Stranger%20Things%20(TV%202016)/works?page=2561', 'https://archiveofourown.org/tags/Stranger%20Things%20(TV%202016)/works?page=2562', 'https://archiveofourown.org/tags/Stranger%20Things%20(TV%202016)/works?page=2563', 'https://archiveofourown.org/tags/Stranger%20Things%20(TV%202016)/works?page=2564', 'https://archiveofourown.org/tags/Stranger%20Things%20(TV%202016)/works?page=2565', 'https://archiveofourown.org/tags/Stranger%20Things%20(TV%202016)/works?page=2566', 'https://archiveofourown.org/tags/Stranger%20Things%20(TV%202016)/works?page=2567', 'https://archiveofourown.org/tags/Stranger%20Things%20(TV%202016)/works?page=2568', 'https://archiveofourown.org/tags/Stranger%20Things%20(TV%202016)/works?page=2569', 'https://archiveofourown.org/tags/Stranger%20Things%20(TV%202016)/works?page=2570', 'https://archiveofourown.org/tags/Stranger%20Things%20(TV%202016)/works?page=2571', 'https://archiveofourown.org/tags/Stranger%20Things%20(TV%202016)/works?page=2572', 'https://archiveofourown.org/tags/Stranger%20Things%20(TV%202016)/works?page=2573', 'https://archiveofourown.org/tags/Stranger%20Things%20(TV%202016)/works?page=2574', 'https://archiveofourown.org/tags/Stranger%20Things%20(TV%202016)/works?page=2575', 'https://archiveofourown.org/tags/Stranger%20Things%20(TV%202016)/works?page=2576', 'https://archiveofourown.org/tags/Stranger%20Things%20(TV%202016)/works?page=2577', 'https://archiveofourown.org/tags/Stranger%20Things%20(TV%202016)/works?page=2578', 'https://archiveofourown.org/tags/Stranger%20Things%20(TV%202016)/works?page=2579', 'https://archiveofourown.org/tags/Stranger%20Things%20(TV%202016)/works?page=2580', 'https://archiveofourown.org/tags/Stranger%20Things%20(TV%202016)/works?page=2581', 'https://archiveofourown.org/tags/Stranger%20Things%20(TV%202016)/works?page=2582', 'https://archiveofourown.org/tags/Stranger%20Things%20(TV%202016)/works?page=2583', 'https://archiveofourown.org/tags/Stranger%20Things%20(TV%202016)/works?page=2584', 'https://archiveofourown.org/tags/Stranger%20Things%20(TV%202016)/works?page=2585', 'https://archiveofourown.org/tags/Stranger%20Things%20(TV%202016)/works?page=2586', 'https://archiveofourown.org/tags/Stranger%20Things%20(TV%202016)/works?page=2587', 'https://archiveofourown.org/tags/Stranger%20Things%20(TV%202016)/works?page=2588', 'https://archiveofourown.org/tags/Stranger%20Things%20(TV%202016)/works?page=2589', 'https://archiveofourown.org/tags/Stranger%20Things%20(TV%202016)/works?page=2590', 'https://archiveofourown.org/tags/Stranger%20Things%20(TV%202016)/works?page=2591', 'https://archiveofourown.org/tags/Stranger%20Things%20(TV%202016)/works?page=2592', 'https://archiveofourown.org/tags/Stranger%20Things%20(TV%202016)/works?page=2593', 'https://archiveofourown.org/tags/Stranger%20Things%20(TV%202016)/works?page=2594', 'https://archiveofourown.org/tags/Stranger%20Things%20(TV%202016)/works?page=2595', 'https://archiveofourown.org/tags/Stranger%20Things%20(TV%202016)/works?page=2596', 'https://archiveofourown.org/tags/Stranger%20Things%20(TV%202016)/works?page=2597', 'https://archiveofourown.org/tags/Stranger%20Things%20(TV%202016)/works?page=2598', 'https://archiveofourown.org/tags/Stranger%20Things%20(TV%202016)/works?page=2599', 'https://archiveofourown.org/tags/Stranger%20Things%20(TV%202016)/works?page=2600', 'https://archiveofourown.org/tags/Stranger%20Things%20(TV%202016)/works?page=2601', 'https://archiveofourown.org/tags/Stranger%20Things%20(TV%202016)/works?page=2602', 'https://archiveofourown.org/tags/Stranger%20Things%20(TV%202016)/works?page=2603', 'https://archiveofourown.org/tags/Stranger%20Things%20(TV%202016)/works?page=2604', 'https://archiveofourown.org/tags/Stranger%20Things%20(TV%202016)/works?page=2605', 'https://archiveofourown.org/tags/Stranger%20Things%20(TV%202016)/works?page=2606', 'https://archiveofourown.org/tags/Stranger%20Things%20(TV%202016)/works?page=2607', 'https://archiveofourown.org/tags/Stranger%20Things%20(TV%202016)/works?page=2608', 'https://archiveofourown.org/tags/Stranger%20Things%20(TV%202016)/works?page=2609', 'https://archiveofourown.org/tags/Stranger%20Things%20(TV%202016)/works?page=2610', 'https://archiveofourown.org/tags/Stranger%20Things%20(TV%202016)/works?page=2611', 'https://archiveofourown.org/tags/Stranger%20Things%20(TV%202016)/works?page=2612', 'https://archiveofourown.org/tags/Stranger%20Things%20(TV%202016)/works?page=2613', 'https://archiveofourown.org/tags/Stranger%20Things%20(TV%202016)/works?page=2614', 'https://archiveofourown.org/tags/Stranger%20Things%20(TV%202016)/works?page=2615', 'https://archiveofourown.org/tags/Stranger%20Things%20(TV%202016)/works?page=2616', 'https://archiveofourown.org/tags/Stranger%20Things%20(TV%202016)/works?page=2617', 'https://archiveofourown.org/tags/Stranger%20Things%20(TV%202016)/works?page=2618', 'https://archiveofourown.org/tags/Stranger%20Things%20(TV%202016)/works?page=2619', 'https://archiveofourown.org/tags/Stranger%20Things%20(TV%202016)/works?page=2620', 'https://archiveofourown.org/tags/Stranger%20Things%20(TV%202016)/works?page=2621', 'https://archiveofourown.org/tags/Stranger%20Things%20(TV%202016)/works?page=2622', 'https://archiveofourown.org/tags/Stranger%20Things%20(TV%202016)/works?page=2623', 'https://archiveofourown.org/tags/Stranger%20Things%20(TV%202016)/works?page=2624', 'https://archiveofourown.org/tags/Stranger%20Things%20(TV%202016)/works?page=2625', 'https://archiveofourown.org/tags/Stranger%20Things%20(TV%202016)/works?page=2626', 'https://archiveofourown.org/tags/Stranger%20Things%20(TV%202016)/works?page=2627', 'https://archiveofourown.org/tags/Stranger%20Things%20(TV%202016)/works?page=2628', 'https://archiveofourown.org/tags/Stranger%20Things%20(TV%202016)/works?page=2629', 'https://archiveofourown.org/tags/Stranger%20Things%20(TV%202016)/works?page=2630', 'https://archiveofourown.org/tags/Stranger%20Things%20(TV%202016)/works?page=2631', 'https://archiveofourown.org/tags/Stranger%20Things%20(TV%202016)/works?page=2632', 'https://archiveofourown.org/tags/Stranger%20Things%20(TV%202016)/works?page=2633', 'https://archiveofourown.org/tags/Stranger%20Things%20(TV%202016)/works?page=2634', 'https://archiveofourown.org/tags/Stranger%20Things%20(TV%202016)/works?page=2635', 'https://archiveofourown.org/tags/Stranger%20Things%20(TV%202016)/works?page=2636', 'https://archiveofourown.org/tags/Stranger%20Things%20(TV%202016)/works?page=2637', 'https://archiveofourown.org/tags/Stranger%20Things%20(TV%202016)/works?page=2638', 'https://archiveofourown.org/tags/Stranger%20Things%20(TV%202016)/works?page=2639', 'https://archiveofourown.org/tags/Stranger%20Things%20(TV%202016)/works?page=2640', 'https://archiveofourown.org/tags/Stranger%20Things%20(TV%202016)/works?page=2641', 'https://archiveofourown.org/tags/Stranger%20Things%20(TV%202016)/works?page=2642', 'https://archiveofourown.org/tags/Stranger%20Things%20(TV%202016)/works?page=2643', 'https://archiveofourown.org/tags/Stranger%20Things%20(TV%202016)/works?page=2644', 'https://archiveofourown.org/tags/Stranger%20Things%20(TV%202016)/works?page=2645', 'https://archiveofourown.org/tags/Stranger%20Things%20(TV%202016)/works?page=2646', 'https://archiveofourown.org/tags/Stranger%20Things%20(TV%202016)/works?page=2647', 'https://archiveofourown.org/tags/Stranger%20Things%20(TV%202016)/works?page=2648', 'https://archiveofourown.org/tags/Stranger%20Things%20(TV%202016)/works?page=2649', 'https://archiveofourown.org/tags/Stranger%20Things%20(TV%202016)/works?page=2650', 'https://archiveofourown.org/tags/Stranger%20Things%20(TV%202016)/works?page=2651', 'https://archiveofourown.org/tags/Stranger%20Things%20(TV%202016)/works?page=2652', 'https://archiveofourown.org/tags/Stranger%20Things%20(TV%202016)/works?page=2653', 'https://archiveofourown.org/tags/Stranger%20Things%20(TV%202016)/works?page=2654', 'https://archiveofourown.org/tags/Stranger%20Things%20(TV%202016)/works?page=2655', 'https://archiveofourown.org/tags/Stranger%20Things%20(TV%202016)/works?page=2656', 'https://archiveofourown.org/tags/Stranger%20Things%20(TV%202016)/works?page=2657', 'https://archiveofourown.org/tags/Stranger%20Things%20(TV%202016)/works?page=2658', 'https://archiveofourown.org/tags/Stranger%20Things%20(TV%202016)/works?page=2659', 'https://archiveofourown.org/tags/Stranger%20Things%20(TV%202016)/works?page=2660', 'https://archiveofourown.org/tags/Stranger%20Things%20(TV%202016)/works?page=2661', 'https://archiveofourown.org/tags/Stranger%20Things%20(TV%202016)/works?page=2662', 'https://archiveofourown.org/tags/Stranger%20Things%20(TV%202016)/works?page=2663', 'https://archiveofourown.org/tags/Stranger%20Things%20(TV%202016)/works?page=2664', 'https://archiveofourown.org/tags/Stranger%20Things%20(TV%202016)/works?page=2665', 'https://archiveofourown.org/tags/Stranger%20Things%20(TV%202016)/works?page=2666', 'https://archiveofourown.org/tags/Stranger%20Things%20(TV%202016)/works?page=2667', 'https://archiveofourown.org/tags/Stranger%20Things%20(TV%202016)/works?page=2668', 'https://archiveofourown.org/tags/Stranger%20Things%20(TV%202016)/works?page=2669', 'https://archiveofourown.org/tags/Stranger%20Things%20(TV%202016)/works?page=2670', 'https://archiveofourown.org/tags/Stranger%20Things%20(TV%202016)/works?page=2671', 'https://archiveofourown.org/tags/Stranger%20Things%20(TV%202016)/works?page=2672', 'https://archiveofourown.org/tags/Stranger%20Things%20(TV%202016)/works?page=2673', 'https://archiveofourown.org/tags/Stranger%20Things%20(TV%202016)/works?page=2674', 'https://archiveofourown.org/tags/Stranger%20Things%20(TV%202016)/works?page=2675', 'https://archiveofourown.org/tags/Stranger%20Things%20(TV%202016)/works?page=2676', 'https://archiveofourown.org/tags/Stranger%20Things%20(TV%202016)/works?page=2677', 'https://archiveofourown.org/tags/Stranger%20Things%20(TV%202016)/works?page=2678', 'https://archiveofourown.org/tags/Stranger%20Things%20(TV%202016)/works?page=2679', 'https://archiveofourown.org/tags/Stranger%20Things%20(TV%202016)/works?page=2680', 'https://archiveofourown.org/tags/Stranger%20Things%20(TV%202016)/works?page=2681', 'https://archiveofourown.org/tags/Stranger%20Things%20(TV%202016)/works?page=2682', 'https://archiveofourown.org/tags/Stranger%20Things%20(TV%202016)/works?page=2683', 'https://archiveofourown.org/tags/Stranger%20Things%20(TV%202016)/works?page=2684', 'https://archiveofourown.org/tags/Stranger%20Things%20(TV%202016)/works?page=2685', 'https://archiveofourown.org/tags/Stranger%20Things%20(TV%202016)/works?page=2686', 'https://archiveofourown.org/tags/Stranger%20Things%20(TV%202016)/works?page=2687', 'https://archiveofourown.org/tags/Stranger%20Things%20(TV%202016)/works?page=2688', 'https://archiveofourown.org/tags/Stranger%20Things%20(TV%202016)/works?page=2689', 'https://archiveofourown.org/tags/Stranger%20Things%20(TV%202016)/works?page=2690', 'https://archiveofourown.org/tags/Stranger%20Things%20(TV%202016)/works?page=2691', 'https://archiveofourown.org/tags/Stranger%20Things%20(TV%202016)/works?page=2692', 'https://archiveofourown.org/tags/Stranger%20Things%20(TV%202016)/works?page=2693', 'https://archiveofourown.org/tags/Stranger%20Things%20(TV%202016)/works?page=2694', 'https://archiveofourown.org/tags/Stranger%20Things%20(TV%202016)/works?page=2695', 'https://archiveofourown.org/tags/Stranger%20Things%20(TV%202016)/works?page=2696', 'https://archiveofourown.org/tags/Stranger%20Things%20(TV%202016)/works?page=2697', 'https://archiveofourown.org/tags/Stranger%20Things%20(TV%202016)/works?page=2698', 'https://archiveofourown.org/tags/Stranger%20Things%20(TV%202016)/works?page=2699', 'https://archiveofourown.org/tags/Stranger%20Things%20(TV%202016)/works?page=2700', 'https://archiveofourown.org/tags/Stranger%20Things%20(TV%202016)/works?page=2701', 'https://archiveofourown.org/tags/Stranger%20Things%20(TV%202016)/works?page=2702', 'https://archiveofourown.org/tags/Stranger%20Things%20(TV%202016)/works?page=2703', 'https://archiveofourown.org/tags/Stranger%20Things%20(TV%202016)/works?page=2704', 'https://archiveofourown.org/tags/Stranger%20Things%20(TV%202016)/works?page=2705', 'https://archiveofourown.org/tags/Stranger%20Things%20(TV%202016)/works?page=2706', 'https://archiveofourown.org/tags/Stranger%20Things%20(TV%202016)/works?page=2707', 'https://archiveofourown.org/tags/Stranger%20Things%20(TV%202016)/works?page=2708', 'https://archiveofourown.org/tags/Stranger%20Things%20(TV%202016)/works?page=2709', 'https://archiveofourown.org/tags/Stranger%20Things%20(TV%202016)/works?page=2710', 'https://archiveofourown.org/tags/Stranger%20Things%20(TV%202016)/works?page=2711', 'https://archiveofourown.org/tags/Stranger%20Things%20(TV%202016)/works?page=2712', 'https://archiveofourown.org/tags/Stranger%20Things%20(TV%202016)/works?page=2713', 'https://archiveofourown.org/tags/Stranger%20Things%20(TV%202016)/works?page=2714', 'https://archiveofourown.org/tags/Stranger%20Things%20(TV%202016)/works?page=2715', 'https://archiveofourown.org/tags/Stranger%20Things%20(TV%202016)/works?page=2716', 'https://archiveofourown.org/tags/Stranger%20Things%20(TV%202016)/works?page=2717', 'https://archiveofourown.org/tags/Stranger%20Things%20(TV%202016)/works?page=2718', 'https://archiveofourown.org/tags/Stranger%20Things%20(TV%202016)/works?page=2719', 'https://archiveofourown.org/tags/Stranger%20Things%20(TV%202016)/works?page=2720', 'https://archiveofourown.org/tags/Stranger%20Things%20(TV%202016)/works?page=2721', 'https://archiveofourown.org/tags/Stranger%20Things%20(TV%202016)/works?page=2722', 'https://archiveofourown.org/tags/Stranger%20Things%20(TV%202016)/works?page=2723', 'https://archiveofourown.org/tags/Stranger%20Things%20(TV%202016)/works?page=2724', 'https://archiveofourown.org/tags/Stranger%20Things%20(TV%202016)/works?page=2725', 'https://archiveofourown.org/tags/Stranger%20Things%20(TV%202016)/works?page=2726', 'https://archiveofourown.org/tags/Stranger%20Things%20(TV%202016)/works?page=2727', 'https://archiveofourown.org/tags/Stranger%20Things%20(TV%202016)/works?page=2728', 'https://archiveofourown.org/tags/Stranger%20Things%20(TV%202016)/works?page=2729', 'https://archiveofourown.org/tags/Stranger%20Things%20(TV%202016)/works?page=2730', 'https://archiveofourown.org/tags/Stranger%20Things%20(TV%202016)/works?page=2731', 'https://archiveofourown.org/tags/Stranger%20Things%20(TV%202016)/works?page=2732', 'https://archiveofourown.org/tags/Stranger%20Things%20(TV%202016)/works?page=2733', 'https://archiveofourown.org/tags/Stranger%20Things%20(TV%202016)/works?page=2734', 'https://archiveofourown.org/tags/Stranger%20Things%20(TV%202016)/works?page=2735', 'https://archiveofourown.org/tags/Stranger%20Things%20(TV%202016)/works?page=2736', 'https://archiveofourown.org/tags/Stranger%20Things%20(TV%202016)/works?page=2737', 'https://archiveofourown.org/tags/Stranger%20Things%20(TV%202016)/works?page=2738', 'https://archiveofourown.org/tags/Stranger%20Things%20(TV%202016)/works?page=2739', 'https://archiveofourown.org/tags/Stranger%20Things%20(TV%202016)/works?page=2740', 'https://archiveofourown.org/tags/Stranger%20Things%20(TV%202016)/works?page=2741', 'https://archiveofourown.org/tags/Stranger%20Things%20(TV%202016)/works?page=2742', 'https://archiveofourown.org/tags/Stranger%20Things%20(TV%202016)/works?page=2743', 'https://archiveofourown.org/tags/Stranger%20Things%20(TV%202016)/works?page=2744', 'https://archiveofourown.org/tags/Stranger%20Things%20(TV%202016)/works?page=2745', 'https://archiveofourown.org/tags/Stranger%20Things%20(TV%202016)/works?page=2746', 'https://archiveofourown.org/tags/Stranger%20Things%20(TV%202016)/works?page=2747', 'https://archiveofourown.org/tags/Stranger%20Things%20(TV%202016)/works?page=2748', 'https://archiveofourown.org/tags/Stranger%20Things%20(TV%202016)/works?page=2749', 'https://archiveofourown.org/tags/Stranger%20Things%20(TV%202016)/works?page=2750', 'https://archiveofourown.org/tags/Stranger%20Things%20(TV%202016)/works?page=2751', 'https://archiveofourown.org/tags/Stranger%20Things%20(TV%202016)/works?page=2752', 'https://archiveofourown.org/tags/Stranger%20Things%20(TV%202016)/works?page=2753', 'https://archiveofourown.org/tags/Stranger%20Things%20(TV%202016)/works?page=2754', 'https://archiveofourown.org/tags/Stranger%20Things%20(TV%202016)/works?page=2755', 'https://archiveofourown.org/tags/Stranger%20Things%20(TV%202016)/works?page=2756', 'https://archiveofourown.org/tags/Stranger%20Things%20(TV%202016)/works?page=2757', 'https://archiveofourown.org/tags/Stranger%20Things%20(TV%202016)/works?page=2758', 'https://archiveofourown.org/tags/Stranger%20Things%20(TV%202016)/works?page=2759', 'https://archiveofourown.org/tags/Stranger%20Things%20(TV%202016)/works?page=2760', 'https://archiveofourown.org/tags/Stranger%20Things%20(TV%202016)/works?page=2761', 'https://archiveofourown.org/tags/Stranger%20Things%20(TV%202016)/works?page=2762', 'https://archiveofourown.org/tags/Stranger%20Things%20(TV%202016)/works?page=2763', 'https://archiveofourown.org/tags/Stranger%20Things%20(TV%202016)/works?page=2764', 'https://archiveofourown.org/tags/Stranger%20Things%20(TV%202016)/works?page=2765', 'https://archiveofourown.org/tags/Stranger%20Things%20(TV%202016)/works?page=2766', 'https://archiveofourown.org/tags/Stranger%20Things%20(TV%202016)/works?page=2767', 'https://archiveofourown.org/tags/Stranger%20Things%20(TV%202016)/works?page=2768', 'https://archiveofourown.org/tags/Stranger%20Things%20(TV%202016)/works?page=2769', 'https://archiveofourown.org/tags/Stranger%20Things%20(TV%202016)/works?page=2770', 'https://archiveofourown.org/tags/Stranger%20Things%20(TV%202016)/works?page=2771', 'https://archiveofourown.org/tags/Stranger%20Things%20(TV%202016)/works?page=2772', 'https://archiveofourown.org/tags/Stranger%20Things%20(TV%202016)/works?page=2773', 'https://archiveofourown.org/tags/Stranger%20Things%20(TV%202016)/works?page=2774', 'https://archiveofourown.org/tags/Stranger%20Things%20(TV%202016)/works?page=2775', 'https://archiveofourown.org/tags/Stranger%20Things%20(TV%202016)/works?page=2776', 'https://archiveofourown.org/tags/Stranger%20Things%20(TV%202016)/works?page=2777', 'https://archiveofourown.org/tags/Stranger%20Things%20(TV%202016)/works?page=2778', 'https://archiveofourown.org/tags/Stranger%20Things%20(TV%202016)/works?page=2779', 'https://archiveofourown.org/tags/Stranger%20Things%20(TV%202016)/works?page=2780', 'https://archiveofourown.org/tags/Stranger%20Things%20(TV%202016)/works?page=2781', 'https://archiveofourown.org/tags/Stranger%20Things%20(TV%202016)/works?page=2782', 'https://archiveofourown.org/tags/Stranger%20Things%20(TV%202016)/works?page=2783', 'https://archiveofourown.org/tags/Stranger%20Things%20(TV%202016)/works?page=2784', 'https://archiveofourown.org/tags/Stranger%20Things%20(TV%202016)/works?page=2785', 'https://archiveofourown.org/tags/Stranger%20Things%20(TV%202016)/works?page=2786', 'https://archiveofourown.org/tags/Stranger%20Things%20(TV%202016)/works?page=2787', 'https://archiveofourown.org/tags/Stranger%20Things%20(TV%202016)/works?page=2788', 'https://archiveofourown.org/tags/Stranger%20Things%20(TV%202016)/works?page=2789', 'https://archiveofourown.org/tags/Stranger%20Things%20(TV%202016)/works?page=2790', 'https://archiveofourown.org/tags/Stranger%20Things%20(TV%202016)/works?page=2791', 'https://archiveofourown.org/tags/Stranger%20Things%20(TV%202016)/works?page=2792', 'https://archiveofourown.org/tags/Stranger%20Things%20(TV%202016)/works?page=2793', 'https://archiveofourown.org/tags/Stranger%20Things%20(TV%202016)/works?page=2794', 'https://archiveofourown.org/tags/Stranger%20Things%20(TV%202016)/works?page=2795', 'https://archiveofourown.org/tags/Stranger%20Things%20(TV%202016)/works?page=2796', 'https://archiveofourown.org/tags/Stranger%20Things%20(TV%202016)/works?page=2797', 'https://archiveofourown.org/tags/Stranger%20Things%20(TV%202016)/works?page=2798', 'https://archiveofourown.org/tags/Stranger%20Things%20(TV%202016)/works?page=2799', 'https://archiveofourown.org/tags/Stranger%20Things%20(TV%202016)/works?page=2800', 'https://archiveofourown.org/tags/Stranger%20Things%20(TV%202016)/works?page=2801', 'https://archiveofourown.org/tags/Stranger%20Things%20(TV%202016)/works?page=2802', 'https://archiveofourown.org/tags/Stranger%20Things%20(TV%202016)/works?page=2803', 'https://archiveofourown.org/tags/Stranger%20Things%20(TV%202016)/works?page=2804', 'https://archiveofourown.org/tags/Stranger%20Things%20(TV%202016)/works?page=2805', 'https://archiveofourown.org/tags/Stranger%20Things%20(TV%202016)/works?page=2806', 'https://archiveofourown.org/tags/Stranger%20Things%20(TV%202016)/works?page=2807', 'https://archiveofourown.org/tags/Stranger%20Things%20(TV%202016)/works?page=2808', 'https://archiveofourown.org/tags/Stranger%20Things%20(TV%202016)/works?page=2809', 'https://archiveofourown.org/tags/Stranger%20Things%20(TV%202016)/works?page=2810', 'https://archiveofourown.org/tags/Stranger%20Things%20(TV%202016)/works?page=2811', 'https://archiveofourown.org/tags/Stranger%20Things%20(TV%202016)/works?page=2812', 'https://archiveofourown.org/tags/Stranger%20Things%20(TV%202016)/works?page=2813', 'https://archiveofourown.org/tags/Stranger%20Things%20(TV%202016)/works?page=2814', 'https://archiveofourown.org/tags/Stranger%20Things%20(TV%202016)/works?page=2815', 'https://archiveofourown.org/tags/Stranger%20Things%20(TV%202016)/works?page=2816', 'https://archiveofourown.org/tags/Stranger%20Things%20(TV%202016)/works?page=2817', 'https://archiveofourown.org/tags/Stranger%20Things%20(TV%202016)/works?page=2818', 'https://archiveofourown.org/tags/Stranger%20Things%20(TV%202016)/works?page=2819', 'https://archiveofourown.org/tags/Stranger%20Things%20(TV%202016)/works?page=2820', 'https://archiveofourown.org/tags/Stranger%20Things%20(TV%202016)/works?page=2821', 'https://archiveofourown.org/tags/Stranger%20Things%20(TV%202016)/works?page=2822', 'https://archiveofourown.org/tags/Stranger%20Things%20(TV%202016)/works?page=2823', 'https://archiveofourown.org/tags/Stranger%20Things%20(TV%202016)/works?page=2824', 'https://archiveofourown.org/tags/Stranger%20Things%20(TV%202016)/works?page=2825', 'https://archiveofourown.org/tags/Stranger%20Things%20(TV%202016)/works?page=2826', 'https://archiveofourown.org/tags/Stranger%20Things%20(TV%202016)/works?page=2827', 'https://archiveofourown.org/tags/Stranger%20Things%20(TV%202016)/works?page=2828', 'https://archiveofourown.org/tags/Stranger%20Things%20(TV%202016)/works?page=2829', 'https://archiveofourown.org/tags/Stranger%20Things%20(TV%202016)/works?page=2830', 'https://archiveofourown.org/tags/Stranger%20Things%20(TV%202016)/works?page=2831', 'https://archiveofourown.org/tags/Stranger%20Things%20(TV%202016)/works?page=2832', 'https://archiveofourown.org/tags/Stranger%20Things%20(TV%202016)/works?page=2833', 'https://archiveofourown.org/tags/Stranger%20Things%20(TV%202016)/works?page=2834', 'https://archiveofourown.org/tags/Stranger%20Things%20(TV%202016)/works?page=2835', 'https://archiveofourown.org/tags/Stranger%20Things%20(TV%202016)/works?page=2836', 'https://archiveofourown.org/tags/Stranger%20Things%20(TV%202016)/works?page=2837', 'https://archiveofourown.org/tags/Stranger%20Things%20(TV%202016)/works?page=2838', 'https://archiveofourown.org/tags/Stranger%20Things%20(TV%202016)/works?page=2839', 'https://archiveofourown.org/tags/Stranger%20Things%20(TV%202016)/works?page=2840', 'https://archiveofourown.org/tags/Stranger%20Things%20(TV%202016)/works?page=2841', 'https://archiveofourown.org/tags/Stranger%20Things%20(TV%202016)/works?page=2842', 'https://archiveofourown.org/tags/Stranger%20Things%20(TV%202016)/works?page=2843', 'https://archiveofourown.org/tags/Stranger%20Things%20(TV%202016)/works?page=2844', 'https://archiveofourown.org/tags/Stranger%20Things%20(TV%202016)/works?page=2845', 'https://archiveofourown.org/tags/Stranger%20Things%20(TV%202016)/works?page=2846', 'https://archiveofourown.org/tags/Stranger%20Things%20(TV%202016)/works?page=2847', 'https://archiveofourown.org/tags/Stranger%20Things%20(TV%202016)/works?page=2848', 'https://archiveofourown.org/tags/Stranger%20Things%20(TV%202016)/works?page=2849', 'https://archiveofourown.org/tags/Stranger%20Things%20(TV%202016)/works?page=2850', 'https://archiveofourown.org/tags/Stranger%20Things%20(TV%202016)/works?page=2851', 'https://archiveofourown.org/tags/Stranger%20Things%20(TV%202016)/works?page=2852', 'https://archiveofourown.org/tags/Stranger%20Things%20(TV%202016)/works?page=2853', 'https://archiveofourown.org/tags/Stranger%20Things%20(TV%202016)/works?page=2854', 'https://archiveofourown.org/tags/Stranger%20Things%20(TV%202016)/works?page=2855', 'https://archiveofourown.org/tags/Stranger%20Things%20(TV%202016)/works?page=2856', 'https://archiveofourown.org/tags/Stranger%20Things%20(TV%202016)/works?page=2857', 'https://archiveofourown.org/tags/Stranger%20Things%20(TV%202016)/works?page=2858', 'https://archiveofourown.org/tags/Stranger%20Things%20(TV%202016)/works?page=2859', 'https://archiveofourown.org/tags/Stranger%20Things%20(TV%202016)/works?page=2860', 'https://archiveofourown.org/tags/Stranger%20Things%20(TV%202016)/works?page=2861', 'https://archiveofourown.org/tags/Stranger%20Things%20(TV%202016)/works?page=2862', 'https://archiveofourown.org/tags/Stranger%20Things%20(TV%202016)/works?page=2863', 'https://archiveofourown.org/tags/Stranger%20Things%20(TV%202016)/works?page=2864', 'https://archiveofourown.org/tags/Stranger%20Things%20(TV%202016)/works?page=2865', 'https://archiveofourown.org/tags/Stranger%20Things%20(TV%202016)/works?page=2866', 'https://archiveofourown.org/tags/Stranger%20Things%20(TV%202016)/works?page=2867', 'https://archiveofourown.org/tags/Stranger%20Things%20(TV%202016)/works?page=2868', 'https://archiveofourown.org/tags/Stranger%20Things%20(TV%202016)/works?page=2869', 'https://archiveofourown.org/tags/Stranger%20Things%20(TV%202016)/works?page=2870', 'https://archiveofourown.org/tags/Stranger%20Things%20(TV%202016)/works?page=2871', 'https://archiveofourown.org/tags/Stranger%20Things%20(TV%202016)/works?page=2872', 'https://archiveofourown.org/tags/Stranger%20Things%20(TV%202016)/works?page=2873', 'https://archiveofourown.org/tags/Stranger%20Things%20(TV%202016)/works?page=2874', 'https://archiveofourown.org/tags/Stranger%20Things%20(TV%202016)/works?page=2875', 'https://archiveofourown.org/tags/Stranger%20Things%20(TV%202016)/works?page=2876', 'https://archiveofourown.org/tags/Stranger%20Things%20(TV%202016)/works?page=2877', 'https://archiveofourown.org/tags/Stranger%20Things%20(TV%202016)/works?page=2878', 'https://archiveofourown.org/tags/Stranger%20Things%20(TV%202016)/works?page=2879', 'https://archiveofourown.org/tags/Stranger%20Things%20(TV%202016)/works?page=2880', 'https://archiveofourown.org/tags/Stranger%20Things%20(TV%202016)/works?page=2881', 'https://archiveofourown.org/tags/Stranger%20Things%20(TV%202016)/works?page=2882', 'https://archiveofourown.org/tags/Stranger%20Things%20(TV%202016)/works?page=2883', 'https://archiveofourown.org/tags/Stranger%20Things%20(TV%202016)/works?page=2884', 'https://archiveofourown.org/tags/Stranger%20Things%20(TV%202016)/works?page=2885', 'https://archiveofourown.org/tags/Stranger%20Things%20(TV%202016)/works?page=2886', 'https://archiveofourown.org/tags/Stranger%20Things%20(TV%202016)/works?page=2887', 'https://archiveofourown.org/tags/Stranger%20Things%20(TV%202016)/works?page=2888', 'https://archiveofourown.org/tags/Stranger%20Things%20(TV%202016)/works?page=2889', 'https://archiveofourown.org/tags/Stranger%20Things%20(TV%202016)/works?page=2890', 'https://archiveofourown.org/tags/Stranger%20Things%20(TV%202016)/works?page=2891', 'https://archiveofourown.org/tags/Stranger%20Things%20(TV%202016)/works?page=2892', 'https://archiveofourown.org/tags/Stranger%20Things%20(TV%202016)/works?page=2893', 'https://archiveofourown.org/tags/Stranger%20Things%20(TV%202016)/works?page=2894', 'https://archiveofourown.org/tags/Stranger%20Things%20(TV%202016)/works?page=2895', 'https://archiveofourown.org/tags/Stranger%20Things%20(TV%202016)/works?page=2896', 'https://archiveofourown.org/tags/Stranger%20Things%20(TV%202016)/works?page=2897', 'https://archiveofourown.org/tags/Stranger%20Things%20(TV%202016)/works?page=2898', 'https://archiveofourown.org/tags/Stranger%20Things%20(TV%202016)/works?page=2899', 'https://archiveofourown.org/tags/Stranger%20Things%20(TV%202016)/works?page=2900', 'https://archiveofourown.org/tags/Stranger%20Things%20(TV%202016)/works?page=2901', 'https://archiveofourown.org/tags/Stranger%20Things%20(TV%202016)/works?page=2902', 'https://archiveofourown.org/tags/Stranger%20Things%20(TV%202016)/works?page=2903', 'https://archiveofourown.org/tags/Stranger%20Things%20(TV%202016)/works?page=2904', 'https://archiveofourown.org/tags/Stranger%20Things%20(TV%202016)/works?page=2905', 'https://archiveofourown.org/tags/Stranger%20Things%20(TV%202016)/works?page=2906', 'https://archiveofourown.org/tags/Stranger%20Things%20(TV%202016)/works?page=2907', 'https://archiveofourown.org/tags/Stranger%20Things%20(TV%202016)/works?page=2908', 'https://archiveofourown.org/tags/Stranger%20Things%20(TV%202016)/works?page=2909', 'https://archiveofourown.org/tags/Stranger%20Things%20(TV%202016)/works?page=2910', 'https://archiveofourown.org/tags/Stranger%20Things%20(TV%202016)/works?page=2911', 'https://archiveofourown.org/tags/Stranger%20Things%20(TV%202016)/works?page=2912', 'https://archiveofourown.org/tags/Stranger%20Things%20(TV%202016)/works?page=2913', 'https://archiveofourown.org/tags/Stranger%20Things%20(TV%202016)/works?page=2914', 'https://archiveofourown.org/tags/Stranger%20Things%20(TV%202016)/works?page=2915', 'https://archiveofourown.org/tags/Stranger%20Things%20(TV%202016)/works?page=2916', 'https://archiveofourown.org/tags/Stranger%20Things%20(TV%202016)/works?page=2917', 'https://archiveofourown.org/tags/Stranger%20Things%20(TV%202016)/works?page=2918', 'https://archiveofourown.org/tags/Stranger%20Things%20(TV%202016)/works?page=2919', 'https://archiveofourown.org/tags/Stranger%20Things%20(TV%202016)/works?page=2920', 'https://archiveofourown.org/tags/Stranger%20Things%20(TV%202016)/works?page=2921', 'https://archiveofourown.org/tags/Stranger%20Things%20(TV%202016)/works?page=2922', 'https://archiveofourown.org/tags/Stranger%20Things%20(TV%202016)/works?page=2923', 'https://archiveofourown.org/tags/Stranger%20Things%20(TV%202016)/works?page=2924', 'https://archiveofourown.org/tags/Stranger%20Things%20(TV%202016)/works?page=2925', 'https://archiveofourown.org/tags/Stranger%20Things%20(TV%202016)/works?page=2926', 'https://archiveofourown.org/tags/Stranger%20Things%20(TV%202016)/works?page=2927', 'https://archiveofourown.org/tags/Stranger%20Things%20(TV%202016)/works?page=2928', 'https://archiveofourown.org/tags/Stranger%20Things%20(TV%202016)/works?page=2929', 'https://archiveofourown.org/tags/Stranger%20Things%20(TV%202016)/works?page=2930', 'https://archiveofourown.org/tags/Stranger%20Things%20(TV%202016)/works?page=2931', 'https://archiveofourown.org/tags/Stranger%20Things%20(TV%202016)/works?page=2932', 'https://archiveofourown.org/tags/Stranger%20Things%20(TV%202016)/works?page=2933', 'https://archiveofourown.org/tags/Stranger%20Things%20(TV%202016)/works?page=2934', 'https://archiveofourown.org/tags/Stranger%20Things%20(TV%202016)/works?page=2935', 'https://archiveofourown.org/tags/Stranger%20Things%20(TV%202016)/works?page=2936', 'https://archiveofourown.org/tags/Stranger%20Things%20(TV%202016)/works?page=2937', 'https://archiveofourown.org/tags/Stranger%20Things%20(TV%202016)/works?page=2938', 'https://archiveofourown.org/tags/Stranger%20Things%20(TV%202016)/works?page=2939', 'https://archiveofourown.org/tags/Stranger%20Things%20(TV%202016)/works?page=2940', 'https://archiveofourown.org/tags/Stranger%20Things%20(TV%202016)/works?page=2941', 'https://archiveofourown.org/tags/Stranger%20Things%20(TV%202016)/works?page=2942', 'https://archiveofourown.org/tags/Stranger%20Things%20(TV%202016)/works?page=2943', 'https://archiveofourown.org/tags/Stranger%20Things%20(TV%202016)/works?page=2944', 'https://archiveofourown.org/tags/Stranger%20Things%20(TV%202016)/works?page=2945', 'https://archiveofourown.org/tags/Stranger%20Things%20(TV%202016)/works?page=2946', 'https://archiveofourown.org/tags/Stranger%20Things%20(TV%202016)/works?page=2947', 'https://archiveofourown.org/tags/Stranger%20Things%20(TV%202016)/works?page=2948', 'https://archiveofourown.org/tags/Stranger%20Things%20(TV%202016)/works?page=2949', 'https://archiveofourown.org/tags/Stranger%20Things%20(TV%202016)/works?page=2950', 'https://archiveofourown.org/tags/Stranger%20Things%20(TV%202016)/works?page=2951', 'https://archiveofourown.org/tags/Stranger%20Things%20(TV%202016)/works?page=2952', 'https://archiveofourown.org/tags/Stranger%20Things%20(TV%202016)/works?page=2953', 'https://archiveofourown.org/tags/Stranger%20Things%20(TV%202016)/works?page=2954', 'https://archiveofourown.org/tags/Stranger%20Things%20(TV%202016)/works?page=2955', 'https://archiveofourown.org/tags/Stranger%20Things%20(TV%202016)/works?page=2956', 'https://archiveofourown.org/tags/Stranger%20Things%20(TV%202016)/works?page=2957', 'https://archiveofourown.org/tags/Stranger%20Things%20(TV%202016)/works?page=2958', 'https://archiveofourown.org/tags/Stranger%20Things%20(TV%202016)/works?page=2959', 'https://archiveofourown.org/tags/Stranger%20Things%20(TV%202016)/works?page=2960', 'https://archiveofourown.org/tags/Stranger%20Things%20(TV%202016)/works?page=2961', 'https://archiveofourown.org/tags/Stranger%20Things%20(TV%202016)/works?page=2962', 'https://archiveofourown.org/tags/Stranger%20Things%20(TV%202016)/works?page=2963', 'https://archiveofourown.org/tags/Stranger%20Things%20(TV%202016)/works?page=2964', 'https://archiveofourown.org/tags/Stranger%20Things%20(TV%202016)/works?page=2965', 'https://archiveofourown.org/tags/Stranger%20Things%20(TV%202016)/works?page=2966', 'https://archiveofourown.org/tags/Stranger%20Things%20(TV%202016)/works?page=2967', 'https://archiveofourown.org/tags/Stranger%20Things%20(TV%202016)/works?page=2968', 'https://archiveofourown.org/tags/Stranger%20Things%20(TV%202016)/works?page=2969', 'https://archiveofourown.org/tags/Stranger%20Things%20(TV%202016)/works?page=2970', 'https://archiveofourown.org/tags/Stranger%20Things%20(TV%202016)/works?page=2971', 'https://archiveofourown.org/tags/Stranger%20Things%20(TV%202016)/works?page=2972', 'https://archiveofourown.org/tags/Stranger%20Things%20(TV%202016)/works?page=2973', 'https://archiveofourown.org/tags/Stranger%20Things%20(TV%202016)/works?page=2974', 'https://archiveofourown.org/tags/Stranger%20Things%20(TV%202016)/works?page=2975', 'https://archiveofourown.org/tags/Stranger%20Things%20(TV%202016)/works?page=2976', 'https://archiveofourown.org/tags/Stranger%20Things%20(TV%202016)/works?page=2977', 'https://archiveofourown.org/tags/Stranger%20Things%20(TV%202016)/works?page=2978', 'https://archiveofourown.org/tags/Stranger%20Things%20(TV%202016)/works?page=2979', 'https://archiveofourown.org/tags/Stranger%20Things%20(TV%202016)/works?page=2980', 'https://archiveofourown.org/tags/Stranger%20Things%20(TV%202016)/works?page=2981', 'https://archiveofourown.org/tags/Stranger%20Things%20(TV%202016)/works?page=2982', 'https://archiveofourown.org/tags/Stranger%20Things%20(TV%202016)/works?page=2983', 'https://archiveofourown.org/tags/Stranger%20Things%20(TV%202016)/works?page=2984', 'https://archiveofourown.org/tags/Stranger%20Things%20(TV%202016)/works?page=2985', 'https://archiveofourown.org/tags/Stranger%20Things%20(TV%202016)/works?page=2986', 'https://archiveofourown.org/tags/Stranger%20Things%20(TV%202016)/works?page=2987', 'https://archiveofourown.org/tags/Stranger%20Things%20(TV%202016)/works?page=2988', 'https://archiveofourown.org/tags/Stranger%20Things%20(TV%202016)/works?page=2989', 'https://archiveofourown.org/tags/Stranger%20Things%20(TV%202016)/works?page=2990', 'https://archiveofourown.org/tags/Stranger%20Things%20(TV%202016)/works?page=2991', 'https://archiveofourown.org/tags/Stranger%20Things%20(TV%202016)/works?page=2992', 'https://archiveofourown.org/tags/Stranger%20Things%20(TV%202016)/works?page=2993', 'https://archiveofourown.org/tags/Stranger%20Things%20(TV%202016)/works?page=2994', 'https://archiveofourown.org/tags/Stranger%20Things%20(TV%202016)/works?page=2995', 'https://archiveofourown.org/tags/Stranger%20Things%20(TV%202016)/works?page=2996', 'https://archiveofourown.org/tags/Stranger%20Things%20(TV%202016)/works?page=2997', 'https://archiveofourown.org/tags/Stranger%20Things%20(TV%202016)/works?page=2998', 'https://archiveofourown.org/tags/Stranger%20Things%20(TV%202016)/works?page=2999', 'https://archiveofourown.org/tags/Stranger%20Things%20(TV%202016)/works?page=3000', 'https://archiveofourown.org/tags/Stranger%20Things%20(TV%202016)/works?page=3001', 'https://archiveofourown.org/tags/Stranger%20Things%20(TV%202016)/works?page=3002', 'https://archiveofourown.org/tags/Stranger%20Things%20(TV%202016)/works?page=3003', 'https://archiveofourown.org/tags/Stranger%20Things%20(TV%202016)/works?page=3004', 'https://archiveofourown.org/tags/Stranger%20Things%20(TV%202016)/works?page=3005', 'https://archiveofourown.org/tags/Stranger%20Things%20(TV%202016)/works?page=3006', 'https://archiveofourown.org/tags/Stranger%20Things%20(TV%202016)/works?page=3007', 'https://archiveofourown.org/tags/Stranger%20Things%20(TV%202016)/works?page=3008', 'https://archiveofourown.org/tags/Stranger%20Things%20(TV%202016)/works?page=3009', 'https://archiveofourown.org/tags/Stranger%20Things%20(TV%202016)/works?page=3010', 'https://archiveofourown.org/tags/Stranger%20Things%20(TV%202016)/works?page=3011', 'https://archiveofourown.org/tags/Stranger%20Things%20(TV%202016)/works?page=3012', 'https://archiveofourown.org/tags/Stranger%20Things%20(TV%202016)/works?page=3013', 'https://archiveofourown.org/tags/Stranger%20Things%20(TV%202016)/works?page=3014', 'https://archiveofourown.org/tags/Stranger%20Things%20(TV%202016)/works?page=3015', 'https://archiveofourown.org/tags/Stranger%20Things%20(TV%202016)/works?page=3016', 'https://archiveofourown.org/tags/Stranger%20Things%20(TV%202016)/works?page=3017', 'https://archiveofourown.org/tags/Stranger%20Things%20(TV%202016)/works?page=3018', 'https://archiveofourown.org/tags/Stranger%20Things%20(TV%202016)/works?page=3019', 'https://archiveofourown.org/tags/Stranger%20Things%20(TV%202016)/works?page=3020', 'https://archiveofourown.org/tags/Stranger%20Things%20(TV%202016)/works?page=3021', 'https://archiveofourown.org/tags/Stranger%20Things%20(TV%202016)/works?page=3022', 'https://archiveofourown.org/tags/Stranger%20Things%20(TV%202016)/works?page=3023', 'https://archiveofourown.org/tags/Stranger%20Things%20(TV%202016)/works?page=3024', 'https://archiveofourown.org/tags/Stranger%20Things%20(TV%202016)/works?page=3025', 'https://archiveofourown.org/tags/Stranger%20Things%20(TV%202016)/works?page=3026', 'https://archiveofourown.org/tags/Stranger%20Things%20(TV%202016)/works?page=3027', 'https://archiveofourown.org/tags/Stranger%20Things%20(TV%202016)/works?page=3028', 'https://archiveofourown.org/tags/Stranger%20Things%20(TV%202016)/works?page=3029', 'https://archiveofourown.org/tags/Stranger%20Things%20(TV%202016)/works?page=3030', 'https://archiveofourown.org/tags/Stranger%20Things%20(TV%202016)/works?page=3031', 'https://archiveofourown.org/tags/Stranger%20Things%20(TV%202016)/works?page=3032', 'https://archiveofourown.org/tags/Stranger%20Things%20(TV%202016)/works?page=3033', 'https://archiveofourown.org/tags/Stranger%20Things%20(TV%202016)/works?page=3034', 'https://archiveofourown.org/tags/Stranger%20Things%20(TV%202016)/works?page=3035', 'https://archiveofourown.org/tags/Stranger%20Things%20(TV%202016)/works?page=3036', 'https://archiveofourown.org/tags/Stranger%20Things%20(TV%202016)/works?page=3037', 'https://archiveofourown.org/tags/Stranger%20Things%20(TV%202016)/works?page=3038', 'https://archiveofourown.org/tags/Stranger%20Things%20(TV%202016)/works?page=3039', 'https://archiveofourown.org/tags/Stranger%20Things%20(TV%202016)/works?page=3040', 'https://archiveofourown.org/tags/Stranger%20Things%20(TV%202016)/works?page=3041', 'https://archiveofourown.org/tags/Stranger%20Things%20(TV%202016)/works?page=3042', 'https://archiveofourown.org/tags/Stranger%20Things%20(TV%202016)/works?page=3043', 'https://archiveofourown.org/tags/Stranger%20Things%20(TV%202016)/works?page=3044', 'https://archiveofourown.org/tags/Stranger%20Things%20(TV%202016)/works?page=3045', 'https://archiveofourown.org/tags/Stranger%20Things%20(TV%202016)/works?page=3046', 'https://archiveofourown.org/tags/Stranger%20Things%20(TV%202016)/works?page=3047', 'https://archiveofourown.org/tags/Stranger%20Things%20(TV%202016)/works?page=3048', 'https://archiveofourown.org/tags/Stranger%20Things%20(TV%202016)/works?page=3049', 'https://archiveofourown.org/tags/Stranger%20Things%20(TV%202016)/works?page=3050', 'https://archiveofourown.org/tags/Stranger%20Things%20(TV%202016)/works?page=3051', 'https://archiveofourown.org/tags/Stranger%20Things%20(TV%202016)/works?page=3052', 'https://archiveofourown.org/tags/Stranger%20Things%20(TV%202016)/works?page=3053', 'https://archiveofourown.org/tags/Stranger%20Things%20(TV%202016)/works?page=3054', 'https://archiveofourown.org/tags/Stranger%20Things%20(TV%202016)/works?page=3055', 'https://archiveofourown.org/tags/Stranger%20Things%20(TV%202016)/works?page=3056', 'https://archiveofourown.org/tags/Stranger%20Things%20(TV%202016)/works?page=3057', 'https://archiveofourown.org/tags/Stranger%20Things%20(TV%202016)/works?page=3058', 'https://archiveofourown.org/tags/Stranger%20Things%20(TV%202016)/works?page=3059', 'https://archiveofourown.org/tags/Stranger%20Things%20(TV%202016)/works?page=3060', 'https://archiveofourown.org/tags/Stranger%20Things%20(TV%202016)/works?page=3061', 'https://archiveofourown.org/tags/Stranger%20Things%20(TV%202016)/works?page=3062', 'https://archiveofourown.org/tags/Stranger%20Things%20(TV%202016)/works?page=3063', 'https://archiveofourown.org/tags/Stranger%20Things%20(TV%202016)/works?page=3064', 'https://archiveofourown.org/tags/Stranger%20Things%20(TV%202016)/works?page=3065', 'https://archiveofourown.org/tags/Stranger%20Things%20(TV%202016)/works?page=3066', 'https://archiveofourown.org/tags/Stranger%20Things%20(TV%202016)/works?page=3067', 'https://archiveofourown.org/tags/Stranger%20Things%20(TV%202016)/works?page=3068', 'https://archiveofourown.org/tags/Stranger%20Things%20(TV%202016)/works?page=3069', 'https://archiveofourown.org/tags/Stranger%20Things%20(TV%202016)/works?page=3070', 'https://archiveofourown.org/tags/Stranger%20Things%20(TV%202016)/works?page=3071', 'https://archiveofourown.org/tags/Stranger%20Things%20(TV%202016)/works?page=3072', 'https://archiveofourown.org/tags/Stranger%20Things%20(TV%202016)/works?page=3073', 'https://archiveofourown.org/tags/Stranger%20Things%20(TV%202016)/works?page=3074', 'https://archiveofourown.org/tags/Stranger%20Things%20(TV%202016)/works?page=3075', 'https://archiveofourown.org/tags/Stranger%20Things%20(TV%202016)/works?page=3076', 'https://archiveofourown.org/tags/Stranger%20Things%20(TV%202016)/works?page=3077', 'https://archiveofourown.org/tags/Stranger%20Things%20(TV%202016)/works?page=3078', 'https://archiveofourown.org/tags/Stranger%20Things%20(TV%202016)/works?page=3079', 'https://archiveofourown.org/tags/Stranger%20Things%20(TV%202016)/works?page=3080', 'https://archiveofourown.org/tags/Stranger%20Things%20(TV%202016)/works?page=3081', 'https://archiveofourown.org/tags/Stranger%20Things%20(TV%202016)/works?page=3082', 'https://archiveofourown.org/tags/Stranger%20Things%20(TV%202016)/works?page=3083', 'https://archiveofourown.org/tags/Stranger%20Things%20(TV%202016)/works?page=3084', 'https://archiveofourown.org/tags/Stranger%20Things%20(TV%202016)/works?page=3085', 'https://archiveofourown.org/tags/Stranger%20Things%20(TV%202016)/works?page=3086', 'https://archiveofourown.org/tags/Stranger%20Things%20(TV%202016)/works?page=3087', 'https://archiveofourown.org/tags/Stranger%20Things%20(TV%202016)/works?page=3088', 'https://archiveofourown.org/tags/Stranger%20Things%20(TV%202016)/works?page=3089', 'https://archiveofourown.org/tags/Stranger%20Things%20(TV%202016)/works?page=3090', 'https://archiveofourown.org/tags/Stranger%20Things%20(TV%202016)/works?page=3091', 'https://archiveofourown.org/tags/Stranger%20Things%20(TV%202016)/works?page=3092', 'https://archiveofourown.org/tags/Stranger%20Things%20(TV%202016)/works?page=3093', 'https://archiveofourown.org/tags/Stranger%20Things%20(TV%202016)/works?page=3094', 'https://archiveofourown.org/tags/Stranger%20Things%20(TV%202016)/works?page=3095', 'https://archiveofourown.org/tags/Stranger%20Things%20(TV%202016)/works?page=3096', 'https://archiveofourown.org/tags/Stranger%20Things%20(TV%202016)/works?page=3097', 'https://archiveofourown.org/tags/Stranger%20Things%20(TV%202016)/works?page=3098', 'https://archiveofourown.org/tags/Stranger%20Things%20(TV%202016)/works?page=3099', 'https://archiveofourown.org/tags/Stranger%20Things%20(TV%202016)/works?page=3100', 'https://archiveofourown.org/tags/Stranger%20Things%20(TV%202016)/works?page=3101', 'https://archiveofourown.org/tags/Stranger%20Things%20(TV%202016)/works?page=3102', 'https://archiveofourown.org/tags/Stranger%20Things%20(TV%202016)/works?page=3103', 'https://archiveofourown.org/tags/Stranger%20Things%20(TV%202016)/works?page=3104', 'https://archiveofourown.org/tags/Stranger%20Things%20(TV%202016)/works?page=3105', 'https://archiveofourown.org/tags/Stranger%20Things%20(TV%202016)/works?page=3106', 'https://archiveofourown.org/tags/Stranger%20Things%20(TV%202016)/works?page=3107', 'https://archiveofourown.org/tags/Stranger%20Things%20(TV%202016)/works?page=3108', 'https://archiveofourown.org/tags/Stranger%20Things%20(TV%202016)/works?page=3109', 'https://archiveofourown.org/tags/Stranger%20Things%20(TV%202016)/works?page=3110', 'https://archiveofourown.org/tags/Stranger%20Things%20(TV%202016)/works?page=3111', 'https://archiveofourown.org/tags/Stranger%20Things%20(TV%202016)/works?page=3112', 'https://archiveofourown.org/tags/Stranger%20Things%20(TV%202016)/works?page=3113', 'https://archiveofourown.org/tags/Stranger%20Things%20(TV%202016)/works?page=3114', 'https://archiveofourown.org/tags/Stranger%20Things%20(TV%202016)/works?page=3115', 'https://archiveofourown.org/tags/Stranger%20Things%20(TV%202016)/works?page=3116', 'https://archiveofourown.org/tags/Stranger%20Things%20(TV%202016)/works?page=3117', 'https://archiveofourown.org/tags/Stranger%20Things%20(TV%202016)/works?page=3118', 'https://archiveofourown.org/tags/Stranger%20Things%20(TV%202016)/works?page=3119', 'https://archiveofourown.org/tags/Stranger%20Things%20(TV%202016)/works?page=3120', 'https://archiveofourown.org/tags/Stranger%20Things%20(TV%202016)/works?page=3121', 'https://archiveofourown.org/tags/Stranger%20Things%20(TV%202016)/works?page=3122', 'https://archiveofourown.org/tags/Stranger%20Things%20(TV%202016)/works?page=3123', 'https://archiveofourown.org/tags/Stranger%20Things%20(TV%202016)/works?page=3124', 'https://archiveofourown.org/tags/Stranger%20Things%20(TV%202016)/works?page=3125', 'https://archiveofourown.org/tags/Stranger%20Things%20(TV%202016)/works?page=3126', 'https://archiveofourown.org/tags/Stranger%20Things%20(TV%202016)/works?page=3127', 'https://archiveofourown.org/tags/Stranger%20Things%20(TV%202016)/works?page=3128', 'https://archiveofourown.org/tags/Stranger%20Things%20(TV%202016)/works?page=3129', 'https://archiveofourown.org/tags/Stranger%20Things%20(TV%202016)/works?page=3130', 'https://archiveofourown.org/tags/Stranger%20Things%20(TV%202016)/works?page=3131', 'https://archiveofourown.org/tags/Stranger%20Things%20(TV%202016)/works?page=3132', 'https://archiveofourown.org/tags/Stranger%20Things%20(TV%202016)/works?page=3133', 'https://archiveofourown.org/tags/Stranger%20Things%20(TV%202016)/works?page=3134', 'https://archiveofourown.org/tags/Stranger%20Things%20(TV%202016)/works?page=3135', 'https://archiveofourown.org/tags/Stranger%20Things%20(TV%202016)/works?page=3136', 'https://archiveofourown.org/tags/Stranger%20Things%20(TV%202016)/works?page=3137', 'https://archiveofourown.org/tags/Stranger%20Things%20(TV%202016)/works?page=3138', 'https://archiveofourown.org/tags/Stranger%20Things%20(TV%202016)/works?page=3139', 'https://archiveofourown.org/tags/Stranger%20Things%20(TV%202016)/works?page=3140', 'https://archiveofourown.org/tags/Stranger%20Things%20(TV%202016)/works?page=3141', 'https://archiveofourown.org/tags/Stranger%20Things%20(TV%202016)/works?page=3142', 'https://archiveofourown.org/tags/Stranger%20Things%20(TV%202016)/works?page=3143', 'https://archiveofourown.org/tags/Stranger%20Things%20(TV%202016)/works?page=3144', 'https://archiveofourown.org/tags/Stranger%20Things%20(TV%202016)/works?page=3145', 'https://archiveofourown.org/tags/Stranger%20Things%20(TV%202016)/works?page=3146', 'https://archiveofourown.org/tags/Stranger%20Things%20(TV%202016)/works?page=3147', 'https://archiveofourown.org/tags/Stranger%20Things%20(TV%202016)/works?page=3148', 'https://archiveofourown.org/tags/Stranger%20Things%20(TV%202016)/works?page=3149', 'https://archiveofourown.org/tags/Stranger%20Things%20(TV%202016)/works?page=3150', 'https://archiveofourown.org/tags/Stranger%20Things%20(TV%202016)/works?page=3151', 'https://archiveofourown.org/tags/Stranger%20Things%20(TV%202016)/works?page=3152', 'https://archiveofourown.org/tags/Stranger%20Things%20(TV%202016)/works?page=3153', 'https://archiveofourown.org/tags/Stranger%20Things%20(TV%202016)/works?page=3154', 'https://archiveofourown.org/tags/Stranger%20Things%20(TV%202016)/works?page=3155', 'https://archiveofourown.org/tags/Stranger%20Things%20(TV%202016)/works?page=3156', 'https://archiveofourown.org/tags/Stranger%20Things%20(TV%202016)/works?page=3157', 'https://archiveofourown.org/tags/Stranger%20Things%20(TV%202016)/works?page=3158', 'https://archiveofourown.org/tags/Stranger%20Things%20(TV%202016)/works?page=3159', 'https://archiveofourown.org/tags/Stranger%20Things%20(TV%202016)/works?page=3160', 'https://archiveofourown.org/tags/Stranger%20Things%20(TV%202016)/works?page=3161', 'https://archiveofourown.org/tags/Stranger%20Things%20(TV%202016)/works?page=3162', 'https://archiveofourown.org/tags/Stranger%20Things%20(TV%202016)/works?page=3163', 'https://archiveofourown.org/tags/Stranger%20Things%20(TV%202016)/works?page=3164', 'https://archiveofourown.org/tags/Stranger%20Things%20(TV%202016)/works?page=3165', 'https://archiveofourown.org/tags/Stranger%20Things%20(TV%202016)/works?page=3166', 'https://archiveofourown.org/tags/Stranger%20Things%20(TV%202016)/works?page=3167', 'https://archiveofourown.org/tags/Stranger%20Things%20(TV%202016)/works?page=3168', 'https://archiveofourown.org/tags/Stranger%20Things%20(TV%202016)/works?page=3169', 'https://archiveofourown.org/tags/Stranger%20Things%20(TV%202016)/works?page=3170', 'https://archiveofourown.org/tags/Stranger%20Things%20(TV%202016)/works?page=3171', 'https://archiveofourown.org/tags/Stranger%20Things%20(TV%202016)/works?page=3172', 'https://archiveofourown.org/tags/Stranger%20Things%20(TV%202016)/works?page=3173', 'https://archiveofourown.org/tags/Stranger%20Things%20(TV%202016)/works?page=3174', 'https://archiveofourown.org/tags/Stranger%20Things%20(TV%202016)/works?page=3175', 'https://archiveofourown.org/tags/Stranger%20Things%20(TV%202016)/works?page=3176', 'https://archiveofourown.org/tags/Stranger%20Things%20(TV%202016)/works?page=3177', 'https://archiveofourown.org/tags/Stranger%20Things%20(TV%202016)/works?page=3178', 'https://archiveofourown.org/tags/Stranger%20Things%20(TV%202016)/works?page=3179', 'https://archiveofourown.org/tags/Stranger%20Things%20(TV%202016)/works?page=3180', 'https://archiveofourown.org/tags/Stranger%20Things%20(TV%202016)/works?page=3181', 'https://archiveofourown.org/tags/Stranger%20Things%20(TV%202016)/works?page=3182', 'https://archiveofourown.org/tags/Stranger%20Things%20(TV%202016)/works?page=3183', 'https://archiveofourown.org/tags/Stranger%20Things%20(TV%202016)/works?page=3184', 'https://archiveofourown.org/tags/Stranger%20Things%20(TV%202016)/works?page=3185', 'https://archiveofourown.org/tags/Stranger%20Things%20(TV%202016)/works?page=3186', 'https://archiveofourown.org/tags/Stranger%20Things%20(TV%202016)/works?page=3187', 'https://archiveofourown.org/tags/Stranger%20Things%20(TV%202016)/works?page=3188', 'https://archiveofourown.org/tags/Stranger%20Things%20(TV%202016)/works?page=3189', 'https://archiveofourown.org/tags/Stranger%20Things%20(TV%202016)/works?page=3190', 'https://archiveofourown.org/tags/Stranger%20Things%20(TV%202016)/works?page=3191', 'https://archiveofourown.org/tags/Stranger%20Things%20(TV%202016)/works?page=3192', 'https://archiveofourown.org/tags/Stranger%20Things%20(TV%202016)/works?page=3193', 'https://archiveofourown.org/tags/Stranger%20Things%20(TV%202016)/works?page=3194', 'https://archiveofourown.org/tags/Stranger%20Things%20(TV%202016)/works?page=3195', 'https://archiveofourown.org/tags/Stranger%20Things%20(TV%202016)/works?page=3196', 'https://archiveofourown.org/tags/Stranger%20Things%20(TV%202016)/works?page=3197', 'https://archiveofourown.org/tags/Stranger%20Things%20(TV%202016)/works?page=3198', 'https://archiveofourown.org/tags/Stranger%20Things%20(TV%202016)/works?page=3199']\n",
            "3200\n"
          ]
        },
        {
          "output_type": "execute_result",
          "data": {
            "text/plain": [
              "\"\\nSo we putting the directory urls inside of an object to use it later.\\nWe can see the lenght of directory_urls is actually the number of page the fandom contains.\\nPlease verify is len(directory_urls) = of the number of page from the fandom you're scrapping.\\n\""
            ],
            "application/vnd.google.colaboratory.intrinsic+json": {
              "type": "string"
            }
          },
          "metadata": {},
          "execution_count": 9
        }
      ]
    },
    {
      "cell_type": "markdown",
      "source": [
        "# Data to append"
      ],
      "metadata": {
        "id": "wdo_y7f04qnw"
      }
    },
    {
      "cell_type": "markdown",
      "source": [
        "**Story IDS**"
      ],
      "metadata": {
        "id": "yucd7hXBGKCX"
      }
    },
    {
      "cell_type": "markdown",
      "source": [
        "So whatever reason you want to scrap AO3 something you'll need before anything else is the ID of the works, every work have one unique ID.\n",
        "We'll check also the number of ID we got aftermath, to check if the dimension choosen in the beggining are correct."
      ],
      "metadata": {
        "id": "Yj8eh61VGOlc"
      }
    },
    {
      "cell_type": "code",
      "source": [
        "def get_story_ids(directory_url):\n",
        "\t\"\"\"\n",
        "\tGiven a single directory URL, get all stories from that URL. Returns a list of story IDs.\n",
        "\t\"\"\"\n",
        "\n",
        "\tdir_soup = download_and_soupify(directory_url)\n",
        "\tdir_links = dir_soup.find_all(\"a\", href=True)\n",
        "\n",
        "\tdir_hrefs = [link.attrs['href'] for link in dir_links]\n",
        "\twork_hrefs = [link for link in dir_hrefs if \"/works/\" in link]\n",
        "\tpotential_ids = [work.split(\"/\")[2] for work in work_hrefs]\n",
        "\tid_list = [int(work_id) for work_id in potential_ids if work_id.isdigit()]\n",
        "\n",
        "\tstory_ids = list(set(id_list))\n",
        "\n",
        "\treturn story_ids"
      ],
      "metadata": {
        "id": "0qlsxEQwGJLS"
      },
      "execution_count": 10,
      "outputs": []
    },
    {
      "cell_type": "code",
      "source": [
        "story_ids = []\n",
        "for i in range(Beginning_Page,Number_page):\n",
        "  print(get_story_ids(directory_urls[i]))\n",
        "\n",
        "  story_ids.append(get_story_ids(directory_urls[i]))\n",
        "\n",
        "\"\"\"\n",
        "Btw sorry for the print but we need to check if the ID are different from row to row\n",
        "\"\"\""
      ],
      "metadata": {
        "id": "Mcj5Ism4Jgbh",
        "colab": {
          "base_uri": "https://localhost:8080/",
          "height": 1000
        },
        "outputId": "4c7d1cc8-ff79-4cb8-ae03-64372ece032e"
      },
      "execution_count": 11,
      "outputs": [
        {
          "output_type": "stream",
          "name": "stdout",
          "text": [
            "[44157319, 44733832, 21311245, 44511886, 43212331, 44731969, 44731972, 44719444, 44709079, 40278624, 44733922, 43918179, 44674918, 41122407, 43966569, 40441965, 44732017, 43787893, 44043262, 44690431]\n",
            "[44728339, 40414356, 44729254, 44633647, 44730547, 44730424, 44385724, 39914823, 44471242, 44729293, 44730070, 44597209, 43106268, 43879902, 44201449, 44731375, 43690483, 42417525, 40012152, 44710138]\n",
            "[44727187, 44653972, 44105112, 44678296, 44726296, 44567962, 44727853, 44105782, 44726455, 44728006, 41383011, 42574950, 44728426, 42423789, 42620142, 44726386, 41134326, 44727289, 44728318, 44728063]\n",
            "[41164800, 44216197, 44723089, 43251858, 43957531, 44724646, 44724136, 44374447, 44667571, 44213569, 44724547, 44245705, 43583691, 44479567, 42906837, 43547607, 40622556, 44724466, 44725876, 43404024]\n",
            "[43761672, 44235784, 44723212, 44713501, 44591269, 44723623, 44723116, 44722480, 43395129, 44620615, 44723530, 44721610, 39625044, 44722900, 44653402, 44700253, 44722144, 44441830, 42697584, 41058033]\n",
            "[44720395, 44414611, 44719000, 44713501, 43909536, 41386917, 42877992, 44721322, 43436076, 44719789, 43756729, 44721487, 44720848, 44720209, 41316693, 44721256, 44720239, 44721523, 44698618, 44078334]\n",
            "[44718352, 44481826, 43006371, 44562991, 40383798, 44718523, 44719678, 44717890, 44718412, 44719447, 44425561, 44718556, 44718697, 44000361, 44716137, 44718700, 43106541, 44717806, 44718712, 44286078]\n",
            "[44715427, 44566183, 43934505, 44716714, 43997233, 44716339, 44716211, 43297845, 43738561, 44715589, 44717638, 44716501, 44102361, 42344670, 44312167, 44610151, 44717548, 41514105, 42933882, 41002749]\n",
            "[44032774, 44702344, 43123212, 44714134, 44023069, 44660257, 43576995, 44713636, 44713408, 44516545, 40104771, 42911946, 44374744, 43216612, 43129321, 44713453, 44265466, 42675069, 44714494, 40105215]\n",
            "[44537218, 44703631, 44703376, 40236687, 44434450, 43778322, 43179546, 44712235, 42676527, 44711857, 40658868, 44101834, 40664523, 43731663, 43646814, 44713312, 44711794, 44596981, 44711800, 44631550]\n",
            "[41231748, 44664460, 44708878, 44709007, 44708494, 44710162, 41599635, 44470810, 40699053, 43002159, 43995444, 44689210, 44133186, 44301382, 42699474, 44710360, 43613790, 43027041, 44710006, 44709112]\n",
            "[43424641, 43627144, 40681233, 41394456, 44706226, 43482036, 44706364, 44619337, 44707276, 43856850, 43778146, 43325667, 44707174, 43326567, 44328424, 44689897, 43995243, 44557291, 44707312, 44154226]\n",
            "[44714119, 44704915, 44705047, 44704153, 42517023, 44553763, 44677681, 43072182, 44705977, 44704828, 44651965, 44546620, 44691901, 44058048, 44702527, 44706115, 40116426, 42328020, 44404198, 42254187]\n",
            "[44073609, 44700427, 44702095, 44701468, 44703397, 43238056, 44700466, 44701498, 44700859, 40945596, 44653390, 44701519, 44331346, 44702932, 44702302, 44703730, 44514421, 44702200, 43406073, 44703358]\n",
            "[44254465, 44699014, 44698765, 44700202, 43623732, 40096059, 42362562, 41554758, 44698321, 44699602, 44700244, 44698966, 41656410, 44699887, 43301359, 44222575, 44594929, 42856821, 44699125, 41262078]\n",
            "[44694016, 44695561, 44459533, 44083728, 43607445, 44698141, 44695588, 42930729, 43268650, 44695726, 44591536, 44155060, 44336698, 41456829, 44419135, 44695879, 42479181, 43386577, 43577818, 44696416]\n",
            "[44695303, 43885581, 40971534, 43835151, 44694178, 44693416, 43218996, 44693563, 40751166, 44693962, 41841486, 43638745, 44693731, 44693734, 44694889, 44693737, 44693104, 44666614, 44694265, 42711420]\n",
            "[40397706, 44522896, 44027928, 42966168, 44691739, 43910820, 44547112, 44691886, 44659759, 40468272, 44690485, 44497852, 43999038, 44692039, 44691655, 37461841, 42431571, 44402908, 44691811, 41497854]\n",
            "[44689411, 40208772, 44441866, 44689039, 43213456, 44350870, 42475173, 41961897, 44689714, 44385076, 43887547, 44604091, 44689876, 43327191, 41464407, 44690137, 43802986, 44689399, 43727737, 43857147]\n",
            "[44688514, 44688649, 44133651, 44687383, 44634529, 44688034, 44688550, 44688553, 44686639, 44575666, 43629243, 34453564, 44688064, 43732044, 44686804, 44687317, 44688862, 40389990, 43577971, 44688505]\n",
            "[44681095, 44686345, 44686486, 44686231, 44686876, 42876195, 42424113, 42123954, 42276672, 44640964, 44040775, 43702987, 44117838, 44667994, 42602718, 44498284, 44684401, 42660084, 44569972, 39996279]\n",
            "[44682244, 43335430, 44681608, 42847758, 44683279, 44436751, 42392475, 44668198, 42986919, 44140201, 43326637, 44683318, 42626880, 44181322, 44683090, 43289694, 40981995, 44681452, 42318192, 44681458]\n",
            "[44400271, 44543761, 44188690, 44404129, 43845039, 44507059, 40063413, 44304442, 43145544, 44597578, 44360530, 44240339, 44572759, 44681176, 44680669, 44357473, 44685160, 44201065, 44249722, 42342267]\n",
            "[42188166, 44029575, 43693707, 44678029, 40867470, 41656476, 42955806, 42846111, 44193055, 44678971, 44392147, 44593750, 41369820, 44679907, 40110183, 41290344, 39343722, 41151474, 41975544, 40808958]\n",
            "[44677636, 43787013, 44676742, 39789339, 44395549, 44436769, 44677420, 39973815, 41350725, 44677702, 44677834, 43492170, 43546843, 41043678, 44677729, 44313577, 44677867, 44677612, 44252143, 44596474]\n",
            "[44363266, 44674822, 43916299, 44674831, 44542096, 44674840, 43778205, 44673958, 43547439, 44673844, 44051008, 43386445, 44675680, 44277985, 44673376, 41818596, 44673511, 43704429, 42825462, 44506111]\n",
            "[44673295, 44671759, 44671249, 44672791, 44673433, 43691043, 43204131, 44576422, 44588074, 44671918, 44361007, 39954360, 44670790, 42525258, 44159314, 44011603, 43184727, 44671717, 44493418, 44119914]\n",
            "[44670337, 40287750, 44669191, 44670991, 44669986, 44668843, 44067246, 39704883, 44670901, 44669110, 44668471, 44536120, 44669248, 44669005, 44668495, 44482396, 42636258, 42540777, 44669686, 19983097]\n",
            "[44666890, 44668555, 44667427, 44561191, 41374377, 44142507, 44336560, 44666548, 44334520, 44667202, 44666437, 44668615, 44498248, 44668105, 44251858, 44667877, 44666599, 39762030, 44666737, 44666359]\n",
            "[40475904, 42615684, 44228620, 42904353, 44665249, 44666026, 44296363, 44663212, 43770288, 44665669, 44665030, 44594386, 44663893, 42326997, 44664796, 43795296, 44101092, 41268843, 44664304, 44499583]\n",
            "[44167939, 43280160, 41186982, 43925164, 44663983, 44470339, 43402821, 44663626, 42142590, 44588641, 40632162, 44663530, 44663917, 44397934, 44663152, 44663026, 44662654, 44633845, 44663548, 44323582]\n",
            "[41742867, 44661784, 44308378, 41936412, 44571043, 44657317, 44548006, 41077161, 44643115, 41788971, 41273397, 44372923, 44661442, 44330437, 44661190, 44521672, 44635111, 39558003, 44661367, 44053245]\n",
            "[40731399, 40932999, 43712397, 44659351, 44659747, 41335098, 44659390, 44532670, 44650309, 44620159, 44136403, 43432158, 41827299, 40954854, 44659174, 44179816, 44659441, 44659057, 42412533, 44660479]\n",
            "[44454667, 44650525, 44655775, 43101477, 44273062, 44212651, 44368558, 43900215, 41869368, 43237053, 41736894, 42852684, 43714260, 42669141, 44669401, 43119345, 44524789, 43399288, 44624509, 44657662]\n",
            "[44500864, 44454667, 44655124, 42326040, 42406557, 44167852, 44654512, 44091058, 40684101, 44050125, 42963663, 43898448, 43751250, 40249173, 43877463, 44654824, 44306668, 44423149, 44654968, 44094846]\n",
            "[44653189, 43707168, 44653099, 42934956, 44427949, 44653870, 43904431, 44652922, 42229302, 44651578, 44652355, 44650822, 43503057, 44654290, 43496545, 41639649, 44653048, 44621305, 44651770, 44651899]\n",
            "[44650756, 43760389, 44647564, 44356621, 44650393, 44648887, 44615737, 43973316, 42101835, 44649169, 44649301, 41822937, 43081050, 44004828, 43089630, 41904621, 42232944, 41692401, 43611636, 40753791]\n",
            "[44647552, 44499331, 44474374, 44647561, 42454287, 44646934, 44044569, 43921308, 44646685, 43521825, 44454052, 42782646, 41146809, 44647753, 44540116, 41992155, 44060898, 44195818, 40692861, 44646910]\n",
            "[44427523, 40817049, 44359456, 44646703, 41642160, 44645551, 44645554, 44644534, 40310076, 44645191, 40486218, 44646613, 44645599, 44644708, 40266216, 43892590, 44645614, 42137334, 44614135, 44646013]\n",
            "[43622784, 44644225, 42756750, 44643487, 44643256, 44532931, 44643916, 44419405, 44643409, 44644690, 43609041, 44642257, 40493781, 43723491, 44643691, 44644081, 43543669, 43863414, 44499451, 44593276]\n",
            "[43924224, 28158084, 38993034, 44214796, 44617999, 44302354, 44640667, 44020380, 42717603, 44640163, 44639926, 44641081, 44420410, 44640700, 41935431, 44119755, 44640976, 39788499, 43076694, 40297599]\n",
            "[43993218, 44638597, 42488463, 41042835, 44639767, 44639395, 44041764, 44638393, 44639674, 41065920, 42100932, 42268101, 41254869, 44637142, 41700438, 44638306, 41452137, 44638450, 41980665, 44511484]\n",
            "[44637955, 44602513, 43772946, 44464162, 44636329, 44635951, 44636464, 44637112, 44636476, 43772736, 44638276, 44139591, 44616904, 44232265, 44330584, 44636392, 38104555, 44290543, 44636539, 43593852]\n",
            "[44612224, 44538511, 44377999, 44468116, 42017049, 44635420, 40944939, 40753074, 42069942, 40299066, 43757898, 42952530, 40157913, 42660699, 44633437, 44635492, 44353771, 44470252, 36060529, 43124349]\n",
            "[44514691, 44629381, 44442634, 44077069, 40328223, 44350756, 44629414, 44434858, 44629165, 44632252, 43798591, 40994625, 44632144, 44115936, 44569444, 41335911, 44210536, 43597929, 44139630, 44631163]\n",
            "[44497813, 44303638, 44310934, 44609560, 42557853, 43121310, 44475040, 44437540, 44142118, 41223081, 43595958, 44629051, 42896964, 44484292, 41626965, 44152026, 43866978, 44157799, 43940082, 44628346]\n",
            "[43710081, 44427778, 40475397, 44135814, 44492680, 44446348, 42727821, 39981198, 44623630, 44178076, 44626732, 43357101, 41863608, 43429308, 41616972, 44625121, 39637092, 43216500, 42357624, 42037500]\n",
            "[44621698, 44519812, 44622859, 43659663, 43324053, 40224666, 42279711, 44620192, 44620066, 44621875, 44082114, 40812738, 44209876, 44621434, 42668508, 44622700, 42299634, 44623477, 44620282, 44623357]\n",
            "[41238912, 44617732, 43702150, 44617996, 42223641, 44618014, 44264734, 44616484, 44617255, 44557507, 44401738, 44127051, 42756816, 44619088, 44619346, 44617048, 44618842, 44619484, 44618464, 42976995]\n",
            "[44614537, 44615953, 44616085, 43398550, 44614684, 44615461, 44615083, 43669815, 44351161, 43895613, 44304454, 44615632, 40487889, 44614114, 44615014, 44164969, 44614507, 44498158, 44126064, 42863484]\n",
            "[44191891, 44612503, 43974043, 40127388, 44612776, 40662441, 44613049, 44613691, 42147909, 44612938, 44613082, 43692507, 42702813, 44612839, 44613997, 42426480, 44612593, 44082546, 43661556, 42018423]\n",
            "[40596489, 41669130, 44611216, 44611882, 44610607, 43999665, 44610616, 44046396, 43950652, 44470591, 44612287, 44612290, 44591944, 44139213, 44608480, 44612071, 44611957, 44612221, 43925118, 41487999]\n",
            "[44553985, 44604946, 44297362, 44608408, 44608666, 44609563, 42939549, 43277853, 44609575, 44610370, 42796356, 41731269, 42194760, 44608201, 44610388, 44609620, 44610778, 44607841, 44411767, 44609791]\n",
            "[44246272, 40780041, 44229133, 44604313, 44601505, 44606626, 44604331, 44606254, 44606002, 44605369, 44605522, 43098195, 44420701, 43057887, 44605162, 40845933, 41662197, 43379704, 42427773, 44607103]\n",
            "[43433605, 42019719, 42903306, 44601493, 44603683, 44592421, 43983654, 44346538, 44094513, 44435263, 44602579, 42878424, 44498656, 44602981, 44601832, 44599912, 44261494, 43751800, 44603770, 43750654]\n",
            "[42900609, 41924355, 42281874, 44406934, 44549533, 44598304, 42991797, 44078649, 44497213, 43415358, 44594239, 44269903, 44597842, 43331283, 44551648, 44125929, 44600299, 40090482, 43410933, 44598013]\n",
            "[44516353, 44502025, 44594323, 43773204, 44595997, 44594464, 44108460, 44595757, 43931187, 44595508, 43061556, 44594230, 40220340, 43424317, 44594368, 44003535, 44594518, 23896432, 41033595, 44595838]\n",
            "[41413257, 44592661, 44512534, 44593699, 21277862, 44593216, 44310214, 44590162, 44007891, 44590804, 44112220, 44593756, 44074467, 44593261, 44590708, 44589685, 44145142, 43541239, 44592253, 42180351]\n",
            "[43753728, 41057664, 44588038, 44588551, 44190883, 44587555, 44062245, 44588590, 44587834, 43276356, 43800393, 44323147, 43873111, 44575831, 40476000, 44588644, 44588005, 44252782, 44588272, 44118906]\n",
            "[43605651, 43586710, 44149785, 44586394, 44586526, 44586037, 41256246, 44585272, 42223041, 44540356, 44117193, 44586697, 44586571, 40983243, 44462926, 44576470, 43876837, 44586598, 42947187, 44299258]\n",
            "[42587397, 43977861, 44583685, 44560522, 44583058, 40168851, 44585236, 44582932, 43231006, 41449515, 40431147, 41200944, 43121331, 42732240, 44020434, 43412050, 44541010, 44496988, 44581234, 42836346]\n",
            "[43899010, 43146756, 44568598, 41365272, 44561824, 40559139, 44580646, 44117928, 44474410, 44580148, 44581051, 43734076, 13479756, 19745485, 43819087, 40643154, 42675033, 44420215, 44582266, 42794493]\n",
            "[41309964, 43868179, 43844376, 43081113, 44579740, 44018475, 43421361, 44577469, 44578750, 44542405, 44532304, 44579287, 43371108, 44577127, 44579818, 44577898, 41359338, 43400685, 41090415, 44579326]\n",
            "[43757323, 44576398, 44214031, 43907475, 43527957, 44077605, 40755879, 44576812, 44414509, 44574895, 39626034, 44575813, 41877843, 44252758, 44576857, 40628190, 44263777, 44509540, 39779301, 44540410]\n",
            "[41967750, 44518540, 42967440, 44149524, 44573464, 44574235, 44573086, 42323493, 42853290, 44571961, 42535365, 44561359, 40213200, 44031960, 40906329, 44533468, 40819941, 35098471, 44570989, 42927615]\n",
            "[44568448, 44224643, 44083605, 44569501, 44570026, 43523247, 42366384, 44568250, 44568508, 44568391, 44569678, 44570191, 44569297, 44147929, 43487712, 44566753, 43781347, 44570470, 21812077, 44569468]\n",
            "[44566408, 41732493, 44565262, 44568079, 42499233, 44568229, 44567719, 44213419, 44278702, 44568241, 44567992, 39720120, 43637308, 44142153, 44307916, 44567635, 41063004, 43677411, 43626345, 44565751]\n",
            "[40524549, 44563723, 44061711, 44563729, 44563861, 41036955, 44563489, 44563105, 42588972, 43416243, 44563774, 39755454, 44564932, 44563654, 44247892, 44033247, 42992100, 39733224, 34373113, 44548348]\n",
            "[44561152, 44561026, 44560132, 40301976, 44395933, 42494883, 44561833, 44521003, 44562874, 44560324, 44563279, 44544847, 44562913, 44560486, 44561767, 44560744, 42909678, 43776883, 44560891, 43985277]\n",
            "[44559367, 44558233, 44557084, 44558500, 41032101, 44559793, 43344435, 44557498, 44558401, 44557381, 41422923, 42513228, 44554957, 44225239, 41131737, 44557279, 42153321, 44021617, 43316341, 44559094]\n",
            "[44110980, 44555530, 41639949, 43991437, 40875039, 44554402, 44555944, 44555434, 44552629, 44553283, 40847319, 44116824, 44537305, 44498653, 44145504, 44223073, 44555494, 42895974, 44368753, 44474746]\n",
            "[44551429, 44550922, 40043928, 40677408, 44549794, 44551978, 40991286, 44551606, 44549560, 43666230, 44549692, 44549437, 43278144, 42606657, 42063552, 43548993, 44551120, 44506714, 44506588, 44170717]\n",
            "[44548108, 44547484, 40197282, 44546614, 44126649, 41201082, 43955008, 44547649, 41974083, 44405326, 44548180, 44547553, 42412263, 44548969, 44546668, 44547058, 44548987, 44546173, 42439806, 43166847]\n",
            "[44545153, 43887489, 44425477, 44543752, 43306248, 44545423, 44544784, 44545300, 41648538, 44545456, 41724729, 43542586, 44544322, 44545108, 44545621, 43866462, 44545504, 44545897, 44545909, 44544892]\n",
            "[43658886, 44544016, 43298583, 44281778, 44449591, 44542903, 43349059, 44542276, 44544070, 44542663, 44543443, 44543446, 44474200, 41990619, 44542975, 44542819, 44543605, 44542198, 44544253, 44192767]\n",
            "[44541697, 44468611, 43647754, 44539789, 41667726, 44429206, 44522401, 44540197, 40132011, 40157739, 44539315, 44540725, 41108028, 44400703, 40721991, 41876430, 40722024, 36315499, 44532592, 41576568]\n",
            "[43951362, 44537233, 44538775, 43541886, 44532772, 43883175, 44534440, 42884403, 44537014, 43100856, 44539198, 44537794, 42968658, 44536531, 44232922, 40222689, 44536042, 44537458, 43936891, 43639294]\n",
            "[41360514, 44072838, 42547590, 39753609, 44531347, 44535583, 44535076, 44529580, 40970418, 43542219, 43974219, 44130379, 43952728, 44535256, 41596377, 44531683, 42872937, 44530933, 44534776, 41074557]\n",
            "[44222851, 41116950, 40949655, 43725208, 44526880, 41008419, 44529337, 43607994, 44528830, 44358463, 44202175, 44528335, 43422417, 44438098, 44529109, 40425690, 40358883, 43178725, 42708459, 44529652]\n",
            "[44524561, 44527507, 44006685, 43301793, 43512495, 39689784, 44053957, 42860616, 44525641, 44268364, 43223251, 44524888, 44524897, 44524642, 40597089, 44527612, 44525551, 44525431, 44502652, 44231806]\n",
            "[44522245, 44521354, 40023051, 44130193, 41825448, 44523433, 44522803, 44521921, 42324930, 44520388, 44522053, 43326798, 44523349, 43850838, 44520022, 44520415, 42555360, 40653171, 43752948, 44375419]\n",
            "[44519680, 44247808, 41963523, 42500484, 40895373, 42277665, 44517031, 43840173, 44517826, 44519551, 43082706, 44517844, 44471641, 44249050, 44519521, 42840294, 44440300, 43820526, 44519290, 43623423]\n",
            "[44514688, 44041857, 40430739, 44516638, 44515123, 39922869, 43564989, 44516158, 44515261, 44513860, 44515909, 44482501, 44516302, 44516176, 42696027, 44515684, 44516590, 43058286, 44514031, 42356721]\n",
            "[44512003, 43242378, 44513548, 44511901, 40774308, 44178982, 44511913, 44512042, 44501932, 44512579, 40265163, 44510158, 44511448, 40173150, 44213860, 44509798, 44512759, 43500666, 44511997, 44513278]\n",
            "[44510467, 44511118, 41718672, 44508697, 44511133, 44509597, 41239584, 44509234, 42492219, 16911174, 40166988, 44510158, 44509903, 44510422, 44509402, 44509405, 44509408, 41541474, 44508412, 44508541]\n",
            "[43414279, 41985543, 42716940, 43808269, 40285716, 44506798, 44125491, 43742388, 41406783, 44408770, 44406856, 44495182, 44009934, 44508241, 44494162, 42845406, 43700832, 44491879, 43045479, 44026990]\n",
            "[44506762, 44452108, 40620951, 44504740, 44506414, 44505391, 44502715, 44503744, 43335631, 43203921, 40546131, 44503126, 44504791, 44506072, 39338073, 39654753, 43821291, 44505196, 43021167, 44211454]\n",
            "[44502400, 44501902, 39270171, 44501029, 43288104, 43819690, 44500531, 44501695, 44502082, 41060805, 43593165, 44502607, 44502358, 44502235, 44499682, 39466212, 40957926, 44311402, 44501239, 44502649]\n",
            "[44496517, 44497927, 44498191, 42993168, 44496019, 44306590, 44497822, 41092647, 44220205, 44497072, 43899312, 44286642, 44496583, 44496328, 44497876, 44403673, 44474857, 44497009, 44497396, 44497783]\n",
            "[44338699, 41336214, 44493463, 44495641, 44494618, 44492446, 43848478, 44443936, 43331617, 44493097, 43479210, 44494903, 44494669, 44429020, 42907998, 38910432, 44494822, 44494063, 44492656, 44494579]\n",
            "[44223747, 44457094, 44492053, 41847717, 44489002, 43190955, 44298796, 40834614, 44486587, 44490556, 44488900, 44489935, 44486866, 43849818, 44488291, 44029416, 43826547, 44365429, 44371957, 41382015]\n",
            "[16876677, 44486923, 44487052, 44181646, 43893786, 44486683, 39565092, 41706168, 42144315, 42848958, 44145858, 44099142, 44480842, 42317517, 43422045, 44023798, 41118711, 44485240, 43364985, 44487931]\n",
            "[44483077, 44482186, 43059594, 44399380, 44482075, 42756513, 44482087, 17794088, 43855402, 44482609, 41631813, 44117320, 43610442, 44084046, 43204819, 44395348, 44478676, 44415454, 41417448, 41611518]\n",
            "[44478850, 41589507, 44315149, 44480143, 43530768, 42370590, 41351841, 44478373, 44478760, 44380720, 43781061, 44478406, 44480458, 43340236, 44478286, 42093012, 42839766, 44479837, 44478709, 44479990]\n",
            "[44191747, 44476039, 44477194, 41981709, 44477851, 44478115, 44475811, 44475688, 44476987, 43932348, 44478268, 44478142, 41964228, 44477389, 44364241, 44478040, 44475739, 44316514, 44129386, 44473846]\n",
            "[42266112, 39730050, 44475142, 44070678, 44473240, 44006680, 44475550, 44311459, 44474689, 44475076, 44152396, 44474446, 44473936, 44474194, 44472661, 44474842, 44475226, 44475622, 40112112, 44473468]\n",
            "[44469766, 44471176, 43826703, 44035219, 44471965, 40343199, 44143011, 44469799, 43983276, 44470450, 41745204, 41392449, 44472643, 42779589, 41297100, 44471629, 44471773, 40450149, 43337968, 42534513]\n",
            "[44469382, 44414218, 43244685, 42543633, 44467474, 44469403, 44467999, 40099743, 39784740, 43017129, 40160169, 44468395, 44469049, 44468425, 44296906, 44468695, 43908450, 41519598, 44449534, 44468863]\n",
            "[44465155, 40778628, 44465167, 44465578, 44466994, 44465332, 44467126, 44249014, 44467012, 44464708, 43905865, 44465875, 44466265, 40871646, 40467435, 42958833, 44465014, 44464375, 41440122, 44465275]\n",
            "[44195347, 42023316, 42566805, 44460823, 42566811, 44377000, 44029359, 44463289, 44068923, 44462398, 44447422, 44462914, 41915844, 42362952, 44213833, 44318299, 40882788, 44463469, 44462842, 40308990]\n"
          ]
        },
        {
          "output_type": "execute_result",
          "data": {
            "text/plain": [
              "'\\nBtw sorry for the print but we need to check if the ID are different from row to row\\n'"
            ],
            "application/vnd.google.colaboratory.intrinsic+json": {
              "type": "string"
            }
          },
          "metadata": {},
          "execution_count": 11
        }
      ]
    },
    {
      "cell_type": "code",
      "source": [
        "story_ids_2 = []\n",
        "for i in range(0,len(story_ids)):\n",
        " story_ids_2 = story_ids_2 + story_ids[i]\n",
        "\n",
        "print(story_ids_2)\n",
        "len(story_ids_2)\n",
        "\n",
        "\"\"\"\n",
        "This code is just use to put every ID in the same list\n",
        "Yeah I know it's quite a long code for what it do\n",
        "\"\"\""
      ],
      "metadata": {
        "colab": {
          "base_uri": "https://localhost:8080/",
          "height": 74
        },
        "id": "RZ1A4yTiKEfd",
        "outputId": "26f4cb7c-ad51-4604-aa0a-c79b38fedaa3"
      },
      "execution_count": 12,
      "outputs": [
        {
          "output_type": "stream",
          "name": "stdout",
          "text": [
            "[44157319, 44733832, 21311245, 44511886, 43212331, 44731969, 44731972, 44719444, 44709079, 40278624, 44733922, 43918179, 44674918, 41122407, 43966569, 40441965, 44732017, 43787893, 44043262, 44690431, 44728339, 40414356, 44729254, 44633647, 44730547, 44730424, 44385724, 39914823, 44471242, 44729293, 44730070, 44597209, 43106268, 43879902, 44201449, 44731375, 43690483, 42417525, 40012152, 44710138, 44727187, 44653972, 44105112, 44678296, 44726296, 44567962, 44727853, 44105782, 44726455, 44728006, 41383011, 42574950, 44728426, 42423789, 42620142, 44726386, 41134326, 44727289, 44728318, 44728063, 41164800, 44216197, 44723089, 43251858, 43957531, 44724646, 44724136, 44374447, 44667571, 44213569, 44724547, 44245705, 43583691, 44479567, 42906837, 43547607, 40622556, 44724466, 44725876, 43404024, 43761672, 44235784, 44723212, 44713501, 44591269, 44723623, 44723116, 44722480, 43395129, 44620615, 44723530, 44721610, 39625044, 44722900, 44653402, 44700253, 44722144, 44441830, 42697584, 41058033, 44720395, 44414611, 44719000, 44713501, 43909536, 41386917, 42877992, 44721322, 43436076, 44719789, 43756729, 44721487, 44720848, 44720209, 41316693, 44721256, 44720239, 44721523, 44698618, 44078334, 44718352, 44481826, 43006371, 44562991, 40383798, 44718523, 44719678, 44717890, 44718412, 44719447, 44425561, 44718556, 44718697, 44000361, 44716137, 44718700, 43106541, 44717806, 44718712, 44286078, 44715427, 44566183, 43934505, 44716714, 43997233, 44716339, 44716211, 43297845, 43738561, 44715589, 44717638, 44716501, 44102361, 42344670, 44312167, 44610151, 44717548, 41514105, 42933882, 41002749, 44032774, 44702344, 43123212, 44714134, 44023069, 44660257, 43576995, 44713636, 44713408, 44516545, 40104771, 42911946, 44374744, 43216612, 43129321, 44713453, 44265466, 42675069, 44714494, 40105215, 44537218, 44703631, 44703376, 40236687, 44434450, 43778322, 43179546, 44712235, 42676527, 44711857, 40658868, 44101834, 40664523, 43731663, 43646814, 44713312, 44711794, 44596981, 44711800, 44631550, 41231748, 44664460, 44708878, 44709007, 44708494, 44710162, 41599635, 44470810, 40699053, 43002159, 43995444, 44689210, 44133186, 44301382, 42699474, 44710360, 43613790, 43027041, 44710006, 44709112, 43424641, 43627144, 40681233, 41394456, 44706226, 43482036, 44706364, 44619337, 44707276, 43856850, 43778146, 43325667, 44707174, 43326567, 44328424, 44689897, 43995243, 44557291, 44707312, 44154226, 44714119, 44704915, 44705047, 44704153, 42517023, 44553763, 44677681, 43072182, 44705977, 44704828, 44651965, 44546620, 44691901, 44058048, 44702527, 44706115, 40116426, 42328020, 44404198, 42254187, 44073609, 44700427, 44702095, 44701468, 44703397, 43238056, 44700466, 44701498, 44700859, 40945596, 44653390, 44701519, 44331346, 44702932, 44702302, 44703730, 44514421, 44702200, 43406073, 44703358, 44254465, 44699014, 44698765, 44700202, 43623732, 40096059, 42362562, 41554758, 44698321, 44699602, 44700244, 44698966, 41656410, 44699887, 43301359, 44222575, 44594929, 42856821, 44699125, 41262078, 44694016, 44695561, 44459533, 44083728, 43607445, 44698141, 44695588, 42930729, 43268650, 44695726, 44591536, 44155060, 44336698, 41456829, 44419135, 44695879, 42479181, 43386577, 43577818, 44696416, 44695303, 43885581, 40971534, 43835151, 44694178, 44693416, 43218996, 44693563, 40751166, 44693962, 41841486, 43638745, 44693731, 44693734, 44694889, 44693737, 44693104, 44666614, 44694265, 42711420, 40397706, 44522896, 44027928, 42966168, 44691739, 43910820, 44547112, 44691886, 44659759, 40468272, 44690485, 44497852, 43999038, 44692039, 44691655, 37461841, 42431571, 44402908, 44691811, 41497854, 44689411, 40208772, 44441866, 44689039, 43213456, 44350870, 42475173, 41961897, 44689714, 44385076, 43887547, 44604091, 44689876, 43327191, 41464407, 44690137, 43802986, 44689399, 43727737, 43857147, 44688514, 44688649, 44133651, 44687383, 44634529, 44688034, 44688550, 44688553, 44686639, 44575666, 43629243, 34453564, 44688064, 43732044, 44686804, 44687317, 44688862, 40389990, 43577971, 44688505, 44681095, 44686345, 44686486, 44686231, 44686876, 42876195, 42424113, 42123954, 42276672, 44640964, 44040775, 43702987, 44117838, 44667994, 42602718, 44498284, 44684401, 42660084, 44569972, 39996279, 44682244, 43335430, 44681608, 42847758, 44683279, 44436751, 42392475, 44668198, 42986919, 44140201, 43326637, 44683318, 42626880, 44181322, 44683090, 43289694, 40981995, 44681452, 42318192, 44681458, 44400271, 44543761, 44188690, 44404129, 43845039, 44507059, 40063413, 44304442, 43145544, 44597578, 44360530, 44240339, 44572759, 44681176, 44680669, 44357473, 44685160, 44201065, 44249722, 42342267, 42188166, 44029575, 43693707, 44678029, 40867470, 41656476, 42955806, 42846111, 44193055, 44678971, 44392147, 44593750, 41369820, 44679907, 40110183, 41290344, 39343722, 41151474, 41975544, 40808958, 44677636, 43787013, 44676742, 39789339, 44395549, 44436769, 44677420, 39973815, 41350725, 44677702, 44677834, 43492170, 43546843, 41043678, 44677729, 44313577, 44677867, 44677612, 44252143, 44596474, 44363266, 44674822, 43916299, 44674831, 44542096, 44674840, 43778205, 44673958, 43547439, 44673844, 44051008, 43386445, 44675680, 44277985, 44673376, 41818596, 44673511, 43704429, 42825462, 44506111, 44673295, 44671759, 44671249, 44672791, 44673433, 43691043, 43204131, 44576422, 44588074, 44671918, 44361007, 39954360, 44670790, 42525258, 44159314, 44011603, 43184727, 44671717, 44493418, 44119914, 44670337, 40287750, 44669191, 44670991, 44669986, 44668843, 44067246, 39704883, 44670901, 44669110, 44668471, 44536120, 44669248, 44669005, 44668495, 44482396, 42636258, 42540777, 44669686, 19983097, 44666890, 44668555, 44667427, 44561191, 41374377, 44142507, 44336560, 44666548, 44334520, 44667202, 44666437, 44668615, 44498248, 44668105, 44251858, 44667877, 44666599, 39762030, 44666737, 44666359, 40475904, 42615684, 44228620, 42904353, 44665249, 44666026, 44296363, 44663212, 43770288, 44665669, 44665030, 44594386, 44663893, 42326997, 44664796, 43795296, 44101092, 41268843, 44664304, 44499583, 44167939, 43280160, 41186982, 43925164, 44663983, 44470339, 43402821, 44663626, 42142590, 44588641, 40632162, 44663530, 44663917, 44397934, 44663152, 44663026, 44662654, 44633845, 44663548, 44323582, 41742867, 44661784, 44308378, 41936412, 44571043, 44657317, 44548006, 41077161, 44643115, 41788971, 41273397, 44372923, 44661442, 44330437, 44661190, 44521672, 44635111, 39558003, 44661367, 44053245, 40731399, 40932999, 43712397, 44659351, 44659747, 41335098, 44659390, 44532670, 44650309, 44620159, 44136403, 43432158, 41827299, 40954854, 44659174, 44179816, 44659441, 44659057, 42412533, 44660479, 44454667, 44650525, 44655775, 43101477, 44273062, 44212651, 44368558, 43900215, 41869368, 43237053, 41736894, 42852684, 43714260, 42669141, 44669401, 43119345, 44524789, 43399288, 44624509, 44657662, 44500864, 44454667, 44655124, 42326040, 42406557, 44167852, 44654512, 44091058, 40684101, 44050125, 42963663, 43898448, 43751250, 40249173, 43877463, 44654824, 44306668, 44423149, 44654968, 44094846, 44653189, 43707168, 44653099, 42934956, 44427949, 44653870, 43904431, 44652922, 42229302, 44651578, 44652355, 44650822, 43503057, 44654290, 43496545, 41639649, 44653048, 44621305, 44651770, 44651899, 44650756, 43760389, 44647564, 44356621, 44650393, 44648887, 44615737, 43973316, 42101835, 44649169, 44649301, 41822937, 43081050, 44004828, 43089630, 41904621, 42232944, 41692401, 43611636, 40753791, 44647552, 44499331, 44474374, 44647561, 42454287, 44646934, 44044569, 43921308, 44646685, 43521825, 44454052, 42782646, 41146809, 44647753, 44540116, 41992155, 44060898, 44195818, 40692861, 44646910, 44427523, 40817049, 44359456, 44646703, 41642160, 44645551, 44645554, 44644534, 40310076, 44645191, 40486218, 44646613, 44645599, 44644708, 40266216, 43892590, 44645614, 42137334, 44614135, 44646013, 43622784, 44644225, 42756750, 44643487, 44643256, 44532931, 44643916, 44419405, 44643409, 44644690, 43609041, 44642257, 40493781, 43723491, 44643691, 44644081, 43543669, 43863414, 44499451, 44593276, 43924224, 28158084, 38993034, 44214796, 44617999, 44302354, 44640667, 44020380, 42717603, 44640163, 44639926, 44641081, 44420410, 44640700, 41935431, 44119755, 44640976, 39788499, 43076694, 40297599, 43993218, 44638597, 42488463, 41042835, 44639767, 44639395, 44041764, 44638393, 44639674, 41065920, 42100932, 42268101, 41254869, 44637142, 41700438, 44638306, 41452137, 44638450, 41980665, 44511484, 44637955, 44602513, 43772946, 44464162, 44636329, 44635951, 44636464, 44637112, 44636476, 43772736, 44638276, 44139591, 44616904, 44232265, 44330584, 44636392, 38104555, 44290543, 44636539, 43593852, 44612224, 44538511, 44377999, 44468116, 42017049, 44635420, 40944939, 40753074, 42069942, 40299066, 43757898, 42952530, 40157913, 42660699, 44633437, 44635492, 44353771, 44470252, 36060529, 43124349, 44514691, 44629381, 44442634, 44077069, 40328223, 44350756, 44629414, 44434858, 44629165, 44632252, 43798591, 40994625, 44632144, 44115936, 44569444, 41335911, 44210536, 43597929, 44139630, 44631163, 44497813, 44303638, 44310934, 44609560, 42557853, 43121310, 44475040, 44437540, 44142118, 41223081, 43595958, 44629051, 42896964, 44484292, 41626965, 44152026, 43866978, 44157799, 43940082, 44628346, 43710081, 44427778, 40475397, 44135814, 44492680, 44446348, 42727821, 39981198, 44623630, 44178076, 44626732, 43357101, 41863608, 43429308, 41616972, 44625121, 39637092, 43216500, 42357624, 42037500, 44621698, 44519812, 44622859, 43659663, 43324053, 40224666, 42279711, 44620192, 44620066, 44621875, 44082114, 40812738, 44209876, 44621434, 42668508, 44622700, 42299634, 44623477, 44620282, 44623357, 41238912, 44617732, 43702150, 44617996, 42223641, 44618014, 44264734, 44616484, 44617255, 44557507, 44401738, 44127051, 42756816, 44619088, 44619346, 44617048, 44618842, 44619484, 44618464, 42976995, 44614537, 44615953, 44616085, 43398550, 44614684, 44615461, 44615083, 43669815, 44351161, 43895613, 44304454, 44615632, 40487889, 44614114, 44615014, 44164969, 44614507, 44498158, 44126064, 42863484, 44191891, 44612503, 43974043, 40127388, 44612776, 40662441, 44613049, 44613691, 42147909, 44612938, 44613082, 43692507, 42702813, 44612839, 44613997, 42426480, 44612593, 44082546, 43661556, 42018423, 40596489, 41669130, 44611216, 44611882, 44610607, 43999665, 44610616, 44046396, 43950652, 44470591, 44612287, 44612290, 44591944, 44139213, 44608480, 44612071, 44611957, 44612221, 43925118, 41487999, 44553985, 44604946, 44297362, 44608408, 44608666, 44609563, 42939549, 43277853, 44609575, 44610370, 42796356, 41731269, 42194760, 44608201, 44610388, 44609620, 44610778, 44607841, 44411767, 44609791, 44246272, 40780041, 44229133, 44604313, 44601505, 44606626, 44604331, 44606254, 44606002, 44605369, 44605522, 43098195, 44420701, 43057887, 44605162, 40845933, 41662197, 43379704, 42427773, 44607103, 43433605, 42019719, 42903306, 44601493, 44603683, 44592421, 43983654, 44346538, 44094513, 44435263, 44602579, 42878424, 44498656, 44602981, 44601832, 44599912, 44261494, 43751800, 44603770, 43750654, 42900609, 41924355, 42281874, 44406934, 44549533, 44598304, 42991797, 44078649, 44497213, 43415358, 44594239, 44269903, 44597842, 43331283, 44551648, 44125929, 44600299, 40090482, 43410933, 44598013, 44516353, 44502025, 44594323, 43773204, 44595997, 44594464, 44108460, 44595757, 43931187, 44595508, 43061556, 44594230, 40220340, 43424317, 44594368, 44003535, 44594518, 23896432, 41033595, 44595838, 41413257, 44592661, 44512534, 44593699, 21277862, 44593216, 44310214, 44590162, 44007891, 44590804, 44112220, 44593756, 44074467, 44593261, 44590708, 44589685, 44145142, 43541239, 44592253, 42180351, 43753728, 41057664, 44588038, 44588551, 44190883, 44587555, 44062245, 44588590, 44587834, 43276356, 43800393, 44323147, 43873111, 44575831, 40476000, 44588644, 44588005, 44252782, 44588272, 44118906, 43605651, 43586710, 44149785, 44586394, 44586526, 44586037, 41256246, 44585272, 42223041, 44540356, 44117193, 44586697, 44586571, 40983243, 44462926, 44576470, 43876837, 44586598, 42947187, 44299258, 42587397, 43977861, 44583685, 44560522, 44583058, 40168851, 44585236, 44582932, 43231006, 41449515, 40431147, 41200944, 43121331, 42732240, 44020434, 43412050, 44541010, 44496988, 44581234, 42836346, 43899010, 43146756, 44568598, 41365272, 44561824, 40559139, 44580646, 44117928, 44474410, 44580148, 44581051, 43734076, 13479756, 19745485, 43819087, 40643154, 42675033, 44420215, 44582266, 42794493, 41309964, 43868179, 43844376, 43081113, 44579740, 44018475, 43421361, 44577469, 44578750, 44542405, 44532304, 44579287, 43371108, 44577127, 44579818, 44577898, 41359338, 43400685, 41090415, 44579326, 43757323, 44576398, 44214031, 43907475, 43527957, 44077605, 40755879, 44576812, 44414509, 44574895, 39626034, 44575813, 41877843, 44252758, 44576857, 40628190, 44263777, 44509540, 39779301, 44540410, 41967750, 44518540, 42967440, 44149524, 44573464, 44574235, 44573086, 42323493, 42853290, 44571961, 42535365, 44561359, 40213200, 44031960, 40906329, 44533468, 40819941, 35098471, 44570989, 42927615, 44568448, 44224643, 44083605, 44569501, 44570026, 43523247, 42366384, 44568250, 44568508, 44568391, 44569678, 44570191, 44569297, 44147929, 43487712, 44566753, 43781347, 44570470, 21812077, 44569468, 44566408, 41732493, 44565262, 44568079, 42499233, 44568229, 44567719, 44213419, 44278702, 44568241, 44567992, 39720120, 43637308, 44142153, 44307916, 44567635, 41063004, 43677411, 43626345, 44565751, 40524549, 44563723, 44061711, 44563729, 44563861, 41036955, 44563489, 44563105, 42588972, 43416243, 44563774, 39755454, 44564932, 44563654, 44247892, 44033247, 42992100, 39733224, 34373113, 44548348, 44561152, 44561026, 44560132, 40301976, 44395933, 42494883, 44561833, 44521003, 44562874, 44560324, 44563279, 44544847, 44562913, 44560486, 44561767, 44560744, 42909678, 43776883, 44560891, 43985277, 44559367, 44558233, 44557084, 44558500, 41032101, 44559793, 43344435, 44557498, 44558401, 44557381, 41422923, 42513228, 44554957, 44225239, 41131737, 44557279, 42153321, 44021617, 43316341, 44559094, 44110980, 44555530, 41639949, 43991437, 40875039, 44554402, 44555944, 44555434, 44552629, 44553283, 40847319, 44116824, 44537305, 44498653, 44145504, 44223073, 44555494, 42895974, 44368753, 44474746, 44551429, 44550922, 40043928, 40677408, 44549794, 44551978, 40991286, 44551606, 44549560, 43666230, 44549692, 44549437, 43278144, 42606657, 42063552, 43548993, 44551120, 44506714, 44506588, 44170717, 44548108, 44547484, 40197282, 44546614, 44126649, 41201082, 43955008, 44547649, 41974083, 44405326, 44548180, 44547553, 42412263, 44548969, 44546668, 44547058, 44548987, 44546173, 42439806, 43166847, 44545153, 43887489, 44425477, 44543752, 43306248, 44545423, 44544784, 44545300, 41648538, 44545456, 41724729, 43542586, 44544322, 44545108, 44545621, 43866462, 44545504, 44545897, 44545909, 44544892, 43658886, 44544016, 43298583, 44281778, 44449591, 44542903, 43349059, 44542276, 44544070, 44542663, 44543443, 44543446, 44474200, 41990619, 44542975, 44542819, 44543605, 44542198, 44544253, 44192767, 44541697, 44468611, 43647754, 44539789, 41667726, 44429206, 44522401, 44540197, 40132011, 40157739, 44539315, 44540725, 41108028, 44400703, 40721991, 41876430, 40722024, 36315499, 44532592, 41576568, 43951362, 44537233, 44538775, 43541886, 44532772, 43883175, 44534440, 42884403, 44537014, 43100856, 44539198, 44537794, 42968658, 44536531, 44232922, 40222689, 44536042, 44537458, 43936891, 43639294, 41360514, 44072838, 42547590, 39753609, 44531347, 44535583, 44535076, 44529580, 40970418, 43542219, 43974219, 44130379, 43952728, 44535256, 41596377, 44531683, 42872937, 44530933, 44534776, 41074557, 44222851, 41116950, 40949655, 43725208, 44526880, 41008419, 44529337, 43607994, 44528830, 44358463, 44202175, 44528335, 43422417, 44438098, 44529109, 40425690, 40358883, 43178725, 42708459, 44529652, 44524561, 44527507, 44006685, 43301793, 43512495, 39689784, 44053957, 42860616, 44525641, 44268364, 43223251, 44524888, 44524897, 44524642, 40597089, 44527612, 44525551, 44525431, 44502652, 44231806, 44522245, 44521354, 40023051, 44130193, 41825448, 44523433, 44522803, 44521921, 42324930, 44520388, 44522053, 43326798, 44523349, 43850838, 44520022, 44520415, 42555360, 40653171, 43752948, 44375419, 44519680, 44247808, 41963523, 42500484, 40895373, 42277665, 44517031, 43840173, 44517826, 44519551, 43082706, 44517844, 44471641, 44249050, 44519521, 42840294, 44440300, 43820526, 44519290, 43623423, 44514688, 44041857, 40430739, 44516638, 44515123, 39922869, 43564989, 44516158, 44515261, 44513860, 44515909, 44482501, 44516302, 44516176, 42696027, 44515684, 44516590, 43058286, 44514031, 42356721, 44512003, 43242378, 44513548, 44511901, 40774308, 44178982, 44511913, 44512042, 44501932, 44512579, 40265163, 44510158, 44511448, 40173150, 44213860, 44509798, 44512759, 43500666, 44511997, 44513278, 44510467, 44511118, 41718672, 44508697, 44511133, 44509597, 41239584, 44509234, 42492219, 16911174, 40166988, 44510158, 44509903, 44510422, 44509402, 44509405, 44509408, 41541474, 44508412, 44508541, 43414279, 41985543, 42716940, 43808269, 40285716, 44506798, 44125491, 43742388, 41406783, 44408770, 44406856, 44495182, 44009934, 44508241, 44494162, 42845406, 43700832, 44491879, 43045479, 44026990, 44506762, 44452108, 40620951, 44504740, 44506414, 44505391, 44502715, 44503744, 43335631, 43203921, 40546131, 44503126, 44504791, 44506072, 39338073, 39654753, 43821291, 44505196, 43021167, 44211454, 44502400, 44501902, 39270171, 44501029, 43288104, 43819690, 44500531, 44501695, 44502082, 41060805, 43593165, 44502607, 44502358, 44502235, 44499682, 39466212, 40957926, 44311402, 44501239, 44502649, 44496517, 44497927, 44498191, 42993168, 44496019, 44306590, 44497822, 41092647, 44220205, 44497072, 43899312, 44286642, 44496583, 44496328, 44497876, 44403673, 44474857, 44497009, 44497396, 44497783, 44338699, 41336214, 44493463, 44495641, 44494618, 44492446, 43848478, 44443936, 43331617, 44493097, 43479210, 44494903, 44494669, 44429020, 42907998, 38910432, 44494822, 44494063, 44492656, 44494579, 44223747, 44457094, 44492053, 41847717, 44489002, 43190955, 44298796, 40834614, 44486587, 44490556, 44488900, 44489935, 44486866, 43849818, 44488291, 44029416, 43826547, 44365429, 44371957, 41382015, 16876677, 44486923, 44487052, 44181646, 43893786, 44486683, 39565092, 41706168, 42144315, 42848958, 44145858, 44099142, 44480842, 42317517, 43422045, 44023798, 41118711, 44485240, 43364985, 44487931, 44483077, 44482186, 43059594, 44399380, 44482075, 42756513, 44482087, 17794088, 43855402, 44482609, 41631813, 44117320, 43610442, 44084046, 43204819, 44395348, 44478676, 44415454, 41417448, 41611518, 44478850, 41589507, 44315149, 44480143, 43530768, 42370590, 41351841, 44478373, 44478760, 44380720, 43781061, 44478406, 44480458, 43340236, 44478286, 42093012, 42839766, 44479837, 44478709, 44479990, 44191747, 44476039, 44477194, 41981709, 44477851, 44478115, 44475811, 44475688, 44476987, 43932348, 44478268, 44478142, 41964228, 44477389, 44364241, 44478040, 44475739, 44316514, 44129386, 44473846, 42266112, 39730050, 44475142, 44070678, 44473240, 44006680, 44475550, 44311459, 44474689, 44475076, 44152396, 44474446, 44473936, 44474194, 44472661, 44474842, 44475226, 44475622, 40112112, 44473468, 44469766, 44471176, 43826703, 44035219, 44471965, 40343199, 44143011, 44469799, 43983276, 44470450, 41745204, 41392449, 44472643, 42779589, 41297100, 44471629, 44471773, 40450149, 43337968, 42534513, 44469382, 44414218, 43244685, 42543633, 44467474, 44469403, 44467999, 40099743, 39784740, 43017129, 40160169, 44468395, 44469049, 44468425, 44296906, 44468695, 43908450, 41519598, 44449534, 44468863, 44465155, 40778628, 44465167, 44465578, 44466994, 44465332, 44467126, 44249014, 44467012, 44464708, 43905865, 44465875, 44466265, 40871646, 40467435, 42958833, 44465014, 44464375, 41440122, 44465275, 44195347, 42023316, 42566805, 44460823, 42566811, 44377000, 44029359, 44463289, 44068923, 44462398, 44447422, 44462914, 41915844, 42362952, 44213833, 44318299, 40882788, 44463469, 44462842, 40308990]\n"
          ]
        },
        {
          "output_type": "execute_result",
          "data": {
            "text/plain": [
              "\"\\nThis code is just use to put every ID in the same list\\nYeah I know it's quite a long code for what it do\\n\""
            ],
            "application/vnd.google.colaboratory.intrinsic+json": {
              "type": "string"
            }
          },
          "metadata": {},
          "execution_count": 12
        }
      ]
    },
    {
      "cell_type": "markdown",
      "source": [
        "**Date updated**"
      ],
      "metadata": {
        "id": "y0BOiQBUG_hu"
      }
    },
    {
      "cell_type": "markdown",
      "source": [
        "Ok so the main reason I'm doing this is to check how the add of work evolve throught time so I'm adding the datetime to it.\n",
        "The function is actually made by myself so if it doesn't work you know why."
      ],
      "metadata": {
        "id": "vAZiLGNGHBrY"
      }
    },
    {
      "cell_type": "code",
      "source": [
        "def datetime(directory_url):\n",
        "  dir_soup = download_and_soupify(directory_url)\n",
        "  for x in dir_soup.findAll(\"p\",{\"class\":\"datetime\"}):\n",
        "    text=x.get_text()\n",
        "    date_work.append(str(text))\n",
        "\n",
        "    \"\"\"\n",
        "    I know you gonna ask me 'But Doryane, date_work isn't define that doesn't make sens' and you right, but I define it after so no worry\n",
        "    Jeez my commentary are useless sorry for that\n",
        "    I'm just really bored at work and taping a lot make people think I'm working hard (I'm not)\n",
        "    \"\"\""
      ],
      "metadata": {
        "id": "01rJHeqyHRs3"
      },
      "execution_count": 13,
      "outputs": []
    },
    {
      "cell_type": "code",
      "source": [
        "date_work = []\n",
        "for i in range(Beginning_Page,Number_page):\n",
        "  date_work.append(datetime(directory_urls[i]))\n",
        "\n",
        "print(date_work)\n",
        "len(date_work)"
      ],
      "metadata": {
        "colab": {
          "base_uri": "https://localhost:8080/"
        },
        "id": "DdU4VRDYIAwm",
        "outputId": "1fa5d921-341c-4683-fb2f-e1848502029c"
      },
      "execution_count": 14,
      "outputs": [
        {
          "output_type": "stream",
          "name": "stdout",
          "text": [
            "['02 Feb 2023', '02 Feb 2023', '02 Feb 2023', '02 Feb 2023', '02 Feb 2023', '02 Feb 2023', '02 Feb 2023', '02 Feb 2023', '02 Feb 2023', '02 Feb 2023', '02 Feb 2023', '02 Feb 2023', '02 Feb 2023', '02 Feb 2023', '02 Feb 2023', '02 Feb 2023', '02 Feb 2023', '02 Feb 2023', '02 Feb 2023', '02 Feb 2023', None, '02 Feb 2023', '02 Feb 2023', '02 Feb 2023', '02 Feb 2023', '02 Feb 2023', '02 Feb 2023', '02 Feb 2023', '02 Feb 2023', '02 Feb 2023', '02 Feb 2023', '02 Feb 2023', '02 Feb 2023', '02 Feb 2023', '02 Feb 2023', '02 Feb 2023', '02 Feb 2023', '02 Feb 2023', '02 Feb 2023', '02 Feb 2023', '02 Feb 2023', None, '02 Feb 2023', '02 Feb 2023', '02 Feb 2023', '02 Feb 2023', '02 Feb 2023', '02 Feb 2023', '02 Feb 2023', '02 Feb 2023', '01 Feb 2023', '02 Feb 2023', '02 Feb 2023', '02 Feb 2023', '02 Feb 2023', '02 Feb 2023', '02 Feb 2023', '02 Feb 2023', '02 Feb 2023', '02 Feb 2023', '02 Feb 2023', '02 Feb 2023', None, '02 Feb 2023', '02 Feb 2023', '02 Feb 2023', '02 Feb 2023', '02 Feb 2023', '02 Feb 2023', '01 Feb 2023', '02 Feb 2023', '01 Feb 2023', '01 Feb 2023', '02 Feb 2023', '01 Feb 2023', '02 Feb 2023', '02 Feb 2023', '02 Feb 2023', '02 Feb 2023', '02 Feb 2023', '02 Feb 2023', '01 Feb 2023', '01 Feb 2023', None, '02 Feb 2023', '01 Feb 2023', '02 Feb 2023', '02 Feb 2023', '02 Feb 2023', '02 Feb 2023', '02 Feb 2023', '02 Feb 2023', '02 Feb 2023', '02 Feb 2023', '02 Feb 2023', '01 Feb 2023', '02 Feb 2023', '01 Feb 2023', '02 Feb 2023', '02 Feb 2023', '01 Feb 2023', '02 Feb 2023', '02 Feb 2023', '02 Feb 2023', None, '02 Feb 2023', '02 Feb 2023', '02 Feb 2023', '01 Feb 2023', '02 Feb 2023', '02 Feb 2023', '02 Feb 2023', '02 Feb 2023', '02 Feb 2023', '01 Feb 2023', '02 Feb 2023', '02 Feb 2023', '01 Feb 2023', '02 Feb 2023', '01 Feb 2023', '02 Feb 2023', '02 Feb 2023', '02 Feb 2023', '01 Feb 2023', '01 Feb 2023', None, '02 Feb 2023', '02 Feb 2023', '02 Feb 2023', '01 Feb 2023', '01 Feb 2023', '01 Feb 2023', '01 Feb 2023', '01 Feb 2023', '01 Feb 2023', '01 Feb 2023', '01 Feb 2023', '01 Feb 2023', '01 Feb 2023', '02 Feb 2023', '01 Feb 2023', '01 Feb 2023', '01 Feb 2023', '02 Feb 2023', '01 Feb 2023', '01 Feb 2023', None, '01 Feb 2023', '01 Feb 2023', '01 Feb 2023', '01 Feb 2023', '01 Feb 2023', '01 Feb 2023', '01 Feb 2023', '01 Feb 2023', '01 Feb 2023', '01 Feb 2023', '01 Feb 2023', '01 Feb 2023', '01 Feb 2023', '01 Feb 2023', '01 Feb 2023', '01 Feb 2023', '01 Feb 2023', '01 Feb 2023', '01 Feb 2023', '01 Feb 2023', None, '01 Feb 2023', '01 Feb 2023', '01 Feb 2023', '01 Feb 2023', '01 Feb 2023', '01 Feb 2023', '01 Feb 2023', '01 Feb 2023', '01 Feb 2023', '01 Feb 2023', '01 Feb 2023', '01 Feb 2023', '01 Feb 2023', '01 Feb 2023', '01 Feb 2023', '01 Feb 2023', '01 Feb 2023', '01 Feb 2023', '01 Feb 2023', '01 Feb 2023', None, '01 Feb 2023', '01 Feb 2023', '01 Feb 2023', '01 Feb 2023', '01 Feb 2023', '01 Feb 2023', '01 Feb 2023', '01 Feb 2023', '01 Feb 2023', '01 Feb 2023', '01 Feb 2023', '01 Feb 2023', '01 Feb 2023', '01 Feb 2023', '01 Feb 2023', '01 Feb 2023', '01 Feb 2023', '01 Feb 2023', '01 Feb 2023', '01 Feb 2023', None, '01 Feb 2023', '01 Feb 2023', '01 Feb 2023', '01 Feb 2023', '01 Feb 2023', '01 Feb 2023', '01 Feb 2023', '01 Feb 2023', '01 Feb 2023', '01 Feb 2023', '01 Feb 2023', '01 Feb 2023', '01 Feb 2023', '01 Feb 2023', '01 Feb 2023', '01 Feb 2023', '01 Feb 2023', '01 Feb 2023', '02 Feb 2023', '01 Feb 2023', None, '01 Feb 2023', '01 Feb 2023', '01 Feb 2023', '01 Feb 2023', '01 Feb 2023', '01 Feb 2023', '01 Feb 2023', '01 Feb 2023', '01 Feb 2023', '01 Feb 2023', '01 Feb 2023', '01 Feb 2023', '01 Feb 2023', '01 Feb 2023', '01 Feb 2023', '01 Feb 2023', '01 Feb 2023', '01 Feb 2023', '01 Feb 2023', '01 Feb 2023', None, '01 Feb 2023', '01 Feb 2023', '01 Feb 2023', '01 Feb 2023', '01 Feb 2023', '01 Feb 2023', '01 Feb 2023', '01 Feb 2023', '01 Feb 2023', '01 Feb 2023', '01 Feb 2023', '01 Feb 2023', '01 Feb 2023', '01 Feb 2023', '01 Feb 2023', '01 Feb 2023', '01 Feb 2023', '01 Feb 2023', '01 Feb 2023', '01 Feb 2023', None, '01 Feb 2023', '01 Feb 2023', '01 Feb 2023', '01 Feb 2023', '01 Feb 2023', '01 Feb 2023', '01 Feb 2023', '01 Feb 2023', '01 Feb 2023', '01 Feb 2023', '01 Feb 2023', '01 Feb 2023', '01 Feb 2023', '01 Feb 2023', '01 Feb 2023', '01 Feb 2023', '01 Feb 2023', '01 Feb 2023', '01 Feb 2023', '01 Feb 2023', None, '31 Jan 2023', '01 Feb 2023', '01 Feb 2023', '01 Feb 2023', '01 Feb 2023', '01 Feb 2023', '01 Feb 2023', '01 Feb 2023', '01 Feb 2023', '01 Feb 2023', '01 Feb 2023', '31 Jan 2023', '31 Jan 2023', '01 Feb 2023', '31 Jan 2023', '31 Jan 2023', '31 Jan 2023', '01 Feb 2023', '31 Jan 2023', '01 Feb 2023', None, '01 Feb 2023', '31 Jan 2023', '01 Feb 2023', '31 Jan 2023', '31 Jan 2023', '01 Feb 2023', '01 Feb 2023', '01 Feb 2023', '31 Jan 2023', '01 Feb 2023', '01 Feb 2023', '31 Jan 2023', '01 Feb 2023', '01 Feb 2023', '31 Jan 2023', '31 Jan 2023', '01 Feb 2023', '31 Jan 2023', '31 Jan 2023', '31 Jan 2023', None, '01 Feb 2023', '01 Feb 2023', '01 Feb 2023', '01 Feb 2023', '01 Feb 2023', '31 Jan 2023', '01 Feb 2023', '01 Feb 2023', '01 Feb 2023', '01 Feb 2023', '31 Jan 2023', '31 Jan 2023', '31 Jan 2023', '31 Jan 2023', '31 Jan 2023', '31 Jan 2023', '31 Jan 2023', '31 Jan 2023', '31 Jan 2023', '31 Jan 2023', None, '31 Jan 2023', '31 Jan 2023', '31 Jan 2023', '31 Jan 2023', '31 Jan 2023', '31 Jan 2023', '31 Jan 2023', '31 Jan 2023', '31 Jan 2023', '31 Jan 2023', '31 Jan 2023', '31 Jan 2023', '31 Jan 2023', '31 Jan 2023', '31 Jan 2023', '31 Jan 2023', '31 Jan 2023', '31 Jan 2023', '31 Jan 2023', '31 Jan 2023', None, '31 Jan 2023', '31 Jan 2023', '31 Jan 2023', '31 Jan 2023', '31 Jan 2023', '31 Jan 2023', '31 Jan 2023', '31 Jan 2023', '31 Jan 2023', '31 Jan 2023', '31 Jan 2023', '31 Jan 2023', '31 Jan 2023', '31 Jan 2023', '31 Jan 2023', '31 Jan 2023', '31 Jan 2023', '31 Jan 2023', '31 Jan 2023', '31 Jan 2023', None, '31 Jan 2023', '31 Jan 2023', '31 Jan 2023', '31 Jan 2023', '31 Jan 2023', '31 Jan 2023', '31 Jan 2023', '31 Jan 2023', '31 Jan 2023', '31 Jan 2023', '31 Jan 2023', '31 Jan 2023', '31 Jan 2023', '31 Jan 2023', '31 Jan 2023', '31 Jan 2023', '01 Feb 2023', '31 Jan 2023', '31 Jan 2023', '31 Jan 2023', None, '31 Jan 2023', '31 Jan 2023', '31 Jan 2023', '31 Jan 2023', '31 Jan 2023', '31 Jan 2023', '31 Jan 2023', '31 Jan 2023', '31 Jan 2023', '31 Jan 2023', '31 Jan 2023', '31 Jan 2023', '31 Jan 2023', '31 Jan 2023', '31 Jan 2023', '31 Jan 2023', '31 Jan 2023', '31 Jan 2023', '31 Jan 2023', '31 Jan 2023', None, '31 Jan 2023', '31 Jan 2023', '31 Jan 2023', '31 Jan 2023', '31 Jan 2023', '31 Jan 2023', '31 Jan 2023', '31 Jan 2023', '31 Jan 2023', '31 Jan 2023', '31 Jan 2023', '31 Jan 2023', '31 Jan 2023', '31 Jan 2023', '31 Jan 2023', '31 Jan 2023', '01 Feb 2023', '31 Jan 2023', '31 Jan 2023', '31 Jan 2023', None, '31 Jan 2023', '31 Jan 2023', '31 Jan 2023', '31 Jan 2023', '31 Jan 2023', '31 Jan 2023', '31 Jan 2023', '31 Jan 2023', '31 Jan 2023', '31 Jan 2023', '31 Jan 2023', '31 Jan 2023', '31 Jan 2023', '31 Jan 2023', '31 Jan 2023', '31 Jan 2023', '31 Jan 2023', '31 Jan 2023', '31 Jan 2023', '31 Jan 2023', None, '31 Jan 2023', '31 Jan 2023', '31 Jan 2023', '31 Jan 2023', '31 Jan 2023', '31 Jan 2023', '31 Jan 2023', '31 Jan 2023', '31 Jan 2023', '31 Jan 2023', '31 Jan 2023', '31 Jan 2023', '31 Jan 2023', '31 Jan 2023', '31 Jan 2023', '31 Jan 2023', '31 Jan 2023', '31 Jan 2023', '31 Jan 2023', '31 Jan 2023', None, '31 Jan 2023', '31 Jan 2023', '31 Jan 2023', '31 Jan 2023', '31 Jan 2023', '31 Jan 2023', '31 Jan 2023', '31 Jan 2023', '31 Jan 2023', '31 Jan 2023', '31 Jan 2023', '30 Jan 2023', '31 Jan 2023', '31 Jan 2023', '31 Jan 2023', '31 Jan 2023', '31 Jan 2023', '31 Jan 2023', '31 Jan 2023', '31 Jan 2023', None, '31 Jan 2023', '31 Jan 2023', '30 Jan 2023', '31 Jan 2023', '31 Jan 2023', '31 Jan 2023', '31 Jan 2023', '31 Jan 2023', '30 Jan 2023', '30 Jan 2023', '30 Jan 2023', '31 Jan 2023', '31 Jan 2023', '30 Jan 2023', '31 Jan 2023', '31 Jan 2023', '31 Jan 2023', '30 Jan 2023', '30 Jan 2023', '31 Jan 2023', None, '30 Jan 2023', '30 Jan 2023', '31 Jan 2023', '30 Jan 2023', '31 Jan 2023', '31 Jan 2023', '31 Jan 2023', '31 Jan 2023', '31 Jan 2023', '31 Jan 2023', '31 Jan 2023', '30 Jan 2023', '31 Jan 2023', '30 Jan 2023', '31 Jan 2023', '31 Jan 2023', '31 Jan 2023', '31 Jan 2023', '31 Jan 2023', '30 Jan 2023', None, '31 Jan 2023', '31 Jan 2023', '31 Jan 2023', '31 Jan 2023', '30 Jan 2023', '31 Jan 2023', '31 Jan 2023', '31 Jan 2023', '31 Jan 2023', '30 Jan 2023', '30 Jan 2023', '31 Jan 2023', '30 Jan 2023', '30 Jan 2023', '31 Jan 2023', '30 Jan 2023', '31 Jan 2023', '30 Jan 2023', '31 Jan 2023', '31 Jan 2023', None, '31 Jan 2023', '30 Jan 2023', '31 Jan 2023', '31 Jan 2023', '30 Jan 2023', '30 Jan 2023', '30 Jan 2023', '30 Jan 2023', '30 Jan 2023', '30 Jan 2023', '30 Jan 2023', '30 Jan 2023', '30 Jan 2023', '30 Jan 2023', '30 Jan 2023', '30 Jan 2023', '30 Jan 2023', '30 Jan 2023', '30 Jan 2023', '30 Jan 2023', None, '30 Jan 2023', '30 Jan 2023', '30 Jan 2023', '30 Jan 2023', '30 Jan 2023', '30 Jan 2023', '30 Jan 2023', '30 Jan 2023', '30 Jan 2023', '30 Jan 2023', '30 Jan 2023', '30 Jan 2023', '30 Jan 2023', '30 Jan 2023', '30 Jan 2023', '30 Jan 2023', '30 Jan 2023', '30 Jan 2023', '30 Jan 2023', '30 Jan 2023', None, '30 Jan 2023', '30 Jan 2023', '31 Jan 2023', '30 Jan 2023', '30 Jan 2023', '30 Jan 2023', '30 Jan 2023', '30 Jan 2023', '30 Jan 2023', '30 Jan 2023', '30 Jan 2023', '30 Jan 2023', '30 Jan 2023', '30 Jan 2023', '30 Jan 2023', '30 Jan 2023', '30 Jan 2023', '30 Jan 2023', '30 Jan 2023', '30 Jan 2023', None, '30 Jan 2023', '30 Jan 2023', '30 Jan 2023', '30 Jan 2023', '30 Jan 2023', '30 Jan 2023', '30 Jan 2023', '30 Jan 2023', '30 Jan 2023', '30 Jan 2023', '30 Jan 2023', '30 Jan 2023', '30 Jan 2023', '30 Jan 2023', '30 Jan 2023', '30 Jan 2023', '30 Jan 2023', '30 Jan 2023', '30 Jan 2023', '30 Jan 2023', None, '30 Jan 2023', '30 Jan 2023', '30 Jan 2023', '30 Jan 2023', '30 Jan 2023', '30 Jan 2023', '31 Jan 2023', '30 Jan 2023', '30 Jan 2023', '30 Jan 2023', '30 Jan 2023', '30 Jan 2023', '30 Jan 2023', '30 Jan 2023', '30 Jan 2023', '30 Jan 2023', '30 Jan 2023', '30 Jan 2023', '30 Jan 2023', '30 Jan 2023', None, '30 Jan 2023', '30 Jan 2023', '30 Jan 2023', '30 Jan 2023', '30 Jan 2023', '30 Jan 2023', '30 Jan 2023', '30 Jan 2023', '30 Jan 2023', '30 Jan 2023', '30 Jan 2023', '30 Jan 2023', '30 Jan 2023', '30 Jan 2023', '30 Jan 2023', '30 Jan 2023', '30 Jan 2023', '30 Jan 2023', '30 Jan 2023', '30 Jan 2023', None, '30 Jan 2023', '30 Jan 2023', '30 Jan 2023', '30 Jan 2023', '30 Jan 2023', '30 Jan 2023', '30 Jan 2023', '30 Jan 2023', '30 Jan 2023', '30 Jan 2023', '30 Jan 2023', '30 Jan 2023', '30 Jan 2023', '30 Jan 2023', '31 Jan 2023', '30 Jan 2023', '30 Jan 2023', '30 Jan 2023', '30 Jan 2023', '30 Jan 2023', None, '30 Jan 2023', '30 Jan 2023', '30 Jan 2023', '30 Jan 2023', '30 Jan 2023', '30 Jan 2023', '30 Jan 2023', '30 Jan 2023', '30 Jan 2023', '30 Jan 2023', '30 Jan 2023', '30 Jan 2023', '30 Jan 2023', '30 Jan 2023', '30 Jan 2023', '30 Jan 2023', '30 Jan 2023', '30 Jan 2023', '30 Jan 2023', '30 Jan 2023', None, '30 Jan 2023', '30 Jan 2023', '30 Jan 2023', '30 Jan 2023', '30 Jan 2023', '30 Jan 2023', '30 Jan 2023', '30 Jan 2023', '30 Jan 2023', '30 Jan 2023', '29 Jan 2023', '29 Jan 2023', '30 Jan 2023', '30 Jan 2023', '29 Jan 2023', '30 Jan 2023', '30 Jan 2023', '30 Jan 2023', '30 Jan 2023', '30 Jan 2023', None, '30 Jan 2023', '30 Jan 2023', '30 Jan 2023', '29 Jan 2023', '30 Jan 2023', '29 Jan 2023', '29 Jan 2023', '29 Jan 2023', '30 Jan 2023', '29 Jan 2023', '29 Jan 2023', '30 Jan 2023', '30 Jan 2023', '30 Jan 2023', '30 Jan 2023', '30 Jan 2023', '29 Jan 2023', '29 Jan 2023', '30 Jan 2023', '30 Jan 2023', None, '30 Jan 2023', '30 Jan 2023', '29 Jan 2023', '30 Jan 2023', '30 Jan 2023', '30 Jan 2023', '30 Jan 2023', '30 Jan 2023', '30 Jan 2023', '29 Jan 2023', '30 Jan 2023', '29 Jan 2023', '30 Jan 2023', '30 Jan 2023', '29 Jan 2023', '30 Jan 2023', '29 Jan 2023', '30 Jan 2023', '29 Jan 2023', '29 Jan 2023', None, '29 Jan 2023', '29 Jan 2023', '30 Jan 2023', '30 Jan 2023', '30 Jan 2023', '29 Jan 2023', '29 Jan 2023', '30 Jan 2023', '30 Jan 2023', '29 Jan 2023', '30 Jan 2023', '29 Jan 2023', '29 Jan 2023', '30 Jan 2023', '29 Jan 2023', '29 Jan 2023', '29 Jan 2023', '29 Jan 2023', '29 Jan 2023', '29 Jan 2023', None, '29 Jan 2023', '29 Jan 2023', '29 Jan 2023', '29 Jan 2023', '29 Jan 2023', '29 Jan 2023', '29 Jan 2023', '29 Jan 2023', '29 Jan 2023', '29 Jan 2023', '29 Jan 2023', '29 Jan 2023', '29 Jan 2023', '29 Jan 2023', '29 Jan 2023', '29 Jan 2023', '29 Jan 2023', '29 Jan 2023', '29 Jan 2023', '29 Jan 2023', None, '29 Jan 2023', '29 Jan 2023', '29 Jan 2023', '29 Jan 2023', '29 Jan 2023', '29 Jan 2023', '29 Jan 2023', '29 Jan 2023', '29 Jan 2023', '29 Jan 2023', '29 Jan 2023', '29 Jan 2023', '29 Jan 2023', '29 Jan 2023', '29 Jan 2023', '29 Jan 2023', '29 Jan 2023', '30 Jan 2023', '29 Jan 2023', '29 Jan 2023', None, '29 Jan 2023', '29 Jan 2023', '29 Jan 2023', '29 Jan 2023', '29 Jan 2023', '29 Jan 2023', '29 Jan 2023', '29 Jan 2023', '29 Jan 2023', '29 Jan 2023', '29 Jan 2023', '29 Jan 2023', '29 Jan 2023', '29 Jan 2023', '29 Jan 2023', '29 Jan 2023', '29 Jan 2023', '29 Jan 2023', '29 Jan 2023', '29 Jan 2023', None, '29 Jan 2023', '29 Jan 2023', '29 Jan 2023', '29 Jan 2023', '29 Jan 2023', '29 Jan 2023', '30 Jan 2023', '29 Jan 2023', '30 Jan 2023', '29 Jan 2023', '29 Jan 2023', '29 Jan 2023', '29 Jan 2023', '29 Jan 2023', '29 Jan 2023', '29 Jan 2023', '29 Jan 2023', '29 Jan 2023', '29 Jan 2023', '29 Jan 2023', None, '29 Jan 2023', '29 Jan 2023', '29 Jan 2023', '29 Jan 2023', '29 Jan 2023', '29 Jan 2023', '29 Jan 2023', '29 Jan 2023', '29 Jan 2023', '29 Jan 2023', '29 Jan 2023', '29 Jan 2023', '29 Jan 2023', '29 Jan 2023', '29 Jan 2023', '29 Jan 2023', '29 Jan 2023', '29 Jan 2023', '29 Jan 2023', '29 Jan 2023', None, '29 Jan 2023', '29 Jan 2023', '29 Jan 2023', '29 Jan 2023', '29 Jan 2023', '29 Jan 2023', '29 Jan 2023', '29 Jan 2023', '29 Jan 2023', '29 Jan 2023', '29 Jan 2023', '29 Jan 2023', '29 Jan 2023', '29 Jan 2023', '29 Jan 2023', '29 Jan 2023', '29 Jan 2023', '29 Jan 2023', '29 Jan 2023', '29 Jan 2023', None, '29 Jan 2023', '29 Jan 2023', '29 Jan 2023', '29 Jan 2023', '29 Jan 2023', '29 Jan 2023', '29 Jan 2023', '29 Jan 2023', '29 Jan 2023', '29 Jan 2023', '29 Jan 2023', '29 Jan 2023', '29 Jan 2023', '29 Jan 2023', '28 Jan 2023', '29 Jan 2023', '29 Jan 2023', '29 Jan 2023', '29 Jan 2023', '29 Jan 2023', None, '29 Jan 2023', '29 Jan 2023', '29 Jan 2023', '28 Jan 2023', '29 Jan 2023', '29 Jan 2023', '29 Jan 2023', '29 Jan 2023', '29 Jan 2023', '29 Jan 2023', '29 Jan 2023', '29 Jan 2023', '29 Jan 2023', '29 Jan 2023', '28 Jan 2023', '29 Jan 2023', '29 Jan 2023', '29 Jan 2023', '28 Jan 2023', '28 Jan 2023', None, '29 Jan 2023', '29 Jan 2023', '29 Jan 2023', '29 Jan 2023', '29 Jan 2023', '28 Jan 2023', '29 Jan 2023', '29 Jan 2023', '29 Jan 2023', '29 Jan 2023', '29 Jan 2023', '29 Jan 2023', '28 Jan 2023', '29 Jan 2023', '29 Jan 2023', '29 Jan 2023', '29 Jan 2023', '28 Jan 2023', '28 Jan 2023', '29 Jan 2023', None, '29 Jan 2023', '29 Jan 2023', '29 Jan 2023', '29 Jan 2023', '28 Jan 2023', '29 Jan 2023', '29 Jan 2023', '29 Jan 2023', '29 Jan 2023', '29 Jan 2023', '29 Jan 2023', '29 Jan 2023', '29 Jan 2023', '29 Jan 2023', '28 Jan 2023', '28 Jan 2023', '28 Jan 2023', '29 Jan 2023', '28 Jan 2023', '29 Jan 2023', None, '29 Jan 2023', '29 Jan 2023', '29 Jan 2023', '29 Jan 2023', '29 Jan 2023', '29 Jan 2023', '29 Jan 2023', '29 Jan 2023', '29 Jan 2023', '28 Jan 2023', '28 Jan 2023', '28 Jan 2023', '28 Jan 2023', '28 Jan 2023', '28 Jan 2023', '28 Jan 2023', '28 Jan 2023', '28 Jan 2023', '28 Jan 2023', '28 Jan 2023', None, '28 Jan 2023', '28 Jan 2023', '28 Jan 2023', '28 Jan 2023', '28 Jan 2023', '29 Jan 2023', '28 Jan 2023', '28 Jan 2023', '28 Jan 2023', '28 Jan 2023', '28 Jan 2023', '28 Jan 2023', '28 Jan 2023', '28 Jan 2023', '28 Jan 2023', '28 Jan 2023', '28 Jan 2023', '28 Jan 2023', '28 Jan 2023', '28 Jan 2023', None, '28 Jan 2023', '28 Jan 2023', '28 Jan 2023', '28 Jan 2023', '28 Jan 2023', '28 Jan 2023', '28 Jan 2023', '28 Jan 2023', '28 Jan 2023', '28 Jan 2023', '28 Jan 2023', '28 Jan 2023', '28 Jan 2023', '28 Jan 2023', '28 Jan 2023', '28 Jan 2023', '28 Jan 2023', '29 Jan 2023', '28 Jan 2023', '28 Jan 2023', None, '29 Jan 2023', '28 Jan 2023', '28 Jan 2023', '28 Jan 2023', '28 Jan 2023', '28 Jan 2023', '28 Jan 2023', '28 Jan 2023', '28 Jan 2023', '28 Jan 2023', '28 Jan 2023', '28 Jan 2023', '28 Jan 2023', '28 Jan 2023', '28 Jan 2023', '28 Jan 2023', '28 Jan 2023', '28 Jan 2023', '28 Jan 2023', '28 Jan 2023', None, '28 Jan 2023', '28 Jan 2023', '28 Jan 2023', '28 Jan 2023', '28 Jan 2023', '28 Jan 2023', '28 Jan 2023', '28 Jan 2023', '28 Jan 2023', '28 Jan 2023', '28 Jan 2023', '28 Jan 2023', '28 Jan 2023', '28 Jan 2023', '28 Jan 2023', '28 Jan 2023', '28 Jan 2023', '28 Jan 2023', '28 Jan 2023', '28 Jan 2023', None, '28 Jan 2023', '28 Jan 2023', '28 Jan 2023', '28 Jan 2023', '28 Jan 2023', '28 Jan 2023', '28 Jan 2023', '28 Jan 2023', '28 Jan 2023', '28 Jan 2023', '28 Jan 2023', '28 Jan 2023', '28 Jan 2023', '28 Jan 2023', '28 Jan 2023', '28 Jan 2023', '28 Jan 2023', '28 Jan 2023', '28 Jan 2023', '28 Jan 2023', None, '28 Jan 2023', '28 Jan 2023', '28 Jan 2023', '28 Jan 2023', '28 Jan 2023', '28 Jan 2023', '28 Jan 2023', '28 Jan 2023', '28 Jan 2023', '28 Jan 2023', '28 Jan 2023', '28 Jan 2023', '28 Jan 2023', '28 Jan 2023', '28 Jan 2023', '28 Jan 2023', '28 Jan 2023', '28 Jan 2023', '28 Jan 2023', '28 Jan 2023', None, '28 Jan 2023', '28 Jan 2023', '28 Jan 2023', '28 Jan 2023', '28 Jan 2023', '28 Jan 2023', '28 Jan 2023', '27 Jan 2023', '27 Jan 2023', '28 Jan 2023', '28 Jan 2023', '28 Jan 2023', '28 Jan 2023', '28 Jan 2023', '28 Jan 2023', '27 Jan 2023', '27 Jan 2023', '28 Jan 2023', '28 Jan 2023', '28 Jan 2023', None, '27 Jan 2023', '28 Jan 2023', '28 Jan 2023', '28 Jan 2023', '28 Jan 2023', '27 Jan 2023', '28 Jan 2023', '28 Jan 2023', '27 Jan 2023', '27 Jan 2023', '28 Jan 2023', '27 Jan 2023', '28 Jan 2023', '28 Jan 2023', '28 Jan 2023', '28 Jan 2023', '28 Jan 2023', '28 Jan 2023', '28 Jan 2023', '27 Jan 2023', None, '28 Jan 2023', '28 Jan 2023', '28 Jan 2023', '27 Jan 2023', '27 Jan 2023', '27 Jan 2023', '27 Jan 2023', '27 Jan 2023', '27 Jan 2023', '27 Jan 2023', '27 Jan 2023', '27 Jan 2023', '27 Jan 2023', '27 Jan 2023', '27 Jan 2023', '27 Jan 2023', '27 Jan 2023', '27 Jan 2023', '27 Jan 2023', '27 Jan 2023', None, '27 Jan 2023', '27 Jan 2023', '27 Jan 2023', '27 Jan 2023', '27 Jan 2023', '27 Jan 2023', '27 Jan 2023', '27 Jan 2023', '27 Jan 2023', '27 Jan 2023', '27 Jan 2023', '27 Jan 2023', '27 Jan 2023', '27 Jan 2023', '27 Jan 2023', '27 Jan 2023', '27 Jan 2023', '27 Jan 2023', '27 Jan 2023', '27 Jan 2023', None, '27 Jan 2023', '27 Jan 2023', '27 Jan 2023', '27 Jan 2023', '27 Jan 2023', '27 Jan 2023', '27 Jan 2023', '27 Jan 2023', '27 Jan 2023', '27 Jan 2023', '27 Jan 2023', '27 Jan 2023', '27 Jan 2023', '27 Jan 2023', '27 Jan 2023', '27 Jan 2023', '27 Jan 2023', '27 Jan 2023', '27 Jan 2023', '27 Jan 2023', None, '27 Jan 2023', '27 Jan 2023', '27 Jan 2023', '27 Jan 2023', '27 Jan 2023', '27 Jan 2023', '27 Jan 2023', '27 Jan 2023', '27 Jan 2023', '27 Jan 2023', '27 Jan 2023', '27 Jan 2023', '27 Jan 2023', '27 Jan 2023', '27 Jan 2023', '27 Jan 2023', '27 Jan 2023', '27 Jan 2023', '27 Jan 2023', '27 Jan 2023', None, '27 Jan 2023', '27 Jan 2023', '27 Jan 2023', '27 Jan 2023', '27 Jan 2023', '27 Jan 2023', '27 Jan 2023', '27 Jan 2023', '27 Jan 2023', '27 Jan 2023', '27 Jan 2023', '27 Jan 2023', '27 Jan 2023', '27 Jan 2023', '27 Jan 2023', '27 Jan 2023', '27 Jan 2023', '27 Jan 2023', '27 Jan 2023', '27 Jan 2023', None, '27 Jan 2023', '27 Jan 2023', '27 Jan 2023', '27 Jan 2023', '27 Jan 2023', '27 Jan 2023', '27 Jan 2023', '27 Jan 2023', '27 Jan 2023', '27 Jan 2023', '27 Jan 2023', '27 Jan 2023', '27 Jan 2023', '27 Jan 2023', '27 Jan 2023', '27 Jan 2023', '27 Jan 2023', '27 Jan 2023', '27 Jan 2023', '27 Jan 2023', None, '27 Jan 2023', '27 Jan 2023', '27 Jan 2023', '27 Jan 2023', '27 Jan 2023', '27 Jan 2023', '27 Jan 2023', '27 Jan 2023', '27 Jan 2023', '27 Jan 2023', '27 Jan 2023', '27 Jan 2023', '27 Jan 2023', '26 Jan 2023', '26 Jan 2023', '26 Jan 2023', '27 Jan 2023', '27 Jan 2023', '27 Jan 2023', '27 Jan 2023', None, '27 Jan 2023', '26 Jan 2023', '27 Jan 2023', '26 Jan 2023', '26 Jan 2023', '26 Jan 2023', '26 Jan 2023', '27 Jan 2023', '27 Jan 2023', '27 Jan 2023', '26 Jan 2023', '27 Jan 2023', '27 Jan 2023', '26 Jan 2023', '27 Jan 2023', '27 Jan 2023', '27 Jan 2023', '27 Jan 2023', '27 Jan 2023', '27 Jan 2023', None, '26 Jan 2023', '27 Jan 2023', '27 Jan 2023', '27 Jan 2023', '27 Jan 2023', '27 Jan 2023', '26 Jan 2023', '27 Jan 2023', '26 Jan 2023', '26 Jan 2023', '26 Jan 2023', '27 Jan 2023', '26 Jan 2023', '26 Jan 2023', '26 Jan 2023', '26 Jan 2023', '26 Jan 2023', '26 Jan 2023', '26 Jan 2023', '26 Jan 2023', None, '26 Jan 2023', '26 Jan 2023', '26 Jan 2023', '26 Jan 2023', '26 Jan 2023', '26 Jan 2023', '26 Jan 2023', '26 Jan 2023', '26 Jan 2023', '26 Jan 2023', '26 Jan 2023', '26 Jan 2023', '26 Jan 2023', '26 Jan 2023', '26 Jan 2023', '26 Jan 2023', '26 Jan 2023', '26 Jan 2023', '26 Jan 2023', '26 Jan 2023', None, '26 Jan 2023', '26 Jan 2023', '26 Jan 2023', '26 Jan 2023', '26 Jan 2023', '26 Jan 2023', '26 Jan 2023', '26 Jan 2023', '26 Jan 2023', '26 Jan 2023', '26 Jan 2023', '26 Jan 2023', '26 Jan 2023', '26 Jan 2023', '26 Jan 2023', '26 Jan 2023', '26 Jan 2023', '26 Jan 2023', '26 Jan 2023', '26 Jan 2023', None, '26 Jan 2023', '26 Jan 2023', '26 Jan 2023', '26 Jan 2023', '26 Jan 2023', '26 Jan 2023', '26 Jan 2023', '26 Jan 2023', '26 Jan 2023', '26 Jan 2023', '26 Jan 2023', '26 Jan 2023', '26 Jan 2023', '26 Jan 2023', '26 Jan 2023', '26 Jan 2023', '26 Jan 2023', '26 Jan 2023', '26 Jan 2023', '26 Jan 2023', None, '26 Jan 2023', '26 Jan 2023', '26 Jan 2023', '26 Jan 2023', '26 Jan 2023', '26 Jan 2023', '26 Jan 2023', '26 Jan 2023', '26 Jan 2023', '26 Jan 2023', '26 Jan 2023', '26 Jan 2023', '26 Jan 2023', '26 Jan 2023', '26 Jan 2023', '26 Jan 2023', '26 Jan 2023', '26 Jan 2023', '26 Jan 2023', '26 Jan 2023', None, '26 Jan 2023', '25 Jan 2023', '26 Jan 2023', '26 Jan 2023', '25 Jan 2023', '26 Jan 2023', '26 Jan 2023', '26 Jan 2023', '26 Jan 2023', '26 Jan 2023', '26 Jan 2023', '26 Jan 2023', '26 Jan 2023', '26 Jan 2023', '25 Jan 2023', '26 Jan 2023', '26 Jan 2023', '26 Jan 2023', '26 Jan 2023', '25 Jan 2023', None, '25 Jan 2023', '26 Jan 2023', '26 Jan 2023', '25 Jan 2023', '25 Jan 2023', '26 Jan 2023', '26 Jan 2023', '25 Jan 2023', '26 Jan 2023', '26 Jan 2023', '26 Jan 2023', '26 Jan 2023', '25 Jan 2023', '25 Jan 2023', '26 Jan 2023', '26 Jan 2023', '25 Jan 2023', '26 Jan 2023', '25 Jan 2023', '26 Jan 2023', None, '26 Jan 2023', '26 Jan 2023', '25 Jan 2023', '25 Jan 2023', '26 Jan 2023', '26 Jan 2023', '26 Jan 2023', '26 Jan 2023', '25 Jan 2023', '26 Jan 2023', '26 Jan 2023', '26 Jan 2023', '26 Jan 2023', '25 Jan 2023', '26 Jan 2023', '26 Jan 2023', '26 Jan 2023', '26 Jan 2023', '25 Jan 2023', '25 Jan 2023', None, '25 Jan 2023', '26 Jan 2023', '25 Jan 2023', '25 Jan 2023', '25 Jan 2023', '25 Jan 2023', '25 Jan 2023', '25 Jan 2023', '25 Jan 2023', '25 Jan 2023', '25 Jan 2023', '25 Jan 2023', '25 Jan 2023', '25 Jan 2023', '25 Jan 2023', '25 Jan 2023', '25 Jan 2023', '25 Jan 2023', '25 Jan 2023', '25 Jan 2023', None, '25 Jan 2023', '25 Jan 2023', '25 Jan 2023', '25 Jan 2023', '25 Jan 2023', '25 Jan 2023', '25 Jan 2023', '25 Jan 2023', '25 Jan 2023', '25 Jan 2023', '25 Jan 2023', '25 Jan 2023', '25 Jan 2023', '25 Jan 2023', '25 Jan 2023', '25 Jan 2023', '25 Jan 2023', '25 Jan 2023', '25 Jan 2023', '25 Jan 2023', None, '25 Jan 2023', '25 Jan 2023', '25 Jan 2023', '25 Jan 2023', '25 Jan 2023', '25 Jan 2023', '25 Jan 2023', '25 Jan 2023', '25 Jan 2023', '25 Jan 2023', '25 Jan 2023', '25 Jan 2023', '25 Jan 2023', '25 Jan 2023', '25 Jan 2023', '25 Jan 2023', '25 Jan 2023', '25 Jan 2023', '25 Jan 2023', '25 Jan 2023', None, '25 Jan 2023', '25 Jan 2023', '25 Jan 2023', '25 Jan 2023', '25 Jan 2023', '25 Jan 2023', '25 Jan 2023', '25 Jan 2023', '25 Jan 2023', '25 Jan 2023', '25 Jan 2023', '25 Jan 2023', '25 Jan 2023', '25 Jan 2023', '25 Jan 2023', '25 Jan 2023', '25 Jan 2023', '25 Jan 2023', '25 Jan 2023', '25 Jan 2023', None, '25 Jan 2023', '25 Jan 2023', '25 Jan 2023', '25 Jan 2023', '25 Jan 2023', '25 Jan 2023', '25 Jan 2023', '25 Jan 2023', '25 Jan 2023', '25 Jan 2023', '25 Jan 2023', '25 Jan 2023', '25 Jan 2023', '25 Jan 2023', '25 Jan 2023', '25 Jan 2023', '25 Jan 2023', '25 Jan 2023', '24 Jan 2023', '24 Jan 2023', None, '24 Jan 2023', '25 Jan 2023', '25 Jan 2023', '24 Jan 2023', '25 Jan 2023', '25 Jan 2023', '25 Jan 2023', '25 Jan 2023', '25 Jan 2023', '24 Jan 2023', '25 Jan 2023', '24 Jan 2023', '25 Jan 2023', '25 Jan 2023', '24 Jan 2023', '25 Jan 2023', '24 Jan 2023', '24 Jan 2023', '25 Jan 2023', '24 Jan 2023', None, '25 Jan 2023', '25 Jan 2023', '25 Jan 2023', '24 Jan 2023', '25 Jan 2023', '24 Jan 2023', '25 Jan 2023', '24 Jan 2023', '24 Jan 2023', '24 Jan 2023', '24 Jan 2023', '24 Jan 2023', '24 Jan 2023', '24 Jan 2023', '24 Jan 2023', '24 Jan 2023', '24 Jan 2023', '24 Jan 2023', '24 Jan 2023', '24 Jan 2023', None, '24 Jan 2023', '24 Jan 2023', '24 Jan 2023', '24 Jan 2023', '24 Jan 2023', '24 Jan 2023', '24 Jan 2023', '24 Jan 2023', '24 Jan 2023', '24 Jan 2023', '24 Jan 2023', '24 Jan 2023', '24 Jan 2023', '24 Jan 2023', '24 Jan 2023', '24 Jan 2023', '24 Jan 2023', '24 Jan 2023', '24 Jan 2023', '24 Jan 2023', None, '24 Jan 2023', '24 Jan 2023', '24 Jan 2023', '24 Jan 2023', '24 Jan 2023', '24 Jan 2023', '24 Jan 2023', '24 Jan 2023', '24 Jan 2023', '24 Jan 2023', '24 Jan 2023', '24 Jan 2023', '24 Jan 2023', '24 Jan 2023', '24 Jan 2023', '24 Jan 2023', '24 Jan 2023', '24 Jan 2023', '24 Jan 2023', '24 Jan 2023', None, '24 Jan 2023', '24 Jan 2023', '24 Jan 2023', '24 Jan 2023', '24 Jan 2023', '24 Jan 2023', '24 Jan 2023', '24 Jan 2023', '24 Jan 2023', '24 Jan 2023', '24 Jan 2023', '24 Jan 2023', '24 Jan 2023', '24 Jan 2023', '24 Jan 2023', '24 Jan 2023', '24 Jan 2023', '24 Jan 2023', '24 Jan 2023', '24 Jan 2023', None, '24 Jan 2023', '24 Jan 2023', '24 Jan 2023', '24 Jan 2023', '24 Jan 2023', '24 Jan 2023', '24 Jan 2023', '24 Jan 2023', '24 Jan 2023', '24 Jan 2023', '24 Jan 2023', '24 Jan 2023', '24 Jan 2023', '24 Jan 2023', '24 Jan 2023', '24 Jan 2023', '24 Jan 2023', '24 Jan 2023', '24 Jan 2023', '24 Jan 2023', None, '24 Jan 2023', '24 Jan 2023', '24 Jan 2023', '24 Jan 2023', '24 Jan 2023', '24 Jan 2023', '24 Jan 2023', '24 Jan 2023', '24 Jan 2023', '24 Jan 2023', '24 Jan 2023', '24 Jan 2023', '24 Jan 2023', '24 Jan 2023', '24 Jan 2023', '24 Jan 2023', '23 Jan 2023', '23 Jan 2023', '24 Jan 2023', '23 Jan 2023', None, '24 Jan 2023', '24 Jan 2023', '23 Jan 2023', '24 Jan 2023', '24 Jan 2023', '23 Jan 2023', '24 Jan 2023', '23 Jan 2023', '24 Jan 2023', '24 Jan 2023', '24 Jan 2023', '24 Jan 2023', '23 Jan 2023', '24 Jan 2023', '24 Jan 2023', '23 Jan 2023', '24 Jan 2023', '23 Jan 2023', '24 Jan 2023', '24 Jan 2023', None, '24 Jan 2023', '24 Jan 2023', '24 Jan 2023', '24 Jan 2023', '24 Jan 2023', '24 Jan 2023', '24 Jan 2023', '24 Jan 2023', '24 Jan 2023', '24 Jan 2023', '24 Jan 2023', '24 Jan 2023', '23 Jan 2023', '24 Jan 2023', '24 Jan 2023', '23 Jan 2023', '23 Jan 2023', '23 Jan 2023', '23 Jan 2023', '23 Jan 2023', None, '24 Jan 2023', '23 Jan 2023', '23 Jan 2023', '23 Jan 2023', '23 Jan 2023', '23 Jan 2023', '23 Jan 2023', '23 Jan 2023', '23 Jan 2023', '23 Jan 2023', '23 Jan 2023', '23 Jan 2023', '23 Jan 2023', '23 Jan 2023', '23 Jan 2023', '23 Jan 2023', '23 Jan 2023', '23 Jan 2023', '23 Jan 2023', '23 Jan 2023', None, '23 Jan 2023', '23 Jan 2023', '23 Jan 2023', '23 Jan 2023', '23 Jan 2023', '23 Jan 2023', '23 Jan 2023', '23 Jan 2023', '23 Jan 2023', '23 Jan 2023', '24 Jan 2023', '23 Jan 2023', '23 Jan 2023', '23 Jan 2023', '23 Jan 2023', '23 Jan 2023', '23 Jan 2023', '23 Jan 2023', '23 Jan 2023', '23 Jan 2023', None, '23 Jan 2023', '23 Jan 2023', '23 Jan 2023', '23 Jan 2023', '23 Jan 2023', '23 Jan 2023', '23 Jan 2023', '23 Jan 2023', '23 Jan 2023', '23 Jan 2023', '23 Jan 2023', '23 Jan 2023', '23 Jan 2023', '23 Jan 2023', '23 Jan 2023', '23 Jan 2023', '23 Jan 2023', '23 Jan 2023', '23 Jan 2023', '23 Jan 2023', None, '23 Jan 2023', '23 Jan 2023', '23 Jan 2023', '23 Jan 2023', '23 Jan 2023', '23 Jan 2023', '23 Jan 2023', '23 Jan 2023', '23 Jan 2023', '23 Jan 2023', '23 Jan 2023', '23 Jan 2023', '23 Jan 2023', '23 Jan 2023', '23 Jan 2023', '23 Jan 2023', '23 Jan 2023', '23 Jan 2023', '23 Jan 2023', '23 Jan 2023', None, '23 Jan 2023', '23 Jan 2023', '23 Jan 2023', '23 Jan 2023', '23 Jan 2023', '23 Jan 2023', '23 Jan 2023', '23 Jan 2023', '23 Jan 2023', '23 Jan 2023', '23 Jan 2023', '23 Jan 2023', '23 Jan 2023', '22 Jan 2023', '23 Jan 2023', '23 Jan 2023', '23 Jan 2023', '23 Jan 2023', '23 Jan 2023', '23 Jan 2023', None, '22 Jan 2023', '22 Jan 2023', '23 Jan 2023', '23 Jan 2023', '23 Jan 2023', '23 Jan 2023', '23 Jan 2023', '22 Jan 2023', '23 Jan 2023', '22 Jan 2023', '23 Jan 2023', '23 Jan 2023', '23 Jan 2023', '22 Jan 2023', '23 Jan 2023', '23 Jan 2023', '22 Jan 2023', '23 Jan 2023', '22 Jan 2023', '22 Jan 2023', None, '22 Jan 2023', '22 Jan 2023', '23 Jan 2023', '23 Jan 2023', '23 Jan 2023', '23 Jan 2023', '22 Jan 2023', '23 Jan 2023', '23 Jan 2023', '22 Jan 2023', '22 Jan 2023', '23 Jan 2023', '22 Jan 2023', '22 Jan 2023', '23 Jan 2023', '23 Jan 2023', '22 Jan 2023', '23 Jan 2023', '22 Jan 2023', '23 Jan 2023', None, '23 Jan 2023', '23 Jan 2023', '22 Jan 2023', '23 Jan 2023', '23 Jan 2023', '23 Jan 2023', '22 Jan 2023', '22 Jan 2023', '22 Jan 2023', '22 Jan 2023', '22 Jan 2023', '22 Jan 2023', '22 Jan 2023', '22 Jan 2023', '22 Jan 2023', '22 Jan 2023', '22 Jan 2023', '23 Jan 2023', '22 Jan 2023', '22 Jan 2023', None, '22 Jan 2023', '22 Jan 2023', '22 Jan 2023', '22 Jan 2023', '22 Jan 2023', '22 Jan 2023', '22 Jan 2023', '22 Jan 2023', '22 Jan 2023', '22 Jan 2023', '22 Jan 2023', '22 Jan 2023', '22 Jan 2023', '22 Jan 2023', '22 Jan 2023', '22 Jan 2023', '22 Jan 2023', '22 Jan 2023', '22 Jan 2023', '22 Jan 2023', None, '22 Jan 2023', '22 Jan 2023', '22 Jan 2023', '22 Jan 2023', '22 Jan 2023', '22 Jan 2023', '22 Jan 2023', '22 Jan 2023', '22 Jan 2023', '22 Jan 2023', '22 Jan 2023', '22 Jan 2023', '22 Jan 2023', '22 Jan 2023', '22 Jan 2023', '22 Jan 2023', '22 Jan 2023', '22 Jan 2023', '23 Jan 2023', '22 Jan 2023', None, '22 Jan 2023', '22 Jan 2023', '22 Jan 2023', '22 Jan 2023', '22 Jan 2023', '22 Jan 2023', '22 Jan 2023', '22 Jan 2023', '22 Jan 2023', '22 Jan 2023', '22 Jan 2023', '22 Jan 2023', '22 Jan 2023', '22 Jan 2023', '22 Jan 2023', '22 Jan 2023', '22 Jan 2023', '22 Jan 2023', '22 Jan 2023', '22 Jan 2023', None]\n"
          ]
        },
        {
          "output_type": "execute_result",
          "data": {
            "text/plain": [
              "2100"
            ]
          },
          "metadata": {},
          "execution_count": 14
        }
      ]
    },
    {
      "cell_type": "code",
      "source": [
        "date_work_2 = []\n",
        "for val in date_work:\n",
        "    if val != None :\n",
        "        date_work_2.append(val)\n",
        "\n",
        "\"\"\"\n",
        "So I'm doing the last loop because otherwise we'll have more value thant the ID.\n",
        "I didn't find it in the html code but I guess there another datetime or nothing but it just add an empty value to the list.\n",
        "That's why I had to drop it.\n",
        "\n",
        "EDIT : actually there's a better way to remove the None on the list (date_work.remove(None)) but it seems to take more time than this.\n",
        "\"\"\"\n",
        "\n",
        "len(date_work_2)"
      ],
      "metadata": {
        "colab": {
          "base_uri": "https://localhost:8080/"
        },
        "id": "HnYJPvCl60a9",
        "outputId": "e8e26e91-9dda-4c53-f50a-704f35c424c9"
      },
      "execution_count": 15,
      "outputs": [
        {
          "output_type": "execute_result",
          "data": {
            "text/plain": [
              "2000"
            ]
          },
          "metadata": {},
          "execution_count": 15
        }
      ]
    },
    {
      "cell_type": "markdown",
      "source": [
        "**Title and author of the work**"
      ],
      "metadata": {
        "id": "dpdk0lAn0e5-"
      }
    },
    {
      "cell_type": "markdown",
      "source": [
        "Ok so I tried to seperate it (no) but it come with one data.\n",
        "So we have first the title of the work (some are really fun) and the author name (a lot are REALLY fun) it separate by \"by\" so if you want to make two data of it it's very simple but personnaly I'm not gonna use the title or author name later."
      ],
      "metadata": {
        "id": "_maklRRl0pvQ"
      }
    },
    {
      "cell_type": "code",
      "source": [
        "def worktitle(directory_url):\n",
        "  \n",
        "  dir_soup = download_and_soupify(directory_url)\n",
        "  for x in dir_soup.findAll(\"h4\",attrs={\"class\": \"heading\"}):  \n",
        "    text=x.get_text()\n",
        "    work_title_authors.append(str(text))\n",
        "\n",
        "  work_title_authors.remove('\\n            Include\\n          ')\n",
        "  work_title_authors.remove('\\n            Exclude\\n          ')\n",
        "  work_title_authors.remove('More Options')\n",
        "  work_title_authors.remove('Pages Navigation')\n",
        "  work_title_authors.remove('About the Archive')\n",
        "  work_title_authors.remove('Pages Navigation')\n",
        "  work_title_authors.remove('Contact Us')\n",
        "  work_title_authors.remove('Development')\n",
        "\n",
        "  (work_title_authors)\n",
        "\n",
        "# It quit the same as the other function \n",
        "# Exept this time we need to remove a lot of stuff by page to clean the text\n"
      ],
      "metadata": {
        "id": "7n3Dcjc81EDB"
      },
      "execution_count": 16,
      "outputs": []
    },
    {
      "cell_type": "code",
      "source": [
        "work_title_authors = []\n",
        "for i in range(Beginning_Page,Number_page):\n",
        "    #print(get_story_ids(directory_urls[i]))\n",
        "    work_title_authors.append(worktitle(directory_urls[i]))\n",
        "    \n",
        "len(work_title_authors)\n",
        "\n",
        "# Same as before for dates we can see the append take a \"None\" value each iteration (page)\n",
        "# Usually the size of work_title_authors is (Number_page * 20) + Number_page"
      ],
      "metadata": {
        "colab": {
          "base_uri": "https://localhost:8080/"
        },
        "id": "OxXgNrq_1k_D",
        "outputId": "71d5c7a7-9ebf-492b-fe2b-454e2c9de23a"
      },
      "execution_count": 17,
      "outputs": [
        {
          "output_type": "execute_result",
          "data": {
            "text/plain": [
              "2100"
            ]
          },
          "metadata": {},
          "execution_count": 17
        }
      ]
    },
    {
      "cell_type": "code",
      "source": [
        "work_title_authors_2 = []\n",
        "for val in work_title_authors:\n",
        "    if val != None :\n",
        "        work_title_authors_2.append(val)\n",
        "\n",
        "# We take out the None value of work_title_authors and put it into work_title_authors_2"
      ],
      "metadata": {
        "id": "XEYdK6Eb1-ba"
      },
      "execution_count": 18,
      "outputs": []
    },
    {
      "cell_type": "code",
      "source": [
        "for work in range(len(work_title_authors_2)):\n",
        "    work_title_authors_2[work] = work_title_authors_2[work].replace('\\n',' ')\n",
        "    work_title_authors_2[work] = work_title_authors_2[work].replace('       ',' ')\n",
        "    work_title_authors_2[work] = work_title_authors_2[work].replace('     ',' ')\n",
        "\n",
        "len(work_title_authors_2)\n",
        "\n",
        "# Just cleaning some text then putting it back into work_title_authors_2\n",
        "# len of (work_title_authors_2) should be Number_page * 20 now, so the number total of work append"
      ],
      "metadata": {
        "colab": {
          "base_uri": "https://localhost:8080/"
        },
        "id": "O-K5sJrm2ZxK",
        "outputId": "1cc46780-30b9-4468-d847-346575c38b20"
      },
      "execution_count": 19,
      "outputs": [
        {
          "output_type": "execute_result",
          "data": {
            "text/plain": [
              "2000"
            ]
          },
          "metadata": {},
          "execution_count": 19
        }
      ]
    },
    {
      "cell_type": "markdown",
      "source": [
        "**Language of the work**"
      ],
      "metadata": {
        "id": "xXxJzzi32_Vd"
      }
    },
    {
      "cell_type": "markdown",
      "source": [
        "Usually it's English even from non english speaker (always the best fics).\n",
        "\n",
        "I'm doing the same as before but not at the end where I need to drop each object at the end of one page (each 20 object of a list) since it append every language possible on the site."
      ],
      "metadata": {
        "id": "CuxCsDb23E0I"
      }
    },
    {
      "cell_type": "code",
      "source": [
        "def worklanguage(directory_url):\n",
        "  \n",
        "  dir_soup = download_and_soupify(directory_url)\n",
        "  for x in dir_soup.findAll(\"dd\",attrs={\"class\": \"language\"}):  \n",
        "    text=x.get_text()\n",
        "    work_language.append(str(text))\n",
        "\n",
        "  (work_language)\n",
        "\n",
        "# I guess you know how it works now"
      ],
      "metadata": {
        "id": "6JmOzD9k4DtH"
      },
      "execution_count": 20,
      "outputs": []
    },
    {
      "cell_type": "code",
      "source": [
        "work_language = []\n",
        "for i in range(Beginning_Page,Number_page):\n",
        "    work_language.append(worklanguage(directory_urls[i]))\n",
        "len(work_language)\n",
        "\n",
        "# len of work_language is the same as before (Number_page * 20) + Number_page*2\n",
        "# Because of the None again and the all language object by page"
      ],
      "metadata": {
        "colab": {
          "base_uri": "https://localhost:8080/"
        },
        "id": "4gtHKgFa4M7E",
        "outputId": "52ef7091-987b-49d1-84ed-879d63514737"
      },
      "execution_count": 21,
      "outputs": [
        {
          "output_type": "execute_result",
          "data": {
            "text/plain": [
              "2200"
            ]
          },
          "metadata": {},
          "execution_count": 21
        }
      ]
    },
    {
      "cell_type": "code",
      "source": [
        "work_language_2 = []\n",
        "for val in work_language:\n",
        "    if val != None :\n",
        "        work_language_2.append(val)\n",
        "len(work_language_2)\n",
        "\n",
        "# We kick off the None object"
      ],
      "metadata": {
        "colab": {
          "base_uri": "https://localhost:8080/"
        },
        "id": "lKBIIiMD4ve6",
        "outputId": "a1d2fa81-c39a-4461-b686-12e46b40358f"
      },
      "execution_count": 22,
      "outputs": [
        {
          "output_type": "execute_result",
          "data": {
            "text/plain": [
              "2100"
            ]
          },
          "metadata": {},
          "execution_count": 22
        }
      ]
    },
    {
      "cell_type": "code",
      "source": [
        "Number_page_bis = Number_page - Beginning_Page\n",
        "Number_page_bis = Number_page_bis\n",
        "Drop_language_setting = []\n",
        "for i in range(Number_page_bis):\n",
        "  Drop_language_setting_bis = 20\n",
        "  Drop_language_setting_bis = Drop_language_setting_bis + i*20\n",
        "  Drop_language_setting.append(Drop_language_setting_bis)\n",
        "Drop_language_setting\n",
        "\n",
        "# Okay so this one is really different from other\n",
        "# I just needed an interval like [20,40,60,...,x] and x is the number of work we want to append\n",
        "# I'm sur there is a way more simple than that but I'm a dumbass so"
      ],
      "metadata": {
        "colab": {
          "base_uri": "https://localhost:8080/"
        },
        "id": "rNFlZKBJ46rK",
        "outputId": "8354d43b-022b-4e6d-e69b-ed26d8463f5c"
      },
      "execution_count": 23,
      "outputs": [
        {
          "output_type": "execute_result",
          "data": {
            "text/plain": [
              "[20,\n",
              " 40,\n",
              " 60,\n",
              " 80,\n",
              " 100,\n",
              " 120,\n",
              " 140,\n",
              " 160,\n",
              " 180,\n",
              " 200,\n",
              " 220,\n",
              " 240,\n",
              " 260,\n",
              " 280,\n",
              " 300,\n",
              " 320,\n",
              " 340,\n",
              " 360,\n",
              " 380,\n",
              " 400,\n",
              " 420,\n",
              " 440,\n",
              " 460,\n",
              " 480,\n",
              " 500,\n",
              " 520,\n",
              " 540,\n",
              " 560,\n",
              " 580,\n",
              " 600,\n",
              " 620,\n",
              " 640,\n",
              " 660,\n",
              " 680,\n",
              " 700,\n",
              " 720,\n",
              " 740,\n",
              " 760,\n",
              " 780,\n",
              " 800,\n",
              " 820,\n",
              " 840,\n",
              " 860,\n",
              " 880,\n",
              " 900,\n",
              " 920,\n",
              " 940,\n",
              " 960,\n",
              " 980,\n",
              " 1000,\n",
              " 1020,\n",
              " 1040,\n",
              " 1060,\n",
              " 1080,\n",
              " 1100,\n",
              " 1120,\n",
              " 1140,\n",
              " 1160,\n",
              " 1180,\n",
              " 1200,\n",
              " 1220,\n",
              " 1240,\n",
              " 1260,\n",
              " 1280,\n",
              " 1300,\n",
              " 1320,\n",
              " 1340,\n",
              " 1360,\n",
              " 1380,\n",
              " 1400,\n",
              " 1420,\n",
              " 1440,\n",
              " 1460,\n",
              " 1480,\n",
              " 1500,\n",
              " 1520,\n",
              " 1540,\n",
              " 1560,\n",
              " 1580,\n",
              " 1600,\n",
              " 1620,\n",
              " 1640,\n",
              " 1660,\n",
              " 1680,\n",
              " 1700,\n",
              " 1720,\n",
              " 1740,\n",
              " 1760,\n",
              " 1780,\n",
              " 1800,\n",
              " 1820,\n",
              " 1840,\n",
              " 1860,\n",
              " 1880,\n",
              " 1900,\n",
              " 1920,\n",
              " 1940,\n",
              " 1960,\n",
              " 1980,\n",
              " 2000]"
            ]
          },
          "metadata": {},
          "execution_count": 23
        }
      ]
    },
    {
      "cell_type": "code",
      "source": [
        "for i in Drop_language_setting:\n",
        "  work_language_2.remove(work_language_2[i])\n",
        "print(work_language_2)\n",
        "len(work_language_2)\n",
        "\n",
        "# Now we had remove every language setting possible\n",
        "# len of work_language_2 must be the same as the number of fix we're trying to append"
      ],
      "metadata": {
        "colab": {
          "base_uri": "https://localhost:8080/"
        },
        "id": "kLtW-wXR5fpS",
        "outputId": "20c7e934-ad32-4568-e2fc-3504bc087670"
      },
      "execution_count": 24,
      "outputs": [
        {
          "output_type": "stream",
          "name": "stdout",
          "text": [
            "['English', 'English', 'English', 'English', 'English', 'English', 'English', 'English', 'English', 'English', 'English', 'English', 'English', 'English', 'English', 'English', 'English', 'English', 'English', 'English', 'English', 'English', 'English', 'English', 'English', 'English', 'English', 'English', 'English', 'English', 'English', 'English', 'English', 'English', 'English', 'English', 'English', 'English', 'English', 'English', 'English', 'English', 'English', 'English', 'English', 'English', 'English', 'English', 'English', 'English', 'English', 'English', 'English', 'English', 'English', 'English', 'English', 'English', 'English', 'English', 'English', 'English', 'English', 'English', 'English', 'English', 'English', 'English', 'English', 'English', 'English', 'English', 'English', 'English', 'English', 'English', 'English', 'English', 'English', 'English', 'English', 'English', 'English', 'English', 'English', 'English', 'English', 'English', 'English', 'English', 'English', 'English', 'English', 'English', 'English', 'English', 'English', 'English', 'English', 'English', 'English', 'English', 'English', 'English', 'English', 'English', 'English', 'English', 'English', 'English', 'English', 'English', 'English', 'English', 'English', 'English', 'English', 'English', 'English', 'English', 'English', 'English', 'English', 'English', 'English', 'English', 'English', 'English', 'English', 'English', 'English', 'English', 'English', 'English', 'English', 'English', 'English', 'English', 'English', 'English', 'English', 'English', 'English', 'English', 'English', 'English', 'English', 'English', 'English', 'English', 'English', 'English', 'English', 'English', 'English', 'English', 'English', 'English', 'English', 'English', 'English', 'English', 'English', 'Français', 'English', 'English', 'English', 'English', 'Русский', 'English', 'English', 'English', 'English', 'English', 'English', 'English', 'English', 'English', 'Español', 'English', 'English', 'English', 'English', 'English', 'English', 'Русский', 'English', 'English', 'English', 'English', 'English', 'English', 'English', 'English', 'English', 'English', 'English', 'English', 'English', 'English', 'English', 'English', 'English', 'English', 'English', 'English', 'English', 'English', 'English', 'English', 'English', 'English', 'English', 'English', 'English', 'English', 'English', 'English', 'English', 'English', 'English', 'English', 'English', 'English', 'English', 'English', 'English', 'English', 'English', 'English', 'English', 'English', 'English', 'English', 'English', 'English', 'English', 'English', 'English', 'English', 'English', 'English', 'English', 'English', 'English', 'English', 'English', 'English', 'English', 'English', 'English', 'Русский', 'English', 'English', 'English', 'English', 'English', 'English', 'English', 'English', 'English', 'English', 'English', 'English', 'English', 'English', 'English', 'English', 'English', 'English', 'English', 'English', 'English', 'English', 'English', 'English', 'English', 'English', 'English', 'English', 'English', 'English', 'English', 'English', 'English', 'English', 'English', 'English', 'English', 'English', 'English', 'English', 'English', 'English', 'English', 'English', 'English', 'English', 'English', 'English', 'English', 'English', 'English', 'English', 'English', 'English', 'English', 'English', 'English', 'English', 'English', 'English', 'English', 'English', 'English', 'English', 'English', 'English', 'English', 'English', 'English', 'English', 'English', 'English', 'English', 'English', 'English', 'English', 'English', 'English', 'English', 'English', 'English', 'English', 'English', 'English', 'English', 'English', 'English', 'English', 'English', 'English', 'English', 'English', 'English', 'English', 'English', 'English', 'English', 'English', 'English', 'English', 'English', 'English', 'English', 'English', 'English', 'English', 'English', 'English', 'English', 'English', 'English', 'English', 'English', 'English', 'English', 'English', 'English', 'English', 'English', 'English', 'English', 'English', 'English', 'English', 'English', 'English', 'English', 'English', 'English', 'English', 'English', 'English', 'English', 'English', 'English', 'English', 'English', 'English', 'English', 'English', 'English', 'English', 'English', 'English', 'English', 'English', 'English', 'English', 'English', 'English', 'English', 'English', 'English', 'English', 'English', 'English', 'English', 'English', 'English', 'English', 'English', 'English', 'English', 'English', 'English', 'English', 'English', 'English', 'English', 'English', 'English', 'English', 'English', 'English', 'English', 'English', 'English', 'English', 'English', 'Deutsch', 'English', 'English', 'English', 'English', 'English', 'English', 'English', 'English', 'English', 'English', 'English', 'English', 'English', 'English', 'English', 'English', 'English', 'English', 'English', 'English', 'English', 'English', 'English', 'English', 'English', 'English', 'English', 'English', 'English', 'English', 'English', 'English', 'English', 'English', 'English', 'English', 'English', 'Italiano', 'English', 'English', 'English', 'English', 'English', 'English', 'English', 'English', 'English', 'English', 'English', 'English', 'English', 'English', 'English', 'English', 'English', 'English', 'English', 'English', 'English', 'English', 'English', 'English', 'English', 'English', 'English', 'English', 'English', 'English', 'English', 'English', 'English', 'English', 'English', 'English', 'English', 'English', 'English', 'English', 'English', 'English', 'English', 'English', 'English', 'English', 'English', 'English', 'English', 'English', 'English', 'English', 'English', 'English', 'English', 'English', 'English', 'English', 'English', 'English', 'English', 'English', 'English', 'English', 'English', 'English', 'English', 'English', 'English', 'English', 'English', 'English', 'English', 'English', 'English', 'English', 'English', 'English', 'English', 'English', 'English', 'English', 'English', 'English', 'English', 'English', 'English', 'English', 'English', 'English', 'English', 'English', 'English', 'English', 'English', 'English', 'English', 'English', 'English', 'English', 'English', 'English', 'English', 'English', 'English', 'English', 'English', 'English', 'English', 'English', 'English', 'English', 'English', 'English', 'English', 'English', 'English', 'English', 'English', 'English', 'English', 'English', 'English', 'English', 'English', 'English', 'English', 'English', 'English', 'English', 'English', 'English', 'English', 'English', 'English', 'English', 'English', 'English', 'English', 'English', 'English', 'English', 'English', 'English', 'English', 'English', 'English', 'English', 'English', 'English', 'English', 'English', 'English', 'English', 'English', 'English', 'English', 'English', 'English', 'English', 'English', 'English', 'English', 'English', 'English', 'English', 'Español', 'English', 'English', 'English', 'English', 'English', 'English', 'English', 'English', 'English', 'English', 'English', 'English', 'English', 'English', 'English', 'English', 'English', 'English', 'English', 'English', 'English', 'English', 'English', 'English', 'English', 'English', 'English', 'English', 'English', 'English', 'English', 'English', 'English', 'English', 'English', 'English', 'English', 'English', 'English', 'English', 'English', 'English', 'English', 'English', 'English', 'English', 'English', 'English', 'English', 'English', 'English', 'English', 'English', 'English', 'English', 'English', 'English', 'English', 'English', 'English', 'English', 'English', 'English', 'English', 'English', 'English', 'English', 'English', 'English', 'English', 'English', 'English', 'English', 'English', 'English', 'English', 'English', 'English', 'English', 'English', 'English', 'English', 'English', 'English', 'English', 'English', 'English', 'English', 'English', 'English', 'English', 'English', 'English', 'English', 'English', 'English', 'English', 'English', 'English', 'English', 'English', 'English', 'English', 'English', 'English', 'English', 'English', 'English', 'English', 'English', 'English', 'English', 'English', 'English', 'English', 'English', 'English', 'English', 'English', 'English', 'English', 'English', 'English', 'English', 'English', 'English', 'English', 'English', 'English', 'English', 'English', 'English', 'English', 'English', 'English', 'English', 'English', 'English', 'English', 'English', 'English', 'English', 'English', 'English', 'English', 'English', 'English', 'English', 'English', 'English', 'English', 'English', 'English', 'English', 'English', 'English', 'English', 'English', 'English', 'English', 'English', 'English', 'English', 'English', 'English', 'English', 'English', 'English', 'English', 'English', 'English', 'English', 'English', 'English', 'English', 'English', 'English', 'Español', 'English', 'English', 'English', 'English', 'English', 'English', 'English', 'English', 'English', 'English', 'English', 'English', 'English', 'English', 'English', 'English', 'English', 'English', 'English', 'English', 'English', 'English', 'English', 'English', 'English', 'English', 'English', 'English', 'English', 'English', 'English', 'English', 'English', 'English', 'English', 'English', 'English', 'English', 'English', 'English', 'English', 'English', 'English', 'English', 'English', 'English', 'English', 'English', 'English', 'English', 'Español', 'English', 'English', 'English', 'English', 'English', 'English', 'English', 'English', 'English', 'English', 'Español', 'English', 'English', 'English', 'English', 'English', 'English', 'English', 'English', 'Français', 'English', 'English', 'English', 'English', 'English', 'English', 'English', 'English', 'English', 'English', 'English', 'English', 'English', 'English', 'English', 'English', 'English', 'English', 'English', 'English', 'English', 'English', 'English', 'English', 'English', 'English', 'English', 'English', 'English', 'English', 'English', 'English', 'English', 'English', 'English', 'English', 'English', 'English', 'English', 'English', 'English', 'English', 'English', 'English', 'English', 'English', 'English', 'English', 'Русский', 'English', 'English', 'English', 'English', 'English', 'English', 'English', 'English', 'English', 'English', 'English', 'English', 'Español', 'English', 'English', 'English', 'English', 'English', 'English', 'English', 'English', 'English', 'English', 'English', 'English', 'English', 'English', 'English', 'English', 'English', 'English', 'English', 'English', 'English', 'English', 'English', 'English', 'English', 'English', 'English', 'English', 'English', 'English', 'English', 'English', 'English', 'English', 'English', 'English', 'English', 'English', 'English', 'English', 'English', 'English', 'English', 'English', 'English', 'English', 'English', 'English', 'English', 'English', 'English', 'English', 'English', 'English', 'English', 'English', 'English', 'English', 'English', 'English', 'English', 'English', 'English', 'English', 'English', 'English', 'English', 'English', 'English', 'English', 'English', 'English', 'English', 'English', 'English', 'English', 'English', 'English', 'English', 'English', 'English', 'English', 'English', 'English', 'English', 'English', 'English', 'English', 'English', 'English', 'English', 'English', 'English', 'English', 'English', 'English', 'English', 'English', 'English', 'English', 'English', 'English', 'English', 'English', 'English', 'English', 'English', 'English', 'English', 'English', 'English', 'English', 'English', 'English', 'English', 'English', 'English', 'Русский', 'English', 'Français', 'English', 'English', 'English', 'Русский', 'English', 'Français', 'English', 'English', 'English', 'English', 'English', 'English', 'English', 'English', 'English', 'English', 'English', 'English', 'English', 'English', 'English', 'English', 'English', 'English', 'English', 'English', 'English', 'English', 'English', 'English', 'English', 'English', 'English', 'English', 'English', 'English', 'English', 'English', 'English', 'English', 'English', 'English', 'English', 'English', 'English', 'Русский', 'English', 'English', 'English', 'English', 'English', 'English', 'English', 'English', 'English', 'English', 'English', 'English', 'English', 'English', 'English', 'English', 'English', 'English', 'English', 'English', 'English', 'English', 'English', 'English', 'English', 'English', 'English', 'English', 'English', 'English', 'English', 'English', 'English', 'English', 'English', 'English', 'English', 'English', 'English', 'English', 'English', 'English', 'English', 'English', 'English', 'English', 'English', 'English', 'English', 'English', 'English', 'English', 'English', 'English', 'English', 'English', 'English', 'English', 'English', 'English', 'English', 'English', 'English', 'English', 'English', 'English', 'English', 'English', 'English', 'English', 'English', 'English', 'English', 'English', 'English', 'English', 'English', 'English', 'English', 'English', 'English', 'English', 'English', 'English', 'English', 'English', 'English', 'English', 'English', 'English', 'English', 'English', 'English', 'English', 'English', 'English', 'English', 'English', 'English', 'English', 'English', 'English', 'English', 'English', 'English', 'English', 'English', 'English', 'English', 'English', 'English', 'English', 'English', 'English', 'English', 'English', 'English', 'English', 'English', 'English', 'English', 'English', 'English', 'English', 'English', 'English', 'English', 'English', 'English', 'English', 'English', 'English', 'English', 'English', 'English', 'English', 'English', 'English', 'Русский', 'English', 'English', 'English', 'English', 'English', 'English', 'English', 'English', 'English', 'English', 'English', 'English', 'English', 'English', 'English', 'English', 'English', 'English', 'English', 'Italiano', 'English', 'English', 'English', 'English', 'English', 'English', 'English', 'English', 'English', 'English', 'English', 'English', 'English', 'English', 'English', 'English', 'English', 'English', 'English', 'English', 'English', 'English', 'English', 'English', 'English', 'English', 'English', 'English', 'English', 'English', 'English', 'English', 'English', 'English', 'English', 'English', 'English', 'English', 'English', 'English', 'English', 'English', 'English', 'English', 'English', 'English', 'English', 'English', 'English', 'English', 'English', 'English', 'English', 'English', 'English', 'English', 'English', 'English', 'English', 'English', 'English', 'English', 'English', 'English', 'English', 'English', 'English', 'English', 'English', 'English', 'English', 'English', 'English', 'English', 'English', 'English', 'English', 'English', 'English', 'English', 'Español', 'English', 'English', 'English', 'English', 'English', 'English', 'English', 'English', 'English', 'English', 'English', 'English', 'English', 'English', 'English', 'English', 'English', 'English', 'English', 'Українська', 'English', 'English', 'English', 'English', 'English', 'English', 'English', 'English', 'English', 'English', 'English', 'English', 'English', 'English', 'English', 'Español', 'English', 'English', 'English', 'English', 'English', 'English', 'English', 'English', 'English', 'English', 'English', 'English', 'English', 'English', 'English', 'English', 'English', 'English', 'English', 'English', 'English', 'English', 'English', 'English', 'English', 'English', 'English', 'English', 'English', 'English', 'English', 'English', 'English', 'English', 'English', 'English', 'English', 'English', 'English', 'English', 'English', 'English', 'English', 'English', 'English', 'English', 'English', 'English', 'English', 'English', 'English', 'English', 'English', 'English', 'English', 'English', 'English', 'English', 'English', 'English', 'English', 'English', 'English', 'English', 'English', 'English', 'English', 'English', 'English', 'English', 'English', 'English', 'English', 'English', 'English', 'English', 'English', 'English', 'English', 'English', 'English', 'English', 'English', 'English', 'English', 'English', 'English', 'English', 'English', 'English', 'English', 'English', 'English', 'English', 'English', 'English', 'English', 'English', 'English', 'English', 'English', 'English', 'English', 'English', 'English', 'English', 'Français', 'English', 'English', 'English', 'English', 'English', 'English', 'English', 'English', 'English', 'English', 'English', 'English', 'English', 'English', 'English', 'English', 'English', 'English', 'English', 'English', 'English', 'English', 'English', 'English', 'English', 'English', 'English', 'English', 'English', 'English', 'English', 'English', 'English', 'English', 'English', 'English', 'English', 'English', 'English', 'English', 'English', 'English', 'English', 'English', 'English', 'English', 'Русский', 'English', 'English', 'English', 'English', 'English', 'English', 'English', 'English', 'English', 'English', 'English', 'English', 'English', 'English', 'English', 'English', 'English', 'English', 'English', 'English', 'English', 'English', 'English', 'English', 'English', 'English', 'English', 'English', 'English', 'English', 'English', 'English', 'English', 'English', 'English', 'English', 'English', 'English', 'English', 'English', 'English', 'English', 'English', 'English', 'English', 'English', 'English', 'English', 'English', 'English', 'English', 'English', 'English', 'English', 'English', 'English', 'English', 'English', 'English', 'English', 'English', 'English', 'English', 'English', 'English', 'English', 'English', 'English', 'English', 'English', 'English', 'English', 'English', 'English', 'English', 'English', 'English', 'English', 'English', 'English', 'English', 'English', 'English', 'English', 'English', 'English', 'English', 'English', 'English', 'English', 'English', 'English', 'English', 'English', 'English', 'English', 'English', 'English', 'English', 'English', 'English', 'English', 'English', 'English', 'English', 'English', 'English', 'English', 'English', 'English', 'English', 'English', 'English', 'English', 'English', 'English', 'English', 'English', 'English', 'English', 'English', 'English', 'English', 'English', 'English', 'English', 'English', 'English', 'Français', 'English', 'English', 'English', 'English', 'English', 'English', 'English', 'English', 'English', 'English', 'English', 'English', 'English', 'English', 'English', 'English', 'English', 'English', 'English', 'English', 'English', 'English', 'English', 'English', 'English', 'English', 'English', 'English', 'English', 'English', 'English', 'English', 'English', 'English', 'English', 'English', 'English', 'English', 'Español', 'English', 'English', 'English', 'English', 'English', 'English', 'English', 'English', 'English', 'English', 'English', 'English', 'English', 'English', 'English', 'English', 'English', 'English', 'English', 'English', 'English', 'English', 'English', 'English', 'English', 'English', 'English', 'English', 'English', 'English', 'English', 'English', 'Français', 'English', 'English', 'English', 'English', 'English', 'English', 'English', 'English', 'English', 'English', 'English', 'English', 'English', 'English', 'English', 'English', 'English', 'English', 'English', 'English', 'English', 'English', 'English', 'English', 'English', 'English', 'English', 'English', 'English', 'English', 'English', 'English', 'English', 'English', 'English', 'English', 'English', 'English', 'English', 'English', 'English', 'English', 'English', 'English', 'English', 'English', 'English', 'English', 'English', 'English', 'English', 'English', 'English', 'English', 'English', 'English', 'English', 'English', 'English', 'English', 'English', 'English', 'Português europeu', 'English', 'English', 'English', 'English', 'English', 'English', 'English', 'English', 'English', 'English', 'English', 'English', 'English', 'English', 'English', 'English', 'English', 'English', 'English', 'English', 'English', 'English', 'English', 'English', 'English', 'English', 'English', 'English', 'English', 'English', 'English', 'English', 'English', 'English', 'English', 'English', 'English', 'English', 'English', 'English', 'English', 'English', 'English', 'English', 'English', 'English', 'English', 'English', 'English', 'English', 'English', 'English', 'English', 'English', 'English', 'English', 'English', 'English', 'English', 'English', 'English', 'English', 'English', 'English', 'English', 'English', 'English', 'English', 'English', 'English', 'English', 'English', 'English', 'English', 'English', 'English', 'English', 'English', 'English', 'English', 'English', 'English', 'English', 'English', 'English', 'English', 'English', 'English', 'English', 'English', 'English', 'English', 'English', 'English', 'English', 'English', 'English', 'English', 'English', 'English', 'English', 'English', 'English', 'English', 'English', 'English', 'English', 'English', 'English', 'English', 'English', 'English', 'English', 'English', 'English', 'English', 'English', 'English', 'English', 'English', 'English', 'English', 'English', 'English', 'English', 'English', 'English', 'English', 'English', 'English', 'English', 'English', 'English', 'English', 'English', 'English', 'English', 'English', 'English', 'English', 'English', 'English', 'English', 'English', 'English', 'English', 'English', 'English', 'English', 'English', 'English', 'English', 'English', 'English', 'English', 'English', 'English', 'English', 'English', 'English', 'English', 'English', 'English', 'English', 'English', 'English', 'English', 'English', 'English', 'English', 'English', 'English', 'English', 'English', 'English', 'English', 'Русский', 'English', 'English', 'English', 'English', 'English', 'English', 'English', 'Español', 'English', 'English', 'English', 'English', 'English', 'English', 'English']\n"
          ]
        },
        {
          "output_type": "execute_result",
          "data": {
            "text/plain": [
              "2000"
            ]
          },
          "metadata": {},
          "execution_count": 24
        }
      ]
    },
    {
      "cell_type": "markdown",
      "source": [
        "**Number of Words**"
      ],
      "metadata": {
        "id": "YG1VQpxb53ir"
      }
    },
    {
      "cell_type": "markdown",
      "source": [
        "Haha I knew you were expecting that !\n",
        "Maybe one of the most interesting stat of the work.\n",
        "You can see if your fandom is based by one shot fic or very long 500k work divided betweet 30 part."
      ],
      "metadata": {
        "id": "5j39iQOP58Px"
      }
    },
    {
      "cell_type": "markdown",
      "source": [
        "Btw I'm sorry for my stupid comment I'm having a lot of fun doing this."
      ],
      "metadata": {
        "id": "g5f7o7-r6UKn"
      }
    },
    {
      "cell_type": "code",
      "source": [
        "def NumberofWords(directory_url):\n",
        "  \n",
        "  dir_soup = download_and_soupify(directory_url)\n",
        "  for x in dir_soup.findAll(\"dd\",attrs={\"class\": \"words\"}):  \n",
        "    text=x.get_text()\n",
        "    Nbr_words.append(str(text))"
      ],
      "metadata": {
        "id": "zdRkvdg454xm"
      },
      "execution_count": 25,
      "outputs": []
    },
    {
      "cell_type": "code",
      "source": [
        "Nbr_words = []\n",
        "for i in range(Beginning_Page,Number_page):\n",
        "    Nbr_words.append(NumberofWords(directory_urls[i]))\n",
        "len(Nbr_words)"
      ],
      "metadata": {
        "colab": {
          "base_uri": "https://localhost:8080/"
        },
        "id": "oj0GeXXC6eVe",
        "outputId": "a0c3627a-968a-4893-9bb2-319bc8e4f92d"
      },
      "execution_count": 26,
      "outputs": [
        {
          "output_type": "execute_result",
          "data": {
            "text/plain": [
              "2100"
            ]
          },
          "metadata": {},
          "execution_count": 26
        }
      ]
    },
    {
      "cell_type": "code",
      "source": [
        "Nbr_words_2 = []\n",
        "for val in Nbr_words:\n",
        "    if val != None :\n",
        "        Nbr_words_2.append(val)\n",
        "len(Nbr_words_2)\n",
        "\n",
        "# Told you the code is very simple\n",
        "# We just had to delete the None value and everything is right"
      ],
      "metadata": {
        "colab": {
          "base_uri": "https://localhost:8080/"
        },
        "id": "Wnld372w6frO",
        "outputId": "1e0b9bec-3183-4a12-b383-c25728d4d304"
      },
      "execution_count": 27,
      "outputs": [
        {
          "output_type": "execute_result",
          "data": {
            "text/plain": [
              "2000"
            ]
          },
          "metadata": {},
          "execution_count": 27
        }
      ]
    },
    {
      "cell_type": "markdown",
      "source": [
        "**Number of Chapter**"
      ],
      "metadata": {
        "id": "2_AMN36vQ9PK"
      }
    },
    {
      "cell_type": "markdown",
      "source": [
        "I'm not gonna lie these one wasn't really hard to append, but I really don't know why I had to use a different method to drop all the None value ? Otherwise the loop was infinite.\n",
        "\n"
      ],
      "metadata": {
        "id": "2MG6UR5wR9F9"
      }
    },
    {
      "cell_type": "code",
      "source": [
        "def NumberofChapter(directory_url):\n",
        "  \n",
        "  dir_soup = download_and_soupify(directory_url)\n",
        "  for x in dir_soup.findAll(\"dd\",attrs={\"class\": \"chapters\"}):  \n",
        "    text=x.get_text()\n",
        "    Nbr_chapter.append(str(text))"
      ],
      "metadata": {
        "id": "NGYH2nL2R8Sj"
      },
      "execution_count": 28,
      "outputs": []
    },
    {
      "cell_type": "code",
      "source": [
        "Nbr_chapter = []\n",
        "for i in range(Beginning_Page,Number_page):\n",
        "    Nbr_chapter.append(NumberofChapter(directory_urls[i]))\n",
        "    Nbr_chapter.remove(None)\n",
        "len(Nbr_chapter)\n",
        "\n",
        "# yes it's just there that I realize we can remove the None values from the object directcly"
      ],
      "metadata": {
        "colab": {
          "base_uri": "https://localhost:8080/"
        },
        "id": "fldJCekBSHud",
        "outputId": "da0ba977-7d65-4466-e08a-bfa15918237c"
      },
      "execution_count": 29,
      "outputs": [
        {
          "output_type": "execute_result",
          "data": {
            "text/plain": [
              "2000"
            ]
          },
          "metadata": {},
          "execution_count": 29
        }
      ]
    },
    {
      "cell_type": "markdown",
      "source": [
        "**Number of hits**"
      ],
      "metadata": {
        "id": "bvKpwvKkRKez"
      }
    },
    {
      "cell_type": "code",
      "source": [
        "def NumberofHits(directory_url):\n",
        "  \n",
        "  dir_soup = download_and_soupify(directory_url)\n",
        "  for x in dir_soup.findAll(\"dd\",attrs={\"class\": \"hits\"}):  \n",
        "    text=x.get_text()\n",
        "    Nbr_hits.append(str(text))"
      ],
      "metadata": {
        "id": "davQxgx7SadG"
      },
      "execution_count": 30,
      "outputs": []
    },
    {
      "cell_type": "code",
      "source": [
        "Nbr_hits = []\n",
        "for i in range(Beginning_Page,Number_page):\n",
        "    Nbr_hits.append(NumberofHits(directory_urls[i]))\n",
        "    Nbr_hits.remove(None)\n",
        "len(Nbr_hits)\n",
        "\n",
        "# Everything it's quite the same at this point so I let it run"
      ],
      "metadata": {
        "colab": {
          "base_uri": "https://localhost:8080/"
        },
        "id": "jPBTEz-RSfuQ",
        "outputId": "bafcbcbc-edb9-43de-ee63-1fcbd4b8a78e"
      },
      "execution_count": 31,
      "outputs": [
        {
          "output_type": "execute_result",
          "data": {
            "text/plain": [
              "2000"
            ]
          },
          "metadata": {},
          "execution_count": 31
        }
      ]
    },
    {
      "cell_type": "markdown",
      "source": [
        "**Requiered Tags**"
      ],
      "metadata": {
        "id": "NP_9yAhoRTkE"
      }
    },
    {
      "cell_type": "code",
      "source": [
        "def tags_req(directory_url):\n",
        "  \n",
        "  dir_soup = download_and_soupify(directory_url)\n",
        "  for x in dir_soup.findAll(\"ul\",attrs={\"class\": \"required-tags\"}):  \n",
        "    text=x.get_text()\n",
        "    tags_requiered.append(str(text))\n",
        "\n",
        "# Same as usual"
      ],
      "metadata": {
        "id": "dcxumPHES_bg"
      },
      "execution_count": 32,
      "outputs": []
    },
    {
      "cell_type": "code",
      "source": [
        "tags_requiered = []\n",
        "for i in range(Beginning_Page,Number_page):\n",
        "    tags_requiered.append(tags_req(directory_urls[i]))\n",
        "    tags_requiered.remove(None)\n",
        "len(tags_requiered)"
      ],
      "metadata": {
        "colab": {
          "base_uri": "https://localhost:8080/"
        },
        "id": "s2TzhP4cTBvC",
        "outputId": "911363fb-29c2-4911-bce2-d7dc6c4fd394"
      },
      "execution_count": 33,
      "outputs": [
        {
          "output_type": "execute_result",
          "data": {
            "text/plain": [
              "2000"
            ]
          },
          "metadata": {},
          "execution_count": 33
        }
      ]
    },
    {
      "cell_type": "code",
      "source": [
        "tags_requiered_2 = tags_requiered\n",
        "for i in range(len(tags_requiered_2)):\n",
        "  tags_requiered_2[i] = tags_requiered_2[i].replace(\"\\n\",\"|\")\n",
        "tags_requiered_2\n",
        "\n",
        "# We just change the \\n by |\n",
        "# All requiered table are in one data\n",
        "# But like author and title we can divide it latter if needed"
      ],
      "metadata": {
        "id": "v6XWvQd1USTL",
        "colab": {
          "base_uri": "https://localhost:8080/"
        },
        "outputId": "f765a86c-ee5d-46e9-8a07-f70fae157a70"
      },
      "execution_count": 34,
      "outputs": [
        {
          "output_type": "execute_result",
          "data": {
            "text/plain": [
              "['| Explicit| Choose Not To Use Archive Warnings, No Archive Warnings Apply| M/M| Complete Work|',\n",
              " '| Explicit| Underage| M/M, Multi| Work in Progress|',\n",
              " '| Teen And Up Audiences| No Archive Warnings Apply| M/M| Work in Progress|',\n",
              " '| Explicit| No Archive Warnings Apply| F/F| Complete Work|',\n",
              " '| Explicit| Choose Not To Use Archive Warnings| F/M, M/M| Work in Progress|',\n",
              " '| Teen And Up Audiences| Graphic Depictions Of Violence| No category| Complete Work|',\n",
              " '| General Audiences| No Archive Warnings Apply| Gen, M/M| Complete Work|',\n",
              " '| General Audiences| No Archive Warnings Apply| M/M| Work in Progress|',\n",
              " '| Explicit| Choose Not To Use Archive Warnings| M/M| Complete Work|',\n",
              " '| Not Rated| No Archive Warnings Apply| F/F, M/M| Work in Progress|',\n",
              " '| Teen And Up Audiences| Choose Not To Use Archive Warnings| Gen, M/M| Work in Progress|',\n",
              " '| Teen And Up Audiences| No Archive Warnings Apply| M/M| Work in Progress|',\n",
              " '| Teen And Up Audiences| Graphic Depictions Of Violence| M/M| Work in Progress|',\n",
              " '| Mature| Graphic Depictions Of Violence, Major Character Death| F/M| Work in Progress|',\n",
              " '| Teen And Up Audiences| Choose Not To Use Archive Warnings| M/M, Multi, Other| Work in Progress|',\n",
              " '| Teen And Up Audiences| No Archive Warnings Apply| F/F, F/M, Gen, M/M, Multi, Other| Work in Progress|',\n",
              " '| Mature| Graphic Depictions Of Violence, Major Character Death| F/M| Complete Work|',\n",
              " '| Not Rated| No Archive Warnings Apply| Gen, Other| Complete Work|',\n",
              " '| Mature| No Archive Warnings Apply| M/M| Complete Work|',\n",
              " '| Teen And Up Audiences| No Archive Warnings Apply| M/M| Work in Progress|',\n",
              " '| Teen And Up Audiences| No Archive Warnings Apply| F/F, F/M, Multi| Complete Work|',\n",
              " '| Explicit| Graphic Depictions Of Violence| F/M, Multi, Gen| Work in Progress|',\n",
              " '| Explicit| No Archive Warnings Apply| M/M| Work in Progress|',\n",
              " '| Explicit| Choose Not To Use Archive Warnings| M/M| Work in Progress|',\n",
              " '| Teen And Up Audiences| Choose Not To Use Archive Warnings| F/M| Work in Progress|',\n",
              " '| Explicit| Choose Not To Use Archive Warnings| F/M| Work in Progress|',\n",
              " '| Not Rated| No Archive Warnings Apply| M/M| Work in Progress|',\n",
              " '| Not Rated| Choose Not To Use Archive Warnings| M/M, F/F, Multi| Work in Progress|',\n",
              " '| Explicit| No Archive Warnings Apply| M/M| Complete Work|',\n",
              " '| Mature| Graphic Depictions Of Violence| F/F, F/M| Work in Progress|',\n",
              " '| Not Rated| Choose Not To Use Archive Warnings| F/F, M/M| Work in Progress|',\n",
              " '| Teen And Up Audiences| No Archive Warnings Apply| M/M| Complete Work|',\n",
              " '| Not Rated| Choose Not To Use Archive Warnings| F/M| Work in Progress|',\n",
              " '| General Audiences| No Archive Warnings Apply| F/M| Complete Work|',\n",
              " '| Not Rated| Graphic Depictions Of Violence| F/F, F/M, M/M| Work in Progress|',\n",
              " '| General Audiences| Choose Not To Use Archive Warnings| M/M| Work in Progress|',\n",
              " '| General Audiences| No Archive Warnings Apply| No category| Work in Progress|',\n",
              " '| Explicit| No Archive Warnings Apply| M/M| Complete Work|',\n",
              " '| Teen And Up Audiences| Graphic Depictions Of Violence| Gen| Work in Progress|',\n",
              " '| Not Rated| Choose Not To Use Archive Warnings| M/M, Other| Complete Work|',\n",
              " '| Explicit| No Archive Warnings Apply| F/M| Work in Progress|',\n",
              " '| Teen And Up Audiences| Choose Not To Use Archive Warnings| F/M, M/M| Complete Work|',\n",
              " '| General Audiences| No Archive Warnings Apply| M/M| Work in Progress|',\n",
              " '| Explicit| No Archive Warnings Apply| M/M, Multi| Complete Work|',\n",
              " '| Teen And Up Audiences| No Archive Warnings Apply| F/F, M/M, Multi| Complete Work|',\n",
              " '| Explicit| Choose Not To Use Archive Warnings| M/M| Work in Progress|',\n",
              " '| General Audiences| Choose Not To Use Archive Warnings| M/M| Complete Work|',\n",
              " '| Teen And Up Audiences| No Archive Warnings Apply| M/M| Complete Work|',\n",
              " '| Teen And Up Audiences| No Archive Warnings Apply| No category| Work in Progress|',\n",
              " '| Explicit| Choose Not To Use Archive Warnings| M/M| Work in Progress|',\n",
              " '| General Audiences| Choose Not To Use Archive Warnings| M/M| Work in Progress|',\n",
              " '| Explicit| No Archive Warnings Apply| M/M| Work in Progress|',\n",
              " '| Explicit| No Archive Warnings Apply| F/M| Complete Work|',\n",
              " '| Teen And Up Audiences| No Archive Warnings Apply| F/M| Work in Progress|',\n",
              " '| Mature| Graphic Depictions Of Violence, Major Character Death| F/M, Gen, M/M| Work in Progress|',\n",
              " '| Teen And Up Audiences| Choose Not To Use Archive Warnings| No category| Work in Progress|',\n",
              " '| Explicit| Choose Not To Use Archive Warnings| M/M| Complete Work|',\n",
              " '| Mature| Graphic Depictions Of Violence| F/F, F/M, M/M| Complete Work|',\n",
              " '| Not Rated| Graphic Depictions Of Violence, Major Character Death| Gen, M/M| Complete Work|',\n",
              " '| Not Rated| Choose Not To Use Archive Warnings| M/M| Work in Progress|',\n",
              " '| General Audiences| Choose Not To Use Archive Warnings| No category| Work in Progress|',\n",
              " '| Teen And Up Audiences| No Archive Warnings Apply| Multi| Work in Progress|',\n",
              " '| Teen And Up Audiences| No Archive Warnings Apply| M/M| Complete Work|',\n",
              " '| Mature| No Archive Warnings Apply| F/M| Complete Work|',\n",
              " '| Explicit| Graphic Depictions Of Violence| M/M| Work in Progress|',\n",
              " '| Not Rated| No Archive Warnings Apply| F/M| Work in Progress|',\n",
              " '| Explicit| Choose Not To Use Archive Warnings, No Archive Warnings Apply| F/M, M/M, Multi| Work in Progress|',\n",
              " '| Explicit| Graphic Depictions Of Violence| F/F, M/M| Work in Progress|',\n",
              " '| Not Rated| No Archive Warnings Apply| M/M| Work in Progress|',\n",
              " '| Not Rated| Choose Not To Use Archive Warnings| F/F| Work in Progress|',\n",
              " '| Teen And Up Audiences| No Archive Warnings Apply| M/M| Work in Progress|',\n",
              " '| Teen And Up Audiences| Major Character Death| M/M| Work in Progress|',\n",
              " '| General Audiences| No Archive Warnings Apply| F/F| Complete Work|',\n",
              " '| Not Rated| Choose Not To Use Archive Warnings| M/M, Multi| Work in Progress|',\n",
              " '| Teen And Up Audiences| Choose Not To Use Archive Warnings| Gen| Complete Work|',\n",
              " '| Teen And Up Audiences| Choose Not To Use Archive Warnings| Multi| Work in Progress|',\n",
              " '| Not Rated| Graphic Depictions Of Violence, No Archive Warnings Apply| F/M| Work in Progress|',\n",
              " '| Explicit| Choose Not To Use Archive Warnings| M/M| Work in Progress|',\n",
              " '| Teen And Up Audiences| No Archive Warnings Apply| F/M, M/M| Complete Work|',\n",
              " '| Explicit| No Archive Warnings Apply| M/M| Work in Progress|',\n",
              " '| General Audiences| No Archive Warnings Apply| F/F, F/M, Gen, M/M| Complete Work|',\n",
              " '| Teen And Up Audiences| No Archive Warnings Apply| Multi| Complete Work|',\n",
              " '| Explicit| Graphic Depictions Of Violence| M/M| Work in Progress|',\n",
              " '| Not Rated| Choose Not To Use Archive Warnings, No Archive Warnings Apply| F/F| Work in Progress|',\n",
              " '| General Audiences| No Archive Warnings Apply| M/M| Complete Work|',\n",
              " '| Mature| No Archive Warnings Apply| F/M| Complete Work|',\n",
              " '| Mature| No Archive Warnings Apply| M/M| Work in Progress|',\n",
              " '| Not Rated| Major Character Death| No category| Complete Work|',\n",
              " '| General Audiences| Choose Not To Use Archive Warnings| M/M| Complete Work|',\n",
              " '| Explicit| Choose Not To Use Archive Warnings| M/M| Work in Progress|',\n",
              " '| Teen And Up Audiences| Choose Not To Use Archive Warnings| M/M| Work in Progress|',\n",
              " '| General Audiences| Graphic Depictions Of Violence| No category| Work in Progress|',\n",
              " '| Explicit| No Archive Warnings Apply| M/M| Work in Progress|',\n",
              " '| Teen And Up Audiences| Graphic Depictions Of Violence| M/M| Complete Work|',\n",
              " '| Teen And Up Audiences| No Archive Warnings Apply| F/M| Work in Progress|',\n",
              " '| Mature| Rape/Non-Con| M/M| Work in Progress|',\n",
              " '| Teen And Up Audiences| No Archive Warnings Apply| M/M| Complete Work|',\n",
              " '| Mature| No Archive Warnings Apply| M/M| Work in Progress|',\n",
              " '| Teen And Up Audiences| Choose Not To Use Archive Warnings| Gen| Work in Progress|',\n",
              " '| Not Rated| No Archive Warnings Apply| Multi| Work in Progress|',\n",
              " '| Not Rated| No Archive Warnings Apply| Multi| Work in Progress|',\n",
              " '| Mature| No Archive Warnings Apply| M/M| Complete Work|',\n",
              " '| Mature| No Archive Warnings Apply| M/M| Work in Progress|',\n",
              " '| Not Rated| Choose Not To Use Archive Warnings| No category| Work in Progress|',\n",
              " '| Not Rated| Choose Not To Use Archive Warnings, Graphic Depictions Of Violence| F/M, Gen, M/M| Work in Progress|',\n",
              " '| Teen And Up Audiences| Choose Not To Use Archive Warnings| F/F, F/M| Work in Progress|',\n",
              " '| Not Rated| No Archive Warnings Apply| No category| Complete Work|',\n",
              " '| Explicit| No Archive Warnings Apply| M/M| Complete Work|',\n",
              " '| General Audiences| Choose Not To Use Archive Warnings| Gen| Complete Work|',\n",
              " '| Explicit| No Archive Warnings Apply| M/M| Work in Progress|',\n",
              " '| Teen And Up Audiences| Choose Not To Use Archive Warnings| M/M| Work in Progress|',\n",
              " '| Not Rated| No Archive Warnings Apply| F/F, F/M, M/M, Multi| Work in Progress|',\n",
              " '| Teen And Up Audiences| Choose Not To Use Archive Warnings| F/M| Work in Progress|',\n",
              " '| General Audiences| No Archive Warnings Apply| M/M| Complete Work|',\n",
              " '| Explicit| No Archive Warnings Apply| F/M| Complete Work|',\n",
              " '| Mature| Graphic Depictions Of Violence| F/M| Work in Progress|',\n",
              " '| Explicit| Graphic Depictions Of Violence| M/M| Work in Progress|',\n",
              " '| Explicit| No Archive Warnings Apply| F/M| Work in Progress|',\n",
              " '| Explicit| No Archive Warnings Apply| F/M| Work in Progress|',\n",
              " '| General Audiences| No Archive Warnings Apply| F/F, F/M, M/M| Work in Progress|',\n",
              " '| Teen And Up Audiences| No Archive Warnings Apply| M/M| Work in Progress|',\n",
              " '| Explicit| Underage| M/M| Complete Work|',\n",
              " '| Mature| Rape/Non-Con| Gen| Complete Work|',\n",
              " '| General Audiences| No Archive Warnings Apply| M/M| Complete Work|',\n",
              " '| General Audiences| No Archive Warnings Apply| M/M| Complete Work|',\n",
              " '| Teen And Up Audiences| Choose Not To Use Archive Warnings| M/M| Complete Work|',\n",
              " '| Explicit| No Archive Warnings Apply| M/M| Complete Work|',\n",
              " '| Not Rated| No Archive Warnings Apply| M/M| Work in Progress|',\n",
              " '| Not Rated| Rape/Non-Con| F/M| Complete Work|',\n",
              " '| General Audiences| Choose Not To Use Archive Warnings| Gen, M/M| Complete Work|',\n",
              " '| General Audiences| No Archive Warnings Apply| M/M| Complete Work|',\n",
              " '| Mature| Graphic Depictions Of Violence, No Archive Warnings Apply| F/M| Work in Progress|',\n",
              " '| Teen And Up Audiences| Choose Not To Use Archive Warnings| M/M, Multi| Work in Progress|',\n",
              " '| Mature| No Archive Warnings Apply| M/M| Complete Work|',\n",
              " '| Mature| No Archive Warnings Apply| Gen| Complete Work|',\n",
              " '| Mature| Choose Not To Use Archive Warnings| F/F, M/M, Multi| Complete Work|',\n",
              " '| Teen And Up Audiences| Choose Not To Use Archive Warnings| M/M| Complete Work|',\n",
              " '| Mature| Choose Not To Use Archive Warnings| F/M| Work in Progress|',\n",
              " '| Mature| Graphic Depictions Of Violence, Major Character Death| F/F, F/M, Gen, M/M| Work in Progress|',\n",
              " '| Teen And Up Audiences| Choose Not To Use Archive Warnings| M/M| Work in Progress|',\n",
              " '| Explicit| No Archive Warnings Apply| F/M| Complete Work|',\n",
              " '| Mature| Graphic Depictions Of Violence| F/M| Complete Work|',\n",
              " '| Teen And Up Audiences| No Archive Warnings Apply| M/M| Complete Work|',\n",
              " '| Explicit| No Archive Warnings Apply| M/M, Multi| Complete Work|',\n",
              " '| Mature| No Archive Warnings Apply| F/M| Complete Work|',\n",
              " '| Mature| Graphic Depictions Of Violence| F/F| Work in Progress|',\n",
              " '| Mature| Graphic Depictions Of Violence, Major Character Death| M/M| Work in Progress|',\n",
              " '| Mature| No Archive Warnings Apply| M/M| Complete Work|',\n",
              " '| Teen And Up Audiences| No Archive Warnings Apply| M/M| Work in Progress|',\n",
              " '| Not Rated| No Archive Warnings Apply| F/M| Complete Work|',\n",
              " '| Teen And Up Audiences| Choose Not To Use Archive Warnings| F/M, Gen| Work in Progress|',\n",
              " '| Not Rated| Choose Not To Use Archive Warnings, No Archive Warnings Apply| F/F, F/M, M/M, Multi| Work in Progress|',\n",
              " '| Explicit| No Archive Warnings Apply| F/F, M/M| Complete Work|',\n",
              " '| Explicit| No Archive Warnings Apply| M/M| Complete Work|',\n",
              " '| Not Rated| Choose Not To Use Archive Warnings| F/M| Work in Progress|',\n",
              " '| General Audiences| No Archive Warnings Apply| M/M| Work in Progress|',\n",
              " '| Mature| Choose Not To Use Archive Warnings| F/F, F/M, M/M| Work in Progress|',\n",
              " '| Explicit| Graphic Depictions Of Violence| F/F, M/M| Work in Progress|',\n",
              " '| Explicit| No Archive Warnings Apply| M/M| Complete Work|',\n",
              " '| Not Rated| Graphic Depictions Of Violence| M/M| Work in Progress|',\n",
              " '| Teen And Up Audiences| Choose Not To Use Archive Warnings| M/M| Work in Progress|',\n",
              " '| Explicit| Choose Not To Use Archive Warnings| M/M| Work in Progress|',\n",
              " '| Mature| Graphic Depictions Of Violence, Major Character Death| Multi| Work in Progress|',\n",
              " '| Mature| Graphic Depictions Of Violence, Major Character Death, Rape/Non-Con| F/M| Work in Progress|',\n",
              " '| Explicit| No Archive Warnings Apply| F/M| Work in Progress|',\n",
              " '| Teen And Up Audiences| Choose Not To Use Archive Warnings| M/M| Work in Progress|',\n",
              " '| Not Rated| Choose Not To Use Archive Warnings| F/F, M/M| Work in Progress|',\n",
              " '| Not Rated| Graphic Depictions Of Violence| M/M| Work in Progress|',\n",
              " '| Teen And Up Audiences| No Archive Warnings Apply| F/M| Complete Work|',\n",
              " '| General Audiences| Choose Not To Use Archive Warnings| M/M| Complete Work|',\n",
              " '| Teen And Up Audiences| Choose Not To Use Archive Warnings| M/M| Work in Progress|',\n",
              " '| General Audiences| Choose Not To Use Archive Warnings, Graphic Depictions Of Violence, No Archive Warnings Apply| Other| Work in Progress|',\n",
              " '| Teen And Up Audiences| No Archive Warnings Apply| Gen| Complete Work|',\n",
              " '| Teen And Up Audiences| No Archive Warnings Apply| Gen, M/M| Complete Work|',\n",
              " '| Explicit| No Archive Warnings Apply| M/M| Work in Progress|',\n",
              " '| Explicit| Graphic Depictions Of Violence| F/M| Work in Progress|',\n",
              " '| Explicit| Choose Not To Use Archive Warnings, No Archive Warnings Apply| F/M| Work in Progress|',\n",
              " '| Explicit| Graphic Depictions Of Violence| F/F, M/M| Complete Work|',\n",
              " '| Explicit| Graphic Depictions Of Violence| F/M| Work in Progress|',\n",
              " '| General Audiences| Choose Not To Use Archive Warnings| No category| Work in Progress|',\n",
              " '| Teen And Up Audiences| No Archive Warnings Apply| M/M| Work in Progress|',\n",
              " '| Explicit| Choose Not To Use Archive Warnings| M/M| Complete Work|',\n",
              " '| Teen And Up Audiences| No Archive Warnings Apply| M/M| Complete Work|',\n",
              " '| Not Rated| Choose Not To Use Archive Warnings| M/M| Work in Progress|',\n",
              " '| Not Rated| Graphic Depictions Of Violence, Rape/Non-Con, Underage| F/M| Work in Progress|',\n",
              " '| Mature| No Archive Warnings Apply| M/M| Work in Progress|',\n",
              " '| Explicit| No Archive Warnings Apply| F/M, M/M, Multi| Work in Progress|',\n",
              " '| Not Rated| Choose Not To Use Archive Warnings| F/M, M/M| Complete Work|',\n",
              " '| Explicit| Graphic Depictions Of Violence| F/M| Complete Work|',\n",
              " '| Explicit| No Archive Warnings Apply| F/F| Complete Work|',\n",
              " '| General Audiences| No Archive Warnings Apply| F/M| Complete Work|',\n",
              " '| Explicit| No Archive Warnings Apply| M/M| Complete Work|',\n",
              " '| Not Rated| Choose Not To Use Archive Warnings| No category| Complete Work|',\n",
              " '| General Audiences| Choose Not To Use Archive Warnings| F/M, M/M| Work in Progress|',\n",
              " '| Teen And Up Audiences| Choose Not To Use Archive Warnings| F/M| Work in Progress|',\n",
              " '| Mature| No Archive Warnings Apply| F/M| Work in Progress|',\n",
              " '| Mature| No Archive Warnings Apply| M/M| Work in Progress|',\n",
              " '| Explicit| Choose Not To Use Archive Warnings, Graphic Depictions Of Violence, Rape/Non-Con, Major Character Death| No category| Work in Progress|',\n",
              " '| Explicit| Choose Not To Use Archive Warnings| M/M, Other| Work in Progress|',\n",
              " '| General Audiences| No Archive Warnings Apply| M/M| Work in Progress|',\n",
              " '| Not Rated| Choose Not To Use Archive Warnings| F/F| Work in Progress|',\n",
              " '| Explicit| No Archive Warnings Apply| M/M| Work in Progress|',\n",
              " '| Mature| No Archive Warnings Apply| Gen| Work in Progress|',\n",
              " '| Explicit| No Archive Warnings Apply| M/M| Work in Progress|',\n",
              " '| Teen And Up Audiences| Choose Not To Use Archive Warnings| M/M| Complete Work|',\n",
              " '| Explicit| No Archive Warnings Apply| M/M| Work in Progress|',\n",
              " '| Explicit| No Archive Warnings Apply| Other| Work in Progress|',\n",
              " '| Mature| Underage| M/M| Work in Progress|',\n",
              " '| Mature| No Archive Warnings Apply| F/M| Complete Work|',\n",
              " '| Mature| Choose Not To Use Archive Warnings| M/M| Work in Progress|',\n",
              " '| Explicit| No Archive Warnings Apply| F/M| Work in Progress|',\n",
              " '| Mature| Choose Not To Use Archive Warnings, Graphic Depictions Of Violence| F/F, F/M, M/M, Other| Work in Progress|',\n",
              " '| Explicit| No Archive Warnings Apply| M/M| Complete Work|',\n",
              " '| Mature| Choose Not To Use Archive Warnings| M/M| Work in Progress|',\n",
              " '| Mature| Graphic Depictions Of Violence| M/M| Work in Progress|',\n",
              " '| Explicit| No Archive Warnings Apply| F/M| Complete Work|',\n",
              " '| Teen And Up Audiences| Choose Not To Use Archive Warnings| M/M| Work in Progress|',\n",
              " '| Not Rated| Choose Not To Use Archive Warnings| F/F, F/M, M/M, Multi, Other| Work in Progress|',\n",
              " '| General Audiences| Major Character Death| F/F, Other| Complete Work|',\n",
              " '| Teen And Up Audiences| No Archive Warnings Apply| F/F, F/M, M/M| Work in Progress|',\n",
              " '| Explicit| No Archive Warnings Apply| M/M| Work in Progress|',\n",
              " '| Mature| Graphic Depictions Of Violence, No Archive Warnings Apply, Underage| F/F, F/M| Work in Progress|',\n",
              " '| Teen And Up Audiences| Choose Not To Use Archive Warnings| M/M| Work in Progress|',\n",
              " '| Mature| No Archive Warnings Apply| F/F, F/M, M/M| Work in Progress|',\n",
              " '| Teen And Up Audiences| Graphic Depictions Of Violence| M/M| Work in Progress|',\n",
              " '| Explicit| Choose Not To Use Archive Warnings| F/M| Work in Progress|',\n",
              " '| Mature| No Archive Warnings Apply| F/M| Complete Work|',\n",
              " '| Mature| No Archive Warnings Apply| M/M| Work in Progress|',\n",
              " '| Teen And Up Audiences| Graphic Depictions Of Violence| Gen, M/M| Complete Work|',\n",
              " '| Explicit| No Archive Warnings Apply| M/M| Complete Work|',\n",
              " '| Explicit| Choose Not To Use Archive Warnings| M/M| Complete Work|',\n",
              " '| Explicit| No Archive Warnings Apply| M/M| Work in Progress|',\n",
              " '| Not Rated| Choose Not To Use Archive Warnings, No Archive Warnings Apply| F/F, F/M, M/M| Complete Work|',\n",
              " '| Mature| Choose Not To Use Archive Warnings| M/M| Work in Progress|',\n",
              " '| Not Rated| No Archive Warnings Apply| M/M| Work in Progress|',\n",
              " '| Teen And Up Audiences| No Archive Warnings Apply| F/M| Work in Progress|',\n",
              " '| Mature| No Archive Warnings Apply| M/M| Work in Progress|',\n",
              " '| Mature| No Archive Warnings Apply| M/M| Complete Work|',\n",
              " '| Mature| No Archive Warnings Apply| F/M| Work in Progress|',\n",
              " '| Mature| Choose Not To Use Archive Warnings| M/M| Work in Progress|',\n",
              " '| Not Rated| Choose Not To Use Archive Warnings| M/M, Multi| Work in Progress|',\n",
              " '| Mature| Graphic Depictions Of Violence| F/M| Work in Progress|',\n",
              " '| Teen And Up Audiences| No Archive Warnings Apply| F/M, M/M| Complete Work|',\n",
              " '| Teen And Up Audiences| No Archive Warnings Apply| No category| Work in Progress|',\n",
              " '| Teen And Up Audiences| No Archive Warnings Apply| Gen| Complete Work|',\n",
              " '| Mature| Major Character Death| M/M| Work in Progress|',\n",
              " '| Not Rated| No Archive Warnings Apply, Underage| M/M, Multi| Work in Progress|',\n",
              " '| Mature| No Archive Warnings Apply| F/M| Work in Progress|',\n",
              " '| General Audiences| No Archive Warnings Apply| M/M| Work in Progress|',\n",
              " '| Explicit| Graphic Depictions Of Violence| F/F, F/M, M/M, Multi| Work in Progress|',\n",
              " '| General Audiences| No Archive Warnings Apply| Gen| Complete Work|',\n",
              " '| Explicit| Graphic Depictions Of Violence| M/M| Work in Progress|',\n",
              " '| Teen And Up Audiences| No Archive Warnings Apply| Multi| Complete Work|',\n",
              " '| Not Rated| No Archive Warnings Apply| F/F| Work in Progress|',\n",
              " '| Teen And Up Audiences| No Archive Warnings Apply| F/F| Complete Work|',\n",
              " '| Explicit| Choose Not To Use Archive Warnings| M/M| Complete Work|',\n",
              " '| General Audiences| No Archive Warnings Apply| Gen| Complete Work|',\n",
              " '| Explicit| Choose Not To Use Archive Warnings| M/M| Work in Progress|',\n",
              " '| General Audiences| No Archive Warnings Apply| Gen| Complete Work|',\n",
              " '| Teen And Up Audiences| Choose Not To Use Archive Warnings| M/M| Complete Work|',\n",
              " '| Mature| No Archive Warnings Apply| M/M| Complete Work|',\n",
              " '| Not Rated| Choose Not To Use Archive Warnings| F/F, F/M, M/M| Work in Progress|',\n",
              " '| Mature| Choose Not To Use Archive Warnings, No Archive Warnings Apply| M/M| Complete Work|',\n",
              " '| Teen And Up Audiences| No Archive Warnings Apply| M/M| Complete Work|',\n",
              " '| Explicit| Choose Not To Use Archive Warnings, Graphic Depictions Of Violence, Major Character Death| M/M| Work in Progress|',\n",
              " '| Teen And Up Audiences| Choose Not To Use Archive Warnings| M/M| Complete Work|',\n",
              " '| Not Rated| Choose Not To Use Archive Warnings| F/M, M/M, Multi| Work in Progress|',\n",
              " '| Explicit| No Archive Warnings Apply| M/M| Complete Work|',\n",
              " '| General Audiences| Choose Not To Use Archive Warnings| M/M, Multi| Work in Progress|',\n",
              " '| Teen And Up Audiences| Choose Not To Use Archive Warnings| M/M| Work in Progress|',\n",
              " '| Not Rated| No Archive Warnings Apply| F/M| Complete Work|',\n",
              " '| Explicit| No Archive Warnings Apply| F/F, M/M, Multi| Work in Progress|',\n",
              " '| Explicit| Graphic Depictions Of Violence| No category| Work in Progress|',\n",
              " '| General Audiences| No Archive Warnings Apply| M/M| Complete Work|',\n",
              " '| General Audiences| No Archive Warnings Apply| M/M| Complete Work|',\n",
              " '| Not Rated| Choose Not To Use Archive Warnings| M/M| Complete Work|',\n",
              " '| Teen And Up Audiences| No Archive Warnings Apply| Gen| Work in Progress|',\n",
              " '| Teen And Up Audiences| No Archive Warnings Apply| No category| Complete Work|',\n",
              " '| Teen And Up Audiences| Choose Not To Use Archive Warnings| F/M| Complete Work|',\n",
              " '| Not Rated| Choose Not To Use Archive Warnings| M/M| Complete Work|',\n",
              " '| Teen And Up Audiences| No Archive Warnings Apply| No category| Work in Progress|',\n",
              " '| Teen And Up Audiences| Graphic Depictions Of Violence| Gen, M/M| Complete Work|',\n",
              " '| Mature| No Archive Warnings Apply| M/M| Complete Work|',\n",
              " '| Explicit| Choose Not To Use Archive Warnings| M/M| Work in Progress|',\n",
              " '| Explicit| Choose Not To Use Archive Warnings| F/F, F/M, M/M| Work in Progress|',\n",
              " '| Mature| Choose Not To Use Archive Warnings| F/F, F/M, Gen, M/M| Work in Progress|',\n",
              " '| Not Rated| Choose Not To Use Archive Warnings, Graphic Depictions Of Violence| F/F, F/M, M/M| Work in Progress|',\n",
              " '| Teen And Up Audiences| No Archive Warnings Apply| M/M| Complete Work|',\n",
              " '| Mature| No Archive Warnings Apply| F/M| Work in Progress|',\n",
              " '| Teen And Up Audiences| No Archive Warnings Apply| F/M, Gen, F/F, M/M| Work in Progress|',\n",
              " '| Explicit| Graphic Depictions Of Violence, Rape/Non-Con| M/M| Work in Progress|',\n",
              " '| Explicit| No Archive Warnings Apply| F/F, F/M, M/M, Multi| Work in Progress|',\n",
              " '| Explicit| Underage| M/M| Work in Progress|',\n",
              " '| Mature| Choose Not To Use Archive Warnings| F/F| Work in Progress|',\n",
              " '| Explicit| No Archive Warnings Apply| M/M| Complete Work|',\n",
              " '| Not Rated| No Archive Warnings Apply| M/M| Work in Progress|',\n",
              " '| Explicit| No Archive Warnings Apply| M/M| Complete Work|',\n",
              " '| Not Rated| No Archive Warnings Apply| M/M| Complete Work|',\n",
              " '| Not Rated| Choose Not To Use Archive Warnings| F/F| Work in Progress|',\n",
              " '| Teen And Up Audiences| Choose Not To Use Archive Warnings| M/M| Complete Work|',\n",
              " '| Mature| No Archive Warnings Apply| M/M| Work in Progress|',\n",
              " '| Teen And Up Audiences| No Archive Warnings Apply| M/M| Work in Progress|',\n",
              " '| Teen And Up Audiences| No Archive Warnings Apply| F/M, M/M| Work in Progress|',\n",
              " '| Not Rated| No Archive Warnings Apply, Choose Not To Use Archive Warnings| M/M| Work in Progress|',\n",
              " '| Mature| Graphic Depictions Of Violence| M/M| Work in Progress|',\n",
              " '| Explicit| No Archive Warnings Apply| F/M| Work in Progress|',\n",
              " '| Teen And Up Audiences| Major Character Death| F/F, F/M| Work in Progress|',\n",
              " '| Teen And Up Audiences| Choose Not To Use Archive Warnings| M/M| Work in Progress|',\n",
              " '| Not Rated| Graphic Depictions Of Violence| M/M| Work in Progress|',\n",
              " '| Explicit| Choose Not To Use Archive Warnings| F/M| Complete Work|',\n",
              " '| Teen And Up Audiences| Choose Not To Use Archive Warnings| Gen, M/M| Work in Progress|',\n",
              " '| Teen And Up Audiences| Choose Not To Use Archive Warnings| M/M| Complete Work|',\n",
              " '| Teen And Up Audiences| No Archive Warnings Apply| M/M| Work in Progress|',\n",
              " '| Teen And Up Audiences| No Archive Warnings Apply| F/M| Complete Work|',\n",
              " '| Mature| No Archive Warnings Apply| M/M| Complete Work|',\n",
              " '| Mature| Graphic Depictions Of Violence| F/F, F/M, M/M| Work in Progress|',\n",
              " '| Teen And Up Audiences| No Archive Warnings Apply| M/M| Complete Work|',\n",
              " '| Teen And Up Audiences| Choose Not To Use Archive Warnings| F/F| Work in Progress|',\n",
              " '| General Audiences| Choose Not To Use Archive Warnings| M/M| Complete Work|',\n",
              " '| Explicit| No Archive Warnings Apply| F/M| Work in Progress|',\n",
              " '| Teen And Up Audiences| No Archive Warnings Apply| M/M| Work in Progress|',\n",
              " '| Explicit| No Archive Warnings Apply| M/M| Complete Work|',\n",
              " '| Teen And Up Audiences| Choose Not To Use Archive Warnings, No Archive Warnings Apply| Other| Work in Progress|',\n",
              " '| General Audiences| Choose Not To Use Archive Warnings| F/M| Complete Work|',\n",
              " '| Explicit| No Archive Warnings Apply| M/M| Work in Progress|',\n",
              " '| General Audiences| Choose Not To Use Archive Warnings| M/M| Complete Work|',\n",
              " '| Not Rated| Choose Not To Use Archive Warnings| No category| Complete Work|',\n",
              " '| Teen And Up Audiences| Choose Not To Use Archive Warnings| M/M| Complete Work|',\n",
              " '| Not Rated| No Archive Warnings Apply| M/M| Work in Progress|',\n",
              " '| Not Rated| Choose Not To Use Archive Warnings| M/M| Complete Work|',\n",
              " '| Mature| Graphic Depictions Of Violence| M/M| Work in Progress|',\n",
              " '| General Audiences| No Archive Warnings Apply| M/M| Work in Progress|',\n",
              " '| Mature| Graphic Depictions Of Violence, Major Character Death| F/F, F/M, M/M| Work in Progress|',\n",
              " '| Not Rated| No Archive Warnings Apply| M/M| Work in Progress|',\n",
              " '| Teen And Up Audiences| No Archive Warnings Apply| M/M| Work in Progress|',\n",
              " '| Mature| Choose Not To Use Archive Warnings| M/M| Complete Work|',\n",
              " '| Explicit| Choose Not To Use Archive Warnings| M/M| Work in Progress|',\n",
              " '| Explicit| No Archive Warnings Apply| M/M| Work in Progress|',\n",
              " '| Teen And Up Audiences| No Archive Warnings Apply| M/M| Work in Progress|',\n",
              " '| Teen And Up Audiences| Graphic Depictions Of Violence, Major Character Death| F/M| Complete Work|',\n",
              " '| Not Rated| Choose Not To Use Archive Warnings, No Archive Warnings Apply| F/F, F/M, Gen, M/M| Work in Progress|',\n",
              " '| Mature| No Archive Warnings Apply| F/M, F/F| Work in Progress|',\n",
              " '| Teen And Up Audiences| No Archive Warnings Apply| F/F, M/M| Work in Progress|',\n",
              " '| Explicit| Choose Not To Use Archive Warnings| M/M, Other| Work in Progress|',\n",
              " '| Not Rated| No Archive Warnings Apply| M/M| Complete Work|',\n",
              " '| Explicit| No Archive Warnings Apply| F/M| Complete Work|',\n",
              " '| Explicit| Choose Not To Use Archive Warnings| F/M| Work in Progress|',\n",
              " '| Teen And Up Audiences| No Archive Warnings Apply| F/M, Gen, M/M| Complete Work|',\n",
              " '| Teen And Up Audiences| Major Character Death| M/M| Complete Work|',\n",
              " '| Mature| Graphic Depictions Of Violence, Major Character Death| M/M| Work in Progress|',\n",
              " '| Explicit| No Archive Warnings Apply| M/M| Complete Work|',\n",
              " '| Teen And Up Audiences| No Archive Warnings Apply| M/M| Work in Progress|',\n",
              " '| Teen And Up Audiences| Major Character Death| F/F, Gen| Work in Progress|',\n",
              " '| Not Rated| No Archive Warnings Apply| M/M| Work in Progress|',\n",
              " '| Teen And Up Audiences| Graphic Depictions Of Violence| F/F, F/M, M/M| Work in Progress|',\n",
              " '| Mature| Choose Not To Use Archive Warnings| M/M| Work in Progress|',\n",
              " '| Mature| No Archive Warnings Apply| M/M| Work in Progress|',\n",
              " '| Mature| Graphic Depictions Of Violence| F/M| Work in Progress|',\n",
              " '| General Audiences| Choose Not To Use Archive Warnings| M/M| Complete Work|',\n",
              " '| Explicit| Graphic Depictions Of Violence| F/F, F/M| Work in Progress|',\n",
              " '| Mature| No Archive Warnings Apply| F/F, F/M, M/M, Multi| Work in Progress|',\n",
              " '| Explicit| No Archive Warnings Apply| Multi| Complete Work|',\n",
              " '| Explicit| Graphic Depictions Of Violence| Multi| Work in Progress|',\n",
              " '| Explicit| No Archive Warnings Apply| F/F| Complete Work|',\n",
              " '| Explicit| Choose Not To Use Archive Warnings| M/M| Complete Work|',\n",
              " '| Teen And Up Audiences| No Archive Warnings Apply| M/M| Work in Progress|',\n",
              " '| Not Rated| Choose Not To Use Archive Warnings| M/M| Work in Progress|',\n",
              " '| Explicit| No Archive Warnings Apply| M/M| Complete Work|',\n",
              " '| Mature| Choose Not To Use Archive Warnings| M/M| Work in Progress|',\n",
              " '| Explicit| Graphic Depictions Of Violence| F/F, M/M| Work in Progress|',\n",
              " '| Mature| Graphic Depictions Of Violence| M/M| Work in Progress|',\n",
              " '| Teen And Up Audiences| No Archive Warnings Apply| Other| Work in Progress|',\n",
              " '| Teen And Up Audiences| No Archive Warnings Apply| M/M| Complete Work|',\n",
              " '| Explicit| No Archive Warnings Apply| F/F| Complete Work|',\n",
              " '| Teen And Up Audiences| Graphic Depictions Of Violence| F/M| Work in Progress|',\n",
              " '| General Audiences| Choose Not To Use Archive Warnings| Gen| Work in Progress|',\n",
              " '| Mature| Choose Not To Use Archive Warnings| M/M| Work in Progress|',\n",
              " '| Mature| No Archive Warnings Apply| M/M| Work in Progress|',\n",
              " '| Teen And Up Audiences| No Archive Warnings Apply| F/M, Multi| Work in Progress|',\n",
              " '| Not Rated| No Archive Warnings Apply| No category| Complete Work|',\n",
              " '| Teen And Up Audiences| No Archive Warnings Apply| F/M, Gen| Complete Work|',\n",
              " '| Teen And Up Audiences| No Archive Warnings Apply| M/M| Complete Work|',\n",
              " '| Mature| Choose Not To Use Archive Warnings| F/M| Work in Progress|',\n",
              " '| Explicit| Choose Not To Use Archive Warnings, No Archive Warnings Apply| F/M| Work in Progress|',\n",
              " '| Explicit| Graphic Depictions Of Violence, Major Character Death| M/M| Work in Progress|',\n",
              " '| Explicit| No Archive Warnings Apply| F/F| Complete Work|',\n",
              " '| Not Rated| Choose Not To Use Archive Warnings| M/M| Work in Progress|',\n",
              " '| General Audiences| Choose Not To Use Archive Warnings| M/M| Complete Work|',\n",
              " '| Teen And Up Audiences| No Archive Warnings Apply| F/M| Complete Work|',\n",
              " '| Teen And Up Audiences| No Archive Warnings Apply| M/M| Complete Work|',\n",
              " '| General Audiences| No Archive Warnings Apply| F/M| Work in Progress|',\n",
              " '| Explicit| Choose Not To Use Archive Warnings| M/M| Work in Progress|',\n",
              " '| General Audiences| No Archive Warnings Apply| Gen| Complete Work|',\n",
              " '| Teen And Up Audiences| No Archive Warnings Apply| F/F, M/M| Work in Progress|',\n",
              " '| Explicit| No Archive Warnings Apply| F/F| Complete Work|',\n",
              " '| Mature| Choose Not To Use Archive Warnings| F/F, F/M, M/M, Multi| Work in Progress|',\n",
              " '| Mature| No Archive Warnings Apply| F/F, F/M, M/M| Complete Work|',\n",
              " '| Explicit| No Archive Warnings Apply, Underage| F/F| Complete Work|',\n",
              " '| Mature| Choose Not To Use Archive Warnings| No category| Complete Work|',\n",
              " '| Explicit| No Archive Warnings Apply| M/M| Complete Work|',\n",
              " '| General Audiences| No Archive Warnings Apply| Gen| Complete Work|',\n",
              " '| General Audiences| Choose Not To Use Archive Warnings| F/M, M/M, Multi| Complete Work|',\n",
              " '| General Audiences| No Archive Warnings Apply| M/M| Complete Work|',\n",
              " '| Teen And Up Audiences| Choose Not To Use Archive Warnings| F/M| Work in Progress|',\n",
              " '| General Audiences| No Archive Warnings Apply| F/M| Complete Work|',\n",
              " '| Explicit| Choose Not To Use Archive Warnings| M/M| Work in Progress|',\n",
              " '| Not Rated| Choose Not To Use Archive Warnings| Multi| Work in Progress|',\n",
              " '| Mature| Graphic Depictions Of Violence, Major Character Death| Gen| Work in Progress|',\n",
              " '| Explicit| No Archive Warnings Apply| F/F, M/M| Work in Progress|',\n",
              " '| Mature| No Archive Warnings Apply| M/M| Work in Progress|',\n",
              " '| General Audiences| Choose Not To Use Archive Warnings| M/M| Work in Progress|',\n",
              " '| Teen And Up Audiences| Choose Not To Use Archive Warnings, No Archive Warnings Apply| Multi| Work in Progress|',\n",
              " '| Not Rated| Choose Not To Use Archive Warnings| M/M| Work in Progress|',\n",
              " '| Teen And Up Audiences| No Archive Warnings Apply| No category| Complete Work|',\n",
              " '| Mature| No Archive Warnings Apply| Gen, M/M| Work in Progress|',\n",
              " '| Explicit| Choose Not To Use Archive Warnings| M/M| Work in Progress|',\n",
              " '| Explicit| No Archive Warnings Apply| M/M| Complete Work|',\n",
              " '| General Audiences| No Archive Warnings Apply| No category| Complete Work|',\n",
              " '| Teen And Up Audiences| No Archive Warnings Apply| F/M| Work in Progress|',\n",
              " '| Explicit| Choose Not To Use Archive Warnings| M/M| Work in Progress|',\n",
              " '| Mature| Major Character Death, Graphic Depictions Of Violence| Gen| Work in Progress|',\n",
              " '| Not Rated| Choose Not To Use Archive Warnings| M/M| Work in Progress|',\n",
              " '| Mature| Choose Not To Use Archive Warnings| M/M| Work in Progress|',\n",
              " '| Explicit| Graphic Depictions Of Violence| M/M| Work in Progress|',\n",
              " '| Not Rated| Choose Not To Use Archive Warnings| M/M| Complete Work|',\n",
              " '| Not Rated| Choose Not To Use Archive Warnings, No Archive Warnings Apply| M/M| Complete Work|',\n",
              " '| Mature| No Archive Warnings Apply| Other| Complete Work|',\n",
              " '| Teen And Up Audiences| No Archive Warnings Apply| F/F, M/M| Work in Progress|',\n",
              " '| Explicit| No Archive Warnings Apply| M/M| Work in Progress|',\n",
              " '| Mature| No Archive Warnings Apply| F/M| Work in Progress|',\n",
              " '| Teen And Up Audiences| No Archive Warnings Apply| F/M| Work in Progress|',\n",
              " '| Mature| Choose Not To Use Archive Warnings| M/M| Work in Progress|',\n",
              " '| Teen And Up Audiences| Choose Not To Use Archive Warnings| F/F, M/M| Work in Progress|',\n",
              " '| Not Rated| No Archive Warnings Apply| M/M| Work in Progress|',\n",
              " '| Not Rated| Choose Not To Use Archive Warnings| F/M| Complete Work|',\n",
              " '| Teen And Up Audiences| Choose Not To Use Archive Warnings| F/M| Work in Progress|',\n",
              " '| Explicit| Choose Not To Use Archive Warnings| M/M| Work in Progress|',\n",
              " '| Mature| Choose Not To Use Archive Warnings, No Archive Warnings Apply, Underage| F/M| Complete Work|',\n",
              " '| Explicit| No Archive Warnings Apply| F/F| Complete Work|',\n",
              " '| General Audiences| No Archive Warnings Apply| M/M| Complete Work|',\n",
              " '| Explicit| Graphic Depictions Of Violence| M/M| Work in Progress|',\n",
              " '| Teen And Up Audiences| Major Character Death| F/M, M/M, Multi| Complete Work|',\n",
              " '| Explicit| Choose Not To Use Archive Warnings| F/M| Complete Work|',\n",
              " '| Not Rated| No Archive Warnings Apply| M/M| Work in Progress|',\n",
              " '| Teen And Up Audiences| No Archive Warnings Apply| Gen, F/F, F/M, M/M| Work in Progress|',\n",
              " '| Explicit| No Archive Warnings Apply| F/F| Complete Work|',\n",
              " '| Mature| No Archive Warnings Apply| M/M| Work in Progress|',\n",
              " '| Teen And Up Audiences| Choose Not To Use Archive Warnings| F/F, F/M, M/M| Work in Progress|',\n",
              " '| Explicit| Rape/Non-Con| Multi| Complete Work|',\n",
              " '| General Audiences| Choose Not To Use Archive Warnings| F/M, M/M| Work in Progress|',\n",
              " '| Explicit| No Archive Warnings Apply| M/M| Complete Work|',\n",
              " '| General Audiences| Major Character Death| No category| Complete Work|',\n",
              " '| Mature| Choose Not To Use Archive Warnings, No Archive Warnings Apply| M/M| Work in Progress|',\n",
              " '| Not Rated| Choose Not To Use Archive Warnings| F/M| Work in Progress|',\n",
              " '| Teen And Up Audiences| No Archive Warnings Apply| Gen| Complete Work|',\n",
              " '| Not Rated| Choose Not To Use Archive Warnings| M/M| Work in Progress|',\n",
              " '| Teen And Up Audiences| No Archive Warnings Apply| M/M| Work in Progress|',\n",
              " '| Mature| Choose Not To Use Archive Warnings| Multi, M/M| Work in Progress|',\n",
              " '| Teen And Up Audiences| Major Character Death| M/M, F/F| Work in Progress|',\n",
              " '| Teen And Up Audiences| Graphic Depictions Of Violence| Gen| Work in Progress|',\n",
              " '| Not Rated| Choose Not To Use Archive Warnings| M/M| Complete Work|',\n",
              " '| Teen And Up Audiences| Choose Not To Use Archive Warnings| F/F, M/M| Work in Progress|',\n",
              " '| Explicit| No Archive Warnings Apply| F/M| Work in Progress|',\n",
              " '| Explicit| Choose Not To Use Archive Warnings| M/M| Work in Progress|',\n",
              " '| Teen And Up Audiences| Choose Not To Use Archive Warnings| F/M, Gen, Other| Work in Progress|',\n",
              " '| Teen And Up Audiences| Choose Not To Use Archive Warnings| F/M, Gen| Work in Progress|',\n",
              " '| Explicit| No Archive Warnings Apply| F/M| Work in Progress|',\n",
              " '| Mature| Graphic Depictions Of Violence| M/M| Work in Progress|',\n",
              " '| Explicit| No Archive Warnings Apply| F/F| Complete Work|',\n",
              " '| Teen And Up Audiences| Graphic Depictions Of Violence| M/M| Work in Progress|',\n",
              " '| Teen And Up Audiences| No Archive Warnings Apply| M/M, Multi, Other| Work in Progress|',\n",
              " '| Mature| No Archive Warnings Apply| F/F, F/M| Work in Progress|',\n",
              " '| Explicit| Rape/Non-Con| F/M, M/M| Work in Progress|',\n",
              " '| Not Rated| Choose Not To Use Archive Warnings| F/F, F/M, M/M| Work in Progress|',\n",
              " '| Teen And Up Audiences| No Archive Warnings Apply| F/M| Complete Work|',\n",
              " '| Not Rated| Graphic Depictions Of Violence| F/F, F/M, Gen, M/M| Complete Work|',\n",
              " '| Mature| Choose Not To Use Archive Warnings| F/M| Complete Work|',\n",
              " '| Teen And Up Audiences| No Archive Warnings Apply| No category| Complete Work|',\n",
              " '| Explicit| Graphic Depictions Of Violence| F/M| Work in Progress|',\n",
              " '| Not Rated| Choose Not To Use Archive Warnings| M/M| Work in Progress|',\n",
              " '| Not Rated| Choose Not To Use Archive Warnings| M/M| Work in Progress|',\n",
              " '| Teen And Up Audiences| Choose Not To Use Archive Warnings| F/F, F/M, M/M| Work in Progress|',\n",
              " '| Mature| Choose Not To Use Archive Warnings| No category| Complete Work|',\n",
              " '| General Audiences| Choose Not To Use Archive Warnings| M/M| Complete Work|',\n",
              " '| Explicit| Choose Not To Use Archive Warnings, Graphic Depictions Of Violence, Rape/Non-Con| F/M| Work in Progress|',\n",
              " '| Teen And Up Audiences| Choose Not To Use Archive Warnings| M/M| Work in Progress|',\n",
              " '| Explicit| No Archive Warnings Apply| M/M| Complete Work|',\n",
              " '| Mature| No Archive Warnings Apply| M/M| Work in Progress|',\n",
              " '| Teen And Up Audiences| Choose Not To Use Archive Warnings| F/F, F/M, Gen, M/M, Multi, Other| Complete Work|',\n",
              " '| Explicit| Choose Not To Use Archive Warnings| M/M| Work in Progress|',\n",
              " '| Explicit| Choose Not To Use Archive Warnings| M/M| Work in Progress|',\n",
              " '| Not Rated| Choose Not To Use Archive Warnings| F/F| Work in Progress|',\n",
              " '| Teen And Up Audiences| Choose Not To Use Archive Warnings| F/M| Complete Work|',\n",
              " '| Explicit| No Archive Warnings Apply| M/M, Other| Work in Progress|',\n",
              " '| Explicit| Choose Not To Use Archive Warnings| F/M| Work in Progress|',\n",
              " '| Teen And Up Audiences| No Archive Warnings Apply| M/M, Multi, F/F| Work in Progress|',\n",
              " '| General Audiences| Choose Not To Use Archive Warnings| F/F, F/M, M/M, Multi| Complete Work|',\n",
              " '| Teen And Up Audiences| No Archive Warnings Apply| F/F, F/M, M/M, Multi| Work in Progress|',\n",
              " '| General Audiences| Underage| M/M| Work in Progress|',\n",
              " '| Mature| Graphic Depictions Of Violence| F/M| Work in Progress|',\n",
              " '| General Audiences| No Archive Warnings Apply| F/M| Work in Progress|',\n",
              " '| Mature| No Archive Warnings Apply| M/M| Work in Progress|',\n",
              " '| Teen And Up Audiences| Choose Not To Use Archive Warnings| M/M| Complete Work|',\n",
              " '| Explicit| Choose Not To Use Archive Warnings| F/F| Work in Progress|',\n",
              " '| Explicit| Choose Not To Use Archive Warnings| F/M| Work in Progress|',\n",
              " '| Explicit| No Archive Warnings Apply, Choose Not To Use Archive Warnings| M/M| Work in Progress|',\n",
              " '| Teen And Up Audiences| No Archive Warnings Apply| M/M| Complete Work|',\n",
              " '| Not Rated| Choose Not To Use Archive Warnings, No Archive Warnings Apply| F/F| Complete Work|',\n",
              " '| Teen And Up Audiences| No Archive Warnings Apply| F/M, M/M, Multi| Complete Work|',\n",
              " '| General Audiences| Choose Not To Use Archive Warnings| Gen| Complete Work|',\n",
              " '| Teen And Up Audiences| No Archive Warnings Apply| F/M| Complete Work|',\n",
              " '| Mature| Choose Not To Use Archive Warnings| F/M| Work in Progress|',\n",
              " '| Teen And Up Audiences| No Archive Warnings Apply| Gen| Work in Progress|',\n",
              " '| Explicit| Major Character Death| M/M| Work in Progress|',\n",
              " '| Mature| No Archive Warnings Apply| F/F| Work in Progress|',\n",
              " '| Mature| No Archive Warnings Apply| M/M| Work in Progress|',\n",
              " '| Not Rated| Major Character Death| F/F| Work in Progress|',\n",
              " '| Not Rated| No Archive Warnings Apply| M/M| Work in Progress|',\n",
              " '| Teen And Up Audiences| Choose Not To Use Archive Warnings| M/M| Work in Progress|',\n",
              " '| General Audiences| No Archive Warnings Apply| M/M| Complete Work|',\n",
              " '| Mature| No Archive Warnings Apply| M/M| Work in Progress|',\n",
              " '| Teen And Up Audiences| No Archive Warnings Apply| F/F, M/M| Work in Progress|',\n",
              " '| Teen And Up Audiences| No Archive Warnings Apply| F/F| Complete Work|',\n",
              " '| Explicit| No Archive Warnings Apply| F/F, Gen, M/M| Complete Work|',\n",
              " '| Teen And Up Audiences| No Archive Warnings Apply| F/F, F/M, M/M| Work in Progress|',\n",
              " '| Explicit| Choose Not To Use Archive Warnings| F/M| Work in Progress|',\n",
              " '| Teen And Up Audiences| Choose Not To Use Archive Warnings| F/M, M/M| Complete Work|',\n",
              " '| Teen And Up Audiences| No Archive Warnings Apply| Gen| Complete Work|',\n",
              " '| Mature| Major Character Death| M/M| Work in Progress|',\n",
              " '| Teen And Up Audiences| No Archive Warnings Apply| M/M| Complete Work|',\n",
              " '| Teen And Up Audiences| No Archive Warnings Apply| F/M, Other| Work in Progress|',\n",
              " '| Explicit| Choose Not To Use Archive Warnings| F/M, M/M| Work in Progress|',\n",
              " '| Not Rated| Choose Not To Use Archive Warnings| M/M| Work in Progress|',\n",
              " '| Explicit| Choose Not To Use Archive Warnings| M/M| Work in Progress|',\n",
              " '| Explicit| No Archive Warnings Apply| M/M| Complete Work|',\n",
              " '| Mature| Choose Not To Use Archive Warnings| M/M| Work in Progress|',\n",
              " '| Teen And Up Audiences| No Archive Warnings Apply| M/M| Complete Work|',\n",
              " '| Teen And Up Audiences| Graphic Depictions Of Violence| M/M| Work in Progress|',\n",
              " '| Explicit| Graphic Depictions Of Violence| M/M| Complete Work|',\n",
              " '| Explicit| No Archive Warnings Apply| M/M| Complete Work|',\n",
              " '| Teen And Up Audiences| Choose Not To Use Archive Warnings| Multi| Work in Progress|',\n",
              " '| Teen And Up Audiences| No Archive Warnings Apply| Gen| Complete Work|',\n",
              " '| General Audiences| Choose Not To Use Archive Warnings| F/F, F/M, M/M| Work in Progress|',\n",
              " '| Mature| No Archive Warnings Apply, Choose Not To Use Archive Warnings| M/M| Work in Progress|',\n",
              " '| Explicit| Graphic Depictions Of Violence| M/M| Work in Progress|',\n",
              " '| Teen And Up Audiences| Major Character Death| Gen| Complete Work|',\n",
              " '| Teen And Up Audiences| No Archive Warnings Apply| M/M| Complete Work|',\n",
              " '| Mature| No Archive Warnings Apply| M/M| Work in Progress|',\n",
              " '| Not Rated| Choose Not To Use Archive Warnings| M/M| Work in Progress|',\n",
              " '| Not Rated| Choose Not To Use Archive Warnings| F/M| Work in Progress|',\n",
              " '| Teen And Up Audiences| Choose Not To Use Archive Warnings| F/M| Work in Progress|',\n",
              " '| General Audiences| No Archive Warnings Apply| Gen| Work in Progress|',\n",
              " '| Explicit| Graphic Depictions Of Violence, Major Character Death, Rape/Non-Con| Multi, M/M| Work in Progress|',\n",
              " '| Mature| Choose Not To Use Archive Warnings| F/M| Work in Progress|',\n",
              " '| Mature| No Archive Warnings Apply| M/M| Complete Work|',\n",
              " '| Explicit| No Archive Warnings Apply| M/M| Complete Work|',\n",
              " '| Teen And Up Audiences| Choose Not To Use Archive Warnings, Graphic Depictions Of Violence| M/M| Work in Progress|',\n",
              " '| Mature| Choose Not To Use Archive Warnings| F/M, Multi| Work in Progress|',\n",
              " '| Teen And Up Audiences| Choose Not To Use Archive Warnings| M/M| Work in Progress|',\n",
              " '| Explicit| No Archive Warnings Apply| F/F| Work in Progress|',\n",
              " '| General Audiences| No Archive Warnings Apply| F/F| Complete Work|',\n",
              " '| General Audiences| No Archive Warnings Apply| M/M| Complete Work|',\n",
              " '| Teen And Up Audiences| No Archive Warnings Apply| M/M| Work in Progress|',\n",
              " '| Explicit| No Archive Warnings Apply, Underage| F/F| Complete Work|',\n",
              " '| Explicit| Choose Not To Use Archive Warnings| M/M| Complete Work|',\n",
              " '| Teen And Up Audiences| No Archive Warnings Apply| F/F, Multi, F/M, M/M| Work in Progress|',\n",
              " '| Not Rated| Graphic Depictions Of Violence, Major Character Death| M/M| Work in Progress|',\n",
              " '| Explicit| Choose Not To Use Archive Warnings| F/M| Work in Progress|',\n",
              " '| Explicit| No Archive Warnings Apply| M/M| Work in Progress|',\n",
              " '| General Audiences| No Archive Warnings Apply| Gen| Complete Work|',\n",
              " '| Mature| No Archive Warnings Apply| M/M| Work in Progress|',\n",
              " '| Explicit| Graphic Depictions Of Violence, Rape/Non-Con| F/M| Work in Progress|',\n",
              " '| Mature| Graphic Depictions Of Violence, Major Character Death| Other| Work in Progress|',\n",
              " '| Teen And Up Audiences| Choose Not To Use Archive Warnings| F/F| Work in Progress|',\n",
              " '| Mature| No Archive Warnings Apply| M/M| Complete Work|',\n",
              " '| Explicit| No Archive Warnings Apply| F/F| Complete Work|',\n",
              " '| Mature| No Archive Warnings Apply| M/M| Complete Work|',\n",
              " '| Explicit| Choose Not To Use Archive Warnings| M/M| Work in Progress|',\n",
              " '| General Audiences| No Archive Warnings Apply| M/M| Complete Work|',\n",
              " '| Teen And Up Audiences| No Archive Warnings Apply| M/M| Complete Work|',\n",
              " '| Mature| Graphic Depictions Of Violence| F/M| Work in Progress|',\n",
              " '| Not Rated| No Archive Warnings Apply| M/M| Complete Work|',\n",
              " '| Explicit| No Archive Warnings Apply| F/F| Complete Work|',\n",
              " '| Mature| Graphic Depictions Of Violence| M/M| Work in Progress|',\n",
              " '| Explicit| Choose Not To Use Archive Warnings| M/M| Work in Progress|',\n",
              " '| Explicit| No Archive Warnings Apply| M/M| Complete Work|',\n",
              " '| Explicit| No Archive Warnings Apply| F/M| Work in Progress|',\n",
              " '| Not Rated| Choose Not To Use Archive Warnings| Multi| Work in Progress|',\n",
              " '| Mature| No Archive Warnings Apply| F/M| Work in Progress|',\n",
              " '| Not Rated| Graphic Depictions Of Violence| M/M| Work in Progress|',\n",
              " '| Explicit| Choose Not To Use Archive Warnings| M/M| Work in Progress|',\n",
              " '| Mature| No Archive Warnings Apply| F/M| Work in Progress|',\n",
              " '| Teen And Up Audiences| Graphic Depictions Of Violence| Gen| Complete Work|',\n",
              " '| Explicit| No Archive Warnings Apply| F/M| Work in Progress|',\n",
              " '| Teen And Up Audiences| No Archive Warnings Apply| F/F, Gen| Work in Progress|',\n",
              " '| Mature| Choose Not To Use Archive Warnings| M/M| Work in Progress|',\n",
              " '| Teen And Up Audiences| No Archive Warnings Apply| M/M| Work in Progress|',\n",
              " '| Teen And Up Audiences| Choose Not To Use Archive Warnings, No Archive Warnings Apply| F/M, Gen| Work in Progress|',\n",
              " '| Mature| No Archive Warnings Apply| M/M| Complete Work|',\n",
              " '| General Audiences| No Archive Warnings Apply| F/M| Complete Work|',\n",
              " '| Not Rated| Choose Not To Use Archive Warnings| M/M| Work in Progress|',\n",
              " '| Explicit| No Archive Warnings Apply| M/M| Complete Work|',\n",
              " '| Not Rated| Choose Not To Use Archive Warnings| F/M| Complete Work|',\n",
              " '| Teen And Up Audiences| Underage| M/M, Multi| Work in Progress|',\n",
              " '| Explicit| Choose Not To Use Archive Warnings| M/M, Multi| Work in Progress|',\n",
              " '| Explicit| No Archive Warnings Apply| M/M| Complete Work|',\n",
              " '| Explicit| Graphic Depictions Of Violence| M/M| Work in Progress|',\n",
              " '| Explicit| No Archive Warnings Apply| M/M| Complete Work|',\n",
              " '| General Audiences| No Archive Warnings Apply| M/M| Complete Work|',\n",
              " '| Mature| No Archive Warnings Apply| M/M| Work in Progress|',\n",
              " '| Explicit| No Archive Warnings Apply| M/M| Work in Progress|',\n",
              " '| Teen And Up Audiences| No Archive Warnings Apply| F/F, F/M, M/M, Multi| Work in Progress|',\n",
              " '| Explicit| Rape/Non-Con| F/M| Work in Progress|',\n",
              " '| Mature| Choose Not To Use Archive Warnings| M/M| Complete Work|',\n",
              " '| General Audiences| Choose Not To Use Archive Warnings, Graphic Depictions Of Violence| Gen| Complete Work|',\n",
              " '| Teen And Up Audiences| Graphic Depictions Of Violence| F/F| Work in Progress|',\n",
              " '| General Audiences| No Archive Warnings Apply| Gen| Work in Progress|',\n",
              " '| Explicit| No Archive Warnings Apply| F/M, M/M| Work in Progress|',\n",
              " '| Teen And Up Audiences| No Archive Warnings Apply| Gen| Work in Progress|',\n",
              " '| Mature| Graphic Depictions Of Violence, No Archive Warnings Apply| M/M| Work in Progress|',\n",
              " '| Explicit| Choose Not To Use Archive Warnings, No Archive Warnings Apply| F/M| Work in Progress|',\n",
              " '| Explicit| Choose Not To Use Archive Warnings| F/M| Work in Progress|',\n",
              " '| Teen And Up Audiences| No Archive Warnings Apply| F/M, Gen, M/M| Work in Progress|',\n",
              " '| Teen And Up Audiences| No Archive Warnings Apply| Gen, M/M| Work in Progress|',\n",
              " '| Not Rated| No Archive Warnings Apply| No category| Complete Work|',\n",
              " '| Mature| Graphic Depictions Of Violence| M/M| Work in Progress|',\n",
              " '| Mature| Choose Not To Use Archive Warnings| Gen, M/M| Work in Progress|',\n",
              " '| Mature| Graphic Depictions Of Violence| M/M| Work in Progress|',\n",
              " '| Mature| No Archive Warnings Apply| M/M| Complete Work|',\n",
              " '| Explicit| Choose Not To Use Archive Warnings| M/M| Complete Work|',\n",
              " '| Explicit| Choose Not To Use Archive Warnings| M/M| Complete Work|',\n",
              " '| Explicit| Graphic Depictions Of Violence| F/M| Work in Progress|',\n",
              " '| General Audiences| No Archive Warnings Apply| M/M| Complete Work|',\n",
              " '| Explicit| Graphic Depictions Of Violence, Underage| F/F, F/M| Complete Work|',\n",
              " '| Mature| Choose Not To Use Archive Warnings| M/M| Work in Progress|',\n",
              " '| Teen And Up Audiences| Choose Not To Use Archive Warnings| Multi| Work in Progress|',\n",
              " '| Not Rated| Choose Not To Use Archive Warnings| F/M, M/M| Work in Progress|',\n",
              " '| Mature| No Archive Warnings Apply| F/M| Work in Progress|',\n",
              " '| Not Rated| No Archive Warnings Apply| Multi| Work in Progress|',\n",
              " '| General Audiences| Choose Not To Use Archive Warnings| F/M| Work in Progress|',\n",
              " '| Not Rated| Choose Not To Use Archive Warnings| No category| Complete Work|',\n",
              " '| Explicit| No Archive Warnings Apply| M/M| Complete Work|',\n",
              " '| Explicit| Graphic Depictions Of Violence, Rape/Non-Con, Underage| M/M| Work in Progress|',\n",
              " '| Not Rated| Choose Not To Use Archive Warnings| F/F, M/M| Work in Progress|',\n",
              " '| Teen And Up Audiences| Graphic Depictions Of Violence, Major Character Death| F/F| Work in Progress|',\n",
              " '| Explicit| No Archive Warnings Apply| F/M| Complete Work|',\n",
              " '| Explicit| No Archive Warnings Apply| M/M| Work in Progress|',\n",
              " '| Not Rated| No Archive Warnings Apply| M/M| Complete Work|',\n",
              " '| Mature| Choose Not To Use Archive Warnings| M/M| Work in Progress|',\n",
              " '| Mature| No Archive Warnings Apply, Underage| M/M, Multi| Work in Progress|',\n",
              " '| Explicit| Choose Not To Use Archive Warnings| F/M| Work in Progress|',\n",
              " '| Explicit| Underage| M/M| Complete Work|',\n",
              " '| Explicit| Choose Not To Use Archive Warnings| M/M| Complete Work|',\n",
              " '| Teen And Up Audiences| No Archive Warnings Apply| M/M| Work in Progress|',\n",
              " '| Explicit| Choose Not To Use Archive Warnings| F/M| Work in Progress|',\n",
              " '| Teen And Up Audiences| No Archive Warnings Apply| M/M| Complete Work|',\n",
              " '| General Audiences| No Archive Warnings Apply| F/F| Work in Progress|',\n",
              " '| Mature| Graphic Depictions Of Violence| M/M| Work in Progress|',\n",
              " '| Mature| Choose Not To Use Archive Warnings| F/F, F/M, M/M| Work in Progress|',\n",
              " '| Teen And Up Audiences| Choose Not To Use Archive Warnings| F/F, M/M, Multi| Work in Progress|',\n",
              " '| Mature| Graphic Depictions Of Violence, Major Character Death, Rape/Non-Con| M/M| Work in Progress|',\n",
              " '| Teen And Up Audiences| No Archive Warnings Apply| Gen| Work in Progress|',\n",
              " '| Explicit| Choose Not To Use Archive Warnings| F/F, F/M, M/M| Work in Progress|',\n",
              " '| General Audiences| No Archive Warnings Apply| F/M, Gen| Work in Progress|',\n",
              " '| Mature| Choose Not To Use Archive Warnings| F/M, M/M| Work in Progress|',\n",
              " '| Explicit| No Archive Warnings Apply| F/F, F/M, M/M| Work in Progress|',\n",
              " '| Explicit| No Archive Warnings Apply| M/M| Work in Progress|',\n",
              " '| Explicit| Choose Not To Use Archive Warnings| M/M| Work in Progress|',\n",
              " '| Teen And Up Audiences| Choose Not To Use Archive Warnings| F/M| Complete Work|',\n",
              " '| Mature| Choose Not To Use Archive Warnings| M/M| Work in Progress|',\n",
              " '| Teen And Up Audiences| Choose Not To Use Archive Warnings| Gen, M/M| Work in Progress|',\n",
              " '| Explicit| No Archive Warnings Apply| M/M| Work in Progress|',\n",
              " '| Teen And Up Audiences| No Archive Warnings Apply| Gen, M/M| Work in Progress|',\n",
              " '| Mature| Choose Not To Use Archive Warnings| F/M| Work in Progress|',\n",
              " '| Not Rated| Choose Not To Use Archive Warnings| M/M| Work in Progress|',\n",
              " '| Teen And Up Audiences| No Archive Warnings Apply| M/M| Work in Progress|',\n",
              " '| Mature| Graphic Depictions Of Violence| F/M, M/M| Work in Progress|',\n",
              " '| Teen And Up Audiences| Choose Not To Use Archive Warnings| F/M| Work in Progress|',\n",
              " '| Teen And Up Audiences| No Archive Warnings Apply| Gen| Complete Work|',\n",
              " '| Mature| Graphic Depictions Of Violence| F/F, F/M, M/M| Complete Work|',\n",
              " '| Mature| Graphic Depictions Of Violence| F/F, F/M, M/M| Complete Work|',\n",
              " '| Mature| No Archive Warnings Apply| F/F| Work in Progress|',\n",
              " '| Not Rated| No Archive Warnings Apply| Multi| Work in Progress|',\n",
              " '| Not Rated| Choose Not To Use Archive Warnings| No category| Complete Work|',\n",
              " '| Explicit| Choose Not To Use Archive Warnings| M/M| Work in Progress|',\n",
              " '| Mature| Choose Not To Use Archive Warnings| F/F, F/M, Multi| Complete Work|',\n",
              " '| Mature| No Archive Warnings Apply| M/M, Multi| Work in Progress|',\n",
              " '| Teen And Up Audiences| Major Character Death| F/F, F/M| Work in Progress|',\n",
              " '| Explicit| Graphic Depictions Of Violence| M/M| Work in Progress|',\n",
              " '| Mature| Choose Not To Use Archive Warnings| Multi| Work in Progress|',\n",
              " '| Not Rated| Choose Not To Use Archive Warnings, No Archive Warnings Apply| F/M, M/M| Work in Progress|',\n",
              " '| Teen And Up Audiences| No Archive Warnings Apply| No category| Work in Progress|',\n",
              " '| Explicit| No Archive Warnings Apply| F/F, M/M| Work in Progress|',\n",
              " '| General Audiences| No Archive Warnings Apply| Gen| Complete Work|',\n",
              " '| Explicit| No Archive Warnings Apply| F/M| Complete Work|',\n",
              " '| Mature| No Archive Warnings Apply| F/M| Work in Progress|',\n",
              " '| General Audiences| Choose Not To Use Archive Warnings| M/M| Work in Progress|',\n",
              " '| Explicit| Choose Not To Use Archive Warnings| M/M| Complete Work|',\n",
              " '| Explicit| Choose Not To Use Archive Warnings| F/M| Work in Progress|',\n",
              " '| Mature| Choose Not To Use Archive Warnings| M/M, Other| Work in Progress|',\n",
              " '| Teen And Up Audiences| No Archive Warnings Apply| F/F| Complete Work|',\n",
              " '| Explicit| Choose Not To Use Archive Warnings| F/M| Work in Progress|',\n",
              " '| Explicit| Choose Not To Use Archive Warnings| F/M| Complete Work|',\n",
              " '| Mature| Graphic Depictions Of Violence| M/M| Work in Progress|',\n",
              " '| General Audiences| No Archive Warnings Apply| F/M| Work in Progress|',\n",
              " '| Explicit| Graphic Depictions Of Violence, Major Character Death| F/F, F/M| Complete Work|',\n",
              " '| Teen And Up Audiences| Choose Not To Use Archive Warnings| M/M| Work in Progress|',\n",
              " '| Not Rated| Choose Not To Use Archive Warnings| Multi| Work in Progress|',\n",
              " '| Not Rated| Choose Not To Use Archive Warnings| F/F, F/M, M/M, Multi| Work in Progress|',\n",
              " '| Not Rated| Choose Not To Use Archive Warnings| M/M| Work in Progress|',\n",
              " '| General Audiences| No Archive Warnings Apply| M/M| Complete Work|',\n",
              " '| Not Rated| No Archive Warnings Apply| M/M| Complete Work|',\n",
              " '| General Audiences| Choose Not To Use Archive Warnings| M/M| Complete Work|',\n",
              " '| Explicit| Choose Not To Use Archive Warnings| M/M| Work in Progress|',\n",
              " '| Mature| Choose Not To Use Archive Warnings| M/M| Work in Progress|',\n",
              " '| Not Rated| Choose Not To Use Archive Warnings, No Archive Warnings Apply| Multi| Complete Work|',\n",
              " '| Not Rated| Graphic Depictions Of Violence| F/M, M/M| Work in Progress|',\n",
              " '| Mature| No Archive Warnings Apply| F/F| Work in Progress|',\n",
              " '| General Audiences| Choose Not To Use Archive Warnings, No Archive Warnings Apply| F/M, M/M| Work in Progress|',\n",
              " '| Teen And Up Audiences| Choose Not To Use Archive Warnings| M/M| Complete Work|',\n",
              " '| Explicit| No Archive Warnings Apply| F/F, M/M| Work in Progress|',\n",
              " '| Teen And Up Audiences| No Archive Warnings Apply| M/M| Complete Work|',\n",
              " '| Teen And Up Audiences| No Archive Warnings Apply| M/M| Work in Progress|',\n",
              " '| Teen And Up Audiences| No Archive Warnings Apply| No category| Work in Progress|',\n",
              " '| Teen And Up Audiences| No Archive Warnings Apply| M/M| Work in Progress|',\n",
              " '| Explicit| Choose Not To Use Archive Warnings| M/M| Complete Work|',\n",
              " '| Mature| Graphic Depictions Of Violence| F/M| Work in Progress|',\n",
              " '| Explicit| No Archive Warnings Apply| Other| Complete Work|',\n",
              " '| Explicit| Choose Not To Use Archive Warnings| M/M| Work in Progress|',\n",
              " '| Teen And Up Audiences| Choose Not To Use Archive Warnings| M/M, Multi| Work in Progress|',\n",
              " '| Teen And Up Audiences| No Archive Warnings Apply| Multi| Work in Progress|',\n",
              " '| Teen And Up Audiences| No Archive Warnings Apply| Gen| Work in Progress|',\n",
              " '| Mature| Choose Not To Use Archive Warnings| M/M| Work in Progress|',\n",
              " '| Teen And Up Audiences| Graphic Depictions Of Violence| F/M| Work in Progress|',\n",
              " '| Mature| No Archive Warnings Apply| M/M| Complete Work|',\n",
              " '| Not Rated| Choose Not To Use Archive Warnings| F/F, F/M, M/M, Other| Complete Work|',\n",
              " '| Teen And Up Audiences| No Archive Warnings Apply| M/M| Work in Progress|',\n",
              " '| General Audiences| No Archive Warnings Apply| M/M| Complete Work|',\n",
              " '| Explicit| Choose Not To Use Archive Warnings| M/M| Work in Progress|',\n",
              " '| General Audiences| Choose Not To Use Archive Warnings| F/M| Work in Progress|',\n",
              " '| Explicit| Choose Not To Use Archive Warnings, No Archive Warnings Apply| M/M| Complete Work|',\n",
              " '| Explicit| Graphic Depictions Of Violence, Rape/Non-Con| F/F| Work in Progress|',\n",
              " '| Teen And Up Audiences| No Archive Warnings Apply| M/M| Complete Work|',\n",
              " '| Teen And Up Audiences| Choose Not To Use Archive Warnings, No Archive Warnings Apply| Gen, Multi, Other| Work in Progress|',\n",
              " '| Teen And Up Audiences| No Archive Warnings Apply| No category| Work in Progress|',\n",
              " '| Not Rated| Choose Not To Use Archive Warnings| M/M, F/M| Work in Progress|',\n",
              " '| Explicit| No Archive Warnings Apply| F/M| Complete Work|',\n",
              " '| Teen And Up Audiences| Graphic Depictions Of Violence| Gen| Work in Progress|',\n",
              " '| Teen And Up Audiences| Choose Not To Use Archive Warnings| F/M| Complete Work|',\n",
              " '| Not Rated| Choose Not To Use Archive Warnings| M/M| Work in Progress|',\n",
              " '| Teen And Up Audiences| Graphic Depictions Of Violence| M/M| Work in Progress|',\n",
              " '| Mature| Choose Not To Use Archive Warnings| F/M| Work in Progress|',\n",
              " '| Teen And Up Audiences| Graphic Depictions Of Violence| M/M| Work in Progress|',\n",
              " '| Teen And Up Audiences| Graphic Depictions Of Violence, Major Character Death| No category| Work in Progress|',\n",
              " '| Teen And Up Audiences| Choose Not To Use Archive Warnings| Other, Gen| Work in Progress|',\n",
              " '| Teen And Up Audiences| No Archive Warnings Apply| F/M| Work in Progress|',\n",
              " '| Mature| Graphic Depictions Of Violence| M/M, F/F| Work in Progress|',\n",
              " '| Teen And Up Audiences| No Archive Warnings Apply| Gen, M/M| Work in Progress|',\n",
              " '| General Audiences| Choose Not To Use Archive Warnings, No Archive Warnings Apply| No category| Complete Work|',\n",
              " '| Mature| No Archive Warnings Apply| F/M, Multi| Work in Progress|',\n",
              " '| Mature| No Archive Warnings Apply| M/M| Work in Progress|',\n",
              " '| General Audiences| No Archive Warnings Apply| M/M| Complete Work|',\n",
              " '| General Audiences| Choose Not To Use Archive Warnings| Gen, M/M| Complete Work|',\n",
              " '| Mature| Choose Not To Use Archive Warnings| M/M| Work in Progress|',\n",
              " '| Teen And Up Audiences| Graphic Depictions Of Violence, Major Character Death| Gen, F/F, F/M| Work in Progress|',\n",
              " '| Mature| Choose Not To Use Archive Warnings| F/M, M/M| Work in Progress|',\n",
              " '| Teen And Up Audiences| No Archive Warnings Apply| M/M| Work in Progress|',\n",
              " '| Not Rated| Choose Not To Use Archive Warnings, No Archive Warnings Apply| F/M| Complete Work|',\n",
              " '| Teen And Up Audiences| Graphic Depictions Of Violence| F/F, M/M| Work in Progress|',\n",
              " '| General Audiences| Choose Not To Use Archive Warnings| M/M| Complete Work|',\n",
              " '| Explicit| Choose Not To Use Archive Warnings| M/M| Complete Work|',\n",
              " '| Explicit| Rape/Non-Con| M/M| Complete Work|',\n",
              " '| Explicit| Choose Not To Use Archive Warnings| F/M| Complete Work|',\n",
              " '| Explicit| No Archive Warnings Apply| F/F, F/M, M/M, Multi| Complete Work|',\n",
              " '| Explicit| No Archive Warnings Apply| M/M| Work in Progress|',\n",
              " '| Not Rated| Choose Not To Use Archive Warnings| No category| Work in Progress|',\n",
              " '| Explicit| Underage| M/M| Complete Work|',\n",
              " '| Mature| Choose Not To Use Archive Warnings| M/M| Complete Work|',\n",
              " '| Teen And Up Audiences| No Archive Warnings Apply| M/M| Work in Progress|',\n",
              " '| Explicit| Graphic Depictions Of Violence| F/F, F/M, M/M| Work in Progress|',\n",
              " '| General Audiences| Choose Not To Use Archive Warnings| M/M| Complete Work|',\n",
              " '| Teen And Up Audiences| Choose Not To Use Archive Warnings, No Archive Warnings Apply| Gen| Work in Progress|',\n",
              " '| Explicit| No Archive Warnings Apply| M/M| Complete Work|',\n",
              " '| Explicit| Choose Not To Use Archive Warnings| M/M| Work in Progress|',\n",
              " '| General Audiences| No Archive Warnings Apply| Gen| Complete Work|',\n",
              " '| Mature| Choose Not To Use Archive Warnings| F/M| Work in Progress|',\n",
              " '| General Audiences| No Archive Warnings Apply| M/M| Complete Work|',\n",
              " '| Teen And Up Audiences| Choose Not To Use Archive Warnings, Graphic Depictions Of Violence| M/M| Work in Progress|',\n",
              " '| Mature| No Archive Warnings Apply| F/F| Work in Progress|',\n",
              " '| Mature| Choose Not To Use Archive Warnings| M/M, Multi| Work in Progress|',\n",
              " '| Mature| Graphic Depictions Of Violence| M/M| Work in Progress|',\n",
              " '| Explicit| No Archive Warnings Apply| Other| Complete Work|',\n",
              " '| Mature| No Archive Warnings Apply| M/M| Complete Work|',\n",
              " '| Explicit| Choose Not To Use Archive Warnings| No category| Work in Progress|',\n",
              " '| Mature| Choose Not To Use Archive Warnings| Gen| Work in Progress|',\n",
              " '| Teen And Up Audiences| No Archive Warnings Apply| Gen| Complete Work|',\n",
              " '| General Audiences| No Archive Warnings Apply| F/M, Gen, M/M| Complete Work|',\n",
              " '| Explicit| Underage| M/M| Work in Progress|',\n",
              " '| Mature| Graphic Depictions Of Violence, Major Character Death| F/M| Work in Progress|',\n",
              " '| Teen And Up Audiences| Choose Not To Use Archive Warnings| Multi| Work in Progress|',\n",
              " '| Teen And Up Audiences| No Archive Warnings Apply| M/M| Work in Progress|',\n",
              " '| Explicit| Choose Not To Use Archive Warnings| M/M| Work in Progress|',\n",
              " '| Mature| Graphic Depictions Of Violence| Gen, M/M| Work in Progress|',\n",
              " '| Explicit| Choose Not To Use Archive Warnings| M/M| Work in Progress|',\n",
              " '| General Audiences| Choose Not To Use Archive Warnings| No category| Work in Progress|',\n",
              " '| Mature| Choose Not To Use Archive Warnings| M/M| Complete Work|',\n",
              " '| Teen And Up Audiences| No Archive Warnings Apply| M/M| Work in Progress|',\n",
              " '| Mature| Graphic Depictions Of Violence| F/F, F/M, M/M, Multi| Work in Progress|',\n",
              " '| Teen And Up Audiences| No Archive Warnings Apply| Gen| Complete Work|',\n",
              " '| Explicit| Choose Not To Use Archive Warnings| M/M| Complete Work|',\n",
              " '| Teen And Up Audiences| No Archive Warnings Apply| F/F, F/M, M/M| Work in Progress|',\n",
              " '| Explicit| No Archive Warnings Apply| M/M| Work in Progress|',\n",
              " '| Not Rated| Choose Not To Use Archive Warnings| M/M| Work in Progress|',\n",
              " '| Teen And Up Audiences| Choose Not To Use Archive Warnings| F/M| Complete Work|',\n",
              " '| Not Rated| Choose Not To Use Archive Warnings| F/M| Work in Progress|',\n",
              " '| Explicit| Choose Not To Use Archive Warnings| F/M| Work in Progress|',\n",
              " '| Explicit| Choose Not To Use Archive Warnings, No Archive Warnings Apply| M/M| Complete Work|',\n",
              " '| Explicit| No Archive Warnings Apply| M/M| Complete Work|',\n",
              " '| Mature| No Archive Warnings Apply| F/M| Work in Progress|',\n",
              " '| Teen And Up Audiences| Choose Not To Use Archive Warnings| F/F| Complete Work|',\n",
              " '| Teen And Up Audiences| Graphic Depictions Of Violence, Major Character Death| F/F, F/M| Work in Progress|',\n",
              " '| Teen And Up Audiences| No Archive Warnings Apply| F/F, F/M, M/M, Multi| Work in Progress|',\n",
              " '| Teen And Up Audiences| No Archive Warnings Apply| F/M, Gen| Work in Progress|',\n",
              " '| Teen And Up Audiences| Choose Not To Use Archive Warnings| M/M| Complete Work|',\n",
              " '| Teen And Up Audiences| Choose Not To Use Archive Warnings, No Archive Warnings Apply| F/F| Work in Progress|',\n",
              " '| Not Rated| Graphic Depictions Of Violence| Gen| Work in Progress|',\n",
              " '| Explicit| No Archive Warnings Apply| M/M, Multi| Work in Progress|',\n",
              " '| Explicit| No Archive Warnings Apply| M/M| Work in Progress|',\n",
              " '| Teen And Up Audiences| Choose Not To Use Archive Warnings| M/M| Work in Progress|',\n",
              " '| Teen And Up Audiences| No Archive Warnings Apply| F/M| Complete Work|',\n",
              " '| Teen And Up Audiences| Choose Not To Use Archive Warnings| F/F, M/M| Work in Progress|',\n",
              " '| Explicit| Choose Not To Use Archive Warnings| No category| Work in Progress|',\n",
              " '| General Audiences| No Archive Warnings Apply| Gen, M/M, F/F, F/M| Work in Progress|',\n",
              " '| Not Rated| Choose Not To Use Archive Warnings| M/M| Work in Progress|',\n",
              " '| Teen And Up Audiences| No Archive Warnings Apply| M/M| Work in Progress|',\n",
              " '| Teen And Up Audiences| No Archive Warnings Apply| F/M| Complete Work|',\n",
              " '| Teen And Up Audiences| No Archive Warnings Apply| F/M| Complete Work|',\n",
              " '| General Audiences| No Archive Warnings Apply| M/M| Complete Work|',\n",
              " '| Not Rated| Choose Not To Use Archive Warnings| F/F, F/M, M/M, Multi| Work in Progress|',\n",
              " '| Teen And Up Audiences| No Archive Warnings Apply| M/M| Complete Work|',\n",
              " '| General Audiences| No Archive Warnings Apply| F/M| Complete Work|',\n",
              " '| Teen And Up Audiences| Graphic Depictions Of Violence, Major Character Death| F/M, M/M| Work in Progress|',\n",
              " '| Not Rated| Choose Not To Use Archive Warnings, No Archive Warnings Apply| Multi| Work in Progress|',\n",
              " '| Mature| No Archive Warnings Apply| M/M| Work in Progress|',\n",
              " '| Explicit| No Archive Warnings Apply| M/M| Work in Progress|',\n",
              " '| Teen And Up Audiences| Choose Not To Use Archive Warnings| M/M, Multi| Work in Progress|',\n",
              " '| Teen And Up Audiences| Graphic Depictions Of Violence| F/F, M/M, Multi| Work in Progress|',\n",
              " '| Explicit| Choose Not To Use Archive Warnings| M/M| Complete Work|',\n",
              " '| General Audiences| Choose Not To Use Archive Warnings| Multi| Work in Progress|',\n",
              " '| Teen And Up Audiences| No Archive Warnings Apply| M/M| Work in Progress|',\n",
              " '| Teen And Up Audiences| No Archive Warnings Apply| F/F, F/M| Work in Progress|',\n",
              " '| Not Rated| Choose Not To Use Archive Warnings| Other| Work in Progress|',\n",
              " '| Mature| Choose Not To Use Archive Warnings| M/M| Complete Work|',\n",
              " '| Not Rated| Graphic Depictions Of Violence| M/M, Multi| Work in Progress|',\n",
              " '| Explicit| No Archive Warnings Apply| M/M| Complete Work|',\n",
              " '| Mature| Choose Not To Use Archive Warnings| M/M| Work in Progress|',\n",
              " '| Teen And Up Audiences| No Archive Warnings Apply| F/M| Work in Progress|',\n",
              " '| Teen And Up Audiences| Choose Not To Use Archive Warnings| F/M| Work in Progress|',\n",
              " '| Explicit| Choose Not To Use Archive Warnings| F/M| Complete Work|',\n",
              " '| General Audiences| No Archive Warnings Apply| Gen| Work in Progress|',\n",
              " '| Mature| Graphic Depictions Of Violence, Rape/Non-Con| F/M| Complete Work|',\n",
              " '| Not Rated| Choose Not To Use Archive Warnings| No category| Complete Work|',\n",
              " '| Explicit| Graphic Depictions Of Violence, Major Character Death| F/M, Multi| Complete Work|',\n",
              " '| Mature| Choose Not To Use Archive Warnings| F/M| Complete Work|',\n",
              " '| Mature| Graphic Depictions Of Violence| M/M| Work in Progress|',\n",
              " '| Not Rated| Choose Not To Use Archive Warnings| Multi| Work in Progress|',\n",
              " '| Explicit| No Archive Warnings Apply| F/F, M/M| Work in Progress|',\n",
              " '| Not Rated| Graphic Depictions Of Violence, Major Character Death| F/F, F/M, Gen| Work in Progress|',\n",
              " '| Teen And Up Audiences| No Archive Warnings Apply| M/M| Work in Progress|',\n",
              " '| Explicit| Choose Not To Use Archive Warnings| M/M| Work in Progress|',\n",
              " '| Not Rated| Choose Not To Use Archive Warnings| Multi| Work in Progress|',\n",
              " '| Mature| Choose Not To Use Archive Warnings| F/M| Work in Progress|',\n",
              " '| Explicit| Choose Not To Use Archive Warnings| M/M| Work in Progress|',\n",
              " '| General Audiences| No Archive Warnings Apply| Multi| Complete Work|',\n",
              " '| Explicit| Choose Not To Use Archive Warnings| F/M| Complete Work|',\n",
              " '| Mature| Graphic Depictions Of Violence, Major Character Death| M/M, Multi| Work in Progress|',\n",
              " '| Teen And Up Audiences| Major Character Death, Rape/Non-Con, Underage| Multi| Work in Progress|',\n",
              " '| General Audiences| Choose Not To Use Archive Warnings| F/M| Work in Progress|',\n",
              " '| Explicit| No Archive Warnings Apply| M/M| Work in Progress|',\n",
              " '| Teen And Up Audiences| Choose Not To Use Archive Warnings| M/M| Work in Progress|',\n",
              " '| Mature| Graphic Depictions Of Violence, Major Character Death| M/M, Multi| Work in Progress|',\n",
              " '| Not Rated| Choose Not To Use Archive Warnings| M/M| Work in Progress|',\n",
              " '| Mature| Choose Not To Use Archive Warnings, Underage| M/M| Complete Work|',\n",
              " '| Mature| No Archive Warnings Apply| F/F, Gen, M/M, Multi| Complete Work|',\n",
              " '| Teen And Up Audiences| Choose Not To Use Archive Warnings| M/M| Complete Work|',\n",
              " '| Mature| Graphic Depictions Of Violence, Rape/Non-Con| F/M| Work in Progress|',\n",
              " '| Mature| Choose Not To Use Archive Warnings, No Archive Warnings Apply| F/M, Gen| Work in Progress|',\n",
              " '| Teen And Up Audiences| Choose Not To Use Archive Warnings| F/M| Work in Progress|',\n",
              " '| Explicit| Choose Not To Use Archive Warnings| F/F, F/M, M/M, Multi| Work in Progress|',\n",
              " '| Mature| No Archive Warnings Apply| F/F, M/M| Work in Progress|',\n",
              " '| Explicit| Graphic Depictions Of Violence| M/M| Complete Work|',\n",
              " '| Teen And Up Audiences| Graphic Depictions Of Violence| M/M| Work in Progress|',\n",
              " '| Mature| Graphic Depictions Of Violence, Major Character Death| F/F, F/M, M/M| Complete Work|',\n",
              " '| Explicit| No Archive Warnings Apply| M/M| Complete Work|',\n",
              " '| Teen And Up Audiences| No Archive Warnings Apply| M/M| Work in Progress|',\n",
              " '| Teen And Up Audiences| Choose Not To Use Archive Warnings| F/F, F/M, M/M| Work in Progress|',\n",
              " '| Explicit| No Archive Warnings Apply| F/M| Work in Progress|',\n",
              " '| Teen And Up Audiences| Graphic Depictions Of Violence| M/M| Complete Work|',\n",
              " '| Teen And Up Audiences| No Archive Warnings Apply| M/M| Work in Progress|',\n",
              " '| Explicit| No Archive Warnings Apply| M/M| Complete Work|',\n",
              " '| Mature| No Archive Warnings Apply| F/F| Work in Progress|',\n",
              " '| Explicit| Graphic Depictions Of Violence, Major Character Death| F/M| Work in Progress|',\n",
              " '| Explicit| Rape/Non-Con| Multi| Complete Work|',\n",
              " '| Teen And Up Audiences| No Archive Warnings Apply| Gen, M/M| Work in Progress|',\n",
              " '| Explicit| No Archive Warnings Apply| F/F| Complete Work|',\n",
              " '| Mature| Graphic Depictions Of Violence, Major Character Death| F/F, F/M, M/M| Work in Progress|',\n",
              " '| Explicit| No Archive Warnings Apply| M/M| Work in Progress|',\n",
              " '| Explicit| Graphic Depictions Of Violence| F/M| Work in Progress|',\n",
              " '| Teen And Up Audiences| No Archive Warnings Apply| M/M| Complete Work|',\n",
              " '| General Audiences| No Archive Warnings Apply| Gen| Complete Work|',\n",
              " '| Teen And Up Audiences| Choose Not To Use Archive Warnings| Multi| Work in Progress|',\n",
              " '| Teen And Up Audiences| No Archive Warnings Apply| F/M| Work in Progress|',\n",
              " '| General Audiences| Graphic Depictions Of Violence| Gen| Work in Progress|',\n",
              " '| Explicit| Graphic Depictions Of Violence| M/M, F/M| Work in Progress|',\n",
              " '| Mature| Choose Not To Use Archive Warnings| M/M, F/F, F/M, Multi| Work in Progress|',\n",
              " '| Mature| No Archive Warnings Apply| M/M| Complete Work|',\n",
              " '| Explicit| Graphic Depictions Of Violence, Major Character Death, Rape/Non-Con, Underage| M/M| Complete Work|',\n",
              " '| Teen And Up Audiences| No Archive Warnings Apply| M/M| Complete Work|',\n",
              " '| Mature| No Archive Warnings Apply| F/M| Complete Work|',\n",
              " '| Mature| No Archive Warnings Apply| F/F, F/M, Gen, M/M| Work in Progress|',\n",
              " '| Teen And Up Audiences| No Archive Warnings Apply| M/M, Other| Work in Progress|',\n",
              " '| Explicit| No Archive Warnings Apply| M/M| Work in Progress|',\n",
              " '| Explicit| Graphic Depictions Of Violence| F/F, F/M, M/M| Work in Progress|',\n",
              " '| General Audiences| Choose Not To Use Archive Warnings| Gen| Work in Progress|',\n",
              " '| Not Rated| Graphic Depictions Of Violence| M/M| Work in Progress|',\n",
              " '| General Audiences| Graphic Depictions Of Violence| M/M| Work in Progress|',\n",
              " '| General Audiences| No Archive Warnings Apply| Gen, M/M| Complete Work|',\n",
              " '| Teen And Up Audiences| No Archive Warnings Apply| F/M| Work in Progress|',\n",
              " '| Mature| Graphic Depictions Of Violence| F/F, F/M, M/M| Work in Progress|',\n",
              " '| Mature| Choose Not To Use Archive Warnings| Gen, M/M| Work in Progress|',\n",
              " '| Not Rated| Choose Not To Use Archive Warnings| No category| Complete Work|',\n",
              " '| Mature| No Archive Warnings Apply| M/M| Work in Progress|',\n",
              " '| Mature| No Archive Warnings Apply| F/M| Work in Progress|',\n",
              " '| Not Rated| Choose Not To Use Archive Warnings, Underage| F/M, M/M| Work in Progress|',\n",
              " '| Mature| No Archive Warnings Apply| M/M| Work in Progress|',\n",
              " '| Teen And Up Audiences| Choose Not To Use Archive Warnings| M/M| Work in Progress|',\n",
              " '| Explicit| Choose Not To Use Archive Warnings, Graphic Depictions Of Violence| F/M| Work in Progress|',\n",
              " '| Explicit| Choose Not To Use Archive Warnings| M/M, F/F| Work in Progress|',\n",
              " '| Not Rated| No Archive Warnings Apply| F/F, M/M| Work in Progress|',\n",
              " '| Not Rated| Choose Not To Use Archive Warnings| F/M| Complete Work|',\n",
              " '| Teen And Up Audiences| No Archive Warnings Apply| F/F| Work in Progress|',\n",
              " '| Mature| Rape/Non-Con| M/M| Work in Progress|',\n",
              " '| Teen And Up Audiences| Graphic Depictions Of Violence| M/M| Work in Progress|',\n",
              " '| Teen And Up Audiences| Major Character Death| M/M| Work in Progress|',\n",
              " '| Mature| Graphic Depictions Of Violence| F/M| Work in Progress|',\n",
              " '| Teen And Up Audiences| No Archive Warnings Apply| F/M| Complete Work|',\n",
              " '| Not Rated| Choose Not To Use Archive Warnings| F/M| Complete Work|',\n",
              " '| Teen And Up Audiences| Choose Not To Use Archive Warnings, Graphic Depictions Of Violence, Major Character Death, No Archive Warnings Apply| F/M| Work in Progress|',\n",
              " '| Teen And Up Audiences| Graphic Depictions Of Violence, Underage| M/M| Work in Progress|',\n",
              " '| Explicit| Choose Not To Use Archive Warnings| F/M| Work in Progress|',\n",
              " '| Teen And Up Audiences| No Archive Warnings Apply| M/M| Work in Progress|',\n",
              " '| General Audiences| No Archive Warnings Apply| Gen| Complete Work|',\n",
              " '| Teen And Up Audiences| No Archive Warnings Apply| M/M| Complete Work|',\n",
              " '| Mature| Graphic Depictions Of Violence| F/M| Work in Progress|',\n",
              " '| Mature| No Archive Warnings Apply| M/M| Work in Progress|',\n",
              " '| Teen And Up Audiences| No Archive Warnings Apply| F/M| Work in Progress|',\n",
              " '| Teen And Up Audiences| Choose Not To Use Archive Warnings| M/M| Work in Progress|',\n",
              " '| Not Rated| No Archive Warnings Apply| M/M| Complete Work|',\n",
              " '| Mature| No Archive Warnings Apply| F/F, M/M| Work in Progress|',\n",
              " '| Teen And Up Audiences| Choose Not To Use Archive Warnings| M/M| Complete Work|',\n",
              " '| Explicit| No Archive Warnings Apply| F/M| Complete Work|',\n",
              " '| Mature| Graphic Depictions Of Violence, Major Character Death| F/M| Work in Progress|',\n",
              " '| General Audiences| Choose Not To Use Archive Warnings| M/M| Complete Work|',\n",
              " '| Teen And Up Audiences| Choose Not To Use Archive Warnings| No category| Complete Work|',\n",
              " '| Teen And Up Audiences| Choose Not To Use Archive Warnings| M/M| Complete Work|',\n",
              " '| Explicit| Choose Not To Use Archive Warnings| F/M| Work in Progress|',\n",
              " '| Teen And Up Audiences| Graphic Depictions Of Violence| M/M| Work in Progress|',\n",
              " '| Teen And Up Audiences| No Archive Warnings Apply| M/M| Complete Work|',\n",
              " '| Explicit| Choose Not To Use Archive Warnings| F/M| Work in Progress|',\n",
              " '| Mature| Graphic Depictions Of Violence| F/M, M/M| Work in Progress|',\n",
              " '| General Audiences| No Archive Warnings Apply| M/M| Complete Work|',\n",
              " '| Mature| No Archive Warnings Apply| F/F, F/M, M/M| Work in Progress|',\n",
              " '| Teen And Up Audiences| No Archive Warnings Apply| M/M| Complete Work|',\n",
              " '| Explicit| Graphic Depictions Of Violence, Major Character Death| F/M| Work in Progress|',\n",
              " '| Mature| Choose Not To Use Archive Warnings| F/M| Work in Progress|',\n",
              " '| Mature| No Archive Warnings Apply| M/M| Work in Progress|',\n",
              " '| Mature| No Archive Warnings Apply| M/M| Work in Progress|',\n",
              " '| Mature| No Archive Warnings Apply| M/M| Work in Progress|',\n",
              " '| General Audiences| No Archive Warnings Apply| M/M| Complete Work|',\n",
              " '| Mature| Choose Not To Use Archive Warnings| F/M| Complete Work|',\n",
              " '| Mature| Graphic Depictions Of Violence| F/F| Work in Progress|',\n",
              " '| Mature| Graphic Depictions Of Violence| F/M, M/M| Work in Progress|',\n",
              " '| Teen And Up Audiences| No Archive Warnings Apply| M/M| Complete Work|',\n",
              " '| Not Rated| Choose Not To Use Archive Warnings| Multi| Work in Progress|',\n",
              " '| Teen And Up Audiences| Choose Not To Use Archive Warnings| F/M| Work in Progress|',\n",
              " '| Not Rated| Graphic Depictions Of Violence| Gen, Multi| Work in Progress|',\n",
              " '| Mature| Choose Not To Use Archive Warnings| Multi| Work in Progress|',\n",
              " '| Teen And Up Audiences| Major Character Death| M/M| Complete Work|',\n",
              " '| Mature| No Archive Warnings Apply| F/M| Complete Work|',\n",
              " '| Explicit| Graphic Depictions Of Violence, Major Character Death| F/M, Other| Work in Progress|',\n",
              " '| Teen And Up Audiences| No Archive Warnings Apply| M/M, Multi| Work in Progress|',\n",
              " '| Teen And Up Audiences| Graphic Depictions Of Violence| Multi| Work in Progress|',\n",
              " '| Mature| Choose Not To Use Archive Warnings| M/M| Work in Progress|',\n",
              " '| Not Rated| Graphic Depictions Of Violence| F/F, F/M, Gen, M/M| Complete Work|',\n",
              " '| Teen And Up Audiences| Choose Not To Use Archive Warnings| F/F| Work in Progress|',\n",
              " '| Mature| Choose Not To Use Archive Warnings| F/M| Complete Work|',\n",
              " '| General Audiences| No Archive Warnings Apply| F/F, F/M, M/M, Multi| Complete Work|',\n",
              " '| Not Rated| Choose Not To Use Archive Warnings| No category| Complete Work|',\n",
              " '| Teen And Up Audiences| No Archive Warnings Apply| F/M, Multi| Work in Progress|',\n",
              " '| Explicit| No Archive Warnings Apply| F/M| Complete Work|',\n",
              " ...]"
            ]
          },
          "metadata": {},
          "execution_count": 34
        }
      ]
    },
    {
      "cell_type": "markdown",
      "source": [
        "**Additionnal Tags**"
      ],
      "metadata": {
        "id": "I-UJ8fbnRXKp"
      }
    },
    {
      "cell_type": "code",
      "source": [
        "def tags(directory_url):\n",
        "  \n",
        "  dir_soup = download_and_soupify(directory_url)\n",
        "  for x in dir_soup.findAll(\"ul\",attrs={\"class\": \"tags commas\"}):  \n",
        "    text=x.get_text()\n",
        "    tags_add.append(str(text))"
      ],
      "metadata": {
        "id": "myToBCBxRD9s"
      },
      "execution_count": 35,
      "outputs": []
    },
    {
      "cell_type": "code",
      "source": [
        "tags_add = []\n",
        "for i in range(Beginning_Page,Number_page):\n",
        "    tags_add.append(tags(directory_urls[i]))\n",
        "    tags_add.remove(None)\n",
        "len(tags_add)"
      ],
      "metadata": {
        "colab": {
          "base_uri": "https://localhost:8080/"
        },
        "id": "hpwvyeMeTRNi",
        "outputId": "ce3cc01f-0229-46d2-c363-fb118afb350c"
      },
      "execution_count": 36,
      "outputs": [
        {
          "output_type": "execute_result",
          "data": {
            "text/plain": [
              "2000"
            ]
          },
          "metadata": {},
          "execution_count": 36
        }
      ]
    },
    {
      "cell_type": "code",
      "source": [
        "tags_add_2 = tags_add\n",
        "for i in range(len(tags_add_2)):\n",
        "  tags_add_2[i] = tags_add_2[i].replace(\"\\n\",\"|\")\n",
        "  backslash = '\"\\\\\"'\n",
        "  tags_add_2[i] = tags_add_2[i].replace(backslash,'')\n",
        "\n",
        "# Sorry for the backlash\n",
        "# Every tag is not that clean but I'ts better than nothing"
      ],
      "metadata": {
        "id": "hBIvvqEVZmAa"
      },
      "execution_count": 37,
      "outputs": []
    },
    {
      "cell_type": "markdown",
      "source": [
        "# The Data Frame"
      ],
      "metadata": {
        "id": "LFfp56FRVx3q"
      }
    },
    {
      "cell_type": "markdown",
      "source": [
        "**Inside a data frame**"
      ],
      "metadata": {
        "id": "xyB_LsjbKRhN"
      }
    },
    {
      "cell_type": "markdown",
      "source": [
        "Finally we can put everything on a date frame.\n",
        "Data frame sorry, here we don't have anyone to date (indeed we scrapping fanfiction)\n",
        "I really want to add other stuff, I'll do it later.\n",
        "The most difficult but the most interesting will be the non requiry tags. "
      ],
      "metadata": {
        "id": "1UvWOztXKZ0X"
      }
    },
    {
      "cell_type": "code",
      "source": [
        "# I'd like to add an index to know wich work is on wich page an add an independant index ?\n",
        "index_page = []\n",
        "for i in range(Beginning_Page,Number_page):\n",
        "  for j in range(20):\n",
        "    index_page.append(i)\n",
        "len(index_page)"
      ],
      "metadata": {
        "colab": {
          "base_uri": "https://localhost:8080/"
        },
        "id": "l_rgI9dzMox2",
        "outputId": "b88cc286-5807-4457-d72b-38aabec51a95"
      },
      "execution_count": 38,
      "outputs": [
        {
          "output_type": "execute_result",
          "data": {
            "text/plain": [
              "2000"
            ]
          },
          "metadata": {},
          "execution_count": 38
        }
      ]
    },
    {
      "cell_type": "code",
      "source": [
        "# Yeah maybe we need the tag where the data is from\n",
        "tag= urlparse(TEST_URL)\n",
        "tag = tag.path\n",
        "tag_2 = tag\n",
        "tag_2 = tag_2.replace('tags','')\n",
        "tag_2 = tag_2.replace('/','')\n",
        "tag_2 = tag_2.replace('%20',' ')\n",
        "tag_2 = tag_2.replace('*s*',' and ')\n",
        "tag_2 = tag_2.replace('doryane','/')\n",
        "# The last one is too verify if there is no character asked to be replaced it's still work\n",
        "# RIP english\n",
        "\n",
        "print(tag,tag_2)\n",
        "\n"
      ],
      "metadata": {
        "colab": {
          "base_uri": "https://localhost:8080/"
        },
        "id": "eBEcBorB0IV0",
        "outputId": "1092a0aa-7c61-4a1d-fb27-25f615df2e5e"
      },
      "execution_count": 39,
      "outputs": [
        {
          "output_type": "stream",
          "name": "stdout",
          "text": [
            "/tags/Stranger%20Things%20(TV%202016)/ Stranger Things (TV 2016)\n"
          ]
        }
      ]
    },
    {
      "cell_type": "code",
      "source": [
        "import pandas as pd\n",
        "base1 = {'Index_page' : index_page, 'ID' :story_ids_2,'Date_publication' : date_work_2, 'Title_and_author' : work_title_authors_2, 'Language_of_the_work' : work_language_2, 'Word' : Nbr_words_2, 'Chapter' : Nbr_chapter, 'Hits' : Nbr_hits, 'Requiered_tags' : tags_requiered_2, 'Additionnal_tags' : tags_add}\n",
        "base1 = pd.DataFrame(data=base1)\n",
        "tag_2\n",
        "base1"
      ],
      "metadata": {
        "id": "TX6FxUGALg1A",
        "colab": {
          "base_uri": "https://localhost:8080/",
          "height": 815
        },
        "outputId": "a247b07c-cc3e-4968-dd5a-3c873655b840"
      },
      "execution_count": 40,
      "outputs": [
        {
          "output_type": "execute_result",
          "data": {
            "text/plain": [
              "      Index_page        ID Date_publication  \\\n",
              "0              1  44157319      02 Feb 2023   \n",
              "1              1  44733832      02 Feb 2023   \n",
              "2              1  21311245      02 Feb 2023   \n",
              "3              1  44511886      02 Feb 2023   \n",
              "4              1  43212331      02 Feb 2023   \n",
              "...          ...       ...              ...   \n",
              "1995         100  44318299      22 Jan 2023   \n",
              "1996         100  40882788      22 Jan 2023   \n",
              "1997         100  44463469      22 Jan 2023   \n",
              "1998         100  44462842      22 Jan 2023   \n",
              "1999         100  40308990      22 Jan 2023   \n",
              "\n",
              "                                       Title_and_author Language_of_the_work  \\\n",
              "0                    Harringrove Stuff by wrecked_fuse               English   \n",
              "1      The Past, The Future and The Present by Sodap...              English   \n",
              "2      Like Magnets by Pondermoniums  for wrecked_fuse               English   \n",
              "3                   Be Patient by TATAMONIQUELAGINETTE               English   \n",
              "4      Midnight (Belongs to You and Me) by Polkadotd...              English   \n",
              "...                                                 ...                  ...   \n",
              "1995   something happens and i'm head over heels by ...              English   \n",
              "1996                Love of a Lifetime by dibidibidani               English   \n",
              "1997                  Home by the Sea by WreakingHavok               English   \n",
              "1998            Asking You to Love Me by chattrekisses               English   \n",
              "1999   hum along 'til the feelings gone, forever by ...              English   \n",
              "\n",
              "        Word Chapter    Hits  \\\n",
              "0          0   60/60  111004   \n",
              "1      2,278     1/2       0   \n",
              "2     25,522    18/?    7588   \n",
              "3      2,395     1/1       0   \n",
              "4     24,448     4/?    1254   \n",
              "...      ...     ...     ...   \n",
              "1995  12,694     5/?    1063   \n",
              "1996  19,053     7/?     667   \n",
              "1997  11,716     4/5    1965   \n",
              "1998  22,397     1/1    1999   \n",
              "1999  22,012     4/4    2758   \n",
              "\n",
              "                                         Requiered_tags  \\\n",
              "0     | Explicit| Choose Not To Use Archive Warnings...   \n",
              "1     | Explicit| Underage| M/M, Multi| Work in Prog...   \n",
              "2     | Teen And Up Audiences| No Archive Warnings A...   \n",
              "3     | Explicit| No Archive Warnings Apply| F/F| Co...   \n",
              "4     | Explicit| Choose Not To Use Archive Warnings...   \n",
              "...                                                 ...   \n",
              "1995  | Explicit| Choose Not To Use Archive Warnings...   \n",
              "1996  | Teen And Up Audiences| No Archive Warnings A...   \n",
              "1997  | General Audiences| Choose Not To Use Archive...   \n",
              "1998  | Explicit| No Archive Warnings Apply| M/M| Co...   \n",
              "1999  | Explicit| Choose Not To Use Archive Warnings...   \n",
              "\n",
              "                                       Additionnal_tags  \n",
              "0     |Creator Chose Not To Use Archive Warnings No ...  \n",
              "1     |UnderageWill Byers/Mike Wheeler Mike Wheeler/...  \n",
              "2     |No Archive Warnings ApplyBilly Hargrove/Steve...  \n",
              "3     |No Archive Warnings ApplyRobin Buckley/Nancy ...  \n",
              "4     |Creator Chose Not To Use Archive WarningsChri...  \n",
              "...                                                 ...  \n",
              "1995  |Creator Chose Not To Use Archive WarningsStev...  \n",
              "1996  |No Archive Warnings ApplyChrissy Cunningham/E...  \n",
              "1997  |Creator Chose Not To Use Archive WarningsWill...  \n",
              "1998  |No Archive Warnings ApplySteve Harrington/Edd...  \n",
              "1999  |Creator Chose Not To Use Archive WarningsStev...  \n",
              "\n",
              "[2000 rows x 10 columns]"
            ],
            "text/html": [
              "\n",
              "  <div id=\"df-9fe4f7be-b6d1-4da5-beed-f63c491db7e6\">\n",
              "    <div class=\"colab-df-container\">\n",
              "      <div>\n",
              "<style scoped>\n",
              "    .dataframe tbody tr th:only-of-type {\n",
              "        vertical-align: middle;\n",
              "    }\n",
              "\n",
              "    .dataframe tbody tr th {\n",
              "        vertical-align: top;\n",
              "    }\n",
              "\n",
              "    .dataframe thead th {\n",
              "        text-align: right;\n",
              "    }\n",
              "</style>\n",
              "<table border=\"1\" class=\"dataframe\">\n",
              "  <thead>\n",
              "    <tr style=\"text-align: right;\">\n",
              "      <th></th>\n",
              "      <th>Index_page</th>\n",
              "      <th>ID</th>\n",
              "      <th>Date_publication</th>\n",
              "      <th>Title_and_author</th>\n",
              "      <th>Language_of_the_work</th>\n",
              "      <th>Word</th>\n",
              "      <th>Chapter</th>\n",
              "      <th>Hits</th>\n",
              "      <th>Requiered_tags</th>\n",
              "      <th>Additionnal_tags</th>\n",
              "    </tr>\n",
              "  </thead>\n",
              "  <tbody>\n",
              "    <tr>\n",
              "      <th>0</th>\n",
              "      <td>1</td>\n",
              "      <td>44157319</td>\n",
              "      <td>02 Feb 2023</td>\n",
              "      <td>Harringrove Stuff by wrecked_fuse</td>\n",
              "      <td>English</td>\n",
              "      <td>0</td>\n",
              "      <td>60/60</td>\n",
              "      <td>111004</td>\n",
              "      <td>| Explicit| Choose Not To Use Archive Warnings...</td>\n",
              "      <td>|Creator Chose Not To Use Archive Warnings No ...</td>\n",
              "    </tr>\n",
              "    <tr>\n",
              "      <th>1</th>\n",
              "      <td>1</td>\n",
              "      <td>44733832</td>\n",
              "      <td>02 Feb 2023</td>\n",
              "      <td>The Past, The Future and The Present by Sodap...</td>\n",
              "      <td>English</td>\n",
              "      <td>2,278</td>\n",
              "      <td>1/2</td>\n",
              "      <td>0</td>\n",
              "      <td>| Explicit| Underage| M/M, Multi| Work in Prog...</td>\n",
              "      <td>|UnderageWill Byers/Mike Wheeler Mike Wheeler/...</td>\n",
              "    </tr>\n",
              "    <tr>\n",
              "      <th>2</th>\n",
              "      <td>1</td>\n",
              "      <td>21311245</td>\n",
              "      <td>02 Feb 2023</td>\n",
              "      <td>Like Magnets by Pondermoniums  for wrecked_fuse</td>\n",
              "      <td>English</td>\n",
              "      <td>25,522</td>\n",
              "      <td>18/?</td>\n",
              "      <td>7588</td>\n",
              "      <td>| Teen And Up Audiences| No Archive Warnings A...</td>\n",
              "      <td>|No Archive Warnings ApplyBilly Hargrove/Steve...</td>\n",
              "    </tr>\n",
              "    <tr>\n",
              "      <th>3</th>\n",
              "      <td>1</td>\n",
              "      <td>44511886</td>\n",
              "      <td>02 Feb 2023</td>\n",
              "      <td>Be Patient by TATAMONIQUELAGINETTE</td>\n",
              "      <td>English</td>\n",
              "      <td>2,395</td>\n",
              "      <td>1/1</td>\n",
              "      <td>0</td>\n",
              "      <td>| Explicit| No Archive Warnings Apply| F/F| Co...</td>\n",
              "      <td>|No Archive Warnings ApplyRobin Buckley/Nancy ...</td>\n",
              "    </tr>\n",
              "    <tr>\n",
              "      <th>4</th>\n",
              "      <td>1</td>\n",
              "      <td>43212331</td>\n",
              "      <td>02 Feb 2023</td>\n",
              "      <td>Midnight (Belongs to You and Me) by Polkadotd...</td>\n",
              "      <td>English</td>\n",
              "      <td>24,448</td>\n",
              "      <td>4/?</td>\n",
              "      <td>1254</td>\n",
              "      <td>| Explicit| Choose Not To Use Archive Warnings...</td>\n",
              "      <td>|Creator Chose Not To Use Archive WarningsChri...</td>\n",
              "    </tr>\n",
              "    <tr>\n",
              "      <th>...</th>\n",
              "      <td>...</td>\n",
              "      <td>...</td>\n",
              "      <td>...</td>\n",
              "      <td>...</td>\n",
              "      <td>...</td>\n",
              "      <td>...</td>\n",
              "      <td>...</td>\n",
              "      <td>...</td>\n",
              "      <td>...</td>\n",
              "      <td>...</td>\n",
              "    </tr>\n",
              "    <tr>\n",
              "      <th>1995</th>\n",
              "      <td>100</td>\n",
              "      <td>44318299</td>\n",
              "      <td>22 Jan 2023</td>\n",
              "      <td>something happens and i'm head over heels by ...</td>\n",
              "      <td>English</td>\n",
              "      <td>12,694</td>\n",
              "      <td>5/?</td>\n",
              "      <td>1063</td>\n",
              "      <td>| Explicit| Choose Not To Use Archive Warnings...</td>\n",
              "      <td>|Creator Chose Not To Use Archive WarningsStev...</td>\n",
              "    </tr>\n",
              "    <tr>\n",
              "      <th>1996</th>\n",
              "      <td>100</td>\n",
              "      <td>40882788</td>\n",
              "      <td>22 Jan 2023</td>\n",
              "      <td>Love of a Lifetime by dibidibidani</td>\n",
              "      <td>English</td>\n",
              "      <td>19,053</td>\n",
              "      <td>7/?</td>\n",
              "      <td>667</td>\n",
              "      <td>| Teen And Up Audiences| No Archive Warnings A...</td>\n",
              "      <td>|No Archive Warnings ApplyChrissy Cunningham/E...</td>\n",
              "    </tr>\n",
              "    <tr>\n",
              "      <th>1997</th>\n",
              "      <td>100</td>\n",
              "      <td>44463469</td>\n",
              "      <td>22 Jan 2023</td>\n",
              "      <td>Home by the Sea by WreakingHavok</td>\n",
              "      <td>English</td>\n",
              "      <td>11,716</td>\n",
              "      <td>4/5</td>\n",
              "      <td>1965</td>\n",
              "      <td>| General Audiences| Choose Not To Use Archive...</td>\n",
              "      <td>|Creator Chose Not To Use Archive WarningsWill...</td>\n",
              "    </tr>\n",
              "    <tr>\n",
              "      <th>1998</th>\n",
              "      <td>100</td>\n",
              "      <td>44462842</td>\n",
              "      <td>22 Jan 2023</td>\n",
              "      <td>Asking You to Love Me by chattrekisses</td>\n",
              "      <td>English</td>\n",
              "      <td>22,397</td>\n",
              "      <td>1/1</td>\n",
              "      <td>1999</td>\n",
              "      <td>| Explicit| No Archive Warnings Apply| M/M| Co...</td>\n",
              "      <td>|No Archive Warnings ApplySteve Harrington/Edd...</td>\n",
              "    </tr>\n",
              "    <tr>\n",
              "      <th>1999</th>\n",
              "      <td>100</td>\n",
              "      <td>40308990</td>\n",
              "      <td>22 Jan 2023</td>\n",
              "      <td>hum along 'til the feelings gone, forever by ...</td>\n",
              "      <td>English</td>\n",
              "      <td>22,012</td>\n",
              "      <td>4/4</td>\n",
              "      <td>2758</td>\n",
              "      <td>| Explicit| Choose Not To Use Archive Warnings...</td>\n",
              "      <td>|Creator Chose Not To Use Archive WarningsStev...</td>\n",
              "    </tr>\n",
              "  </tbody>\n",
              "</table>\n",
              "<p>2000 rows × 10 columns</p>\n",
              "</div>\n",
              "      <button class=\"colab-df-convert\" onclick=\"convertToInteractive('df-9fe4f7be-b6d1-4da5-beed-f63c491db7e6')\"\n",
              "              title=\"Convert this dataframe to an interactive table.\"\n",
              "              style=\"display:none;\">\n",
              "        \n",
              "  <svg xmlns=\"http://www.w3.org/2000/svg\" height=\"24px\"viewBox=\"0 0 24 24\"\n",
              "       width=\"24px\">\n",
              "    <path d=\"M0 0h24v24H0V0z\" fill=\"none\"/>\n",
              "    <path d=\"M18.56 5.44l.94 2.06.94-2.06 2.06-.94-2.06-.94-.94-2.06-.94 2.06-2.06.94zm-11 1L8.5 8.5l.94-2.06 2.06-.94-2.06-.94L8.5 2.5l-.94 2.06-2.06.94zm10 10l.94 2.06.94-2.06 2.06-.94-2.06-.94-.94-2.06-.94 2.06-2.06.94z\"/><path d=\"M17.41 7.96l-1.37-1.37c-.4-.4-.92-.59-1.43-.59-.52 0-1.04.2-1.43.59L10.3 9.45l-7.72 7.72c-.78.78-.78 2.05 0 2.83L4 21.41c.39.39.9.59 1.41.59.51 0 1.02-.2 1.41-.59l7.78-7.78 2.81-2.81c.8-.78.8-2.07 0-2.86zM5.41 20L4 18.59l7.72-7.72 1.47 1.35L5.41 20z\"/>\n",
              "  </svg>\n",
              "      </button>\n",
              "      \n",
              "  <style>\n",
              "    .colab-df-container {\n",
              "      display:flex;\n",
              "      flex-wrap:wrap;\n",
              "      gap: 12px;\n",
              "    }\n",
              "\n",
              "    .colab-df-convert {\n",
              "      background-color: #E8F0FE;\n",
              "      border: none;\n",
              "      border-radius: 50%;\n",
              "      cursor: pointer;\n",
              "      display: none;\n",
              "      fill: #1967D2;\n",
              "      height: 32px;\n",
              "      padding: 0 0 0 0;\n",
              "      width: 32px;\n",
              "    }\n",
              "\n",
              "    .colab-df-convert:hover {\n",
              "      background-color: #E2EBFA;\n",
              "      box-shadow: 0px 1px 2px rgba(60, 64, 67, 0.3), 0px 1px 3px 1px rgba(60, 64, 67, 0.15);\n",
              "      fill: #174EA6;\n",
              "    }\n",
              "\n",
              "    [theme=dark] .colab-df-convert {\n",
              "      background-color: #3B4455;\n",
              "      fill: #D2E3FC;\n",
              "    }\n",
              "\n",
              "    [theme=dark] .colab-df-convert:hover {\n",
              "      background-color: #434B5C;\n",
              "      box-shadow: 0px 1px 3px 1px rgba(0, 0, 0, 0.15);\n",
              "      filter: drop-shadow(0px 1px 2px rgba(0, 0, 0, 0.3));\n",
              "      fill: #FFFFFF;\n",
              "    }\n",
              "  </style>\n",
              "\n",
              "      <script>\n",
              "        const buttonEl =\n",
              "          document.querySelector('#df-9fe4f7be-b6d1-4da5-beed-f63c491db7e6 button.colab-df-convert');\n",
              "        buttonEl.style.display =\n",
              "          google.colab.kernel.accessAllowed ? 'block' : 'none';\n",
              "\n",
              "        async function convertToInteractive(key) {\n",
              "          const element = document.querySelector('#df-9fe4f7be-b6d1-4da5-beed-f63c491db7e6');\n",
              "          const dataTable =\n",
              "            await google.colab.kernel.invokeFunction('convertToInteractive',\n",
              "                                                     [key], {});\n",
              "          if (!dataTable) return;\n",
              "\n",
              "          const docLinkHtml = 'Like what you see? Visit the ' +\n",
              "            '<a target=\"_blank\" href=https://colab.research.google.com/notebooks/data_table.ipynb>data table notebook</a>'\n",
              "            + ' to learn more about interactive tables.';\n",
              "          element.innerHTML = '';\n",
              "          dataTable['output_type'] = 'display_data';\n",
              "          await google.colab.output.renderOutput(dataTable, element);\n",
              "          const docLink = document.createElement('div');\n",
              "          docLink.innerHTML = docLinkHtml;\n",
              "          element.appendChild(docLink);\n",
              "        }\n",
              "      </script>\n",
              "    </div>\n",
              "  </div>\n",
              "  "
            ]
          },
          "metadata": {},
          "execution_count": 40
        }
      ]
    },
    {
      "cell_type": "code",
      "source": [
        "print(\"--- %s seconds ---\" % (time.time() - start_time))"
      ],
      "metadata": {
        "colab": {
          "base_uri": "https://localhost:8080/"
        },
        "id": "iPBjpjyzFDjJ",
        "outputId": "a6e2fb55-ff29-4712-ccfb-b8d94c168069"
      },
      "execution_count": 41,
      "outputs": [
        {
          "output_type": "stream",
          "name": "stdout",
          "text": [
            "--- 395.04031896591187 seconds ---\n"
          ]
        }
      ]
    },
    {
      "cell_type": "markdown",
      "source": [
        "**Basic graph and histogram**"
      ],
      "metadata": {
        "id": "Z0fe2hraf-kD"
      }
    },
    {
      "cell_type": "markdown",
      "source": [
        "So what we trying to do is visual the data and what better than graph and histogram.\n",
        "At this point we just have the ID and Date of publication of the works.\n",
        "Later, if I'm not lazy or I found myself unemployed I will append other data."
      ],
      "metadata": {
        "id": "CNpNK_eEilS7"
      }
    },
    {
      "cell_type": "markdown",
      "source": [
        "First thing first, we need to modify the data base :"
      ],
      "metadata": {
        "id": "JZG0KKNmjHWW"
      }
    },
    {
      "cell_type": "code",
      "source": [
        "base_graph = base1"
      ],
      "metadata": {
        "id": "cooApIDAjGy1"
      },
      "execution_count": 42,
      "outputs": []
    },
    {
      "cell_type": "code",
      "source": [
        "# We're trying to transform dates as real dates (not romantic one I don't know what this things is)\n",
        "# EDIT : you already made this joke we get it\n",
        "base_graph[\"Date_publication\"] = pd.to_datetime(base_graph[\"Date_publication\"])\n",
        "\n",
        "# As so the months associated \n",
        "base_graph[\"Month\"] = base_graph[\"Date_publication\"].dt.month\n",
        "base_graph[\"Month\"] = str(base_graph[\"Month\"])\n",
        "\n",
        "# In this house, the ID aren't numeric\n",
        "str(base_graph[\"ID\"])\n",
        "\n",
        "# Here the idea is to map the data as how it evolve throught time\n",
        "base_graph = base_graph.sort_values(by=['Date_publication'])\n",
        "\n",
        "# Index are not in the chronogical order, so we're gonna make them by ourself\n",
        "Index = list(range(0,len(story_ids_2)))\n",
        "base_graph[\"Index\"] = Index\n",
        "base_graph\n"
      ],
      "metadata": {
        "id": "fLk9E0i4jmMO",
        "colab": {
          "base_uri": "https://localhost:8080/",
          "height": 1000
        },
        "outputId": "69f87323-9f0c-4e0b-b6f4-11ece74c3d69"
      },
      "execution_count": 43,
      "outputs": [
        {
          "output_type": "execute_result",
          "data": {
            "text/plain": [
              "      Index_page        ID Date_publication  \\\n",
              "1999         100  40308990       2023-01-22   \n",
              "1931          97  41392449       2023-01-22   \n",
              "1932          97  44472643       2023-01-22   \n",
              "1933          97  42779589       2023-01-22   \n",
              "1934          97  41297100       2023-01-22   \n",
              "...          ...       ...              ...   \n",
              "85             5  44723623       2023-02-02   \n",
              "86             5  44723116       2023-02-02   \n",
              "87             5  44722480       2023-02-02   \n",
              "73             4  44479567       2023-02-02   \n",
              "0              1  44157319       2023-02-02   \n",
              "\n",
              "                                       Title_and_author Language_of_the_work  \\\n",
              "1999   hum along 'til the feelings gone, forever by ...              English   \n",
              "1931   Take me back (to the night we met) by RedCatRen               English   \n",
              "1932                            love, will. by cpanoui               English   \n",
              "1933        It Happened One Summer by caitlingracerose               English   \n",
              "1934              like water in your hands by ri_bread               English   \n",
              "...                                                 ...                  ...   \n",
              "85     NSFW Headcanons - Billy Hargrove/Afab!Reader ...              English   \n",
              "86       I'll Be Your Mirror by the_velvet_aboveground               English   \n",
              "87                                Astronomy by izz_L_j               English   \n",
              "73     I'll follow the beat of your heart by Knight_...              English   \n",
              "0                    Harringrove Stuff by wrecked_fuse               English   \n",
              "\n",
              "         Word Chapter    Hits  \\\n",
              "1999   22,012     4/4    2758   \n",
              "1931   14,527     2/3     789   \n",
              "1932    2,681     1/1     279   \n",
              "1933  115,987    37/?   22454   \n",
              "1934   11,030     4/5     412   \n",
              "...       ...     ...     ...   \n",
              "85        861     1/1      27   \n",
              "86      1,759     2/?      37   \n",
              "87      1,777     4/4      49   \n",
              "73     35,304   11/25    1709   \n",
              "0           0   60/60  111004   \n",
              "\n",
              "                                         Requiered_tags  \\\n",
              "1999  | Explicit| Choose Not To Use Archive Warnings...   \n",
              "1931  | Not Rated| No Archive Warnings Apply| F/M| W...   \n",
              "1932  | Teen And Up Audiences| No Archive Warnings A...   \n",
              "1933  | Explicit| No Archive Warnings Apply| F/M| Wo...   \n",
              "1934  | Explicit| No Archive Warnings Apply| M/M| Wo...   \n",
              "...                                                 ...   \n",
              "85    | Mature| No Archive Warnings Apply| F/M| Comp...   \n",
              "86    | Mature| No Archive Warnings Apply| M/M| Work...   \n",
              "87    | Not Rated| Major Character Death| No categor...   \n",
              "73    | Not Rated| Choose Not To Use Archive Warning...   \n",
              "0     | Explicit| Choose Not To Use Archive Warnings...   \n",
              "\n",
              "                                       Additionnal_tags  \\\n",
              "1999  |Creator Chose Not To Use Archive WarningsStev...   \n",
              "1931  |No Archive Warnings ApplySteve Harrington/Nan...   \n",
              "1932  |No Archive Warnings ApplyWill Byers/Mike Whee...   \n",
              "1933  |No Archive Warnings ApplyJoseph Quinn (Actor)...   \n",
              "1934  |No Archive Warnings ApplySteve Harrington/Edd...   \n",
              "...                                                 ...   \n",
              "85    |No Archive Warnings ApplyBilly Hargrove/Reade...   \n",
              "86    |No Archive Warnings ApplySteve Harrington/Edd...   \n",
              "87    |Major Character DeathSteve Harrington & Dusti...   \n",
              "73    |Creator Chose Not To Use Archive WarningsStev...   \n",
              "0     |Creator Chose Not To Use Archive Warnings No ...   \n",
              "\n",
              "                                                  Month  Index  \n",
              "1999  0       2\\n1       2\\n2       2\\n3       2\\n4 ...      0  \n",
              "1931  0       2\\n1       2\\n2       2\\n3       2\\n4 ...      1  \n",
              "1932  0       2\\n1       2\\n2       2\\n3       2\\n4 ...      2  \n",
              "1933  0       2\\n1       2\\n2       2\\n3       2\\n4 ...      3  \n",
              "1934  0       2\\n1       2\\n2       2\\n3       2\\n4 ...      4  \n",
              "...                                                 ...    ...  \n",
              "85    0       2\\n1       2\\n2       2\\n3       2\\n4 ...   1995  \n",
              "86    0       2\\n1       2\\n2       2\\n3       2\\n4 ...   1996  \n",
              "87    0       2\\n1       2\\n2       2\\n3       2\\n4 ...   1997  \n",
              "73    0       2\\n1       2\\n2       2\\n3       2\\n4 ...   1998  \n",
              "0     0       2\\n1       2\\n2       2\\n3       2\\n4 ...   1999  \n",
              "\n",
              "[2000 rows x 12 columns]"
            ],
            "text/html": [
              "\n",
              "  <div id=\"df-472fcd1b-3023-4427-b375-24ef7cbe54b5\">\n",
              "    <div class=\"colab-df-container\">\n",
              "      <div>\n",
              "<style scoped>\n",
              "    .dataframe tbody tr th:only-of-type {\n",
              "        vertical-align: middle;\n",
              "    }\n",
              "\n",
              "    .dataframe tbody tr th {\n",
              "        vertical-align: top;\n",
              "    }\n",
              "\n",
              "    .dataframe thead th {\n",
              "        text-align: right;\n",
              "    }\n",
              "</style>\n",
              "<table border=\"1\" class=\"dataframe\">\n",
              "  <thead>\n",
              "    <tr style=\"text-align: right;\">\n",
              "      <th></th>\n",
              "      <th>Index_page</th>\n",
              "      <th>ID</th>\n",
              "      <th>Date_publication</th>\n",
              "      <th>Title_and_author</th>\n",
              "      <th>Language_of_the_work</th>\n",
              "      <th>Word</th>\n",
              "      <th>Chapter</th>\n",
              "      <th>Hits</th>\n",
              "      <th>Requiered_tags</th>\n",
              "      <th>Additionnal_tags</th>\n",
              "      <th>Month</th>\n",
              "      <th>Index</th>\n",
              "    </tr>\n",
              "  </thead>\n",
              "  <tbody>\n",
              "    <tr>\n",
              "      <th>1999</th>\n",
              "      <td>100</td>\n",
              "      <td>40308990</td>\n",
              "      <td>2023-01-22</td>\n",
              "      <td>hum along 'til the feelings gone, forever by ...</td>\n",
              "      <td>English</td>\n",
              "      <td>22,012</td>\n",
              "      <td>4/4</td>\n",
              "      <td>2758</td>\n",
              "      <td>| Explicit| Choose Not To Use Archive Warnings...</td>\n",
              "      <td>|Creator Chose Not To Use Archive WarningsStev...</td>\n",
              "      <td>0       2\\n1       2\\n2       2\\n3       2\\n4 ...</td>\n",
              "      <td>0</td>\n",
              "    </tr>\n",
              "    <tr>\n",
              "      <th>1931</th>\n",
              "      <td>97</td>\n",
              "      <td>41392449</td>\n",
              "      <td>2023-01-22</td>\n",
              "      <td>Take me back (to the night we met) by RedCatRen</td>\n",
              "      <td>English</td>\n",
              "      <td>14,527</td>\n",
              "      <td>2/3</td>\n",
              "      <td>789</td>\n",
              "      <td>| Not Rated| No Archive Warnings Apply| F/M| W...</td>\n",
              "      <td>|No Archive Warnings ApplySteve Harrington/Nan...</td>\n",
              "      <td>0       2\\n1       2\\n2       2\\n3       2\\n4 ...</td>\n",
              "      <td>1</td>\n",
              "    </tr>\n",
              "    <tr>\n",
              "      <th>1932</th>\n",
              "      <td>97</td>\n",
              "      <td>44472643</td>\n",
              "      <td>2023-01-22</td>\n",
              "      <td>love, will. by cpanoui</td>\n",
              "      <td>English</td>\n",
              "      <td>2,681</td>\n",
              "      <td>1/1</td>\n",
              "      <td>279</td>\n",
              "      <td>| Teen And Up Audiences| No Archive Warnings A...</td>\n",
              "      <td>|No Archive Warnings ApplyWill Byers/Mike Whee...</td>\n",
              "      <td>0       2\\n1       2\\n2       2\\n3       2\\n4 ...</td>\n",
              "      <td>2</td>\n",
              "    </tr>\n",
              "    <tr>\n",
              "      <th>1933</th>\n",
              "      <td>97</td>\n",
              "      <td>42779589</td>\n",
              "      <td>2023-01-22</td>\n",
              "      <td>It Happened One Summer by caitlingracerose</td>\n",
              "      <td>English</td>\n",
              "      <td>115,987</td>\n",
              "      <td>37/?</td>\n",
              "      <td>22454</td>\n",
              "      <td>| Explicit| No Archive Warnings Apply| F/M| Wo...</td>\n",
              "      <td>|No Archive Warnings ApplyJoseph Quinn (Actor)...</td>\n",
              "      <td>0       2\\n1       2\\n2       2\\n3       2\\n4 ...</td>\n",
              "      <td>3</td>\n",
              "    </tr>\n",
              "    <tr>\n",
              "      <th>1934</th>\n",
              "      <td>97</td>\n",
              "      <td>41297100</td>\n",
              "      <td>2023-01-22</td>\n",
              "      <td>like water in your hands by ri_bread</td>\n",
              "      <td>English</td>\n",
              "      <td>11,030</td>\n",
              "      <td>4/5</td>\n",
              "      <td>412</td>\n",
              "      <td>| Explicit| No Archive Warnings Apply| M/M| Wo...</td>\n",
              "      <td>|No Archive Warnings ApplySteve Harrington/Edd...</td>\n",
              "      <td>0       2\\n1       2\\n2       2\\n3       2\\n4 ...</td>\n",
              "      <td>4</td>\n",
              "    </tr>\n",
              "    <tr>\n",
              "      <th>...</th>\n",
              "      <td>...</td>\n",
              "      <td>...</td>\n",
              "      <td>...</td>\n",
              "      <td>...</td>\n",
              "      <td>...</td>\n",
              "      <td>...</td>\n",
              "      <td>...</td>\n",
              "      <td>...</td>\n",
              "      <td>...</td>\n",
              "      <td>...</td>\n",
              "      <td>...</td>\n",
              "      <td>...</td>\n",
              "    </tr>\n",
              "    <tr>\n",
              "      <th>85</th>\n",
              "      <td>5</td>\n",
              "      <td>44723623</td>\n",
              "      <td>2023-02-02</td>\n",
              "      <td>NSFW Headcanons - Billy Hargrove/Afab!Reader ...</td>\n",
              "      <td>English</td>\n",
              "      <td>861</td>\n",
              "      <td>1/1</td>\n",
              "      <td>27</td>\n",
              "      <td>| Mature| No Archive Warnings Apply| F/M| Comp...</td>\n",
              "      <td>|No Archive Warnings ApplyBilly Hargrove/Reade...</td>\n",
              "      <td>0       2\\n1       2\\n2       2\\n3       2\\n4 ...</td>\n",
              "      <td>1995</td>\n",
              "    </tr>\n",
              "    <tr>\n",
              "      <th>86</th>\n",
              "      <td>5</td>\n",
              "      <td>44723116</td>\n",
              "      <td>2023-02-02</td>\n",
              "      <td>I'll Be Your Mirror by the_velvet_aboveground</td>\n",
              "      <td>English</td>\n",
              "      <td>1,759</td>\n",
              "      <td>2/?</td>\n",
              "      <td>37</td>\n",
              "      <td>| Mature| No Archive Warnings Apply| M/M| Work...</td>\n",
              "      <td>|No Archive Warnings ApplySteve Harrington/Edd...</td>\n",
              "      <td>0       2\\n1       2\\n2       2\\n3       2\\n4 ...</td>\n",
              "      <td>1996</td>\n",
              "    </tr>\n",
              "    <tr>\n",
              "      <th>87</th>\n",
              "      <td>5</td>\n",
              "      <td>44722480</td>\n",
              "      <td>2023-02-02</td>\n",
              "      <td>Astronomy by izz_L_j</td>\n",
              "      <td>English</td>\n",
              "      <td>1,777</td>\n",
              "      <td>4/4</td>\n",
              "      <td>49</td>\n",
              "      <td>| Not Rated| Major Character Death| No categor...</td>\n",
              "      <td>|Major Character DeathSteve Harrington &amp; Dusti...</td>\n",
              "      <td>0       2\\n1       2\\n2       2\\n3       2\\n4 ...</td>\n",
              "      <td>1997</td>\n",
              "    </tr>\n",
              "    <tr>\n",
              "      <th>73</th>\n",
              "      <td>4</td>\n",
              "      <td>44479567</td>\n",
              "      <td>2023-02-02</td>\n",
              "      <td>I'll follow the beat of your heart by Knight_...</td>\n",
              "      <td>English</td>\n",
              "      <td>35,304</td>\n",
              "      <td>11/25</td>\n",
              "      <td>1709</td>\n",
              "      <td>| Not Rated| Choose Not To Use Archive Warning...</td>\n",
              "      <td>|Creator Chose Not To Use Archive WarningsStev...</td>\n",
              "      <td>0       2\\n1       2\\n2       2\\n3       2\\n4 ...</td>\n",
              "      <td>1998</td>\n",
              "    </tr>\n",
              "    <tr>\n",
              "      <th>0</th>\n",
              "      <td>1</td>\n",
              "      <td>44157319</td>\n",
              "      <td>2023-02-02</td>\n",
              "      <td>Harringrove Stuff by wrecked_fuse</td>\n",
              "      <td>English</td>\n",
              "      <td>0</td>\n",
              "      <td>60/60</td>\n",
              "      <td>111004</td>\n",
              "      <td>| Explicit| Choose Not To Use Archive Warnings...</td>\n",
              "      <td>|Creator Chose Not To Use Archive Warnings No ...</td>\n",
              "      <td>0       2\\n1       2\\n2       2\\n3       2\\n4 ...</td>\n",
              "      <td>1999</td>\n",
              "    </tr>\n",
              "  </tbody>\n",
              "</table>\n",
              "<p>2000 rows × 12 columns</p>\n",
              "</div>\n",
              "      <button class=\"colab-df-convert\" onclick=\"convertToInteractive('df-472fcd1b-3023-4427-b375-24ef7cbe54b5')\"\n",
              "              title=\"Convert this dataframe to an interactive table.\"\n",
              "              style=\"display:none;\">\n",
              "        \n",
              "  <svg xmlns=\"http://www.w3.org/2000/svg\" height=\"24px\"viewBox=\"0 0 24 24\"\n",
              "       width=\"24px\">\n",
              "    <path d=\"M0 0h24v24H0V0z\" fill=\"none\"/>\n",
              "    <path d=\"M18.56 5.44l.94 2.06.94-2.06 2.06-.94-2.06-.94-.94-2.06-.94 2.06-2.06.94zm-11 1L8.5 8.5l.94-2.06 2.06-.94-2.06-.94L8.5 2.5l-.94 2.06-2.06.94zm10 10l.94 2.06.94-2.06 2.06-.94-2.06-.94-.94-2.06-.94 2.06-2.06.94z\"/><path d=\"M17.41 7.96l-1.37-1.37c-.4-.4-.92-.59-1.43-.59-.52 0-1.04.2-1.43.59L10.3 9.45l-7.72 7.72c-.78.78-.78 2.05 0 2.83L4 21.41c.39.39.9.59 1.41.59.51 0 1.02-.2 1.41-.59l7.78-7.78 2.81-2.81c.8-.78.8-2.07 0-2.86zM5.41 20L4 18.59l7.72-7.72 1.47 1.35L5.41 20z\"/>\n",
              "  </svg>\n",
              "      </button>\n",
              "      \n",
              "  <style>\n",
              "    .colab-df-container {\n",
              "      display:flex;\n",
              "      flex-wrap:wrap;\n",
              "      gap: 12px;\n",
              "    }\n",
              "\n",
              "    .colab-df-convert {\n",
              "      background-color: #E8F0FE;\n",
              "      border: none;\n",
              "      border-radius: 50%;\n",
              "      cursor: pointer;\n",
              "      display: none;\n",
              "      fill: #1967D2;\n",
              "      height: 32px;\n",
              "      padding: 0 0 0 0;\n",
              "      width: 32px;\n",
              "    }\n",
              "\n",
              "    .colab-df-convert:hover {\n",
              "      background-color: #E2EBFA;\n",
              "      box-shadow: 0px 1px 2px rgba(60, 64, 67, 0.3), 0px 1px 3px 1px rgba(60, 64, 67, 0.15);\n",
              "      fill: #174EA6;\n",
              "    }\n",
              "\n",
              "    [theme=dark] .colab-df-convert {\n",
              "      background-color: #3B4455;\n",
              "      fill: #D2E3FC;\n",
              "    }\n",
              "\n",
              "    [theme=dark] .colab-df-convert:hover {\n",
              "      background-color: #434B5C;\n",
              "      box-shadow: 0px 1px 3px 1px rgba(0, 0, 0, 0.15);\n",
              "      filter: drop-shadow(0px 1px 2px rgba(0, 0, 0, 0.3));\n",
              "      fill: #FFFFFF;\n",
              "    }\n",
              "  </style>\n",
              "\n",
              "      <script>\n",
              "        const buttonEl =\n",
              "          document.querySelector('#df-472fcd1b-3023-4427-b375-24ef7cbe54b5 button.colab-df-convert');\n",
              "        buttonEl.style.display =\n",
              "          google.colab.kernel.accessAllowed ? 'block' : 'none';\n",
              "\n",
              "        async function convertToInteractive(key) {\n",
              "          const element = document.querySelector('#df-472fcd1b-3023-4427-b375-24ef7cbe54b5');\n",
              "          const dataTable =\n",
              "            await google.colab.kernel.invokeFunction('convertToInteractive',\n",
              "                                                     [key], {});\n",
              "          if (!dataTable) return;\n",
              "\n",
              "          const docLinkHtml = 'Like what you see? Visit the ' +\n",
              "            '<a target=\"_blank\" href=https://colab.research.google.com/notebooks/data_table.ipynb>data table notebook</a>'\n",
              "            + ' to learn more about interactive tables.';\n",
              "          element.innerHTML = '';\n",
              "          dataTable['output_type'] = 'display_data';\n",
              "          await google.colab.output.renderOutput(dataTable, element);\n",
              "          const docLink = document.createElement('div');\n",
              "          docLink.innerHTML = docLinkHtml;\n",
              "          element.appendChild(docLink);\n",
              "        }\n",
              "      </script>\n",
              "    </div>\n",
              "  </div>\n",
              "  "
            ]
          },
          "metadata": {},
          "execution_count": 43
        }
      ]
    },
    {
      "cell_type": "markdown",
      "source": [
        "Time graph :"
      ],
      "metadata": {
        "id": "monjjbhBvcNh"
      }
    },
    {
      "cell_type": "code",
      "source": [
        "# x and y of course\n",
        "x = base_graph['Date_publication']\n",
        "y = base_graph['Index']\n",
        "\n",
        "# plot\n",
        "plt.plot(x,y)\n",
        "\n",
        "ylabel = \"Works with the tag :\" + tag_2\n",
        "\n",
        "plt.xlabel(\"Time\")\n",
        "plt.ylabel(ylabel)\n",
        "\n",
        "# beautify the x-labels\n",
        "plt.gcf().autofmt_xdate()\n",
        "\n",
        "plt.show()"
      ],
      "metadata": {
        "colab": {
          "base_uri": "https://localhost:8080/",
          "height": 303
        },
        "id": "LfA7_K6FvJxs",
        "outputId": "5b5628f3-bd28-4760-8b87-755e0ff424eb"
      },
      "execution_count": 44,
      "outputs": [
        {
          "output_type": "display_data",
          "data": {
            "text/plain": [
              "<Figure size 432x288 with 1 Axes>"
            ],
            "image/png": "[encoded data removed]"
          },
          "metadata": {
            "needs_background": "light"
          }
        }
      ]
    },
    {
      "cell_type": "markdown",
      "source": [
        "So the problem here is when there is too much data there's not enought dates so it became an ugly stair and serve no purpose."
      ],
      "metadata": {
        "id": "GvSOvIBCR2U0"
      }
    },
    {
      "cell_type": "markdown",
      "source": [
        "*Histogram* :"
      ],
      "metadata": {
        "id": "wpKrmLiMSrSV"
      }
    },
    {
      "cell_type": "code",
      "source": [
        "print(base_graph.hist(\"Date_publication\"))"
      ],
      "metadata": {
        "colab": {
          "base_uri": "https://localhost:8080/",
          "height": 299
        },
        "id": "yG7V-ol9Seo9",
        "outputId": "58ad6aab-92ac-4d63-89b5-c6c8e183a66e"
      },
      "execution_count": 45,
      "outputs": [
        {
          "output_type": "stream",
          "name": "stdout",
          "text": [
            "[[<matplotlib.axes._subplots.AxesSubplot object at 0x7fae56e39790>]]\n"
          ]
        },
        {
          "output_type": "display_data",
          "data": {
            "text/plain": [
              "<Figure size 432x288 with 1 Axes>"
            ],
            "image/png": "[encoded data removed]"
          },
          "metadata": {
            "needs_background": "light"
          }
        }
      ]
    },
    {
      "cell_type": "markdown",
      "source": [
        "**Find tags in works**"
      ],
      "metadata": {
        "id": "aGOkXJFRRgq2"
      }
    },
    {
      "cell_type": "markdown",
      "source": [
        "Ok so I try to make a function where you can find a tag in the dataset so you don't have to append every tag independently."
      ],
      "metadata": {
        "id": "8nJSQr0NcIpD"
      }
    },
    {
      "cell_type": "markdown",
      "source": [
        "*Parameters*\n",
        "\n",
        "So I'm just asking you wich tag you want to search and on wich variable.\n",
        "The tag is just the word or name of the character, all you need is to respect uppercase and space.\n"
      ],
      "metadata": {
        "id": "4UExsyhLerKu"
      }
    },
    {
      "cell_type": "code",
      "source": [
        "tag_search = \"Will Byers\"\n",
        "\n",
        "# Just an exemple\n",
        "# Will fans are so toxic omg\n",
        "# (True)"
      ],
      "metadata": {
        "id": "KlHBD_u5epYt"
      },
      "execution_count": 46,
      "outputs": []
    },
    {
      "cell_type": "markdown",
      "source": [
        "\n",
        "And for wich variable you can choose between the requiered tag or the additional tag."
      ],
      "metadata": {
        "id": "EB3rScqyN2C3"
      }
    },
    {
      "cell_type": "code",
      "source": [
        "Variable_search_tag = 'Requiered_tags'\n",
        "\n",
        "Variable_search_tag = 'Additionnal_tags'\n",
        "\n",
        "# Please look first which tag you want to search INTO the database\n",
        "# A tag \"F/F\" won't exist in the Additionnal_tags"
      ],
      "metadata": {
        "id": "uPZY4q_Kf1AY"
      },
      "execution_count": 47,
      "outputs": []
    },
    {
      "cell_type": "code",
      "source": [
        "base2 = base1\n",
        "random_page = (random.randint(0,len(base2)))\n",
        "print(random_page)\n",
        "base2['Additionnal_tags'][random_page]\n",
        "\n",
        "# If you want to look at a specific tag"
      ],
      "metadata": {
        "id": "fyFY5LtjjH7B",
        "colab": {
          "base_uri": "https://localhost:8080/",
          "height": 73
        },
        "outputId": "c53a5430-ad2a-4a49-abfb-fc1dec876642"
      },
      "execution_count": 48,
      "outputs": [
        {
          "output_type": "stream",
          "name": "stdout",
          "text": [
            "108\n"
          ]
        },
        {
          "output_type": "execute_result",
          "data": {
            "text/plain": [
              "'|Creator Chose Not To Use Archive WarningsBilly Hargrove & Maxine \"Max\" MayfieldBilly Hargrove Maxine \"Max\" MayfieldDrabble Witness Protection they could\\'ve been siblings No Dialogue Not Beta Read|'"
            ],
            "application/vnd.google.colaboratory.intrinsic+json": {
              "type": "string"
            }
          },
          "metadata": {},
          "execution_count": 48
        }
      ]
    },
    {
      "cell_type": "markdown",
      "source": [
        "So what we doing here is using the *find* function, the output is the placement of the caracter we searching, or at least the beginning.\n",
        "But, if the caracter or the string of caracter doesn't exist the output is \"-1\" .\n",
        "We using it to find the tag in our variable."
      ],
      "metadata": {
        "id": "L2ZVw0gvgHE7"
      }
    },
    {
      "cell_type": "code",
      "source": [
        "def find_tag(full_tag,tag):\n",
        "  tag_here = full_tag.find(tag)\n",
        "  if tag_here != -1:\n",
        "    tag_present = \"tag is present\"\n",
        "  else:\n",
        "    tag_present = \"tag isn't present\"\n",
        "  # print(tag_present)\n",
        "  tag_present_2.append(str(tag_present))\n",
        "\n",
        "# And we append the tag is present or not and place it in \"tag_present_2\""
      ],
      "metadata": {
        "id": "myI95McnRnCV"
      },
      "execution_count": 49,
      "outputs": []
    },
    {
      "cell_type": "code",
      "source": [
        "tag_present_2 = []\n",
        "for i in range(len(base1[Variable_search_tag])):\n",
        "  find_tag(base1[Variable_search_tag][i],tag_search)"
      ],
      "metadata": {
        "id": "PG5gSu_rdFwk"
      },
      "execution_count": 50,
      "outputs": []
    },
    {
      "cell_type": "code",
      "source": [
        "tag_present_3 = \"tag_present_\" + tag_search"
      ],
      "metadata": {
        "id": "FsbZhnk5hl4u"
      },
      "execution_count": 51,
      "outputs": []
    },
    {
      "cell_type": "code",
      "source": [
        "base_tag = base1\n",
        "base_tag[tag_present_3] = tag_present_2\n",
        "base_tag\n",
        "\n",
        "# Please note that it's add to the database\n",
        "# If you did a first search on a tag and then search for another it will stay on the data base"
      ],
      "metadata": {
        "id": "-_n7kXNFiVob",
        "colab": {
          "base_uri": "https://localhost:8080/",
          "height": 1000
        },
        "outputId": "bff50acd-990f-44ff-a7c6-520d49649e05"
      },
      "execution_count": 52,
      "outputs": [
        {
          "output_type": "execute_result",
          "data": {
            "text/plain": [
              "      Index_page        ID Date_publication  \\\n",
              "0              1  44157319       2023-02-02   \n",
              "1              1  44733832       2023-02-02   \n",
              "2              1  21311245       2023-02-02   \n",
              "3              1  44511886       2023-02-02   \n",
              "4              1  43212331       2023-02-02   \n",
              "...          ...       ...              ...   \n",
              "1995         100  44318299       2023-01-22   \n",
              "1996         100  40882788       2023-01-22   \n",
              "1997         100  44463469       2023-01-22   \n",
              "1998         100  44462842       2023-01-22   \n",
              "1999         100  40308990       2023-01-22   \n",
              "\n",
              "                                       Title_and_author Language_of_the_work  \\\n",
              "0                    Harringrove Stuff by wrecked_fuse               English   \n",
              "1      The Past, The Future and The Present by Sodap...              English   \n",
              "2      Like Magnets by Pondermoniums  for wrecked_fuse               English   \n",
              "3                   Be Patient by TATAMONIQUELAGINETTE               English   \n",
              "4      Midnight (Belongs to You and Me) by Polkadotd...              English   \n",
              "...                                                 ...                  ...   \n",
              "1995   something happens and i'm head over heels by ...              English   \n",
              "1996                Love of a Lifetime by dibidibidani               English   \n",
              "1997                  Home by the Sea by WreakingHavok               English   \n",
              "1998            Asking You to Love Me by chattrekisses               English   \n",
              "1999   hum along 'til the feelings gone, forever by ...              English   \n",
              "\n",
              "        Word Chapter    Hits  \\\n",
              "0          0   60/60  111004   \n",
              "1      2,278     1/2       0   \n",
              "2     25,522    18/?    7588   \n",
              "3      2,395     1/1       0   \n",
              "4     24,448     4/?    1254   \n",
              "...      ...     ...     ...   \n",
              "1995  12,694     5/?    1063   \n",
              "1996  19,053     7/?     667   \n",
              "1997  11,716     4/5    1965   \n",
              "1998  22,397     1/1    1999   \n",
              "1999  22,012     4/4    2758   \n",
              "\n",
              "                                         Requiered_tags  \\\n",
              "0     | Explicit| Choose Not To Use Archive Warnings...   \n",
              "1     | Explicit| Underage| M/M, Multi| Work in Prog...   \n",
              "2     | Teen And Up Audiences| No Archive Warnings A...   \n",
              "3     | Explicit| No Archive Warnings Apply| F/F| Co...   \n",
              "4     | Explicit| Choose Not To Use Archive Warnings...   \n",
              "...                                                 ...   \n",
              "1995  | Explicit| Choose Not To Use Archive Warnings...   \n",
              "1996  | Teen And Up Audiences| No Archive Warnings A...   \n",
              "1997  | General Audiences| Choose Not To Use Archive...   \n",
              "1998  | Explicit| No Archive Warnings Apply| M/M| Co...   \n",
              "1999  | Explicit| Choose Not To Use Archive Warnings...   \n",
              "\n",
              "                                       Additionnal_tags  \\\n",
              "0     |Creator Chose Not To Use Archive Warnings No ...   \n",
              "1     |UnderageWill Byers/Mike Wheeler Mike Wheeler/...   \n",
              "2     |No Archive Warnings ApplyBilly Hargrove/Steve...   \n",
              "3     |No Archive Warnings ApplyRobin Buckley/Nancy ...   \n",
              "4     |Creator Chose Not To Use Archive WarningsChri...   \n",
              "...                                                 ...   \n",
              "1995  |Creator Chose Not To Use Archive WarningsStev...   \n",
              "1996  |No Archive Warnings ApplyChrissy Cunningham/E...   \n",
              "1997  |Creator Chose Not To Use Archive WarningsWill...   \n",
              "1998  |No Archive Warnings ApplySteve Harrington/Edd...   \n",
              "1999  |Creator Chose Not To Use Archive WarningsStev...   \n",
              "\n",
              "                                                  Month tag_present_Will Byers  \n",
              "0     0       2\\n1       2\\n2       2\\n3       2\\n4 ...      tag isn't present  \n",
              "1     0       2\\n1       2\\n2       2\\n3       2\\n4 ...         tag is present  \n",
              "2     0       2\\n1       2\\n2       2\\n3       2\\n4 ...      tag isn't present  \n",
              "3     0       2\\n1       2\\n2       2\\n3       2\\n4 ...      tag isn't present  \n",
              "4     0       2\\n1       2\\n2       2\\n3       2\\n4 ...      tag isn't present  \n",
              "...                                                 ...                    ...  \n",
              "1995  0       2\\n1       2\\n2       2\\n3       2\\n4 ...         tag is present  \n",
              "1996  0       2\\n1       2\\n2       2\\n3       2\\n4 ...      tag isn't present  \n",
              "1997  0       2\\n1       2\\n2       2\\n3       2\\n4 ...         tag is present  \n",
              "1998  0       2\\n1       2\\n2       2\\n3       2\\n4 ...         tag is present  \n",
              "1999  0       2\\n1       2\\n2       2\\n3       2\\n4 ...         tag is present  \n",
              "\n",
              "[2000 rows x 12 columns]"
            ],
            "text/html": [
              "\n",
              "  <div id=\"df-7ccaa79a-b910-4de4-b953-2b31654007a0\">\n",
              "    <div class=\"colab-df-container\">\n",
              "      <div>\n",
              "<style scoped>\n",
              "    .dataframe tbody tr th:only-of-type {\n",
              "        vertical-align: middle;\n",
              "    }\n",
              "\n",
              "    .dataframe tbody tr th {\n",
              "        vertical-align: top;\n",
              "    }\n",
              "\n",
              "    .dataframe thead th {\n",
              "        text-align: right;\n",
              "    }\n",
              "</style>\n",
              "<table border=\"1\" class=\"dataframe\">\n",
              "  <thead>\n",
              "    <tr style=\"text-align: right;\">\n",
              "      <th></th>\n",
              "      <th>Index_page</th>\n",
              "      <th>ID</th>\n",
              "      <th>Date_publication</th>\n",
              "      <th>Title_and_author</th>\n",
              "      <th>Language_of_the_work</th>\n",
              "      <th>Word</th>\n",
              "      <th>Chapter</th>\n",
              "      <th>Hits</th>\n",
              "      <th>Requiered_tags</th>\n",
              "      <th>Additionnal_tags</th>\n",
              "      <th>Month</th>\n",
              "      <th>tag_present_Will Byers</th>\n",
              "    </tr>\n",
              "  </thead>\n",
              "  <tbody>\n",
              "    <tr>\n",
              "      <th>0</th>\n",
              "      <td>1</td>\n",
              "      <td>44157319</td>\n",
              "      <td>2023-02-02</td>\n",
              "      <td>Harringrove Stuff by wrecked_fuse</td>\n",
              "      <td>English</td>\n",
              "      <td>0</td>\n",
              "      <td>60/60</td>\n",
              "      <td>111004</td>\n",
              "      <td>| Explicit| Choose Not To Use Archive Warnings...</td>\n",
              "      <td>|Creator Chose Not To Use Archive Warnings No ...</td>\n",
              "      <td>0       2\\n1       2\\n2       2\\n3       2\\n4 ...</td>\n",
              "      <td>tag isn't present</td>\n",
              "    </tr>\n",
              "    <tr>\n",
              "      <th>1</th>\n",
              "      <td>1</td>\n",
              "      <td>44733832</td>\n",
              "      <td>2023-02-02</td>\n",
              "      <td>The Past, The Future and The Present by Sodap...</td>\n",
              "      <td>English</td>\n",
              "      <td>2,278</td>\n",
              "      <td>1/2</td>\n",
              "      <td>0</td>\n",
              "      <td>| Explicit| Underage| M/M, Multi| Work in Prog...</td>\n",
              "      <td>|UnderageWill Byers/Mike Wheeler Mike Wheeler/...</td>\n",
              "      <td>0       2\\n1       2\\n2       2\\n3       2\\n4 ...</td>\n",
              "      <td>tag is present</td>\n",
              "    </tr>\n",
              "    <tr>\n",
              "      <th>2</th>\n",
              "      <td>1</td>\n",
              "      <td>21311245</td>\n",
              "      <td>2023-02-02</td>\n",
              "      <td>Like Magnets by Pondermoniums  for wrecked_fuse</td>\n",
              "      <td>English</td>\n",
              "      <td>25,522</td>\n",
              "      <td>18/?</td>\n",
              "      <td>7588</td>\n",
              "      <td>| Teen And Up Audiences| No Archive Warnings A...</td>\n",
              "      <td>|No Archive Warnings ApplyBilly Hargrove/Steve...</td>\n",
              "      <td>0       2\\n1       2\\n2       2\\n3       2\\n4 ...</td>\n",
              "      <td>tag isn't present</td>\n",
              "    </tr>\n",
              "    <tr>\n",
              "      <th>3</th>\n",
              "      <td>1</td>\n",
              "      <td>44511886</td>\n",
              "      <td>2023-02-02</td>\n",
              "      <td>Be Patient by TATAMONIQUELAGINETTE</td>\n",
              "      <td>English</td>\n",
              "      <td>2,395</td>\n",
              "      <td>1/1</td>\n",
              "      <td>0</td>\n",
              "      <td>| Explicit| No Archive Warnings Apply| F/F| Co...</td>\n",
              "      <td>|No Archive Warnings ApplyRobin Buckley/Nancy ...</td>\n",
              "      <td>0       2\\n1       2\\n2       2\\n3       2\\n4 ...</td>\n",
              "      <td>tag isn't present</td>\n",
              "    </tr>\n",
              "    <tr>\n",
              "      <th>4</th>\n",
              "      <td>1</td>\n",
              "      <td>43212331</td>\n",
              "      <td>2023-02-02</td>\n",
              "      <td>Midnight (Belongs to You and Me) by Polkadotd...</td>\n",
              "      <td>English</td>\n",
              "      <td>24,448</td>\n",
              "      <td>4/?</td>\n",
              "      <td>1254</td>\n",
              "      <td>| Explicit| Choose Not To Use Archive Warnings...</td>\n",
              "      <td>|Creator Chose Not To Use Archive WarningsChri...</td>\n",
              "      <td>0       2\\n1       2\\n2       2\\n3       2\\n4 ...</td>\n",
              "      <td>tag isn't present</td>\n",
              "    </tr>\n",
              "    <tr>\n",
              "      <th>...</th>\n",
              "      <td>...</td>\n",
              "      <td>...</td>\n",
              "      <td>...</td>\n",
              "      <td>...</td>\n",
              "      <td>...</td>\n",
              "      <td>...</td>\n",
              "      <td>...</td>\n",
              "      <td>...</td>\n",
              "      <td>...</td>\n",
              "      <td>...</td>\n",
              "      <td>...</td>\n",
              "      <td>...</td>\n",
              "    </tr>\n",
              "    <tr>\n",
              "      <th>1995</th>\n",
              "      <td>100</td>\n",
              "      <td>44318299</td>\n",
              "      <td>2023-01-22</td>\n",
              "      <td>something happens and i'm head over heels by ...</td>\n",
              "      <td>English</td>\n",
              "      <td>12,694</td>\n",
              "      <td>5/?</td>\n",
              "      <td>1063</td>\n",
              "      <td>| Explicit| Choose Not To Use Archive Warnings...</td>\n",
              "      <td>|Creator Chose Not To Use Archive WarningsStev...</td>\n",
              "      <td>0       2\\n1       2\\n2       2\\n3       2\\n4 ...</td>\n",
              "      <td>tag is present</td>\n",
              "    </tr>\n",
              "    <tr>\n",
              "      <th>1996</th>\n",
              "      <td>100</td>\n",
              "      <td>40882788</td>\n",
              "      <td>2023-01-22</td>\n",
              "      <td>Love of a Lifetime by dibidibidani</td>\n",
              "      <td>English</td>\n",
              "      <td>19,053</td>\n",
              "      <td>7/?</td>\n",
              "      <td>667</td>\n",
              "      <td>| Teen And Up Audiences| No Archive Warnings A...</td>\n",
              "      <td>|No Archive Warnings ApplyChrissy Cunningham/E...</td>\n",
              "      <td>0       2\\n1       2\\n2       2\\n3       2\\n4 ...</td>\n",
              "      <td>tag isn't present</td>\n",
              "    </tr>\n",
              "    <tr>\n",
              "      <th>1997</th>\n",
              "      <td>100</td>\n",
              "      <td>44463469</td>\n",
              "      <td>2023-01-22</td>\n",
              "      <td>Home by the Sea by WreakingHavok</td>\n",
              "      <td>English</td>\n",
              "      <td>11,716</td>\n",
              "      <td>4/5</td>\n",
              "      <td>1965</td>\n",
              "      <td>| General Audiences| Choose Not To Use Archive...</td>\n",
              "      <td>|Creator Chose Not To Use Archive WarningsWill...</td>\n",
              "      <td>0       2\\n1       2\\n2       2\\n3       2\\n4 ...</td>\n",
              "      <td>tag is present</td>\n",
              "    </tr>\n",
              "    <tr>\n",
              "      <th>1998</th>\n",
              "      <td>100</td>\n",
              "      <td>44462842</td>\n",
              "      <td>2023-01-22</td>\n",
              "      <td>Asking You to Love Me by chattrekisses</td>\n",
              "      <td>English</td>\n",
              "      <td>22,397</td>\n",
              "      <td>1/1</td>\n",
              "      <td>1999</td>\n",
              "      <td>| Explicit| No Archive Warnings Apply| M/M| Co...</td>\n",
              "      <td>|No Archive Warnings ApplySteve Harrington/Edd...</td>\n",
              "      <td>0       2\\n1       2\\n2       2\\n3       2\\n4 ...</td>\n",
              "      <td>tag is present</td>\n",
              "    </tr>\n",
              "    <tr>\n",
              "      <th>1999</th>\n",
              "      <td>100</td>\n",
              "      <td>40308990</td>\n",
              "      <td>2023-01-22</td>\n",
              "      <td>hum along 'til the feelings gone, forever by ...</td>\n",
              "      <td>English</td>\n",
              "      <td>22,012</td>\n",
              "      <td>4/4</td>\n",
              "      <td>2758</td>\n",
              "      <td>| Explicit| Choose Not To Use Archive Warnings...</td>\n",
              "      <td>|Creator Chose Not To Use Archive WarningsStev...</td>\n",
              "      <td>0       2\\n1       2\\n2       2\\n3       2\\n4 ...</td>\n",
              "      <td>tag is present</td>\n",
              "    </tr>\n",
              "  </tbody>\n",
              "</table>\n",
              "<p>2000 rows × 12 columns</p>\n",
              "</div>\n",
              "      <button class=\"colab-df-convert\" onclick=\"convertToInteractive('df-7ccaa79a-b910-4de4-b953-2b31654007a0')\"\n",
              "              title=\"Convert this dataframe to an interactive table.\"\n",
              "              style=\"display:none;\">\n",
              "        \n",
              "  <svg xmlns=\"http://www.w3.org/2000/svg\" height=\"24px\"viewBox=\"0 0 24 24\"\n",
              "       width=\"24px\">\n",
              "    <path d=\"M0 0h24v24H0V0z\" fill=\"none\"/>\n",
              "    <path d=\"M18.56 5.44l.94 2.06.94-2.06 2.06-.94-2.06-.94-.94-2.06-.94 2.06-2.06.94zm-11 1L8.5 8.5l.94-2.06 2.06-.94-2.06-.94L8.5 2.5l-.94 2.06-2.06.94zm10 10l.94 2.06.94-2.06 2.06-.94-2.06-.94-.94-2.06-.94 2.06-2.06.94z\"/><path d=\"M17.41 7.96l-1.37-1.37c-.4-.4-.92-.59-1.43-.59-.52 0-1.04.2-1.43.59L10.3 9.45l-7.72 7.72c-.78.78-.78 2.05 0 2.83L4 21.41c.39.39.9.59 1.41.59.51 0 1.02-.2 1.41-.59l7.78-7.78 2.81-2.81c.8-.78.8-2.07 0-2.86zM5.41 20L4 18.59l7.72-7.72 1.47 1.35L5.41 20z\"/>\n",
              "  </svg>\n",
              "      </button>\n",
              "      \n",
              "  <style>\n",
              "    .colab-df-container {\n",
              "      display:flex;\n",
              "      flex-wrap:wrap;\n",
              "      gap: 12px;\n",
              "    }\n",
              "\n",
              "    .colab-df-convert {\n",
              "      background-color: #E8F0FE;\n",
              "      border: none;\n",
              "      border-radius: 50%;\n",
              "      cursor: pointer;\n",
              "      display: none;\n",
              "      fill: #1967D2;\n",
              "      height: 32px;\n",
              "      padding: 0 0 0 0;\n",
              "      width: 32px;\n",
              "    }\n",
              "\n",
              "    .colab-df-convert:hover {\n",
              "      background-color: #E2EBFA;\n",
              "      box-shadow: 0px 1px 2px rgba(60, 64, 67, 0.3), 0px 1px 3px 1px rgba(60, 64, 67, 0.15);\n",
              "      fill: #174EA6;\n",
              "    }\n",
              "\n",
              "    [theme=dark] .colab-df-convert {\n",
              "      background-color: #3B4455;\n",
              "      fill: #D2E3FC;\n",
              "    }\n",
              "\n",
              "    [theme=dark] .colab-df-convert:hover {\n",
              "      background-color: #434B5C;\n",
              "      box-shadow: 0px 1px 3px 1px rgba(0, 0, 0, 0.15);\n",
              "      filter: drop-shadow(0px 1px 2px rgba(0, 0, 0, 0.3));\n",
              "      fill: #FFFFFF;\n",
              "    }\n",
              "  </style>\n",
              "\n",
              "      <script>\n",
              "        const buttonEl =\n",
              "          document.querySelector('#df-7ccaa79a-b910-4de4-b953-2b31654007a0 button.colab-df-convert');\n",
              "        buttonEl.style.display =\n",
              "          google.colab.kernel.accessAllowed ? 'block' : 'none';\n",
              "\n",
              "        async function convertToInteractive(key) {\n",
              "          const element = document.querySelector('#df-7ccaa79a-b910-4de4-b953-2b31654007a0');\n",
              "          const dataTable =\n",
              "            await google.colab.kernel.invokeFunction('convertToInteractive',\n",
              "                                                     [key], {});\n",
              "          if (!dataTable) return;\n",
              "\n",
              "          const docLinkHtml = 'Like what you see? Visit the ' +\n",
              "            '<a target=\"_blank\" href=https://colab.research.google.com/notebooks/data_table.ipynb>data table notebook</a>'\n",
              "            + ' to learn more about interactive tables.';\n",
              "          element.innerHTML = '';\n",
              "          dataTable['output_type'] = 'display_data';\n",
              "          await google.colab.output.renderOutput(dataTable, element);\n",
              "          const docLink = document.createElement('div');\n",
              "          docLink.innerHTML = docLinkHtml;\n",
              "          element.appendChild(docLink);\n",
              "        }\n",
              "      </script>\n",
              "    </div>\n",
              "  </div>\n",
              "  "
            ]
          },
          "metadata": {},
          "execution_count": 52
        }
      ]
    },
    {
      "cell_type": "code",
      "source": [
        "'''\n",
        "Clean the database from the \"Tag is present\" variables\n",
        "'''\n",
        "\n",
        "drop_col = []\n",
        "for i in range(11,len(base_tag.columns)):\n",
        "  drop_col.append(base_tag.columns[i])\n",
        "base_tag.drop(columns = drop_col)"
      ],
      "metadata": {
        "id": "laIrqegvPFfy",
        "colab": {
          "base_uri": "https://localhost:8080/",
          "height": 989
        },
        "outputId": "9dce0c2e-db20-4be9-ac0d-239921b9a65e"
      },
      "execution_count": 53,
      "outputs": [
        {
          "output_type": "execute_result",
          "data": {
            "text/plain": [
              "      Index_page        ID Date_publication  \\\n",
              "0              1  44157319       2023-02-02   \n",
              "1              1  44733832       2023-02-02   \n",
              "2              1  21311245       2023-02-02   \n",
              "3              1  44511886       2023-02-02   \n",
              "4              1  43212331       2023-02-02   \n",
              "...          ...       ...              ...   \n",
              "1995         100  44318299       2023-01-22   \n",
              "1996         100  40882788       2023-01-22   \n",
              "1997         100  44463469       2023-01-22   \n",
              "1998         100  44462842       2023-01-22   \n",
              "1999         100  40308990       2023-01-22   \n",
              "\n",
              "                                       Title_and_author Language_of_the_work  \\\n",
              "0                    Harringrove Stuff by wrecked_fuse               English   \n",
              "1      The Past, The Future and The Present by Sodap...              English   \n",
              "2      Like Magnets by Pondermoniums  for wrecked_fuse               English   \n",
              "3                   Be Patient by TATAMONIQUELAGINETTE               English   \n",
              "4      Midnight (Belongs to You and Me) by Polkadotd...              English   \n",
              "...                                                 ...                  ...   \n",
              "1995   something happens and i'm head over heels by ...              English   \n",
              "1996                Love of a Lifetime by dibidibidani               English   \n",
              "1997                  Home by the Sea by WreakingHavok               English   \n",
              "1998            Asking You to Love Me by chattrekisses               English   \n",
              "1999   hum along 'til the feelings gone, forever by ...              English   \n",
              "\n",
              "        Word Chapter    Hits  \\\n",
              "0          0   60/60  111004   \n",
              "1      2,278     1/2       0   \n",
              "2     25,522    18/?    7588   \n",
              "3      2,395     1/1       0   \n",
              "4     24,448     4/?    1254   \n",
              "...      ...     ...     ...   \n",
              "1995  12,694     5/?    1063   \n",
              "1996  19,053     7/?     667   \n",
              "1997  11,716     4/5    1965   \n",
              "1998  22,397     1/1    1999   \n",
              "1999  22,012     4/4    2758   \n",
              "\n",
              "                                         Requiered_tags  \\\n",
              "0     | Explicit| Choose Not To Use Archive Warnings...   \n",
              "1     | Explicit| Underage| M/M, Multi| Work in Prog...   \n",
              "2     | Teen And Up Audiences| No Archive Warnings A...   \n",
              "3     | Explicit| No Archive Warnings Apply| F/F| Co...   \n",
              "4     | Explicit| Choose Not To Use Archive Warnings...   \n",
              "...                                                 ...   \n",
              "1995  | Explicit| Choose Not To Use Archive Warnings...   \n",
              "1996  | Teen And Up Audiences| No Archive Warnings A...   \n",
              "1997  | General Audiences| Choose Not To Use Archive...   \n",
              "1998  | Explicit| No Archive Warnings Apply| M/M| Co...   \n",
              "1999  | Explicit| Choose Not To Use Archive Warnings...   \n",
              "\n",
              "                                       Additionnal_tags  \\\n",
              "0     |Creator Chose Not To Use Archive Warnings No ...   \n",
              "1     |UnderageWill Byers/Mike Wheeler Mike Wheeler/...   \n",
              "2     |No Archive Warnings ApplyBilly Hargrove/Steve...   \n",
              "3     |No Archive Warnings ApplyRobin Buckley/Nancy ...   \n",
              "4     |Creator Chose Not To Use Archive WarningsChri...   \n",
              "...                                                 ...   \n",
              "1995  |Creator Chose Not To Use Archive WarningsStev...   \n",
              "1996  |No Archive Warnings ApplyChrissy Cunningham/E...   \n",
              "1997  |Creator Chose Not To Use Archive WarningsWill...   \n",
              "1998  |No Archive Warnings ApplySteve Harrington/Edd...   \n",
              "1999  |Creator Chose Not To Use Archive WarningsStev...   \n",
              "\n",
              "                                                  Month  \n",
              "0     0       2\\n1       2\\n2       2\\n3       2\\n4 ...  \n",
              "1     0       2\\n1       2\\n2       2\\n3       2\\n4 ...  \n",
              "2     0       2\\n1       2\\n2       2\\n3       2\\n4 ...  \n",
              "3     0       2\\n1       2\\n2       2\\n3       2\\n4 ...  \n",
              "4     0       2\\n1       2\\n2       2\\n3       2\\n4 ...  \n",
              "...                                                 ...  \n",
              "1995  0       2\\n1       2\\n2       2\\n3       2\\n4 ...  \n",
              "1996  0       2\\n1       2\\n2       2\\n3       2\\n4 ...  \n",
              "1997  0       2\\n1       2\\n2       2\\n3       2\\n4 ...  \n",
              "1998  0       2\\n1       2\\n2       2\\n3       2\\n4 ...  \n",
              "1999  0       2\\n1       2\\n2       2\\n3       2\\n4 ...  \n",
              "\n",
              "[2000 rows x 11 columns]"
            ],
            "text/html": [
              "\n",
              "  <div id=\"df-c91c616f-fc27-4503-9e0b-5979996ae5b6\">\n",
              "    <div class=\"colab-df-container\">\n",
              "      <div>\n",
              "<style scoped>\n",
              "    .dataframe tbody tr th:only-of-type {\n",
              "        vertical-align: middle;\n",
              "    }\n",
              "\n",
              "    .dataframe tbody tr th {\n",
              "        vertical-align: top;\n",
              "    }\n",
              "\n",
              "    .dataframe thead th {\n",
              "        text-align: right;\n",
              "    }\n",
              "</style>\n",
              "<table border=\"1\" class=\"dataframe\">\n",
              "  <thead>\n",
              "    <tr style=\"text-align: right;\">\n",
              "      <th></th>\n",
              "      <th>Index_page</th>\n",
              "      <th>ID</th>\n",
              "      <th>Date_publication</th>\n",
              "      <th>Title_and_author</th>\n",
              "      <th>Language_of_the_work</th>\n",
              "      <th>Word</th>\n",
              "      <th>Chapter</th>\n",
              "      <th>Hits</th>\n",
              "      <th>Requiered_tags</th>\n",
              "      <th>Additionnal_tags</th>\n",
              "      <th>Month</th>\n",
              "    </tr>\n",
              "  </thead>\n",
              "  <tbody>\n",
              "    <tr>\n",
              "      <th>0</th>\n",
              "      <td>1</td>\n",
              "      <td>44157319</td>\n",
              "      <td>2023-02-02</td>\n",
              "      <td>Harringrove Stuff by wrecked_fuse</td>\n",
              "      <td>English</td>\n",
              "      <td>0</td>\n",
              "      <td>60/60</td>\n",
              "      <td>111004</td>\n",
              "      <td>| Explicit| Choose Not To Use Archive Warnings...</td>\n",
              "      <td>|Creator Chose Not To Use Archive Warnings No ...</td>\n",
              "      <td>0       2\\n1       2\\n2       2\\n3       2\\n4 ...</td>\n",
              "    </tr>\n",
              "    <tr>\n",
              "      <th>1</th>\n",
              "      <td>1</td>\n",
              "      <td>44733832</td>\n",
              "      <td>2023-02-02</td>\n",
              "      <td>The Past, The Future and The Present by Sodap...</td>\n",
              "      <td>English</td>\n",
              "      <td>2,278</td>\n",
              "      <td>1/2</td>\n",
              "      <td>0</td>\n",
              "      <td>| Explicit| Underage| M/M, Multi| Work in Prog...</td>\n",
              "      <td>|UnderageWill Byers/Mike Wheeler Mike Wheeler/...</td>\n",
              "      <td>0       2\\n1       2\\n2       2\\n3       2\\n4 ...</td>\n",
              "    </tr>\n",
              "    <tr>\n",
              "      <th>2</th>\n",
              "      <td>1</td>\n",
              "      <td>21311245</td>\n",
              "      <td>2023-02-02</td>\n",
              "      <td>Like Magnets by Pondermoniums  for wrecked_fuse</td>\n",
              "      <td>English</td>\n",
              "      <td>25,522</td>\n",
              "      <td>18/?</td>\n",
              "      <td>7588</td>\n",
              "      <td>| Teen And Up Audiences| No Archive Warnings A...</td>\n",
              "      <td>|No Archive Warnings ApplyBilly Hargrove/Steve...</td>\n",
              "      <td>0       2\\n1       2\\n2       2\\n3       2\\n4 ...</td>\n",
              "    </tr>\n",
              "    <tr>\n",
              "      <th>3</th>\n",
              "      <td>1</td>\n",
              "      <td>44511886</td>\n",
              "      <td>2023-02-02</td>\n",
              "      <td>Be Patient by TATAMONIQUELAGINETTE</td>\n",
              "      <td>English</td>\n",
              "      <td>2,395</td>\n",
              "      <td>1/1</td>\n",
              "      <td>0</td>\n",
              "      <td>| Explicit| No Archive Warnings Apply| F/F| Co...</td>\n",
              "      <td>|No Archive Warnings ApplyRobin Buckley/Nancy ...</td>\n",
              "      <td>0       2\\n1       2\\n2       2\\n3       2\\n4 ...</td>\n",
              "    </tr>\n",
              "    <tr>\n",
              "      <th>4</th>\n",
              "      <td>1</td>\n",
              "      <td>43212331</td>\n",
              "      <td>2023-02-02</td>\n",
              "      <td>Midnight (Belongs to You and Me) by Polkadotd...</td>\n",
              "      <td>English</td>\n",
              "      <td>24,448</td>\n",
              "      <td>4/?</td>\n",
              "      <td>1254</td>\n",
              "      <td>| Explicit| Choose Not To Use Archive Warnings...</td>\n",
              "      <td>|Creator Chose Not To Use Archive WarningsChri...</td>\n",
              "      <td>0       2\\n1       2\\n2       2\\n3       2\\n4 ...</td>\n",
              "    </tr>\n",
              "    <tr>\n",
              "      <th>...</th>\n",
              "      <td>...</td>\n",
              "      <td>...</td>\n",
              "      <td>...</td>\n",
              "      <td>...</td>\n",
              "      <td>...</td>\n",
              "      <td>...</td>\n",
              "      <td>...</td>\n",
              "      <td>...</td>\n",
              "      <td>...</td>\n",
              "      <td>...</td>\n",
              "      <td>...</td>\n",
              "    </tr>\n",
              "    <tr>\n",
              "      <th>1995</th>\n",
              "      <td>100</td>\n",
              "      <td>44318299</td>\n",
              "      <td>2023-01-22</td>\n",
              "      <td>something happens and i'm head over heels by ...</td>\n",
              "      <td>English</td>\n",
              "      <td>12,694</td>\n",
              "      <td>5/?</td>\n",
              "      <td>1063</td>\n",
              "      <td>| Explicit| Choose Not To Use Archive Warnings...</td>\n",
              "      <td>|Creator Chose Not To Use Archive WarningsStev...</td>\n",
              "      <td>0       2\\n1       2\\n2       2\\n3       2\\n4 ...</td>\n",
              "    </tr>\n",
              "    <tr>\n",
              "      <th>1996</th>\n",
              "      <td>100</td>\n",
              "      <td>40882788</td>\n",
              "      <td>2023-01-22</td>\n",
              "      <td>Love of a Lifetime by dibidibidani</td>\n",
              "      <td>English</td>\n",
              "      <td>19,053</td>\n",
              "      <td>7/?</td>\n",
              "      <td>667</td>\n",
              "      <td>| Teen And Up Audiences| No Archive Warnings A...</td>\n",
              "      <td>|No Archive Warnings ApplyChrissy Cunningham/E...</td>\n",
              "      <td>0       2\\n1       2\\n2       2\\n3       2\\n4 ...</td>\n",
              "    </tr>\n",
              "    <tr>\n",
              "      <th>1997</th>\n",
              "      <td>100</td>\n",
              "      <td>44463469</td>\n",
              "      <td>2023-01-22</td>\n",
              "      <td>Home by the Sea by WreakingHavok</td>\n",
              "      <td>English</td>\n",
              "      <td>11,716</td>\n",
              "      <td>4/5</td>\n",
              "      <td>1965</td>\n",
              "      <td>| General Audiences| Choose Not To Use Archive...</td>\n",
              "      <td>|Creator Chose Not To Use Archive WarningsWill...</td>\n",
              "      <td>0       2\\n1       2\\n2       2\\n3       2\\n4 ...</td>\n",
              "    </tr>\n",
              "    <tr>\n",
              "      <th>1998</th>\n",
              "      <td>100</td>\n",
              "      <td>44462842</td>\n",
              "      <td>2023-01-22</td>\n",
              "      <td>Asking You to Love Me by chattrekisses</td>\n",
              "      <td>English</td>\n",
              "      <td>22,397</td>\n",
              "      <td>1/1</td>\n",
              "      <td>1999</td>\n",
              "      <td>| Explicit| No Archive Warnings Apply| M/M| Co...</td>\n",
              "      <td>|No Archive Warnings ApplySteve Harrington/Edd...</td>\n",
              "      <td>0       2\\n1       2\\n2       2\\n3       2\\n4 ...</td>\n",
              "    </tr>\n",
              "    <tr>\n",
              "      <th>1999</th>\n",
              "      <td>100</td>\n",
              "      <td>40308990</td>\n",
              "      <td>2023-01-22</td>\n",
              "      <td>hum along 'til the feelings gone, forever by ...</td>\n",
              "      <td>English</td>\n",
              "      <td>22,012</td>\n",
              "      <td>4/4</td>\n",
              "      <td>2758</td>\n",
              "      <td>| Explicit| Choose Not To Use Archive Warnings...</td>\n",
              "      <td>|Creator Chose Not To Use Archive WarningsStev...</td>\n",
              "      <td>0       2\\n1       2\\n2       2\\n3       2\\n4 ...</td>\n",
              "    </tr>\n",
              "  </tbody>\n",
              "</table>\n",
              "<p>2000 rows × 11 columns</p>\n",
              "</div>\n",
              "      <button class=\"colab-df-convert\" onclick=\"convertToInteractive('df-c91c616f-fc27-4503-9e0b-5979996ae5b6')\"\n",
              "              title=\"Convert this dataframe to an interactive table.\"\n",
              "              style=\"display:none;\">\n",
              "        \n",
              "  <svg xmlns=\"http://www.w3.org/2000/svg\" height=\"24px\"viewBox=\"0 0 24 24\"\n",
              "       width=\"24px\">\n",
              "    <path d=\"M0 0h24v24H0V0z\" fill=\"none\"/>\n",
              "    <path d=\"M18.56 5.44l.94 2.06.94-2.06 2.06-.94-2.06-.94-.94-2.06-.94 2.06-2.06.94zm-11 1L8.5 8.5l.94-2.06 2.06-.94-2.06-.94L8.5 2.5l-.94 2.06-2.06.94zm10 10l.94 2.06.94-2.06 2.06-.94-2.06-.94-.94-2.06-.94 2.06-2.06.94z\"/><path d=\"M17.41 7.96l-1.37-1.37c-.4-.4-.92-.59-1.43-.59-.52 0-1.04.2-1.43.59L10.3 9.45l-7.72 7.72c-.78.78-.78 2.05 0 2.83L4 21.41c.39.39.9.59 1.41.59.51 0 1.02-.2 1.41-.59l7.78-7.78 2.81-2.81c.8-.78.8-2.07 0-2.86zM5.41 20L4 18.59l7.72-7.72 1.47 1.35L5.41 20z\"/>\n",
              "  </svg>\n",
              "      </button>\n",
              "      \n",
              "  <style>\n",
              "    .colab-df-container {\n",
              "      display:flex;\n",
              "      flex-wrap:wrap;\n",
              "      gap: 12px;\n",
              "    }\n",
              "\n",
              "    .colab-df-convert {\n",
              "      background-color: #E8F0FE;\n",
              "      border: none;\n",
              "      border-radius: 50%;\n",
              "      cursor: pointer;\n",
              "      display: none;\n",
              "      fill: #1967D2;\n",
              "      height: 32px;\n",
              "      padding: 0 0 0 0;\n",
              "      width: 32px;\n",
              "    }\n",
              "\n",
              "    .colab-df-convert:hover {\n",
              "      background-color: #E2EBFA;\n",
              "      box-shadow: 0px 1px 2px rgba(60, 64, 67, 0.3), 0px 1px 3px 1px rgba(60, 64, 67, 0.15);\n",
              "      fill: #174EA6;\n",
              "    }\n",
              "\n",
              "    [theme=dark] .colab-df-convert {\n",
              "      background-color: #3B4455;\n",
              "      fill: #D2E3FC;\n",
              "    }\n",
              "\n",
              "    [theme=dark] .colab-df-convert:hover {\n",
              "      background-color: #434B5C;\n",
              "      box-shadow: 0px 1px 3px 1px rgba(0, 0, 0, 0.15);\n",
              "      filter: drop-shadow(0px 1px 2px rgba(0, 0, 0, 0.3));\n",
              "      fill: #FFFFFF;\n",
              "    }\n",
              "  </style>\n",
              "\n",
              "      <script>\n",
              "        const buttonEl =\n",
              "          document.querySelector('#df-c91c616f-fc27-4503-9e0b-5979996ae5b6 button.colab-df-convert');\n",
              "        buttonEl.style.display =\n",
              "          google.colab.kernel.accessAllowed ? 'block' : 'none';\n",
              "\n",
              "        async function convertToInteractive(key) {\n",
              "          const element = document.querySelector('#df-c91c616f-fc27-4503-9e0b-5979996ae5b6');\n",
              "          const dataTable =\n",
              "            await google.colab.kernel.invokeFunction('convertToInteractive',\n",
              "                                                     [key], {});\n",
              "          if (!dataTable) return;\n",
              "\n",
              "          const docLinkHtml = 'Like what you see? Visit the ' +\n",
              "            '<a target=\"_blank\" href=https://colab.research.google.com/notebooks/data_table.ipynb>data table notebook</a>'\n",
              "            + ' to learn more about interactive tables.';\n",
              "          element.innerHTML = '';\n",
              "          dataTable['output_type'] = 'display_data';\n",
              "          await google.colab.output.renderOutput(dataTable, element);\n",
              "          const docLink = document.createElement('div');\n",
              "          docLink.innerHTML = docLinkHtml;\n",
              "          element.appendChild(docLink);\n",
              "        }\n",
              "      </script>\n",
              "    </div>\n",
              "  </div>\n",
              "  "
            ]
          },
          "metadata": {},
          "execution_count": 53
        }
      ]
    },
    {
      "cell_type": "markdown",
      "source": [
        "**Download a DataFrame**"
      ],
      "metadata": {
        "id": "X1e5sxSYWNn4"
      }
    },
    {
      "cell_type": "markdown",
      "source": [
        "Once again I don't know what you want to do but if you want to append a lot of data on big fandom you can't do it in one time."
      ],
      "metadata": {
        "id": "dqoQzPNaWSRM"
      }
    },
    {
      "cell_type": "markdown",
      "source": [
        "If you're insane like me you can download a database 50 page by 50 page, I'm posting another code to how create a full database. (part 3)"
      ],
      "metadata": {
        "id": "BMtn7TKWXU-y"
      }
    },
    {
      "cell_type": "markdown",
      "source": [
        "For exemple, in Stranger Things for today (25/01/2023) the fandom have ~ 63 000 works, around 3126 pages so my insane little brain and I run the code 3126/50 = 62 times then mash up every data."
      ],
      "metadata": {
        "id": "_5NANvvTXfjw"
      }
    },
    {
      "cell_type": "code",
      "source": [
        "base_export = base1\n",
        "Name_base = \"base_page_\" + str(Beginning_Page) + \"_to_\" + str(Number_page) + \".csv\"\n",
        "Name_base"
      ],
      "metadata": {
        "colab": {
          "base_uri": "https://localhost:8080/",
          "height": 36
        },
        "id": "tCG0x5Czfkey",
        "outputId": "0e17fc01-5983-4231-bc1b-c06118a52e4f"
      },
      "execution_count": 54,
      "outputs": [
        {
          "output_type": "execute_result",
          "data": {
            "text/plain": [
              "'base_page_1_to_101.csv'"
            ],
            "application/vnd.google.colaboratory.intrinsic+json": {
              "type": "string"
            }
          },
          "metadata": {},
          "execution_count": 54
        }
      ]
    },
    {
      "cell_type": "code",
      "source": [
        "\"\"\"\n",
        "base_export.to_csv(Name_base) \n",
        "files.download(Name_base)\n",
        "\"\"\"\n",
        "\n",
        "# Take off the quote if you want to download the base"
      ],
      "metadata": {
        "colab": {
          "base_uri": "https://localhost:8080/",
          "height": 36
        },
        "id": "LLsDnkvygooQ",
        "outputId": "a2a58962-312d-4252-9ced-4919b38cf709"
      },
      "execution_count": 55,
      "outputs": [
        {
          "output_type": "execute_result",
          "data": {
            "text/plain": [
              "'\\nbase_export.to_csv(Name_base) \\nfiles.download(Name_base)\\n'"
            ],
            "application/vnd.google.colaboratory.intrinsic+json": {
              "type": "string"
            }
          },
          "metadata": {},
          "execution_count": 55
        }
      ]
    },
    {
      "cell_type": "markdown",
      "source": [
        "Thanks for reading my little comment hope this code helped you in anyway."
      ],
      "metadata": {
        "id": "9DoPxwA5mNvb"
      }
    }
  ]
}